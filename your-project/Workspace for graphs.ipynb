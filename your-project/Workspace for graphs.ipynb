{
 "cells": [
  {
   "cell_type": "markdown",
   "metadata": {},
   "source": [
    "# First visualizations with happiness "
   ]
  },
  {
   "cell_type": "code",
   "execution_count": 2,
   "metadata": {
    "ExecuteTime": {
     "end_time": "2021-02-17T09:15:35.341198Z",
     "start_time": "2021-02-17T09:15:34.787327Z"
    }
   },
   "outputs": [],
   "source": [
    "import pandas as pd\n",
    "import numpy as np"
   ]
  },
  {
   "cell_type": "code",
   "execution_count": 47,
   "metadata": {
    "ExecuteTime": {
     "end_time": "2021-02-16T15:44:29.525188Z",
     "start_time": "2021-02-16T15:44:29.503567Z"
    }
   },
   "outputs": [],
   "source": [
    "data = pd.read_csv(\"Data_project/Happiness_gdp_taxes.csv\")\n",
    "continents = pd.read_csv(\"Data_project/cont.csv\")"
   ]
  },
  {
   "cell_type": "code",
   "execution_count": 48,
   "metadata": {
    "ExecuteTime": {
     "end_time": "2021-02-16T15:44:29.916592Z",
     "start_time": "2021-02-16T15:44:29.910713Z"
    }
   },
   "outputs": [],
   "source": [
    "continents.rename({\"country\": \"Country\"}, axis=\"columns\", inplace=True)\n"
   ]
  },
  {
   "cell_type": "code",
   "execution_count": 49,
   "metadata": {
    "ExecuteTime": {
     "end_time": "2021-02-16T15:44:30.075392Z",
     "start_time": "2021-02-16T15:44:30.064123Z"
    }
   },
   "outputs": [],
   "source": [
    "data = data.merge(continents, how='left', on=\"Country\")"
   ]
  },
  {
   "cell_type": "code",
   "execution_count": null,
   "metadata": {},
   "outputs": [],
   "source": []
  },
  {
   "cell_type": "markdown",
   "metadata": {},
   "source": [
    "## cleaned up dataset to work with including regions\n"
   ]
  },
  {
   "cell_type": "code",
   "execution_count": 31,
   "metadata": {
    "ExecuteTime": {
     "end_time": "2021-02-17T09:57:39.015153Z",
     "start_time": "2021-02-17T09:57:38.972890Z"
    }
   },
   "outputs": [],
   "source": [
    "data1 = pd.read_csv(\"Data_project/data11.csv\", sep=';' )"
   ]
  },
  {
   "cell_type": "code",
   "execution_count": 50,
   "metadata": {
    "ExecuteTime": {
     "end_time": "2021-02-16T15:44:30.964405Z",
     "start_time": "2021-02-16T15:44:30.958475Z"
    }
   },
   "outputs": [],
   "source": [
    "data = data.drop(\"Unnamed: 0_x\",axis=1)\n",
    "data = data.drop(\"Unnamed: 0_y\",axis=1)"
   ]
  },
  {
   "cell_type": "code",
   "execution_count": 51,
   "metadata": {
    "ExecuteTime": {
     "end_time": "2021-02-16T15:45:04.926319Z",
     "start_time": "2021-02-16T15:45:04.912920Z"
    }
   },
   "outputs": [],
   "source": [
    "data.to_csv(\"Data_project/data1.csv\")"
   ]
  },
  {
   "cell_type": "code",
   "execution_count": 88,
   "metadata": {
    "ExecuteTime": {
     "end_time": "2021-02-16T16:12:08.407618Z",
     "start_time": "2021-02-16T16:12:08.388776Z"
    }
   },
   "outputs": [],
   "source": [
    "data1 = pd.read_excel(\"Data_project/data11.xls\")\n"
   ]
  },
  {
   "cell_type": "code",
   "execution_count": 32,
   "metadata": {
    "ExecuteTime": {
     "end_time": "2021-02-17T09:57:44.854107Z",
     "start_time": "2021-02-17T09:57:44.837981Z"
    }
   },
   "outputs": [],
   "source": [
    "data1 = data1.drop(\"Unnamed: 0\",axis=1)\n"
   ]
  },
  {
   "cell_type": "code",
   "execution_count": 5,
   "metadata": {
    "ExecuteTime": {
     "end_time": "2021-02-17T09:15:43.131068Z",
     "start_time": "2021-02-17T09:15:41.459463Z"
    }
   },
   "outputs": [
    {
     "data": {
      "text/html": [
       "        <script type=\"text/javascript\">\n",
       "        window.PlotlyConfig = {MathJaxConfig: 'local'};\n",
       "        if (window.MathJax) {MathJax.Hub.Config({SVG: {font: \"STIX-Web\"}});}\n",
       "        if (typeof require !== 'undefined') {\n",
       "        require.undef(\"plotly\");\n",
       "        requirejs.config({\n",
       "            paths: {\n",
       "                'plotly': ['https://cdn.plot.ly/plotly-latest.min']\n",
       "            }\n",
       "        });\n",
       "        require(['plotly'], function(Plotly) {\n",
       "            window._Plotly = Plotly;\n",
       "        });\n",
       "        }\n",
       "        </script>\n",
       "        "
      ]
     },
     "metadata": {},
     "output_type": "display_data"
    },
    {
     "data": {
      "text/html": [
       "        <script type=\"text/javascript\">\n",
       "        window.PlotlyConfig = {MathJaxConfig: 'local'};\n",
       "        if (window.MathJax) {MathJax.Hub.Config({SVG: {font: \"STIX-Web\"}});}\n",
       "        if (typeof require !== 'undefined') {\n",
       "        require.undef(\"plotly\");\n",
       "        requirejs.config({\n",
       "            paths: {\n",
       "                'plotly': ['https://cdn.plot.ly/plotly-latest.min']\n",
       "            }\n",
       "        });\n",
       "        require(['plotly'], function(Plotly) {\n",
       "            window._Plotly = Plotly;\n",
       "        });\n",
       "        }\n",
       "        </script>\n",
       "        "
      ]
     },
     "metadata": {},
     "output_type": "display_data"
    }
   ],
   "source": [
    "import pandas as pd\n",
    "import numpy as np\n",
    "import chart_studio.plotly as py\n",
    "import seaborn as sns\n",
    "import plotly.express as px\n",
    "import cufflinks as cf\n",
    "import plotly.graph_objects as go\n",
    "\n",
    "%matplotlib inline\n",
    "\n",
    "from plotly.offline import download_plotlyjs, init_notebook_mode, plot, iplot\n",
    "\n",
    "init_notebook_mode(connected=True)\n",
    "cf.go_offline()\n"
   ]
  },
  {
   "cell_type": "code",
   "execution_count": 33,
   "metadata": {
    "ExecuteTime": {
     "end_time": "2021-02-17T09:57:47.338956Z",
     "start_time": "2021-02-17T09:57:47.270549Z"
    },
    "scrolled": true
   },
   "outputs": [
    {
     "data": {
      "text/html": [
       "<div>\n",
       "<style scoped>\n",
       "    .dataframe tbody tr th:only-of-type {\n",
       "        vertical-align: middle;\n",
       "    }\n",
       "\n",
       "    .dataframe tbody tr th {\n",
       "        vertical-align: top;\n",
       "    }\n",
       "\n",
       "    .dataframe thead th {\n",
       "        text-align: right;\n",
       "    }\n",
       "</style>\n",
       "<table border=\"1\" class=\"dataframe\">\n",
       "  <thead>\n",
       "    <tr style=\"text-align: right;\">\n",
       "      <th></th>\n",
       "      <th>Overall rank</th>\n",
       "      <th>Country</th>\n",
       "      <th>Happiness Score</th>\n",
       "      <th>GDP per capita</th>\n",
       "      <th>Social support</th>\n",
       "      <th>Healthy life expectancy</th>\n",
       "      <th>Freedom to make life choices</th>\n",
       "      <th>Generosity</th>\n",
       "      <th>Perceptions of corruption</th>\n",
       "      <th>Maximun Personal Income Tax</th>\n",
       "      <th>GDP_per_capita</th>\n",
       "      <th>continent</th>\n",
       "      <th>sub_region</th>\n",
       "    </tr>\n",
       "  </thead>\n",
       "  <tbody>\n",
       "    <tr>\n",
       "      <th>0</th>\n",
       "      <td>1</td>\n",
       "      <td>Finland</td>\n",
       "      <td>7.632</td>\n",
       "      <td>1.305</td>\n",
       "      <td>1.592</td>\n",
       "      <td>0.874</td>\n",
       "      <td>0.681</td>\n",
       "      <td>0.202</td>\n",
       "      <td>0.393</td>\n",
       "      <td>51.110</td>\n",
       "      <td>41899.0</td>\n",
       "      <td>Europe</td>\n",
       "      <td>Northern Europe</td>\n",
       "    </tr>\n",
       "    <tr>\n",
       "      <th>1</th>\n",
       "      <td>2</td>\n",
       "      <td>Norway</td>\n",
       "      <td>7.594</td>\n",
       "      <td>1.456</td>\n",
       "      <td>1.582</td>\n",
       "      <td>0.861</td>\n",
       "      <td>0.686</td>\n",
       "      <td>0.286</td>\n",
       "      <td>0.340</td>\n",
       "      <td>38.400</td>\n",
       "      <td>65441.0</td>\n",
       "      <td>Europe</td>\n",
       "      <td>Northern Europe</td>\n",
       "    </tr>\n",
       "    <tr>\n",
       "      <th>2</th>\n",
       "      <td>3</td>\n",
       "      <td>Denmark</td>\n",
       "      <td>7.555</td>\n",
       "      <td>1.351</td>\n",
       "      <td>1.590</td>\n",
       "      <td>0.868</td>\n",
       "      <td>0.683</td>\n",
       "      <td>0.284</td>\n",
       "      <td>0.408</td>\n",
       "      <td>55.858</td>\n",
       "      <td>47673.0</td>\n",
       "      <td>Europe</td>\n",
       "      <td>Northern Europe</td>\n",
       "    </tr>\n",
       "    <tr>\n",
       "      <th>3</th>\n",
       "      <td>4</td>\n",
       "      <td>Iceland</td>\n",
       "      <td>7.495</td>\n",
       "      <td>1.343</td>\n",
       "      <td>1.644</td>\n",
       "      <td>0.914</td>\n",
       "      <td>0.677</td>\n",
       "      <td>0.353</td>\n",
       "      <td>0.138</td>\n",
       "      <td>46.240</td>\n",
       "      <td>48606.0</td>\n",
       "      <td>Europe</td>\n",
       "      <td>Northern Europe</td>\n",
       "    </tr>\n",
       "    <tr>\n",
       "      <th>4</th>\n",
       "      <td>5</td>\n",
       "      <td>Switzerland</td>\n",
       "      <td>7.487</td>\n",
       "      <td>1.420</td>\n",
       "      <td>1.549</td>\n",
       "      <td>0.927</td>\n",
       "      <td>0.660</td>\n",
       "      <td>0.256</td>\n",
       "      <td>0.357</td>\n",
       "      <td>41.670</td>\n",
       "      <td>59019.0</td>\n",
       "      <td>Europe</td>\n",
       "      <td>Western Europe</td>\n",
       "    </tr>\n",
       "    <tr>\n",
       "      <th>5</th>\n",
       "      <td>6</td>\n",
       "      <td>Netherlands</td>\n",
       "      <td>7.441</td>\n",
       "      <td>1.361</td>\n",
       "      <td>1.488</td>\n",
       "      <td>0.878</td>\n",
       "      <td>0.638</td>\n",
       "      <td>0.333</td>\n",
       "      <td>0.295</td>\n",
       "      <td>51.950</td>\n",
       "      <td>49804.0</td>\n",
       "      <td>Europe</td>\n",
       "      <td>Western Europe</td>\n",
       "    </tr>\n",
       "    <tr>\n",
       "      <th>6</th>\n",
       "      <td>7</td>\n",
       "      <td>Canada</td>\n",
       "      <td>7.328</td>\n",
       "      <td>1.330</td>\n",
       "      <td>1.532</td>\n",
       "      <td>0.896</td>\n",
       "      <td>0.653</td>\n",
       "      <td>0.321</td>\n",
       "      <td>0.291</td>\n",
       "      <td>53.529</td>\n",
       "      <td>44051.0</td>\n",
       "      <td>Americas</td>\n",
       "      <td>Northern America</td>\n",
       "    </tr>\n",
       "    <tr>\n",
       "      <th>7</th>\n",
       "      <td>8</td>\n",
       "      <td>New Zealand</td>\n",
       "      <td>7.324</td>\n",
       "      <td>1.268</td>\n",
       "      <td>1.601</td>\n",
       "      <td>0.876</td>\n",
       "      <td>0.669</td>\n",
       "      <td>0.365</td>\n",
       "      <td>0.389</td>\n",
       "      <td>33.000</td>\n",
       "      <td>36355.0</td>\n",
       "      <td>Oceania</td>\n",
       "      <td>Australia and New Zealand</td>\n",
       "    </tr>\n",
       "    <tr>\n",
       "      <th>8</th>\n",
       "      <td>9</td>\n",
       "      <td>Sweden</td>\n",
       "      <td>7.314</td>\n",
       "      <td>1.355</td>\n",
       "      <td>1.501</td>\n",
       "      <td>0.913</td>\n",
       "      <td>0.659</td>\n",
       "      <td>0.285</td>\n",
       "      <td>0.383</td>\n",
       "      <td>57.120</td>\n",
       "      <td>47194.0</td>\n",
       "      <td>Europe</td>\n",
       "      <td>Northern Europe</td>\n",
       "    </tr>\n",
       "    <tr>\n",
       "      <th>9</th>\n",
       "      <td>10</td>\n",
       "      <td>Australia</td>\n",
       "      <td>7.272</td>\n",
       "      <td>1.340</td>\n",
       "      <td>1.573</td>\n",
       "      <td>0.910</td>\n",
       "      <td>0.647</td>\n",
       "      <td>0.361</td>\n",
       "      <td>0.302</td>\n",
       "      <td>47.000</td>\n",
       "      <td>45439.0</td>\n",
       "      <td>Oceania</td>\n",
       "      <td>Australia and New Zealand</td>\n",
       "    </tr>\n",
       "    <tr>\n",
       "      <th>10</th>\n",
       "      <td>11</td>\n",
       "      <td>United Kingdom</td>\n",
       "      <td>7.191</td>\n",
       "      <td>1.244</td>\n",
       "      <td>1.433</td>\n",
       "      <td>0.888</td>\n",
       "      <td>0.464</td>\n",
       "      <td>0.262</td>\n",
       "      <td>0.082</td>\n",
       "      <td>45.000</td>\n",
       "      <td>40158.0</td>\n",
       "      <td>Europe</td>\n",
       "      <td>NaN</td>\n",
       "    </tr>\n",
       "    <tr>\n",
       "      <th>11</th>\n",
       "      <td>12</td>\n",
       "      <td>Austria</td>\n",
       "      <td>7.139</td>\n",
       "      <td>1.341</td>\n",
       "      <td>1.504</td>\n",
       "      <td>0.891</td>\n",
       "      <td>0.617</td>\n",
       "      <td>0.242</td>\n",
       "      <td>0.224</td>\n",
       "      <td>55.000</td>\n",
       "      <td>46473.0</td>\n",
       "      <td>Europe</td>\n",
       "      <td>Western Europe</td>\n",
       "    </tr>\n",
       "    <tr>\n",
       "      <th>12</th>\n",
       "      <td>13</td>\n",
       "      <td>Costa Rica</td>\n",
       "      <td>7.072</td>\n",
       "      <td>1.010</td>\n",
       "      <td>1.459</td>\n",
       "      <td>0.817</td>\n",
       "      <td>0.632</td>\n",
       "      <td>0.143</td>\n",
       "      <td>0.101</td>\n",
       "      <td>NaN</td>\n",
       "      <td>15685.0</td>\n",
       "      <td>Americas</td>\n",
       "      <td>Central America</td>\n",
       "    </tr>\n",
       "    <tr>\n",
       "      <th>13</th>\n",
       "      <td>14</td>\n",
       "      <td>Ireland</td>\n",
       "      <td>6.977</td>\n",
       "      <td>1.448</td>\n",
       "      <td>1.583</td>\n",
       "      <td>0.876</td>\n",
       "      <td>0.614</td>\n",
       "      <td>0.307</td>\n",
       "      <td>0.306</td>\n",
       "      <td>48.000</td>\n",
       "      <td>70361.0</td>\n",
       "      <td>Europe</td>\n",
       "      <td>Northern Europe</td>\n",
       "    </tr>\n",
       "    <tr>\n",
       "      <th>14</th>\n",
       "      <td>15</td>\n",
       "      <td>Germany</td>\n",
       "      <td>6.965</td>\n",
       "      <td>1.340</td>\n",
       "      <td>1.474</td>\n",
       "      <td>0.861</td>\n",
       "      <td>0.586</td>\n",
       "      <td>0.273</td>\n",
       "      <td>0.280</td>\n",
       "      <td>47.475</td>\n",
       "      <td>45959.0</td>\n",
       "      <td>Europe</td>\n",
       "      <td>Western Europe</td>\n",
       "    </tr>\n",
       "    <tr>\n",
       "      <th>15</th>\n",
       "      <td>16</td>\n",
       "      <td>Belgium</td>\n",
       "      <td>6.927</td>\n",
       "      <td>1.324</td>\n",
       "      <td>1.483</td>\n",
       "      <td>0.894</td>\n",
       "      <td>0.583</td>\n",
       "      <td>0.188</td>\n",
       "      <td>0.240</td>\n",
       "      <td>52.934</td>\n",
       "      <td>43218.0</td>\n",
       "      <td>Europe</td>\n",
       "      <td>Western Europe</td>\n",
       "    </tr>\n",
       "    <tr>\n",
       "      <th>16</th>\n",
       "      <td>17</td>\n",
       "      <td>Luxembourg</td>\n",
       "      <td>6.911</td>\n",
       "      <td>1.576</td>\n",
       "      <td>1.520</td>\n",
       "      <td>0.896</td>\n",
       "      <td>0.632</td>\n",
       "      <td>0.196</td>\n",
       "      <td>0.321</td>\n",
       "      <td>45.780</td>\n",
       "      <td>93734.0</td>\n",
       "      <td>Europe</td>\n",
       "      <td>Western Europe</td>\n",
       "    </tr>\n",
       "    <tr>\n",
       "      <th>17</th>\n",
       "      <td>18</td>\n",
       "      <td>United States</td>\n",
       "      <td>6.886</td>\n",
       "      <td>1.398</td>\n",
       "      <td>1.471</td>\n",
       "      <td>0.819</td>\n",
       "      <td>0.547</td>\n",
       "      <td>0.291</td>\n",
       "      <td>0.133</td>\n",
       "      <td>43.650</td>\n",
       "      <td>55681.0</td>\n",
       "      <td>Americas</td>\n",
       "      <td>NaN</td>\n",
       "    </tr>\n",
       "    <tr>\n",
       "      <th>18</th>\n",
       "      <td>19</td>\n",
       "      <td>Israel</td>\n",
       "      <td>6.814</td>\n",
       "      <td>1.301</td>\n",
       "      <td>1.559</td>\n",
       "      <td>0.883</td>\n",
       "      <td>0.533</td>\n",
       "      <td>0.354</td>\n",
       "      <td>0.272</td>\n",
       "      <td>50.000</td>\n",
       "      <td>33661.0</td>\n",
       "      <td>Asia</td>\n",
       "      <td>Western Asia</td>\n",
       "    </tr>\n",
       "    <tr>\n",
       "      <th>19</th>\n",
       "      <td>20</td>\n",
       "      <td>United Arab Emirates</td>\n",
       "      <td>6.774</td>\n",
       "      <td>2.096</td>\n",
       "      <td>0.776</td>\n",
       "      <td>0.670</td>\n",
       "      <td>0.284</td>\n",
       "      <td>0.186</td>\n",
       "      <td>NaN</td>\n",
       "      <td>NaN</td>\n",
       "      <td>66616.0</td>\n",
       "      <td>Asia</td>\n",
       "      <td>Western Asia</td>\n",
       "    </tr>\n",
       "    <tr>\n",
       "      <th>20</th>\n",
       "      <td>21</td>\n",
       "      <td>Czech Republic</td>\n",
       "      <td>6.711</td>\n",
       "      <td>1.233</td>\n",
       "      <td>1.489</td>\n",
       "      <td>0.854</td>\n",
       "      <td>0.543</td>\n",
       "      <td>0.064</td>\n",
       "      <td>0.034</td>\n",
       "      <td>15.000</td>\n",
       "      <td>NaN</td>\n",
       "      <td>Europe</td>\n",
       "      <td>Eastern Europe</td>\n",
       "    </tr>\n",
       "    <tr>\n",
       "      <th>21</th>\n",
       "      <td>22</td>\n",
       "      <td>Malta</td>\n",
       "      <td>6.627</td>\n",
       "      <td>1.270</td>\n",
       "      <td>1.525</td>\n",
       "      <td>0.884</td>\n",
       "      <td>0.645</td>\n",
       "      <td>0.376</td>\n",
       "      <td>0.142</td>\n",
       "      <td>NaN</td>\n",
       "      <td>38147.0</td>\n",
       "      <td>Europe</td>\n",
       "      <td>Southern Europe</td>\n",
       "    </tr>\n",
       "    <tr>\n",
       "      <th>22</th>\n",
       "      <td>23</td>\n",
       "      <td>France</td>\n",
       "      <td>6.489</td>\n",
       "      <td>1.293</td>\n",
       "      <td>1.466</td>\n",
       "      <td>0.908</td>\n",
       "      <td>0.520</td>\n",
       "      <td>0.098</td>\n",
       "      <td>0.176</td>\n",
       "      <td>55.368</td>\n",
       "      <td>39556.0</td>\n",
       "      <td>Europe</td>\n",
       "      <td>Western Europe</td>\n",
       "    </tr>\n",
       "    <tr>\n",
       "      <th>23</th>\n",
       "      <td>24</td>\n",
       "      <td>Mexico</td>\n",
       "      <td>6.488</td>\n",
       "      <td>1.038</td>\n",
       "      <td>1.252</td>\n",
       "      <td>0.761</td>\n",
       "      <td>0.479</td>\n",
       "      <td>0.069</td>\n",
       "      <td>0.095</td>\n",
       "      <td>35.000</td>\n",
       "      <td>18102.0</td>\n",
       "      <td>Americas</td>\n",
       "      <td>Central America</td>\n",
       "    </tr>\n",
       "    <tr>\n",
       "      <th>24</th>\n",
       "      <td>25</td>\n",
       "      <td>Chile</td>\n",
       "      <td>6.476</td>\n",
       "      <td>1.131</td>\n",
       "      <td>1.331</td>\n",
       "      <td>0.808</td>\n",
       "      <td>0.431</td>\n",
       "      <td>0.197</td>\n",
       "      <td>0.061</td>\n",
       "      <td>35.000</td>\n",
       "      <td>22874.0</td>\n",
       "      <td>Americas</td>\n",
       "      <td>South America</td>\n",
       "    </tr>\n",
       "    <tr>\n",
       "      <th>25</th>\n",
       "      <td>26</td>\n",
       "      <td>Taiwan</td>\n",
       "      <td>6.441</td>\n",
       "      <td>1.365</td>\n",
       "      <td>1.436</td>\n",
       "      <td>0.857</td>\n",
       "      <td>0.418</td>\n",
       "      <td>0.151</td>\n",
       "      <td>0.078</td>\n",
       "      <td>NaN</td>\n",
       "      <td>NaN</td>\n",
       "      <td>Asia</td>\n",
       "      <td>NaN</td>\n",
       "    </tr>\n",
       "    <tr>\n",
       "      <th>26</th>\n",
       "      <td>27</td>\n",
       "      <td>Panama</td>\n",
       "      <td>6.431</td>\n",
       "      <td>1.112</td>\n",
       "      <td>1.438</td>\n",
       "      <td>0.759</td>\n",
       "      <td>0.597</td>\n",
       "      <td>0.125</td>\n",
       "      <td>0.063</td>\n",
       "      <td>NaN</td>\n",
       "      <td>22674.0</td>\n",
       "      <td>Americas</td>\n",
       "      <td>Central America</td>\n",
       "    </tr>\n",
       "    <tr>\n",
       "      <th>27</th>\n",
       "      <td>28</td>\n",
       "      <td>Brazil</td>\n",
       "      <td>6.419</td>\n",
       "      <td>1.000</td>\n",
       "      <td>1.474</td>\n",
       "      <td>0.675</td>\n",
       "      <td>0.493</td>\n",
       "      <td>0.110</td>\n",
       "      <td>0.088</td>\n",
       "      <td>NaN</td>\n",
       "      <td>14283.0</td>\n",
       "      <td>Americas</td>\n",
       "      <td>South America</td>\n",
       "    </tr>\n",
       "    <tr>\n",
       "      <th>28</th>\n",
       "      <td>29</td>\n",
       "      <td>Argentina</td>\n",
       "      <td>6.388</td>\n",
       "      <td>1.073</td>\n",
       "      <td>1.468</td>\n",
       "      <td>0.744</td>\n",
       "      <td>0.570</td>\n",
       "      <td>0.062</td>\n",
       "      <td>0.054</td>\n",
       "      <td>NaN</td>\n",
       "      <td>18282.0</td>\n",
       "      <td>Americas</td>\n",
       "      <td>South America</td>\n",
       "    </tr>\n",
       "    <tr>\n",
       "      <th>29</th>\n",
       "      <td>30</td>\n",
       "      <td>Guatemala</td>\n",
       "      <td>6.382</td>\n",
       "      <td>0.781</td>\n",
       "      <td>1.268</td>\n",
       "      <td>0.608</td>\n",
       "      <td>0.604</td>\n",
       "      <td>0.179</td>\n",
       "      <td>0.071</td>\n",
       "      <td>NaN</td>\n",
       "      <td>7509.0</td>\n",
       "      <td>Americas</td>\n",
       "      <td>Central America</td>\n",
       "    </tr>\n",
       "    <tr>\n",
       "      <th>30</th>\n",
       "      <td>31</td>\n",
       "      <td>Uruguay</td>\n",
       "      <td>6.379</td>\n",
       "      <td>1.093</td>\n",
       "      <td>1.459</td>\n",
       "      <td>0.771</td>\n",
       "      <td>0.625</td>\n",
       "      <td>0.130</td>\n",
       "      <td>0.155</td>\n",
       "      <td>NaN</td>\n",
       "      <td>20916.0</td>\n",
       "      <td>Americas</td>\n",
       "      <td>South America</td>\n",
       "    </tr>\n",
       "    <tr>\n",
       "      <th>31</th>\n",
       "      <td>32</td>\n",
       "      <td>Qatar</td>\n",
       "      <td>6.374</td>\n",
       "      <td>1.649</td>\n",
       "      <td>1.303</td>\n",
       "      <td>0.748</td>\n",
       "      <td>0.654</td>\n",
       "      <td>0.256</td>\n",
       "      <td>0.171</td>\n",
       "      <td>NaN</td>\n",
       "      <td>112532.0</td>\n",
       "      <td>Asia</td>\n",
       "      <td>Western Asia</td>\n",
       "    </tr>\n",
       "    <tr>\n",
       "      <th>32</th>\n",
       "      <td>33</td>\n",
       "      <td>Saudi Arabia</td>\n",
       "      <td>6.371</td>\n",
       "      <td>1.379</td>\n",
       "      <td>1.331</td>\n",
       "      <td>0.633</td>\n",
       "      <td>0.509</td>\n",
       "      <td>0.098</td>\n",
       "      <td>0.127</td>\n",
       "      <td>NaN</td>\n",
       "      <td>48996.0</td>\n",
       "      <td>Asia</td>\n",
       "      <td>Western Asia</td>\n",
       "    </tr>\n",
       "    <tr>\n",
       "      <th>33</th>\n",
       "      <td>34</td>\n",
       "      <td>Singapore</td>\n",
       "      <td>6.343</td>\n",
       "      <td>1.529</td>\n",
       "      <td>1.451</td>\n",
       "      <td>1.008</td>\n",
       "      <td>0.631</td>\n",
       "      <td>0.261</td>\n",
       "      <td>0.457</td>\n",
       "      <td>NaN</td>\n",
       "      <td>90091.0</td>\n",
       "      <td>Asia</td>\n",
       "      <td>South-Eastern Asia</td>\n",
       "    </tr>\n",
       "    <tr>\n",
       "      <th>34</th>\n",
       "      <td>35</td>\n",
       "      <td>Malaysia</td>\n",
       "      <td>6.322</td>\n",
       "      <td>1.161</td>\n",
       "      <td>1.258</td>\n",
       "      <td>0.669</td>\n",
       "      <td>0.356</td>\n",
       "      <td>0.311</td>\n",
       "      <td>0.059</td>\n",
       "      <td>NaN</td>\n",
       "      <td>28176.0</td>\n",
       "      <td>Asia</td>\n",
       "      <td>South-Eastern Asia</td>\n",
       "    </tr>\n",
       "    <tr>\n",
       "      <th>35</th>\n",
       "      <td>36</td>\n",
       "      <td>Spain</td>\n",
       "      <td>6.311</td>\n",
       "      <td>1.251</td>\n",
       "      <td>1.538</td>\n",
       "      <td>0.965</td>\n",
       "      <td>0.449</td>\n",
       "      <td>0.142</td>\n",
       "      <td>0.074</td>\n",
       "      <td>43.500</td>\n",
       "      <td>35056.0</td>\n",
       "      <td>Europe</td>\n",
       "      <td>Southern Europe</td>\n",
       "    </tr>\n",
       "    <tr>\n",
       "      <th>36</th>\n",
       "      <td>37</td>\n",
       "      <td>Colombia</td>\n",
       "      <td>6.261</td>\n",
       "      <td>0.960</td>\n",
       "      <td>1.439</td>\n",
       "      <td>0.635</td>\n",
       "      <td>0.531</td>\n",
       "      <td>0.099</td>\n",
       "      <td>0.039</td>\n",
       "      <td>NaN</td>\n",
       "      <td>13333.0</td>\n",
       "      <td>Americas</td>\n",
       "      <td>South America</td>\n",
       "    </tr>\n",
       "    <tr>\n",
       "      <th>37</th>\n",
       "      <td>38</td>\n",
       "      <td>Trinidad &amp; Tobago</td>\n",
       "      <td>6.192</td>\n",
       "      <td>1.223</td>\n",
       "      <td>1.492</td>\n",
       "      <td>0.564</td>\n",
       "      <td>0.575</td>\n",
       "      <td>0.171</td>\n",
       "      <td>0.019</td>\n",
       "      <td>NaN</td>\n",
       "      <td>NaN</td>\n",
       "      <td>Africa</td>\n",
       "      <td>NaN</td>\n",
       "    </tr>\n",
       "    <tr>\n",
       "      <th>38</th>\n",
       "      <td>39</td>\n",
       "      <td>Slovakia</td>\n",
       "      <td>6.173</td>\n",
       "      <td>1.210</td>\n",
       "      <td>1.537</td>\n",
       "      <td>0.776</td>\n",
       "      <td>0.354</td>\n",
       "      <td>0.118</td>\n",
       "      <td>0.014</td>\n",
       "      <td>NaN</td>\n",
       "      <td>31326.0</td>\n",
       "      <td>Europe</td>\n",
       "      <td>Eastern Europe</td>\n",
       "    </tr>\n",
       "    <tr>\n",
       "      <th>39</th>\n",
       "      <td>40</td>\n",
       "      <td>El Salvador</td>\n",
       "      <td>6.167</td>\n",
       "      <td>0.806</td>\n",
       "      <td>1.231</td>\n",
       "      <td>0.639</td>\n",
       "      <td>0.461</td>\n",
       "      <td>0.065</td>\n",
       "      <td>0.082</td>\n",
       "      <td>NaN</td>\n",
       "      <td>7393.0</td>\n",
       "      <td>Americas</td>\n",
       "      <td>Central America</td>\n",
       "    </tr>\n",
       "    <tr>\n",
       "      <th>40</th>\n",
       "      <td>41</td>\n",
       "      <td>Nicaragua</td>\n",
       "      <td>6.141</td>\n",
       "      <td>0.668</td>\n",
       "      <td>1.319</td>\n",
       "      <td>0.700</td>\n",
       "      <td>0.527</td>\n",
       "      <td>0.208</td>\n",
       "      <td>0.128</td>\n",
       "      <td>NaN</td>\n",
       "      <td>4910.0</td>\n",
       "      <td>Americas</td>\n",
       "      <td>Central America</td>\n",
       "    </tr>\n",
       "    <tr>\n",
       "      <th>41</th>\n",
       "      <td>42</td>\n",
       "      <td>Poland</td>\n",
       "      <td>6.123</td>\n",
       "      <td>1.176</td>\n",
       "      <td>1.448</td>\n",
       "      <td>0.781</td>\n",
       "      <td>0.546</td>\n",
       "      <td>0.108</td>\n",
       "      <td>0.064</td>\n",
       "      <td>32.000</td>\n",
       "      <td>28752.0</td>\n",
       "      <td>Europe</td>\n",
       "      <td>Eastern Europe</td>\n",
       "    </tr>\n",
       "    <tr>\n",
       "      <th>42</th>\n",
       "      <td>43</td>\n",
       "      <td>Bahrain</td>\n",
       "      <td>6.105</td>\n",
       "      <td>1.338</td>\n",
       "      <td>1.366</td>\n",
       "      <td>0.698</td>\n",
       "      <td>0.594</td>\n",
       "      <td>0.243</td>\n",
       "      <td>0.123</td>\n",
       "      <td>NaN</td>\n",
       "      <td>41973.0</td>\n",
       "      <td>Asia</td>\n",
       "      <td>Western Asia</td>\n",
       "    </tr>\n",
       "    <tr>\n",
       "      <th>43</th>\n",
       "      <td>44</td>\n",
       "      <td>Uzbekistan</td>\n",
       "      <td>6.096</td>\n",
       "      <td>0.719</td>\n",
       "      <td>1.584</td>\n",
       "      <td>0.605</td>\n",
       "      <td>0.724</td>\n",
       "      <td>0.328</td>\n",
       "      <td>0.259</td>\n",
       "      <td>NaN</td>\n",
       "      <td>6240.0</td>\n",
       "      <td>Asia</td>\n",
       "      <td>Central Asia</td>\n",
       "    </tr>\n",
       "    <tr>\n",
       "      <th>44</th>\n",
       "      <td>45</td>\n",
       "      <td>Kuwait</td>\n",
       "      <td>6.083</td>\n",
       "      <td>1.474</td>\n",
       "      <td>1.301</td>\n",
       "      <td>0.675</td>\n",
       "      <td>0.554</td>\n",
       "      <td>0.167</td>\n",
       "      <td>0.106</td>\n",
       "      <td>NaN</td>\n",
       "      <td>65515.0</td>\n",
       "      <td>Asia</td>\n",
       "      <td>Western Asia</td>\n",
       "    </tr>\n",
       "    <tr>\n",
       "      <th>45</th>\n",
       "      <td>46</td>\n",
       "      <td>Thailand</td>\n",
       "      <td>6.072</td>\n",
       "      <td>1.016</td>\n",
       "      <td>1.417</td>\n",
       "      <td>0.707</td>\n",
       "      <td>0.637</td>\n",
       "      <td>0.364</td>\n",
       "      <td>0.029</td>\n",
       "      <td>NaN</td>\n",
       "      <td>16905.0</td>\n",
       "      <td>Asia</td>\n",
       "      <td>South-Eastern Asia</td>\n",
       "    </tr>\n",
       "    <tr>\n",
       "      <th>46</th>\n",
       "      <td>47</td>\n",
       "      <td>Italy</td>\n",
       "      <td>6.011</td>\n",
       "      <td>1.264</td>\n",
       "      <td>1.501</td>\n",
       "      <td>0.946</td>\n",
       "      <td>0.281</td>\n",
       "      <td>0.137</td>\n",
       "      <td>0.028</td>\n",
       "      <td>47.230</td>\n",
       "      <td>35739.0</td>\n",
       "      <td>Europe</td>\n",
       "      <td>Southern Europe</td>\n",
       "    </tr>\n",
       "    <tr>\n",
       "      <th>47</th>\n",
       "      <td>48</td>\n",
       "      <td>Ecuador</td>\n",
       "      <td>5.973</td>\n",
       "      <td>0.889</td>\n",
       "      <td>1.330</td>\n",
       "      <td>0.736</td>\n",
       "      <td>0.556</td>\n",
       "      <td>0.114</td>\n",
       "      <td>0.120</td>\n",
       "      <td>NaN</td>\n",
       "      <td>10412.0</td>\n",
       "      <td>Americas</td>\n",
       "      <td>South America</td>\n",
       "    </tr>\n",
       "    <tr>\n",
       "      <th>48</th>\n",
       "      <td>49</td>\n",
       "      <td>Belize</td>\n",
       "      <td>5.956</td>\n",
       "      <td>0.807</td>\n",
       "      <td>1.101</td>\n",
       "      <td>0.474</td>\n",
       "      <td>0.593</td>\n",
       "      <td>0.183</td>\n",
       "      <td>0.089</td>\n",
       "      <td>NaN</td>\n",
       "      <td>7810.0</td>\n",
       "      <td>Americas</td>\n",
       "      <td>Central America</td>\n",
       "    </tr>\n",
       "    <tr>\n",
       "      <th>49</th>\n",
       "      <td>50</td>\n",
       "      <td>Lithuania</td>\n",
       "      <td>5.952</td>\n",
       "      <td>1.197</td>\n",
       "      <td>1.527</td>\n",
       "      <td>0.716</td>\n",
       "      <td>0.350</td>\n",
       "      <td>0.026</td>\n",
       "      <td>0.006</td>\n",
       "      <td>15.000</td>\n",
       "      <td>31065.0</td>\n",
       "      <td>Europe</td>\n",
       "      <td>Northern Europe</td>\n",
       "    </tr>\n",
       "  </tbody>\n",
       "</table>\n",
       "</div>"
      ],
      "text/plain": [
       "    Overall rank               Country  Happiness Score  GDP per capita  \\\n",
       "0              1               Finland            7.632           1.305   \n",
       "1              2                Norway            7.594           1.456   \n",
       "2              3               Denmark            7.555           1.351   \n",
       "3              4               Iceland            7.495           1.343   \n",
       "4              5           Switzerland            7.487           1.420   \n",
       "5              6           Netherlands            7.441           1.361   \n",
       "6              7                Canada            7.328           1.330   \n",
       "7              8           New Zealand            7.324           1.268   \n",
       "8              9                Sweden            7.314           1.355   \n",
       "9             10             Australia            7.272           1.340   \n",
       "10            11        United Kingdom            7.191           1.244   \n",
       "11            12               Austria            7.139           1.341   \n",
       "12            13            Costa Rica            7.072           1.010   \n",
       "13            14               Ireland            6.977           1.448   \n",
       "14            15               Germany            6.965           1.340   \n",
       "15            16               Belgium            6.927           1.324   \n",
       "16            17            Luxembourg            6.911           1.576   \n",
       "17            18         United States            6.886           1.398   \n",
       "18            19                Israel            6.814           1.301   \n",
       "19            20  United Arab Emirates            6.774           2.096   \n",
       "20            21        Czech Republic            6.711           1.233   \n",
       "21            22                 Malta            6.627           1.270   \n",
       "22            23                France            6.489           1.293   \n",
       "23            24                Mexico            6.488           1.038   \n",
       "24            25                 Chile            6.476           1.131   \n",
       "25            26                Taiwan            6.441           1.365   \n",
       "26            27                Panama            6.431           1.112   \n",
       "27            28                Brazil            6.419           1.000   \n",
       "28            29             Argentina            6.388           1.073   \n",
       "29            30             Guatemala            6.382           0.781   \n",
       "30            31               Uruguay            6.379           1.093   \n",
       "31            32                 Qatar            6.374           1.649   \n",
       "32            33          Saudi Arabia            6.371           1.379   \n",
       "33            34             Singapore            6.343           1.529   \n",
       "34            35              Malaysia            6.322           1.161   \n",
       "35            36                 Spain            6.311           1.251   \n",
       "36            37              Colombia            6.261           0.960   \n",
       "37            38     Trinidad & Tobago            6.192           1.223   \n",
       "38            39              Slovakia            6.173           1.210   \n",
       "39            40           El Salvador            6.167           0.806   \n",
       "40            41             Nicaragua            6.141           0.668   \n",
       "41            42                Poland            6.123           1.176   \n",
       "42            43               Bahrain            6.105           1.338   \n",
       "43            44            Uzbekistan            6.096           0.719   \n",
       "44            45                Kuwait            6.083           1.474   \n",
       "45            46              Thailand            6.072           1.016   \n",
       "46            47                 Italy            6.011           1.264   \n",
       "47            48               Ecuador            5.973           0.889   \n",
       "48            49                Belize            5.956           0.807   \n",
       "49            50             Lithuania            5.952           1.197   \n",
       "\n",
       "    Social support  Healthy life expectancy  Freedom to make life choices  \\\n",
       "0            1.592                    0.874                         0.681   \n",
       "1            1.582                    0.861                         0.686   \n",
       "2            1.590                    0.868                         0.683   \n",
       "3            1.644                    0.914                         0.677   \n",
       "4            1.549                    0.927                         0.660   \n",
       "5            1.488                    0.878                         0.638   \n",
       "6            1.532                    0.896                         0.653   \n",
       "7            1.601                    0.876                         0.669   \n",
       "8            1.501                    0.913                         0.659   \n",
       "9            1.573                    0.910                         0.647   \n",
       "10           1.433                    0.888                         0.464   \n",
       "11           1.504                    0.891                         0.617   \n",
       "12           1.459                    0.817                         0.632   \n",
       "13           1.583                    0.876                         0.614   \n",
       "14           1.474                    0.861                         0.586   \n",
       "15           1.483                    0.894                         0.583   \n",
       "16           1.520                    0.896                         0.632   \n",
       "17           1.471                    0.819                         0.547   \n",
       "18           1.559                    0.883                         0.533   \n",
       "19           0.776                    0.670                         0.284   \n",
       "20           1.489                    0.854                         0.543   \n",
       "21           1.525                    0.884                         0.645   \n",
       "22           1.466                    0.908                         0.520   \n",
       "23           1.252                    0.761                         0.479   \n",
       "24           1.331                    0.808                         0.431   \n",
       "25           1.436                    0.857                         0.418   \n",
       "26           1.438                    0.759                         0.597   \n",
       "27           1.474                    0.675                         0.493   \n",
       "28           1.468                    0.744                         0.570   \n",
       "29           1.268                    0.608                         0.604   \n",
       "30           1.459                    0.771                         0.625   \n",
       "31           1.303                    0.748                         0.654   \n",
       "32           1.331                    0.633                         0.509   \n",
       "33           1.451                    1.008                         0.631   \n",
       "34           1.258                    0.669                         0.356   \n",
       "35           1.538                    0.965                         0.449   \n",
       "36           1.439                    0.635                         0.531   \n",
       "37           1.492                    0.564                         0.575   \n",
       "38           1.537                    0.776                         0.354   \n",
       "39           1.231                    0.639                         0.461   \n",
       "40           1.319                    0.700                         0.527   \n",
       "41           1.448                    0.781                         0.546   \n",
       "42           1.366                    0.698                         0.594   \n",
       "43           1.584                    0.605                         0.724   \n",
       "44           1.301                    0.675                         0.554   \n",
       "45           1.417                    0.707                         0.637   \n",
       "46           1.501                    0.946                         0.281   \n",
       "47           1.330                    0.736                         0.556   \n",
       "48           1.101                    0.474                         0.593   \n",
       "49           1.527                    0.716                         0.350   \n",
       "\n",
       "    Generosity  Perceptions of corruption  Maximun Personal Income Tax  \\\n",
       "0        0.202                      0.393                       51.110   \n",
       "1        0.286                      0.340                       38.400   \n",
       "2        0.284                      0.408                       55.858   \n",
       "3        0.353                      0.138                       46.240   \n",
       "4        0.256                      0.357                       41.670   \n",
       "5        0.333                      0.295                       51.950   \n",
       "6        0.321                      0.291                       53.529   \n",
       "7        0.365                      0.389                       33.000   \n",
       "8        0.285                      0.383                       57.120   \n",
       "9        0.361                      0.302                       47.000   \n",
       "10       0.262                      0.082                       45.000   \n",
       "11       0.242                      0.224                       55.000   \n",
       "12       0.143                      0.101                          NaN   \n",
       "13       0.307                      0.306                       48.000   \n",
       "14       0.273                      0.280                       47.475   \n",
       "15       0.188                      0.240                       52.934   \n",
       "16       0.196                      0.321                       45.780   \n",
       "17       0.291                      0.133                       43.650   \n",
       "18       0.354                      0.272                       50.000   \n",
       "19       0.186                        NaN                          NaN   \n",
       "20       0.064                      0.034                       15.000   \n",
       "21       0.376                      0.142                          NaN   \n",
       "22       0.098                      0.176                       55.368   \n",
       "23       0.069                      0.095                       35.000   \n",
       "24       0.197                      0.061                       35.000   \n",
       "25       0.151                      0.078                          NaN   \n",
       "26       0.125                      0.063                          NaN   \n",
       "27       0.110                      0.088                          NaN   \n",
       "28       0.062                      0.054                          NaN   \n",
       "29       0.179                      0.071                          NaN   \n",
       "30       0.130                      0.155                          NaN   \n",
       "31       0.256                      0.171                          NaN   \n",
       "32       0.098                      0.127                          NaN   \n",
       "33       0.261                      0.457                          NaN   \n",
       "34       0.311                      0.059                          NaN   \n",
       "35       0.142                      0.074                       43.500   \n",
       "36       0.099                      0.039                          NaN   \n",
       "37       0.171                      0.019                          NaN   \n",
       "38       0.118                      0.014                          NaN   \n",
       "39       0.065                      0.082                          NaN   \n",
       "40       0.208                      0.128                          NaN   \n",
       "41       0.108                      0.064                       32.000   \n",
       "42       0.243                      0.123                          NaN   \n",
       "43       0.328                      0.259                          NaN   \n",
       "44       0.167                      0.106                          NaN   \n",
       "45       0.364                      0.029                          NaN   \n",
       "46       0.137                      0.028                       47.230   \n",
       "47       0.114                      0.120                          NaN   \n",
       "48       0.183                      0.089                          NaN   \n",
       "49       0.026                      0.006                       15.000   \n",
       "\n",
       "    GDP_per_capita continent                 sub_region  \n",
       "0          41899.0    Europe            Northern Europe  \n",
       "1          65441.0    Europe            Northern Europe  \n",
       "2          47673.0    Europe            Northern Europe  \n",
       "3          48606.0    Europe            Northern Europe  \n",
       "4          59019.0    Europe             Western Europe  \n",
       "5          49804.0    Europe             Western Europe  \n",
       "6          44051.0  Americas           Northern America  \n",
       "7          36355.0   Oceania  Australia and New Zealand  \n",
       "8          47194.0    Europe            Northern Europe  \n",
       "9          45439.0   Oceania  Australia and New Zealand  \n",
       "10         40158.0    Europe                        NaN  \n",
       "11         46473.0    Europe             Western Europe  \n",
       "12         15685.0  Americas            Central America  \n",
       "13         70361.0    Europe            Northern Europe  \n",
       "14         45959.0    Europe             Western Europe  \n",
       "15         43218.0    Europe             Western Europe  \n",
       "16         93734.0    Europe             Western Europe  \n",
       "17         55681.0  Americas                        NaN  \n",
       "18         33661.0      Asia               Western Asia  \n",
       "19         66616.0      Asia               Western Asia  \n",
       "20             NaN    Europe             Eastern Europe  \n",
       "21         38147.0    Europe            Southern Europe  \n",
       "22         39556.0    Europe             Western Europe  \n",
       "23         18102.0  Americas            Central America  \n",
       "24         22874.0  Americas              South America  \n",
       "25             NaN      Asia                        NaN  \n",
       "26         22674.0  Americas            Central America  \n",
       "27         14283.0  Americas              South America  \n",
       "28         18282.0  Americas              South America  \n",
       "29          7509.0  Americas            Central America  \n",
       "30         20916.0  Americas              South America  \n",
       "31        112532.0      Asia               Western Asia  \n",
       "32         48996.0      Asia               Western Asia  \n",
       "33         90091.0      Asia         South-Eastern Asia  \n",
       "34         28176.0      Asia         South-Eastern Asia  \n",
       "35         35056.0    Europe            Southern Europe  \n",
       "36         13333.0  Americas              South America  \n",
       "37             NaN    Africa                        NaN  \n",
       "38         31326.0    Europe             Eastern Europe  \n",
       "39          7393.0  Americas            Central America  \n",
       "40          4910.0  Americas            Central America  \n",
       "41         28752.0    Europe             Eastern Europe  \n",
       "42         41973.0      Asia               Western Asia  \n",
       "43          6240.0      Asia               Central Asia  \n",
       "44         65515.0      Asia               Western Asia  \n",
       "45         16905.0      Asia         South-Eastern Asia  \n",
       "46         35739.0    Europe            Southern Europe  \n",
       "47         10412.0  Americas              South America  \n",
       "48          7810.0  Americas            Central America  \n",
       "49         31065.0    Europe            Northern Europe  "
      ]
     },
     "execution_count": 33,
     "metadata": {},
     "output_type": "execute_result"
    }
   ],
   "source": [
    "data1.head(50)"
   ]
  },
  {
   "cell_type": "code",
   "execution_count": 33,
   "metadata": {
    "ExecuteTime": {
     "end_time": "2021-02-16T15:33:09.035488Z",
     "start_time": "2021-02-16T15:33:08.857484Z"
    },
    "collapsed": true
   },
   "outputs": [
    {
     "data": {
      "application/vnd.plotly.v1+json": {
       "config": {
        "plotlyServerURL": "https://plot.ly"
       },
       "data": [
        {
         "geo": "geo",
         "hovertemplate": "<b>%{hovertext}</b><br><br>Happiness Score=%{marker.size}<br>Country=%{location}<br>GDP_per_capita=%{marker.color}<extra></extra>",
         "hovertext": [
          "Finland",
          "Norway",
          "Denmark",
          "Iceland",
          "Switzerland",
          "Netherlands",
          "Canada",
          "New Zealand",
          "Sweden",
          "Australia",
          "United Kingdom",
          "Austria",
          "Costa Rica",
          "Ireland",
          "Germany",
          "Belgium",
          "Luxembourg",
          "United States",
          "Israel",
          "United Arab Emirates",
          "Czech Republic",
          "Malta",
          "France",
          "Mexico",
          "Chile",
          "Taiwan",
          "Panama",
          "Brazil",
          "Argentina",
          "Guatemala",
          "Uruguay",
          "Qatar",
          "Saudi Arabia",
          "Singapore",
          "Malaysia",
          "Spain",
          "Colombia",
          "Trinidad & Tobago",
          "Slovakia",
          "El Salvador",
          "Nicaragua",
          "Poland",
          "Bahrain",
          "Uzbekistan",
          "Kuwait",
          "Thailand",
          "Italy",
          "Ecuador",
          "Belize",
          "Lithuania",
          "Slovenia",
          "Romania",
          "Latvia",
          "Japan",
          "Mauritius",
          "Jamaica",
          "South Korea",
          "Northern Cyprus",
          "Russia",
          "Kazakhstan",
          "Cyprus",
          "Bolivia",
          "Estonia",
          "Paraguay",
          "Peru",
          "Kosovo",
          "Moldova",
          "Turkmenistan",
          "Hungary",
          "Libya",
          "Philippines",
          "Honduras",
          "Belarus",
          "Turkey",
          "Pakistan",
          "Hong Kong",
          "Portugal",
          "Serbia",
          "Greece",
          "Lebanon",
          "Montenegro",
          "Croatia",
          "Dominican Republic",
          "Algeria",
          "Morocco",
          "China",
          "Azerbaijan",
          "Tajikistan",
          "Macedonia",
          "Jordan",
          "Nigeria",
          "Kyrgyzstan",
          "Bosnia and Herzegovina",
          "Mongolia",
          "Vietnam",
          "Indonesia",
          "Bhutan",
          "Somalia",
          "Cameroon",
          "Bulgaria",
          "Nepal",
          "Venezuela",
          "Gabon",
          "Palestinian Territories",
          "South Africa",
          "Iran",
          "Ivory Coast",
          "Ghana",
          "Senegal",
          "Laos",
          "Tunisia",
          "Albania",
          "Sierra Leone",
          "Congo (Brazzaville)",
          "Bangladesh",
          "Sri Lanka",
          "Iraq",
          "Mali",
          "Namibia",
          "Cambodia",
          "Burkina Faso",
          "Egypt",
          "Mozambique",
          "Kenya",
          "Zambia",
          "Mauritania",
          "Ethiopia",
          "Georgia",
          "Armenia",
          "Myanmar",
          "Chad",
          "Congo (Kinshasa)",
          "India",
          "Niger",
          "Uganda",
          "Benin",
          "Sudan",
          "Ukraine",
          "Togo",
          "Guinea",
          "Lesotho",
          "Angola",
          "Madagascar",
          "Zimbabwe",
          "Afghanistan",
          "Botswana",
          "Malawi",
          "Haiti",
          "Liberia",
          "Syria",
          "Rwanda",
          "Yemen",
          "Tanzania",
          "South Sudan",
          "Central African Republic",
          "Burundi"
         ],
         "legendgroup": "",
         "locationmode": "country names",
         "locations": [
          "Finland",
          "Norway",
          "Denmark",
          "Iceland",
          "Switzerland",
          "Netherlands",
          "Canada",
          "New Zealand",
          "Sweden",
          "Australia",
          "United Kingdom",
          "Austria",
          "Costa Rica",
          "Ireland",
          "Germany",
          "Belgium",
          "Luxembourg",
          "United States",
          "Israel",
          "United Arab Emirates",
          "Czech Republic",
          "Malta",
          "France",
          "Mexico",
          "Chile",
          "Taiwan",
          "Panama",
          "Brazil",
          "Argentina",
          "Guatemala",
          "Uruguay",
          "Qatar",
          "Saudi Arabia",
          "Singapore",
          "Malaysia",
          "Spain",
          "Colombia",
          "Trinidad & Tobago",
          "Slovakia",
          "El Salvador",
          "Nicaragua",
          "Poland",
          "Bahrain",
          "Uzbekistan",
          "Kuwait",
          "Thailand",
          "Italy",
          "Ecuador",
          "Belize",
          "Lithuania",
          "Slovenia",
          "Romania",
          "Latvia",
          "Japan",
          "Mauritius",
          "Jamaica",
          "South Korea",
          "Northern Cyprus",
          "Russia",
          "Kazakhstan",
          "Cyprus",
          "Bolivia",
          "Estonia",
          "Paraguay",
          "Peru",
          "Kosovo",
          "Moldova",
          "Turkmenistan",
          "Hungary",
          "Libya",
          "Philippines",
          "Honduras",
          "Belarus",
          "Turkey",
          "Pakistan",
          "Hong Kong",
          "Portugal",
          "Serbia",
          "Greece",
          "Lebanon",
          "Montenegro",
          "Croatia",
          "Dominican Republic",
          "Algeria",
          "Morocco",
          "China",
          "Azerbaijan",
          "Tajikistan",
          "Macedonia",
          "Jordan",
          "Nigeria",
          "Kyrgyzstan",
          "Bosnia and Herzegovina",
          "Mongolia",
          "Vietnam",
          "Indonesia",
          "Bhutan",
          "Somalia",
          "Cameroon",
          "Bulgaria",
          "Nepal",
          "Venezuela",
          "Gabon",
          "Palestinian Territories",
          "South Africa",
          "Iran",
          "Ivory Coast",
          "Ghana",
          "Senegal",
          "Laos",
          "Tunisia",
          "Albania",
          "Sierra Leone",
          "Congo (Brazzaville)",
          "Bangladesh",
          "Sri Lanka",
          "Iraq",
          "Mali",
          "Namibia",
          "Cambodia",
          "Burkina Faso",
          "Egypt",
          "Mozambique",
          "Kenya",
          "Zambia",
          "Mauritania",
          "Ethiopia",
          "Georgia",
          "Armenia",
          "Myanmar",
          "Chad",
          "Congo (Kinshasa)",
          "India",
          "Niger",
          "Uganda",
          "Benin",
          "Sudan",
          "Ukraine",
          "Togo",
          "Guinea",
          "Lesotho",
          "Angola",
          "Madagascar",
          "Zimbabwe",
          "Afghanistan",
          "Botswana",
          "Malawi",
          "Haiti",
          "Liberia",
          "Syria",
          "Rwanda",
          "Yemen",
          "Tanzania",
          "South Sudan",
          "Central African Republic",
          "Burundi"
         ],
         "marker": {
          "color": [
           41899,
           65441,
           47673,
           48606,
           59019,
           49804,
           44051,
           36355,
           47194,
           45439,
           40158,
           46473,
           15685,
           70361,
           45959,
           43218,
           93734,
           55681,
           33661,
           66616,
           null,
           38147,
           39556,
           18102,
           22874,
           null,
           22674,
           14283,
           18282,
           7509,
           20916,
           112532,
           48996,
           90091,
           28176,
           35056,
           13333,
           null,
           31326,
           7393,
           4910,
           28752,
           41973,
           6240,
           65515,
           16905,
           35739,
           10412,
           7810,
           31065,
           32743,
           24544,
           26437,
           39294,
           21075,
           8266,
           null,
           null,
           null,
           24738,
           33048,
           null,
           30991,
           12063,
           12794,
           null,
           null,
           17129,
           28243,
           18406,
           7943,
           4560,
           17742,
           25287,
           4928,
           null,
           28687,
           16035,
           25141,
           11607,
           17278,
           23637,
           15821,
           13886,
           7509,
           16187,
           16011,
           3061,
           null,
           8309,
           5316,
           3447,
           12756,
           12209,
           null,
           11606,
           9348,
           null,
           3352,
           19321,
           2724,
           null,
           15922,
           null,
           12143,
           null,
           null,
           4212,
           3356,
           null,
           11096,
           12306,
           1425,
           null,
           3879,
           11956,
           15565,
           2056,
           9898,
           3870,
           1756,
           11014,
           1180,
           3077,
           3748,
           3724,
           1794,
           10152,
           9178,
           5922,
           1746,
           null,
           6899,
           932,
           1807,
           2152,
           4436,
           7907,
           1565,
           2338,
           2865,
           5725,
           1453,
           2688,
           1735,
           16518,
           1163,
           1656,
           1161,
           null,
           2003,
           2285,
           null,
           1678,
           775,
           660
          ],
          "coloraxis": "coloraxis",
          "size": [
           7.632,
           7.594,
           7.555,
           7.495,
           7.487,
           7.441,
           7.328,
           7.324,
           7.314,
           7.272,
           7.19,
           7.139,
           7.072,
           6.977,
           6.965,
           6.927,
           6.91,
           6.886,
           6.814,
           6.774,
           6.711,
           6.627,
           6.489,
           6.488,
           6.476,
           6.441,
           6.43,
           6.419,
           6.388,
           6.382,
           6.379,
           6.374,
           6.371,
           6.343,
           6.322,
           6.31,
           6.26,
           6.192,
           6.173,
           6.167,
           6.141,
           6.123,
           6.105,
           6.096,
           6.083,
           6.072,
           6,
           5.973,
           5.956,
           5.952,
           5.948,
           5.945,
           5.933,
           5.915,
           5.891,
           5.89,
           5.875,
           5.835,
           5.81,
           5.79,
           5.762,
           5.752,
           5.739,
           5.681,
           5.663,
           5.662,
           5.64,
           5.636,
           5.62,
           5.566,
           5.524,
           5.504,
           5.483,
           5.483,
           5.472,
           5.43,
           5.41,
           5.398,
           5.358,
           5.358,
           5.347,
           5.321,
           5.302,
           5.295,
           5.254,
           5.246,
           5.201,
           5.199,
           5.185,
           5.161,
           5.155,
           5.131,
           5.129,
           5.125,
           5.103,
           5.093,
           5.082,
           4.982,
           4.975,
           4.933,
           4.88,
           4.806,
           4.758,
           4.743,
           4.724,
           4.707,
           4.671,
           4.657,
           4.631,
           4.623,
           4.592,
           4.586,
           4.571,
           4.559,
           4.5,
           4.471,
           4.456,
           4.447,
           4.441,
           4.433,
           4.424,
           4.419,
           4.417,
           4.41,
           4.377,
           4.356,
           4.35,
           4.34,
           4.321,
           4.308,
           4.301,
           4.245,
           4.19,
           4.166,
           4.161,
           4.141,
           4.139,
           4.103,
           3.999,
           3.964,
           3.808,
           3.795,
           3.774,
           3.692,
           3.632,
           3.59,
           3.587,
           3.582,
           3.495,
           3.462,
           3.408,
           3.355,
           3.303,
           3.254,
           3.083,
           2.905
          ],
          "sizemode": "area",
          "sizeref": 0.01908,
          "symbol": "circle"
         },
         "mode": "markers",
         "name": "",
         "showlegend": false,
         "type": "scattergeo"
        }
       ],
       "layout": {
        "coloraxis": {
         "colorbar": {
          "title": {
           "text": "GDP_per_capita"
          }
         },
         "colorscale": [
          [
           0,
           "#0d0887"
          ],
          [
           0.1111111111111111,
           "#46039f"
          ],
          [
           0.2222222222222222,
           "#7201a8"
          ],
          [
           0.3333333333333333,
           "#9c179e"
          ],
          [
           0.4444444444444444,
           "#bd3786"
          ],
          [
           0.5555555555555556,
           "#d8576b"
          ],
          [
           0.6666666666666666,
           "#ed7953"
          ],
          [
           0.7777777777777778,
           "#fb9f3a"
          ],
          [
           0.8888888888888888,
           "#fdca26"
          ],
          [
           1,
           "#f0f921"
          ]
         ]
        },
        "geo": {
         "center": {},
         "domain": {
          "x": [
           0,
           1
          ],
          "y": [
           0,
           1
          ]
         },
         "projection": {
          "type": "orthographic"
         }
        },
        "legend": {
         "itemsizing": "constant",
         "tracegroupgap": 0
        },
        "margin": {
         "t": 60
        },
        "template": {
         "data": {
          "bar": [
           {
            "error_x": {
             "color": "#2a3f5f"
            },
            "error_y": {
             "color": "#2a3f5f"
            },
            "marker": {
             "line": {
              "color": "#E5ECF6",
              "width": 0.5
             }
            },
            "type": "bar"
           }
          ],
          "barpolar": [
           {
            "marker": {
             "line": {
              "color": "#E5ECF6",
              "width": 0.5
             }
            },
            "type": "barpolar"
           }
          ],
          "carpet": [
           {
            "aaxis": {
             "endlinecolor": "#2a3f5f",
             "gridcolor": "white",
             "linecolor": "white",
             "minorgridcolor": "white",
             "startlinecolor": "#2a3f5f"
            },
            "baxis": {
             "endlinecolor": "#2a3f5f",
             "gridcolor": "white",
             "linecolor": "white",
             "minorgridcolor": "white",
             "startlinecolor": "#2a3f5f"
            },
            "type": "carpet"
           }
          ],
          "choropleth": [
           {
            "colorbar": {
             "outlinewidth": 0,
             "ticks": ""
            },
            "type": "choropleth"
           }
          ],
          "contour": [
           {
            "colorbar": {
             "outlinewidth": 0,
             "ticks": ""
            },
            "colorscale": [
             [
              0,
              "#0d0887"
             ],
             [
              0.1111111111111111,
              "#46039f"
             ],
             [
              0.2222222222222222,
              "#7201a8"
             ],
             [
              0.3333333333333333,
              "#9c179e"
             ],
             [
              0.4444444444444444,
              "#bd3786"
             ],
             [
              0.5555555555555556,
              "#d8576b"
             ],
             [
              0.6666666666666666,
              "#ed7953"
             ],
             [
              0.7777777777777778,
              "#fb9f3a"
             ],
             [
              0.8888888888888888,
              "#fdca26"
             ],
             [
              1,
              "#f0f921"
             ]
            ],
            "type": "contour"
           }
          ],
          "contourcarpet": [
           {
            "colorbar": {
             "outlinewidth": 0,
             "ticks": ""
            },
            "type": "contourcarpet"
           }
          ],
          "heatmap": [
           {
            "colorbar": {
             "outlinewidth": 0,
             "ticks": ""
            },
            "colorscale": [
             [
              0,
              "#0d0887"
             ],
             [
              0.1111111111111111,
              "#46039f"
             ],
             [
              0.2222222222222222,
              "#7201a8"
             ],
             [
              0.3333333333333333,
              "#9c179e"
             ],
             [
              0.4444444444444444,
              "#bd3786"
             ],
             [
              0.5555555555555556,
              "#d8576b"
             ],
             [
              0.6666666666666666,
              "#ed7953"
             ],
             [
              0.7777777777777778,
              "#fb9f3a"
             ],
             [
              0.8888888888888888,
              "#fdca26"
             ],
             [
              1,
              "#f0f921"
             ]
            ],
            "type": "heatmap"
           }
          ],
          "heatmapgl": [
           {
            "colorbar": {
             "outlinewidth": 0,
             "ticks": ""
            },
            "colorscale": [
             [
              0,
              "#0d0887"
             ],
             [
              0.1111111111111111,
              "#46039f"
             ],
             [
              0.2222222222222222,
              "#7201a8"
             ],
             [
              0.3333333333333333,
              "#9c179e"
             ],
             [
              0.4444444444444444,
              "#bd3786"
             ],
             [
              0.5555555555555556,
              "#d8576b"
             ],
             [
              0.6666666666666666,
              "#ed7953"
             ],
             [
              0.7777777777777778,
              "#fb9f3a"
             ],
             [
              0.8888888888888888,
              "#fdca26"
             ],
             [
              1,
              "#f0f921"
             ]
            ],
            "type": "heatmapgl"
           }
          ],
          "histogram": [
           {
            "marker": {
             "colorbar": {
              "outlinewidth": 0,
              "ticks": ""
             }
            },
            "type": "histogram"
           }
          ],
          "histogram2d": [
           {
            "colorbar": {
             "outlinewidth": 0,
             "ticks": ""
            },
            "colorscale": [
             [
              0,
              "#0d0887"
             ],
             [
              0.1111111111111111,
              "#46039f"
             ],
             [
              0.2222222222222222,
              "#7201a8"
             ],
             [
              0.3333333333333333,
              "#9c179e"
             ],
             [
              0.4444444444444444,
              "#bd3786"
             ],
             [
              0.5555555555555556,
              "#d8576b"
             ],
             [
              0.6666666666666666,
              "#ed7953"
             ],
             [
              0.7777777777777778,
              "#fb9f3a"
             ],
             [
              0.8888888888888888,
              "#fdca26"
             ],
             [
              1,
              "#f0f921"
             ]
            ],
            "type": "histogram2d"
           }
          ],
          "histogram2dcontour": [
           {
            "colorbar": {
             "outlinewidth": 0,
             "ticks": ""
            },
            "colorscale": [
             [
              0,
              "#0d0887"
             ],
             [
              0.1111111111111111,
              "#46039f"
             ],
             [
              0.2222222222222222,
              "#7201a8"
             ],
             [
              0.3333333333333333,
              "#9c179e"
             ],
             [
              0.4444444444444444,
              "#bd3786"
             ],
             [
              0.5555555555555556,
              "#d8576b"
             ],
             [
              0.6666666666666666,
              "#ed7953"
             ],
             [
              0.7777777777777778,
              "#fb9f3a"
             ],
             [
              0.8888888888888888,
              "#fdca26"
             ],
             [
              1,
              "#f0f921"
             ]
            ],
            "type": "histogram2dcontour"
           }
          ],
          "mesh3d": [
           {
            "colorbar": {
             "outlinewidth": 0,
             "ticks": ""
            },
            "type": "mesh3d"
           }
          ],
          "parcoords": [
           {
            "line": {
             "colorbar": {
              "outlinewidth": 0,
              "ticks": ""
             }
            },
            "type": "parcoords"
           }
          ],
          "pie": [
           {
            "automargin": true,
            "type": "pie"
           }
          ],
          "scatter": [
           {
            "marker": {
             "colorbar": {
              "outlinewidth": 0,
              "ticks": ""
             }
            },
            "type": "scatter"
           }
          ],
          "scatter3d": [
           {
            "line": {
             "colorbar": {
              "outlinewidth": 0,
              "ticks": ""
             }
            },
            "marker": {
             "colorbar": {
              "outlinewidth": 0,
              "ticks": ""
             }
            },
            "type": "scatter3d"
           }
          ],
          "scattercarpet": [
           {
            "marker": {
             "colorbar": {
              "outlinewidth": 0,
              "ticks": ""
             }
            },
            "type": "scattercarpet"
           }
          ],
          "scattergeo": [
           {
            "marker": {
             "colorbar": {
              "outlinewidth": 0,
              "ticks": ""
             }
            },
            "type": "scattergeo"
           }
          ],
          "scattergl": [
           {
            "marker": {
             "colorbar": {
              "outlinewidth": 0,
              "ticks": ""
             }
            },
            "type": "scattergl"
           }
          ],
          "scattermapbox": [
           {
            "marker": {
             "colorbar": {
              "outlinewidth": 0,
              "ticks": ""
             }
            },
            "type": "scattermapbox"
           }
          ],
          "scatterpolar": [
           {
            "marker": {
             "colorbar": {
              "outlinewidth": 0,
              "ticks": ""
             }
            },
            "type": "scatterpolar"
           }
          ],
          "scatterpolargl": [
           {
            "marker": {
             "colorbar": {
              "outlinewidth": 0,
              "ticks": ""
             }
            },
            "type": "scatterpolargl"
           }
          ],
          "scatterternary": [
           {
            "marker": {
             "colorbar": {
              "outlinewidth": 0,
              "ticks": ""
             }
            },
            "type": "scatterternary"
           }
          ],
          "surface": [
           {
            "colorbar": {
             "outlinewidth": 0,
             "ticks": ""
            },
            "colorscale": [
             [
              0,
              "#0d0887"
             ],
             [
              0.1111111111111111,
              "#46039f"
             ],
             [
              0.2222222222222222,
              "#7201a8"
             ],
             [
              0.3333333333333333,
              "#9c179e"
             ],
             [
              0.4444444444444444,
              "#bd3786"
             ],
             [
              0.5555555555555556,
              "#d8576b"
             ],
             [
              0.6666666666666666,
              "#ed7953"
             ],
             [
              0.7777777777777778,
              "#fb9f3a"
             ],
             [
              0.8888888888888888,
              "#fdca26"
             ],
             [
              1,
              "#f0f921"
             ]
            ],
            "type": "surface"
           }
          ],
          "table": [
           {
            "cells": {
             "fill": {
              "color": "#EBF0F8"
             },
             "line": {
              "color": "white"
             }
            },
            "header": {
             "fill": {
              "color": "#C8D4E3"
             },
             "line": {
              "color": "white"
             }
            },
            "type": "table"
           }
          ]
         },
         "layout": {
          "annotationdefaults": {
           "arrowcolor": "#2a3f5f",
           "arrowhead": 0,
           "arrowwidth": 1
          },
          "autotypenumbers": "strict",
          "coloraxis": {
           "colorbar": {
            "outlinewidth": 0,
            "ticks": ""
           }
          },
          "colorscale": {
           "diverging": [
            [
             0,
             "#8e0152"
            ],
            [
             0.1,
             "#c51b7d"
            ],
            [
             0.2,
             "#de77ae"
            ],
            [
             0.3,
             "#f1b6da"
            ],
            [
             0.4,
             "#fde0ef"
            ],
            [
             0.5,
             "#f7f7f7"
            ],
            [
             0.6,
             "#e6f5d0"
            ],
            [
             0.7,
             "#b8e186"
            ],
            [
             0.8,
             "#7fbc41"
            ],
            [
             0.9,
             "#4d9221"
            ],
            [
             1,
             "#276419"
            ]
           ],
           "sequential": [
            [
             0,
             "#0d0887"
            ],
            [
             0.1111111111111111,
             "#46039f"
            ],
            [
             0.2222222222222222,
             "#7201a8"
            ],
            [
             0.3333333333333333,
             "#9c179e"
            ],
            [
             0.4444444444444444,
             "#bd3786"
            ],
            [
             0.5555555555555556,
             "#d8576b"
            ],
            [
             0.6666666666666666,
             "#ed7953"
            ],
            [
             0.7777777777777778,
             "#fb9f3a"
            ],
            [
             0.8888888888888888,
             "#fdca26"
            ],
            [
             1,
             "#f0f921"
            ]
           ],
           "sequentialminus": [
            [
             0,
             "#0d0887"
            ],
            [
             0.1111111111111111,
             "#46039f"
            ],
            [
             0.2222222222222222,
             "#7201a8"
            ],
            [
             0.3333333333333333,
             "#9c179e"
            ],
            [
             0.4444444444444444,
             "#bd3786"
            ],
            [
             0.5555555555555556,
             "#d8576b"
            ],
            [
             0.6666666666666666,
             "#ed7953"
            ],
            [
             0.7777777777777778,
             "#fb9f3a"
            ],
            [
             0.8888888888888888,
             "#fdca26"
            ],
            [
             1,
             "#f0f921"
            ]
           ]
          },
          "colorway": [
           "#636efa",
           "#EF553B",
           "#00cc96",
           "#ab63fa",
           "#FFA15A",
           "#19d3f3",
           "#FF6692",
           "#B6E880",
           "#FF97FF",
           "#FECB52"
          ],
          "font": {
           "color": "#2a3f5f"
          },
          "geo": {
           "bgcolor": "white",
           "lakecolor": "white",
           "landcolor": "#E5ECF6",
           "showlakes": true,
           "showland": true,
           "subunitcolor": "white"
          },
          "hoverlabel": {
           "align": "left"
          },
          "hovermode": "closest",
          "mapbox": {
           "style": "light"
          },
          "paper_bgcolor": "white",
          "plot_bgcolor": "#E5ECF6",
          "polar": {
           "angularaxis": {
            "gridcolor": "white",
            "linecolor": "white",
            "ticks": ""
           },
           "bgcolor": "#E5ECF6",
           "radialaxis": {
            "gridcolor": "white",
            "linecolor": "white",
            "ticks": ""
           }
          },
          "scene": {
           "xaxis": {
            "backgroundcolor": "#E5ECF6",
            "gridcolor": "white",
            "gridwidth": 2,
            "linecolor": "white",
            "showbackground": true,
            "ticks": "",
            "zerolinecolor": "white"
           },
           "yaxis": {
            "backgroundcolor": "#E5ECF6",
            "gridcolor": "white",
            "gridwidth": 2,
            "linecolor": "white",
            "showbackground": true,
            "ticks": "",
            "zerolinecolor": "white"
           },
           "zaxis": {
            "backgroundcolor": "#E5ECF6",
            "gridcolor": "white",
            "gridwidth": 2,
            "linecolor": "white",
            "showbackground": true,
            "ticks": "",
            "zerolinecolor": "white"
           }
          },
          "shapedefaults": {
           "line": {
            "color": "#2a3f5f"
           }
          },
          "ternary": {
           "aaxis": {
            "gridcolor": "white",
            "linecolor": "white",
            "ticks": ""
           },
           "baxis": {
            "gridcolor": "white",
            "linecolor": "white",
            "ticks": ""
           },
           "bgcolor": "#E5ECF6",
           "caxis": {
            "gridcolor": "white",
            "linecolor": "white",
            "ticks": ""
           }
          },
          "title": {
           "x": 0.05
          },
          "xaxis": {
           "automargin": true,
           "gridcolor": "white",
           "linecolor": "white",
           "ticks": "",
           "title": {
            "standoff": 15
           },
           "zerolinecolor": "white",
           "zerolinewidth": 2
          },
          "yaxis": {
           "automargin": true,
           "gridcolor": "white",
           "linecolor": "white",
           "ticks": "",
           "title": {
            "standoff": 15
           },
           "zerolinecolor": "white",
           "zerolinewidth": 2
          }
         }
        }
       }
      },
      "text/html": [
       "<div>                            <div id=\"4878a96f-2ce8-4495-8a09-7c45ca158166\" class=\"plotly-graph-div\" style=\"height:525px; width:100%;\"></div>            <script type=\"text/javascript\">                require([\"plotly\"], function(Plotly) {                    window.PLOTLYENV=window.PLOTLYENV || {};                                    if (document.getElementById(\"4878a96f-2ce8-4495-8a09-7c45ca158166\")) {                    Plotly.newPlot(                        \"4878a96f-2ce8-4495-8a09-7c45ca158166\",                        [{\"geo\": \"geo\", \"hovertemplate\": \"<b>%{hovertext}</b><br><br>Happiness Score=%{marker.size}<br>Country=%{location}<br>GDP_per_capita=%{marker.color}<extra></extra>\", \"hovertext\": [\"Finland\", \"Norway\", \"Denmark\", \"Iceland\", \"Switzerland\", \"Netherlands\", \"Canada\", \"New Zealand\", \"Sweden\", \"Australia\", \"United Kingdom\", \"Austria\", \"Costa Rica\", \"Ireland\", \"Germany\", \"Belgium\", \"Luxembourg\", \"United States\", \"Israel\", \"United Arab Emirates\", \"Czech Republic\", \"Malta\", \"France\", \"Mexico\", \"Chile\", \"Taiwan\", \"Panama\", \"Brazil\", \"Argentina\", \"Guatemala\", \"Uruguay\", \"Qatar\", \"Saudi Arabia\", \"Singapore\", \"Malaysia\", \"Spain\", \"Colombia\", \"Trinidad & Tobago\", \"Slovakia\", \"El Salvador\", \"Nicaragua\", \"Poland\", \"Bahrain\", \"Uzbekistan\", \"Kuwait\", \"Thailand\", \"Italy\", \"Ecuador\", \"Belize\", \"Lithuania\", \"Slovenia\", \"Romania\", \"Latvia\", \"Japan\", \"Mauritius\", \"Jamaica\", \"South Korea\", \"Northern Cyprus\", \"Russia\", \"Kazakhstan\", \"Cyprus\", \"Bolivia\", \"Estonia\", \"Paraguay\", \"Peru\", \"Kosovo\", \"Moldova\", \"Turkmenistan\", \"Hungary\", \"Libya\", \"Philippines\", \"Honduras\", \"Belarus\", \"Turkey\", \"Pakistan\", \"Hong Kong\", \"Portugal\", \"Serbia\", \"Greece\", \"Lebanon\", \"Montenegro\", \"Croatia\", \"Dominican Republic\", \"Algeria\", \"Morocco\", \"China\", \"Azerbaijan\", \"Tajikistan\", \"Macedonia\", \"Jordan\", \"Nigeria\", \"Kyrgyzstan\", \"Bosnia and Herzegovina\", \"Mongolia\", \"Vietnam\", \"Indonesia\", \"Bhutan\", \"Somalia\", \"Cameroon\", \"Bulgaria\", \"Nepal\", \"Venezuela\", \"Gabon\", \"Palestinian Territories\", \"South Africa\", \"Iran\", \"Ivory Coast\", \"Ghana\", \"Senegal\", \"Laos\", \"Tunisia\", \"Albania\", \"Sierra Leone\", \"Congo (Brazzaville)\", \"Bangladesh\", \"Sri Lanka\", \"Iraq\", \"Mali\", \"Namibia\", \"Cambodia\", \"Burkina Faso\", \"Egypt\", \"Mozambique\", \"Kenya\", \"Zambia\", \"Mauritania\", \"Ethiopia\", \"Georgia\", \"Armenia\", \"Myanmar\", \"Chad\", \"Congo (Kinshasa)\", \"India\", \"Niger\", \"Uganda\", \"Benin\", \"Sudan\", \"Ukraine\", \"Togo\", \"Guinea\", \"Lesotho\", \"Angola\", \"Madagascar\", \"Zimbabwe\", \"Afghanistan\", \"Botswana\", \"Malawi\", \"Haiti\", \"Liberia\", \"Syria\", \"Rwanda\", \"Yemen\", \"Tanzania\", \"South Sudan\", \"Central African Republic\", \"Burundi\"], \"legendgroup\": \"\", \"locationmode\": \"country names\", \"locations\": [\"Finland\", \"Norway\", \"Denmark\", \"Iceland\", \"Switzerland\", \"Netherlands\", \"Canada\", \"New Zealand\", \"Sweden\", \"Australia\", \"United Kingdom\", \"Austria\", \"Costa Rica\", \"Ireland\", \"Germany\", \"Belgium\", \"Luxembourg\", \"United States\", \"Israel\", \"United Arab Emirates\", \"Czech Republic\", \"Malta\", \"France\", \"Mexico\", \"Chile\", \"Taiwan\", \"Panama\", \"Brazil\", \"Argentina\", \"Guatemala\", \"Uruguay\", \"Qatar\", \"Saudi Arabia\", \"Singapore\", \"Malaysia\", \"Spain\", \"Colombia\", \"Trinidad & Tobago\", \"Slovakia\", \"El Salvador\", \"Nicaragua\", \"Poland\", \"Bahrain\", \"Uzbekistan\", \"Kuwait\", \"Thailand\", \"Italy\", \"Ecuador\", \"Belize\", \"Lithuania\", \"Slovenia\", \"Romania\", \"Latvia\", \"Japan\", \"Mauritius\", \"Jamaica\", \"South Korea\", \"Northern Cyprus\", \"Russia\", \"Kazakhstan\", \"Cyprus\", \"Bolivia\", \"Estonia\", \"Paraguay\", \"Peru\", \"Kosovo\", \"Moldova\", \"Turkmenistan\", \"Hungary\", \"Libya\", \"Philippines\", \"Honduras\", \"Belarus\", \"Turkey\", \"Pakistan\", \"Hong Kong\", \"Portugal\", \"Serbia\", \"Greece\", \"Lebanon\", \"Montenegro\", \"Croatia\", \"Dominican Republic\", \"Algeria\", \"Morocco\", \"China\", \"Azerbaijan\", \"Tajikistan\", \"Macedonia\", \"Jordan\", \"Nigeria\", \"Kyrgyzstan\", \"Bosnia and Herzegovina\", \"Mongolia\", \"Vietnam\", \"Indonesia\", \"Bhutan\", \"Somalia\", \"Cameroon\", \"Bulgaria\", \"Nepal\", \"Venezuela\", \"Gabon\", \"Palestinian Territories\", \"South Africa\", \"Iran\", \"Ivory Coast\", \"Ghana\", \"Senegal\", \"Laos\", \"Tunisia\", \"Albania\", \"Sierra Leone\", \"Congo (Brazzaville)\", \"Bangladesh\", \"Sri Lanka\", \"Iraq\", \"Mali\", \"Namibia\", \"Cambodia\", \"Burkina Faso\", \"Egypt\", \"Mozambique\", \"Kenya\", \"Zambia\", \"Mauritania\", \"Ethiopia\", \"Georgia\", \"Armenia\", \"Myanmar\", \"Chad\", \"Congo (Kinshasa)\", \"India\", \"Niger\", \"Uganda\", \"Benin\", \"Sudan\", \"Ukraine\", \"Togo\", \"Guinea\", \"Lesotho\", \"Angola\", \"Madagascar\", \"Zimbabwe\", \"Afghanistan\", \"Botswana\", \"Malawi\", \"Haiti\", \"Liberia\", \"Syria\", \"Rwanda\", \"Yemen\", \"Tanzania\", \"South Sudan\", \"Central African Republic\", \"Burundi\"], \"marker\": {\"color\": [41899.0, 65441.0, 47673.0, 48606.0, 59019.0, 49804.0, 44051.0, 36355.0, 47194.0, 45439.0, 40158.0, 46473.0, 15685.0, 70361.0, 45959.0, 43218.0, 93734.0, 55681.0, 33661.0, 66616.0, null, 38147.0, 39556.0, 18102.0, 22874.0, null, 22674.0, 14283.0, 18282.0, 7509.0, 20916.0, 112532.0, 48996.0, 90091.0, 28176.0, 35056.0, 13333.0, null, 31326.0, 7393.0, 4910.0, 28752.0, 41973.0, 6240.0, 65515.0, 16905.0, 35739.0, 10412.0, 7810.0, 31065.0, 32743.0, 24544.0, 26437.0, 39294.0, 21075.0, 8266.0, null, null, null, 24738.0, 33048.0, null, 30991.0, 12063.0, 12794.0, null, null, 17129.0, 28243.0, 18406.0, 7943.0, 4560.0, 17742.0, 25287.0, 4928.0, null, 28687.0, 16035.0, 25141.0, 11607.0, 17278.0, 23637.0, 15821.0, 13886.0, 7509.0, 16187.0, 16011.0, 3061.0, null, 8309.0, 5316.0, 3447.0, 12756.0, 12209.0, null, 11606.0, 9348.0, null, 3352.0, 19321.0, 2724.0, null, 15922.0, null, 12143.0, null, null, 4212.0, 3356.0, null, 11096.0, 12306.0, 1425.0, null, 3879.0, 11956.0, 15565.0, 2056.0, 9898.0, 3870.0, 1756.0, 11014.0, 1180.0, 3077.0, 3748.0, 3724.0, 1794.0, 10152.0, 9178.0, 5922.0, 1746.0, null, 6899.0, 932.0, 1807.0, 2152.0, 4436.0, 7907.0, 1565.0, 2338.0, 2865.0, 5725.0, 1453.0, 2688.0, 1735.0, 16518.0, 1163.0, 1656.0, 1161.0, null, 2003.0, 2285.0, null, 1678.0, 775.0, 660.0], \"coloraxis\": \"coloraxis\", \"size\": [7.632, 7.594, 7.555, 7.495, 7.487, 7.441, 7.328, 7.324, 7.314, 7.272, 7.19, 7.139, 7.072, 6.977, 6.965, 6.927, 6.91, 6.886, 6.814, 6.774, 6.711, 6.627, 6.489, 6.488, 6.476, 6.441, 6.43, 6.419, 6.388, 6.382, 6.379, 6.374, 6.371, 6.343, 6.322, 6.31, 6.26, 6.192, 6.173, 6.167, 6.141, 6.123, 6.105, 6.096, 6.083, 6.072, 6.0, 5.973, 5.956, 5.952, 5.948, 5.945, 5.933, 5.915, 5.891, 5.89, 5.875, 5.835, 5.81, 5.79, 5.762, 5.752, 5.739, 5.681, 5.663, 5.662, 5.64, 5.636, 5.62, 5.566, 5.524, 5.504, 5.483, 5.483, 5.472, 5.43, 5.41, 5.398, 5.358, 5.358, 5.347, 5.321, 5.302, 5.295, 5.254, 5.246, 5.201, 5.199, 5.185, 5.161, 5.155, 5.131, 5.129, 5.125, 5.103, 5.093, 5.082, 4.982, 4.975, 4.933, 4.88, 4.806, 4.758, 4.743, 4.724, 4.707, 4.671, 4.657, 4.631, 4.623, 4.592, 4.586, 4.571, 4.559, 4.5, 4.471, 4.456, 4.447, 4.441, 4.433, 4.424, 4.419, 4.417, 4.41, 4.377, 4.356, 4.35, 4.34, 4.321, 4.308, 4.301, 4.245, 4.19, 4.166, 4.161, 4.141, 4.139, 4.103, 3.999, 3.964, 3.808, 3.795, 3.774, 3.692, 3.632, 3.59, 3.587, 3.582, 3.495, 3.462, 3.408, 3.355, 3.303, 3.254, 3.083, 2.905], \"sizemode\": \"area\", \"sizeref\": 0.01908, \"symbol\": \"circle\"}, \"mode\": \"markers\", \"name\": \"\", \"showlegend\": false, \"type\": \"scattergeo\"}],                        {\"coloraxis\": {\"colorbar\": {\"title\": {\"text\": \"GDP_per_capita\"}}, \"colorscale\": [[0.0, \"#0d0887\"], [0.1111111111111111, \"#46039f\"], [0.2222222222222222, \"#7201a8\"], [0.3333333333333333, \"#9c179e\"], [0.4444444444444444, \"#bd3786\"], [0.5555555555555556, \"#d8576b\"], [0.6666666666666666, \"#ed7953\"], [0.7777777777777778, \"#fb9f3a\"], [0.8888888888888888, \"#fdca26\"], [1.0, \"#f0f921\"]]}, \"geo\": {\"center\": {}, \"domain\": {\"x\": [0.0, 1.0], \"y\": [0.0, 1.0]}, \"projection\": {\"type\": \"orthographic\"}}, \"legend\": {\"itemsizing\": \"constant\", \"tracegroupgap\": 0}, \"margin\": {\"t\": 60}, \"template\": {\"data\": {\"bar\": [{\"error_x\": {\"color\": \"#2a3f5f\"}, \"error_y\": {\"color\": \"#2a3f5f\"}, \"marker\": {\"line\": {\"color\": \"#E5ECF6\", \"width\": 0.5}}, \"type\": \"bar\"}], \"barpolar\": [{\"marker\": {\"line\": {\"color\": \"#E5ECF6\", \"width\": 0.5}}, \"type\": \"barpolar\"}], \"carpet\": [{\"aaxis\": {\"endlinecolor\": \"#2a3f5f\", \"gridcolor\": \"white\", \"linecolor\": \"white\", \"minorgridcolor\": \"white\", \"startlinecolor\": \"#2a3f5f\"}, \"baxis\": {\"endlinecolor\": \"#2a3f5f\", \"gridcolor\": \"white\", \"linecolor\": \"white\", \"minorgridcolor\": \"white\", \"startlinecolor\": \"#2a3f5f\"}, \"type\": \"carpet\"}], \"choropleth\": [{\"colorbar\": {\"outlinewidth\": 0, \"ticks\": \"\"}, \"type\": \"choropleth\"}], \"contour\": [{\"colorbar\": {\"outlinewidth\": 0, \"ticks\": \"\"}, \"colorscale\": [[0.0, \"#0d0887\"], [0.1111111111111111, \"#46039f\"], [0.2222222222222222, \"#7201a8\"], [0.3333333333333333, \"#9c179e\"], [0.4444444444444444, \"#bd3786\"], [0.5555555555555556, \"#d8576b\"], [0.6666666666666666, \"#ed7953\"], [0.7777777777777778, \"#fb9f3a\"], [0.8888888888888888, \"#fdca26\"], [1.0, \"#f0f921\"]], \"type\": \"contour\"}], \"contourcarpet\": [{\"colorbar\": {\"outlinewidth\": 0, \"ticks\": \"\"}, \"type\": \"contourcarpet\"}], \"heatmap\": [{\"colorbar\": {\"outlinewidth\": 0, \"ticks\": \"\"}, \"colorscale\": [[0.0, \"#0d0887\"], [0.1111111111111111, \"#46039f\"], [0.2222222222222222, \"#7201a8\"], [0.3333333333333333, \"#9c179e\"], [0.4444444444444444, \"#bd3786\"], [0.5555555555555556, \"#d8576b\"], [0.6666666666666666, \"#ed7953\"], [0.7777777777777778, \"#fb9f3a\"], [0.8888888888888888, \"#fdca26\"], [1.0, \"#f0f921\"]], \"type\": \"heatmap\"}], \"heatmapgl\": [{\"colorbar\": {\"outlinewidth\": 0, \"ticks\": \"\"}, \"colorscale\": [[0.0, \"#0d0887\"], [0.1111111111111111, \"#46039f\"], [0.2222222222222222, \"#7201a8\"], [0.3333333333333333, \"#9c179e\"], [0.4444444444444444, \"#bd3786\"], [0.5555555555555556, \"#d8576b\"], [0.6666666666666666, \"#ed7953\"], [0.7777777777777778, \"#fb9f3a\"], [0.8888888888888888, \"#fdca26\"], [1.0, \"#f0f921\"]], \"type\": \"heatmapgl\"}], \"histogram\": [{\"marker\": {\"colorbar\": {\"outlinewidth\": 0, \"ticks\": \"\"}}, \"type\": \"histogram\"}], \"histogram2d\": [{\"colorbar\": {\"outlinewidth\": 0, \"ticks\": \"\"}, \"colorscale\": [[0.0, \"#0d0887\"], [0.1111111111111111, \"#46039f\"], [0.2222222222222222, \"#7201a8\"], [0.3333333333333333, \"#9c179e\"], [0.4444444444444444, \"#bd3786\"], [0.5555555555555556, \"#d8576b\"], [0.6666666666666666, \"#ed7953\"], [0.7777777777777778, \"#fb9f3a\"], [0.8888888888888888, \"#fdca26\"], [1.0, \"#f0f921\"]], \"type\": \"histogram2d\"}], \"histogram2dcontour\": [{\"colorbar\": {\"outlinewidth\": 0, \"ticks\": \"\"}, \"colorscale\": [[0.0, \"#0d0887\"], [0.1111111111111111, \"#46039f\"], [0.2222222222222222, \"#7201a8\"], [0.3333333333333333, \"#9c179e\"], [0.4444444444444444, \"#bd3786\"], [0.5555555555555556, \"#d8576b\"], [0.6666666666666666, \"#ed7953\"], [0.7777777777777778, \"#fb9f3a\"], [0.8888888888888888, \"#fdca26\"], [1.0, \"#f0f921\"]], \"type\": \"histogram2dcontour\"}], \"mesh3d\": [{\"colorbar\": {\"outlinewidth\": 0, \"ticks\": \"\"}, \"type\": \"mesh3d\"}], \"parcoords\": [{\"line\": {\"colorbar\": {\"outlinewidth\": 0, \"ticks\": \"\"}}, \"type\": \"parcoords\"}], \"pie\": [{\"automargin\": true, \"type\": \"pie\"}], \"scatter\": [{\"marker\": {\"colorbar\": {\"outlinewidth\": 0, \"ticks\": \"\"}}, \"type\": \"scatter\"}], \"scatter3d\": [{\"line\": {\"colorbar\": {\"outlinewidth\": 0, \"ticks\": \"\"}}, \"marker\": {\"colorbar\": {\"outlinewidth\": 0, \"ticks\": \"\"}}, \"type\": \"scatter3d\"}], \"scattercarpet\": [{\"marker\": {\"colorbar\": {\"outlinewidth\": 0, \"ticks\": \"\"}}, \"type\": \"scattercarpet\"}], \"scattergeo\": [{\"marker\": {\"colorbar\": {\"outlinewidth\": 0, \"ticks\": \"\"}}, \"type\": \"scattergeo\"}], \"scattergl\": [{\"marker\": {\"colorbar\": {\"outlinewidth\": 0, \"ticks\": \"\"}}, \"type\": \"scattergl\"}], \"scattermapbox\": [{\"marker\": {\"colorbar\": {\"outlinewidth\": 0, \"ticks\": \"\"}}, \"type\": \"scattermapbox\"}], \"scatterpolar\": [{\"marker\": {\"colorbar\": {\"outlinewidth\": 0, \"ticks\": \"\"}}, \"type\": \"scatterpolar\"}], \"scatterpolargl\": [{\"marker\": {\"colorbar\": {\"outlinewidth\": 0, \"ticks\": \"\"}}, \"type\": \"scatterpolargl\"}], \"scatterternary\": [{\"marker\": {\"colorbar\": {\"outlinewidth\": 0, \"ticks\": \"\"}}, \"type\": \"scatterternary\"}], \"surface\": [{\"colorbar\": {\"outlinewidth\": 0, \"ticks\": \"\"}, \"colorscale\": [[0.0, \"#0d0887\"], [0.1111111111111111, \"#46039f\"], [0.2222222222222222, \"#7201a8\"], [0.3333333333333333, \"#9c179e\"], [0.4444444444444444, \"#bd3786\"], [0.5555555555555556, \"#d8576b\"], [0.6666666666666666, \"#ed7953\"], [0.7777777777777778, \"#fb9f3a\"], [0.8888888888888888, \"#fdca26\"], [1.0, \"#f0f921\"]], \"type\": \"surface\"}], \"table\": [{\"cells\": {\"fill\": {\"color\": \"#EBF0F8\"}, \"line\": {\"color\": \"white\"}}, \"header\": {\"fill\": {\"color\": \"#C8D4E3\"}, \"line\": {\"color\": \"white\"}}, \"type\": \"table\"}]}, \"layout\": {\"annotationdefaults\": {\"arrowcolor\": \"#2a3f5f\", \"arrowhead\": 0, \"arrowwidth\": 1}, \"autotypenumbers\": \"strict\", \"coloraxis\": {\"colorbar\": {\"outlinewidth\": 0, \"ticks\": \"\"}}, \"colorscale\": {\"diverging\": [[0, \"#8e0152\"], [0.1, \"#c51b7d\"], [0.2, \"#de77ae\"], [0.3, \"#f1b6da\"], [0.4, \"#fde0ef\"], [0.5, \"#f7f7f7\"], [0.6, \"#e6f5d0\"], [0.7, \"#b8e186\"], [0.8, \"#7fbc41\"], [0.9, \"#4d9221\"], [1, \"#276419\"]], \"sequential\": [[0.0, \"#0d0887\"], [0.1111111111111111, \"#46039f\"], [0.2222222222222222, \"#7201a8\"], [0.3333333333333333, \"#9c179e\"], [0.4444444444444444, \"#bd3786\"], [0.5555555555555556, \"#d8576b\"], [0.6666666666666666, \"#ed7953\"], [0.7777777777777778, \"#fb9f3a\"], [0.8888888888888888, \"#fdca26\"], [1.0, \"#f0f921\"]], \"sequentialminus\": [[0.0, \"#0d0887\"], [0.1111111111111111, \"#46039f\"], [0.2222222222222222, \"#7201a8\"], [0.3333333333333333, \"#9c179e\"], [0.4444444444444444, \"#bd3786\"], [0.5555555555555556, \"#d8576b\"], [0.6666666666666666, \"#ed7953\"], [0.7777777777777778, \"#fb9f3a\"], [0.8888888888888888, \"#fdca26\"], [1.0, \"#f0f921\"]]}, \"colorway\": [\"#636efa\", \"#EF553B\", \"#00cc96\", \"#ab63fa\", \"#FFA15A\", \"#19d3f3\", \"#FF6692\", \"#B6E880\", \"#FF97FF\", \"#FECB52\"], \"font\": {\"color\": \"#2a3f5f\"}, \"geo\": {\"bgcolor\": \"white\", \"lakecolor\": \"white\", \"landcolor\": \"#E5ECF6\", \"showlakes\": true, \"showland\": true, \"subunitcolor\": \"white\"}, \"hoverlabel\": {\"align\": \"left\"}, \"hovermode\": \"closest\", \"mapbox\": {\"style\": \"light\"}, \"paper_bgcolor\": \"white\", \"plot_bgcolor\": \"#E5ECF6\", \"polar\": {\"angularaxis\": {\"gridcolor\": \"white\", \"linecolor\": \"white\", \"ticks\": \"\"}, \"bgcolor\": \"#E5ECF6\", \"radialaxis\": {\"gridcolor\": \"white\", \"linecolor\": \"white\", \"ticks\": \"\"}}, \"scene\": {\"xaxis\": {\"backgroundcolor\": \"#E5ECF6\", \"gridcolor\": \"white\", \"gridwidth\": 2, \"linecolor\": \"white\", \"showbackground\": true, \"ticks\": \"\", \"zerolinecolor\": \"white\"}, \"yaxis\": {\"backgroundcolor\": \"#E5ECF6\", \"gridcolor\": \"white\", \"gridwidth\": 2, \"linecolor\": \"white\", \"showbackground\": true, \"ticks\": \"\", \"zerolinecolor\": \"white\"}, \"zaxis\": {\"backgroundcolor\": \"#E5ECF6\", \"gridcolor\": \"white\", \"gridwidth\": 2, \"linecolor\": \"white\", \"showbackground\": true, \"ticks\": \"\", \"zerolinecolor\": \"white\"}}, \"shapedefaults\": {\"line\": {\"color\": \"#2a3f5f\"}}, \"ternary\": {\"aaxis\": {\"gridcolor\": \"white\", \"linecolor\": \"white\", \"ticks\": \"\"}, \"baxis\": {\"gridcolor\": \"white\", \"linecolor\": \"white\", \"ticks\": \"\"}, \"bgcolor\": \"#E5ECF6\", \"caxis\": {\"gridcolor\": \"white\", \"linecolor\": \"white\", \"ticks\": \"\"}}, \"title\": {\"x\": 0.05}, \"xaxis\": {\"automargin\": true, \"gridcolor\": \"white\", \"linecolor\": \"white\", \"ticks\": \"\", \"title\": {\"standoff\": 15}, \"zerolinecolor\": \"white\", \"zerolinewidth\": 2}, \"yaxis\": {\"automargin\": true, \"gridcolor\": \"white\", \"linecolor\": \"white\", \"ticks\": \"\", \"title\": {\"standoff\": 15}, \"zerolinecolor\": \"white\", \"zerolinewidth\": 2}}}},                        {\"responsive\": true}                    ).then(function(){\n",
       "                            \n",
       "var gd = document.getElementById('4878a96f-2ce8-4495-8a09-7c45ca158166');\n",
       "var x = new MutationObserver(function (mutations, observer) {{\n",
       "        var display = window.getComputedStyle(gd).display;\n",
       "        if (!display || display === 'none') {{\n",
       "            console.log([gd, 'removed!']);\n",
       "            Plotly.purge(gd);\n",
       "            observer.disconnect();\n",
       "        }}\n",
       "}});\n",
       "\n",
       "// Listen for the removal of the full notebook cells\n",
       "var notebookContainer = gd.closest('#notebook-container');\n",
       "if (notebookContainer) {{\n",
       "    x.observe(notebookContainer, {childList: true});\n",
       "}}\n",
       "\n",
       "// Listen for the clearing of the current output cell\n",
       "var outputEl = gd.closest('.output');\n",
       "if (outputEl) {{\n",
       "    x.observe(outputEl, {childList: true});\n",
       "}}\n",
       "\n",
       "                        })                };                });            </script>        </div>"
      ]
     },
     "metadata": {},
     "output_type": "display_data"
    }
   ],
   "source": [
    "\n",
    "# we construct the plot and set the locations \n",
    "\n",
    "fig = px.scatter_geo(data, locations=\"Country\",\n",
    "                     locationmode=\"country names\",\n",
    "                    color=\"GDP_per_capita\", \n",
    "                    hover_name=\"Country\",\n",
    "                    size=\"Happiness Score\", \n",
    "                    projection=\"orthographic\"\n",
    "                    )\n",
    "fig"
   ]
  },
  {
   "cell_type": "code",
   "execution_count": 34,
   "metadata": {
    "ExecuteTime": {
     "end_time": "2021-02-16T15:33:09.146828Z",
     "start_time": "2021-02-16T15:33:09.039131Z"
    },
    "collapsed": true
   },
   "outputs": [
    {
     "data": {
      "application/vnd.plotly.v1+json": {
       "config": {
        "plotlyServerURL": "https://plot.ly"
       },
       "data": [
        {
         "coloraxis": "coloraxis",
         "geo": "geo",
         "hovertemplate": "<b>%{hovertext}</b><br><br>Country=%{location}<br>GDP_per_capita=%{z}<extra></extra>",
         "hovertext": [
          "Finland",
          "Norway",
          "Denmark",
          "Iceland",
          "Switzerland",
          "Netherlands",
          "Canada",
          "New Zealand",
          "Sweden",
          "Australia",
          "United Kingdom",
          "Austria",
          "Costa Rica",
          "Ireland",
          "Germany",
          "Belgium",
          "Luxembourg",
          "United States",
          "Israel",
          "United Arab Emirates",
          "Czech Republic",
          "Malta",
          "France",
          "Mexico",
          "Chile",
          "Taiwan",
          "Panama",
          "Brazil",
          "Argentina",
          "Guatemala",
          "Uruguay",
          "Qatar",
          "Saudi Arabia",
          "Singapore",
          "Malaysia",
          "Spain",
          "Colombia",
          "Trinidad & Tobago",
          "Slovakia",
          "El Salvador",
          "Nicaragua",
          "Poland",
          "Bahrain",
          "Uzbekistan",
          "Kuwait",
          "Thailand",
          "Italy",
          "Ecuador",
          "Belize",
          "Lithuania",
          "Slovenia",
          "Romania",
          "Latvia",
          "Japan",
          "Mauritius",
          "Jamaica",
          "South Korea",
          "Northern Cyprus",
          "Russia",
          "Kazakhstan",
          "Cyprus",
          "Bolivia",
          "Estonia",
          "Paraguay",
          "Peru",
          "Kosovo",
          "Moldova",
          "Turkmenistan",
          "Hungary",
          "Libya",
          "Philippines",
          "Honduras",
          "Belarus",
          "Turkey",
          "Pakistan",
          "Hong Kong",
          "Portugal",
          "Serbia",
          "Greece",
          "Lebanon",
          "Montenegro",
          "Croatia",
          "Dominican Republic",
          "Algeria",
          "Morocco",
          "China",
          "Azerbaijan",
          "Tajikistan",
          "Macedonia",
          "Jordan",
          "Nigeria",
          "Kyrgyzstan",
          "Bosnia and Herzegovina",
          "Mongolia",
          "Vietnam",
          "Indonesia",
          "Bhutan",
          "Somalia",
          "Cameroon",
          "Bulgaria",
          "Nepal",
          "Venezuela",
          "Gabon",
          "Palestinian Territories",
          "South Africa",
          "Iran",
          "Ivory Coast",
          "Ghana",
          "Senegal",
          "Laos",
          "Tunisia",
          "Albania",
          "Sierra Leone",
          "Congo (Brazzaville)",
          "Bangladesh",
          "Sri Lanka",
          "Iraq",
          "Mali",
          "Namibia",
          "Cambodia",
          "Burkina Faso",
          "Egypt",
          "Mozambique",
          "Kenya",
          "Zambia",
          "Mauritania",
          "Ethiopia",
          "Georgia",
          "Armenia",
          "Myanmar",
          "Chad",
          "Congo (Kinshasa)",
          "India",
          "Niger",
          "Uganda",
          "Benin",
          "Sudan",
          "Ukraine",
          "Togo",
          "Guinea",
          "Lesotho",
          "Angola",
          "Madagascar",
          "Zimbabwe",
          "Afghanistan",
          "Botswana",
          "Malawi",
          "Haiti",
          "Liberia",
          "Syria",
          "Rwanda",
          "Yemen",
          "Tanzania",
          "South Sudan",
          "Central African Republic",
          "Burundi"
         ],
         "locationmode": "country names",
         "locations": [
          "Finland",
          "Norway",
          "Denmark",
          "Iceland",
          "Switzerland",
          "Netherlands",
          "Canada",
          "New Zealand",
          "Sweden",
          "Australia",
          "United Kingdom",
          "Austria",
          "Costa Rica",
          "Ireland",
          "Germany",
          "Belgium",
          "Luxembourg",
          "United States",
          "Israel",
          "United Arab Emirates",
          "Czech Republic",
          "Malta",
          "France",
          "Mexico",
          "Chile",
          "Taiwan",
          "Panama",
          "Brazil",
          "Argentina",
          "Guatemala",
          "Uruguay",
          "Qatar",
          "Saudi Arabia",
          "Singapore",
          "Malaysia",
          "Spain",
          "Colombia",
          "Trinidad & Tobago",
          "Slovakia",
          "El Salvador",
          "Nicaragua",
          "Poland",
          "Bahrain",
          "Uzbekistan",
          "Kuwait",
          "Thailand",
          "Italy",
          "Ecuador",
          "Belize",
          "Lithuania",
          "Slovenia",
          "Romania",
          "Latvia",
          "Japan",
          "Mauritius",
          "Jamaica",
          "South Korea",
          "Northern Cyprus",
          "Russia",
          "Kazakhstan",
          "Cyprus",
          "Bolivia",
          "Estonia",
          "Paraguay",
          "Peru",
          "Kosovo",
          "Moldova",
          "Turkmenistan",
          "Hungary",
          "Libya",
          "Philippines",
          "Honduras",
          "Belarus",
          "Turkey",
          "Pakistan",
          "Hong Kong",
          "Portugal",
          "Serbia",
          "Greece",
          "Lebanon",
          "Montenegro",
          "Croatia",
          "Dominican Republic",
          "Algeria",
          "Morocco",
          "China",
          "Azerbaijan",
          "Tajikistan",
          "Macedonia",
          "Jordan",
          "Nigeria",
          "Kyrgyzstan",
          "Bosnia and Herzegovina",
          "Mongolia",
          "Vietnam",
          "Indonesia",
          "Bhutan",
          "Somalia",
          "Cameroon",
          "Bulgaria",
          "Nepal",
          "Venezuela",
          "Gabon",
          "Palestinian Territories",
          "South Africa",
          "Iran",
          "Ivory Coast",
          "Ghana",
          "Senegal",
          "Laos",
          "Tunisia",
          "Albania",
          "Sierra Leone",
          "Congo (Brazzaville)",
          "Bangladesh",
          "Sri Lanka",
          "Iraq",
          "Mali",
          "Namibia",
          "Cambodia",
          "Burkina Faso",
          "Egypt",
          "Mozambique",
          "Kenya",
          "Zambia",
          "Mauritania",
          "Ethiopia",
          "Georgia",
          "Armenia",
          "Myanmar",
          "Chad",
          "Congo (Kinshasa)",
          "India",
          "Niger",
          "Uganda",
          "Benin",
          "Sudan",
          "Ukraine",
          "Togo",
          "Guinea",
          "Lesotho",
          "Angola",
          "Madagascar",
          "Zimbabwe",
          "Afghanistan",
          "Botswana",
          "Malawi",
          "Haiti",
          "Liberia",
          "Syria",
          "Rwanda",
          "Yemen",
          "Tanzania",
          "South Sudan",
          "Central African Republic",
          "Burundi"
         ],
         "name": "",
         "type": "choropleth",
         "z": [
          41899,
          65441,
          47673,
          48606,
          59019,
          49804,
          44051,
          36355,
          47194,
          45439,
          40158,
          46473,
          15685,
          70361,
          45959,
          43218,
          93734,
          55681,
          33661,
          66616,
          null,
          38147,
          39556,
          18102,
          22874,
          null,
          22674,
          14283,
          18282,
          7509,
          20916,
          112532,
          48996,
          90091,
          28176,
          35056,
          13333,
          null,
          31326,
          7393,
          4910,
          28752,
          41973,
          6240,
          65515,
          16905,
          35739,
          10412,
          7810,
          31065,
          32743,
          24544,
          26437,
          39294,
          21075,
          8266,
          null,
          null,
          null,
          24738,
          33048,
          null,
          30991,
          12063,
          12794,
          null,
          null,
          17129,
          28243,
          18406,
          7943,
          4560,
          17742,
          25287,
          4928,
          null,
          28687,
          16035,
          25141,
          11607,
          17278,
          23637,
          15821,
          13886,
          7509,
          16187,
          16011,
          3061,
          null,
          8309,
          5316,
          3447,
          12756,
          12209,
          null,
          11606,
          9348,
          null,
          3352,
          19321,
          2724,
          null,
          15922,
          null,
          12143,
          null,
          null,
          4212,
          3356,
          null,
          11096,
          12306,
          1425,
          null,
          3879,
          11956,
          15565,
          2056,
          9898,
          3870,
          1756,
          11014,
          1180,
          3077,
          3748,
          3724,
          1794,
          10152,
          9178,
          5922,
          1746,
          null,
          6899,
          932,
          1807,
          2152,
          4436,
          7907,
          1565,
          2338,
          2865,
          5725,
          1453,
          2688,
          1735,
          16518,
          1163,
          1656,
          1161,
          null,
          2003,
          2285,
          null,
          1678,
          775,
          660
         ]
        }
       ],
       "layout": {
        "coloraxis": {
         "colorbar": {
          "title": {
           "text": "GDP_per_capita"
          }
         },
         "colorscale": [
          [
           0,
           "#0d0887"
          ],
          [
           0.1111111111111111,
           "#46039f"
          ],
          [
           0.2222222222222222,
           "#7201a8"
          ],
          [
           0.3333333333333333,
           "#9c179e"
          ],
          [
           0.4444444444444444,
           "#bd3786"
          ],
          [
           0.5555555555555556,
           "#d8576b"
          ],
          [
           0.6666666666666666,
           "#ed7953"
          ],
          [
           0.7777777777777778,
           "#fb9f3a"
          ],
          [
           0.8888888888888888,
           "#fdca26"
          ],
          [
           1,
           "#f0f921"
          ]
         ]
        },
        "geo": {
         "center": {},
         "domain": {
          "x": [
           0,
           1
          ],
          "y": [
           0,
           1
          ]
         },
         "projection": {
          "type": "natural earth"
         }
        },
        "legend": {
         "tracegroupgap": 0
        },
        "margin": {
         "t": 60
        },
        "template": {
         "data": {
          "bar": [
           {
            "error_x": {
             "color": "#2a3f5f"
            },
            "error_y": {
             "color": "#2a3f5f"
            },
            "marker": {
             "line": {
              "color": "#E5ECF6",
              "width": 0.5
             }
            },
            "type": "bar"
           }
          ],
          "barpolar": [
           {
            "marker": {
             "line": {
              "color": "#E5ECF6",
              "width": 0.5
             }
            },
            "type": "barpolar"
           }
          ],
          "carpet": [
           {
            "aaxis": {
             "endlinecolor": "#2a3f5f",
             "gridcolor": "white",
             "linecolor": "white",
             "minorgridcolor": "white",
             "startlinecolor": "#2a3f5f"
            },
            "baxis": {
             "endlinecolor": "#2a3f5f",
             "gridcolor": "white",
             "linecolor": "white",
             "minorgridcolor": "white",
             "startlinecolor": "#2a3f5f"
            },
            "type": "carpet"
           }
          ],
          "choropleth": [
           {
            "colorbar": {
             "outlinewidth": 0,
             "ticks": ""
            },
            "type": "choropleth"
           }
          ],
          "contour": [
           {
            "colorbar": {
             "outlinewidth": 0,
             "ticks": ""
            },
            "colorscale": [
             [
              0,
              "#0d0887"
             ],
             [
              0.1111111111111111,
              "#46039f"
             ],
             [
              0.2222222222222222,
              "#7201a8"
             ],
             [
              0.3333333333333333,
              "#9c179e"
             ],
             [
              0.4444444444444444,
              "#bd3786"
             ],
             [
              0.5555555555555556,
              "#d8576b"
             ],
             [
              0.6666666666666666,
              "#ed7953"
             ],
             [
              0.7777777777777778,
              "#fb9f3a"
             ],
             [
              0.8888888888888888,
              "#fdca26"
             ],
             [
              1,
              "#f0f921"
             ]
            ],
            "type": "contour"
           }
          ],
          "contourcarpet": [
           {
            "colorbar": {
             "outlinewidth": 0,
             "ticks": ""
            },
            "type": "contourcarpet"
           }
          ],
          "heatmap": [
           {
            "colorbar": {
             "outlinewidth": 0,
             "ticks": ""
            },
            "colorscale": [
             [
              0,
              "#0d0887"
             ],
             [
              0.1111111111111111,
              "#46039f"
             ],
             [
              0.2222222222222222,
              "#7201a8"
             ],
             [
              0.3333333333333333,
              "#9c179e"
             ],
             [
              0.4444444444444444,
              "#bd3786"
             ],
             [
              0.5555555555555556,
              "#d8576b"
             ],
             [
              0.6666666666666666,
              "#ed7953"
             ],
             [
              0.7777777777777778,
              "#fb9f3a"
             ],
             [
              0.8888888888888888,
              "#fdca26"
             ],
             [
              1,
              "#f0f921"
             ]
            ],
            "type": "heatmap"
           }
          ],
          "heatmapgl": [
           {
            "colorbar": {
             "outlinewidth": 0,
             "ticks": ""
            },
            "colorscale": [
             [
              0,
              "#0d0887"
             ],
             [
              0.1111111111111111,
              "#46039f"
             ],
             [
              0.2222222222222222,
              "#7201a8"
             ],
             [
              0.3333333333333333,
              "#9c179e"
             ],
             [
              0.4444444444444444,
              "#bd3786"
             ],
             [
              0.5555555555555556,
              "#d8576b"
             ],
             [
              0.6666666666666666,
              "#ed7953"
             ],
             [
              0.7777777777777778,
              "#fb9f3a"
             ],
             [
              0.8888888888888888,
              "#fdca26"
             ],
             [
              1,
              "#f0f921"
             ]
            ],
            "type": "heatmapgl"
           }
          ],
          "histogram": [
           {
            "marker": {
             "colorbar": {
              "outlinewidth": 0,
              "ticks": ""
             }
            },
            "type": "histogram"
           }
          ],
          "histogram2d": [
           {
            "colorbar": {
             "outlinewidth": 0,
             "ticks": ""
            },
            "colorscale": [
             [
              0,
              "#0d0887"
             ],
             [
              0.1111111111111111,
              "#46039f"
             ],
             [
              0.2222222222222222,
              "#7201a8"
             ],
             [
              0.3333333333333333,
              "#9c179e"
             ],
             [
              0.4444444444444444,
              "#bd3786"
             ],
             [
              0.5555555555555556,
              "#d8576b"
             ],
             [
              0.6666666666666666,
              "#ed7953"
             ],
             [
              0.7777777777777778,
              "#fb9f3a"
             ],
             [
              0.8888888888888888,
              "#fdca26"
             ],
             [
              1,
              "#f0f921"
             ]
            ],
            "type": "histogram2d"
           }
          ],
          "histogram2dcontour": [
           {
            "colorbar": {
             "outlinewidth": 0,
             "ticks": ""
            },
            "colorscale": [
             [
              0,
              "#0d0887"
             ],
             [
              0.1111111111111111,
              "#46039f"
             ],
             [
              0.2222222222222222,
              "#7201a8"
             ],
             [
              0.3333333333333333,
              "#9c179e"
             ],
             [
              0.4444444444444444,
              "#bd3786"
             ],
             [
              0.5555555555555556,
              "#d8576b"
             ],
             [
              0.6666666666666666,
              "#ed7953"
             ],
             [
              0.7777777777777778,
              "#fb9f3a"
             ],
             [
              0.8888888888888888,
              "#fdca26"
             ],
             [
              1,
              "#f0f921"
             ]
            ],
            "type": "histogram2dcontour"
           }
          ],
          "mesh3d": [
           {
            "colorbar": {
             "outlinewidth": 0,
             "ticks": ""
            },
            "type": "mesh3d"
           }
          ],
          "parcoords": [
           {
            "line": {
             "colorbar": {
              "outlinewidth": 0,
              "ticks": ""
             }
            },
            "type": "parcoords"
           }
          ],
          "pie": [
           {
            "automargin": true,
            "type": "pie"
           }
          ],
          "scatter": [
           {
            "marker": {
             "colorbar": {
              "outlinewidth": 0,
              "ticks": ""
             }
            },
            "type": "scatter"
           }
          ],
          "scatter3d": [
           {
            "line": {
             "colorbar": {
              "outlinewidth": 0,
              "ticks": ""
             }
            },
            "marker": {
             "colorbar": {
              "outlinewidth": 0,
              "ticks": ""
             }
            },
            "type": "scatter3d"
           }
          ],
          "scattercarpet": [
           {
            "marker": {
             "colorbar": {
              "outlinewidth": 0,
              "ticks": ""
             }
            },
            "type": "scattercarpet"
           }
          ],
          "scattergeo": [
           {
            "marker": {
             "colorbar": {
              "outlinewidth": 0,
              "ticks": ""
             }
            },
            "type": "scattergeo"
           }
          ],
          "scattergl": [
           {
            "marker": {
             "colorbar": {
              "outlinewidth": 0,
              "ticks": ""
             }
            },
            "type": "scattergl"
           }
          ],
          "scattermapbox": [
           {
            "marker": {
             "colorbar": {
              "outlinewidth": 0,
              "ticks": ""
             }
            },
            "type": "scattermapbox"
           }
          ],
          "scatterpolar": [
           {
            "marker": {
             "colorbar": {
              "outlinewidth": 0,
              "ticks": ""
             }
            },
            "type": "scatterpolar"
           }
          ],
          "scatterpolargl": [
           {
            "marker": {
             "colorbar": {
              "outlinewidth": 0,
              "ticks": ""
             }
            },
            "type": "scatterpolargl"
           }
          ],
          "scatterternary": [
           {
            "marker": {
             "colorbar": {
              "outlinewidth": 0,
              "ticks": ""
             }
            },
            "type": "scatterternary"
           }
          ],
          "surface": [
           {
            "colorbar": {
             "outlinewidth": 0,
             "ticks": ""
            },
            "colorscale": [
             [
              0,
              "#0d0887"
             ],
             [
              0.1111111111111111,
              "#46039f"
             ],
             [
              0.2222222222222222,
              "#7201a8"
             ],
             [
              0.3333333333333333,
              "#9c179e"
             ],
             [
              0.4444444444444444,
              "#bd3786"
             ],
             [
              0.5555555555555556,
              "#d8576b"
             ],
             [
              0.6666666666666666,
              "#ed7953"
             ],
             [
              0.7777777777777778,
              "#fb9f3a"
             ],
             [
              0.8888888888888888,
              "#fdca26"
             ],
             [
              1,
              "#f0f921"
             ]
            ],
            "type": "surface"
           }
          ],
          "table": [
           {
            "cells": {
             "fill": {
              "color": "#EBF0F8"
             },
             "line": {
              "color": "white"
             }
            },
            "header": {
             "fill": {
              "color": "#C8D4E3"
             },
             "line": {
              "color": "white"
             }
            },
            "type": "table"
           }
          ]
         },
         "layout": {
          "annotationdefaults": {
           "arrowcolor": "#2a3f5f",
           "arrowhead": 0,
           "arrowwidth": 1
          },
          "autotypenumbers": "strict",
          "coloraxis": {
           "colorbar": {
            "outlinewidth": 0,
            "ticks": ""
           }
          },
          "colorscale": {
           "diverging": [
            [
             0,
             "#8e0152"
            ],
            [
             0.1,
             "#c51b7d"
            ],
            [
             0.2,
             "#de77ae"
            ],
            [
             0.3,
             "#f1b6da"
            ],
            [
             0.4,
             "#fde0ef"
            ],
            [
             0.5,
             "#f7f7f7"
            ],
            [
             0.6,
             "#e6f5d0"
            ],
            [
             0.7,
             "#b8e186"
            ],
            [
             0.8,
             "#7fbc41"
            ],
            [
             0.9,
             "#4d9221"
            ],
            [
             1,
             "#276419"
            ]
           ],
           "sequential": [
            [
             0,
             "#0d0887"
            ],
            [
             0.1111111111111111,
             "#46039f"
            ],
            [
             0.2222222222222222,
             "#7201a8"
            ],
            [
             0.3333333333333333,
             "#9c179e"
            ],
            [
             0.4444444444444444,
             "#bd3786"
            ],
            [
             0.5555555555555556,
             "#d8576b"
            ],
            [
             0.6666666666666666,
             "#ed7953"
            ],
            [
             0.7777777777777778,
             "#fb9f3a"
            ],
            [
             0.8888888888888888,
             "#fdca26"
            ],
            [
             1,
             "#f0f921"
            ]
           ],
           "sequentialminus": [
            [
             0,
             "#0d0887"
            ],
            [
             0.1111111111111111,
             "#46039f"
            ],
            [
             0.2222222222222222,
             "#7201a8"
            ],
            [
             0.3333333333333333,
             "#9c179e"
            ],
            [
             0.4444444444444444,
             "#bd3786"
            ],
            [
             0.5555555555555556,
             "#d8576b"
            ],
            [
             0.6666666666666666,
             "#ed7953"
            ],
            [
             0.7777777777777778,
             "#fb9f3a"
            ],
            [
             0.8888888888888888,
             "#fdca26"
            ],
            [
             1,
             "#f0f921"
            ]
           ]
          },
          "colorway": [
           "#636efa",
           "#EF553B",
           "#00cc96",
           "#ab63fa",
           "#FFA15A",
           "#19d3f3",
           "#FF6692",
           "#B6E880",
           "#FF97FF",
           "#FECB52"
          ],
          "font": {
           "color": "#2a3f5f"
          },
          "geo": {
           "bgcolor": "white",
           "lakecolor": "white",
           "landcolor": "#E5ECF6",
           "showlakes": true,
           "showland": true,
           "subunitcolor": "white"
          },
          "hoverlabel": {
           "align": "left"
          },
          "hovermode": "closest",
          "mapbox": {
           "style": "light"
          },
          "paper_bgcolor": "white",
          "plot_bgcolor": "#E5ECF6",
          "polar": {
           "angularaxis": {
            "gridcolor": "white",
            "linecolor": "white",
            "ticks": ""
           },
           "bgcolor": "#E5ECF6",
           "radialaxis": {
            "gridcolor": "white",
            "linecolor": "white",
            "ticks": ""
           }
          },
          "scene": {
           "xaxis": {
            "backgroundcolor": "#E5ECF6",
            "gridcolor": "white",
            "gridwidth": 2,
            "linecolor": "white",
            "showbackground": true,
            "ticks": "",
            "zerolinecolor": "white"
           },
           "yaxis": {
            "backgroundcolor": "#E5ECF6",
            "gridcolor": "white",
            "gridwidth": 2,
            "linecolor": "white",
            "showbackground": true,
            "ticks": "",
            "zerolinecolor": "white"
           },
           "zaxis": {
            "backgroundcolor": "#E5ECF6",
            "gridcolor": "white",
            "gridwidth": 2,
            "linecolor": "white",
            "showbackground": true,
            "ticks": "",
            "zerolinecolor": "white"
           }
          },
          "shapedefaults": {
           "line": {
            "color": "#2a3f5f"
           }
          },
          "ternary": {
           "aaxis": {
            "gridcolor": "white",
            "linecolor": "white",
            "ticks": ""
           },
           "baxis": {
            "gridcolor": "white",
            "linecolor": "white",
            "ticks": ""
           },
           "bgcolor": "#E5ECF6",
           "caxis": {
            "gridcolor": "white",
            "linecolor": "white",
            "ticks": ""
           }
          },
          "title": {
           "x": 0.05
          },
          "xaxis": {
           "automargin": true,
           "gridcolor": "white",
           "linecolor": "white",
           "ticks": "",
           "title": {
            "standoff": 15
           },
           "zerolinecolor": "white",
           "zerolinewidth": 2
          },
          "yaxis": {
           "automargin": true,
           "gridcolor": "white",
           "linecolor": "white",
           "ticks": "",
           "title": {
            "standoff": 15
           },
           "zerolinecolor": "white",
           "zerolinewidth": 2
          }
         }
        }
       }
      },
      "text/html": [
       "<div>                            <div id=\"0bb3d360-9f12-4a3b-9a0b-dd026ab1907f\" class=\"plotly-graph-div\" style=\"height:525px; width:100%;\"></div>            <script type=\"text/javascript\">                require([\"plotly\"], function(Plotly) {                    window.PLOTLYENV=window.PLOTLYENV || {};                                    if (document.getElementById(\"0bb3d360-9f12-4a3b-9a0b-dd026ab1907f\")) {                    Plotly.newPlot(                        \"0bb3d360-9f12-4a3b-9a0b-dd026ab1907f\",                        [{\"coloraxis\": \"coloraxis\", \"geo\": \"geo\", \"hovertemplate\": \"<b>%{hovertext}</b><br><br>Country=%{location}<br>GDP_per_capita=%{z}<extra></extra>\", \"hovertext\": [\"Finland\", \"Norway\", \"Denmark\", \"Iceland\", \"Switzerland\", \"Netherlands\", \"Canada\", \"New Zealand\", \"Sweden\", \"Australia\", \"United Kingdom\", \"Austria\", \"Costa Rica\", \"Ireland\", \"Germany\", \"Belgium\", \"Luxembourg\", \"United States\", \"Israel\", \"United Arab Emirates\", \"Czech Republic\", \"Malta\", \"France\", \"Mexico\", \"Chile\", \"Taiwan\", \"Panama\", \"Brazil\", \"Argentina\", \"Guatemala\", \"Uruguay\", \"Qatar\", \"Saudi Arabia\", \"Singapore\", \"Malaysia\", \"Spain\", \"Colombia\", \"Trinidad & Tobago\", \"Slovakia\", \"El Salvador\", \"Nicaragua\", \"Poland\", \"Bahrain\", \"Uzbekistan\", \"Kuwait\", \"Thailand\", \"Italy\", \"Ecuador\", \"Belize\", \"Lithuania\", \"Slovenia\", \"Romania\", \"Latvia\", \"Japan\", \"Mauritius\", \"Jamaica\", \"South Korea\", \"Northern Cyprus\", \"Russia\", \"Kazakhstan\", \"Cyprus\", \"Bolivia\", \"Estonia\", \"Paraguay\", \"Peru\", \"Kosovo\", \"Moldova\", \"Turkmenistan\", \"Hungary\", \"Libya\", \"Philippines\", \"Honduras\", \"Belarus\", \"Turkey\", \"Pakistan\", \"Hong Kong\", \"Portugal\", \"Serbia\", \"Greece\", \"Lebanon\", \"Montenegro\", \"Croatia\", \"Dominican Republic\", \"Algeria\", \"Morocco\", \"China\", \"Azerbaijan\", \"Tajikistan\", \"Macedonia\", \"Jordan\", \"Nigeria\", \"Kyrgyzstan\", \"Bosnia and Herzegovina\", \"Mongolia\", \"Vietnam\", \"Indonesia\", \"Bhutan\", \"Somalia\", \"Cameroon\", \"Bulgaria\", \"Nepal\", \"Venezuela\", \"Gabon\", \"Palestinian Territories\", \"South Africa\", \"Iran\", \"Ivory Coast\", \"Ghana\", \"Senegal\", \"Laos\", \"Tunisia\", \"Albania\", \"Sierra Leone\", \"Congo (Brazzaville)\", \"Bangladesh\", \"Sri Lanka\", \"Iraq\", \"Mali\", \"Namibia\", \"Cambodia\", \"Burkina Faso\", \"Egypt\", \"Mozambique\", \"Kenya\", \"Zambia\", \"Mauritania\", \"Ethiopia\", \"Georgia\", \"Armenia\", \"Myanmar\", \"Chad\", \"Congo (Kinshasa)\", \"India\", \"Niger\", \"Uganda\", \"Benin\", \"Sudan\", \"Ukraine\", \"Togo\", \"Guinea\", \"Lesotho\", \"Angola\", \"Madagascar\", \"Zimbabwe\", \"Afghanistan\", \"Botswana\", \"Malawi\", \"Haiti\", \"Liberia\", \"Syria\", \"Rwanda\", \"Yemen\", \"Tanzania\", \"South Sudan\", \"Central African Republic\", \"Burundi\"], \"locationmode\": \"country names\", \"locations\": [\"Finland\", \"Norway\", \"Denmark\", \"Iceland\", \"Switzerland\", \"Netherlands\", \"Canada\", \"New Zealand\", \"Sweden\", \"Australia\", \"United Kingdom\", \"Austria\", \"Costa Rica\", \"Ireland\", \"Germany\", \"Belgium\", \"Luxembourg\", \"United States\", \"Israel\", \"United Arab Emirates\", \"Czech Republic\", \"Malta\", \"France\", \"Mexico\", \"Chile\", \"Taiwan\", \"Panama\", \"Brazil\", \"Argentina\", \"Guatemala\", \"Uruguay\", \"Qatar\", \"Saudi Arabia\", \"Singapore\", \"Malaysia\", \"Spain\", \"Colombia\", \"Trinidad & Tobago\", \"Slovakia\", \"El Salvador\", \"Nicaragua\", \"Poland\", \"Bahrain\", \"Uzbekistan\", \"Kuwait\", \"Thailand\", \"Italy\", \"Ecuador\", \"Belize\", \"Lithuania\", \"Slovenia\", \"Romania\", \"Latvia\", \"Japan\", \"Mauritius\", \"Jamaica\", \"South Korea\", \"Northern Cyprus\", \"Russia\", \"Kazakhstan\", \"Cyprus\", \"Bolivia\", \"Estonia\", \"Paraguay\", \"Peru\", \"Kosovo\", \"Moldova\", \"Turkmenistan\", \"Hungary\", \"Libya\", \"Philippines\", \"Honduras\", \"Belarus\", \"Turkey\", \"Pakistan\", \"Hong Kong\", \"Portugal\", \"Serbia\", \"Greece\", \"Lebanon\", \"Montenegro\", \"Croatia\", \"Dominican Republic\", \"Algeria\", \"Morocco\", \"China\", \"Azerbaijan\", \"Tajikistan\", \"Macedonia\", \"Jordan\", \"Nigeria\", \"Kyrgyzstan\", \"Bosnia and Herzegovina\", \"Mongolia\", \"Vietnam\", \"Indonesia\", \"Bhutan\", \"Somalia\", \"Cameroon\", \"Bulgaria\", \"Nepal\", \"Venezuela\", \"Gabon\", \"Palestinian Territories\", \"South Africa\", \"Iran\", \"Ivory Coast\", \"Ghana\", \"Senegal\", \"Laos\", \"Tunisia\", \"Albania\", \"Sierra Leone\", \"Congo (Brazzaville)\", \"Bangladesh\", \"Sri Lanka\", \"Iraq\", \"Mali\", \"Namibia\", \"Cambodia\", \"Burkina Faso\", \"Egypt\", \"Mozambique\", \"Kenya\", \"Zambia\", \"Mauritania\", \"Ethiopia\", \"Georgia\", \"Armenia\", \"Myanmar\", \"Chad\", \"Congo (Kinshasa)\", \"India\", \"Niger\", \"Uganda\", \"Benin\", \"Sudan\", \"Ukraine\", \"Togo\", \"Guinea\", \"Lesotho\", \"Angola\", \"Madagascar\", \"Zimbabwe\", \"Afghanistan\", \"Botswana\", \"Malawi\", \"Haiti\", \"Liberia\", \"Syria\", \"Rwanda\", \"Yemen\", \"Tanzania\", \"South Sudan\", \"Central African Republic\", \"Burundi\"], \"name\": \"\", \"type\": \"choropleth\", \"z\": [41899.0, 65441.0, 47673.0, 48606.0, 59019.0, 49804.0, 44051.0, 36355.0, 47194.0, 45439.0, 40158.0, 46473.0, 15685.0, 70361.0, 45959.0, 43218.0, 93734.0, 55681.0, 33661.0, 66616.0, null, 38147.0, 39556.0, 18102.0, 22874.0, null, 22674.0, 14283.0, 18282.0, 7509.0, 20916.0, 112532.0, 48996.0, 90091.0, 28176.0, 35056.0, 13333.0, null, 31326.0, 7393.0, 4910.0, 28752.0, 41973.0, 6240.0, 65515.0, 16905.0, 35739.0, 10412.0, 7810.0, 31065.0, 32743.0, 24544.0, 26437.0, 39294.0, 21075.0, 8266.0, null, null, null, 24738.0, 33048.0, null, 30991.0, 12063.0, 12794.0, null, null, 17129.0, 28243.0, 18406.0, 7943.0, 4560.0, 17742.0, 25287.0, 4928.0, null, 28687.0, 16035.0, 25141.0, 11607.0, 17278.0, 23637.0, 15821.0, 13886.0, 7509.0, 16187.0, 16011.0, 3061.0, null, 8309.0, 5316.0, 3447.0, 12756.0, 12209.0, null, 11606.0, 9348.0, null, 3352.0, 19321.0, 2724.0, null, 15922.0, null, 12143.0, null, null, 4212.0, 3356.0, null, 11096.0, 12306.0, 1425.0, null, 3879.0, 11956.0, 15565.0, 2056.0, 9898.0, 3870.0, 1756.0, 11014.0, 1180.0, 3077.0, 3748.0, 3724.0, 1794.0, 10152.0, 9178.0, 5922.0, 1746.0, null, 6899.0, 932.0, 1807.0, 2152.0, 4436.0, 7907.0, 1565.0, 2338.0, 2865.0, 5725.0, 1453.0, 2688.0, 1735.0, 16518.0, 1163.0, 1656.0, 1161.0, null, 2003.0, 2285.0, null, 1678.0, 775.0, 660.0]}],                        {\"coloraxis\": {\"colorbar\": {\"title\": {\"text\": \"GDP_per_capita\"}}, \"colorscale\": [[0.0, \"#0d0887\"], [0.1111111111111111, \"#46039f\"], [0.2222222222222222, \"#7201a8\"], [0.3333333333333333, \"#9c179e\"], [0.4444444444444444, \"#bd3786\"], [0.5555555555555556, \"#d8576b\"], [0.6666666666666666, \"#ed7953\"], [0.7777777777777778, \"#fb9f3a\"], [0.8888888888888888, \"#fdca26\"], [1.0, \"#f0f921\"]]}, \"geo\": {\"center\": {}, \"domain\": {\"x\": [0.0, 1.0], \"y\": [0.0, 1.0]}, \"projection\": {\"type\": \"natural earth\"}}, \"legend\": {\"tracegroupgap\": 0}, \"margin\": {\"t\": 60}, \"template\": {\"data\": {\"bar\": [{\"error_x\": {\"color\": \"#2a3f5f\"}, \"error_y\": {\"color\": \"#2a3f5f\"}, \"marker\": {\"line\": {\"color\": \"#E5ECF6\", \"width\": 0.5}}, \"type\": \"bar\"}], \"barpolar\": [{\"marker\": {\"line\": {\"color\": \"#E5ECF6\", \"width\": 0.5}}, \"type\": \"barpolar\"}], \"carpet\": [{\"aaxis\": {\"endlinecolor\": \"#2a3f5f\", \"gridcolor\": \"white\", \"linecolor\": \"white\", \"minorgridcolor\": \"white\", \"startlinecolor\": \"#2a3f5f\"}, \"baxis\": {\"endlinecolor\": \"#2a3f5f\", \"gridcolor\": \"white\", \"linecolor\": \"white\", \"minorgridcolor\": \"white\", \"startlinecolor\": \"#2a3f5f\"}, \"type\": \"carpet\"}], \"choropleth\": [{\"colorbar\": {\"outlinewidth\": 0, \"ticks\": \"\"}, \"type\": \"choropleth\"}], \"contour\": [{\"colorbar\": {\"outlinewidth\": 0, \"ticks\": \"\"}, \"colorscale\": [[0.0, \"#0d0887\"], [0.1111111111111111, \"#46039f\"], [0.2222222222222222, \"#7201a8\"], [0.3333333333333333, \"#9c179e\"], [0.4444444444444444, \"#bd3786\"], [0.5555555555555556, \"#d8576b\"], [0.6666666666666666, \"#ed7953\"], [0.7777777777777778, \"#fb9f3a\"], [0.8888888888888888, \"#fdca26\"], [1.0, \"#f0f921\"]], \"type\": \"contour\"}], \"contourcarpet\": [{\"colorbar\": {\"outlinewidth\": 0, \"ticks\": \"\"}, \"type\": \"contourcarpet\"}], \"heatmap\": [{\"colorbar\": {\"outlinewidth\": 0, \"ticks\": \"\"}, \"colorscale\": [[0.0, \"#0d0887\"], [0.1111111111111111, \"#46039f\"], [0.2222222222222222, \"#7201a8\"], [0.3333333333333333, \"#9c179e\"], [0.4444444444444444, \"#bd3786\"], [0.5555555555555556, \"#d8576b\"], [0.6666666666666666, \"#ed7953\"], [0.7777777777777778, \"#fb9f3a\"], [0.8888888888888888, \"#fdca26\"], [1.0, \"#f0f921\"]], \"type\": \"heatmap\"}], \"heatmapgl\": [{\"colorbar\": {\"outlinewidth\": 0, \"ticks\": \"\"}, \"colorscale\": [[0.0, \"#0d0887\"], [0.1111111111111111, \"#46039f\"], [0.2222222222222222, \"#7201a8\"], [0.3333333333333333, \"#9c179e\"], [0.4444444444444444, \"#bd3786\"], [0.5555555555555556, \"#d8576b\"], [0.6666666666666666, \"#ed7953\"], [0.7777777777777778, \"#fb9f3a\"], [0.8888888888888888, \"#fdca26\"], [1.0, \"#f0f921\"]], \"type\": \"heatmapgl\"}], \"histogram\": [{\"marker\": {\"colorbar\": {\"outlinewidth\": 0, \"ticks\": \"\"}}, \"type\": \"histogram\"}], \"histogram2d\": [{\"colorbar\": {\"outlinewidth\": 0, \"ticks\": \"\"}, \"colorscale\": [[0.0, \"#0d0887\"], [0.1111111111111111, \"#46039f\"], [0.2222222222222222, \"#7201a8\"], [0.3333333333333333, \"#9c179e\"], [0.4444444444444444, \"#bd3786\"], [0.5555555555555556, \"#d8576b\"], [0.6666666666666666, \"#ed7953\"], [0.7777777777777778, \"#fb9f3a\"], [0.8888888888888888, \"#fdca26\"], [1.0, \"#f0f921\"]], \"type\": \"histogram2d\"}], \"histogram2dcontour\": [{\"colorbar\": {\"outlinewidth\": 0, \"ticks\": \"\"}, \"colorscale\": [[0.0, \"#0d0887\"], [0.1111111111111111, \"#46039f\"], [0.2222222222222222, \"#7201a8\"], [0.3333333333333333, \"#9c179e\"], [0.4444444444444444, \"#bd3786\"], [0.5555555555555556, \"#d8576b\"], [0.6666666666666666, \"#ed7953\"], [0.7777777777777778, \"#fb9f3a\"], [0.8888888888888888, \"#fdca26\"], [1.0, \"#f0f921\"]], \"type\": \"histogram2dcontour\"}], \"mesh3d\": [{\"colorbar\": {\"outlinewidth\": 0, \"ticks\": \"\"}, \"type\": \"mesh3d\"}], \"parcoords\": [{\"line\": {\"colorbar\": {\"outlinewidth\": 0, \"ticks\": \"\"}}, \"type\": \"parcoords\"}], \"pie\": [{\"automargin\": true, \"type\": \"pie\"}], \"scatter\": [{\"marker\": {\"colorbar\": {\"outlinewidth\": 0, \"ticks\": \"\"}}, \"type\": \"scatter\"}], \"scatter3d\": [{\"line\": {\"colorbar\": {\"outlinewidth\": 0, \"ticks\": \"\"}}, \"marker\": {\"colorbar\": {\"outlinewidth\": 0, \"ticks\": \"\"}}, \"type\": \"scatter3d\"}], \"scattercarpet\": [{\"marker\": {\"colorbar\": {\"outlinewidth\": 0, \"ticks\": \"\"}}, \"type\": \"scattercarpet\"}], \"scattergeo\": [{\"marker\": {\"colorbar\": {\"outlinewidth\": 0, \"ticks\": \"\"}}, \"type\": \"scattergeo\"}], \"scattergl\": [{\"marker\": {\"colorbar\": {\"outlinewidth\": 0, \"ticks\": \"\"}}, \"type\": \"scattergl\"}], \"scattermapbox\": [{\"marker\": {\"colorbar\": {\"outlinewidth\": 0, \"ticks\": \"\"}}, \"type\": \"scattermapbox\"}], \"scatterpolar\": [{\"marker\": {\"colorbar\": {\"outlinewidth\": 0, \"ticks\": \"\"}}, \"type\": \"scatterpolar\"}], \"scatterpolargl\": [{\"marker\": {\"colorbar\": {\"outlinewidth\": 0, \"ticks\": \"\"}}, \"type\": \"scatterpolargl\"}], \"scatterternary\": [{\"marker\": {\"colorbar\": {\"outlinewidth\": 0, \"ticks\": \"\"}}, \"type\": \"scatterternary\"}], \"surface\": [{\"colorbar\": {\"outlinewidth\": 0, \"ticks\": \"\"}, \"colorscale\": [[0.0, \"#0d0887\"], [0.1111111111111111, \"#46039f\"], [0.2222222222222222, \"#7201a8\"], [0.3333333333333333, \"#9c179e\"], [0.4444444444444444, \"#bd3786\"], [0.5555555555555556, \"#d8576b\"], [0.6666666666666666, \"#ed7953\"], [0.7777777777777778, \"#fb9f3a\"], [0.8888888888888888, \"#fdca26\"], [1.0, \"#f0f921\"]], \"type\": \"surface\"}], \"table\": [{\"cells\": {\"fill\": {\"color\": \"#EBF0F8\"}, \"line\": {\"color\": \"white\"}}, \"header\": {\"fill\": {\"color\": \"#C8D4E3\"}, \"line\": {\"color\": \"white\"}}, \"type\": \"table\"}]}, \"layout\": {\"annotationdefaults\": {\"arrowcolor\": \"#2a3f5f\", \"arrowhead\": 0, \"arrowwidth\": 1}, \"autotypenumbers\": \"strict\", \"coloraxis\": {\"colorbar\": {\"outlinewidth\": 0, \"ticks\": \"\"}}, \"colorscale\": {\"diverging\": [[0, \"#8e0152\"], [0.1, \"#c51b7d\"], [0.2, \"#de77ae\"], [0.3, \"#f1b6da\"], [0.4, \"#fde0ef\"], [0.5, \"#f7f7f7\"], [0.6, \"#e6f5d0\"], [0.7, \"#b8e186\"], [0.8, \"#7fbc41\"], [0.9, \"#4d9221\"], [1, \"#276419\"]], \"sequential\": [[0.0, \"#0d0887\"], [0.1111111111111111, \"#46039f\"], [0.2222222222222222, \"#7201a8\"], [0.3333333333333333, \"#9c179e\"], [0.4444444444444444, \"#bd3786\"], [0.5555555555555556, \"#d8576b\"], [0.6666666666666666, \"#ed7953\"], [0.7777777777777778, \"#fb9f3a\"], [0.8888888888888888, \"#fdca26\"], [1.0, \"#f0f921\"]], \"sequentialminus\": [[0.0, \"#0d0887\"], [0.1111111111111111, \"#46039f\"], [0.2222222222222222, \"#7201a8\"], [0.3333333333333333, \"#9c179e\"], [0.4444444444444444, \"#bd3786\"], [0.5555555555555556, \"#d8576b\"], [0.6666666666666666, \"#ed7953\"], [0.7777777777777778, \"#fb9f3a\"], [0.8888888888888888, \"#fdca26\"], [1.0, \"#f0f921\"]]}, \"colorway\": [\"#636efa\", \"#EF553B\", \"#00cc96\", \"#ab63fa\", \"#FFA15A\", \"#19d3f3\", \"#FF6692\", \"#B6E880\", \"#FF97FF\", \"#FECB52\"], \"font\": {\"color\": \"#2a3f5f\"}, \"geo\": {\"bgcolor\": \"white\", \"lakecolor\": \"white\", \"landcolor\": \"#E5ECF6\", \"showlakes\": true, \"showland\": true, \"subunitcolor\": \"white\"}, \"hoverlabel\": {\"align\": \"left\"}, \"hovermode\": \"closest\", \"mapbox\": {\"style\": \"light\"}, \"paper_bgcolor\": \"white\", \"plot_bgcolor\": \"#E5ECF6\", \"polar\": {\"angularaxis\": {\"gridcolor\": \"white\", \"linecolor\": \"white\", \"ticks\": \"\"}, \"bgcolor\": \"#E5ECF6\", \"radialaxis\": {\"gridcolor\": \"white\", \"linecolor\": \"white\", \"ticks\": \"\"}}, \"scene\": {\"xaxis\": {\"backgroundcolor\": \"#E5ECF6\", \"gridcolor\": \"white\", \"gridwidth\": 2, \"linecolor\": \"white\", \"showbackground\": true, \"ticks\": \"\", \"zerolinecolor\": \"white\"}, \"yaxis\": {\"backgroundcolor\": \"#E5ECF6\", \"gridcolor\": \"white\", \"gridwidth\": 2, \"linecolor\": \"white\", \"showbackground\": true, \"ticks\": \"\", \"zerolinecolor\": \"white\"}, \"zaxis\": {\"backgroundcolor\": \"#E5ECF6\", \"gridcolor\": \"white\", \"gridwidth\": 2, \"linecolor\": \"white\", \"showbackground\": true, \"ticks\": \"\", \"zerolinecolor\": \"white\"}}, \"shapedefaults\": {\"line\": {\"color\": \"#2a3f5f\"}}, \"ternary\": {\"aaxis\": {\"gridcolor\": \"white\", \"linecolor\": \"white\", \"ticks\": \"\"}, \"baxis\": {\"gridcolor\": \"white\", \"linecolor\": \"white\", \"ticks\": \"\"}, \"bgcolor\": \"#E5ECF6\", \"caxis\": {\"gridcolor\": \"white\", \"linecolor\": \"white\", \"ticks\": \"\"}}, \"title\": {\"x\": 0.05}, \"xaxis\": {\"automargin\": true, \"gridcolor\": \"white\", \"linecolor\": \"white\", \"ticks\": \"\", \"title\": {\"standoff\": 15}, \"zerolinecolor\": \"white\", \"zerolinewidth\": 2}, \"yaxis\": {\"automargin\": true, \"gridcolor\": \"white\", \"linecolor\": \"white\", \"ticks\": \"\", \"title\": {\"standoff\": 15}, \"zerolinecolor\": \"white\", \"zerolinewidth\": 2}}}},                        {\"responsive\": true}                    ).then(function(){\n",
       "                            \n",
       "var gd = document.getElementById('0bb3d360-9f12-4a3b-9a0b-dd026ab1907f');\n",
       "var x = new MutationObserver(function (mutations, observer) {{\n",
       "        var display = window.getComputedStyle(gd).display;\n",
       "        if (!display || display === 'none') {{\n",
       "            console.log([gd, 'removed!']);\n",
       "            Plotly.purge(gd);\n",
       "            observer.disconnect();\n",
       "        }}\n",
       "}});\n",
       "\n",
       "// Listen for the removal of the full notebook cells\n",
       "var notebookContainer = gd.closest('#notebook-container');\n",
       "if (notebookContainer) {{\n",
       "    x.observe(notebookContainer, {childList: true});\n",
       "}}\n",
       "\n",
       "// Listen for the clearing of the current output cell\n",
       "var outputEl = gd.closest('.output');\n",
       "if (outputEl) {{\n",
       "    x.observe(outputEl, {childList: true});\n",
       "}}\n",
       "\n",
       "                        })                };                });            </script>        </div>"
      ]
     },
     "metadata": {},
     "output_type": "display_data"
    }
   ],
   "source": [
    "fig = px.choropleth(data, locations=\"Country\",\n",
    "                     locationmode=\"country names\",\n",
    "                    color=\"GDP_per_capita\", \n",
    "                    hover_name=\"Country\",  \n",
    "                    projection=\"natural earth\"\n",
    "                    )\n",
    "fig"
   ]
  },
  {
   "cell_type": "code",
   "execution_count": 41,
   "metadata": {
    "ExecuteTime": {
     "end_time": "2021-02-15T14:15:44.666419Z",
     "start_time": "2021-02-15T14:15:43.930630Z"
    },
    "collapsed": true
   },
   "outputs": [
    {
     "data": {
      "text/html": [
       "\n",
       "        <iframe\n",
       "            width=\"100%\"\n",
       "            height=\"650\"\n",
       "            src=\"http://127.0.0.1:8050/\"\n",
       "            frameborder=\"0\"\n",
       "            allowfullscreen\n",
       "        ></iframe>\n",
       "        "
      ],
      "text/plain": [
       "<IPython.lib.display.IFrame at 0x14a095af0>"
      ]
     },
     "metadata": {},
     "output_type": "display_data"
    }
   ],
   "source": [
    "import plotly.express as px\n",
    "from jupyter_dash import JupyterDash\n",
    "import dash_core_components as dcc\n",
    "import dash_html_components as html\n",
    "from dash.dependencies import Input, Output\n",
    "# Load Data\n",
    "\n",
    "# Build App\n",
    "app = JupyterDash(__name__)\n",
    "app.layout = html.Div([\n",
    "    html.H1(\"JupyterDash Demo\"),\n",
    "    dcc.Graph(id='graph'),\n",
    "    html.Label([\n",
    "        \"colorscale\",\n",
    "        dcc.Dropdown(\n",
    "            id='colorscale-dropdown', clearable=False,\n",
    "            value='plasma', options=[\n",
    "                {'label': c, 'value': c}\n",
    "                for c in px.colors.named_colorscales()\n",
    "            ])\n",
    "    ]),\n",
    "])\n",
    "# Define callback to update graph\n",
    "@app.callback(\n",
    "    Output('graph', 'figure'),\n",
    "    [Input(\"colorscale-dropdown\", \"value\")]\n",
    ")\n",
    "def update_figure(colorscale):\n",
    "    return  px.choropleth(data, locations=\"Country\",\n",
    "                     locationmode=\"country names\",\n",
    "                    color=\"GDP_per_capita\", \n",
    "                    hover_name=\"Country\",  \n",
    "                    projection=\"orthographic\"\n",
    "                    )\n",
    "    \n",
    "# Run app and display result inline in the notebook\n",
    "app.run_server(mode='inline')"
   ]
  },
  {
   "cell_type": "markdown",
   "metadata": {},
   "source": [
    "# Actual Visualizations to compare"
   ]
  },
  {
   "cell_type": "code",
   "execution_count": 43,
   "metadata": {
    "ExecuteTime": {
     "end_time": "2021-02-15T14:27:47.078477Z",
     "start_time": "2021-02-15T14:27:47.043663Z"
    },
    "collapsed": true
   },
   "outputs": [
    {
     "data": {
      "text/html": [
       "<div>\n",
       "<style scoped>\n",
       "    .dataframe tbody tr th:only-of-type {\n",
       "        vertical-align: middle;\n",
       "    }\n",
       "\n",
       "    .dataframe tbody tr th {\n",
       "        vertical-align: top;\n",
       "    }\n",
       "\n",
       "    .dataframe thead th {\n",
       "        text-align: right;\n",
       "    }\n",
       "</style>\n",
       "<table border=\"1\" class=\"dataframe\">\n",
       "  <thead>\n",
       "    <tr style=\"text-align: right;\">\n",
       "      <th></th>\n",
       "      <th>Overall rank</th>\n",
       "      <th>Country</th>\n",
       "      <th>Happiness Score</th>\n",
       "      <th>GDP per capita</th>\n",
       "      <th>Social support</th>\n",
       "      <th>Healthy life expectancy</th>\n",
       "      <th>Freedom to make life choices</th>\n",
       "      <th>Generosity</th>\n",
       "      <th>Perceptions of corruption</th>\n",
       "      <th>Maximun Personal Income Tax</th>\n",
       "      <th>GDP_per_capita</th>\n",
       "    </tr>\n",
       "  </thead>\n",
       "  <tbody>\n",
       "    <tr>\n",
       "      <th>0</th>\n",
       "      <td>1</td>\n",
       "      <td>Finland</td>\n",
       "      <td>7.632</td>\n",
       "      <td>1.305</td>\n",
       "      <td>1.592</td>\n",
       "      <td>0.874</td>\n",
       "      <td>0.681</td>\n",
       "      <td>0.202</td>\n",
       "      <td>0.393</td>\n",
       "      <td>51.1100</td>\n",
       "      <td>41899.0</td>\n",
       "    </tr>\n",
       "    <tr>\n",
       "      <th>1</th>\n",
       "      <td>2</td>\n",
       "      <td>Norway</td>\n",
       "      <td>7.594</td>\n",
       "      <td>1.456</td>\n",
       "      <td>1.582</td>\n",
       "      <td>0.861</td>\n",
       "      <td>0.686</td>\n",
       "      <td>0.286</td>\n",
       "      <td>0.340</td>\n",
       "      <td>38.4000</td>\n",
       "      <td>65441.0</td>\n",
       "    </tr>\n",
       "    <tr>\n",
       "      <th>2</th>\n",
       "      <td>3</td>\n",
       "      <td>Denmark</td>\n",
       "      <td>7.555</td>\n",
       "      <td>1.351</td>\n",
       "      <td>1.590</td>\n",
       "      <td>0.868</td>\n",
       "      <td>0.683</td>\n",
       "      <td>0.284</td>\n",
       "      <td>0.408</td>\n",
       "      <td>55.8584</td>\n",
       "      <td>47673.0</td>\n",
       "    </tr>\n",
       "    <tr>\n",
       "      <th>3</th>\n",
       "      <td>4</td>\n",
       "      <td>Iceland</td>\n",
       "      <td>7.495</td>\n",
       "      <td>1.343</td>\n",
       "      <td>1.644</td>\n",
       "      <td>0.914</td>\n",
       "      <td>0.677</td>\n",
       "      <td>0.353</td>\n",
       "      <td>0.138</td>\n",
       "      <td>46.2400</td>\n",
       "      <td>48606.0</td>\n",
       "    </tr>\n",
       "    <tr>\n",
       "      <th>4</th>\n",
       "      <td>5</td>\n",
       "      <td>Switzerland</td>\n",
       "      <td>7.487</td>\n",
       "      <td>1.420</td>\n",
       "      <td>1.549</td>\n",
       "      <td>0.927</td>\n",
       "      <td>0.660</td>\n",
       "      <td>0.256</td>\n",
       "      <td>0.357</td>\n",
       "      <td>41.6700</td>\n",
       "      <td>59019.0</td>\n",
       "    </tr>\n",
       "    <tr>\n",
       "      <th>...</th>\n",
       "      <td>...</td>\n",
       "      <td>...</td>\n",
       "      <td>...</td>\n",
       "      <td>...</td>\n",
       "      <td>...</td>\n",
       "      <td>...</td>\n",
       "      <td>...</td>\n",
       "      <td>...</td>\n",
       "      <td>...</td>\n",
       "      <td>...</td>\n",
       "      <td>...</td>\n",
       "    </tr>\n",
       "    <tr>\n",
       "      <th>151</th>\n",
       "      <td>152</td>\n",
       "      <td>Yemen</td>\n",
       "      <td>3.355</td>\n",
       "      <td>0.442</td>\n",
       "      <td>1.073</td>\n",
       "      <td>0.343</td>\n",
       "      <td>0.244</td>\n",
       "      <td>0.083</td>\n",
       "      <td>0.064</td>\n",
       "      <td>NaN</td>\n",
       "      <td>2285.0</td>\n",
       "    </tr>\n",
       "    <tr>\n",
       "      <th>152</th>\n",
       "      <td>153</td>\n",
       "      <td>Tanzania</td>\n",
       "      <td>3.303</td>\n",
       "      <td>0.455</td>\n",
       "      <td>0.991</td>\n",
       "      <td>0.381</td>\n",
       "      <td>0.481</td>\n",
       "      <td>0.270</td>\n",
       "      <td>0.097</td>\n",
       "      <td>NaN</td>\n",
       "      <td>NaN</td>\n",
       "    </tr>\n",
       "    <tr>\n",
       "      <th>153</th>\n",
       "      <td>154</td>\n",
       "      <td>South Sudan</td>\n",
       "      <td>3.254</td>\n",
       "      <td>0.337</td>\n",
       "      <td>0.608</td>\n",
       "      <td>0.177</td>\n",
       "      <td>0.112</td>\n",
       "      <td>0.224</td>\n",
       "      <td>0.106</td>\n",
       "      <td>NaN</td>\n",
       "      <td>1678.0</td>\n",
       "    </tr>\n",
       "    <tr>\n",
       "      <th>154</th>\n",
       "      <td>155</td>\n",
       "      <td>Central African Republic</td>\n",
       "      <td>3.083</td>\n",
       "      <td>0.024</td>\n",
       "      <td>0.000</td>\n",
       "      <td>0.010</td>\n",
       "      <td>0.305</td>\n",
       "      <td>0.218</td>\n",
       "      <td>0.038</td>\n",
       "      <td>NaN</td>\n",
       "      <td>775.0</td>\n",
       "    </tr>\n",
       "    <tr>\n",
       "      <th>155</th>\n",
       "      <td>156</td>\n",
       "      <td>Burundi</td>\n",
       "      <td>2.905</td>\n",
       "      <td>0.091</td>\n",
       "      <td>0.627</td>\n",
       "      <td>0.145</td>\n",
       "      <td>0.065</td>\n",
       "      <td>0.149</td>\n",
       "      <td>0.076</td>\n",
       "      <td>NaN</td>\n",
       "      <td>660.0</td>\n",
       "    </tr>\n",
       "  </tbody>\n",
       "</table>\n",
       "<p>156 rows × 11 columns</p>\n",
       "</div>"
      ],
      "text/plain": [
       "     Overall rank                   Country  Happiness Score  GDP per capita  \\\n",
       "0               1                   Finland            7.632           1.305   \n",
       "1               2                    Norway            7.594           1.456   \n",
       "2               3                   Denmark            7.555           1.351   \n",
       "3               4                   Iceland            7.495           1.343   \n",
       "4               5               Switzerland            7.487           1.420   \n",
       "..            ...                       ...              ...             ...   \n",
       "151           152                     Yemen            3.355           0.442   \n",
       "152           153                  Tanzania            3.303           0.455   \n",
       "153           154               South Sudan            3.254           0.337   \n",
       "154           155  Central African Republic            3.083           0.024   \n",
       "155           156                   Burundi            2.905           0.091   \n",
       "\n",
       "     Social support  Healthy life expectancy  Freedom to make life choices  \\\n",
       "0             1.592                    0.874                         0.681   \n",
       "1             1.582                    0.861                         0.686   \n",
       "2             1.590                    0.868                         0.683   \n",
       "3             1.644                    0.914                         0.677   \n",
       "4             1.549                    0.927                         0.660   \n",
       "..              ...                      ...                           ...   \n",
       "151           1.073                    0.343                         0.244   \n",
       "152           0.991                    0.381                         0.481   \n",
       "153           0.608                    0.177                         0.112   \n",
       "154           0.000                    0.010                         0.305   \n",
       "155           0.627                    0.145                         0.065   \n",
       "\n",
       "     Generosity  Perceptions of corruption  Maximun Personal Income Tax  \\\n",
       "0         0.202                      0.393                      51.1100   \n",
       "1         0.286                      0.340                      38.4000   \n",
       "2         0.284                      0.408                      55.8584   \n",
       "3         0.353                      0.138                      46.2400   \n",
       "4         0.256                      0.357                      41.6700   \n",
       "..          ...                        ...                          ...   \n",
       "151       0.083                      0.064                          NaN   \n",
       "152       0.270                      0.097                          NaN   \n",
       "153       0.224                      0.106                          NaN   \n",
       "154       0.218                      0.038                          NaN   \n",
       "155       0.149                      0.076                          NaN   \n",
       "\n",
       "     GDP_per_capita  \n",
       "0           41899.0  \n",
       "1           65441.0  \n",
       "2           47673.0  \n",
       "3           48606.0  \n",
       "4           59019.0  \n",
       "..              ...  \n",
       "151          2285.0  \n",
       "152             NaN  \n",
       "153          1678.0  \n",
       "154           775.0  \n",
       "155           660.0  \n",
       "\n",
       "[156 rows x 11 columns]"
      ]
     },
     "execution_count": 43,
     "metadata": {},
     "output_type": "execute_result"
    }
   ],
   "source": [
    "data"
   ]
  },
  {
   "cell_type": "code",
   "execution_count": 8,
   "metadata": {
    "ExecuteTime": {
     "end_time": "2021-02-17T09:16:49.879590Z",
     "start_time": "2021-02-17T09:16:49.165459Z"
    },
    "collapsed": true
   },
   "outputs": [
    {
     "data": {
      "application/vnd.plotly.v1+json": {
       "config": {
        "plotlyServerURL": "https://plot.ly"
       },
       "data": [
        {
         "alignmentgroup": "True",
         "hovertemplate": "Country=%{x}<br>Happiness Score=%{text}<extra></extra>",
         "legendgroup": "Finland",
         "marker": {
          "color": "#636efa"
         },
         "name": "Finland",
         "offsetgroup": "Finland",
         "orientation": "v",
         "showlegend": true,
         "text": [
          7.632
         ],
         "textposition": "outside",
         "texttemplate": "%{text:.2s}",
         "type": "bar",
         "x": [
          "Finland"
         ],
         "xaxis": "x",
         "y": [
          7.632
         ],
         "yaxis": "y"
        },
        {
         "alignmentgroup": "True",
         "hovertemplate": "Country=%{x}<br>Happiness Score=%{text}<extra></extra>",
         "legendgroup": "Norway",
         "marker": {
          "color": "#EF553B"
         },
         "name": "Norway",
         "offsetgroup": "Norway",
         "orientation": "v",
         "showlegend": true,
         "text": [
          7.594
         ],
         "textposition": "outside",
         "texttemplate": "%{text:.2s}",
         "type": "bar",
         "x": [
          "Norway"
         ],
         "xaxis": "x",
         "y": [
          7.594
         ],
         "yaxis": "y"
        },
        {
         "alignmentgroup": "True",
         "hovertemplate": "Country=%{x}<br>Happiness Score=%{text}<extra></extra>",
         "legendgroup": "Denmark",
         "marker": {
          "color": "#00cc96"
         },
         "name": "Denmark",
         "offsetgroup": "Denmark",
         "orientation": "v",
         "showlegend": true,
         "text": [
          7.555
         ],
         "textposition": "outside",
         "texttemplate": "%{text:.2s}",
         "type": "bar",
         "x": [
          "Denmark"
         ],
         "xaxis": "x",
         "y": [
          7.555
         ],
         "yaxis": "y"
        },
        {
         "alignmentgroup": "True",
         "hovertemplate": "Country=%{x}<br>Happiness Score=%{text}<extra></extra>",
         "legendgroup": "Iceland",
         "marker": {
          "color": "#ab63fa"
         },
         "name": "Iceland",
         "offsetgroup": "Iceland",
         "orientation": "v",
         "showlegend": true,
         "text": [
          7.495
         ],
         "textposition": "outside",
         "texttemplate": "%{text:.2s}",
         "type": "bar",
         "x": [
          "Iceland"
         ],
         "xaxis": "x",
         "y": [
          7.495
         ],
         "yaxis": "y"
        },
        {
         "alignmentgroup": "True",
         "hovertemplate": "Country=%{x}<br>Happiness Score=%{text}<extra></extra>",
         "legendgroup": "Switzerland",
         "marker": {
          "color": "#FFA15A"
         },
         "name": "Switzerland",
         "offsetgroup": "Switzerland",
         "orientation": "v",
         "showlegend": true,
         "text": [
          7.487
         ],
         "textposition": "outside",
         "texttemplate": "%{text:.2s}",
         "type": "bar",
         "x": [
          "Switzerland"
         ],
         "xaxis": "x",
         "y": [
          7.487
         ],
         "yaxis": "y"
        },
        {
         "alignmentgroup": "True",
         "hovertemplate": "Country=%{x}<br>Happiness Score=%{text}<extra></extra>",
         "legendgroup": "Netherlands",
         "marker": {
          "color": "#19d3f3"
         },
         "name": "Netherlands",
         "offsetgroup": "Netherlands",
         "orientation": "v",
         "showlegend": true,
         "text": [
          7.441
         ],
         "textposition": "outside",
         "texttemplate": "%{text:.2s}",
         "type": "bar",
         "x": [
          "Netherlands"
         ],
         "xaxis": "x",
         "y": [
          7.441
         ],
         "yaxis": "y"
        },
        {
         "alignmentgroup": "True",
         "hovertemplate": "Country=%{x}<br>Happiness Score=%{text}<extra></extra>",
         "legendgroup": "Canada",
         "marker": {
          "color": "#FF6692"
         },
         "name": "Canada",
         "offsetgroup": "Canada",
         "orientation": "v",
         "showlegend": true,
         "text": [
          7.328
         ],
         "textposition": "outside",
         "texttemplate": "%{text:.2s}",
         "type": "bar",
         "x": [
          "Canada"
         ],
         "xaxis": "x",
         "y": [
          7.328
         ],
         "yaxis": "y"
        },
        {
         "alignmentgroup": "True",
         "hovertemplate": "Country=%{x}<br>Happiness Score=%{text}<extra></extra>",
         "legendgroup": "New Zealand",
         "marker": {
          "color": "#B6E880"
         },
         "name": "New Zealand",
         "offsetgroup": "New Zealand",
         "orientation": "v",
         "showlegend": true,
         "text": [
          7.324
         ],
         "textposition": "outside",
         "texttemplate": "%{text:.2s}",
         "type": "bar",
         "x": [
          "New Zealand"
         ],
         "xaxis": "x",
         "y": [
          7.324
         ],
         "yaxis": "y"
        },
        {
         "alignmentgroup": "True",
         "hovertemplate": "Country=%{x}<br>Happiness Score=%{text}<extra></extra>",
         "legendgroup": "Sweden",
         "marker": {
          "color": "#FF97FF"
         },
         "name": "Sweden",
         "offsetgroup": "Sweden",
         "orientation": "v",
         "showlegend": true,
         "text": [
          7.314
         ],
         "textposition": "outside",
         "texttemplate": "%{text:.2s}",
         "type": "bar",
         "x": [
          "Sweden"
         ],
         "xaxis": "x",
         "y": [
          7.314
         ],
         "yaxis": "y"
        },
        {
         "alignmentgroup": "True",
         "hovertemplate": "Country=%{x}<br>Happiness Score=%{text}<extra></extra>",
         "legendgroup": "Australia",
         "marker": {
          "color": "#FECB52"
         },
         "name": "Australia",
         "offsetgroup": "Australia",
         "orientation": "v",
         "showlegend": true,
         "text": [
          7.272
         ],
         "textposition": "outside",
         "texttemplate": "%{text:.2s}",
         "type": "bar",
         "x": [
          "Australia"
         ],
         "xaxis": "x",
         "y": [
          7.272
         ],
         "yaxis": "y"
        },
        {
         "alignmentgroup": "True",
         "hovertemplate": "Country=%{x}<br>Happiness Score=%{text}<extra></extra>",
         "legendgroup": "United Kingdom",
         "marker": {
          "color": "#636efa"
         },
         "name": "United Kingdom",
         "offsetgroup": "United Kingdom",
         "orientation": "v",
         "showlegend": true,
         "text": [
          7.191
         ],
         "textposition": "outside",
         "texttemplate": "%{text:.2s}",
         "type": "bar",
         "x": [
          "United Kingdom"
         ],
         "xaxis": "x",
         "y": [
          7.191
         ],
         "yaxis": "y"
        },
        {
         "alignmentgroup": "True",
         "hovertemplate": "Country=%{x}<br>Happiness Score=%{text}<extra></extra>",
         "legendgroup": "Austria",
         "marker": {
          "color": "#EF553B"
         },
         "name": "Austria",
         "offsetgroup": "Austria",
         "orientation": "v",
         "showlegend": true,
         "text": [
          7.139
         ],
         "textposition": "outside",
         "texttemplate": "%{text:.2s}",
         "type": "bar",
         "x": [
          "Austria"
         ],
         "xaxis": "x",
         "y": [
          7.139
         ],
         "yaxis": "y"
        },
        {
         "alignmentgroup": "True",
         "hovertemplate": "Country=%{x}<br>Happiness Score=%{text}<extra></extra>",
         "legendgroup": "Costa Rica",
         "marker": {
          "color": "#00cc96"
         },
         "name": "Costa Rica",
         "offsetgroup": "Costa Rica",
         "orientation": "v",
         "showlegend": true,
         "text": [
          7.072
         ],
         "textposition": "outside",
         "texttemplate": "%{text:.2s}",
         "type": "bar",
         "x": [
          "Costa Rica"
         ],
         "xaxis": "x",
         "y": [
          7.072
         ],
         "yaxis": "y"
        },
        {
         "alignmentgroup": "True",
         "hovertemplate": "Country=%{x}<br>Happiness Score=%{text}<extra></extra>",
         "legendgroup": "Ireland",
         "marker": {
          "color": "#ab63fa"
         },
         "name": "Ireland",
         "offsetgroup": "Ireland",
         "orientation": "v",
         "showlegend": true,
         "text": [
          6.977
         ],
         "textposition": "outside",
         "texttemplate": "%{text:.2s}",
         "type": "bar",
         "x": [
          "Ireland"
         ],
         "xaxis": "x",
         "y": [
          6.977
         ],
         "yaxis": "y"
        },
        {
         "alignmentgroup": "True",
         "hovertemplate": "Country=%{x}<br>Happiness Score=%{text}<extra></extra>",
         "legendgroup": "Germany",
         "marker": {
          "color": "#FFA15A"
         },
         "name": "Germany",
         "offsetgroup": "Germany",
         "orientation": "v",
         "showlegend": true,
         "text": [
          6.965
         ],
         "textposition": "outside",
         "texttemplate": "%{text:.2s}",
         "type": "bar",
         "x": [
          "Germany"
         ],
         "xaxis": "x",
         "y": [
          6.965
         ],
         "yaxis": "y"
        },
        {
         "alignmentgroup": "True",
         "hovertemplate": "Country=%{x}<br>Happiness Score=%{text}<extra></extra>",
         "legendgroup": "Belgium",
         "marker": {
          "color": "#19d3f3"
         },
         "name": "Belgium",
         "offsetgroup": "Belgium",
         "orientation": "v",
         "showlegend": true,
         "text": [
          6.927
         ],
         "textposition": "outside",
         "texttemplate": "%{text:.2s}",
         "type": "bar",
         "x": [
          "Belgium"
         ],
         "xaxis": "x",
         "y": [
          6.927
         ],
         "yaxis": "y"
        },
        {
         "alignmentgroup": "True",
         "hovertemplate": "Country=%{x}<br>Happiness Score=%{text}<extra></extra>",
         "legendgroup": "Luxembourg",
         "marker": {
          "color": "#FF6692"
         },
         "name": "Luxembourg",
         "offsetgroup": "Luxembourg",
         "orientation": "v",
         "showlegend": true,
         "text": [
          6.911
         ],
         "textposition": "outside",
         "texttemplate": "%{text:.2s}",
         "type": "bar",
         "x": [
          "Luxembourg"
         ],
         "xaxis": "x",
         "y": [
          6.911
         ],
         "yaxis": "y"
        },
        {
         "alignmentgroup": "True",
         "hovertemplate": "Country=%{x}<br>Happiness Score=%{text}<extra></extra>",
         "legendgroup": "United States",
         "marker": {
          "color": "#B6E880"
         },
         "name": "United States",
         "offsetgroup": "United States",
         "orientation": "v",
         "showlegend": true,
         "text": [
          6.886
         ],
         "textposition": "outside",
         "texttemplate": "%{text:.2s}",
         "type": "bar",
         "x": [
          "United States"
         ],
         "xaxis": "x",
         "y": [
          6.886
         ],
         "yaxis": "y"
        },
        {
         "alignmentgroup": "True",
         "hovertemplate": "Country=%{x}<br>Happiness Score=%{text}<extra></extra>",
         "legendgroup": "Israel",
         "marker": {
          "color": "#FF97FF"
         },
         "name": "Israel",
         "offsetgroup": "Israel",
         "orientation": "v",
         "showlegend": true,
         "text": [
          6.814
         ],
         "textposition": "outside",
         "texttemplate": "%{text:.2s}",
         "type": "bar",
         "x": [
          "Israel"
         ],
         "xaxis": "x",
         "y": [
          6.814
         ],
         "yaxis": "y"
        },
        {
         "alignmentgroup": "True",
         "hovertemplate": "Country=%{x}<br>Happiness Score=%{text}<extra></extra>",
         "legendgroup": "United Arab Emirates",
         "marker": {
          "color": "#FECB52"
         },
         "name": "United Arab Emirates",
         "offsetgroup": "United Arab Emirates",
         "orientation": "v",
         "showlegend": true,
         "text": [
          6.774
         ],
         "textposition": "outside",
         "texttemplate": "%{text:.2s}",
         "type": "bar",
         "x": [
          "United Arab Emirates"
         ],
         "xaxis": "x",
         "y": [
          6.774
         ],
         "yaxis": "y"
        },
        {
         "alignmentgroup": "True",
         "hovertemplate": "Country=%{x}<br>Happiness Score=%{text}<extra></extra>",
         "legendgroup": "Czech Republic",
         "marker": {
          "color": "#636efa"
         },
         "name": "Czech Republic",
         "offsetgroup": "Czech Republic",
         "orientation": "v",
         "showlegend": true,
         "text": [
          6.711
         ],
         "textposition": "outside",
         "texttemplate": "%{text:.2s}",
         "type": "bar",
         "x": [
          "Czech Republic"
         ],
         "xaxis": "x",
         "y": [
          6.711
         ],
         "yaxis": "y"
        },
        {
         "alignmentgroup": "True",
         "hovertemplate": "Country=%{x}<br>Happiness Score=%{text}<extra></extra>",
         "legendgroup": "Malta",
         "marker": {
          "color": "#EF553B"
         },
         "name": "Malta",
         "offsetgroup": "Malta",
         "orientation": "v",
         "showlegend": true,
         "text": [
          6.627
         ],
         "textposition": "outside",
         "texttemplate": "%{text:.2s}",
         "type": "bar",
         "x": [
          "Malta"
         ],
         "xaxis": "x",
         "y": [
          6.627
         ],
         "yaxis": "y"
        },
        {
         "alignmentgroup": "True",
         "hovertemplate": "Country=%{x}<br>Happiness Score=%{text}<extra></extra>",
         "legendgroup": "France",
         "marker": {
          "color": "#00cc96"
         },
         "name": "France",
         "offsetgroup": "France",
         "orientation": "v",
         "showlegend": true,
         "text": [
          6.489
         ],
         "textposition": "outside",
         "texttemplate": "%{text:.2s}",
         "type": "bar",
         "x": [
          "France"
         ],
         "xaxis": "x",
         "y": [
          6.489
         ],
         "yaxis": "y"
        },
        {
         "alignmentgroup": "True",
         "hovertemplate": "Country=%{x}<br>Happiness Score=%{text}<extra></extra>",
         "legendgroup": "Mexico",
         "marker": {
          "color": "#ab63fa"
         },
         "name": "Mexico",
         "offsetgroup": "Mexico",
         "orientation": "v",
         "showlegend": true,
         "text": [
          6.488
         ],
         "textposition": "outside",
         "texttemplate": "%{text:.2s}",
         "type": "bar",
         "x": [
          "Mexico"
         ],
         "xaxis": "x",
         "y": [
          6.488
         ],
         "yaxis": "y"
        },
        {
         "alignmentgroup": "True",
         "hovertemplate": "Country=%{x}<br>Happiness Score=%{text}<extra></extra>",
         "legendgroup": "Chile",
         "marker": {
          "color": "#FFA15A"
         },
         "name": "Chile",
         "offsetgroup": "Chile",
         "orientation": "v",
         "showlegend": true,
         "text": [
          6.476
         ],
         "textposition": "outside",
         "texttemplate": "%{text:.2s}",
         "type": "bar",
         "x": [
          "Chile"
         ],
         "xaxis": "x",
         "y": [
          6.476
         ],
         "yaxis": "y"
        },
        {
         "alignmentgroup": "True",
         "hovertemplate": "Country=%{x}<br>Happiness Score=%{text}<extra></extra>",
         "legendgroup": "Taiwan",
         "marker": {
          "color": "#19d3f3"
         },
         "name": "Taiwan",
         "offsetgroup": "Taiwan",
         "orientation": "v",
         "showlegend": true,
         "text": [
          6.441
         ],
         "textposition": "outside",
         "texttemplate": "%{text:.2s}",
         "type": "bar",
         "x": [
          "Taiwan"
         ],
         "xaxis": "x",
         "y": [
          6.441
         ],
         "yaxis": "y"
        },
        {
         "alignmentgroup": "True",
         "hovertemplate": "Country=%{x}<br>Happiness Score=%{text}<extra></extra>",
         "legendgroup": "Panama",
         "marker": {
          "color": "#FF6692"
         },
         "name": "Panama",
         "offsetgroup": "Panama",
         "orientation": "v",
         "showlegend": true,
         "text": [
          6.431
         ],
         "textposition": "outside",
         "texttemplate": "%{text:.2s}",
         "type": "bar",
         "x": [
          "Panama"
         ],
         "xaxis": "x",
         "y": [
          6.431
         ],
         "yaxis": "y"
        },
        {
         "alignmentgroup": "True",
         "hovertemplate": "Country=%{x}<br>Happiness Score=%{text}<extra></extra>",
         "legendgroup": "Brazil",
         "marker": {
          "color": "#B6E880"
         },
         "name": "Brazil",
         "offsetgroup": "Brazil",
         "orientation": "v",
         "showlegend": true,
         "text": [
          6.419
         ],
         "textposition": "outside",
         "texttemplate": "%{text:.2s}",
         "type": "bar",
         "x": [
          "Brazil"
         ],
         "xaxis": "x",
         "y": [
          6.419
         ],
         "yaxis": "y"
        },
        {
         "alignmentgroup": "True",
         "hovertemplate": "Country=%{x}<br>Happiness Score=%{text}<extra></extra>",
         "legendgroup": "Argentina",
         "marker": {
          "color": "#FF97FF"
         },
         "name": "Argentina",
         "offsetgroup": "Argentina",
         "orientation": "v",
         "showlegend": true,
         "text": [
          6.388
         ],
         "textposition": "outside",
         "texttemplate": "%{text:.2s}",
         "type": "bar",
         "x": [
          "Argentina"
         ],
         "xaxis": "x",
         "y": [
          6.388
         ],
         "yaxis": "y"
        },
        {
         "alignmentgroup": "True",
         "hovertemplate": "Country=%{x}<br>Happiness Score=%{text}<extra></extra>",
         "legendgroup": "Guatemala",
         "marker": {
          "color": "#FECB52"
         },
         "name": "Guatemala",
         "offsetgroup": "Guatemala",
         "orientation": "v",
         "showlegend": true,
         "text": [
          6.382
         ],
         "textposition": "outside",
         "texttemplate": "%{text:.2s}",
         "type": "bar",
         "x": [
          "Guatemala"
         ],
         "xaxis": "x",
         "y": [
          6.382
         ],
         "yaxis": "y"
        },
        {
         "alignmentgroup": "True",
         "hovertemplate": "Country=%{x}<br>Happiness Score=%{text}<extra></extra>",
         "legendgroup": "Uruguay",
         "marker": {
          "color": "#636efa"
         },
         "name": "Uruguay",
         "offsetgroup": "Uruguay",
         "orientation": "v",
         "showlegend": true,
         "text": [
          6.379
         ],
         "textposition": "outside",
         "texttemplate": "%{text:.2s}",
         "type": "bar",
         "x": [
          "Uruguay"
         ],
         "xaxis": "x",
         "y": [
          6.379
         ],
         "yaxis": "y"
        },
        {
         "alignmentgroup": "True",
         "hovertemplate": "Country=%{x}<br>Happiness Score=%{text}<extra></extra>",
         "legendgroup": "Qatar",
         "marker": {
          "color": "#EF553B"
         },
         "name": "Qatar",
         "offsetgroup": "Qatar",
         "orientation": "v",
         "showlegend": true,
         "text": [
          6.374
         ],
         "textposition": "outside",
         "texttemplate": "%{text:.2s}",
         "type": "bar",
         "x": [
          "Qatar"
         ],
         "xaxis": "x",
         "y": [
          6.374
         ],
         "yaxis": "y"
        },
        {
         "alignmentgroup": "True",
         "hovertemplate": "Country=%{x}<br>Happiness Score=%{text}<extra></extra>",
         "legendgroup": "Saudi Arabia",
         "marker": {
          "color": "#00cc96"
         },
         "name": "Saudi Arabia",
         "offsetgroup": "Saudi Arabia",
         "orientation": "v",
         "showlegend": true,
         "text": [
          6.371
         ],
         "textposition": "outside",
         "texttemplate": "%{text:.2s}",
         "type": "bar",
         "x": [
          "Saudi Arabia"
         ],
         "xaxis": "x",
         "y": [
          6.371
         ],
         "yaxis": "y"
        },
        {
         "alignmentgroup": "True",
         "hovertemplate": "Country=%{x}<br>Happiness Score=%{text}<extra></extra>",
         "legendgroup": "Singapore",
         "marker": {
          "color": "#ab63fa"
         },
         "name": "Singapore",
         "offsetgroup": "Singapore",
         "orientation": "v",
         "showlegend": true,
         "text": [
          6.343
         ],
         "textposition": "outside",
         "texttemplate": "%{text:.2s}",
         "type": "bar",
         "x": [
          "Singapore"
         ],
         "xaxis": "x",
         "y": [
          6.343
         ],
         "yaxis": "y"
        },
        {
         "alignmentgroup": "True",
         "hovertemplate": "Country=%{x}<br>Happiness Score=%{text}<extra></extra>",
         "legendgroup": "Malaysia",
         "marker": {
          "color": "#FFA15A"
         },
         "name": "Malaysia",
         "offsetgroup": "Malaysia",
         "orientation": "v",
         "showlegend": true,
         "text": [
          6.322
         ],
         "textposition": "outside",
         "texttemplate": "%{text:.2s}",
         "type": "bar",
         "x": [
          "Malaysia"
         ],
         "xaxis": "x",
         "y": [
          6.322
         ],
         "yaxis": "y"
        },
        {
         "alignmentgroup": "True",
         "hovertemplate": "Country=%{x}<br>Happiness Score=%{text}<extra></extra>",
         "legendgroup": "Spain",
         "marker": {
          "color": "#19d3f3"
         },
         "name": "Spain",
         "offsetgroup": "Spain",
         "orientation": "v",
         "showlegend": true,
         "text": [
          6.311
         ],
         "textposition": "outside",
         "texttemplate": "%{text:.2s}",
         "type": "bar",
         "x": [
          "Spain"
         ],
         "xaxis": "x",
         "y": [
          6.311
         ],
         "yaxis": "y"
        },
        {
         "alignmentgroup": "True",
         "hovertemplate": "Country=%{x}<br>Happiness Score=%{text}<extra></extra>",
         "legendgroup": "Colombia",
         "marker": {
          "color": "#FF6692"
         },
         "name": "Colombia",
         "offsetgroup": "Colombia",
         "orientation": "v",
         "showlegend": true,
         "text": [
          6.261
         ],
         "textposition": "outside",
         "texttemplate": "%{text:.2s}",
         "type": "bar",
         "x": [
          "Colombia"
         ],
         "xaxis": "x",
         "y": [
          6.261
         ],
         "yaxis": "y"
        },
        {
         "alignmentgroup": "True",
         "hovertemplate": "Country=%{x}<br>Happiness Score=%{text}<extra></extra>",
         "legendgroup": "Trinidad & Tobago",
         "marker": {
          "color": "#B6E880"
         },
         "name": "Trinidad & Tobago",
         "offsetgroup": "Trinidad & Tobago",
         "orientation": "v",
         "showlegend": true,
         "text": [
          6.192
         ],
         "textposition": "outside",
         "texttemplate": "%{text:.2s}",
         "type": "bar",
         "x": [
          "Trinidad & Tobago"
         ],
         "xaxis": "x",
         "y": [
          6.192
         ],
         "yaxis": "y"
        },
        {
         "alignmentgroup": "True",
         "hovertemplate": "Country=%{x}<br>Happiness Score=%{text}<extra></extra>",
         "legendgroup": "Slovakia",
         "marker": {
          "color": "#FF97FF"
         },
         "name": "Slovakia",
         "offsetgroup": "Slovakia",
         "orientation": "v",
         "showlegend": true,
         "text": [
          6.173
         ],
         "textposition": "outside",
         "texttemplate": "%{text:.2s}",
         "type": "bar",
         "x": [
          "Slovakia"
         ],
         "xaxis": "x",
         "y": [
          6.173
         ],
         "yaxis": "y"
        },
        {
         "alignmentgroup": "True",
         "hovertemplate": "Country=%{x}<br>Happiness Score=%{text}<extra></extra>",
         "legendgroup": "El Salvador",
         "marker": {
          "color": "#FECB52"
         },
         "name": "El Salvador",
         "offsetgroup": "El Salvador",
         "orientation": "v",
         "showlegend": true,
         "text": [
          6.167
         ],
         "textposition": "outside",
         "texttemplate": "%{text:.2s}",
         "type": "bar",
         "x": [
          "El Salvador"
         ],
         "xaxis": "x",
         "y": [
          6.167
         ],
         "yaxis": "y"
        },
        {
         "alignmentgroup": "True",
         "hovertemplate": "Country=%{x}<br>Happiness Score=%{text}<extra></extra>",
         "legendgroup": "Nicaragua",
         "marker": {
          "color": "#636efa"
         },
         "name": "Nicaragua",
         "offsetgroup": "Nicaragua",
         "orientation": "v",
         "showlegend": true,
         "text": [
          6.141
         ],
         "textposition": "outside",
         "texttemplate": "%{text:.2s}",
         "type": "bar",
         "x": [
          "Nicaragua"
         ],
         "xaxis": "x",
         "y": [
          6.141
         ],
         "yaxis": "y"
        },
        {
         "alignmentgroup": "True",
         "hovertemplate": "Country=%{x}<br>Happiness Score=%{text}<extra></extra>",
         "legendgroup": "Poland",
         "marker": {
          "color": "#EF553B"
         },
         "name": "Poland",
         "offsetgroup": "Poland",
         "orientation": "v",
         "showlegend": true,
         "text": [
          6.123
         ],
         "textposition": "outside",
         "texttemplate": "%{text:.2s}",
         "type": "bar",
         "x": [
          "Poland"
         ],
         "xaxis": "x",
         "y": [
          6.123
         ],
         "yaxis": "y"
        },
        {
         "alignmentgroup": "True",
         "hovertemplate": "Country=%{x}<br>Happiness Score=%{text}<extra></extra>",
         "legendgroup": "Bahrain",
         "marker": {
          "color": "#00cc96"
         },
         "name": "Bahrain",
         "offsetgroup": "Bahrain",
         "orientation": "v",
         "showlegend": true,
         "text": [
          6.105
         ],
         "textposition": "outside",
         "texttemplate": "%{text:.2s}",
         "type": "bar",
         "x": [
          "Bahrain"
         ],
         "xaxis": "x",
         "y": [
          6.105
         ],
         "yaxis": "y"
        },
        {
         "alignmentgroup": "True",
         "hovertemplate": "Country=%{x}<br>Happiness Score=%{text}<extra></extra>",
         "legendgroup": "Uzbekistan",
         "marker": {
          "color": "#ab63fa"
         },
         "name": "Uzbekistan",
         "offsetgroup": "Uzbekistan",
         "orientation": "v",
         "showlegend": true,
         "text": [
          6.096
         ],
         "textposition": "outside",
         "texttemplate": "%{text:.2s}",
         "type": "bar",
         "x": [
          "Uzbekistan"
         ],
         "xaxis": "x",
         "y": [
          6.096
         ],
         "yaxis": "y"
        },
        {
         "alignmentgroup": "True",
         "hovertemplate": "Country=%{x}<br>Happiness Score=%{text}<extra></extra>",
         "legendgroup": "Kuwait",
         "marker": {
          "color": "#FFA15A"
         },
         "name": "Kuwait",
         "offsetgroup": "Kuwait",
         "orientation": "v",
         "showlegend": true,
         "text": [
          6.083
         ],
         "textposition": "outside",
         "texttemplate": "%{text:.2s}",
         "type": "bar",
         "x": [
          "Kuwait"
         ],
         "xaxis": "x",
         "y": [
          6.083
         ],
         "yaxis": "y"
        },
        {
         "alignmentgroup": "True",
         "hovertemplate": "Country=%{x}<br>Happiness Score=%{text}<extra></extra>",
         "legendgroup": "Thailand",
         "marker": {
          "color": "#19d3f3"
         },
         "name": "Thailand",
         "offsetgroup": "Thailand",
         "orientation": "v",
         "showlegend": true,
         "text": [
          6.072
         ],
         "textposition": "outside",
         "texttemplate": "%{text:.2s}",
         "type": "bar",
         "x": [
          "Thailand"
         ],
         "xaxis": "x",
         "y": [
          6.072
         ],
         "yaxis": "y"
        },
        {
         "alignmentgroup": "True",
         "hovertemplate": "Country=%{x}<br>Happiness Score=%{text}<extra></extra>",
         "legendgroup": "Italy",
         "marker": {
          "color": "#FF6692"
         },
         "name": "Italy",
         "offsetgroup": "Italy",
         "orientation": "v",
         "showlegend": true,
         "text": [
          6.011
         ],
         "textposition": "outside",
         "texttemplate": "%{text:.2s}",
         "type": "bar",
         "x": [
          "Italy"
         ],
         "xaxis": "x",
         "y": [
          6.011
         ],
         "yaxis": "y"
        },
        {
         "alignmentgroup": "True",
         "hovertemplate": "Country=%{x}<br>Happiness Score=%{text}<extra></extra>",
         "legendgroup": "Ecuador",
         "marker": {
          "color": "#B6E880"
         },
         "name": "Ecuador",
         "offsetgroup": "Ecuador",
         "orientation": "v",
         "showlegend": true,
         "text": [
          5.973
         ],
         "textposition": "outside",
         "texttemplate": "%{text:.2s}",
         "type": "bar",
         "x": [
          "Ecuador"
         ],
         "xaxis": "x",
         "y": [
          5.973
         ],
         "yaxis": "y"
        },
        {
         "alignmentgroup": "True",
         "hovertemplate": "Country=%{x}<br>Happiness Score=%{text}<extra></extra>",
         "legendgroup": "Belize",
         "marker": {
          "color": "#FF97FF"
         },
         "name": "Belize",
         "offsetgroup": "Belize",
         "orientation": "v",
         "showlegend": true,
         "text": [
          5.956
         ],
         "textposition": "outside",
         "texttemplate": "%{text:.2s}",
         "type": "bar",
         "x": [
          "Belize"
         ],
         "xaxis": "x",
         "y": [
          5.956
         ],
         "yaxis": "y"
        },
        {
         "alignmentgroup": "True",
         "hovertemplate": "Country=%{x}<br>Happiness Score=%{text}<extra></extra>",
         "legendgroup": "Lithuania",
         "marker": {
          "color": "#FECB52"
         },
         "name": "Lithuania",
         "offsetgroup": "Lithuania",
         "orientation": "v",
         "showlegend": true,
         "text": [
          5.952
         ],
         "textposition": "outside",
         "texttemplate": "%{text:.2s}",
         "type": "bar",
         "x": [
          "Lithuania"
         ],
         "xaxis": "x",
         "y": [
          5.952
         ],
         "yaxis": "y"
        }
       ],
       "layout": {
        "barmode": "relative",
        "legend": {
         "title": {
          "text": "Country"
         },
         "tracegroupgap": 0
        },
        "margin": {
         "t": 60
        },
        "template": {
         "data": {
          "bar": [
           {
            "error_x": {
             "color": "#2a3f5f"
            },
            "error_y": {
             "color": "#2a3f5f"
            },
            "marker": {
             "line": {
              "color": "#E5ECF6",
              "width": 0.5
             }
            },
            "type": "bar"
           }
          ],
          "barpolar": [
           {
            "marker": {
             "line": {
              "color": "#E5ECF6",
              "width": 0.5
             }
            },
            "type": "barpolar"
           }
          ],
          "carpet": [
           {
            "aaxis": {
             "endlinecolor": "#2a3f5f",
             "gridcolor": "white",
             "linecolor": "white",
             "minorgridcolor": "white",
             "startlinecolor": "#2a3f5f"
            },
            "baxis": {
             "endlinecolor": "#2a3f5f",
             "gridcolor": "white",
             "linecolor": "white",
             "minorgridcolor": "white",
             "startlinecolor": "#2a3f5f"
            },
            "type": "carpet"
           }
          ],
          "choropleth": [
           {
            "colorbar": {
             "outlinewidth": 0,
             "ticks": ""
            },
            "type": "choropleth"
           }
          ],
          "contour": [
           {
            "colorbar": {
             "outlinewidth": 0,
             "ticks": ""
            },
            "colorscale": [
             [
              0,
              "#0d0887"
             ],
             [
              0.1111111111111111,
              "#46039f"
             ],
             [
              0.2222222222222222,
              "#7201a8"
             ],
             [
              0.3333333333333333,
              "#9c179e"
             ],
             [
              0.4444444444444444,
              "#bd3786"
             ],
             [
              0.5555555555555556,
              "#d8576b"
             ],
             [
              0.6666666666666666,
              "#ed7953"
             ],
             [
              0.7777777777777778,
              "#fb9f3a"
             ],
             [
              0.8888888888888888,
              "#fdca26"
             ],
             [
              1,
              "#f0f921"
             ]
            ],
            "type": "contour"
           }
          ],
          "contourcarpet": [
           {
            "colorbar": {
             "outlinewidth": 0,
             "ticks": ""
            },
            "type": "contourcarpet"
           }
          ],
          "heatmap": [
           {
            "colorbar": {
             "outlinewidth": 0,
             "ticks": ""
            },
            "colorscale": [
             [
              0,
              "#0d0887"
             ],
             [
              0.1111111111111111,
              "#46039f"
             ],
             [
              0.2222222222222222,
              "#7201a8"
             ],
             [
              0.3333333333333333,
              "#9c179e"
             ],
             [
              0.4444444444444444,
              "#bd3786"
             ],
             [
              0.5555555555555556,
              "#d8576b"
             ],
             [
              0.6666666666666666,
              "#ed7953"
             ],
             [
              0.7777777777777778,
              "#fb9f3a"
             ],
             [
              0.8888888888888888,
              "#fdca26"
             ],
             [
              1,
              "#f0f921"
             ]
            ],
            "type": "heatmap"
           }
          ],
          "heatmapgl": [
           {
            "colorbar": {
             "outlinewidth": 0,
             "ticks": ""
            },
            "colorscale": [
             [
              0,
              "#0d0887"
             ],
             [
              0.1111111111111111,
              "#46039f"
             ],
             [
              0.2222222222222222,
              "#7201a8"
             ],
             [
              0.3333333333333333,
              "#9c179e"
             ],
             [
              0.4444444444444444,
              "#bd3786"
             ],
             [
              0.5555555555555556,
              "#d8576b"
             ],
             [
              0.6666666666666666,
              "#ed7953"
             ],
             [
              0.7777777777777778,
              "#fb9f3a"
             ],
             [
              0.8888888888888888,
              "#fdca26"
             ],
             [
              1,
              "#f0f921"
             ]
            ],
            "type": "heatmapgl"
           }
          ],
          "histogram": [
           {
            "marker": {
             "colorbar": {
              "outlinewidth": 0,
              "ticks": ""
             }
            },
            "type": "histogram"
           }
          ],
          "histogram2d": [
           {
            "colorbar": {
             "outlinewidth": 0,
             "ticks": ""
            },
            "colorscale": [
             [
              0,
              "#0d0887"
             ],
             [
              0.1111111111111111,
              "#46039f"
             ],
             [
              0.2222222222222222,
              "#7201a8"
             ],
             [
              0.3333333333333333,
              "#9c179e"
             ],
             [
              0.4444444444444444,
              "#bd3786"
             ],
             [
              0.5555555555555556,
              "#d8576b"
             ],
             [
              0.6666666666666666,
              "#ed7953"
             ],
             [
              0.7777777777777778,
              "#fb9f3a"
             ],
             [
              0.8888888888888888,
              "#fdca26"
             ],
             [
              1,
              "#f0f921"
             ]
            ],
            "type": "histogram2d"
           }
          ],
          "histogram2dcontour": [
           {
            "colorbar": {
             "outlinewidth": 0,
             "ticks": ""
            },
            "colorscale": [
             [
              0,
              "#0d0887"
             ],
             [
              0.1111111111111111,
              "#46039f"
             ],
             [
              0.2222222222222222,
              "#7201a8"
             ],
             [
              0.3333333333333333,
              "#9c179e"
             ],
             [
              0.4444444444444444,
              "#bd3786"
             ],
             [
              0.5555555555555556,
              "#d8576b"
             ],
             [
              0.6666666666666666,
              "#ed7953"
             ],
             [
              0.7777777777777778,
              "#fb9f3a"
             ],
             [
              0.8888888888888888,
              "#fdca26"
             ],
             [
              1,
              "#f0f921"
             ]
            ],
            "type": "histogram2dcontour"
           }
          ],
          "mesh3d": [
           {
            "colorbar": {
             "outlinewidth": 0,
             "ticks": ""
            },
            "type": "mesh3d"
           }
          ],
          "parcoords": [
           {
            "line": {
             "colorbar": {
              "outlinewidth": 0,
              "ticks": ""
             }
            },
            "type": "parcoords"
           }
          ],
          "pie": [
           {
            "automargin": true,
            "type": "pie"
           }
          ],
          "scatter": [
           {
            "marker": {
             "colorbar": {
              "outlinewidth": 0,
              "ticks": ""
             }
            },
            "type": "scatter"
           }
          ],
          "scatter3d": [
           {
            "line": {
             "colorbar": {
              "outlinewidth": 0,
              "ticks": ""
             }
            },
            "marker": {
             "colorbar": {
              "outlinewidth": 0,
              "ticks": ""
             }
            },
            "type": "scatter3d"
           }
          ],
          "scattercarpet": [
           {
            "marker": {
             "colorbar": {
              "outlinewidth": 0,
              "ticks": ""
             }
            },
            "type": "scattercarpet"
           }
          ],
          "scattergeo": [
           {
            "marker": {
             "colorbar": {
              "outlinewidth": 0,
              "ticks": ""
             }
            },
            "type": "scattergeo"
           }
          ],
          "scattergl": [
           {
            "marker": {
             "colorbar": {
              "outlinewidth": 0,
              "ticks": ""
             }
            },
            "type": "scattergl"
           }
          ],
          "scattermapbox": [
           {
            "marker": {
             "colorbar": {
              "outlinewidth": 0,
              "ticks": ""
             }
            },
            "type": "scattermapbox"
           }
          ],
          "scatterpolar": [
           {
            "marker": {
             "colorbar": {
              "outlinewidth": 0,
              "ticks": ""
             }
            },
            "type": "scatterpolar"
           }
          ],
          "scatterpolargl": [
           {
            "marker": {
             "colorbar": {
              "outlinewidth": 0,
              "ticks": ""
             }
            },
            "type": "scatterpolargl"
           }
          ],
          "scatterternary": [
           {
            "marker": {
             "colorbar": {
              "outlinewidth": 0,
              "ticks": ""
             }
            },
            "type": "scatterternary"
           }
          ],
          "surface": [
           {
            "colorbar": {
             "outlinewidth": 0,
             "ticks": ""
            },
            "colorscale": [
             [
              0,
              "#0d0887"
             ],
             [
              0.1111111111111111,
              "#46039f"
             ],
             [
              0.2222222222222222,
              "#7201a8"
             ],
             [
              0.3333333333333333,
              "#9c179e"
             ],
             [
              0.4444444444444444,
              "#bd3786"
             ],
             [
              0.5555555555555556,
              "#d8576b"
             ],
             [
              0.6666666666666666,
              "#ed7953"
             ],
             [
              0.7777777777777778,
              "#fb9f3a"
             ],
             [
              0.8888888888888888,
              "#fdca26"
             ],
             [
              1,
              "#f0f921"
             ]
            ],
            "type": "surface"
           }
          ],
          "table": [
           {
            "cells": {
             "fill": {
              "color": "#EBF0F8"
             },
             "line": {
              "color": "white"
             }
            },
            "header": {
             "fill": {
              "color": "#C8D4E3"
             },
             "line": {
              "color": "white"
             }
            },
            "type": "table"
           }
          ]
         },
         "layout": {
          "annotationdefaults": {
           "arrowcolor": "#2a3f5f",
           "arrowhead": 0,
           "arrowwidth": 1
          },
          "autotypenumbers": "strict",
          "coloraxis": {
           "colorbar": {
            "outlinewidth": 0,
            "ticks": ""
           }
          },
          "colorscale": {
           "diverging": [
            [
             0,
             "#8e0152"
            ],
            [
             0.1,
             "#c51b7d"
            ],
            [
             0.2,
             "#de77ae"
            ],
            [
             0.3,
             "#f1b6da"
            ],
            [
             0.4,
             "#fde0ef"
            ],
            [
             0.5,
             "#f7f7f7"
            ],
            [
             0.6,
             "#e6f5d0"
            ],
            [
             0.7,
             "#b8e186"
            ],
            [
             0.8,
             "#7fbc41"
            ],
            [
             0.9,
             "#4d9221"
            ],
            [
             1,
             "#276419"
            ]
           ],
           "sequential": [
            [
             0,
             "#0d0887"
            ],
            [
             0.1111111111111111,
             "#46039f"
            ],
            [
             0.2222222222222222,
             "#7201a8"
            ],
            [
             0.3333333333333333,
             "#9c179e"
            ],
            [
             0.4444444444444444,
             "#bd3786"
            ],
            [
             0.5555555555555556,
             "#d8576b"
            ],
            [
             0.6666666666666666,
             "#ed7953"
            ],
            [
             0.7777777777777778,
             "#fb9f3a"
            ],
            [
             0.8888888888888888,
             "#fdca26"
            ],
            [
             1,
             "#f0f921"
            ]
           ],
           "sequentialminus": [
            [
             0,
             "#0d0887"
            ],
            [
             0.1111111111111111,
             "#46039f"
            ],
            [
             0.2222222222222222,
             "#7201a8"
            ],
            [
             0.3333333333333333,
             "#9c179e"
            ],
            [
             0.4444444444444444,
             "#bd3786"
            ],
            [
             0.5555555555555556,
             "#d8576b"
            ],
            [
             0.6666666666666666,
             "#ed7953"
            ],
            [
             0.7777777777777778,
             "#fb9f3a"
            ],
            [
             0.8888888888888888,
             "#fdca26"
            ],
            [
             1,
             "#f0f921"
            ]
           ]
          },
          "colorway": [
           "#636efa",
           "#EF553B",
           "#00cc96",
           "#ab63fa",
           "#FFA15A",
           "#19d3f3",
           "#FF6692",
           "#B6E880",
           "#FF97FF",
           "#FECB52"
          ],
          "font": {
           "color": "#2a3f5f"
          },
          "geo": {
           "bgcolor": "white",
           "lakecolor": "white",
           "landcolor": "#E5ECF6",
           "showlakes": true,
           "showland": true,
           "subunitcolor": "white"
          },
          "hoverlabel": {
           "align": "left"
          },
          "hovermode": "closest",
          "mapbox": {
           "style": "light"
          },
          "paper_bgcolor": "white",
          "plot_bgcolor": "#E5ECF6",
          "polar": {
           "angularaxis": {
            "gridcolor": "white",
            "linecolor": "white",
            "ticks": ""
           },
           "bgcolor": "#E5ECF6",
           "radialaxis": {
            "gridcolor": "white",
            "linecolor": "white",
            "ticks": ""
           }
          },
          "scene": {
           "xaxis": {
            "backgroundcolor": "#E5ECF6",
            "gridcolor": "white",
            "gridwidth": 2,
            "linecolor": "white",
            "showbackground": true,
            "ticks": "",
            "zerolinecolor": "white"
           },
           "yaxis": {
            "backgroundcolor": "#E5ECF6",
            "gridcolor": "white",
            "gridwidth": 2,
            "linecolor": "white",
            "showbackground": true,
            "ticks": "",
            "zerolinecolor": "white"
           },
           "zaxis": {
            "backgroundcolor": "#E5ECF6",
            "gridcolor": "white",
            "gridwidth": 2,
            "linecolor": "white",
            "showbackground": true,
            "ticks": "",
            "zerolinecolor": "white"
           }
          },
          "shapedefaults": {
           "line": {
            "color": "#2a3f5f"
           }
          },
          "ternary": {
           "aaxis": {
            "gridcolor": "white",
            "linecolor": "white",
            "ticks": ""
           },
           "baxis": {
            "gridcolor": "white",
            "linecolor": "white",
            "ticks": ""
           },
           "bgcolor": "#E5ECF6",
           "caxis": {
            "gridcolor": "white",
            "linecolor": "white",
            "ticks": ""
           }
          },
          "title": {
           "x": 0.05
          },
          "xaxis": {
           "automargin": true,
           "gridcolor": "white",
           "linecolor": "white",
           "ticks": "",
           "title": {
            "standoff": 15
           },
           "zerolinecolor": "white",
           "zerolinewidth": 2
          },
          "yaxis": {
           "automargin": true,
           "gridcolor": "white",
           "linecolor": "white",
           "ticks": "",
           "title": {
            "standoff": 15
           },
           "zerolinecolor": "white",
           "zerolinewidth": 2
          }
         }
        },
        "uniformtext": {
         "minsize": 8
        },
        "xaxis": {
         "anchor": "y",
         "categoryarray": [
          "Finland",
          "Norway",
          "Denmark",
          "Iceland",
          "Switzerland",
          "Netherlands",
          "Canada",
          "New Zealand",
          "Sweden",
          "Australia",
          "United Kingdom",
          "Austria",
          "Costa Rica",
          "Ireland",
          "Germany",
          "Belgium",
          "Luxembourg",
          "United States",
          "Israel",
          "United Arab Emirates",
          "Czech Republic",
          "Malta",
          "France",
          "Mexico",
          "Chile",
          "Taiwan",
          "Panama",
          "Brazil",
          "Argentina",
          "Guatemala",
          "Uruguay",
          "Qatar",
          "Saudi Arabia",
          "Singapore",
          "Malaysia",
          "Spain",
          "Colombia",
          "Trinidad & Tobago",
          "Slovakia",
          "El Salvador",
          "Nicaragua",
          "Poland",
          "Bahrain",
          "Uzbekistan",
          "Kuwait",
          "Thailand",
          "Italy",
          "Ecuador",
          "Belize",
          "Lithuania"
         ],
         "categoryorder": "array",
         "domain": [
          0,
          1
         ],
         "tickangle": -45,
         "title": {
          "text": "Country"
         }
        },
        "yaxis": {
         "anchor": "x",
         "domain": [
          0,
          1
         ],
         "title": {
          "text": "Happiness Score"
         }
        }
       }
      },
      "text/html": [
       "<div>                            <div id=\"97892dac-2ba9-43ef-b34e-9a5f98d985d0\" class=\"plotly-graph-div\" style=\"height:525px; width:100%;\"></div>            <script type=\"text/javascript\">                require([\"plotly\"], function(Plotly) {                    window.PLOTLYENV=window.PLOTLYENV || {};                                    if (document.getElementById(\"97892dac-2ba9-43ef-b34e-9a5f98d985d0\")) {                    Plotly.newPlot(                        \"97892dac-2ba9-43ef-b34e-9a5f98d985d0\",                        [{\"alignmentgroup\": \"True\", \"hovertemplate\": \"Country=%{x}<br>Happiness Score=%{text}<extra></extra>\", \"legendgroup\": \"Finland\", \"marker\": {\"color\": \"#636efa\"}, \"name\": \"Finland\", \"offsetgroup\": \"Finland\", \"orientation\": \"v\", \"showlegend\": true, \"text\": [7.632], \"textposition\": \"outside\", \"texttemplate\": \"%{text:.2s}\", \"type\": \"bar\", \"x\": [\"Finland\"], \"xaxis\": \"x\", \"y\": [7.632], \"yaxis\": \"y\"}, {\"alignmentgroup\": \"True\", \"hovertemplate\": \"Country=%{x}<br>Happiness Score=%{text}<extra></extra>\", \"legendgroup\": \"Norway\", \"marker\": {\"color\": \"#EF553B\"}, \"name\": \"Norway\", \"offsetgroup\": \"Norway\", \"orientation\": \"v\", \"showlegend\": true, \"text\": [7.594], \"textposition\": \"outside\", \"texttemplate\": \"%{text:.2s}\", \"type\": \"bar\", \"x\": [\"Norway\"], \"xaxis\": \"x\", \"y\": [7.594], \"yaxis\": \"y\"}, {\"alignmentgroup\": \"True\", \"hovertemplate\": \"Country=%{x}<br>Happiness Score=%{text}<extra></extra>\", \"legendgroup\": \"Denmark\", \"marker\": {\"color\": \"#00cc96\"}, \"name\": \"Denmark\", \"offsetgroup\": \"Denmark\", \"orientation\": \"v\", \"showlegend\": true, \"text\": [7.555], \"textposition\": \"outside\", \"texttemplate\": \"%{text:.2s}\", \"type\": \"bar\", \"x\": [\"Denmark\"], \"xaxis\": \"x\", \"y\": [7.555], \"yaxis\": \"y\"}, {\"alignmentgroup\": \"True\", \"hovertemplate\": \"Country=%{x}<br>Happiness Score=%{text}<extra></extra>\", \"legendgroup\": \"Iceland\", \"marker\": {\"color\": \"#ab63fa\"}, \"name\": \"Iceland\", \"offsetgroup\": \"Iceland\", \"orientation\": \"v\", \"showlegend\": true, \"text\": [7.495], \"textposition\": \"outside\", \"texttemplate\": \"%{text:.2s}\", \"type\": \"bar\", \"x\": [\"Iceland\"], \"xaxis\": \"x\", \"y\": [7.495], \"yaxis\": \"y\"}, {\"alignmentgroup\": \"True\", \"hovertemplate\": \"Country=%{x}<br>Happiness Score=%{text}<extra></extra>\", \"legendgroup\": \"Switzerland\", \"marker\": {\"color\": \"#FFA15A\"}, \"name\": \"Switzerland\", \"offsetgroup\": \"Switzerland\", \"orientation\": \"v\", \"showlegend\": true, \"text\": [7.487], \"textposition\": \"outside\", \"texttemplate\": \"%{text:.2s}\", \"type\": \"bar\", \"x\": [\"Switzerland\"], \"xaxis\": \"x\", \"y\": [7.487], \"yaxis\": \"y\"}, {\"alignmentgroup\": \"True\", \"hovertemplate\": \"Country=%{x}<br>Happiness Score=%{text}<extra></extra>\", \"legendgroup\": \"Netherlands\", \"marker\": {\"color\": \"#19d3f3\"}, \"name\": \"Netherlands\", \"offsetgroup\": \"Netherlands\", \"orientation\": \"v\", \"showlegend\": true, \"text\": [7.441], \"textposition\": \"outside\", \"texttemplate\": \"%{text:.2s}\", \"type\": \"bar\", \"x\": [\"Netherlands\"], \"xaxis\": \"x\", \"y\": [7.441], \"yaxis\": \"y\"}, {\"alignmentgroup\": \"True\", \"hovertemplate\": \"Country=%{x}<br>Happiness Score=%{text}<extra></extra>\", \"legendgroup\": \"Canada\", \"marker\": {\"color\": \"#FF6692\"}, \"name\": \"Canada\", \"offsetgroup\": \"Canada\", \"orientation\": \"v\", \"showlegend\": true, \"text\": [7.328], \"textposition\": \"outside\", \"texttemplate\": \"%{text:.2s}\", \"type\": \"bar\", \"x\": [\"Canada\"], \"xaxis\": \"x\", \"y\": [7.328], \"yaxis\": \"y\"}, {\"alignmentgroup\": \"True\", \"hovertemplate\": \"Country=%{x}<br>Happiness Score=%{text}<extra></extra>\", \"legendgroup\": \"New Zealand\", \"marker\": {\"color\": \"#B6E880\"}, \"name\": \"New Zealand\", \"offsetgroup\": \"New Zealand\", \"orientation\": \"v\", \"showlegend\": true, \"text\": [7.324], \"textposition\": \"outside\", \"texttemplate\": \"%{text:.2s}\", \"type\": \"bar\", \"x\": [\"New Zealand\"], \"xaxis\": \"x\", \"y\": [7.324], \"yaxis\": \"y\"}, {\"alignmentgroup\": \"True\", \"hovertemplate\": \"Country=%{x}<br>Happiness Score=%{text}<extra></extra>\", \"legendgroup\": \"Sweden\", \"marker\": {\"color\": \"#FF97FF\"}, \"name\": \"Sweden\", \"offsetgroup\": \"Sweden\", \"orientation\": \"v\", \"showlegend\": true, \"text\": [7.314], \"textposition\": \"outside\", \"texttemplate\": \"%{text:.2s}\", \"type\": \"bar\", \"x\": [\"Sweden\"], \"xaxis\": \"x\", \"y\": [7.314], \"yaxis\": \"y\"}, {\"alignmentgroup\": \"True\", \"hovertemplate\": \"Country=%{x}<br>Happiness Score=%{text}<extra></extra>\", \"legendgroup\": \"Australia\", \"marker\": {\"color\": \"#FECB52\"}, \"name\": \"Australia\", \"offsetgroup\": \"Australia\", \"orientation\": \"v\", \"showlegend\": true, \"text\": [7.272], \"textposition\": \"outside\", \"texttemplate\": \"%{text:.2s}\", \"type\": \"bar\", \"x\": [\"Australia\"], \"xaxis\": \"x\", \"y\": [7.272], \"yaxis\": \"y\"}, {\"alignmentgroup\": \"True\", \"hovertemplate\": \"Country=%{x}<br>Happiness Score=%{text}<extra></extra>\", \"legendgroup\": \"United Kingdom\", \"marker\": {\"color\": \"#636efa\"}, \"name\": \"United Kingdom\", \"offsetgroup\": \"United Kingdom\", \"orientation\": \"v\", \"showlegend\": true, \"text\": [7.191], \"textposition\": \"outside\", \"texttemplate\": \"%{text:.2s}\", \"type\": \"bar\", \"x\": [\"United Kingdom\"], \"xaxis\": \"x\", \"y\": [7.191], \"yaxis\": \"y\"}, {\"alignmentgroup\": \"True\", \"hovertemplate\": \"Country=%{x}<br>Happiness Score=%{text}<extra></extra>\", \"legendgroup\": \"Austria\", \"marker\": {\"color\": \"#EF553B\"}, \"name\": \"Austria\", \"offsetgroup\": \"Austria\", \"orientation\": \"v\", \"showlegend\": true, \"text\": [7.139], \"textposition\": \"outside\", \"texttemplate\": \"%{text:.2s}\", \"type\": \"bar\", \"x\": [\"Austria\"], \"xaxis\": \"x\", \"y\": [7.139], \"yaxis\": \"y\"}, {\"alignmentgroup\": \"True\", \"hovertemplate\": \"Country=%{x}<br>Happiness Score=%{text}<extra></extra>\", \"legendgroup\": \"Costa Rica\", \"marker\": {\"color\": \"#00cc96\"}, \"name\": \"Costa Rica\", \"offsetgroup\": \"Costa Rica\", \"orientation\": \"v\", \"showlegend\": true, \"text\": [7.072], \"textposition\": \"outside\", \"texttemplate\": \"%{text:.2s}\", \"type\": \"bar\", \"x\": [\"Costa Rica\"], \"xaxis\": \"x\", \"y\": [7.072], \"yaxis\": \"y\"}, {\"alignmentgroup\": \"True\", \"hovertemplate\": \"Country=%{x}<br>Happiness Score=%{text}<extra></extra>\", \"legendgroup\": \"Ireland\", \"marker\": {\"color\": \"#ab63fa\"}, \"name\": \"Ireland\", \"offsetgroup\": \"Ireland\", \"orientation\": \"v\", \"showlegend\": true, \"text\": [6.977], \"textposition\": \"outside\", \"texttemplate\": \"%{text:.2s}\", \"type\": \"bar\", \"x\": [\"Ireland\"], \"xaxis\": \"x\", \"y\": [6.977], \"yaxis\": \"y\"}, {\"alignmentgroup\": \"True\", \"hovertemplate\": \"Country=%{x}<br>Happiness Score=%{text}<extra></extra>\", \"legendgroup\": \"Germany\", \"marker\": {\"color\": \"#FFA15A\"}, \"name\": \"Germany\", \"offsetgroup\": \"Germany\", \"orientation\": \"v\", \"showlegend\": true, \"text\": [6.965], \"textposition\": \"outside\", \"texttemplate\": \"%{text:.2s}\", \"type\": \"bar\", \"x\": [\"Germany\"], \"xaxis\": \"x\", \"y\": [6.965], \"yaxis\": \"y\"}, {\"alignmentgroup\": \"True\", \"hovertemplate\": \"Country=%{x}<br>Happiness Score=%{text}<extra></extra>\", \"legendgroup\": \"Belgium\", \"marker\": {\"color\": \"#19d3f3\"}, \"name\": \"Belgium\", \"offsetgroup\": \"Belgium\", \"orientation\": \"v\", \"showlegend\": true, \"text\": [6.927], \"textposition\": \"outside\", \"texttemplate\": \"%{text:.2s}\", \"type\": \"bar\", \"x\": [\"Belgium\"], \"xaxis\": \"x\", \"y\": [6.927], \"yaxis\": \"y\"}, {\"alignmentgroup\": \"True\", \"hovertemplate\": \"Country=%{x}<br>Happiness Score=%{text}<extra></extra>\", \"legendgroup\": \"Luxembourg\", \"marker\": {\"color\": \"#FF6692\"}, \"name\": \"Luxembourg\", \"offsetgroup\": \"Luxembourg\", \"orientation\": \"v\", \"showlegend\": true, \"text\": [6.911], \"textposition\": \"outside\", \"texttemplate\": \"%{text:.2s}\", \"type\": \"bar\", \"x\": [\"Luxembourg\"], \"xaxis\": \"x\", \"y\": [6.911], \"yaxis\": \"y\"}, {\"alignmentgroup\": \"True\", \"hovertemplate\": \"Country=%{x}<br>Happiness Score=%{text}<extra></extra>\", \"legendgroup\": \"United States\", \"marker\": {\"color\": \"#B6E880\"}, \"name\": \"United States\", \"offsetgroup\": \"United States\", \"orientation\": \"v\", \"showlegend\": true, \"text\": [6.886], \"textposition\": \"outside\", \"texttemplate\": \"%{text:.2s}\", \"type\": \"bar\", \"x\": [\"United States\"], \"xaxis\": \"x\", \"y\": [6.886], \"yaxis\": \"y\"}, {\"alignmentgroup\": \"True\", \"hovertemplate\": \"Country=%{x}<br>Happiness Score=%{text}<extra></extra>\", \"legendgroup\": \"Israel\", \"marker\": {\"color\": \"#FF97FF\"}, \"name\": \"Israel\", \"offsetgroup\": \"Israel\", \"orientation\": \"v\", \"showlegend\": true, \"text\": [6.814], \"textposition\": \"outside\", \"texttemplate\": \"%{text:.2s}\", \"type\": \"bar\", \"x\": [\"Israel\"], \"xaxis\": \"x\", \"y\": [6.814], \"yaxis\": \"y\"}, {\"alignmentgroup\": \"True\", \"hovertemplate\": \"Country=%{x}<br>Happiness Score=%{text}<extra></extra>\", \"legendgroup\": \"United Arab Emirates\", \"marker\": {\"color\": \"#FECB52\"}, \"name\": \"United Arab Emirates\", \"offsetgroup\": \"United Arab Emirates\", \"orientation\": \"v\", \"showlegend\": true, \"text\": [6.774], \"textposition\": \"outside\", \"texttemplate\": \"%{text:.2s}\", \"type\": \"bar\", \"x\": [\"United Arab Emirates\"], \"xaxis\": \"x\", \"y\": [6.774], \"yaxis\": \"y\"}, {\"alignmentgroup\": \"True\", \"hovertemplate\": \"Country=%{x}<br>Happiness Score=%{text}<extra></extra>\", \"legendgroup\": \"Czech Republic\", \"marker\": {\"color\": \"#636efa\"}, \"name\": \"Czech Republic\", \"offsetgroup\": \"Czech Republic\", \"orientation\": \"v\", \"showlegend\": true, \"text\": [6.711], \"textposition\": \"outside\", \"texttemplate\": \"%{text:.2s}\", \"type\": \"bar\", \"x\": [\"Czech Republic\"], \"xaxis\": \"x\", \"y\": [6.711], \"yaxis\": \"y\"}, {\"alignmentgroup\": \"True\", \"hovertemplate\": \"Country=%{x}<br>Happiness Score=%{text}<extra></extra>\", \"legendgroup\": \"Malta\", \"marker\": {\"color\": \"#EF553B\"}, \"name\": \"Malta\", \"offsetgroup\": \"Malta\", \"orientation\": \"v\", \"showlegend\": true, \"text\": [6.627], \"textposition\": \"outside\", \"texttemplate\": \"%{text:.2s}\", \"type\": \"bar\", \"x\": [\"Malta\"], \"xaxis\": \"x\", \"y\": [6.627], \"yaxis\": \"y\"}, {\"alignmentgroup\": \"True\", \"hovertemplate\": \"Country=%{x}<br>Happiness Score=%{text}<extra></extra>\", \"legendgroup\": \"France\", \"marker\": {\"color\": \"#00cc96\"}, \"name\": \"France\", \"offsetgroup\": \"France\", \"orientation\": \"v\", \"showlegend\": true, \"text\": [6.489], \"textposition\": \"outside\", \"texttemplate\": \"%{text:.2s}\", \"type\": \"bar\", \"x\": [\"France\"], \"xaxis\": \"x\", \"y\": [6.489], \"yaxis\": \"y\"}, {\"alignmentgroup\": \"True\", \"hovertemplate\": \"Country=%{x}<br>Happiness Score=%{text}<extra></extra>\", \"legendgroup\": \"Mexico\", \"marker\": {\"color\": \"#ab63fa\"}, \"name\": \"Mexico\", \"offsetgroup\": \"Mexico\", \"orientation\": \"v\", \"showlegend\": true, \"text\": [6.488], \"textposition\": \"outside\", \"texttemplate\": \"%{text:.2s}\", \"type\": \"bar\", \"x\": [\"Mexico\"], \"xaxis\": \"x\", \"y\": [6.488], \"yaxis\": \"y\"}, {\"alignmentgroup\": \"True\", \"hovertemplate\": \"Country=%{x}<br>Happiness Score=%{text}<extra></extra>\", \"legendgroup\": \"Chile\", \"marker\": {\"color\": \"#FFA15A\"}, \"name\": \"Chile\", \"offsetgroup\": \"Chile\", \"orientation\": \"v\", \"showlegend\": true, \"text\": [6.476], \"textposition\": \"outside\", \"texttemplate\": \"%{text:.2s}\", \"type\": \"bar\", \"x\": [\"Chile\"], \"xaxis\": \"x\", \"y\": [6.476], \"yaxis\": \"y\"}, {\"alignmentgroup\": \"True\", \"hovertemplate\": \"Country=%{x}<br>Happiness Score=%{text}<extra></extra>\", \"legendgroup\": \"Taiwan\", \"marker\": {\"color\": \"#19d3f3\"}, \"name\": \"Taiwan\", \"offsetgroup\": \"Taiwan\", \"orientation\": \"v\", \"showlegend\": true, \"text\": [6.441], \"textposition\": \"outside\", \"texttemplate\": \"%{text:.2s}\", \"type\": \"bar\", \"x\": [\"Taiwan\"], \"xaxis\": \"x\", \"y\": [6.441], \"yaxis\": \"y\"}, {\"alignmentgroup\": \"True\", \"hovertemplate\": \"Country=%{x}<br>Happiness Score=%{text}<extra></extra>\", \"legendgroup\": \"Panama\", \"marker\": {\"color\": \"#FF6692\"}, \"name\": \"Panama\", \"offsetgroup\": \"Panama\", \"orientation\": \"v\", \"showlegend\": true, \"text\": [6.431], \"textposition\": \"outside\", \"texttemplate\": \"%{text:.2s}\", \"type\": \"bar\", \"x\": [\"Panama\"], \"xaxis\": \"x\", \"y\": [6.431], \"yaxis\": \"y\"}, {\"alignmentgroup\": \"True\", \"hovertemplate\": \"Country=%{x}<br>Happiness Score=%{text}<extra></extra>\", \"legendgroup\": \"Brazil\", \"marker\": {\"color\": \"#B6E880\"}, \"name\": \"Brazil\", \"offsetgroup\": \"Brazil\", \"orientation\": \"v\", \"showlegend\": true, \"text\": [6.419], \"textposition\": \"outside\", \"texttemplate\": \"%{text:.2s}\", \"type\": \"bar\", \"x\": [\"Brazil\"], \"xaxis\": \"x\", \"y\": [6.419], \"yaxis\": \"y\"}, {\"alignmentgroup\": \"True\", \"hovertemplate\": \"Country=%{x}<br>Happiness Score=%{text}<extra></extra>\", \"legendgroup\": \"Argentina\", \"marker\": {\"color\": \"#FF97FF\"}, \"name\": \"Argentina\", \"offsetgroup\": \"Argentina\", \"orientation\": \"v\", \"showlegend\": true, \"text\": [6.388], \"textposition\": \"outside\", \"texttemplate\": \"%{text:.2s}\", \"type\": \"bar\", \"x\": [\"Argentina\"], \"xaxis\": \"x\", \"y\": [6.388], \"yaxis\": \"y\"}, {\"alignmentgroup\": \"True\", \"hovertemplate\": \"Country=%{x}<br>Happiness Score=%{text}<extra></extra>\", \"legendgroup\": \"Guatemala\", \"marker\": {\"color\": \"#FECB52\"}, \"name\": \"Guatemala\", \"offsetgroup\": \"Guatemala\", \"orientation\": \"v\", \"showlegend\": true, \"text\": [6.382], \"textposition\": \"outside\", \"texttemplate\": \"%{text:.2s}\", \"type\": \"bar\", \"x\": [\"Guatemala\"], \"xaxis\": \"x\", \"y\": [6.382], \"yaxis\": \"y\"}, {\"alignmentgroup\": \"True\", \"hovertemplate\": \"Country=%{x}<br>Happiness Score=%{text}<extra></extra>\", \"legendgroup\": \"Uruguay\", \"marker\": {\"color\": \"#636efa\"}, \"name\": \"Uruguay\", \"offsetgroup\": \"Uruguay\", \"orientation\": \"v\", \"showlegend\": true, \"text\": [6.379], \"textposition\": \"outside\", \"texttemplate\": \"%{text:.2s}\", \"type\": \"bar\", \"x\": [\"Uruguay\"], \"xaxis\": \"x\", \"y\": [6.379], \"yaxis\": \"y\"}, {\"alignmentgroup\": \"True\", \"hovertemplate\": \"Country=%{x}<br>Happiness Score=%{text}<extra></extra>\", \"legendgroup\": \"Qatar\", \"marker\": {\"color\": \"#EF553B\"}, \"name\": \"Qatar\", \"offsetgroup\": \"Qatar\", \"orientation\": \"v\", \"showlegend\": true, \"text\": [6.374], \"textposition\": \"outside\", \"texttemplate\": \"%{text:.2s}\", \"type\": \"bar\", \"x\": [\"Qatar\"], \"xaxis\": \"x\", \"y\": [6.374], \"yaxis\": \"y\"}, {\"alignmentgroup\": \"True\", \"hovertemplate\": \"Country=%{x}<br>Happiness Score=%{text}<extra></extra>\", \"legendgroup\": \"Saudi Arabia\", \"marker\": {\"color\": \"#00cc96\"}, \"name\": \"Saudi Arabia\", \"offsetgroup\": \"Saudi Arabia\", \"orientation\": \"v\", \"showlegend\": true, \"text\": [6.371], \"textposition\": \"outside\", \"texttemplate\": \"%{text:.2s}\", \"type\": \"bar\", \"x\": [\"Saudi Arabia\"], \"xaxis\": \"x\", \"y\": [6.371], \"yaxis\": \"y\"}, {\"alignmentgroup\": \"True\", \"hovertemplate\": \"Country=%{x}<br>Happiness Score=%{text}<extra></extra>\", \"legendgroup\": \"Singapore\", \"marker\": {\"color\": \"#ab63fa\"}, \"name\": \"Singapore\", \"offsetgroup\": \"Singapore\", \"orientation\": \"v\", \"showlegend\": true, \"text\": [6.343], \"textposition\": \"outside\", \"texttemplate\": \"%{text:.2s}\", \"type\": \"bar\", \"x\": [\"Singapore\"], \"xaxis\": \"x\", \"y\": [6.343], \"yaxis\": \"y\"}, {\"alignmentgroup\": \"True\", \"hovertemplate\": \"Country=%{x}<br>Happiness Score=%{text}<extra></extra>\", \"legendgroup\": \"Malaysia\", \"marker\": {\"color\": \"#FFA15A\"}, \"name\": \"Malaysia\", \"offsetgroup\": \"Malaysia\", \"orientation\": \"v\", \"showlegend\": true, \"text\": [6.322], \"textposition\": \"outside\", \"texttemplate\": \"%{text:.2s}\", \"type\": \"bar\", \"x\": [\"Malaysia\"], \"xaxis\": \"x\", \"y\": [6.322], \"yaxis\": \"y\"}, {\"alignmentgroup\": \"True\", \"hovertemplate\": \"Country=%{x}<br>Happiness Score=%{text}<extra></extra>\", \"legendgroup\": \"Spain\", \"marker\": {\"color\": \"#19d3f3\"}, \"name\": \"Spain\", \"offsetgroup\": \"Spain\", \"orientation\": \"v\", \"showlegend\": true, \"text\": [6.311], \"textposition\": \"outside\", \"texttemplate\": \"%{text:.2s}\", \"type\": \"bar\", \"x\": [\"Spain\"], \"xaxis\": \"x\", \"y\": [6.311], \"yaxis\": \"y\"}, {\"alignmentgroup\": \"True\", \"hovertemplate\": \"Country=%{x}<br>Happiness Score=%{text}<extra></extra>\", \"legendgroup\": \"Colombia\", \"marker\": {\"color\": \"#FF6692\"}, \"name\": \"Colombia\", \"offsetgroup\": \"Colombia\", \"orientation\": \"v\", \"showlegend\": true, \"text\": [6.261], \"textposition\": \"outside\", \"texttemplate\": \"%{text:.2s}\", \"type\": \"bar\", \"x\": [\"Colombia\"], \"xaxis\": \"x\", \"y\": [6.261], \"yaxis\": \"y\"}, {\"alignmentgroup\": \"True\", \"hovertemplate\": \"Country=%{x}<br>Happiness Score=%{text}<extra></extra>\", \"legendgroup\": \"Trinidad & Tobago\", \"marker\": {\"color\": \"#B6E880\"}, \"name\": \"Trinidad & Tobago\", \"offsetgroup\": \"Trinidad & Tobago\", \"orientation\": \"v\", \"showlegend\": true, \"text\": [6.192], \"textposition\": \"outside\", \"texttemplate\": \"%{text:.2s}\", \"type\": \"bar\", \"x\": [\"Trinidad & Tobago\"], \"xaxis\": \"x\", \"y\": [6.192], \"yaxis\": \"y\"}, {\"alignmentgroup\": \"True\", \"hovertemplate\": \"Country=%{x}<br>Happiness Score=%{text}<extra></extra>\", \"legendgroup\": \"Slovakia\", \"marker\": {\"color\": \"#FF97FF\"}, \"name\": \"Slovakia\", \"offsetgroup\": \"Slovakia\", \"orientation\": \"v\", \"showlegend\": true, \"text\": [6.173], \"textposition\": \"outside\", \"texttemplate\": \"%{text:.2s}\", \"type\": \"bar\", \"x\": [\"Slovakia\"], \"xaxis\": \"x\", \"y\": [6.173], \"yaxis\": \"y\"}, {\"alignmentgroup\": \"True\", \"hovertemplate\": \"Country=%{x}<br>Happiness Score=%{text}<extra></extra>\", \"legendgroup\": \"El Salvador\", \"marker\": {\"color\": \"#FECB52\"}, \"name\": \"El Salvador\", \"offsetgroup\": \"El Salvador\", \"orientation\": \"v\", \"showlegend\": true, \"text\": [6.167], \"textposition\": \"outside\", \"texttemplate\": \"%{text:.2s}\", \"type\": \"bar\", \"x\": [\"El Salvador\"], \"xaxis\": \"x\", \"y\": [6.167], \"yaxis\": \"y\"}, {\"alignmentgroup\": \"True\", \"hovertemplate\": \"Country=%{x}<br>Happiness Score=%{text}<extra></extra>\", \"legendgroup\": \"Nicaragua\", \"marker\": {\"color\": \"#636efa\"}, \"name\": \"Nicaragua\", \"offsetgroup\": \"Nicaragua\", \"orientation\": \"v\", \"showlegend\": true, \"text\": [6.141], \"textposition\": \"outside\", \"texttemplate\": \"%{text:.2s}\", \"type\": \"bar\", \"x\": [\"Nicaragua\"], \"xaxis\": \"x\", \"y\": [6.141], \"yaxis\": \"y\"}, {\"alignmentgroup\": \"True\", \"hovertemplate\": \"Country=%{x}<br>Happiness Score=%{text}<extra></extra>\", \"legendgroup\": \"Poland\", \"marker\": {\"color\": \"#EF553B\"}, \"name\": \"Poland\", \"offsetgroup\": \"Poland\", \"orientation\": \"v\", \"showlegend\": true, \"text\": [6.123], \"textposition\": \"outside\", \"texttemplate\": \"%{text:.2s}\", \"type\": \"bar\", \"x\": [\"Poland\"], \"xaxis\": \"x\", \"y\": [6.123], \"yaxis\": \"y\"}, {\"alignmentgroup\": \"True\", \"hovertemplate\": \"Country=%{x}<br>Happiness Score=%{text}<extra></extra>\", \"legendgroup\": \"Bahrain\", \"marker\": {\"color\": \"#00cc96\"}, \"name\": \"Bahrain\", \"offsetgroup\": \"Bahrain\", \"orientation\": \"v\", \"showlegend\": true, \"text\": [6.105], \"textposition\": \"outside\", \"texttemplate\": \"%{text:.2s}\", \"type\": \"bar\", \"x\": [\"Bahrain\"], \"xaxis\": \"x\", \"y\": [6.105], \"yaxis\": \"y\"}, {\"alignmentgroup\": \"True\", \"hovertemplate\": \"Country=%{x}<br>Happiness Score=%{text}<extra></extra>\", \"legendgroup\": \"Uzbekistan\", \"marker\": {\"color\": \"#ab63fa\"}, \"name\": \"Uzbekistan\", \"offsetgroup\": \"Uzbekistan\", \"orientation\": \"v\", \"showlegend\": true, \"text\": [6.096], \"textposition\": \"outside\", \"texttemplate\": \"%{text:.2s}\", \"type\": \"bar\", \"x\": [\"Uzbekistan\"], \"xaxis\": \"x\", \"y\": [6.096], \"yaxis\": \"y\"}, {\"alignmentgroup\": \"True\", \"hovertemplate\": \"Country=%{x}<br>Happiness Score=%{text}<extra></extra>\", \"legendgroup\": \"Kuwait\", \"marker\": {\"color\": \"#FFA15A\"}, \"name\": \"Kuwait\", \"offsetgroup\": \"Kuwait\", \"orientation\": \"v\", \"showlegend\": true, \"text\": [6.083], \"textposition\": \"outside\", \"texttemplate\": \"%{text:.2s}\", \"type\": \"bar\", \"x\": [\"Kuwait\"], \"xaxis\": \"x\", \"y\": [6.083], \"yaxis\": \"y\"}, {\"alignmentgroup\": \"True\", \"hovertemplate\": \"Country=%{x}<br>Happiness Score=%{text}<extra></extra>\", \"legendgroup\": \"Thailand\", \"marker\": {\"color\": \"#19d3f3\"}, \"name\": \"Thailand\", \"offsetgroup\": \"Thailand\", \"orientation\": \"v\", \"showlegend\": true, \"text\": [6.072], \"textposition\": \"outside\", \"texttemplate\": \"%{text:.2s}\", \"type\": \"bar\", \"x\": [\"Thailand\"], \"xaxis\": \"x\", \"y\": [6.072], \"yaxis\": \"y\"}, {\"alignmentgroup\": \"True\", \"hovertemplate\": \"Country=%{x}<br>Happiness Score=%{text}<extra></extra>\", \"legendgroup\": \"Italy\", \"marker\": {\"color\": \"#FF6692\"}, \"name\": \"Italy\", \"offsetgroup\": \"Italy\", \"orientation\": \"v\", \"showlegend\": true, \"text\": [6.011], \"textposition\": \"outside\", \"texttemplate\": \"%{text:.2s}\", \"type\": \"bar\", \"x\": [\"Italy\"], \"xaxis\": \"x\", \"y\": [6.011], \"yaxis\": \"y\"}, {\"alignmentgroup\": \"True\", \"hovertemplate\": \"Country=%{x}<br>Happiness Score=%{text}<extra></extra>\", \"legendgroup\": \"Ecuador\", \"marker\": {\"color\": \"#B6E880\"}, \"name\": \"Ecuador\", \"offsetgroup\": \"Ecuador\", \"orientation\": \"v\", \"showlegend\": true, \"text\": [5.973], \"textposition\": \"outside\", \"texttemplate\": \"%{text:.2s}\", \"type\": \"bar\", \"x\": [\"Ecuador\"], \"xaxis\": \"x\", \"y\": [5.973], \"yaxis\": \"y\"}, {\"alignmentgroup\": \"True\", \"hovertemplate\": \"Country=%{x}<br>Happiness Score=%{text}<extra></extra>\", \"legendgroup\": \"Belize\", \"marker\": {\"color\": \"#FF97FF\"}, \"name\": \"Belize\", \"offsetgroup\": \"Belize\", \"orientation\": \"v\", \"showlegend\": true, \"text\": [5.956], \"textposition\": \"outside\", \"texttemplate\": \"%{text:.2s}\", \"type\": \"bar\", \"x\": [\"Belize\"], \"xaxis\": \"x\", \"y\": [5.956], \"yaxis\": \"y\"}, {\"alignmentgroup\": \"True\", \"hovertemplate\": \"Country=%{x}<br>Happiness Score=%{text}<extra></extra>\", \"legendgroup\": \"Lithuania\", \"marker\": {\"color\": \"#FECB52\"}, \"name\": \"Lithuania\", \"offsetgroup\": \"Lithuania\", \"orientation\": \"v\", \"showlegend\": true, \"text\": [5.952], \"textposition\": \"outside\", \"texttemplate\": \"%{text:.2s}\", \"type\": \"bar\", \"x\": [\"Lithuania\"], \"xaxis\": \"x\", \"y\": [5.952], \"yaxis\": \"y\"}],                        {\"barmode\": \"relative\", \"legend\": {\"title\": {\"text\": \"Country\"}, \"tracegroupgap\": 0}, \"margin\": {\"t\": 60}, \"template\": {\"data\": {\"bar\": [{\"error_x\": {\"color\": \"#2a3f5f\"}, \"error_y\": {\"color\": \"#2a3f5f\"}, \"marker\": {\"line\": {\"color\": \"#E5ECF6\", \"width\": 0.5}}, \"type\": \"bar\"}], \"barpolar\": [{\"marker\": {\"line\": {\"color\": \"#E5ECF6\", \"width\": 0.5}}, \"type\": \"barpolar\"}], \"carpet\": [{\"aaxis\": {\"endlinecolor\": \"#2a3f5f\", \"gridcolor\": \"white\", \"linecolor\": \"white\", \"minorgridcolor\": \"white\", \"startlinecolor\": \"#2a3f5f\"}, \"baxis\": {\"endlinecolor\": \"#2a3f5f\", \"gridcolor\": \"white\", \"linecolor\": \"white\", \"minorgridcolor\": \"white\", \"startlinecolor\": \"#2a3f5f\"}, \"type\": \"carpet\"}], \"choropleth\": [{\"colorbar\": {\"outlinewidth\": 0, \"ticks\": \"\"}, \"type\": \"choropleth\"}], \"contour\": [{\"colorbar\": {\"outlinewidth\": 0, \"ticks\": \"\"}, \"colorscale\": [[0.0, \"#0d0887\"], [0.1111111111111111, \"#46039f\"], [0.2222222222222222, \"#7201a8\"], [0.3333333333333333, \"#9c179e\"], [0.4444444444444444, \"#bd3786\"], [0.5555555555555556, \"#d8576b\"], [0.6666666666666666, \"#ed7953\"], [0.7777777777777778, \"#fb9f3a\"], [0.8888888888888888, \"#fdca26\"], [1.0, \"#f0f921\"]], \"type\": \"contour\"}], \"contourcarpet\": [{\"colorbar\": {\"outlinewidth\": 0, \"ticks\": \"\"}, \"type\": \"contourcarpet\"}], \"heatmap\": [{\"colorbar\": {\"outlinewidth\": 0, \"ticks\": \"\"}, \"colorscale\": [[0.0, \"#0d0887\"], [0.1111111111111111, \"#46039f\"], [0.2222222222222222, \"#7201a8\"], [0.3333333333333333, \"#9c179e\"], [0.4444444444444444, \"#bd3786\"], [0.5555555555555556, \"#d8576b\"], [0.6666666666666666, \"#ed7953\"], [0.7777777777777778, \"#fb9f3a\"], [0.8888888888888888, \"#fdca26\"], [1.0, \"#f0f921\"]], \"type\": \"heatmap\"}], \"heatmapgl\": [{\"colorbar\": {\"outlinewidth\": 0, \"ticks\": \"\"}, \"colorscale\": [[0.0, \"#0d0887\"], [0.1111111111111111, \"#46039f\"], [0.2222222222222222, \"#7201a8\"], [0.3333333333333333, \"#9c179e\"], [0.4444444444444444, \"#bd3786\"], [0.5555555555555556, \"#d8576b\"], [0.6666666666666666, \"#ed7953\"], [0.7777777777777778, \"#fb9f3a\"], [0.8888888888888888, \"#fdca26\"], [1.0, \"#f0f921\"]], \"type\": \"heatmapgl\"}], \"histogram\": [{\"marker\": {\"colorbar\": {\"outlinewidth\": 0, \"ticks\": \"\"}}, \"type\": \"histogram\"}], \"histogram2d\": [{\"colorbar\": {\"outlinewidth\": 0, \"ticks\": \"\"}, \"colorscale\": [[0.0, \"#0d0887\"], [0.1111111111111111, \"#46039f\"], [0.2222222222222222, \"#7201a8\"], [0.3333333333333333, \"#9c179e\"], [0.4444444444444444, \"#bd3786\"], [0.5555555555555556, \"#d8576b\"], [0.6666666666666666, \"#ed7953\"], [0.7777777777777778, \"#fb9f3a\"], [0.8888888888888888, \"#fdca26\"], [1.0, \"#f0f921\"]], \"type\": \"histogram2d\"}], \"histogram2dcontour\": [{\"colorbar\": {\"outlinewidth\": 0, \"ticks\": \"\"}, \"colorscale\": [[0.0, \"#0d0887\"], [0.1111111111111111, \"#46039f\"], [0.2222222222222222, \"#7201a8\"], [0.3333333333333333, \"#9c179e\"], [0.4444444444444444, \"#bd3786\"], [0.5555555555555556, \"#d8576b\"], [0.6666666666666666, \"#ed7953\"], [0.7777777777777778, \"#fb9f3a\"], [0.8888888888888888, \"#fdca26\"], [1.0, \"#f0f921\"]], \"type\": \"histogram2dcontour\"}], \"mesh3d\": [{\"colorbar\": {\"outlinewidth\": 0, \"ticks\": \"\"}, \"type\": \"mesh3d\"}], \"parcoords\": [{\"line\": {\"colorbar\": {\"outlinewidth\": 0, \"ticks\": \"\"}}, \"type\": \"parcoords\"}], \"pie\": [{\"automargin\": true, \"type\": \"pie\"}], \"scatter\": [{\"marker\": {\"colorbar\": {\"outlinewidth\": 0, \"ticks\": \"\"}}, \"type\": \"scatter\"}], \"scatter3d\": [{\"line\": {\"colorbar\": {\"outlinewidth\": 0, \"ticks\": \"\"}}, \"marker\": {\"colorbar\": {\"outlinewidth\": 0, \"ticks\": \"\"}}, \"type\": \"scatter3d\"}], \"scattercarpet\": [{\"marker\": {\"colorbar\": {\"outlinewidth\": 0, \"ticks\": \"\"}}, \"type\": \"scattercarpet\"}], \"scattergeo\": [{\"marker\": {\"colorbar\": {\"outlinewidth\": 0, \"ticks\": \"\"}}, \"type\": \"scattergeo\"}], \"scattergl\": [{\"marker\": {\"colorbar\": {\"outlinewidth\": 0, \"ticks\": \"\"}}, \"type\": \"scattergl\"}], \"scattermapbox\": [{\"marker\": {\"colorbar\": {\"outlinewidth\": 0, \"ticks\": \"\"}}, \"type\": \"scattermapbox\"}], \"scatterpolar\": [{\"marker\": {\"colorbar\": {\"outlinewidth\": 0, \"ticks\": \"\"}}, \"type\": \"scatterpolar\"}], \"scatterpolargl\": [{\"marker\": {\"colorbar\": {\"outlinewidth\": 0, \"ticks\": \"\"}}, \"type\": \"scatterpolargl\"}], \"scatterternary\": [{\"marker\": {\"colorbar\": {\"outlinewidth\": 0, \"ticks\": \"\"}}, \"type\": \"scatterternary\"}], \"surface\": [{\"colorbar\": {\"outlinewidth\": 0, \"ticks\": \"\"}, \"colorscale\": [[0.0, \"#0d0887\"], [0.1111111111111111, \"#46039f\"], [0.2222222222222222, \"#7201a8\"], [0.3333333333333333, \"#9c179e\"], [0.4444444444444444, \"#bd3786\"], [0.5555555555555556, \"#d8576b\"], [0.6666666666666666, \"#ed7953\"], [0.7777777777777778, \"#fb9f3a\"], [0.8888888888888888, \"#fdca26\"], [1.0, \"#f0f921\"]], \"type\": \"surface\"}], \"table\": [{\"cells\": {\"fill\": {\"color\": \"#EBF0F8\"}, \"line\": {\"color\": \"white\"}}, \"header\": {\"fill\": {\"color\": \"#C8D4E3\"}, \"line\": {\"color\": \"white\"}}, \"type\": \"table\"}]}, \"layout\": {\"annotationdefaults\": {\"arrowcolor\": \"#2a3f5f\", \"arrowhead\": 0, \"arrowwidth\": 1}, \"autotypenumbers\": \"strict\", \"coloraxis\": {\"colorbar\": {\"outlinewidth\": 0, \"ticks\": \"\"}}, \"colorscale\": {\"diverging\": [[0, \"#8e0152\"], [0.1, \"#c51b7d\"], [0.2, \"#de77ae\"], [0.3, \"#f1b6da\"], [0.4, \"#fde0ef\"], [0.5, \"#f7f7f7\"], [0.6, \"#e6f5d0\"], [0.7, \"#b8e186\"], [0.8, \"#7fbc41\"], [0.9, \"#4d9221\"], [1, \"#276419\"]], \"sequential\": [[0.0, \"#0d0887\"], [0.1111111111111111, \"#46039f\"], [0.2222222222222222, \"#7201a8\"], [0.3333333333333333, \"#9c179e\"], [0.4444444444444444, \"#bd3786\"], [0.5555555555555556, \"#d8576b\"], [0.6666666666666666, \"#ed7953\"], [0.7777777777777778, \"#fb9f3a\"], [0.8888888888888888, \"#fdca26\"], [1.0, \"#f0f921\"]], \"sequentialminus\": [[0.0, \"#0d0887\"], [0.1111111111111111, \"#46039f\"], [0.2222222222222222, \"#7201a8\"], [0.3333333333333333, \"#9c179e\"], [0.4444444444444444, \"#bd3786\"], [0.5555555555555556, \"#d8576b\"], [0.6666666666666666, \"#ed7953\"], [0.7777777777777778, \"#fb9f3a\"], [0.8888888888888888, \"#fdca26\"], [1.0, \"#f0f921\"]]}, \"colorway\": [\"#636efa\", \"#EF553B\", \"#00cc96\", \"#ab63fa\", \"#FFA15A\", \"#19d3f3\", \"#FF6692\", \"#B6E880\", \"#FF97FF\", \"#FECB52\"], \"font\": {\"color\": \"#2a3f5f\"}, \"geo\": {\"bgcolor\": \"white\", \"lakecolor\": \"white\", \"landcolor\": \"#E5ECF6\", \"showlakes\": true, \"showland\": true, \"subunitcolor\": \"white\"}, \"hoverlabel\": {\"align\": \"left\"}, \"hovermode\": \"closest\", \"mapbox\": {\"style\": \"light\"}, \"paper_bgcolor\": \"white\", \"plot_bgcolor\": \"#E5ECF6\", \"polar\": {\"angularaxis\": {\"gridcolor\": \"white\", \"linecolor\": \"white\", \"ticks\": \"\"}, \"bgcolor\": \"#E5ECF6\", \"radialaxis\": {\"gridcolor\": \"white\", \"linecolor\": \"white\", \"ticks\": \"\"}}, \"scene\": {\"xaxis\": {\"backgroundcolor\": \"#E5ECF6\", \"gridcolor\": \"white\", \"gridwidth\": 2, \"linecolor\": \"white\", \"showbackground\": true, \"ticks\": \"\", \"zerolinecolor\": \"white\"}, \"yaxis\": {\"backgroundcolor\": \"#E5ECF6\", \"gridcolor\": \"white\", \"gridwidth\": 2, \"linecolor\": \"white\", \"showbackground\": true, \"ticks\": \"\", \"zerolinecolor\": \"white\"}, \"zaxis\": {\"backgroundcolor\": \"#E5ECF6\", \"gridcolor\": \"white\", \"gridwidth\": 2, \"linecolor\": \"white\", \"showbackground\": true, \"ticks\": \"\", \"zerolinecolor\": \"white\"}}, \"shapedefaults\": {\"line\": {\"color\": \"#2a3f5f\"}}, \"ternary\": {\"aaxis\": {\"gridcolor\": \"white\", \"linecolor\": \"white\", \"ticks\": \"\"}, \"baxis\": {\"gridcolor\": \"white\", \"linecolor\": \"white\", \"ticks\": \"\"}, \"bgcolor\": \"#E5ECF6\", \"caxis\": {\"gridcolor\": \"white\", \"linecolor\": \"white\", \"ticks\": \"\"}}, \"title\": {\"x\": 0.05}, \"xaxis\": {\"automargin\": true, \"gridcolor\": \"white\", \"linecolor\": \"white\", \"ticks\": \"\", \"title\": {\"standoff\": 15}, \"zerolinecolor\": \"white\", \"zerolinewidth\": 2}, \"yaxis\": {\"automargin\": true, \"gridcolor\": \"white\", \"linecolor\": \"white\", \"ticks\": \"\", \"title\": {\"standoff\": 15}, \"zerolinecolor\": \"white\", \"zerolinewidth\": 2}}}, \"uniformtext\": {\"minsize\": 8}, \"xaxis\": {\"anchor\": \"y\", \"categoryarray\": [\"Finland\", \"Norway\", \"Denmark\", \"Iceland\", \"Switzerland\", \"Netherlands\", \"Canada\", \"New Zealand\", \"Sweden\", \"Australia\", \"United Kingdom\", \"Austria\", \"Costa Rica\", \"Ireland\", \"Germany\", \"Belgium\", \"Luxembourg\", \"United States\", \"Israel\", \"United Arab Emirates\", \"Czech Republic\", \"Malta\", \"France\", \"Mexico\", \"Chile\", \"Taiwan\", \"Panama\", \"Brazil\", \"Argentina\", \"Guatemala\", \"Uruguay\", \"Qatar\", \"Saudi Arabia\", \"Singapore\", \"Malaysia\", \"Spain\", \"Colombia\", \"Trinidad & Tobago\", \"Slovakia\", \"El Salvador\", \"Nicaragua\", \"Poland\", \"Bahrain\", \"Uzbekistan\", \"Kuwait\", \"Thailand\", \"Italy\", \"Ecuador\", \"Belize\", \"Lithuania\"], \"categoryorder\": \"array\", \"domain\": [0.0, 1.0], \"tickangle\": -45, \"title\": {\"text\": \"Country\"}}, \"yaxis\": {\"anchor\": \"x\", \"domain\": [0.0, 1.0], \"title\": {\"text\": \"Happiness Score\"}}},                        {\"responsive\": true}                    ).then(function(){\n",
       "                            \n",
       "var gd = document.getElementById('97892dac-2ba9-43ef-b34e-9a5f98d985d0');\n",
       "var x = new MutationObserver(function (mutations, observer) {{\n",
       "        var display = window.getComputedStyle(gd).display;\n",
       "        if (!display || display === 'none') {{\n",
       "            console.log([gd, 'removed!']);\n",
       "            Plotly.purge(gd);\n",
       "            observer.disconnect();\n",
       "        }}\n",
       "}});\n",
       "\n",
       "// Listen for the removal of the full notebook cells\n",
       "var notebookContainer = gd.closest('#notebook-container');\n",
       "if (notebookContainer) {{\n",
       "    x.observe(notebookContainer, {childList: true});\n",
       "}}\n",
       "\n",
       "// Listen for the clearing of the current output cell\n",
       "var outputEl = gd.closest('.output');\n",
       "if (outputEl) {{\n",
       "    x.observe(outputEl, {childList: true});\n",
       "}}\n",
       "\n",
       "                        })                };                });            </script>        </div>"
      ]
     },
     "metadata": {},
     "output_type": "display_data"
    }
   ],
   "source": [
    "fig1 = px.bar(data1.head(50), y=\"Happiness Score\", x= \"Country\", text=\"Happiness Score\", color=\"Country\")\n",
    "fig1.update_traces(texttemplate= \"%{text:.2s}\", textposition=\"outside\")\n",
    "#changing font sizes\n",
    "fig1.update_layout(uniformtext_minsize=8)\n",
    "#rotating bottom labels\n",
    "fig1.update_layout(xaxis_tickangle=-45)"
   ]
  },
  {
   "cell_type": "code",
   "execution_count": 12,
   "metadata": {
    "ExecuteTime": {
     "end_time": "2021-02-17T09:17:05.777474Z",
     "start_time": "2021-02-17T09:17:05.759232Z"
    },
    "collapsed": true
   },
   "outputs": [
    {
     "data": {
      "application/vnd.plotly.v1+json": {
       "config": {
        "plotlyServerURL": "https://plot.ly"
       },
       "data": [
        {
         "mode": "lines+markers",
         "name": "GDP",
         "type": "scatter",
         "x": [
          "Finland",
          "Norway",
          "Denmark",
          "Iceland",
          "Switzerland",
          "Netherlands",
          "Canada",
          "New Zealand",
          "Sweden",
          "Australia",
          "United Kingdom",
          "Austria",
          "Costa Rica",
          "Ireland",
          "Germany",
          "Belgium",
          "Luxembourg",
          "United States",
          "Israel",
          "United Arab Emirates",
          "Czech Republic",
          "Malta",
          "France",
          "Mexico",
          "Chile",
          "Taiwan",
          "Panama",
          "Brazil",
          "Argentina",
          "Guatemala",
          "Uruguay",
          "Qatar",
          "Saudi Arabia",
          "Singapore",
          "Malaysia",
          "Spain",
          "Colombia",
          "Trinidad & Tobago",
          "Slovakia",
          "El Salvador",
          "Nicaragua",
          "Poland",
          "Bahrain",
          "Uzbekistan",
          "Kuwait",
          "Thailand",
          "Italy",
          "Ecuador",
          "Belize",
          "Lithuania",
          "Slovenia",
          "Romania",
          "Latvia",
          "Japan",
          "Mauritius",
          "Jamaica",
          "South Korea",
          "Northern Cyprus",
          "Russia",
          "Kazakhstan",
          "Cyprus",
          "Bolivia",
          "Estonia",
          "Paraguay",
          "Peru",
          "Kosovo",
          "Moldova",
          "Turkmenistan",
          "Hungary",
          "Libya",
          "Philippines",
          "Honduras",
          "Belarus",
          "Turkey",
          "Pakistan",
          "Hong Kong",
          "Portugal",
          "Serbia",
          "Greece",
          "Lebanon",
          "Montenegro",
          "Croatia",
          "Dominican Republic",
          "Algeria",
          "Morocco",
          "China",
          "Azerbaijan",
          "Tajikistan",
          "Macedonia",
          "Jordan",
          "Nigeria",
          "Kyrgyzstan",
          "Bosnia and Herzegovina",
          "Mongolia",
          "Vietnam",
          "Indonesia",
          "Bhutan",
          "Somalia",
          "Cameroon",
          "Bulgaria",
          "Nepal",
          "Venezuela",
          "Gabon",
          "Palestinian Territories",
          "South Africa",
          "Iran",
          "Ivory Coast",
          "Ghana",
          "Senegal",
          "Laos",
          "Tunisia",
          "Albania",
          "Sierra Leone",
          "Congo (Brazzaville)",
          "Bangladesh",
          "Sri Lanka",
          "Iraq",
          "Mali",
          "Namibia",
          "Cambodia",
          "Burkina Faso",
          "Egypt",
          "Mozambique",
          "Kenya",
          "Zambia",
          "Mauritania",
          "Ethiopia",
          "Georgia",
          "Armenia",
          "Myanmar",
          "Chad",
          "Congo (Kinshasa)",
          "India",
          "Niger",
          "Uganda",
          "Benin",
          "Sudan",
          "Ukraine",
          "Togo",
          "Guinea",
          "Lesotho",
          "Angola",
          "Madagascar",
          "Zimbabwe",
          "Afghanistan",
          "Botswana",
          "Malawi",
          "Haiti",
          "Liberia",
          "Syria",
          "Rwanda",
          "Yemen",
          "Tanzania",
          "South Sudan",
          "Central African Republic",
          "Burundi"
         ],
         "y": [
          41899,
          65441,
          47673,
          48606,
          59019,
          49804,
          44051,
          36355,
          47194,
          45439,
          40158,
          46473,
          15685,
          70361,
          45959,
          43218,
          93734,
          55681,
          33661,
          66616,
          null,
          38147,
          39556,
          18102,
          22874,
          null,
          22674,
          14283,
          18282,
          7509,
          20916,
          112532,
          48996,
          90091,
          28176,
          35056,
          13333,
          null,
          31326,
          7393,
          4910,
          28752,
          41973,
          6240,
          65515,
          16905,
          35739,
          10412,
          7810,
          31065,
          32743,
          24544,
          26437,
          39294,
          21075,
          8266,
          null,
          null,
          null,
          24738,
          33048,
          null,
          30991,
          12063,
          12794,
          null,
          null,
          17129,
          28243,
          18406,
          7943,
          4560,
          17742,
          25287,
          4928,
          null,
          28687,
          16035,
          25141,
          11607,
          17278,
          23637,
          15821,
          13886,
          7509,
          16187,
          16011,
          3061,
          null,
          8309,
          5316,
          3447,
          12756,
          12209,
          null,
          11606,
          9348,
          null,
          3352,
          19321,
          2724,
          null,
          15922,
          null,
          12143,
          null,
          null,
          4212,
          3356,
          null,
          11096,
          12306,
          1425,
          null,
          3879,
          11956,
          15565,
          2056,
          9898,
          3870,
          1756,
          11014,
          1180,
          3077,
          3748,
          3724,
          1794,
          10152,
          9178,
          5922,
          1746,
          null,
          6899,
          932,
          1807,
          2152,
          4436,
          7907,
          1565,
          2338,
          2865,
          5725,
          1453,
          2688,
          1735,
          16518,
          1163,
          1656,
          1161,
          null,
          2003,
          2285,
          null,
          1678,
          775,
          660
         ]
        }
       ],
       "layout": {
        "template": {
         "data": {
          "bar": [
           {
            "error_x": {
             "color": "#2a3f5f"
            },
            "error_y": {
             "color": "#2a3f5f"
            },
            "marker": {
             "line": {
              "color": "#E5ECF6",
              "width": 0.5
             }
            },
            "type": "bar"
           }
          ],
          "barpolar": [
           {
            "marker": {
             "line": {
              "color": "#E5ECF6",
              "width": 0.5
             }
            },
            "type": "barpolar"
           }
          ],
          "carpet": [
           {
            "aaxis": {
             "endlinecolor": "#2a3f5f",
             "gridcolor": "white",
             "linecolor": "white",
             "minorgridcolor": "white",
             "startlinecolor": "#2a3f5f"
            },
            "baxis": {
             "endlinecolor": "#2a3f5f",
             "gridcolor": "white",
             "linecolor": "white",
             "minorgridcolor": "white",
             "startlinecolor": "#2a3f5f"
            },
            "type": "carpet"
           }
          ],
          "choropleth": [
           {
            "colorbar": {
             "outlinewidth": 0,
             "ticks": ""
            },
            "type": "choropleth"
           }
          ],
          "contour": [
           {
            "colorbar": {
             "outlinewidth": 0,
             "ticks": ""
            },
            "colorscale": [
             [
              0,
              "#0d0887"
             ],
             [
              0.1111111111111111,
              "#46039f"
             ],
             [
              0.2222222222222222,
              "#7201a8"
             ],
             [
              0.3333333333333333,
              "#9c179e"
             ],
             [
              0.4444444444444444,
              "#bd3786"
             ],
             [
              0.5555555555555556,
              "#d8576b"
             ],
             [
              0.6666666666666666,
              "#ed7953"
             ],
             [
              0.7777777777777778,
              "#fb9f3a"
             ],
             [
              0.8888888888888888,
              "#fdca26"
             ],
             [
              1,
              "#f0f921"
             ]
            ],
            "type": "contour"
           }
          ],
          "contourcarpet": [
           {
            "colorbar": {
             "outlinewidth": 0,
             "ticks": ""
            },
            "type": "contourcarpet"
           }
          ],
          "heatmap": [
           {
            "colorbar": {
             "outlinewidth": 0,
             "ticks": ""
            },
            "colorscale": [
             [
              0,
              "#0d0887"
             ],
             [
              0.1111111111111111,
              "#46039f"
             ],
             [
              0.2222222222222222,
              "#7201a8"
             ],
             [
              0.3333333333333333,
              "#9c179e"
             ],
             [
              0.4444444444444444,
              "#bd3786"
             ],
             [
              0.5555555555555556,
              "#d8576b"
             ],
             [
              0.6666666666666666,
              "#ed7953"
             ],
             [
              0.7777777777777778,
              "#fb9f3a"
             ],
             [
              0.8888888888888888,
              "#fdca26"
             ],
             [
              1,
              "#f0f921"
             ]
            ],
            "type": "heatmap"
           }
          ],
          "heatmapgl": [
           {
            "colorbar": {
             "outlinewidth": 0,
             "ticks": ""
            },
            "colorscale": [
             [
              0,
              "#0d0887"
             ],
             [
              0.1111111111111111,
              "#46039f"
             ],
             [
              0.2222222222222222,
              "#7201a8"
             ],
             [
              0.3333333333333333,
              "#9c179e"
             ],
             [
              0.4444444444444444,
              "#bd3786"
             ],
             [
              0.5555555555555556,
              "#d8576b"
             ],
             [
              0.6666666666666666,
              "#ed7953"
             ],
             [
              0.7777777777777778,
              "#fb9f3a"
             ],
             [
              0.8888888888888888,
              "#fdca26"
             ],
             [
              1,
              "#f0f921"
             ]
            ],
            "type": "heatmapgl"
           }
          ],
          "histogram": [
           {
            "marker": {
             "colorbar": {
              "outlinewidth": 0,
              "ticks": ""
             }
            },
            "type": "histogram"
           }
          ],
          "histogram2d": [
           {
            "colorbar": {
             "outlinewidth": 0,
             "ticks": ""
            },
            "colorscale": [
             [
              0,
              "#0d0887"
             ],
             [
              0.1111111111111111,
              "#46039f"
             ],
             [
              0.2222222222222222,
              "#7201a8"
             ],
             [
              0.3333333333333333,
              "#9c179e"
             ],
             [
              0.4444444444444444,
              "#bd3786"
             ],
             [
              0.5555555555555556,
              "#d8576b"
             ],
             [
              0.6666666666666666,
              "#ed7953"
             ],
             [
              0.7777777777777778,
              "#fb9f3a"
             ],
             [
              0.8888888888888888,
              "#fdca26"
             ],
             [
              1,
              "#f0f921"
             ]
            ],
            "type": "histogram2d"
           }
          ],
          "histogram2dcontour": [
           {
            "colorbar": {
             "outlinewidth": 0,
             "ticks": ""
            },
            "colorscale": [
             [
              0,
              "#0d0887"
             ],
             [
              0.1111111111111111,
              "#46039f"
             ],
             [
              0.2222222222222222,
              "#7201a8"
             ],
             [
              0.3333333333333333,
              "#9c179e"
             ],
             [
              0.4444444444444444,
              "#bd3786"
             ],
             [
              0.5555555555555556,
              "#d8576b"
             ],
             [
              0.6666666666666666,
              "#ed7953"
             ],
             [
              0.7777777777777778,
              "#fb9f3a"
             ],
             [
              0.8888888888888888,
              "#fdca26"
             ],
             [
              1,
              "#f0f921"
             ]
            ],
            "type": "histogram2dcontour"
           }
          ],
          "mesh3d": [
           {
            "colorbar": {
             "outlinewidth": 0,
             "ticks": ""
            },
            "type": "mesh3d"
           }
          ],
          "parcoords": [
           {
            "line": {
             "colorbar": {
              "outlinewidth": 0,
              "ticks": ""
             }
            },
            "type": "parcoords"
           }
          ],
          "pie": [
           {
            "automargin": true,
            "type": "pie"
           }
          ],
          "scatter": [
           {
            "marker": {
             "colorbar": {
              "outlinewidth": 0,
              "ticks": ""
             }
            },
            "type": "scatter"
           }
          ],
          "scatter3d": [
           {
            "line": {
             "colorbar": {
              "outlinewidth": 0,
              "ticks": ""
             }
            },
            "marker": {
             "colorbar": {
              "outlinewidth": 0,
              "ticks": ""
             }
            },
            "type": "scatter3d"
           }
          ],
          "scattercarpet": [
           {
            "marker": {
             "colorbar": {
              "outlinewidth": 0,
              "ticks": ""
             }
            },
            "type": "scattercarpet"
           }
          ],
          "scattergeo": [
           {
            "marker": {
             "colorbar": {
              "outlinewidth": 0,
              "ticks": ""
             }
            },
            "type": "scattergeo"
           }
          ],
          "scattergl": [
           {
            "marker": {
             "colorbar": {
              "outlinewidth": 0,
              "ticks": ""
             }
            },
            "type": "scattergl"
           }
          ],
          "scattermapbox": [
           {
            "marker": {
             "colorbar": {
              "outlinewidth": 0,
              "ticks": ""
             }
            },
            "type": "scattermapbox"
           }
          ],
          "scatterpolar": [
           {
            "marker": {
             "colorbar": {
              "outlinewidth": 0,
              "ticks": ""
             }
            },
            "type": "scatterpolar"
           }
          ],
          "scatterpolargl": [
           {
            "marker": {
             "colorbar": {
              "outlinewidth": 0,
              "ticks": ""
             }
            },
            "type": "scatterpolargl"
           }
          ],
          "scatterternary": [
           {
            "marker": {
             "colorbar": {
              "outlinewidth": 0,
              "ticks": ""
             }
            },
            "type": "scatterternary"
           }
          ],
          "surface": [
           {
            "colorbar": {
             "outlinewidth": 0,
             "ticks": ""
            },
            "colorscale": [
             [
              0,
              "#0d0887"
             ],
             [
              0.1111111111111111,
              "#46039f"
             ],
             [
              0.2222222222222222,
              "#7201a8"
             ],
             [
              0.3333333333333333,
              "#9c179e"
             ],
             [
              0.4444444444444444,
              "#bd3786"
             ],
             [
              0.5555555555555556,
              "#d8576b"
             ],
             [
              0.6666666666666666,
              "#ed7953"
             ],
             [
              0.7777777777777778,
              "#fb9f3a"
             ],
             [
              0.8888888888888888,
              "#fdca26"
             ],
             [
              1,
              "#f0f921"
             ]
            ],
            "type": "surface"
           }
          ],
          "table": [
           {
            "cells": {
             "fill": {
              "color": "#EBF0F8"
             },
             "line": {
              "color": "white"
             }
            },
            "header": {
             "fill": {
              "color": "#C8D4E3"
             },
             "line": {
              "color": "white"
             }
            },
            "type": "table"
           }
          ]
         },
         "layout": {
          "annotationdefaults": {
           "arrowcolor": "#2a3f5f",
           "arrowhead": 0,
           "arrowwidth": 1
          },
          "autotypenumbers": "strict",
          "coloraxis": {
           "colorbar": {
            "outlinewidth": 0,
            "ticks": ""
           }
          },
          "colorscale": {
           "diverging": [
            [
             0,
             "#8e0152"
            ],
            [
             0.1,
             "#c51b7d"
            ],
            [
             0.2,
             "#de77ae"
            ],
            [
             0.3,
             "#f1b6da"
            ],
            [
             0.4,
             "#fde0ef"
            ],
            [
             0.5,
             "#f7f7f7"
            ],
            [
             0.6,
             "#e6f5d0"
            ],
            [
             0.7,
             "#b8e186"
            ],
            [
             0.8,
             "#7fbc41"
            ],
            [
             0.9,
             "#4d9221"
            ],
            [
             1,
             "#276419"
            ]
           ],
           "sequential": [
            [
             0,
             "#0d0887"
            ],
            [
             0.1111111111111111,
             "#46039f"
            ],
            [
             0.2222222222222222,
             "#7201a8"
            ],
            [
             0.3333333333333333,
             "#9c179e"
            ],
            [
             0.4444444444444444,
             "#bd3786"
            ],
            [
             0.5555555555555556,
             "#d8576b"
            ],
            [
             0.6666666666666666,
             "#ed7953"
            ],
            [
             0.7777777777777778,
             "#fb9f3a"
            ],
            [
             0.8888888888888888,
             "#fdca26"
            ],
            [
             1,
             "#f0f921"
            ]
           ],
           "sequentialminus": [
            [
             0,
             "#0d0887"
            ],
            [
             0.1111111111111111,
             "#46039f"
            ],
            [
             0.2222222222222222,
             "#7201a8"
            ],
            [
             0.3333333333333333,
             "#9c179e"
            ],
            [
             0.4444444444444444,
             "#bd3786"
            ],
            [
             0.5555555555555556,
             "#d8576b"
            ],
            [
             0.6666666666666666,
             "#ed7953"
            ],
            [
             0.7777777777777778,
             "#fb9f3a"
            ],
            [
             0.8888888888888888,
             "#fdca26"
            ],
            [
             1,
             "#f0f921"
            ]
           ]
          },
          "colorway": [
           "#636efa",
           "#EF553B",
           "#00cc96",
           "#ab63fa",
           "#FFA15A",
           "#19d3f3",
           "#FF6692",
           "#B6E880",
           "#FF97FF",
           "#FECB52"
          ],
          "font": {
           "color": "#2a3f5f"
          },
          "geo": {
           "bgcolor": "white",
           "lakecolor": "white",
           "landcolor": "#E5ECF6",
           "showlakes": true,
           "showland": true,
           "subunitcolor": "white"
          },
          "hoverlabel": {
           "align": "left"
          },
          "hovermode": "closest",
          "mapbox": {
           "style": "light"
          },
          "paper_bgcolor": "white",
          "plot_bgcolor": "#E5ECF6",
          "polar": {
           "angularaxis": {
            "gridcolor": "white",
            "linecolor": "white",
            "ticks": ""
           },
           "bgcolor": "#E5ECF6",
           "radialaxis": {
            "gridcolor": "white",
            "linecolor": "white",
            "ticks": ""
           }
          },
          "scene": {
           "xaxis": {
            "backgroundcolor": "#E5ECF6",
            "gridcolor": "white",
            "gridwidth": 2,
            "linecolor": "white",
            "showbackground": true,
            "ticks": "",
            "zerolinecolor": "white"
           },
           "yaxis": {
            "backgroundcolor": "#E5ECF6",
            "gridcolor": "white",
            "gridwidth": 2,
            "linecolor": "white",
            "showbackground": true,
            "ticks": "",
            "zerolinecolor": "white"
           },
           "zaxis": {
            "backgroundcolor": "#E5ECF6",
            "gridcolor": "white",
            "gridwidth": 2,
            "linecolor": "white",
            "showbackground": true,
            "ticks": "",
            "zerolinecolor": "white"
           }
          },
          "shapedefaults": {
           "line": {
            "color": "#2a3f5f"
           }
          },
          "ternary": {
           "aaxis": {
            "gridcolor": "white",
            "linecolor": "white",
            "ticks": ""
           },
           "baxis": {
            "gridcolor": "white",
            "linecolor": "white",
            "ticks": ""
           },
           "bgcolor": "#E5ECF6",
           "caxis": {
            "gridcolor": "white",
            "linecolor": "white",
            "ticks": ""
           }
          },
          "title": {
           "x": 0.05
          },
          "xaxis": {
           "automargin": true,
           "gridcolor": "white",
           "linecolor": "white",
           "ticks": "",
           "title": {
            "standoff": 15
           },
           "zerolinecolor": "white",
           "zerolinewidth": 2
          },
          "yaxis": {
           "automargin": true,
           "gridcolor": "white",
           "linecolor": "white",
           "ticks": "",
           "title": {
            "standoff": 15
           },
           "zerolinecolor": "white",
           "zerolinewidth": 2
          }
         }
        }
       }
      },
      "text/html": [
       "<div>                            <div id=\"d19faa0a-49ed-42d2-a9e4-eed31e5b6444\" class=\"plotly-graph-div\" style=\"height:525px; width:100%;\"></div>            <script type=\"text/javascript\">                require([\"plotly\"], function(Plotly) {                    window.PLOTLYENV=window.PLOTLYENV || {};                                    if (document.getElementById(\"d19faa0a-49ed-42d2-a9e4-eed31e5b6444\")) {                    Plotly.newPlot(                        \"d19faa0a-49ed-42d2-a9e4-eed31e5b6444\",                        [{\"mode\": \"lines+markers\", \"name\": \"GDP\", \"type\": \"scatter\", \"x\": [\"Finland\", \"Norway\", \"Denmark\", \"Iceland\", \"Switzerland\", \"Netherlands\", \"Canada\", \"New Zealand\", \"Sweden\", \"Australia\", \"United Kingdom\", \"Austria\", \"Costa Rica\", \"Ireland\", \"Germany\", \"Belgium\", \"Luxembourg\", \"United States\", \"Israel\", \"United Arab Emirates\", \"Czech Republic\", \"Malta\", \"France\", \"Mexico\", \"Chile\", \"Taiwan\", \"Panama\", \"Brazil\", \"Argentina\", \"Guatemala\", \"Uruguay\", \"Qatar\", \"Saudi Arabia\", \"Singapore\", \"Malaysia\", \"Spain\", \"Colombia\", \"Trinidad & Tobago\", \"Slovakia\", \"El Salvador\", \"Nicaragua\", \"Poland\", \"Bahrain\", \"Uzbekistan\", \"Kuwait\", \"Thailand\", \"Italy\", \"Ecuador\", \"Belize\", \"Lithuania\", \"Slovenia\", \"Romania\", \"Latvia\", \"Japan\", \"Mauritius\", \"Jamaica\", \"South Korea\", \"Northern Cyprus\", \"Russia\", \"Kazakhstan\", \"Cyprus\", \"Bolivia\", \"Estonia\", \"Paraguay\", \"Peru\", \"Kosovo\", \"Moldova\", \"Turkmenistan\", \"Hungary\", \"Libya\", \"Philippines\", \"Honduras\", \"Belarus\", \"Turkey\", \"Pakistan\", \"Hong Kong\", \"Portugal\", \"Serbia\", \"Greece\", \"Lebanon\", \"Montenegro\", \"Croatia\", \"Dominican Republic\", \"Algeria\", \"Morocco\", \"China\", \"Azerbaijan\", \"Tajikistan\", \"Macedonia\", \"Jordan\", \"Nigeria\", \"Kyrgyzstan\", \"Bosnia and Herzegovina\", \"Mongolia\", \"Vietnam\", \"Indonesia\", \"Bhutan\", \"Somalia\", \"Cameroon\", \"Bulgaria\", \"Nepal\", \"Venezuela\", \"Gabon\", \"Palestinian Territories\", \"South Africa\", \"Iran\", \"Ivory Coast\", \"Ghana\", \"Senegal\", \"Laos\", \"Tunisia\", \"Albania\", \"Sierra Leone\", \"Congo (Brazzaville)\", \"Bangladesh\", \"Sri Lanka\", \"Iraq\", \"Mali\", \"Namibia\", \"Cambodia\", \"Burkina Faso\", \"Egypt\", \"Mozambique\", \"Kenya\", \"Zambia\", \"Mauritania\", \"Ethiopia\", \"Georgia\", \"Armenia\", \"Myanmar\", \"Chad\", \"Congo (Kinshasa)\", \"India\", \"Niger\", \"Uganda\", \"Benin\", \"Sudan\", \"Ukraine\", \"Togo\", \"Guinea\", \"Lesotho\", \"Angola\", \"Madagascar\", \"Zimbabwe\", \"Afghanistan\", \"Botswana\", \"Malawi\", \"Haiti\", \"Liberia\", \"Syria\", \"Rwanda\", \"Yemen\", \"Tanzania\", \"South Sudan\", \"Central African Republic\", \"Burundi\"], \"y\": [41899.0, 65441.0, 47673.0, 48606.0, 59019.0, 49804.0, 44051.0, 36355.0, 47194.0, 45439.0, 40158.0, 46473.0, 15685.0, 70361.0, 45959.0, 43218.0, 93734.0, 55681.0, 33661.0, 66616.0, null, 38147.0, 39556.0, 18102.0, 22874.0, null, 22674.0, 14283.0, 18282.0, 7509.0, 20916.0, 112532.0, 48996.0, 90091.0, 28176.0, 35056.0, 13333.0, null, 31326.0, 7393.0, 4910.0, 28752.0, 41973.0, 6240.0, 65515.0, 16905.0, 35739.0, 10412.0, 7810.0, 31065.0, 32743.0, 24544.0, 26437.0, 39294.0, 21075.0, 8266.0, null, null, null, 24738.0, 33048.0, null, 30991.0, 12063.0, 12794.0, null, null, 17129.0, 28243.0, 18406.0, 7943.0, 4560.0, 17742.0, 25287.0, 4928.0, null, 28687.0, 16035.0, 25141.0, 11607.0, 17278.0, 23637.0, 15821.0, 13886.0, 7509.0, 16187.0, 16011.0, 3061.0, null, 8309.0, 5316.0, 3447.0, 12756.0, 12209.0, null, 11606.0, 9348.0, null, 3352.0, 19321.0, 2724.0, null, 15922.0, null, 12143.0, null, null, 4212.0, 3356.0, null, 11096.0, 12306.0, 1425.0, null, 3879.0, 11956.0, 15565.0, 2056.0, 9898.0, 3870.0, 1756.0, 11014.0, 1180.0, 3077.0, 3748.0, 3724.0, 1794.0, 10152.0, 9178.0, 5922.0, 1746.0, null, 6899.0, 932.0, 1807.0, 2152.0, 4436.0, 7907.0, 1565.0, 2338.0, 2865.0, 5725.0, 1453.0, 2688.0, 1735.0, 16518.0, 1163.0, 1656.0, 1161.0, null, 2003.0, 2285.0, null, 1678.0, 775.0, 660.0]}],                        {\"template\": {\"data\": {\"bar\": [{\"error_x\": {\"color\": \"#2a3f5f\"}, \"error_y\": {\"color\": \"#2a3f5f\"}, \"marker\": {\"line\": {\"color\": \"#E5ECF6\", \"width\": 0.5}}, \"type\": \"bar\"}], \"barpolar\": [{\"marker\": {\"line\": {\"color\": \"#E5ECF6\", \"width\": 0.5}}, \"type\": \"barpolar\"}], \"carpet\": [{\"aaxis\": {\"endlinecolor\": \"#2a3f5f\", \"gridcolor\": \"white\", \"linecolor\": \"white\", \"minorgridcolor\": \"white\", \"startlinecolor\": \"#2a3f5f\"}, \"baxis\": {\"endlinecolor\": \"#2a3f5f\", \"gridcolor\": \"white\", \"linecolor\": \"white\", \"minorgridcolor\": \"white\", \"startlinecolor\": \"#2a3f5f\"}, \"type\": \"carpet\"}], \"choropleth\": [{\"colorbar\": {\"outlinewidth\": 0, \"ticks\": \"\"}, \"type\": \"choropleth\"}], \"contour\": [{\"colorbar\": {\"outlinewidth\": 0, \"ticks\": \"\"}, \"colorscale\": [[0.0, \"#0d0887\"], [0.1111111111111111, \"#46039f\"], [0.2222222222222222, \"#7201a8\"], [0.3333333333333333, \"#9c179e\"], [0.4444444444444444, \"#bd3786\"], [0.5555555555555556, \"#d8576b\"], [0.6666666666666666, \"#ed7953\"], [0.7777777777777778, \"#fb9f3a\"], [0.8888888888888888, \"#fdca26\"], [1.0, \"#f0f921\"]], \"type\": \"contour\"}], \"contourcarpet\": [{\"colorbar\": {\"outlinewidth\": 0, \"ticks\": \"\"}, \"type\": \"contourcarpet\"}], \"heatmap\": [{\"colorbar\": {\"outlinewidth\": 0, \"ticks\": \"\"}, \"colorscale\": [[0.0, \"#0d0887\"], [0.1111111111111111, \"#46039f\"], [0.2222222222222222, \"#7201a8\"], [0.3333333333333333, \"#9c179e\"], [0.4444444444444444, \"#bd3786\"], [0.5555555555555556, \"#d8576b\"], [0.6666666666666666, \"#ed7953\"], [0.7777777777777778, \"#fb9f3a\"], [0.8888888888888888, \"#fdca26\"], [1.0, \"#f0f921\"]], \"type\": \"heatmap\"}], \"heatmapgl\": [{\"colorbar\": {\"outlinewidth\": 0, \"ticks\": \"\"}, \"colorscale\": [[0.0, \"#0d0887\"], [0.1111111111111111, \"#46039f\"], [0.2222222222222222, \"#7201a8\"], [0.3333333333333333, \"#9c179e\"], [0.4444444444444444, \"#bd3786\"], [0.5555555555555556, \"#d8576b\"], [0.6666666666666666, \"#ed7953\"], [0.7777777777777778, \"#fb9f3a\"], [0.8888888888888888, \"#fdca26\"], [1.0, \"#f0f921\"]], \"type\": \"heatmapgl\"}], \"histogram\": [{\"marker\": {\"colorbar\": {\"outlinewidth\": 0, \"ticks\": \"\"}}, \"type\": \"histogram\"}], \"histogram2d\": [{\"colorbar\": {\"outlinewidth\": 0, \"ticks\": \"\"}, \"colorscale\": [[0.0, \"#0d0887\"], [0.1111111111111111, \"#46039f\"], [0.2222222222222222, \"#7201a8\"], [0.3333333333333333, \"#9c179e\"], [0.4444444444444444, \"#bd3786\"], [0.5555555555555556, \"#d8576b\"], [0.6666666666666666, \"#ed7953\"], [0.7777777777777778, \"#fb9f3a\"], [0.8888888888888888, \"#fdca26\"], [1.0, \"#f0f921\"]], \"type\": \"histogram2d\"}], \"histogram2dcontour\": [{\"colorbar\": {\"outlinewidth\": 0, \"ticks\": \"\"}, \"colorscale\": [[0.0, \"#0d0887\"], [0.1111111111111111, \"#46039f\"], [0.2222222222222222, \"#7201a8\"], [0.3333333333333333, \"#9c179e\"], [0.4444444444444444, \"#bd3786\"], [0.5555555555555556, \"#d8576b\"], [0.6666666666666666, \"#ed7953\"], [0.7777777777777778, \"#fb9f3a\"], [0.8888888888888888, \"#fdca26\"], [1.0, \"#f0f921\"]], \"type\": \"histogram2dcontour\"}], \"mesh3d\": [{\"colorbar\": {\"outlinewidth\": 0, \"ticks\": \"\"}, \"type\": \"mesh3d\"}], \"parcoords\": [{\"line\": {\"colorbar\": {\"outlinewidth\": 0, \"ticks\": \"\"}}, \"type\": \"parcoords\"}], \"pie\": [{\"automargin\": true, \"type\": \"pie\"}], \"scatter\": [{\"marker\": {\"colorbar\": {\"outlinewidth\": 0, \"ticks\": \"\"}}, \"type\": \"scatter\"}], \"scatter3d\": [{\"line\": {\"colorbar\": {\"outlinewidth\": 0, \"ticks\": \"\"}}, \"marker\": {\"colorbar\": {\"outlinewidth\": 0, \"ticks\": \"\"}}, \"type\": \"scatter3d\"}], \"scattercarpet\": [{\"marker\": {\"colorbar\": {\"outlinewidth\": 0, \"ticks\": \"\"}}, \"type\": \"scattercarpet\"}], \"scattergeo\": [{\"marker\": {\"colorbar\": {\"outlinewidth\": 0, \"ticks\": \"\"}}, \"type\": \"scattergeo\"}], \"scattergl\": [{\"marker\": {\"colorbar\": {\"outlinewidth\": 0, \"ticks\": \"\"}}, \"type\": \"scattergl\"}], \"scattermapbox\": [{\"marker\": {\"colorbar\": {\"outlinewidth\": 0, \"ticks\": \"\"}}, \"type\": \"scattermapbox\"}], \"scatterpolar\": [{\"marker\": {\"colorbar\": {\"outlinewidth\": 0, \"ticks\": \"\"}}, \"type\": \"scatterpolar\"}], \"scatterpolargl\": [{\"marker\": {\"colorbar\": {\"outlinewidth\": 0, \"ticks\": \"\"}}, \"type\": \"scatterpolargl\"}], \"scatterternary\": [{\"marker\": {\"colorbar\": {\"outlinewidth\": 0, \"ticks\": \"\"}}, \"type\": \"scatterternary\"}], \"surface\": [{\"colorbar\": {\"outlinewidth\": 0, \"ticks\": \"\"}, \"colorscale\": [[0.0, \"#0d0887\"], [0.1111111111111111, \"#46039f\"], [0.2222222222222222, \"#7201a8\"], [0.3333333333333333, \"#9c179e\"], [0.4444444444444444, \"#bd3786\"], [0.5555555555555556, \"#d8576b\"], [0.6666666666666666, \"#ed7953\"], [0.7777777777777778, \"#fb9f3a\"], [0.8888888888888888, \"#fdca26\"], [1.0, \"#f0f921\"]], \"type\": \"surface\"}], \"table\": [{\"cells\": {\"fill\": {\"color\": \"#EBF0F8\"}, \"line\": {\"color\": \"white\"}}, \"header\": {\"fill\": {\"color\": \"#C8D4E3\"}, \"line\": {\"color\": \"white\"}}, \"type\": \"table\"}]}, \"layout\": {\"annotationdefaults\": {\"arrowcolor\": \"#2a3f5f\", \"arrowhead\": 0, \"arrowwidth\": 1}, \"autotypenumbers\": \"strict\", \"coloraxis\": {\"colorbar\": {\"outlinewidth\": 0, \"ticks\": \"\"}}, \"colorscale\": {\"diverging\": [[0, \"#8e0152\"], [0.1, \"#c51b7d\"], [0.2, \"#de77ae\"], [0.3, \"#f1b6da\"], [0.4, \"#fde0ef\"], [0.5, \"#f7f7f7\"], [0.6, \"#e6f5d0\"], [0.7, \"#b8e186\"], [0.8, \"#7fbc41\"], [0.9, \"#4d9221\"], [1, \"#276419\"]], \"sequential\": [[0.0, \"#0d0887\"], [0.1111111111111111, \"#46039f\"], [0.2222222222222222, \"#7201a8\"], [0.3333333333333333, \"#9c179e\"], [0.4444444444444444, \"#bd3786\"], [0.5555555555555556, \"#d8576b\"], [0.6666666666666666, \"#ed7953\"], [0.7777777777777778, \"#fb9f3a\"], [0.8888888888888888, \"#fdca26\"], [1.0, \"#f0f921\"]], \"sequentialminus\": [[0.0, \"#0d0887\"], [0.1111111111111111, \"#46039f\"], [0.2222222222222222, \"#7201a8\"], [0.3333333333333333, \"#9c179e\"], [0.4444444444444444, \"#bd3786\"], [0.5555555555555556, \"#d8576b\"], [0.6666666666666666, \"#ed7953\"], [0.7777777777777778, \"#fb9f3a\"], [0.8888888888888888, \"#fdca26\"], [1.0, \"#f0f921\"]]}, \"colorway\": [\"#636efa\", \"#EF553B\", \"#00cc96\", \"#ab63fa\", \"#FFA15A\", \"#19d3f3\", \"#FF6692\", \"#B6E880\", \"#FF97FF\", \"#FECB52\"], \"font\": {\"color\": \"#2a3f5f\"}, \"geo\": {\"bgcolor\": \"white\", \"lakecolor\": \"white\", \"landcolor\": \"#E5ECF6\", \"showlakes\": true, \"showland\": true, \"subunitcolor\": \"white\"}, \"hoverlabel\": {\"align\": \"left\"}, \"hovermode\": \"closest\", \"mapbox\": {\"style\": \"light\"}, \"paper_bgcolor\": \"white\", \"plot_bgcolor\": \"#E5ECF6\", \"polar\": {\"angularaxis\": {\"gridcolor\": \"white\", \"linecolor\": \"white\", \"ticks\": \"\"}, \"bgcolor\": \"#E5ECF6\", \"radialaxis\": {\"gridcolor\": \"white\", \"linecolor\": \"white\", \"ticks\": \"\"}}, \"scene\": {\"xaxis\": {\"backgroundcolor\": \"#E5ECF6\", \"gridcolor\": \"white\", \"gridwidth\": 2, \"linecolor\": \"white\", \"showbackground\": true, \"ticks\": \"\", \"zerolinecolor\": \"white\"}, \"yaxis\": {\"backgroundcolor\": \"#E5ECF6\", \"gridcolor\": \"white\", \"gridwidth\": 2, \"linecolor\": \"white\", \"showbackground\": true, \"ticks\": \"\", \"zerolinecolor\": \"white\"}, \"zaxis\": {\"backgroundcolor\": \"#E5ECF6\", \"gridcolor\": \"white\", \"gridwidth\": 2, \"linecolor\": \"white\", \"showbackground\": true, \"ticks\": \"\", \"zerolinecolor\": \"white\"}}, \"shapedefaults\": {\"line\": {\"color\": \"#2a3f5f\"}}, \"ternary\": {\"aaxis\": {\"gridcolor\": \"white\", \"linecolor\": \"white\", \"ticks\": \"\"}, \"baxis\": {\"gridcolor\": \"white\", \"linecolor\": \"white\", \"ticks\": \"\"}, \"bgcolor\": \"#E5ECF6\", \"caxis\": {\"gridcolor\": \"white\", \"linecolor\": \"white\", \"ticks\": \"\"}}, \"title\": {\"x\": 0.05}, \"xaxis\": {\"automargin\": true, \"gridcolor\": \"white\", \"linecolor\": \"white\", \"ticks\": \"\", \"title\": {\"standoff\": 15}, \"zerolinecolor\": \"white\", \"zerolinewidth\": 2}, \"yaxis\": {\"automargin\": true, \"gridcolor\": \"white\", \"linecolor\": \"white\", \"ticks\": \"\", \"title\": {\"standoff\": 15}, \"zerolinecolor\": \"white\", \"zerolinewidth\": 2}}}},                        {\"responsive\": true}                    ).then(function(){\n",
       "                            \n",
       "var gd = document.getElementById('d19faa0a-49ed-42d2-a9e4-eed31e5b6444');\n",
       "var x = new MutationObserver(function (mutations, observer) {{\n",
       "        var display = window.getComputedStyle(gd).display;\n",
       "        if (!display || display === 'none') {{\n",
       "            console.log([gd, 'removed!']);\n",
       "            Plotly.purge(gd);\n",
       "            observer.disconnect();\n",
       "        }}\n",
       "}});\n",
       "\n",
       "// Listen for the removal of the full notebook cells\n",
       "var notebookContainer = gd.closest('#notebook-container');\n",
       "if (notebookContainer) {{\n",
       "    x.observe(notebookContainer, {childList: true});\n",
       "}}\n",
       "\n",
       "// Listen for the clearing of the current output cell\n",
       "var outputEl = gd.closest('.output');\n",
       "if (outputEl) {{\n",
       "    x.observe(outputEl, {childList: true});\n",
       "}}\n",
       "\n",
       "                        })                };                });            </script>        </div>"
      ]
     },
     "metadata": {},
     "output_type": "display_data"
    }
   ],
   "source": [
    "\n",
    "fig = go.Figure() \n",
    "fig.add_trace(go.Scatter(x=data1.Country, y=data1[\"GDP_per_capita\"], mode=\"lines+markers \", name=\"GDP\"))\n",
    "\n"
   ]
  },
  {
   "cell_type": "code",
   "execution_count": 9,
   "metadata": {
    "ExecuteTime": {
     "end_time": "2021-02-17T09:16:55.972832Z",
     "start_time": "2021-02-17T09:16:55.883384Z"
    }
   },
   "outputs": [
    {
     "ename": "NameError",
     "evalue": "name 'data' is not defined",
     "output_type": "error",
     "traceback": [
      "\u001b[0;31m---------------------------------------------------------------------------\u001b[0m",
      "\u001b[0;31mNameError\u001b[0m                                 Traceback (most recent call last)",
      "\u001b[0;32m<ipython-input-9-8755d4f5d4b2>\u001b[0m in \u001b[0;36m<module>\u001b[0;34m\u001b[0m\n\u001b[1;32m      1\u001b[0m \u001b[0mfig\u001b[0m \u001b[0;34m=\u001b[0m \u001b[0mgo\u001b[0m\u001b[0;34m.\u001b[0m\u001b[0mFigure\u001b[0m\u001b[0;34m(\u001b[0m\u001b[0;34m)\u001b[0m\u001b[0;34m\u001b[0m\u001b[0;34m\u001b[0m\u001b[0m\n\u001b[1;32m      2\u001b[0m \u001b[0;31m#fig.add_trace(go.Scatter(x=data.Country, y=data[\"Happiness Score\"], mode=\"lines+markers \", name=\"HPP\"))\u001b[0m\u001b[0;34m\u001b[0m\u001b[0;34m\u001b[0m\u001b[0;34m\u001b[0m\u001b[0m\n\u001b[0;32m----> 3\u001b[0;31m \u001b[0mfig\u001b[0m\u001b[0;34m.\u001b[0m\u001b[0madd_trace\u001b[0m\u001b[0;34m(\u001b[0m\u001b[0mgo\u001b[0m\u001b[0;34m.\u001b[0m\u001b[0mScatter\u001b[0m\u001b[0;34m(\u001b[0m\u001b[0mx\u001b[0m\u001b[0;34m=\u001b[0m\u001b[0mdata\u001b[0m\u001b[0;34m[\u001b[0m\u001b[0;34m\"Happiness Score\"\u001b[0m\u001b[0;34m]\u001b[0m\u001b[0;34m,\u001b[0m \u001b[0my\u001b[0m\u001b[0;34m=\u001b[0m\u001b[0mdata\u001b[0m\u001b[0;34m[\u001b[0m\u001b[0;34m\"GDP per capita\"\u001b[0m\u001b[0;34m]\u001b[0m\u001b[0;34m,\u001b[0m \u001b[0mmode\u001b[0m\u001b[0;34m=\u001b[0m\u001b[0;34m\"lines+markers \"\u001b[0m\u001b[0;34m,\u001b[0m \u001b[0mname\u001b[0m\u001b[0;34m=\u001b[0m\u001b[0;34m\"GDP\"\u001b[0m\u001b[0;34m)\u001b[0m\u001b[0;34m)\u001b[0m\u001b[0;34m\u001b[0m\u001b[0;34m\u001b[0m\u001b[0m\n\u001b[0m\u001b[1;32m      4\u001b[0m \u001b[0mfig\u001b[0m\u001b[0;34m.\u001b[0m\u001b[0madd_trace\u001b[0m\u001b[0;34m(\u001b[0m\u001b[0mgo\u001b[0m\u001b[0;34m.\u001b[0m\u001b[0mScatter\u001b[0m\u001b[0;34m(\u001b[0m\u001b[0mx\u001b[0m\u001b[0;34m=\u001b[0m\u001b[0mdata\u001b[0m\u001b[0;34m[\u001b[0m\u001b[0;34m\"Happiness Score\"\u001b[0m\u001b[0;34m]\u001b[0m\u001b[0;34m,\u001b[0m \u001b[0my\u001b[0m\u001b[0;34m=\u001b[0m\u001b[0mdata\u001b[0m\u001b[0;34m[\u001b[0m\u001b[0;34m\"Generosity\"\u001b[0m\u001b[0;34m]\u001b[0m\u001b[0;34m,\u001b[0m \u001b[0mmode\u001b[0m\u001b[0;34m=\u001b[0m\u001b[0;34m\"lines+markers \"\u001b[0m\u001b[0;34m,\u001b[0m \u001b[0mname\u001b[0m\u001b[0;34m=\u001b[0m\u001b[0;34m\"Generosity\"\u001b[0m\u001b[0;34m)\u001b[0m\u001b[0;34m)\u001b[0m\u001b[0;34m\u001b[0m\u001b[0;34m\u001b[0m\u001b[0m\n\u001b[1;32m      5\u001b[0m \u001b[0mfig\u001b[0m\u001b[0;34m.\u001b[0m\u001b[0madd_trace\u001b[0m\u001b[0;34m(\u001b[0m\u001b[0mgo\u001b[0m\u001b[0;34m.\u001b[0m\u001b[0mScatter\u001b[0m\u001b[0;34m(\u001b[0m\u001b[0mx\u001b[0m\u001b[0;34m=\u001b[0m\u001b[0mdata\u001b[0m\u001b[0;34m[\u001b[0m\u001b[0;34m\"Happiness Score\"\u001b[0m\u001b[0;34m]\u001b[0m\u001b[0;34m,\u001b[0m \u001b[0my\u001b[0m\u001b[0;34m=\u001b[0m\u001b[0mdata\u001b[0m\u001b[0;34m[\u001b[0m\u001b[0;34m\"Freedom to make life choices\"\u001b[0m\u001b[0;34m]\u001b[0m\u001b[0;34m,\u001b[0m \u001b[0mmode\u001b[0m\u001b[0;34m=\u001b[0m\u001b[0;34m\"lines+markers \"\u001b[0m\u001b[0;34m,\u001b[0m \u001b[0mname\u001b[0m\u001b[0;34m=\u001b[0m\u001b[0;34m\"Fredom\"\u001b[0m\u001b[0;34m)\u001b[0m\u001b[0;34m)\u001b[0m\u001b[0;34m\u001b[0m\u001b[0;34m\u001b[0m\u001b[0m\n",
      "\u001b[0;31mNameError\u001b[0m: name 'data' is not defined"
     ]
    }
   ],
   "source": [
    "\n",
    "fig = go.Figure() \n",
    "#fig.add_trace(go.Scatter(x=data.Country, y=data[\"Happiness Score\"], mode=\"lines+markers \", name=\"HPP\"))\n",
    "fig.add_trace(go.Scatter(x=data[\"Happiness Score\"], y=data[\"GDP per capita\"], mode=\"lines+markers \", name=\"GDP\"))\n",
    "fig.add_trace(go.Scatter(x=data[\"Happiness Score\"], y=data[\"Generosity\"], mode=\"lines+markers \", name=\"Generosity\"))\n",
    "fig.add_trace(go.Scatter(x=data[\"Happiness Score\"], y=data[\"Freedom to make life choices\"], mode=\"lines+markers \", name=\"Fredom\"))"
   ]
  },
  {
   "cell_type": "code",
   "execution_count": 107,
   "metadata": {
    "ExecuteTime": {
     "end_time": "2021-02-15T15:30:25.489307Z",
     "start_time": "2021-02-15T15:30:25.363788Z"
    },
    "collapsed": true
   },
   "outputs": [
    {
     "data": {
      "application/vnd.plotly.v1+json": {
       "config": {
        "plotlyServerURL": "https://plot.ly"
       },
       "data": [
        {
         "alignmentgroup": "True",
         "bingroup": "x",
         "histfunc": "sum",
         "hovertemplate": "Country=Finland<br>Happiness Score=7.632<br>Overall rank=%{x}<br>sum of GDP_per_capita=%{y}<extra></extra>",
         "legendgroup": "Finland",
         "marker": {
          "color": "#636efa"
         },
         "name": "Finland",
         "offsetgroup": "Finland",
         "orientation": "v",
         "showlegend": true,
         "type": "histogram",
         "x": [
          1
         ],
         "xaxis": "x",
         "y": [
          41899
         ],
         "yaxis": "y"
        },
        {
         "alignmentgroup": "True",
         "bingroup": "x",
         "histfunc": "sum",
         "hovertemplate": "Country=Norway<br>Happiness Score=7.594<br>Overall rank=%{x}<br>sum of GDP_per_capita=%{y}<extra></extra>",
         "legendgroup": "Norway",
         "marker": {
          "color": "#EF553B"
         },
         "name": "Norway",
         "offsetgroup": "Norway",
         "orientation": "v",
         "showlegend": true,
         "type": "histogram",
         "x": [
          2
         ],
         "xaxis": "x2",
         "y": [
          65441
         ],
         "yaxis": "y2"
        },
        {
         "alignmentgroup": "True",
         "bingroup": "x",
         "histfunc": "sum",
         "hovertemplate": "Country=Denmark<br>Happiness Score=7.555<br>Overall rank=%{x}<br>sum of GDP_per_capita=%{y}<extra></extra>",
         "legendgroup": "Denmark",
         "marker": {
          "color": "#00cc96"
         },
         "name": "Denmark",
         "offsetgroup": "Denmark",
         "orientation": "v",
         "showlegend": true,
         "type": "histogram",
         "x": [
          3
         ],
         "xaxis": "x3",
         "y": [
          47673
         ],
         "yaxis": "y3"
        },
        {
         "alignmentgroup": "True",
         "bingroup": "x",
         "histfunc": "sum",
         "hovertemplate": "Country=Iceland<br>Happiness Score=7.495<br>Overall rank=%{x}<br>sum of GDP_per_capita=%{y}<extra></extra>",
         "legendgroup": "Iceland",
         "marker": {
          "color": "#ab63fa"
         },
         "name": "Iceland",
         "offsetgroup": "Iceland",
         "orientation": "v",
         "showlegend": true,
         "type": "histogram",
         "x": [
          4
         ],
         "xaxis": "x4",
         "y": [
          48606
         ],
         "yaxis": "y4"
        },
        {
         "alignmentgroup": "True",
         "bingroup": "x",
         "histfunc": "sum",
         "hovertemplate": "Country=Switzerland<br>Happiness Score=7.487<br>Overall rank=%{x}<br>sum of GDP_per_capita=%{y}<extra></extra>",
         "legendgroup": "Switzerland",
         "marker": {
          "color": "#FFA15A"
         },
         "name": "Switzerland",
         "offsetgroup": "Switzerland",
         "orientation": "v",
         "showlegend": true,
         "type": "histogram",
         "x": [
          5
         ],
         "xaxis": "x5",
         "y": [
          59019
         ],
         "yaxis": "y5"
        }
       ],
       "layout": {
        "annotations": [
         {
          "font": {},
          "showarrow": false,
          "text": "Happiness Score=7.632",
          "x": 0.09200000000000001,
          "xanchor": "center",
          "xref": "paper",
          "y": 1,
          "yanchor": "bottom",
          "yref": "paper"
         },
         {
          "font": {},
          "showarrow": false,
          "text": "Happiness Score=7.594",
          "x": 0.29600000000000004,
          "xanchor": "center",
          "xref": "paper",
          "y": 1,
          "yanchor": "bottom",
          "yref": "paper"
         },
         {
          "font": {},
          "showarrow": false,
          "text": "Happiness Score=7.555",
          "x": 0.5,
          "xanchor": "center",
          "xref": "paper",
          "y": 1,
          "yanchor": "bottom",
          "yref": "paper"
         },
         {
          "font": {},
          "showarrow": false,
          "text": "Happiness Score=7.495",
          "x": 0.7040000000000002,
          "xanchor": "center",
          "xref": "paper",
          "y": 1,
          "yanchor": "bottom",
          "yref": "paper"
         },
         {
          "font": {},
          "showarrow": false,
          "text": "Happiness Score=7.487",
          "x": 0.908,
          "xanchor": "center",
          "xref": "paper",
          "y": 1,
          "yanchor": "bottom",
          "yref": "paper"
         }
        ],
        "barmode": "relative",
        "legend": {
         "title": {
          "text": "Country"
         },
         "tracegroupgap": 0
        },
        "margin": {
         "t": 60
        },
        "template": {
         "data": {
          "bar": [
           {
            "error_x": {
             "color": "#2a3f5f"
            },
            "error_y": {
             "color": "#2a3f5f"
            },
            "marker": {
             "line": {
              "color": "#E5ECF6",
              "width": 0.5
             }
            },
            "type": "bar"
           }
          ],
          "barpolar": [
           {
            "marker": {
             "line": {
              "color": "#E5ECF6",
              "width": 0.5
             }
            },
            "type": "barpolar"
           }
          ],
          "carpet": [
           {
            "aaxis": {
             "endlinecolor": "#2a3f5f",
             "gridcolor": "white",
             "linecolor": "white",
             "minorgridcolor": "white",
             "startlinecolor": "#2a3f5f"
            },
            "baxis": {
             "endlinecolor": "#2a3f5f",
             "gridcolor": "white",
             "linecolor": "white",
             "minorgridcolor": "white",
             "startlinecolor": "#2a3f5f"
            },
            "type": "carpet"
           }
          ],
          "choropleth": [
           {
            "colorbar": {
             "outlinewidth": 0,
             "ticks": ""
            },
            "type": "choropleth"
           }
          ],
          "contour": [
           {
            "colorbar": {
             "outlinewidth": 0,
             "ticks": ""
            },
            "colorscale": [
             [
              0,
              "#0d0887"
             ],
             [
              0.1111111111111111,
              "#46039f"
             ],
             [
              0.2222222222222222,
              "#7201a8"
             ],
             [
              0.3333333333333333,
              "#9c179e"
             ],
             [
              0.4444444444444444,
              "#bd3786"
             ],
             [
              0.5555555555555556,
              "#d8576b"
             ],
             [
              0.6666666666666666,
              "#ed7953"
             ],
             [
              0.7777777777777778,
              "#fb9f3a"
             ],
             [
              0.8888888888888888,
              "#fdca26"
             ],
             [
              1,
              "#f0f921"
             ]
            ],
            "type": "contour"
           }
          ],
          "contourcarpet": [
           {
            "colorbar": {
             "outlinewidth": 0,
             "ticks": ""
            },
            "type": "contourcarpet"
           }
          ],
          "heatmap": [
           {
            "colorbar": {
             "outlinewidth": 0,
             "ticks": ""
            },
            "colorscale": [
             [
              0,
              "#0d0887"
             ],
             [
              0.1111111111111111,
              "#46039f"
             ],
             [
              0.2222222222222222,
              "#7201a8"
             ],
             [
              0.3333333333333333,
              "#9c179e"
             ],
             [
              0.4444444444444444,
              "#bd3786"
             ],
             [
              0.5555555555555556,
              "#d8576b"
             ],
             [
              0.6666666666666666,
              "#ed7953"
             ],
             [
              0.7777777777777778,
              "#fb9f3a"
             ],
             [
              0.8888888888888888,
              "#fdca26"
             ],
             [
              1,
              "#f0f921"
             ]
            ],
            "type": "heatmap"
           }
          ],
          "heatmapgl": [
           {
            "colorbar": {
             "outlinewidth": 0,
             "ticks": ""
            },
            "colorscale": [
             [
              0,
              "#0d0887"
             ],
             [
              0.1111111111111111,
              "#46039f"
             ],
             [
              0.2222222222222222,
              "#7201a8"
             ],
             [
              0.3333333333333333,
              "#9c179e"
             ],
             [
              0.4444444444444444,
              "#bd3786"
             ],
             [
              0.5555555555555556,
              "#d8576b"
             ],
             [
              0.6666666666666666,
              "#ed7953"
             ],
             [
              0.7777777777777778,
              "#fb9f3a"
             ],
             [
              0.8888888888888888,
              "#fdca26"
             ],
             [
              1,
              "#f0f921"
             ]
            ],
            "type": "heatmapgl"
           }
          ],
          "histogram": [
           {
            "marker": {
             "colorbar": {
              "outlinewidth": 0,
              "ticks": ""
             }
            },
            "type": "histogram"
           }
          ],
          "histogram2d": [
           {
            "colorbar": {
             "outlinewidth": 0,
             "ticks": ""
            },
            "colorscale": [
             [
              0,
              "#0d0887"
             ],
             [
              0.1111111111111111,
              "#46039f"
             ],
             [
              0.2222222222222222,
              "#7201a8"
             ],
             [
              0.3333333333333333,
              "#9c179e"
             ],
             [
              0.4444444444444444,
              "#bd3786"
             ],
             [
              0.5555555555555556,
              "#d8576b"
             ],
             [
              0.6666666666666666,
              "#ed7953"
             ],
             [
              0.7777777777777778,
              "#fb9f3a"
             ],
             [
              0.8888888888888888,
              "#fdca26"
             ],
             [
              1,
              "#f0f921"
             ]
            ],
            "type": "histogram2d"
           }
          ],
          "histogram2dcontour": [
           {
            "colorbar": {
             "outlinewidth": 0,
             "ticks": ""
            },
            "colorscale": [
             [
              0,
              "#0d0887"
             ],
             [
              0.1111111111111111,
              "#46039f"
             ],
             [
              0.2222222222222222,
              "#7201a8"
             ],
             [
              0.3333333333333333,
              "#9c179e"
             ],
             [
              0.4444444444444444,
              "#bd3786"
             ],
             [
              0.5555555555555556,
              "#d8576b"
             ],
             [
              0.6666666666666666,
              "#ed7953"
             ],
             [
              0.7777777777777778,
              "#fb9f3a"
             ],
             [
              0.8888888888888888,
              "#fdca26"
             ],
             [
              1,
              "#f0f921"
             ]
            ],
            "type": "histogram2dcontour"
           }
          ],
          "mesh3d": [
           {
            "colorbar": {
             "outlinewidth": 0,
             "ticks": ""
            },
            "type": "mesh3d"
           }
          ],
          "parcoords": [
           {
            "line": {
             "colorbar": {
              "outlinewidth": 0,
              "ticks": ""
             }
            },
            "type": "parcoords"
           }
          ],
          "pie": [
           {
            "automargin": true,
            "type": "pie"
           }
          ],
          "scatter": [
           {
            "marker": {
             "colorbar": {
              "outlinewidth": 0,
              "ticks": ""
             }
            },
            "type": "scatter"
           }
          ],
          "scatter3d": [
           {
            "line": {
             "colorbar": {
              "outlinewidth": 0,
              "ticks": ""
             }
            },
            "marker": {
             "colorbar": {
              "outlinewidth": 0,
              "ticks": ""
             }
            },
            "type": "scatter3d"
           }
          ],
          "scattercarpet": [
           {
            "marker": {
             "colorbar": {
              "outlinewidth": 0,
              "ticks": ""
             }
            },
            "type": "scattercarpet"
           }
          ],
          "scattergeo": [
           {
            "marker": {
             "colorbar": {
              "outlinewidth": 0,
              "ticks": ""
             }
            },
            "type": "scattergeo"
           }
          ],
          "scattergl": [
           {
            "marker": {
             "colorbar": {
              "outlinewidth": 0,
              "ticks": ""
             }
            },
            "type": "scattergl"
           }
          ],
          "scattermapbox": [
           {
            "marker": {
             "colorbar": {
              "outlinewidth": 0,
              "ticks": ""
             }
            },
            "type": "scattermapbox"
           }
          ],
          "scatterpolar": [
           {
            "marker": {
             "colorbar": {
              "outlinewidth": 0,
              "ticks": ""
             }
            },
            "type": "scatterpolar"
           }
          ],
          "scatterpolargl": [
           {
            "marker": {
             "colorbar": {
              "outlinewidth": 0,
              "ticks": ""
             }
            },
            "type": "scatterpolargl"
           }
          ],
          "scatterternary": [
           {
            "marker": {
             "colorbar": {
              "outlinewidth": 0,
              "ticks": ""
             }
            },
            "type": "scatterternary"
           }
          ],
          "surface": [
           {
            "colorbar": {
             "outlinewidth": 0,
             "ticks": ""
            },
            "colorscale": [
             [
              0,
              "#0d0887"
             ],
             [
              0.1111111111111111,
              "#46039f"
             ],
             [
              0.2222222222222222,
              "#7201a8"
             ],
             [
              0.3333333333333333,
              "#9c179e"
             ],
             [
              0.4444444444444444,
              "#bd3786"
             ],
             [
              0.5555555555555556,
              "#d8576b"
             ],
             [
              0.6666666666666666,
              "#ed7953"
             ],
             [
              0.7777777777777778,
              "#fb9f3a"
             ],
             [
              0.8888888888888888,
              "#fdca26"
             ],
             [
              1,
              "#f0f921"
             ]
            ],
            "type": "surface"
           }
          ],
          "table": [
           {
            "cells": {
             "fill": {
              "color": "#EBF0F8"
             },
             "line": {
              "color": "white"
             }
            },
            "header": {
             "fill": {
              "color": "#C8D4E3"
             },
             "line": {
              "color": "white"
             }
            },
            "type": "table"
           }
          ]
         },
         "layout": {
          "annotationdefaults": {
           "arrowcolor": "#2a3f5f",
           "arrowhead": 0,
           "arrowwidth": 1
          },
          "autotypenumbers": "strict",
          "coloraxis": {
           "colorbar": {
            "outlinewidth": 0,
            "ticks": ""
           }
          },
          "colorscale": {
           "diverging": [
            [
             0,
             "#8e0152"
            ],
            [
             0.1,
             "#c51b7d"
            ],
            [
             0.2,
             "#de77ae"
            ],
            [
             0.3,
             "#f1b6da"
            ],
            [
             0.4,
             "#fde0ef"
            ],
            [
             0.5,
             "#f7f7f7"
            ],
            [
             0.6,
             "#e6f5d0"
            ],
            [
             0.7,
             "#b8e186"
            ],
            [
             0.8,
             "#7fbc41"
            ],
            [
             0.9,
             "#4d9221"
            ],
            [
             1,
             "#276419"
            ]
           ],
           "sequential": [
            [
             0,
             "#0d0887"
            ],
            [
             0.1111111111111111,
             "#46039f"
            ],
            [
             0.2222222222222222,
             "#7201a8"
            ],
            [
             0.3333333333333333,
             "#9c179e"
            ],
            [
             0.4444444444444444,
             "#bd3786"
            ],
            [
             0.5555555555555556,
             "#d8576b"
            ],
            [
             0.6666666666666666,
             "#ed7953"
            ],
            [
             0.7777777777777778,
             "#fb9f3a"
            ],
            [
             0.8888888888888888,
             "#fdca26"
            ],
            [
             1,
             "#f0f921"
            ]
           ],
           "sequentialminus": [
            [
             0,
             "#0d0887"
            ],
            [
             0.1111111111111111,
             "#46039f"
            ],
            [
             0.2222222222222222,
             "#7201a8"
            ],
            [
             0.3333333333333333,
             "#9c179e"
            ],
            [
             0.4444444444444444,
             "#bd3786"
            ],
            [
             0.5555555555555556,
             "#d8576b"
            ],
            [
             0.6666666666666666,
             "#ed7953"
            ],
            [
             0.7777777777777778,
             "#fb9f3a"
            ],
            [
             0.8888888888888888,
             "#fdca26"
            ],
            [
             1,
             "#f0f921"
            ]
           ]
          },
          "colorway": [
           "#636efa",
           "#EF553B",
           "#00cc96",
           "#ab63fa",
           "#FFA15A",
           "#19d3f3",
           "#FF6692",
           "#B6E880",
           "#FF97FF",
           "#FECB52"
          ],
          "font": {
           "color": "#2a3f5f"
          },
          "geo": {
           "bgcolor": "white",
           "lakecolor": "white",
           "landcolor": "#E5ECF6",
           "showlakes": true,
           "showland": true,
           "subunitcolor": "white"
          },
          "hoverlabel": {
           "align": "left"
          },
          "hovermode": "closest",
          "mapbox": {
           "style": "light"
          },
          "paper_bgcolor": "white",
          "plot_bgcolor": "#E5ECF6",
          "polar": {
           "angularaxis": {
            "gridcolor": "white",
            "linecolor": "white",
            "ticks": ""
           },
           "bgcolor": "#E5ECF6",
           "radialaxis": {
            "gridcolor": "white",
            "linecolor": "white",
            "ticks": ""
           }
          },
          "scene": {
           "xaxis": {
            "backgroundcolor": "#E5ECF6",
            "gridcolor": "white",
            "gridwidth": 2,
            "linecolor": "white",
            "showbackground": true,
            "ticks": "",
            "zerolinecolor": "white"
           },
           "yaxis": {
            "backgroundcolor": "#E5ECF6",
            "gridcolor": "white",
            "gridwidth": 2,
            "linecolor": "white",
            "showbackground": true,
            "ticks": "",
            "zerolinecolor": "white"
           },
           "zaxis": {
            "backgroundcolor": "#E5ECF6",
            "gridcolor": "white",
            "gridwidth": 2,
            "linecolor": "white",
            "showbackground": true,
            "ticks": "",
            "zerolinecolor": "white"
           }
          },
          "shapedefaults": {
           "line": {
            "color": "#2a3f5f"
           }
          },
          "ternary": {
           "aaxis": {
            "gridcolor": "white",
            "linecolor": "white",
            "ticks": ""
           },
           "baxis": {
            "gridcolor": "white",
            "linecolor": "white",
            "ticks": ""
           },
           "bgcolor": "#E5ECF6",
           "caxis": {
            "gridcolor": "white",
            "linecolor": "white",
            "ticks": ""
           }
          },
          "title": {
           "x": 0.05
          },
          "xaxis": {
           "automargin": true,
           "gridcolor": "white",
           "linecolor": "white",
           "ticks": "",
           "title": {
            "standoff": 15
           },
           "zerolinecolor": "white",
           "zerolinewidth": 2
          },
          "yaxis": {
           "automargin": true,
           "gridcolor": "white",
           "linecolor": "white",
           "ticks": "",
           "title": {
            "standoff": 15
           },
           "zerolinecolor": "white",
           "zerolinewidth": 2
          }
         }
        },
        "xaxis": {
         "anchor": "y",
         "domain": [
          0,
          0.18400000000000002
         ],
         "title": {
          "text": "Overall rank"
         }
        },
        "xaxis2": {
         "anchor": "y2",
         "domain": [
          0.20400000000000001,
          0.388
         ],
         "matches": "x",
         "title": {
          "text": "Overall rank"
         }
        },
        "xaxis3": {
         "anchor": "y3",
         "domain": [
          0.40800000000000003,
          0.5920000000000001
         ],
         "matches": "x",
         "title": {
          "text": "Overall rank"
         }
        },
        "xaxis4": {
         "anchor": "y4",
         "domain": [
          0.6120000000000001,
          0.7960000000000002
         ],
         "matches": "x",
         "title": {
          "text": "Overall rank"
         }
        },
        "xaxis5": {
         "anchor": "y5",
         "domain": [
          0.8160000000000001,
          1
         ],
         "matches": "x",
         "title": {
          "text": "Overall rank"
         }
        },
        "yaxis": {
         "anchor": "x",
         "domain": [
          0,
          1
         ],
         "title": {
          "text": "sum of GDP_per_capita"
         }
        },
        "yaxis2": {
         "anchor": "x2",
         "domain": [
          0,
          1
         ],
         "matches": "y",
         "showticklabels": false
        },
        "yaxis3": {
         "anchor": "x3",
         "domain": [
          0,
          1
         ],
         "matches": "y",
         "showticklabels": false
        },
        "yaxis4": {
         "anchor": "x4",
         "domain": [
          0,
          1
         ],
         "matches": "y",
         "showticklabels": false
        },
        "yaxis5": {
         "anchor": "x5",
         "domain": [
          0,
          1
         ],
         "matches": "y",
         "showticklabels": false
        }
       }
      },
      "text/html": [
       "<div>                            <div id=\"7f0ad59b-96a8-42de-a481-0ca75c567370\" class=\"plotly-graph-div\" style=\"height:525px; width:100%;\"></div>            <script type=\"text/javascript\">                require([\"plotly\"], function(Plotly) {                    window.PLOTLYENV=window.PLOTLYENV || {};                                    if (document.getElementById(\"7f0ad59b-96a8-42de-a481-0ca75c567370\")) {                    Plotly.newPlot(                        \"7f0ad59b-96a8-42de-a481-0ca75c567370\",                        [{\"alignmentgroup\": \"True\", \"bingroup\": \"x\", \"histfunc\": \"sum\", \"hovertemplate\": \"Country=Finland<br>Happiness Score=7.632<br>Overall rank=%{x}<br>sum of GDP_per_capita=%{y}<extra></extra>\", \"legendgroup\": \"Finland\", \"marker\": {\"color\": \"#636efa\"}, \"name\": \"Finland\", \"offsetgroup\": \"Finland\", \"orientation\": \"v\", \"showlegend\": true, \"type\": \"histogram\", \"x\": [1], \"xaxis\": \"x\", \"y\": [41899.0], \"yaxis\": \"y\"}, {\"alignmentgroup\": \"True\", \"bingroup\": \"x\", \"histfunc\": \"sum\", \"hovertemplate\": \"Country=Norway<br>Happiness Score=7.594<br>Overall rank=%{x}<br>sum of GDP_per_capita=%{y}<extra></extra>\", \"legendgroup\": \"Norway\", \"marker\": {\"color\": \"#EF553B\"}, \"name\": \"Norway\", \"offsetgroup\": \"Norway\", \"orientation\": \"v\", \"showlegend\": true, \"type\": \"histogram\", \"x\": [2], \"xaxis\": \"x2\", \"y\": [65441.0], \"yaxis\": \"y2\"}, {\"alignmentgroup\": \"True\", \"bingroup\": \"x\", \"histfunc\": \"sum\", \"hovertemplate\": \"Country=Denmark<br>Happiness Score=7.555<br>Overall rank=%{x}<br>sum of GDP_per_capita=%{y}<extra></extra>\", \"legendgroup\": \"Denmark\", \"marker\": {\"color\": \"#00cc96\"}, \"name\": \"Denmark\", \"offsetgroup\": \"Denmark\", \"orientation\": \"v\", \"showlegend\": true, \"type\": \"histogram\", \"x\": [3], \"xaxis\": \"x3\", \"y\": [47673.0], \"yaxis\": \"y3\"}, {\"alignmentgroup\": \"True\", \"bingroup\": \"x\", \"histfunc\": \"sum\", \"hovertemplate\": \"Country=Iceland<br>Happiness Score=7.495<br>Overall rank=%{x}<br>sum of GDP_per_capita=%{y}<extra></extra>\", \"legendgroup\": \"Iceland\", \"marker\": {\"color\": \"#ab63fa\"}, \"name\": \"Iceland\", \"offsetgroup\": \"Iceland\", \"orientation\": \"v\", \"showlegend\": true, \"type\": \"histogram\", \"x\": [4], \"xaxis\": \"x4\", \"y\": [48606.0], \"yaxis\": \"y4\"}, {\"alignmentgroup\": \"True\", \"bingroup\": \"x\", \"histfunc\": \"sum\", \"hovertemplate\": \"Country=Switzerland<br>Happiness Score=7.487<br>Overall rank=%{x}<br>sum of GDP_per_capita=%{y}<extra></extra>\", \"legendgroup\": \"Switzerland\", \"marker\": {\"color\": \"#FFA15A\"}, \"name\": \"Switzerland\", \"offsetgroup\": \"Switzerland\", \"orientation\": \"v\", \"showlegend\": true, \"type\": \"histogram\", \"x\": [5], \"xaxis\": \"x5\", \"y\": [59019.0], \"yaxis\": \"y5\"}],                        {\"annotations\": [{\"font\": {}, \"showarrow\": false, \"text\": \"Happiness Score=7.632\", \"x\": 0.09200000000000001, \"xanchor\": \"center\", \"xref\": \"paper\", \"y\": 1.0, \"yanchor\": \"bottom\", \"yref\": \"paper\"}, {\"font\": {}, \"showarrow\": false, \"text\": \"Happiness Score=7.594\", \"x\": 0.29600000000000004, \"xanchor\": \"center\", \"xref\": \"paper\", \"y\": 1.0, \"yanchor\": \"bottom\", \"yref\": \"paper\"}, {\"font\": {}, \"showarrow\": false, \"text\": \"Happiness Score=7.555\", \"x\": 0.5, \"xanchor\": \"center\", \"xref\": \"paper\", \"y\": 1.0, \"yanchor\": \"bottom\", \"yref\": \"paper\"}, {\"font\": {}, \"showarrow\": false, \"text\": \"Happiness Score=7.495\", \"x\": 0.7040000000000002, \"xanchor\": \"center\", \"xref\": \"paper\", \"y\": 1.0, \"yanchor\": \"bottom\", \"yref\": \"paper\"}, {\"font\": {}, \"showarrow\": false, \"text\": \"Happiness Score=7.487\", \"x\": 0.908, \"xanchor\": \"center\", \"xref\": \"paper\", \"y\": 1.0, \"yanchor\": \"bottom\", \"yref\": \"paper\"}], \"barmode\": \"relative\", \"legend\": {\"title\": {\"text\": \"Country\"}, \"tracegroupgap\": 0}, \"margin\": {\"t\": 60}, \"template\": {\"data\": {\"bar\": [{\"error_x\": {\"color\": \"#2a3f5f\"}, \"error_y\": {\"color\": \"#2a3f5f\"}, \"marker\": {\"line\": {\"color\": \"#E5ECF6\", \"width\": 0.5}}, \"type\": \"bar\"}], \"barpolar\": [{\"marker\": {\"line\": {\"color\": \"#E5ECF6\", \"width\": 0.5}}, \"type\": \"barpolar\"}], \"carpet\": [{\"aaxis\": {\"endlinecolor\": \"#2a3f5f\", \"gridcolor\": \"white\", \"linecolor\": \"white\", \"minorgridcolor\": \"white\", \"startlinecolor\": \"#2a3f5f\"}, \"baxis\": {\"endlinecolor\": \"#2a3f5f\", \"gridcolor\": \"white\", \"linecolor\": \"white\", \"minorgridcolor\": \"white\", \"startlinecolor\": \"#2a3f5f\"}, \"type\": \"carpet\"}], \"choropleth\": [{\"colorbar\": {\"outlinewidth\": 0, \"ticks\": \"\"}, \"type\": \"choropleth\"}], \"contour\": [{\"colorbar\": {\"outlinewidth\": 0, \"ticks\": \"\"}, \"colorscale\": [[0.0, \"#0d0887\"], [0.1111111111111111, \"#46039f\"], [0.2222222222222222, \"#7201a8\"], [0.3333333333333333, \"#9c179e\"], [0.4444444444444444, \"#bd3786\"], [0.5555555555555556, \"#d8576b\"], [0.6666666666666666, \"#ed7953\"], [0.7777777777777778, \"#fb9f3a\"], [0.8888888888888888, \"#fdca26\"], [1.0, \"#f0f921\"]], \"type\": \"contour\"}], \"contourcarpet\": [{\"colorbar\": {\"outlinewidth\": 0, \"ticks\": \"\"}, \"type\": \"contourcarpet\"}], \"heatmap\": [{\"colorbar\": {\"outlinewidth\": 0, \"ticks\": \"\"}, \"colorscale\": [[0.0, \"#0d0887\"], [0.1111111111111111, \"#46039f\"], [0.2222222222222222, \"#7201a8\"], [0.3333333333333333, \"#9c179e\"], [0.4444444444444444, \"#bd3786\"], [0.5555555555555556, \"#d8576b\"], [0.6666666666666666, \"#ed7953\"], [0.7777777777777778, \"#fb9f3a\"], [0.8888888888888888, \"#fdca26\"], [1.0, \"#f0f921\"]], \"type\": \"heatmap\"}], \"heatmapgl\": [{\"colorbar\": {\"outlinewidth\": 0, \"ticks\": \"\"}, \"colorscale\": [[0.0, \"#0d0887\"], [0.1111111111111111, \"#46039f\"], [0.2222222222222222, \"#7201a8\"], [0.3333333333333333, \"#9c179e\"], [0.4444444444444444, \"#bd3786\"], [0.5555555555555556, \"#d8576b\"], [0.6666666666666666, \"#ed7953\"], [0.7777777777777778, \"#fb9f3a\"], [0.8888888888888888, \"#fdca26\"], [1.0, \"#f0f921\"]], \"type\": \"heatmapgl\"}], \"histogram\": [{\"marker\": {\"colorbar\": {\"outlinewidth\": 0, \"ticks\": \"\"}}, \"type\": \"histogram\"}], \"histogram2d\": [{\"colorbar\": {\"outlinewidth\": 0, \"ticks\": \"\"}, \"colorscale\": [[0.0, \"#0d0887\"], [0.1111111111111111, \"#46039f\"], [0.2222222222222222, \"#7201a8\"], [0.3333333333333333, \"#9c179e\"], [0.4444444444444444, \"#bd3786\"], [0.5555555555555556, \"#d8576b\"], [0.6666666666666666, \"#ed7953\"], [0.7777777777777778, \"#fb9f3a\"], [0.8888888888888888, \"#fdca26\"], [1.0, \"#f0f921\"]], \"type\": \"histogram2d\"}], \"histogram2dcontour\": [{\"colorbar\": {\"outlinewidth\": 0, \"ticks\": \"\"}, \"colorscale\": [[0.0, \"#0d0887\"], [0.1111111111111111, \"#46039f\"], [0.2222222222222222, \"#7201a8\"], [0.3333333333333333, \"#9c179e\"], [0.4444444444444444, \"#bd3786\"], [0.5555555555555556, \"#d8576b\"], [0.6666666666666666, \"#ed7953\"], [0.7777777777777778, \"#fb9f3a\"], [0.8888888888888888, \"#fdca26\"], [1.0, \"#f0f921\"]], \"type\": \"histogram2dcontour\"}], \"mesh3d\": [{\"colorbar\": {\"outlinewidth\": 0, \"ticks\": \"\"}, \"type\": \"mesh3d\"}], \"parcoords\": [{\"line\": {\"colorbar\": {\"outlinewidth\": 0, \"ticks\": \"\"}}, \"type\": \"parcoords\"}], \"pie\": [{\"automargin\": true, \"type\": \"pie\"}], \"scatter\": [{\"marker\": {\"colorbar\": {\"outlinewidth\": 0, \"ticks\": \"\"}}, \"type\": \"scatter\"}], \"scatter3d\": [{\"line\": {\"colorbar\": {\"outlinewidth\": 0, \"ticks\": \"\"}}, \"marker\": {\"colorbar\": {\"outlinewidth\": 0, \"ticks\": \"\"}}, \"type\": \"scatter3d\"}], \"scattercarpet\": [{\"marker\": {\"colorbar\": {\"outlinewidth\": 0, \"ticks\": \"\"}}, \"type\": \"scattercarpet\"}], \"scattergeo\": [{\"marker\": {\"colorbar\": {\"outlinewidth\": 0, \"ticks\": \"\"}}, \"type\": \"scattergeo\"}], \"scattergl\": [{\"marker\": {\"colorbar\": {\"outlinewidth\": 0, \"ticks\": \"\"}}, \"type\": \"scattergl\"}], \"scattermapbox\": [{\"marker\": {\"colorbar\": {\"outlinewidth\": 0, \"ticks\": \"\"}}, \"type\": \"scattermapbox\"}], \"scatterpolar\": [{\"marker\": {\"colorbar\": {\"outlinewidth\": 0, \"ticks\": \"\"}}, \"type\": \"scatterpolar\"}], \"scatterpolargl\": [{\"marker\": {\"colorbar\": {\"outlinewidth\": 0, \"ticks\": \"\"}}, \"type\": \"scatterpolargl\"}], \"scatterternary\": [{\"marker\": {\"colorbar\": {\"outlinewidth\": 0, \"ticks\": \"\"}}, \"type\": \"scatterternary\"}], \"surface\": [{\"colorbar\": {\"outlinewidth\": 0, \"ticks\": \"\"}, \"colorscale\": [[0.0, \"#0d0887\"], [0.1111111111111111, \"#46039f\"], [0.2222222222222222, \"#7201a8\"], [0.3333333333333333, \"#9c179e\"], [0.4444444444444444, \"#bd3786\"], [0.5555555555555556, \"#d8576b\"], [0.6666666666666666, \"#ed7953\"], [0.7777777777777778, \"#fb9f3a\"], [0.8888888888888888, \"#fdca26\"], [1.0, \"#f0f921\"]], \"type\": \"surface\"}], \"table\": [{\"cells\": {\"fill\": {\"color\": \"#EBF0F8\"}, \"line\": {\"color\": \"white\"}}, \"header\": {\"fill\": {\"color\": \"#C8D4E3\"}, \"line\": {\"color\": \"white\"}}, \"type\": \"table\"}]}, \"layout\": {\"annotationdefaults\": {\"arrowcolor\": \"#2a3f5f\", \"arrowhead\": 0, \"arrowwidth\": 1}, \"autotypenumbers\": \"strict\", \"coloraxis\": {\"colorbar\": {\"outlinewidth\": 0, \"ticks\": \"\"}}, \"colorscale\": {\"diverging\": [[0, \"#8e0152\"], [0.1, \"#c51b7d\"], [0.2, \"#de77ae\"], [0.3, \"#f1b6da\"], [0.4, \"#fde0ef\"], [0.5, \"#f7f7f7\"], [0.6, \"#e6f5d0\"], [0.7, \"#b8e186\"], [0.8, \"#7fbc41\"], [0.9, \"#4d9221\"], [1, \"#276419\"]], \"sequential\": [[0.0, \"#0d0887\"], [0.1111111111111111, \"#46039f\"], [0.2222222222222222, \"#7201a8\"], [0.3333333333333333, \"#9c179e\"], [0.4444444444444444, \"#bd3786\"], [0.5555555555555556, \"#d8576b\"], [0.6666666666666666, \"#ed7953\"], [0.7777777777777778, \"#fb9f3a\"], [0.8888888888888888, \"#fdca26\"], [1.0, \"#f0f921\"]], \"sequentialminus\": [[0.0, \"#0d0887\"], [0.1111111111111111, \"#46039f\"], [0.2222222222222222, \"#7201a8\"], [0.3333333333333333, \"#9c179e\"], [0.4444444444444444, \"#bd3786\"], [0.5555555555555556, \"#d8576b\"], [0.6666666666666666, \"#ed7953\"], [0.7777777777777778, \"#fb9f3a\"], [0.8888888888888888, \"#fdca26\"], [1.0, \"#f0f921\"]]}, \"colorway\": [\"#636efa\", \"#EF553B\", \"#00cc96\", \"#ab63fa\", \"#FFA15A\", \"#19d3f3\", \"#FF6692\", \"#B6E880\", \"#FF97FF\", \"#FECB52\"], \"font\": {\"color\": \"#2a3f5f\"}, \"geo\": {\"bgcolor\": \"white\", \"lakecolor\": \"white\", \"landcolor\": \"#E5ECF6\", \"showlakes\": true, \"showland\": true, \"subunitcolor\": \"white\"}, \"hoverlabel\": {\"align\": \"left\"}, \"hovermode\": \"closest\", \"mapbox\": {\"style\": \"light\"}, \"paper_bgcolor\": \"white\", \"plot_bgcolor\": \"#E5ECF6\", \"polar\": {\"angularaxis\": {\"gridcolor\": \"white\", \"linecolor\": \"white\", \"ticks\": \"\"}, \"bgcolor\": \"#E5ECF6\", \"radialaxis\": {\"gridcolor\": \"white\", \"linecolor\": \"white\", \"ticks\": \"\"}}, \"scene\": {\"xaxis\": {\"backgroundcolor\": \"#E5ECF6\", \"gridcolor\": \"white\", \"gridwidth\": 2, \"linecolor\": \"white\", \"showbackground\": true, \"ticks\": \"\", \"zerolinecolor\": \"white\"}, \"yaxis\": {\"backgroundcolor\": \"#E5ECF6\", \"gridcolor\": \"white\", \"gridwidth\": 2, \"linecolor\": \"white\", \"showbackground\": true, \"ticks\": \"\", \"zerolinecolor\": \"white\"}, \"zaxis\": {\"backgroundcolor\": \"#E5ECF6\", \"gridcolor\": \"white\", \"gridwidth\": 2, \"linecolor\": \"white\", \"showbackground\": true, \"ticks\": \"\", \"zerolinecolor\": \"white\"}}, \"shapedefaults\": {\"line\": {\"color\": \"#2a3f5f\"}}, \"ternary\": {\"aaxis\": {\"gridcolor\": \"white\", \"linecolor\": \"white\", \"ticks\": \"\"}, \"baxis\": {\"gridcolor\": \"white\", \"linecolor\": \"white\", \"ticks\": \"\"}, \"bgcolor\": \"#E5ECF6\", \"caxis\": {\"gridcolor\": \"white\", \"linecolor\": \"white\", \"ticks\": \"\"}}, \"title\": {\"x\": 0.05}, \"xaxis\": {\"automargin\": true, \"gridcolor\": \"white\", \"linecolor\": \"white\", \"ticks\": \"\", \"title\": {\"standoff\": 15}, \"zerolinecolor\": \"white\", \"zerolinewidth\": 2}, \"yaxis\": {\"automargin\": true, \"gridcolor\": \"white\", \"linecolor\": \"white\", \"ticks\": \"\", \"title\": {\"standoff\": 15}, \"zerolinecolor\": \"white\", \"zerolinewidth\": 2}}}, \"xaxis\": {\"anchor\": \"y\", \"domain\": [0.0, 0.18400000000000002], \"title\": {\"text\": \"Overall rank\"}}, \"xaxis2\": {\"anchor\": \"y2\", \"domain\": [0.20400000000000001, 0.388], \"matches\": \"x\", \"title\": {\"text\": \"Overall rank\"}}, \"xaxis3\": {\"anchor\": \"y3\", \"domain\": [0.40800000000000003, 0.5920000000000001], \"matches\": \"x\", \"title\": {\"text\": \"Overall rank\"}}, \"xaxis4\": {\"anchor\": \"y4\", \"domain\": [0.6120000000000001, 0.7960000000000002], \"matches\": \"x\", \"title\": {\"text\": \"Overall rank\"}}, \"xaxis5\": {\"anchor\": \"y5\", \"domain\": [0.8160000000000001, 1.0], \"matches\": \"x\", \"title\": {\"text\": \"Overall rank\"}}, \"yaxis\": {\"anchor\": \"x\", \"domain\": [0.0, 1.0], \"title\": {\"text\": \"sum of GDP_per_capita\"}}, \"yaxis2\": {\"anchor\": \"x2\", \"domain\": [0.0, 1.0], \"matches\": \"y\", \"showticklabels\": false}, \"yaxis3\": {\"anchor\": \"x3\", \"domain\": [0.0, 1.0], \"matches\": \"y\", \"showticklabels\": false}, \"yaxis4\": {\"anchor\": \"x4\", \"domain\": [0.0, 1.0], \"matches\": \"y\", \"showticklabels\": false}, \"yaxis5\": {\"anchor\": \"x5\", \"domain\": [0.0, 1.0], \"matches\": \"y\", \"showticklabels\": false}},                        {\"responsive\": true}                    ).then(function(){\n",
       "                            \n",
       "var gd = document.getElementById('7f0ad59b-96a8-42de-a481-0ca75c567370');\n",
       "var x = new MutationObserver(function (mutations, observer) {{\n",
       "        var display = window.getComputedStyle(gd).display;\n",
       "        if (!display || display === 'none') {{\n",
       "            console.log([gd, 'removed!']);\n",
       "            Plotly.purge(gd);\n",
       "            observer.disconnect();\n",
       "        }}\n",
       "}});\n",
       "\n",
       "// Listen for the removal of the full notebook cells\n",
       "var notebookContainer = gd.closest('#notebook-container');\n",
       "if (notebookContainer) {{\n",
       "    x.observe(notebookContainer, {childList: true});\n",
       "}}\n",
       "\n",
       "// Listen for the clearing of the current output cell\n",
       "var outputEl = gd.closest('.output');\n",
       "if (outputEl) {{\n",
       "    x.observe(outputEl, {childList: true});\n",
       "}}\n",
       "\n",
       "                        })                };                });            </script>        </div>"
      ]
     },
     "metadata": {},
     "output_type": "display_data"
    }
   ],
   "source": [
    "#fig = px.line(data.head(20), x=\"Maximun Personal Income Tax\", y=\"Happiness Score\", facet_col=\"Country\", \n",
    "            # facet_col_wrap=5, title=\"Title\")\n",
    "\n",
    "px.histogram(data.head(5), x=\"Overall rank\", y=\"GDP_per_capita\", color=\"Country\",\n",
    "            facet_col=\"Happiness Score\" ) "
   ]
  },
  {
   "cell_type": "markdown",
   "metadata": {},
   "source": [
    "# New visualizations for article at current spot "
   ]
  },
  {
   "cell_type": "markdown",
   "metadata": {},
   "source": [
    "## Figure 1"
   ]
  },
  {
   "cell_type": "code",
   "execution_count": 21,
   "metadata": {
    "ExecuteTime": {
     "end_time": "2021-02-17T09:37:22.367918Z",
     "start_time": "2021-02-17T09:37:22.350190Z"
    },
    "collapsed": true
   },
   "outputs": [
    {
     "data": {
      "application/vnd.plotly.v1+json": {
       "config": {
        "plotlyServerURL": "https://plot.ly"
       },
       "data": [
        {
         "marker": {
          "color": [
           7.632,
           7.594,
           7.555,
           7.495,
           7.487,
           7.441,
           7.328,
           7.324,
           7.314,
           7.272,
           7.191,
           7.139,
           7.072,
           6.977,
           6.965,
           6.927,
           6.911,
           6.886,
           6.814,
           6.774,
           6.711,
           6.627,
           6.489,
           6.488,
           6.476,
           6.441,
           6.431,
           6.419,
           6.388,
           6.382,
           6.379,
           6.374,
           6.371,
           6.343,
           6.322,
           6.311,
           6.261,
           6.192,
           6.173,
           6.167,
           6.141,
           6.123,
           6.105,
           6.096,
           6.083,
           6.072,
           6.011,
           5.973,
           5.956,
           5.952,
           5.948,
           5.945,
           5.933,
           5.915,
           5.891,
           5.891,
           5.875,
           5.835,
           5.811,
           5.791,
           5.762,
           5.752,
           5.739,
           5.681,
           5.663,
           5.662,
           5.641,
           5.636,
           5.621,
           5.566,
           5.524,
           5.504,
           5.483,
           5.483,
           5.472,
           5.431,
           5.411,
           5.398,
           5.358,
           5.358,
           5.347,
           5.321,
           5.302,
           5.295,
           5.254,
           5.246,
           5.201,
           5.199,
           5.185,
           5.161,
           5.155,
           5.131,
           5.129,
           5.125,
           5.103,
           5.093,
           5.082,
           4.982,
           4.975,
           4.933,
           4.881,
           4.806,
           4.758,
           4.743,
           4.724,
           4.707,
           4.671,
           4.657,
           4.631,
           4.623,
           4.592,
           4.586,
           4.571,
           4.559,
           4.511,
           4.471,
           4.456,
           4.447,
           4.441,
           4.433,
           4.424,
           4.419,
           4.417,
           4.411,
           4.377,
           4.356,
           4.351,
           4.341,
           4.321,
           4.308,
           4.301,
           4.245,
           4.191,
           4.166,
           4.161,
           4.141,
           4.139,
           4.103,
           3.999,
           3.964,
           3.808,
           3.795,
           3.774,
           3.692,
           3.632,
           3.591,
           3.587,
           3.582,
           3.495,
           3.462,
           3.408,
           3.355,
           3.303,
           3.254,
           3.083,
           2.905
          ],
          "showscale": true
         },
         "mode": "markers",
         "text": [
          "Finland",
          "Norway",
          "Denmark",
          "Iceland",
          "Switzerland",
          "Netherlands",
          "Canada",
          "New Zealand",
          "Sweden",
          "Australia",
          "United Kingdom",
          "Austria",
          "Costa Rica",
          "Ireland",
          "Germany",
          "Belgium",
          "Luxembourg",
          "United States",
          "Israel",
          "United Arab Emirates",
          "Czech Republic",
          "Malta",
          "France",
          "Mexico",
          "Chile",
          "Taiwan",
          "Panama",
          "Brazil",
          "Argentina",
          "Guatemala",
          "Uruguay",
          "Qatar",
          "Saudi Arabia",
          "Singapore",
          "Malaysia",
          "Spain",
          "Colombia",
          "Trinidad & Tobago",
          "Slovakia",
          "El Salvador",
          "Nicaragua",
          "Poland",
          "Bahrain",
          "Uzbekistan",
          "Kuwait",
          "Thailand",
          "Italy",
          "Ecuador",
          "Belize",
          "Lithuania",
          "Slovenia",
          "Romania",
          "Latvia",
          "Japan",
          "Mauritius",
          "Jamaica",
          "South Korea",
          "Northern Cyprus",
          "Russia",
          "Kazakhstan",
          "Cyprus",
          "Bolivia",
          "Estonia",
          "Paraguay",
          "Peru",
          "Kosovo",
          "Moldova",
          "Turkmenistan",
          "Hungary",
          "Libya",
          "Philippines",
          "Honduras",
          "Belarus",
          "Turkey",
          "Pakistan",
          "Hong Kong",
          "Portugal",
          "Serbia",
          "Greece",
          "Lebanon",
          "Montenegro",
          "Croatia",
          "Dominican Republic",
          "Algeria",
          "Morocco",
          "China",
          "Azerbaijan",
          "Tajikistan",
          "Macedonia",
          "Jordan",
          "Nigeria",
          "Kyrgyzstan",
          "Bosnia and Herzegovina",
          "Mongolia",
          "Vietnam",
          "Indonesia",
          "Bhutan",
          "Somalia",
          "Cameroon",
          "Bulgaria",
          "Nepal",
          "Venezuela",
          "Gabon",
          "Palestinian Territories",
          "South Africa",
          "Iran",
          "Ivory Coast",
          "Ghana",
          "Senegal",
          "Laos",
          "Tunisia",
          "Albania",
          "Sierra Leone",
          "Congo (Brazzaville)",
          "Bangladesh",
          "Sri Lanka",
          "Iraq",
          "Mali",
          "Namibia",
          "Cambodia",
          "Burkina Faso",
          "Egypt",
          "Mozambique",
          "Kenya",
          "Zambia",
          "Mauritania",
          "Ethiopia",
          "Georgia",
          "Armenia",
          "Myanmar",
          "Chad",
          "Congo (Kinshasa)",
          "India",
          "Niger",
          "Uganda",
          "Benin",
          "Sudan",
          "Ukraine",
          "Togo",
          "Guinea",
          "Lesotho",
          "Angola",
          "Madagascar",
          "Zimbabwe",
          "Afghanistan",
          "Botswana",
          "Malawi",
          "Haiti",
          "Liberia",
          "Syria",
          "Rwanda",
          "Yemen",
          "Tanzania",
          "South Sudan",
          "Central African Republic",
          "Burundi"
         ],
         "type": "scatter",
         "x": [
          "Finland",
          "Norway",
          "Denmark",
          "Iceland",
          "Switzerland",
          "Netherlands",
          "Canada",
          "New Zealand",
          "Sweden",
          "Australia",
          "United Kingdom",
          "Austria",
          "Costa Rica",
          "Ireland",
          "Germany",
          "Belgium",
          "Luxembourg",
          "United States",
          "Israel",
          "United Arab Emirates",
          "Czech Republic",
          "Malta",
          "France",
          "Mexico",
          "Chile"
         ],
         "y": [
          7.632,
          7.594,
          7.555,
          7.495,
          7.487,
          7.441,
          7.328,
          7.324,
          7.314,
          7.272,
          7.191,
          7.139,
          7.072,
          6.977,
          6.965,
          6.927,
          6.911,
          6.886,
          6.814,
          6.774,
          6.711,
          6.627,
          6.489,
          6.488,
          6.476,
          6.441,
          6.431,
          6.419,
          6.388,
          6.382,
          6.379,
          6.374,
          6.371,
          6.343,
          6.322,
          6.311,
          6.261,
          6.192,
          6.173,
          6.167,
          6.141,
          6.123,
          6.105,
          6.096,
          6.083,
          6.072,
          6.011,
          5.973,
          5.956,
          5.952,
          5.948,
          5.945,
          5.933,
          5.915,
          5.891,
          5.891,
          5.875,
          5.835,
          5.811,
          5.791,
          5.762,
          5.752,
          5.739,
          5.681,
          5.663,
          5.662,
          5.641,
          5.636,
          5.621,
          5.566,
          5.524,
          5.504,
          5.483,
          5.483,
          5.472,
          5.431,
          5.411,
          5.398,
          5.358,
          5.358,
          5.347,
          5.321,
          5.302,
          5.295,
          5.254,
          5.246,
          5.201,
          5.199,
          5.185,
          5.161,
          5.155,
          5.131,
          5.129,
          5.125,
          5.103,
          5.093,
          5.082,
          4.982,
          4.975,
          4.933,
          4.881,
          4.806,
          4.758,
          4.743,
          4.724,
          4.707,
          4.671,
          4.657,
          4.631,
          4.623,
          4.592,
          4.586,
          4.571,
          4.559,
          4.511,
          4.471,
          4.456,
          4.447,
          4.441,
          4.433,
          4.424,
          4.419,
          4.417,
          4.411,
          4.377,
          4.356,
          4.351,
          4.341,
          4.321,
          4.308,
          4.301,
          4.245,
          4.191,
          4.166,
          4.161,
          4.141,
          4.139,
          4.103,
          3.999,
          3.964,
          3.808,
          3.795,
          3.774,
          3.692,
          3.632,
          3.591,
          3.587,
          3.582,
          3.495,
          3.462,
          3.408,
          3.355,
          3.303,
          3.254,
          3.083,
          2.905
         ]
        }
       ],
       "layout": {
        "template": {
         "data": {
          "bar": [
           {
            "error_x": {
             "color": "#2a3f5f"
            },
            "error_y": {
             "color": "#2a3f5f"
            },
            "marker": {
             "line": {
              "color": "#E5ECF6",
              "width": 0.5
             }
            },
            "type": "bar"
           }
          ],
          "barpolar": [
           {
            "marker": {
             "line": {
              "color": "#E5ECF6",
              "width": 0.5
             }
            },
            "type": "barpolar"
           }
          ],
          "carpet": [
           {
            "aaxis": {
             "endlinecolor": "#2a3f5f",
             "gridcolor": "white",
             "linecolor": "white",
             "minorgridcolor": "white",
             "startlinecolor": "#2a3f5f"
            },
            "baxis": {
             "endlinecolor": "#2a3f5f",
             "gridcolor": "white",
             "linecolor": "white",
             "minorgridcolor": "white",
             "startlinecolor": "#2a3f5f"
            },
            "type": "carpet"
           }
          ],
          "choropleth": [
           {
            "colorbar": {
             "outlinewidth": 0,
             "ticks": ""
            },
            "type": "choropleth"
           }
          ],
          "contour": [
           {
            "colorbar": {
             "outlinewidth": 0,
             "ticks": ""
            },
            "colorscale": [
             [
              0,
              "#0d0887"
             ],
             [
              0.1111111111111111,
              "#46039f"
             ],
             [
              0.2222222222222222,
              "#7201a8"
             ],
             [
              0.3333333333333333,
              "#9c179e"
             ],
             [
              0.4444444444444444,
              "#bd3786"
             ],
             [
              0.5555555555555556,
              "#d8576b"
             ],
             [
              0.6666666666666666,
              "#ed7953"
             ],
             [
              0.7777777777777778,
              "#fb9f3a"
             ],
             [
              0.8888888888888888,
              "#fdca26"
             ],
             [
              1,
              "#f0f921"
             ]
            ],
            "type": "contour"
           }
          ],
          "contourcarpet": [
           {
            "colorbar": {
             "outlinewidth": 0,
             "ticks": ""
            },
            "type": "contourcarpet"
           }
          ],
          "heatmap": [
           {
            "colorbar": {
             "outlinewidth": 0,
             "ticks": ""
            },
            "colorscale": [
             [
              0,
              "#0d0887"
             ],
             [
              0.1111111111111111,
              "#46039f"
             ],
             [
              0.2222222222222222,
              "#7201a8"
             ],
             [
              0.3333333333333333,
              "#9c179e"
             ],
             [
              0.4444444444444444,
              "#bd3786"
             ],
             [
              0.5555555555555556,
              "#d8576b"
             ],
             [
              0.6666666666666666,
              "#ed7953"
             ],
             [
              0.7777777777777778,
              "#fb9f3a"
             ],
             [
              0.8888888888888888,
              "#fdca26"
             ],
             [
              1,
              "#f0f921"
             ]
            ],
            "type": "heatmap"
           }
          ],
          "heatmapgl": [
           {
            "colorbar": {
             "outlinewidth": 0,
             "ticks": ""
            },
            "colorscale": [
             [
              0,
              "#0d0887"
             ],
             [
              0.1111111111111111,
              "#46039f"
             ],
             [
              0.2222222222222222,
              "#7201a8"
             ],
             [
              0.3333333333333333,
              "#9c179e"
             ],
             [
              0.4444444444444444,
              "#bd3786"
             ],
             [
              0.5555555555555556,
              "#d8576b"
             ],
             [
              0.6666666666666666,
              "#ed7953"
             ],
             [
              0.7777777777777778,
              "#fb9f3a"
             ],
             [
              0.8888888888888888,
              "#fdca26"
             ],
             [
              1,
              "#f0f921"
             ]
            ],
            "type": "heatmapgl"
           }
          ],
          "histogram": [
           {
            "marker": {
             "colorbar": {
              "outlinewidth": 0,
              "ticks": ""
             }
            },
            "type": "histogram"
           }
          ],
          "histogram2d": [
           {
            "colorbar": {
             "outlinewidth": 0,
             "ticks": ""
            },
            "colorscale": [
             [
              0,
              "#0d0887"
             ],
             [
              0.1111111111111111,
              "#46039f"
             ],
             [
              0.2222222222222222,
              "#7201a8"
             ],
             [
              0.3333333333333333,
              "#9c179e"
             ],
             [
              0.4444444444444444,
              "#bd3786"
             ],
             [
              0.5555555555555556,
              "#d8576b"
             ],
             [
              0.6666666666666666,
              "#ed7953"
             ],
             [
              0.7777777777777778,
              "#fb9f3a"
             ],
             [
              0.8888888888888888,
              "#fdca26"
             ],
             [
              1,
              "#f0f921"
             ]
            ],
            "type": "histogram2d"
           }
          ],
          "histogram2dcontour": [
           {
            "colorbar": {
             "outlinewidth": 0,
             "ticks": ""
            },
            "colorscale": [
             [
              0,
              "#0d0887"
             ],
             [
              0.1111111111111111,
              "#46039f"
             ],
             [
              0.2222222222222222,
              "#7201a8"
             ],
             [
              0.3333333333333333,
              "#9c179e"
             ],
             [
              0.4444444444444444,
              "#bd3786"
             ],
             [
              0.5555555555555556,
              "#d8576b"
             ],
             [
              0.6666666666666666,
              "#ed7953"
             ],
             [
              0.7777777777777778,
              "#fb9f3a"
             ],
             [
              0.8888888888888888,
              "#fdca26"
             ],
             [
              1,
              "#f0f921"
             ]
            ],
            "type": "histogram2dcontour"
           }
          ],
          "mesh3d": [
           {
            "colorbar": {
             "outlinewidth": 0,
             "ticks": ""
            },
            "type": "mesh3d"
           }
          ],
          "parcoords": [
           {
            "line": {
             "colorbar": {
              "outlinewidth": 0,
              "ticks": ""
             }
            },
            "type": "parcoords"
           }
          ],
          "pie": [
           {
            "automargin": true,
            "type": "pie"
           }
          ],
          "scatter": [
           {
            "marker": {
             "colorbar": {
              "outlinewidth": 0,
              "ticks": ""
             }
            },
            "type": "scatter"
           }
          ],
          "scatter3d": [
           {
            "line": {
             "colorbar": {
              "outlinewidth": 0,
              "ticks": ""
             }
            },
            "marker": {
             "colorbar": {
              "outlinewidth": 0,
              "ticks": ""
             }
            },
            "type": "scatter3d"
           }
          ],
          "scattercarpet": [
           {
            "marker": {
             "colorbar": {
              "outlinewidth": 0,
              "ticks": ""
             }
            },
            "type": "scattercarpet"
           }
          ],
          "scattergeo": [
           {
            "marker": {
             "colorbar": {
              "outlinewidth": 0,
              "ticks": ""
             }
            },
            "type": "scattergeo"
           }
          ],
          "scattergl": [
           {
            "marker": {
             "colorbar": {
              "outlinewidth": 0,
              "ticks": ""
             }
            },
            "type": "scattergl"
           }
          ],
          "scattermapbox": [
           {
            "marker": {
             "colorbar": {
              "outlinewidth": 0,
              "ticks": ""
             }
            },
            "type": "scattermapbox"
           }
          ],
          "scatterpolar": [
           {
            "marker": {
             "colorbar": {
              "outlinewidth": 0,
              "ticks": ""
             }
            },
            "type": "scatterpolar"
           }
          ],
          "scatterpolargl": [
           {
            "marker": {
             "colorbar": {
              "outlinewidth": 0,
              "ticks": ""
             }
            },
            "type": "scatterpolargl"
           }
          ],
          "scatterternary": [
           {
            "marker": {
             "colorbar": {
              "outlinewidth": 0,
              "ticks": ""
             }
            },
            "type": "scatterternary"
           }
          ],
          "surface": [
           {
            "colorbar": {
             "outlinewidth": 0,
             "ticks": ""
            },
            "colorscale": [
             [
              0,
              "#0d0887"
             ],
             [
              0.1111111111111111,
              "#46039f"
             ],
             [
              0.2222222222222222,
              "#7201a8"
             ],
             [
              0.3333333333333333,
              "#9c179e"
             ],
             [
              0.4444444444444444,
              "#bd3786"
             ],
             [
              0.5555555555555556,
              "#d8576b"
             ],
             [
              0.6666666666666666,
              "#ed7953"
             ],
             [
              0.7777777777777778,
              "#fb9f3a"
             ],
             [
              0.8888888888888888,
              "#fdca26"
             ],
             [
              1,
              "#f0f921"
             ]
            ],
            "type": "surface"
           }
          ],
          "table": [
           {
            "cells": {
             "fill": {
              "color": "#EBF0F8"
             },
             "line": {
              "color": "white"
             }
            },
            "header": {
             "fill": {
              "color": "#C8D4E3"
             },
             "line": {
              "color": "white"
             }
            },
            "type": "table"
           }
          ]
         },
         "layout": {
          "annotationdefaults": {
           "arrowcolor": "#2a3f5f",
           "arrowhead": 0,
           "arrowwidth": 1
          },
          "autotypenumbers": "strict",
          "coloraxis": {
           "colorbar": {
            "outlinewidth": 0,
            "ticks": ""
           }
          },
          "colorscale": {
           "diverging": [
            [
             0,
             "#8e0152"
            ],
            [
             0.1,
             "#c51b7d"
            ],
            [
             0.2,
             "#de77ae"
            ],
            [
             0.3,
             "#f1b6da"
            ],
            [
             0.4,
             "#fde0ef"
            ],
            [
             0.5,
             "#f7f7f7"
            ],
            [
             0.6,
             "#e6f5d0"
            ],
            [
             0.7,
             "#b8e186"
            ],
            [
             0.8,
             "#7fbc41"
            ],
            [
             0.9,
             "#4d9221"
            ],
            [
             1,
             "#276419"
            ]
           ],
           "sequential": [
            [
             0,
             "#0d0887"
            ],
            [
             0.1111111111111111,
             "#46039f"
            ],
            [
             0.2222222222222222,
             "#7201a8"
            ],
            [
             0.3333333333333333,
             "#9c179e"
            ],
            [
             0.4444444444444444,
             "#bd3786"
            ],
            [
             0.5555555555555556,
             "#d8576b"
            ],
            [
             0.6666666666666666,
             "#ed7953"
            ],
            [
             0.7777777777777778,
             "#fb9f3a"
            ],
            [
             0.8888888888888888,
             "#fdca26"
            ],
            [
             1,
             "#f0f921"
            ]
           ],
           "sequentialminus": [
            [
             0,
             "#0d0887"
            ],
            [
             0.1111111111111111,
             "#46039f"
            ],
            [
             0.2222222222222222,
             "#7201a8"
            ],
            [
             0.3333333333333333,
             "#9c179e"
            ],
            [
             0.4444444444444444,
             "#bd3786"
            ],
            [
             0.5555555555555556,
             "#d8576b"
            ],
            [
             0.6666666666666666,
             "#ed7953"
            ],
            [
             0.7777777777777778,
             "#fb9f3a"
            ],
            [
             0.8888888888888888,
             "#fdca26"
            ],
            [
             1,
             "#f0f921"
            ]
           ]
          },
          "colorway": [
           "#636efa",
           "#EF553B",
           "#00cc96",
           "#ab63fa",
           "#FFA15A",
           "#19d3f3",
           "#FF6692",
           "#B6E880",
           "#FF97FF",
           "#FECB52"
          ],
          "font": {
           "color": "#2a3f5f"
          },
          "geo": {
           "bgcolor": "white",
           "lakecolor": "white",
           "landcolor": "#E5ECF6",
           "showlakes": true,
           "showland": true,
           "subunitcolor": "white"
          },
          "hoverlabel": {
           "align": "left"
          },
          "hovermode": "closest",
          "mapbox": {
           "style": "light"
          },
          "paper_bgcolor": "white",
          "plot_bgcolor": "#E5ECF6",
          "polar": {
           "angularaxis": {
            "gridcolor": "white",
            "linecolor": "white",
            "ticks": ""
           },
           "bgcolor": "#E5ECF6",
           "radialaxis": {
            "gridcolor": "white",
            "linecolor": "white",
            "ticks": ""
           }
          },
          "scene": {
           "xaxis": {
            "backgroundcolor": "#E5ECF6",
            "gridcolor": "white",
            "gridwidth": 2,
            "linecolor": "white",
            "showbackground": true,
            "ticks": "",
            "zerolinecolor": "white"
           },
           "yaxis": {
            "backgroundcolor": "#E5ECF6",
            "gridcolor": "white",
            "gridwidth": 2,
            "linecolor": "white",
            "showbackground": true,
            "ticks": "",
            "zerolinecolor": "white"
           },
           "zaxis": {
            "backgroundcolor": "#E5ECF6",
            "gridcolor": "white",
            "gridwidth": 2,
            "linecolor": "white",
            "showbackground": true,
            "ticks": "",
            "zerolinecolor": "white"
           }
          },
          "shapedefaults": {
           "line": {
            "color": "#2a3f5f"
           }
          },
          "ternary": {
           "aaxis": {
            "gridcolor": "white",
            "linecolor": "white",
            "ticks": ""
           },
           "baxis": {
            "gridcolor": "white",
            "linecolor": "white",
            "ticks": ""
           },
           "bgcolor": "#E5ECF6",
           "caxis": {
            "gridcolor": "white",
            "linecolor": "white",
            "ticks": ""
           }
          },
          "title": {
           "x": 0.05
          },
          "xaxis": {
           "automargin": true,
           "gridcolor": "white",
           "linecolor": "white",
           "ticks": "",
           "title": {
            "standoff": 15
           },
           "zerolinecolor": "white",
           "zerolinewidth": 2
          },
          "yaxis": {
           "automargin": true,
           "gridcolor": "white",
           "linecolor": "white",
           "ticks": "",
           "title": {
            "standoff": 15
           },
           "zerolinecolor": "white",
           "zerolinewidth": 2
          }
         }
        },
        "xaxis": {
         "tickangle": -45
        }
       }
      },
      "text/html": [
       "<div>                            <div id=\"5707606e-4ca0-4352-bda5-194c44562897\" class=\"plotly-graph-div\" style=\"height:525px; width:100%;\"></div>            <script type=\"text/javascript\">                require([\"plotly\"], function(Plotly) {                    window.PLOTLYENV=window.PLOTLYENV || {};                                    if (document.getElementById(\"5707606e-4ca0-4352-bda5-194c44562897\")) {                    Plotly.newPlot(                        \"5707606e-4ca0-4352-bda5-194c44562897\",                        [{\"marker\": {\"color\": [7.632, 7.594, 7.555, 7.495, 7.487, 7.441, 7.328, 7.324, 7.314, 7.272, 7.191, 7.139, 7.072, 6.977, 6.965, 6.927, 6.911, 6.886, 6.814, 6.774, 6.711, 6.627, 6.489, 6.488, 6.476, 6.441, 6.431, 6.419, 6.388, 6.382, 6.379, 6.374, 6.371, 6.343, 6.322, 6.311, 6.261, 6.192, 6.173, 6.167, 6.141, 6.123, 6.105, 6.096, 6.083, 6.072, 6.011, 5.973, 5.956, 5.952, 5.948, 5.945, 5.933, 5.915, 5.891, 5.891, 5.875, 5.835, 5.811, 5.791, 5.762, 5.752, 5.739, 5.681, 5.663, 5.662, 5.641, 5.636, 5.621, 5.566, 5.524, 5.504, 5.483, 5.483, 5.472, 5.431, 5.411, 5.398, 5.358, 5.358, 5.347, 5.321, 5.302, 5.295, 5.254, 5.246, 5.201, 5.199, 5.185, 5.161, 5.155, 5.131, 5.129, 5.125, 5.103, 5.093, 5.082, 4.982, 4.975, 4.933, 4.881, 4.806, 4.758, 4.743, 4.724, 4.707, 4.671, 4.657, 4.631, 4.623, 4.592, 4.586, 4.571, 4.559, 4.511, 4.471, 4.456, 4.447, 4.441, 4.433, 4.424, 4.419, 4.417, 4.411, 4.377, 4.356, 4.351, 4.341, 4.321, 4.308, 4.301, 4.245, 4.191, 4.166, 4.161, 4.141, 4.139, 4.103, 3.999, 3.964, 3.808, 3.795, 3.774, 3.692, 3.632, 3.591, 3.587, 3.582, 3.495, 3.462, 3.408, 3.355, 3.303, 3.254, 3.083, 2.905], \"showscale\": true}, \"mode\": \"markers\", \"text\": [\"Finland\", \"Norway\", \"Denmark\", \"Iceland\", \"Switzerland\", \"Netherlands\", \"Canada\", \"New Zealand\", \"Sweden\", \"Australia\", \"United Kingdom\", \"Austria\", \"Costa Rica\", \"Ireland\", \"Germany\", \"Belgium\", \"Luxembourg\", \"United States\", \"Israel\", \"United Arab Emirates\", \"Czech Republic\", \"Malta\", \"France\", \"Mexico\", \"Chile\", \"Taiwan\", \"Panama\", \"Brazil\", \"Argentina\", \"Guatemala\", \"Uruguay\", \"Qatar\", \"Saudi Arabia\", \"Singapore\", \"Malaysia\", \"Spain\", \"Colombia\", \"Trinidad & Tobago\", \"Slovakia\", \"El Salvador\", \"Nicaragua\", \"Poland\", \"Bahrain\", \"Uzbekistan\", \"Kuwait\", \"Thailand\", \"Italy\", \"Ecuador\", \"Belize\", \"Lithuania\", \"Slovenia\", \"Romania\", \"Latvia\", \"Japan\", \"Mauritius\", \"Jamaica\", \"South Korea\", \"Northern Cyprus\", \"Russia\", \"Kazakhstan\", \"Cyprus\", \"Bolivia\", \"Estonia\", \"Paraguay\", \"Peru\", \"Kosovo\", \"Moldova\", \"Turkmenistan\", \"Hungary\", \"Libya\", \"Philippines\", \"Honduras\", \"Belarus\", \"Turkey\", \"Pakistan\", \"Hong Kong\", \"Portugal\", \"Serbia\", \"Greece\", \"Lebanon\", \"Montenegro\", \"Croatia\", \"Dominican Republic\", \"Algeria\", \"Morocco\", \"China\", \"Azerbaijan\", \"Tajikistan\", \"Macedonia\", \"Jordan\", \"Nigeria\", \"Kyrgyzstan\", \"Bosnia and Herzegovina\", \"Mongolia\", \"Vietnam\", \"Indonesia\", \"Bhutan\", \"Somalia\", \"Cameroon\", \"Bulgaria\", \"Nepal\", \"Venezuela\", \"Gabon\", \"Palestinian Territories\", \"South Africa\", \"Iran\", \"Ivory Coast\", \"Ghana\", \"Senegal\", \"Laos\", \"Tunisia\", \"Albania\", \"Sierra Leone\", \"Congo (Brazzaville)\", \"Bangladesh\", \"Sri Lanka\", \"Iraq\", \"Mali\", \"Namibia\", \"Cambodia\", \"Burkina Faso\", \"Egypt\", \"Mozambique\", \"Kenya\", \"Zambia\", \"Mauritania\", \"Ethiopia\", \"Georgia\", \"Armenia\", \"Myanmar\", \"Chad\", \"Congo (Kinshasa)\", \"India\", \"Niger\", \"Uganda\", \"Benin\", \"Sudan\", \"Ukraine\", \"Togo\", \"Guinea\", \"Lesotho\", \"Angola\", \"Madagascar\", \"Zimbabwe\", \"Afghanistan\", \"Botswana\", \"Malawi\", \"Haiti\", \"Liberia\", \"Syria\", \"Rwanda\", \"Yemen\", \"Tanzania\", \"South Sudan\", \"Central African Republic\", \"Burundi\"], \"type\": \"scatter\", \"x\": [\"Finland\", \"Norway\", \"Denmark\", \"Iceland\", \"Switzerland\", \"Netherlands\", \"Canada\", \"New Zealand\", \"Sweden\", \"Australia\", \"United Kingdom\", \"Austria\", \"Costa Rica\", \"Ireland\", \"Germany\", \"Belgium\", \"Luxembourg\", \"United States\", \"Israel\", \"United Arab Emirates\", \"Czech Republic\", \"Malta\", \"France\", \"Mexico\", \"Chile\"], \"y\": [7.632, 7.594, 7.555, 7.495, 7.487, 7.441, 7.328, 7.324, 7.314, 7.272, 7.191, 7.139, 7.072, 6.977, 6.965, 6.927, 6.911, 6.886, 6.814, 6.774, 6.711, 6.627, 6.489, 6.488, 6.476, 6.441, 6.431, 6.419, 6.388, 6.382, 6.379, 6.374, 6.371, 6.343, 6.322, 6.311, 6.261, 6.192, 6.173, 6.167, 6.141, 6.123, 6.105, 6.096, 6.083, 6.072, 6.011, 5.973, 5.956, 5.952, 5.948, 5.945, 5.933, 5.915, 5.891, 5.891, 5.875, 5.835, 5.811, 5.791, 5.762, 5.752, 5.739, 5.681, 5.663, 5.662, 5.641, 5.636, 5.621, 5.566, 5.524, 5.504, 5.483, 5.483, 5.472, 5.431, 5.411, 5.398, 5.358, 5.358, 5.347, 5.321, 5.302, 5.295, 5.254, 5.246, 5.201, 5.199, 5.185, 5.161, 5.155, 5.131, 5.129, 5.125, 5.103, 5.093, 5.082, 4.982, 4.975, 4.933, 4.881, 4.806, 4.758, 4.743, 4.724, 4.707, 4.671, 4.657, 4.631, 4.623, 4.592, 4.586, 4.571, 4.559, 4.511, 4.471, 4.456, 4.447, 4.441, 4.433, 4.424, 4.419, 4.417, 4.411, 4.377, 4.356, 4.351, 4.341, 4.321, 4.308, 4.301, 4.245, 4.191, 4.166, 4.161, 4.141, 4.139, 4.103, 3.999, 3.964, 3.808, 3.795, 3.774, 3.692, 3.632, 3.591, 3.587, 3.582, 3.495, 3.462, 3.408, 3.355, 3.303, 3.254, 3.083, 2.905]}],                        {\"template\": {\"data\": {\"bar\": [{\"error_x\": {\"color\": \"#2a3f5f\"}, \"error_y\": {\"color\": \"#2a3f5f\"}, \"marker\": {\"line\": {\"color\": \"#E5ECF6\", \"width\": 0.5}}, \"type\": \"bar\"}], \"barpolar\": [{\"marker\": {\"line\": {\"color\": \"#E5ECF6\", \"width\": 0.5}}, \"type\": \"barpolar\"}], \"carpet\": [{\"aaxis\": {\"endlinecolor\": \"#2a3f5f\", \"gridcolor\": \"white\", \"linecolor\": \"white\", \"minorgridcolor\": \"white\", \"startlinecolor\": \"#2a3f5f\"}, \"baxis\": {\"endlinecolor\": \"#2a3f5f\", \"gridcolor\": \"white\", \"linecolor\": \"white\", \"minorgridcolor\": \"white\", \"startlinecolor\": \"#2a3f5f\"}, \"type\": \"carpet\"}], \"choropleth\": [{\"colorbar\": {\"outlinewidth\": 0, \"ticks\": \"\"}, \"type\": \"choropleth\"}], \"contour\": [{\"colorbar\": {\"outlinewidth\": 0, \"ticks\": \"\"}, \"colorscale\": [[0.0, \"#0d0887\"], [0.1111111111111111, \"#46039f\"], [0.2222222222222222, \"#7201a8\"], [0.3333333333333333, \"#9c179e\"], [0.4444444444444444, \"#bd3786\"], [0.5555555555555556, \"#d8576b\"], [0.6666666666666666, \"#ed7953\"], [0.7777777777777778, \"#fb9f3a\"], [0.8888888888888888, \"#fdca26\"], [1.0, \"#f0f921\"]], \"type\": \"contour\"}], \"contourcarpet\": [{\"colorbar\": {\"outlinewidth\": 0, \"ticks\": \"\"}, \"type\": \"contourcarpet\"}], \"heatmap\": [{\"colorbar\": {\"outlinewidth\": 0, \"ticks\": \"\"}, \"colorscale\": [[0.0, \"#0d0887\"], [0.1111111111111111, \"#46039f\"], [0.2222222222222222, \"#7201a8\"], [0.3333333333333333, \"#9c179e\"], [0.4444444444444444, \"#bd3786\"], [0.5555555555555556, \"#d8576b\"], [0.6666666666666666, \"#ed7953\"], [0.7777777777777778, \"#fb9f3a\"], [0.8888888888888888, \"#fdca26\"], [1.0, \"#f0f921\"]], \"type\": \"heatmap\"}], \"heatmapgl\": [{\"colorbar\": {\"outlinewidth\": 0, \"ticks\": \"\"}, \"colorscale\": [[0.0, \"#0d0887\"], [0.1111111111111111, \"#46039f\"], [0.2222222222222222, \"#7201a8\"], [0.3333333333333333, \"#9c179e\"], [0.4444444444444444, \"#bd3786\"], [0.5555555555555556, \"#d8576b\"], [0.6666666666666666, \"#ed7953\"], [0.7777777777777778, \"#fb9f3a\"], [0.8888888888888888, \"#fdca26\"], [1.0, \"#f0f921\"]], \"type\": \"heatmapgl\"}], \"histogram\": [{\"marker\": {\"colorbar\": {\"outlinewidth\": 0, \"ticks\": \"\"}}, \"type\": \"histogram\"}], \"histogram2d\": [{\"colorbar\": {\"outlinewidth\": 0, \"ticks\": \"\"}, \"colorscale\": [[0.0, \"#0d0887\"], [0.1111111111111111, \"#46039f\"], [0.2222222222222222, \"#7201a8\"], [0.3333333333333333, \"#9c179e\"], [0.4444444444444444, \"#bd3786\"], [0.5555555555555556, \"#d8576b\"], [0.6666666666666666, \"#ed7953\"], [0.7777777777777778, \"#fb9f3a\"], [0.8888888888888888, \"#fdca26\"], [1.0, \"#f0f921\"]], \"type\": \"histogram2d\"}], \"histogram2dcontour\": [{\"colorbar\": {\"outlinewidth\": 0, \"ticks\": \"\"}, \"colorscale\": [[0.0, \"#0d0887\"], [0.1111111111111111, \"#46039f\"], [0.2222222222222222, \"#7201a8\"], [0.3333333333333333, \"#9c179e\"], [0.4444444444444444, \"#bd3786\"], [0.5555555555555556, \"#d8576b\"], [0.6666666666666666, \"#ed7953\"], [0.7777777777777778, \"#fb9f3a\"], [0.8888888888888888, \"#fdca26\"], [1.0, \"#f0f921\"]], \"type\": \"histogram2dcontour\"}], \"mesh3d\": [{\"colorbar\": {\"outlinewidth\": 0, \"ticks\": \"\"}, \"type\": \"mesh3d\"}], \"parcoords\": [{\"line\": {\"colorbar\": {\"outlinewidth\": 0, \"ticks\": \"\"}}, \"type\": \"parcoords\"}], \"pie\": [{\"automargin\": true, \"type\": \"pie\"}], \"scatter\": [{\"marker\": {\"colorbar\": {\"outlinewidth\": 0, \"ticks\": \"\"}}, \"type\": \"scatter\"}], \"scatter3d\": [{\"line\": {\"colorbar\": {\"outlinewidth\": 0, \"ticks\": \"\"}}, \"marker\": {\"colorbar\": {\"outlinewidth\": 0, \"ticks\": \"\"}}, \"type\": \"scatter3d\"}], \"scattercarpet\": [{\"marker\": {\"colorbar\": {\"outlinewidth\": 0, \"ticks\": \"\"}}, \"type\": \"scattercarpet\"}], \"scattergeo\": [{\"marker\": {\"colorbar\": {\"outlinewidth\": 0, \"ticks\": \"\"}}, \"type\": \"scattergeo\"}], \"scattergl\": [{\"marker\": {\"colorbar\": {\"outlinewidth\": 0, \"ticks\": \"\"}}, \"type\": \"scattergl\"}], \"scattermapbox\": [{\"marker\": {\"colorbar\": {\"outlinewidth\": 0, \"ticks\": \"\"}}, \"type\": \"scattermapbox\"}], \"scatterpolar\": [{\"marker\": {\"colorbar\": {\"outlinewidth\": 0, \"ticks\": \"\"}}, \"type\": \"scatterpolar\"}], \"scatterpolargl\": [{\"marker\": {\"colorbar\": {\"outlinewidth\": 0, \"ticks\": \"\"}}, \"type\": \"scatterpolargl\"}], \"scatterternary\": [{\"marker\": {\"colorbar\": {\"outlinewidth\": 0, \"ticks\": \"\"}}, \"type\": \"scatterternary\"}], \"surface\": [{\"colorbar\": {\"outlinewidth\": 0, \"ticks\": \"\"}, \"colorscale\": [[0.0, \"#0d0887\"], [0.1111111111111111, \"#46039f\"], [0.2222222222222222, \"#7201a8\"], [0.3333333333333333, \"#9c179e\"], [0.4444444444444444, \"#bd3786\"], [0.5555555555555556, \"#d8576b\"], [0.6666666666666666, \"#ed7953\"], [0.7777777777777778, \"#fb9f3a\"], [0.8888888888888888, \"#fdca26\"], [1.0, \"#f0f921\"]], \"type\": \"surface\"}], \"table\": [{\"cells\": {\"fill\": {\"color\": \"#EBF0F8\"}, \"line\": {\"color\": \"white\"}}, \"header\": {\"fill\": {\"color\": \"#C8D4E3\"}, \"line\": {\"color\": \"white\"}}, \"type\": \"table\"}]}, \"layout\": {\"annotationdefaults\": {\"arrowcolor\": \"#2a3f5f\", \"arrowhead\": 0, \"arrowwidth\": 1}, \"autotypenumbers\": \"strict\", \"coloraxis\": {\"colorbar\": {\"outlinewidth\": 0, \"ticks\": \"\"}}, \"colorscale\": {\"diverging\": [[0, \"#8e0152\"], [0.1, \"#c51b7d\"], [0.2, \"#de77ae\"], [0.3, \"#f1b6da\"], [0.4, \"#fde0ef\"], [0.5, \"#f7f7f7\"], [0.6, \"#e6f5d0\"], [0.7, \"#b8e186\"], [0.8, \"#7fbc41\"], [0.9, \"#4d9221\"], [1, \"#276419\"]], \"sequential\": [[0.0, \"#0d0887\"], [0.1111111111111111, \"#46039f\"], [0.2222222222222222, \"#7201a8\"], [0.3333333333333333, \"#9c179e\"], [0.4444444444444444, \"#bd3786\"], [0.5555555555555556, \"#d8576b\"], [0.6666666666666666, \"#ed7953\"], [0.7777777777777778, \"#fb9f3a\"], [0.8888888888888888, \"#fdca26\"], [1.0, \"#f0f921\"]], \"sequentialminus\": [[0.0, \"#0d0887\"], [0.1111111111111111, \"#46039f\"], [0.2222222222222222, \"#7201a8\"], [0.3333333333333333, \"#9c179e\"], [0.4444444444444444, \"#bd3786\"], [0.5555555555555556, \"#d8576b\"], [0.6666666666666666, \"#ed7953\"], [0.7777777777777778, \"#fb9f3a\"], [0.8888888888888888, \"#fdca26\"], [1.0, \"#f0f921\"]]}, \"colorway\": [\"#636efa\", \"#EF553B\", \"#00cc96\", \"#ab63fa\", \"#FFA15A\", \"#19d3f3\", \"#FF6692\", \"#B6E880\", \"#FF97FF\", \"#FECB52\"], \"font\": {\"color\": \"#2a3f5f\"}, \"geo\": {\"bgcolor\": \"white\", \"lakecolor\": \"white\", \"landcolor\": \"#E5ECF6\", \"showlakes\": true, \"showland\": true, \"subunitcolor\": \"white\"}, \"hoverlabel\": {\"align\": \"left\"}, \"hovermode\": \"closest\", \"mapbox\": {\"style\": \"light\"}, \"paper_bgcolor\": \"white\", \"plot_bgcolor\": \"#E5ECF6\", \"polar\": {\"angularaxis\": {\"gridcolor\": \"white\", \"linecolor\": \"white\", \"ticks\": \"\"}, \"bgcolor\": \"#E5ECF6\", \"radialaxis\": {\"gridcolor\": \"white\", \"linecolor\": \"white\", \"ticks\": \"\"}}, \"scene\": {\"xaxis\": {\"backgroundcolor\": \"#E5ECF6\", \"gridcolor\": \"white\", \"gridwidth\": 2, \"linecolor\": \"white\", \"showbackground\": true, \"ticks\": \"\", \"zerolinecolor\": \"white\"}, \"yaxis\": {\"backgroundcolor\": \"#E5ECF6\", \"gridcolor\": \"white\", \"gridwidth\": 2, \"linecolor\": \"white\", \"showbackground\": true, \"ticks\": \"\", \"zerolinecolor\": \"white\"}, \"zaxis\": {\"backgroundcolor\": \"#E5ECF6\", \"gridcolor\": \"white\", \"gridwidth\": 2, \"linecolor\": \"white\", \"showbackground\": true, \"ticks\": \"\", \"zerolinecolor\": \"white\"}}, \"shapedefaults\": {\"line\": {\"color\": \"#2a3f5f\"}}, \"ternary\": {\"aaxis\": {\"gridcolor\": \"white\", \"linecolor\": \"white\", \"ticks\": \"\"}, \"baxis\": {\"gridcolor\": \"white\", \"linecolor\": \"white\", \"ticks\": \"\"}, \"bgcolor\": \"#E5ECF6\", \"caxis\": {\"gridcolor\": \"white\", \"linecolor\": \"white\", \"ticks\": \"\"}}, \"title\": {\"x\": 0.05}, \"xaxis\": {\"automargin\": true, \"gridcolor\": \"white\", \"linecolor\": \"white\", \"ticks\": \"\", \"title\": {\"standoff\": 15}, \"zerolinecolor\": \"white\", \"zerolinewidth\": 2}, \"yaxis\": {\"automargin\": true, \"gridcolor\": \"white\", \"linecolor\": \"white\", \"ticks\": \"\", \"title\": {\"standoff\": 15}, \"zerolinecolor\": \"white\", \"zerolinewidth\": 2}}}, \"xaxis\": {\"tickangle\": -45}},                        {\"responsive\": true}                    ).then(function(){\n",
       "                            \n",
       "var gd = document.getElementById('5707606e-4ca0-4352-bda5-194c44562897');\n",
       "var x = new MutationObserver(function (mutations, observer) {{\n",
       "        var display = window.getComputedStyle(gd).display;\n",
       "        if (!display || display === 'none') {{\n",
       "            console.log([gd, 'removed!']);\n",
       "            Plotly.purge(gd);\n",
       "            observer.disconnect();\n",
       "        }}\n",
       "}});\n",
       "\n",
       "// Listen for the removal of the full notebook cells\n",
       "var notebookContainer = gd.closest('#notebook-container');\n",
       "if (notebookContainer) {{\n",
       "    x.observe(notebookContainer, {childList: true});\n",
       "}}\n",
       "\n",
       "// Listen for the clearing of the current output cell\n",
       "var outputEl = gd.closest('.output');\n",
       "if (outputEl) {{\n",
       "    x.observe(outputEl, {childList: true});\n",
       "}}\n",
       "\n",
       "                        })                };                });            </script>        </div>"
      ]
     },
     "metadata": {},
     "output_type": "display_data"
    }
   ],
   "source": [
    "# for showing happiest country and least happy, scatter plot of the data \n",
    "\n",
    "#we now want to customize it and we create a figure \n",
    "fig = go.Figure()\n",
    "#we add a trace this time,  markers are the dots and we can also do some styling on them\n",
    "fig.add_trace(go.Scatter(\n",
    "    x=data1.Country.head(25), y=data1[\"Happiness Score\"],\n",
    "    mode=\"markers\", marker_color=data1[\"Happiness Score\"], text=data1.Country, \n",
    "    marker=dict(showscale = True)))\n",
    "\n",
    "fig.update_layout(xaxis_tickangle=-45)"
   ]
  },
  {
   "cell_type": "code",
   "execution_count": null,
   "metadata": {
    "ExecuteTime": {
     "end_time": "2021-02-16T10:52:32.789842Z",
     "start_time": "2021-02-16T10:52:32.767142Z"
    },
    "scrolled": true
   },
   "outputs": [],
   "source": []
  },
  {
   "cell_type": "markdown",
   "metadata": {},
   "source": [
    "## Figure 2 Showing happiness per capita "
   ]
  },
  {
   "cell_type": "code",
   "execution_count": 19,
   "metadata": {
    "ExecuteTime": {
     "end_time": "2021-02-17T09:30:29.119667Z",
     "start_time": "2021-02-17T09:30:28.997983Z"
    }
   },
   "outputs": [
    {
     "data": {
      "application/vnd.plotly.v1+json": {
       "config": {
        "plotlyServerURL": "https://plot.ly"
       },
       "data": [
        {
         "coloraxis": "coloraxis",
         "geo": "geo",
         "hovertemplate": "<b>%{hovertext}</b><br><br>Country=%{location}<br>Happiness Score=%{z}<extra></extra>",
         "hovertext": [
          "Finland",
          "Norway",
          "Denmark",
          "Iceland",
          "Switzerland",
          "Netherlands",
          "Canada",
          "New Zealand",
          "Sweden",
          "Australia",
          "United Kingdom",
          "Austria",
          "Costa Rica",
          "Ireland",
          "Germany",
          "Belgium",
          "Luxembourg",
          "United States",
          "Israel",
          "United Arab Emirates",
          "Czech Republic",
          "Malta",
          "France",
          "Mexico",
          "Chile",
          "Taiwan",
          "Panama",
          "Brazil",
          "Argentina",
          "Guatemala",
          "Uruguay",
          "Qatar",
          "Saudi Arabia",
          "Singapore",
          "Malaysia",
          "Spain",
          "Colombia",
          "Trinidad & Tobago",
          "Slovakia",
          "El Salvador",
          "Nicaragua",
          "Poland",
          "Bahrain",
          "Uzbekistan",
          "Kuwait",
          "Thailand",
          "Italy",
          "Ecuador",
          "Belize",
          "Lithuania",
          "Slovenia",
          "Romania",
          "Latvia",
          "Japan",
          "Mauritius",
          "Jamaica",
          "South Korea",
          "Northern Cyprus",
          "Russia",
          "Kazakhstan",
          "Cyprus",
          "Bolivia",
          "Estonia",
          "Paraguay",
          "Peru",
          "Kosovo",
          "Moldova",
          "Turkmenistan",
          "Hungary",
          "Libya",
          "Philippines",
          "Honduras",
          "Belarus",
          "Turkey",
          "Pakistan",
          "Hong Kong",
          "Portugal",
          "Serbia",
          "Greece",
          "Lebanon",
          "Montenegro",
          "Croatia",
          "Dominican Republic",
          "Algeria",
          "Morocco",
          "China",
          "Azerbaijan",
          "Tajikistan",
          "Macedonia",
          "Jordan",
          "Nigeria",
          "Kyrgyzstan",
          "Bosnia and Herzegovina",
          "Mongolia",
          "Vietnam",
          "Indonesia",
          "Bhutan",
          "Somalia",
          "Cameroon",
          "Bulgaria",
          "Nepal",
          "Venezuela",
          "Gabon",
          "Palestinian Territories",
          "South Africa",
          "Iran",
          "Ivory Coast",
          "Ghana",
          "Senegal",
          "Laos",
          "Tunisia",
          "Albania",
          "Sierra Leone",
          "Congo (Brazzaville)",
          "Bangladesh",
          "Sri Lanka",
          "Iraq",
          "Mali",
          "Namibia",
          "Cambodia",
          "Burkina Faso",
          "Egypt",
          "Mozambique",
          "Kenya",
          "Zambia",
          "Mauritania",
          "Ethiopia",
          "Georgia",
          "Armenia",
          "Myanmar",
          "Chad",
          "Congo (Kinshasa)",
          "India",
          "Niger",
          "Uganda",
          "Benin",
          "Sudan",
          "Ukraine",
          "Togo",
          "Guinea",
          "Lesotho",
          "Angola",
          "Madagascar",
          "Zimbabwe",
          "Afghanistan",
          "Botswana",
          "Malawi",
          "Haiti",
          "Liberia",
          "Syria",
          "Rwanda",
          "Yemen",
          "Tanzania",
          "South Sudan",
          "Central African Republic",
          "Burundi"
         ],
         "locationmode": "country names",
         "locations": [
          "Finland",
          "Norway",
          "Denmark",
          "Iceland",
          "Switzerland",
          "Netherlands",
          "Canada",
          "New Zealand",
          "Sweden",
          "Australia",
          "United Kingdom",
          "Austria",
          "Costa Rica",
          "Ireland",
          "Germany",
          "Belgium",
          "Luxembourg",
          "United States",
          "Israel",
          "United Arab Emirates",
          "Czech Republic",
          "Malta",
          "France",
          "Mexico",
          "Chile",
          "Taiwan",
          "Panama",
          "Brazil",
          "Argentina",
          "Guatemala",
          "Uruguay",
          "Qatar",
          "Saudi Arabia",
          "Singapore",
          "Malaysia",
          "Spain",
          "Colombia",
          "Trinidad & Tobago",
          "Slovakia",
          "El Salvador",
          "Nicaragua",
          "Poland",
          "Bahrain",
          "Uzbekistan",
          "Kuwait",
          "Thailand",
          "Italy",
          "Ecuador",
          "Belize",
          "Lithuania",
          "Slovenia",
          "Romania",
          "Latvia",
          "Japan",
          "Mauritius",
          "Jamaica",
          "South Korea",
          "Northern Cyprus",
          "Russia",
          "Kazakhstan",
          "Cyprus",
          "Bolivia",
          "Estonia",
          "Paraguay",
          "Peru",
          "Kosovo",
          "Moldova",
          "Turkmenistan",
          "Hungary",
          "Libya",
          "Philippines",
          "Honduras",
          "Belarus",
          "Turkey",
          "Pakistan",
          "Hong Kong",
          "Portugal",
          "Serbia",
          "Greece",
          "Lebanon",
          "Montenegro",
          "Croatia",
          "Dominican Republic",
          "Algeria",
          "Morocco",
          "China",
          "Azerbaijan",
          "Tajikistan",
          "Macedonia",
          "Jordan",
          "Nigeria",
          "Kyrgyzstan",
          "Bosnia and Herzegovina",
          "Mongolia",
          "Vietnam",
          "Indonesia",
          "Bhutan",
          "Somalia",
          "Cameroon",
          "Bulgaria",
          "Nepal",
          "Venezuela",
          "Gabon",
          "Palestinian Territories",
          "South Africa",
          "Iran",
          "Ivory Coast",
          "Ghana",
          "Senegal",
          "Laos",
          "Tunisia",
          "Albania",
          "Sierra Leone",
          "Congo (Brazzaville)",
          "Bangladesh",
          "Sri Lanka",
          "Iraq",
          "Mali",
          "Namibia",
          "Cambodia",
          "Burkina Faso",
          "Egypt",
          "Mozambique",
          "Kenya",
          "Zambia",
          "Mauritania",
          "Ethiopia",
          "Georgia",
          "Armenia",
          "Myanmar",
          "Chad",
          "Congo (Kinshasa)",
          "India",
          "Niger",
          "Uganda",
          "Benin",
          "Sudan",
          "Ukraine",
          "Togo",
          "Guinea",
          "Lesotho",
          "Angola",
          "Madagascar",
          "Zimbabwe",
          "Afghanistan",
          "Botswana",
          "Malawi",
          "Haiti",
          "Liberia",
          "Syria",
          "Rwanda",
          "Yemen",
          "Tanzania",
          "South Sudan",
          "Central African Republic",
          "Burundi"
         ],
         "name": "",
         "type": "choropleth",
         "z": [
          7.632,
          7.594,
          7.555,
          7.495,
          7.487,
          7.441,
          7.328,
          7.324,
          7.314,
          7.272,
          7.191,
          7.139,
          7.072,
          6.977,
          6.965,
          6.927,
          6.911,
          6.886,
          6.814,
          6.774,
          6.711,
          6.627,
          6.489,
          6.488,
          6.476,
          6.441,
          6.431,
          6.419,
          6.388,
          6.382,
          6.379,
          6.374,
          6.371,
          6.343,
          6.322,
          6.311,
          6.261,
          6.192,
          6.173,
          6.167,
          6.141,
          6.123,
          6.105,
          6.096,
          6.083,
          6.072,
          6.011,
          5.973,
          5.956,
          5.952,
          5.948,
          5.945,
          5.933,
          5.915,
          5.891,
          5.891,
          5.875,
          5.835,
          5.811,
          5.791,
          5.762,
          5.752,
          5.739,
          5.681,
          5.663,
          5.662,
          5.641,
          5.636,
          5.621,
          5.566,
          5.524,
          5.504,
          5.483,
          5.483,
          5.472,
          5.431,
          5.411,
          5.398,
          5.358,
          5.358,
          5.347,
          5.321,
          5.302,
          5.295,
          5.254,
          5.246,
          5.201,
          5.199,
          5.185,
          5.161,
          5.155,
          5.131,
          5.129,
          5.125,
          5.103,
          5.093,
          5.082,
          4.982,
          4.975,
          4.933,
          4.881,
          4.806,
          4.758,
          4.743,
          4.724,
          4.707,
          4.671,
          4.657,
          4.631,
          4.623,
          4.592,
          4.586,
          4.571,
          4.559,
          4.511,
          4.471,
          4.456,
          4.447,
          4.441,
          4.433,
          4.424,
          4.419,
          4.417,
          4.411,
          4.377,
          4.356,
          4.351,
          4.341,
          4.321,
          4.308,
          4.301,
          4.245,
          4.191,
          4.166,
          4.161,
          4.141,
          4.139,
          4.103,
          3.999,
          3.964,
          3.808,
          3.795,
          3.774,
          3.692,
          3.632,
          3.591,
          3.587,
          3.582,
          3.495,
          3.462,
          3.408,
          3.355,
          3.303,
          3.254,
          3.083,
          2.905
         ]
        }
       ],
       "layout": {
        "coloraxis": {
         "colorbar": {
          "title": {
           "text": "Happiness Score"
          }
         },
         "colorscale": [
          [
           0,
           "#440154"
          ],
          [
           0.1111111111111111,
           "#482878"
          ],
          [
           0.2222222222222222,
           "#3e4989"
          ],
          [
           0.3333333333333333,
           "#31688e"
          ],
          [
           0.4444444444444444,
           "#26828e"
          ],
          [
           0.5555555555555556,
           "#1f9e89"
          ],
          [
           0.6666666666666666,
           "#35b779"
          ],
          [
           0.7777777777777778,
           "#6ece58"
          ],
          [
           0.8888888888888888,
           "#b5de2b"
          ],
          [
           1,
           "#fde725"
          ]
         ]
        },
        "geo": {
         "center": {},
         "domain": {
          "x": [
           0,
           1
          ],
          "y": [
           0,
           1
          ]
         },
         "projection": {
          "type": "natural earth"
         }
        },
        "legend": {
         "tracegroupgap": 0
        },
        "margin": {
         "t": 60
        },
        "template": {
         "data": {
          "bar": [
           {
            "error_x": {
             "color": "#2a3f5f"
            },
            "error_y": {
             "color": "#2a3f5f"
            },
            "marker": {
             "line": {
              "color": "#E5ECF6",
              "width": 0.5
             }
            },
            "type": "bar"
           }
          ],
          "barpolar": [
           {
            "marker": {
             "line": {
              "color": "#E5ECF6",
              "width": 0.5
             }
            },
            "type": "barpolar"
           }
          ],
          "carpet": [
           {
            "aaxis": {
             "endlinecolor": "#2a3f5f",
             "gridcolor": "white",
             "linecolor": "white",
             "minorgridcolor": "white",
             "startlinecolor": "#2a3f5f"
            },
            "baxis": {
             "endlinecolor": "#2a3f5f",
             "gridcolor": "white",
             "linecolor": "white",
             "minorgridcolor": "white",
             "startlinecolor": "#2a3f5f"
            },
            "type": "carpet"
           }
          ],
          "choropleth": [
           {
            "colorbar": {
             "outlinewidth": 0,
             "ticks": ""
            },
            "type": "choropleth"
           }
          ],
          "contour": [
           {
            "colorbar": {
             "outlinewidth": 0,
             "ticks": ""
            },
            "colorscale": [
             [
              0,
              "#0d0887"
             ],
             [
              0.1111111111111111,
              "#46039f"
             ],
             [
              0.2222222222222222,
              "#7201a8"
             ],
             [
              0.3333333333333333,
              "#9c179e"
             ],
             [
              0.4444444444444444,
              "#bd3786"
             ],
             [
              0.5555555555555556,
              "#d8576b"
             ],
             [
              0.6666666666666666,
              "#ed7953"
             ],
             [
              0.7777777777777778,
              "#fb9f3a"
             ],
             [
              0.8888888888888888,
              "#fdca26"
             ],
             [
              1,
              "#f0f921"
             ]
            ],
            "type": "contour"
           }
          ],
          "contourcarpet": [
           {
            "colorbar": {
             "outlinewidth": 0,
             "ticks": ""
            },
            "type": "contourcarpet"
           }
          ],
          "heatmap": [
           {
            "colorbar": {
             "outlinewidth": 0,
             "ticks": ""
            },
            "colorscale": [
             [
              0,
              "#0d0887"
             ],
             [
              0.1111111111111111,
              "#46039f"
             ],
             [
              0.2222222222222222,
              "#7201a8"
             ],
             [
              0.3333333333333333,
              "#9c179e"
             ],
             [
              0.4444444444444444,
              "#bd3786"
             ],
             [
              0.5555555555555556,
              "#d8576b"
             ],
             [
              0.6666666666666666,
              "#ed7953"
             ],
             [
              0.7777777777777778,
              "#fb9f3a"
             ],
             [
              0.8888888888888888,
              "#fdca26"
             ],
             [
              1,
              "#f0f921"
             ]
            ],
            "type": "heatmap"
           }
          ],
          "heatmapgl": [
           {
            "colorbar": {
             "outlinewidth": 0,
             "ticks": ""
            },
            "colorscale": [
             [
              0,
              "#0d0887"
             ],
             [
              0.1111111111111111,
              "#46039f"
             ],
             [
              0.2222222222222222,
              "#7201a8"
             ],
             [
              0.3333333333333333,
              "#9c179e"
             ],
             [
              0.4444444444444444,
              "#bd3786"
             ],
             [
              0.5555555555555556,
              "#d8576b"
             ],
             [
              0.6666666666666666,
              "#ed7953"
             ],
             [
              0.7777777777777778,
              "#fb9f3a"
             ],
             [
              0.8888888888888888,
              "#fdca26"
             ],
             [
              1,
              "#f0f921"
             ]
            ],
            "type": "heatmapgl"
           }
          ],
          "histogram": [
           {
            "marker": {
             "colorbar": {
              "outlinewidth": 0,
              "ticks": ""
             }
            },
            "type": "histogram"
           }
          ],
          "histogram2d": [
           {
            "colorbar": {
             "outlinewidth": 0,
             "ticks": ""
            },
            "colorscale": [
             [
              0,
              "#0d0887"
             ],
             [
              0.1111111111111111,
              "#46039f"
             ],
             [
              0.2222222222222222,
              "#7201a8"
             ],
             [
              0.3333333333333333,
              "#9c179e"
             ],
             [
              0.4444444444444444,
              "#bd3786"
             ],
             [
              0.5555555555555556,
              "#d8576b"
             ],
             [
              0.6666666666666666,
              "#ed7953"
             ],
             [
              0.7777777777777778,
              "#fb9f3a"
             ],
             [
              0.8888888888888888,
              "#fdca26"
             ],
             [
              1,
              "#f0f921"
             ]
            ],
            "type": "histogram2d"
           }
          ],
          "histogram2dcontour": [
           {
            "colorbar": {
             "outlinewidth": 0,
             "ticks": ""
            },
            "colorscale": [
             [
              0,
              "#0d0887"
             ],
             [
              0.1111111111111111,
              "#46039f"
             ],
             [
              0.2222222222222222,
              "#7201a8"
             ],
             [
              0.3333333333333333,
              "#9c179e"
             ],
             [
              0.4444444444444444,
              "#bd3786"
             ],
             [
              0.5555555555555556,
              "#d8576b"
             ],
             [
              0.6666666666666666,
              "#ed7953"
             ],
             [
              0.7777777777777778,
              "#fb9f3a"
             ],
             [
              0.8888888888888888,
              "#fdca26"
             ],
             [
              1,
              "#f0f921"
             ]
            ],
            "type": "histogram2dcontour"
           }
          ],
          "mesh3d": [
           {
            "colorbar": {
             "outlinewidth": 0,
             "ticks": ""
            },
            "type": "mesh3d"
           }
          ],
          "parcoords": [
           {
            "line": {
             "colorbar": {
              "outlinewidth": 0,
              "ticks": ""
             }
            },
            "type": "parcoords"
           }
          ],
          "pie": [
           {
            "automargin": true,
            "type": "pie"
           }
          ],
          "scatter": [
           {
            "marker": {
             "colorbar": {
              "outlinewidth": 0,
              "ticks": ""
             }
            },
            "type": "scatter"
           }
          ],
          "scatter3d": [
           {
            "line": {
             "colorbar": {
              "outlinewidth": 0,
              "ticks": ""
             }
            },
            "marker": {
             "colorbar": {
              "outlinewidth": 0,
              "ticks": ""
             }
            },
            "type": "scatter3d"
           }
          ],
          "scattercarpet": [
           {
            "marker": {
             "colorbar": {
              "outlinewidth": 0,
              "ticks": ""
             }
            },
            "type": "scattercarpet"
           }
          ],
          "scattergeo": [
           {
            "marker": {
             "colorbar": {
              "outlinewidth": 0,
              "ticks": ""
             }
            },
            "type": "scattergeo"
           }
          ],
          "scattergl": [
           {
            "marker": {
             "colorbar": {
              "outlinewidth": 0,
              "ticks": ""
             }
            },
            "type": "scattergl"
           }
          ],
          "scattermapbox": [
           {
            "marker": {
             "colorbar": {
              "outlinewidth": 0,
              "ticks": ""
             }
            },
            "type": "scattermapbox"
           }
          ],
          "scatterpolar": [
           {
            "marker": {
             "colorbar": {
              "outlinewidth": 0,
              "ticks": ""
             }
            },
            "type": "scatterpolar"
           }
          ],
          "scatterpolargl": [
           {
            "marker": {
             "colorbar": {
              "outlinewidth": 0,
              "ticks": ""
             }
            },
            "type": "scatterpolargl"
           }
          ],
          "scatterternary": [
           {
            "marker": {
             "colorbar": {
              "outlinewidth": 0,
              "ticks": ""
             }
            },
            "type": "scatterternary"
           }
          ],
          "surface": [
           {
            "colorbar": {
             "outlinewidth": 0,
             "ticks": ""
            },
            "colorscale": [
             [
              0,
              "#0d0887"
             ],
             [
              0.1111111111111111,
              "#46039f"
             ],
             [
              0.2222222222222222,
              "#7201a8"
             ],
             [
              0.3333333333333333,
              "#9c179e"
             ],
             [
              0.4444444444444444,
              "#bd3786"
             ],
             [
              0.5555555555555556,
              "#d8576b"
             ],
             [
              0.6666666666666666,
              "#ed7953"
             ],
             [
              0.7777777777777778,
              "#fb9f3a"
             ],
             [
              0.8888888888888888,
              "#fdca26"
             ],
             [
              1,
              "#f0f921"
             ]
            ],
            "type": "surface"
           }
          ],
          "table": [
           {
            "cells": {
             "fill": {
              "color": "#EBF0F8"
             },
             "line": {
              "color": "white"
             }
            },
            "header": {
             "fill": {
              "color": "#C8D4E3"
             },
             "line": {
              "color": "white"
             }
            },
            "type": "table"
           }
          ]
         },
         "layout": {
          "annotationdefaults": {
           "arrowcolor": "#2a3f5f",
           "arrowhead": 0,
           "arrowwidth": 1
          },
          "autotypenumbers": "strict",
          "coloraxis": {
           "colorbar": {
            "outlinewidth": 0,
            "ticks": ""
           }
          },
          "colorscale": {
           "diverging": [
            [
             0,
             "#8e0152"
            ],
            [
             0.1,
             "#c51b7d"
            ],
            [
             0.2,
             "#de77ae"
            ],
            [
             0.3,
             "#f1b6da"
            ],
            [
             0.4,
             "#fde0ef"
            ],
            [
             0.5,
             "#f7f7f7"
            ],
            [
             0.6,
             "#e6f5d0"
            ],
            [
             0.7,
             "#b8e186"
            ],
            [
             0.8,
             "#7fbc41"
            ],
            [
             0.9,
             "#4d9221"
            ],
            [
             1,
             "#276419"
            ]
           ],
           "sequential": [
            [
             0,
             "#0d0887"
            ],
            [
             0.1111111111111111,
             "#46039f"
            ],
            [
             0.2222222222222222,
             "#7201a8"
            ],
            [
             0.3333333333333333,
             "#9c179e"
            ],
            [
             0.4444444444444444,
             "#bd3786"
            ],
            [
             0.5555555555555556,
             "#d8576b"
            ],
            [
             0.6666666666666666,
             "#ed7953"
            ],
            [
             0.7777777777777778,
             "#fb9f3a"
            ],
            [
             0.8888888888888888,
             "#fdca26"
            ],
            [
             1,
             "#f0f921"
            ]
           ],
           "sequentialminus": [
            [
             0,
             "#0d0887"
            ],
            [
             0.1111111111111111,
             "#46039f"
            ],
            [
             0.2222222222222222,
             "#7201a8"
            ],
            [
             0.3333333333333333,
             "#9c179e"
            ],
            [
             0.4444444444444444,
             "#bd3786"
            ],
            [
             0.5555555555555556,
             "#d8576b"
            ],
            [
             0.6666666666666666,
             "#ed7953"
            ],
            [
             0.7777777777777778,
             "#fb9f3a"
            ],
            [
             0.8888888888888888,
             "#fdca26"
            ],
            [
             1,
             "#f0f921"
            ]
           ]
          },
          "colorway": [
           "#636efa",
           "#EF553B",
           "#00cc96",
           "#ab63fa",
           "#FFA15A",
           "#19d3f3",
           "#FF6692",
           "#B6E880",
           "#FF97FF",
           "#FECB52"
          ],
          "font": {
           "color": "#2a3f5f"
          },
          "geo": {
           "bgcolor": "white",
           "lakecolor": "white",
           "landcolor": "#E5ECF6",
           "showlakes": true,
           "showland": true,
           "subunitcolor": "white"
          },
          "hoverlabel": {
           "align": "left"
          },
          "hovermode": "closest",
          "mapbox": {
           "style": "light"
          },
          "paper_bgcolor": "white",
          "plot_bgcolor": "#E5ECF6",
          "polar": {
           "angularaxis": {
            "gridcolor": "white",
            "linecolor": "white",
            "ticks": ""
           },
           "bgcolor": "#E5ECF6",
           "radialaxis": {
            "gridcolor": "white",
            "linecolor": "white",
            "ticks": ""
           }
          },
          "scene": {
           "xaxis": {
            "backgroundcolor": "#E5ECF6",
            "gridcolor": "white",
            "gridwidth": 2,
            "linecolor": "white",
            "showbackground": true,
            "ticks": "",
            "zerolinecolor": "white"
           },
           "yaxis": {
            "backgroundcolor": "#E5ECF6",
            "gridcolor": "white",
            "gridwidth": 2,
            "linecolor": "white",
            "showbackground": true,
            "ticks": "",
            "zerolinecolor": "white"
           },
           "zaxis": {
            "backgroundcolor": "#E5ECF6",
            "gridcolor": "white",
            "gridwidth": 2,
            "linecolor": "white",
            "showbackground": true,
            "ticks": "",
            "zerolinecolor": "white"
           }
          },
          "shapedefaults": {
           "line": {
            "color": "#2a3f5f"
           }
          },
          "ternary": {
           "aaxis": {
            "gridcolor": "white",
            "linecolor": "white",
            "ticks": ""
           },
           "baxis": {
            "gridcolor": "white",
            "linecolor": "white",
            "ticks": ""
           },
           "bgcolor": "#E5ECF6",
           "caxis": {
            "gridcolor": "white",
            "linecolor": "white",
            "ticks": ""
           }
          },
          "title": {
           "x": 0.05
          },
          "xaxis": {
           "automargin": true,
           "gridcolor": "white",
           "linecolor": "white",
           "ticks": "",
           "title": {
            "standoff": 15
           },
           "zerolinecolor": "white",
           "zerolinewidth": 2
          },
          "yaxis": {
           "automargin": true,
           "gridcolor": "white",
           "linecolor": "white",
           "ticks": "",
           "title": {
            "standoff": 15
           },
           "zerolinecolor": "white",
           "zerolinewidth": 2
          }
         }
        }
       }
      },
      "text/html": [
       "<div>                            <div id=\"c0bf6602-641f-4e11-af81-7438137d1862\" class=\"plotly-graph-div\" style=\"height:525px; width:100%;\"></div>            <script type=\"text/javascript\">                require([\"plotly\"], function(Plotly) {                    window.PLOTLYENV=window.PLOTLYENV || {};                                    if (document.getElementById(\"c0bf6602-641f-4e11-af81-7438137d1862\")) {                    Plotly.newPlot(                        \"c0bf6602-641f-4e11-af81-7438137d1862\",                        [{\"coloraxis\": \"coloraxis\", \"geo\": \"geo\", \"hovertemplate\": \"<b>%{hovertext}</b><br><br>Country=%{location}<br>Happiness Score=%{z}<extra></extra>\", \"hovertext\": [\"Finland\", \"Norway\", \"Denmark\", \"Iceland\", \"Switzerland\", \"Netherlands\", \"Canada\", \"New Zealand\", \"Sweden\", \"Australia\", \"United Kingdom\", \"Austria\", \"Costa Rica\", \"Ireland\", \"Germany\", \"Belgium\", \"Luxembourg\", \"United States\", \"Israel\", \"United Arab Emirates\", \"Czech Republic\", \"Malta\", \"France\", \"Mexico\", \"Chile\", \"Taiwan\", \"Panama\", \"Brazil\", \"Argentina\", \"Guatemala\", \"Uruguay\", \"Qatar\", \"Saudi Arabia\", \"Singapore\", \"Malaysia\", \"Spain\", \"Colombia\", \"Trinidad & Tobago\", \"Slovakia\", \"El Salvador\", \"Nicaragua\", \"Poland\", \"Bahrain\", \"Uzbekistan\", \"Kuwait\", \"Thailand\", \"Italy\", \"Ecuador\", \"Belize\", \"Lithuania\", \"Slovenia\", \"Romania\", \"Latvia\", \"Japan\", \"Mauritius\", \"Jamaica\", \"South Korea\", \"Northern Cyprus\", \"Russia\", \"Kazakhstan\", \"Cyprus\", \"Bolivia\", \"Estonia\", \"Paraguay\", \"Peru\", \"Kosovo\", \"Moldova\", \"Turkmenistan\", \"Hungary\", \"Libya\", \"Philippines\", \"Honduras\", \"Belarus\", \"Turkey\", \"Pakistan\", \"Hong Kong\", \"Portugal\", \"Serbia\", \"Greece\", \"Lebanon\", \"Montenegro\", \"Croatia\", \"Dominican Republic\", \"Algeria\", \"Morocco\", \"China\", \"Azerbaijan\", \"Tajikistan\", \"Macedonia\", \"Jordan\", \"Nigeria\", \"Kyrgyzstan\", \"Bosnia and Herzegovina\", \"Mongolia\", \"Vietnam\", \"Indonesia\", \"Bhutan\", \"Somalia\", \"Cameroon\", \"Bulgaria\", \"Nepal\", \"Venezuela\", \"Gabon\", \"Palestinian Territories\", \"South Africa\", \"Iran\", \"Ivory Coast\", \"Ghana\", \"Senegal\", \"Laos\", \"Tunisia\", \"Albania\", \"Sierra Leone\", \"Congo (Brazzaville)\", \"Bangladesh\", \"Sri Lanka\", \"Iraq\", \"Mali\", \"Namibia\", \"Cambodia\", \"Burkina Faso\", \"Egypt\", \"Mozambique\", \"Kenya\", \"Zambia\", \"Mauritania\", \"Ethiopia\", \"Georgia\", \"Armenia\", \"Myanmar\", \"Chad\", \"Congo (Kinshasa)\", \"India\", \"Niger\", \"Uganda\", \"Benin\", \"Sudan\", \"Ukraine\", \"Togo\", \"Guinea\", \"Lesotho\", \"Angola\", \"Madagascar\", \"Zimbabwe\", \"Afghanistan\", \"Botswana\", \"Malawi\", \"Haiti\", \"Liberia\", \"Syria\", \"Rwanda\", \"Yemen\", \"Tanzania\", \"South Sudan\", \"Central African Republic\", \"Burundi\"], \"locationmode\": \"country names\", \"locations\": [\"Finland\", \"Norway\", \"Denmark\", \"Iceland\", \"Switzerland\", \"Netherlands\", \"Canada\", \"New Zealand\", \"Sweden\", \"Australia\", \"United Kingdom\", \"Austria\", \"Costa Rica\", \"Ireland\", \"Germany\", \"Belgium\", \"Luxembourg\", \"United States\", \"Israel\", \"United Arab Emirates\", \"Czech Republic\", \"Malta\", \"France\", \"Mexico\", \"Chile\", \"Taiwan\", \"Panama\", \"Brazil\", \"Argentina\", \"Guatemala\", \"Uruguay\", \"Qatar\", \"Saudi Arabia\", \"Singapore\", \"Malaysia\", \"Spain\", \"Colombia\", \"Trinidad & Tobago\", \"Slovakia\", \"El Salvador\", \"Nicaragua\", \"Poland\", \"Bahrain\", \"Uzbekistan\", \"Kuwait\", \"Thailand\", \"Italy\", \"Ecuador\", \"Belize\", \"Lithuania\", \"Slovenia\", \"Romania\", \"Latvia\", \"Japan\", \"Mauritius\", \"Jamaica\", \"South Korea\", \"Northern Cyprus\", \"Russia\", \"Kazakhstan\", \"Cyprus\", \"Bolivia\", \"Estonia\", \"Paraguay\", \"Peru\", \"Kosovo\", \"Moldova\", \"Turkmenistan\", \"Hungary\", \"Libya\", \"Philippines\", \"Honduras\", \"Belarus\", \"Turkey\", \"Pakistan\", \"Hong Kong\", \"Portugal\", \"Serbia\", \"Greece\", \"Lebanon\", \"Montenegro\", \"Croatia\", \"Dominican Republic\", \"Algeria\", \"Morocco\", \"China\", \"Azerbaijan\", \"Tajikistan\", \"Macedonia\", \"Jordan\", \"Nigeria\", \"Kyrgyzstan\", \"Bosnia and Herzegovina\", \"Mongolia\", \"Vietnam\", \"Indonesia\", \"Bhutan\", \"Somalia\", \"Cameroon\", \"Bulgaria\", \"Nepal\", \"Venezuela\", \"Gabon\", \"Palestinian Territories\", \"South Africa\", \"Iran\", \"Ivory Coast\", \"Ghana\", \"Senegal\", \"Laos\", \"Tunisia\", \"Albania\", \"Sierra Leone\", \"Congo (Brazzaville)\", \"Bangladesh\", \"Sri Lanka\", \"Iraq\", \"Mali\", \"Namibia\", \"Cambodia\", \"Burkina Faso\", \"Egypt\", \"Mozambique\", \"Kenya\", \"Zambia\", \"Mauritania\", \"Ethiopia\", \"Georgia\", \"Armenia\", \"Myanmar\", \"Chad\", \"Congo (Kinshasa)\", \"India\", \"Niger\", \"Uganda\", \"Benin\", \"Sudan\", \"Ukraine\", \"Togo\", \"Guinea\", \"Lesotho\", \"Angola\", \"Madagascar\", \"Zimbabwe\", \"Afghanistan\", \"Botswana\", \"Malawi\", \"Haiti\", \"Liberia\", \"Syria\", \"Rwanda\", \"Yemen\", \"Tanzania\", \"South Sudan\", \"Central African Republic\", \"Burundi\"], \"name\": \"\", \"type\": \"choropleth\", \"z\": [7.632, 7.594, 7.555, 7.495, 7.487, 7.441, 7.328, 7.324, 7.314, 7.272, 7.191, 7.139, 7.072, 6.977, 6.965, 6.927, 6.911, 6.886, 6.814, 6.774, 6.711, 6.627, 6.489, 6.488, 6.476, 6.441, 6.431, 6.419, 6.388, 6.382, 6.379, 6.374, 6.371, 6.343, 6.322, 6.311, 6.261, 6.192, 6.173, 6.167, 6.141, 6.123, 6.105, 6.096, 6.083, 6.072, 6.011, 5.973, 5.956, 5.952, 5.948, 5.945, 5.933, 5.915, 5.891, 5.891, 5.875, 5.835, 5.811, 5.791, 5.762, 5.752, 5.739, 5.681, 5.663, 5.662, 5.641, 5.636, 5.621, 5.566, 5.524, 5.504, 5.483, 5.483, 5.472, 5.431, 5.411, 5.398, 5.358, 5.358, 5.347, 5.321, 5.302, 5.295, 5.254, 5.246, 5.201, 5.199, 5.185, 5.161, 5.155, 5.131, 5.129, 5.125, 5.103, 5.093, 5.082, 4.982, 4.975, 4.933, 4.881, 4.806, 4.758, 4.743, 4.724, 4.707, 4.671, 4.657, 4.631, 4.623, 4.592, 4.586, 4.571, 4.559, 4.511, 4.471, 4.456, 4.447, 4.441, 4.433, 4.424, 4.419, 4.417, 4.411, 4.377, 4.356, 4.351, 4.341, 4.321, 4.308, 4.301, 4.245, 4.191, 4.166, 4.161, 4.141, 4.139, 4.103, 3.999, 3.964, 3.808, 3.795, 3.774, 3.692, 3.632, 3.591, 3.587, 3.582, 3.495, 3.462, 3.408, 3.355, 3.303, 3.254, 3.083, 2.905]}],                        {\"coloraxis\": {\"colorbar\": {\"title\": {\"text\": \"Happiness Score\"}}, \"colorscale\": [[0.0, \"#440154\"], [0.1111111111111111, \"#482878\"], [0.2222222222222222, \"#3e4989\"], [0.3333333333333333, \"#31688e\"], [0.4444444444444444, \"#26828e\"], [0.5555555555555556, \"#1f9e89\"], [0.6666666666666666, \"#35b779\"], [0.7777777777777778, \"#6ece58\"], [0.8888888888888888, \"#b5de2b\"], [1.0, \"#fde725\"]]}, \"geo\": {\"center\": {}, \"domain\": {\"x\": [0.0, 1.0], \"y\": [0.0, 1.0]}, \"projection\": {\"type\": \"natural earth\"}}, \"legend\": {\"tracegroupgap\": 0}, \"margin\": {\"t\": 60}, \"template\": {\"data\": {\"bar\": [{\"error_x\": {\"color\": \"#2a3f5f\"}, \"error_y\": {\"color\": \"#2a3f5f\"}, \"marker\": {\"line\": {\"color\": \"#E5ECF6\", \"width\": 0.5}}, \"type\": \"bar\"}], \"barpolar\": [{\"marker\": {\"line\": {\"color\": \"#E5ECF6\", \"width\": 0.5}}, \"type\": \"barpolar\"}], \"carpet\": [{\"aaxis\": {\"endlinecolor\": \"#2a3f5f\", \"gridcolor\": \"white\", \"linecolor\": \"white\", \"minorgridcolor\": \"white\", \"startlinecolor\": \"#2a3f5f\"}, \"baxis\": {\"endlinecolor\": \"#2a3f5f\", \"gridcolor\": \"white\", \"linecolor\": \"white\", \"minorgridcolor\": \"white\", \"startlinecolor\": \"#2a3f5f\"}, \"type\": \"carpet\"}], \"choropleth\": [{\"colorbar\": {\"outlinewidth\": 0, \"ticks\": \"\"}, \"type\": \"choropleth\"}], \"contour\": [{\"colorbar\": {\"outlinewidth\": 0, \"ticks\": \"\"}, \"colorscale\": [[0.0, \"#0d0887\"], [0.1111111111111111, \"#46039f\"], [0.2222222222222222, \"#7201a8\"], [0.3333333333333333, \"#9c179e\"], [0.4444444444444444, \"#bd3786\"], [0.5555555555555556, \"#d8576b\"], [0.6666666666666666, \"#ed7953\"], [0.7777777777777778, \"#fb9f3a\"], [0.8888888888888888, \"#fdca26\"], [1.0, \"#f0f921\"]], \"type\": \"contour\"}], \"contourcarpet\": [{\"colorbar\": {\"outlinewidth\": 0, \"ticks\": \"\"}, \"type\": \"contourcarpet\"}], \"heatmap\": [{\"colorbar\": {\"outlinewidth\": 0, \"ticks\": \"\"}, \"colorscale\": [[0.0, \"#0d0887\"], [0.1111111111111111, \"#46039f\"], [0.2222222222222222, \"#7201a8\"], [0.3333333333333333, \"#9c179e\"], [0.4444444444444444, \"#bd3786\"], [0.5555555555555556, \"#d8576b\"], [0.6666666666666666, \"#ed7953\"], [0.7777777777777778, \"#fb9f3a\"], [0.8888888888888888, \"#fdca26\"], [1.0, \"#f0f921\"]], \"type\": \"heatmap\"}], \"heatmapgl\": [{\"colorbar\": {\"outlinewidth\": 0, \"ticks\": \"\"}, \"colorscale\": [[0.0, \"#0d0887\"], [0.1111111111111111, \"#46039f\"], [0.2222222222222222, \"#7201a8\"], [0.3333333333333333, \"#9c179e\"], [0.4444444444444444, \"#bd3786\"], [0.5555555555555556, \"#d8576b\"], [0.6666666666666666, \"#ed7953\"], [0.7777777777777778, \"#fb9f3a\"], [0.8888888888888888, \"#fdca26\"], [1.0, \"#f0f921\"]], \"type\": \"heatmapgl\"}], \"histogram\": [{\"marker\": {\"colorbar\": {\"outlinewidth\": 0, \"ticks\": \"\"}}, \"type\": \"histogram\"}], \"histogram2d\": [{\"colorbar\": {\"outlinewidth\": 0, \"ticks\": \"\"}, \"colorscale\": [[0.0, \"#0d0887\"], [0.1111111111111111, \"#46039f\"], [0.2222222222222222, \"#7201a8\"], [0.3333333333333333, \"#9c179e\"], [0.4444444444444444, \"#bd3786\"], [0.5555555555555556, \"#d8576b\"], [0.6666666666666666, \"#ed7953\"], [0.7777777777777778, \"#fb9f3a\"], [0.8888888888888888, \"#fdca26\"], [1.0, \"#f0f921\"]], \"type\": \"histogram2d\"}], \"histogram2dcontour\": [{\"colorbar\": {\"outlinewidth\": 0, \"ticks\": \"\"}, \"colorscale\": [[0.0, \"#0d0887\"], [0.1111111111111111, \"#46039f\"], [0.2222222222222222, \"#7201a8\"], [0.3333333333333333, \"#9c179e\"], [0.4444444444444444, \"#bd3786\"], [0.5555555555555556, \"#d8576b\"], [0.6666666666666666, \"#ed7953\"], [0.7777777777777778, \"#fb9f3a\"], [0.8888888888888888, \"#fdca26\"], [1.0, \"#f0f921\"]], \"type\": \"histogram2dcontour\"}], \"mesh3d\": [{\"colorbar\": {\"outlinewidth\": 0, \"ticks\": \"\"}, \"type\": \"mesh3d\"}], \"parcoords\": [{\"line\": {\"colorbar\": {\"outlinewidth\": 0, \"ticks\": \"\"}}, \"type\": \"parcoords\"}], \"pie\": [{\"automargin\": true, \"type\": \"pie\"}], \"scatter\": [{\"marker\": {\"colorbar\": {\"outlinewidth\": 0, \"ticks\": \"\"}}, \"type\": \"scatter\"}], \"scatter3d\": [{\"line\": {\"colorbar\": {\"outlinewidth\": 0, \"ticks\": \"\"}}, \"marker\": {\"colorbar\": {\"outlinewidth\": 0, \"ticks\": \"\"}}, \"type\": \"scatter3d\"}], \"scattercarpet\": [{\"marker\": {\"colorbar\": {\"outlinewidth\": 0, \"ticks\": \"\"}}, \"type\": \"scattercarpet\"}], \"scattergeo\": [{\"marker\": {\"colorbar\": {\"outlinewidth\": 0, \"ticks\": \"\"}}, \"type\": \"scattergeo\"}], \"scattergl\": [{\"marker\": {\"colorbar\": {\"outlinewidth\": 0, \"ticks\": \"\"}}, \"type\": \"scattergl\"}], \"scattermapbox\": [{\"marker\": {\"colorbar\": {\"outlinewidth\": 0, \"ticks\": \"\"}}, \"type\": \"scattermapbox\"}], \"scatterpolar\": [{\"marker\": {\"colorbar\": {\"outlinewidth\": 0, \"ticks\": \"\"}}, \"type\": \"scatterpolar\"}], \"scatterpolargl\": [{\"marker\": {\"colorbar\": {\"outlinewidth\": 0, \"ticks\": \"\"}}, \"type\": \"scatterpolargl\"}], \"scatterternary\": [{\"marker\": {\"colorbar\": {\"outlinewidth\": 0, \"ticks\": \"\"}}, \"type\": \"scatterternary\"}], \"surface\": [{\"colorbar\": {\"outlinewidth\": 0, \"ticks\": \"\"}, \"colorscale\": [[0.0, \"#0d0887\"], [0.1111111111111111, \"#46039f\"], [0.2222222222222222, \"#7201a8\"], [0.3333333333333333, \"#9c179e\"], [0.4444444444444444, \"#bd3786\"], [0.5555555555555556, \"#d8576b\"], [0.6666666666666666, \"#ed7953\"], [0.7777777777777778, \"#fb9f3a\"], [0.8888888888888888, \"#fdca26\"], [1.0, \"#f0f921\"]], \"type\": \"surface\"}], \"table\": [{\"cells\": {\"fill\": {\"color\": \"#EBF0F8\"}, \"line\": {\"color\": \"white\"}}, \"header\": {\"fill\": {\"color\": \"#C8D4E3\"}, \"line\": {\"color\": \"white\"}}, \"type\": \"table\"}]}, \"layout\": {\"annotationdefaults\": {\"arrowcolor\": \"#2a3f5f\", \"arrowhead\": 0, \"arrowwidth\": 1}, \"autotypenumbers\": \"strict\", \"coloraxis\": {\"colorbar\": {\"outlinewidth\": 0, \"ticks\": \"\"}}, \"colorscale\": {\"diverging\": [[0, \"#8e0152\"], [0.1, \"#c51b7d\"], [0.2, \"#de77ae\"], [0.3, \"#f1b6da\"], [0.4, \"#fde0ef\"], [0.5, \"#f7f7f7\"], [0.6, \"#e6f5d0\"], [0.7, \"#b8e186\"], [0.8, \"#7fbc41\"], [0.9, \"#4d9221\"], [1, \"#276419\"]], \"sequential\": [[0.0, \"#0d0887\"], [0.1111111111111111, \"#46039f\"], [0.2222222222222222, \"#7201a8\"], [0.3333333333333333, \"#9c179e\"], [0.4444444444444444, \"#bd3786\"], [0.5555555555555556, \"#d8576b\"], [0.6666666666666666, \"#ed7953\"], [0.7777777777777778, \"#fb9f3a\"], [0.8888888888888888, \"#fdca26\"], [1.0, \"#f0f921\"]], \"sequentialminus\": [[0.0, \"#0d0887\"], [0.1111111111111111, \"#46039f\"], [0.2222222222222222, \"#7201a8\"], [0.3333333333333333, \"#9c179e\"], [0.4444444444444444, \"#bd3786\"], [0.5555555555555556, \"#d8576b\"], [0.6666666666666666, \"#ed7953\"], [0.7777777777777778, \"#fb9f3a\"], [0.8888888888888888, \"#fdca26\"], [1.0, \"#f0f921\"]]}, \"colorway\": [\"#636efa\", \"#EF553B\", \"#00cc96\", \"#ab63fa\", \"#FFA15A\", \"#19d3f3\", \"#FF6692\", \"#B6E880\", \"#FF97FF\", \"#FECB52\"], \"font\": {\"color\": \"#2a3f5f\"}, \"geo\": {\"bgcolor\": \"white\", \"lakecolor\": \"white\", \"landcolor\": \"#E5ECF6\", \"showlakes\": true, \"showland\": true, \"subunitcolor\": \"white\"}, \"hoverlabel\": {\"align\": \"left\"}, \"hovermode\": \"closest\", \"mapbox\": {\"style\": \"light\"}, \"paper_bgcolor\": \"white\", \"plot_bgcolor\": \"#E5ECF6\", \"polar\": {\"angularaxis\": {\"gridcolor\": \"white\", \"linecolor\": \"white\", \"ticks\": \"\"}, \"bgcolor\": \"#E5ECF6\", \"radialaxis\": {\"gridcolor\": \"white\", \"linecolor\": \"white\", \"ticks\": \"\"}}, \"scene\": {\"xaxis\": {\"backgroundcolor\": \"#E5ECF6\", \"gridcolor\": \"white\", \"gridwidth\": 2, \"linecolor\": \"white\", \"showbackground\": true, \"ticks\": \"\", \"zerolinecolor\": \"white\"}, \"yaxis\": {\"backgroundcolor\": \"#E5ECF6\", \"gridcolor\": \"white\", \"gridwidth\": 2, \"linecolor\": \"white\", \"showbackground\": true, \"ticks\": \"\", \"zerolinecolor\": \"white\"}, \"zaxis\": {\"backgroundcolor\": \"#E5ECF6\", \"gridcolor\": \"white\", \"gridwidth\": 2, \"linecolor\": \"white\", \"showbackground\": true, \"ticks\": \"\", \"zerolinecolor\": \"white\"}}, \"shapedefaults\": {\"line\": {\"color\": \"#2a3f5f\"}}, \"ternary\": {\"aaxis\": {\"gridcolor\": \"white\", \"linecolor\": \"white\", \"ticks\": \"\"}, \"baxis\": {\"gridcolor\": \"white\", \"linecolor\": \"white\", \"ticks\": \"\"}, \"bgcolor\": \"#E5ECF6\", \"caxis\": {\"gridcolor\": \"white\", \"linecolor\": \"white\", \"ticks\": \"\"}}, \"title\": {\"x\": 0.05}, \"xaxis\": {\"automargin\": true, \"gridcolor\": \"white\", \"linecolor\": \"white\", \"ticks\": \"\", \"title\": {\"standoff\": 15}, \"zerolinecolor\": \"white\", \"zerolinewidth\": 2}, \"yaxis\": {\"automargin\": true, \"gridcolor\": \"white\", \"linecolor\": \"white\", \"ticks\": \"\", \"title\": {\"standoff\": 15}, \"zerolinecolor\": \"white\", \"zerolinewidth\": 2}}}},                        {\"responsive\": true}                    ).then(function(){\n",
       "                            \n",
       "var gd = document.getElementById('c0bf6602-641f-4e11-af81-7438137d1862');\n",
       "var x = new MutationObserver(function (mutations, observer) {{\n",
       "        var display = window.getComputedStyle(gd).display;\n",
       "        if (!display || display === 'none') {{\n",
       "            console.log([gd, 'removed!']);\n",
       "            Plotly.purge(gd);\n",
       "            observer.disconnect();\n",
       "        }}\n",
       "}});\n",
       "\n",
       "// Listen for the removal of the full notebook cells\n",
       "var notebookContainer = gd.closest('#notebook-container');\n",
       "if (notebookContainer) {{\n",
       "    x.observe(notebookContainer, {childList: true});\n",
       "}}\n",
       "\n",
       "// Listen for the clearing of the current output cell\n",
       "var outputEl = gd.closest('.output');\n",
       "if (outputEl) {{\n",
       "    x.observe(outputEl, {childList: true});\n",
       "}}\n",
       "\n",
       "                        })                };                });            </script>        </div>"
      ]
     },
     "metadata": {},
     "output_type": "display_data"
    }
   ],
   "source": [
    "# we want to show GDP per country time to bust out a glove \n",
    "\n",
    "fig = px.choropleth(data1, locations=\"Country\",\n",
    "                     locationmode=\"country names\",\n",
    "                    color=\"Happiness Score\", \n",
    "                    hover_name=\"Country\",\n",
    "                    \n",
    "                    projection=\"natural earth\",\n",
    "                    color_continuous_scale=\"Viridis\",\n",
    "                    \n",
    "                   )\n",
    "fig\n",
    "\n",
    "\n",
    "#finding better colors  and increase the ratios \n",
    "\n"
   ]
  },
  {
   "cell_type": "code",
   "execution_count": null,
   "metadata": {
    "ExecuteTime": {
     "end_time": "2021-02-16T14:56:33.150419Z",
     "start_time": "2021-02-16T14:56:33.144170Z"
    }
   },
   "outputs": [],
   "source": []
  },
  {
   "cell_type": "code",
   "execution_count": 25,
   "metadata": {
    "ExecuteTime": {
     "end_time": "2021-02-17T09:40:52.468225Z",
     "start_time": "2021-02-17T09:40:52.437325Z"
    }
   },
   "outputs": [
    {
     "data": {
      "application/vnd.plotly.v1+json": {
       "config": {
        "plotlyServerURL": "https://plot.ly"
       },
       "data": [
        {
         "marker": {
          "color": [
           7.632,
           7.594,
           7.555,
           7.495,
           7.487,
           7.441,
           7.328,
           7.324,
           7.314,
           7.272,
           7.191,
           7.139,
           7.072,
           6.977,
           6.965,
           6.927,
           6.911,
           6.886,
           6.814,
           6.774,
           6.711,
           6.627,
           6.489,
           6.488,
           6.476,
           6.441,
           6.431,
           6.419,
           6.388,
           6.382,
           6.379,
           6.374,
           6.371,
           6.343,
           6.322,
           6.311,
           6.261,
           6.192,
           6.173,
           6.167,
           6.141,
           6.123,
           6.105,
           6.096,
           6.083,
           6.072,
           6.011,
           5.973,
           5.956,
           5.952,
           5.948,
           5.945,
           5.933,
           5.915,
           5.891,
           5.891,
           5.875,
           5.835,
           5.811,
           5.791,
           5.762,
           5.752,
           5.739,
           5.681,
           5.663,
           5.662,
           5.641,
           5.636,
           5.621,
           5.566,
           5.524,
           5.504,
           5.483,
           5.483,
           5.472,
           5.431,
           5.411,
           5.398,
           5.358,
           5.358,
           5.347,
           5.321,
           5.302,
           5.295,
           5.254,
           5.246,
           5.201,
           5.199,
           5.185,
           5.161,
           5.155,
           5.131,
           5.129,
           5.125,
           5.103,
           5.093,
           5.082,
           4.982,
           4.975,
           4.933,
           4.881,
           4.806,
           4.758,
           4.743,
           4.724,
           4.707,
           4.671,
           4.657,
           4.631,
           4.623,
           4.592,
           4.586,
           4.571,
           4.559,
           4.511,
           4.471,
           4.456,
           4.447,
           4.441,
           4.433,
           4.424,
           4.419,
           4.417,
           4.411,
           4.377,
           4.356,
           4.351,
           4.341,
           4.321,
           4.308,
           4.301,
           4.245,
           4.191,
           4.166,
           4.161,
           4.141,
           4.139,
           4.103,
           3.999,
           3.964,
           3.808,
           3.795,
           3.774,
           3.692,
           3.632,
           3.591,
           3.587,
           3.582,
           3.495,
           3.462,
           3.408,
           3.355,
           3.303,
           3.254,
           3.083,
           2.905
          ],
          "line": {
           "width": 1
          },
          "showscale": true,
          "size": 10
         },
         "mode": "markers",
         "text": [
          "Finland",
          "Norway",
          "Denmark",
          "Iceland",
          "Switzerland",
          "Netherlands",
          "Canada",
          "New Zealand",
          "Sweden",
          "Australia",
          "United Kingdom",
          "Austria",
          "Costa Rica",
          "Ireland",
          "Germany",
          "Belgium",
          "Luxembourg",
          "United States",
          "Israel",
          "United Arab Emirates",
          "Czech Republic",
          "Malta",
          "France",
          "Mexico",
          "Chile",
          "Taiwan",
          "Panama",
          "Brazil",
          "Argentina",
          "Guatemala",
          "Uruguay",
          "Qatar",
          "Saudi Arabia",
          "Singapore",
          "Malaysia",
          "Spain",
          "Colombia",
          "Trinidad & Tobago",
          "Slovakia",
          "El Salvador",
          "Nicaragua",
          "Poland",
          "Bahrain",
          "Uzbekistan",
          "Kuwait",
          "Thailand",
          "Italy",
          "Ecuador",
          "Belize",
          "Lithuania",
          "Slovenia",
          "Romania",
          "Latvia",
          "Japan",
          "Mauritius",
          "Jamaica",
          "South Korea",
          "Northern Cyprus",
          "Russia",
          "Kazakhstan",
          "Cyprus",
          "Bolivia",
          "Estonia",
          "Paraguay",
          "Peru",
          "Kosovo",
          "Moldova",
          "Turkmenistan",
          "Hungary",
          "Libya",
          "Philippines",
          "Honduras",
          "Belarus",
          "Turkey",
          "Pakistan",
          "Hong Kong",
          "Portugal",
          "Serbia",
          "Greece",
          "Lebanon",
          "Montenegro",
          "Croatia",
          "Dominican Republic",
          "Algeria",
          "Morocco",
          "China",
          "Azerbaijan",
          "Tajikistan",
          "Macedonia",
          "Jordan",
          "Nigeria",
          "Kyrgyzstan",
          "Bosnia and Herzegovina",
          "Mongolia",
          "Vietnam",
          "Indonesia",
          "Bhutan",
          "Somalia",
          "Cameroon",
          "Bulgaria",
          "Nepal",
          "Venezuela",
          "Gabon",
          "Palestinian Territories",
          "South Africa",
          "Iran",
          "Ivory Coast",
          "Ghana",
          "Senegal",
          "Laos",
          "Tunisia",
          "Albania",
          "Sierra Leone",
          "Congo (Brazzaville)",
          "Bangladesh",
          "Sri Lanka",
          "Iraq",
          "Mali",
          "Namibia",
          "Cambodia",
          "Burkina Faso",
          "Egypt",
          "Mozambique",
          "Kenya",
          "Zambia",
          "Mauritania",
          "Ethiopia",
          "Georgia",
          "Armenia",
          "Myanmar",
          "Chad",
          "Congo (Kinshasa)",
          "India",
          "Niger",
          "Uganda",
          "Benin",
          "Sudan",
          "Ukraine",
          "Togo",
          "Guinea",
          "Lesotho",
          "Angola",
          "Madagascar",
          "Zimbabwe",
          "Afghanistan",
          "Botswana",
          "Malawi",
          "Haiti",
          "Liberia",
          "Syria",
          "Rwanda",
          "Yemen",
          "Tanzania",
          "South Sudan",
          "Central African Republic",
          "Burundi"
         ],
         "type": "scatter",
         "x": [
          7.632,
          7.594,
          7.555,
          7.495,
          7.487,
          7.441,
          7.328,
          7.324,
          7.314,
          7.272,
          7.191,
          7.139,
          7.072,
          6.977,
          6.965,
          6.927,
          6.911,
          6.886,
          6.814,
          6.774,
          6.711,
          6.627,
          6.489,
          6.488,
          6.476,
          6.441,
          6.431,
          6.419,
          6.388,
          6.382,
          6.379,
          6.374,
          6.371,
          6.343,
          6.322,
          6.311,
          6.261,
          6.192,
          6.173,
          6.167,
          6.141,
          6.123,
          6.105,
          6.096,
          6.083,
          6.072,
          6.011,
          5.973,
          5.956,
          5.952,
          5.948,
          5.945,
          5.933,
          5.915,
          5.891,
          5.891,
          5.875,
          5.835,
          5.811,
          5.791,
          5.762,
          5.752,
          5.739,
          5.681,
          5.663,
          5.662,
          5.641,
          5.636,
          5.621,
          5.566,
          5.524,
          5.504,
          5.483,
          5.483,
          5.472,
          5.431,
          5.411,
          5.398,
          5.358,
          5.358,
          5.347,
          5.321,
          5.302,
          5.295,
          5.254,
          5.246,
          5.201,
          5.199,
          5.185,
          5.161,
          5.155,
          5.131,
          5.129,
          5.125,
          5.103,
          5.093,
          5.082,
          4.982,
          4.975,
          4.933,
          4.881,
          4.806,
          4.758,
          4.743,
          4.724,
          4.707,
          4.671,
          4.657,
          4.631,
          4.623,
          4.592,
          4.586,
          4.571,
          4.559,
          4.511,
          4.471,
          4.456,
          4.447,
          4.441,
          4.433,
          4.424,
          4.419,
          4.417,
          4.411,
          4.377,
          4.356,
          4.351,
          4.341,
          4.321,
          4.308,
          4.301,
          4.245,
          4.191,
          4.166,
          4.161,
          4.141,
          4.139,
          4.103,
          3.999,
          3.964,
          3.808,
          3.795,
          3.774,
          3.692,
          3.632,
          3.591,
          3.587,
          3.582,
          3.495,
          3.462,
          3.408,
          3.355,
          3.303,
          3.254,
          3.083,
          2.905
         ],
         "y": [
          41899,
          65441,
          47673,
          48606,
          59019,
          49804,
          44051,
          36355,
          47194,
          45439,
          40158,
          46473,
          15685,
          70361,
          45959,
          43218,
          93734,
          55681,
          33661,
          66616,
          null,
          38147,
          39556,
          18102,
          22874,
          null,
          22674,
          14283,
          18282,
          7509,
          20916,
          112532,
          48996,
          90091,
          28176,
          35056,
          13333,
          null,
          31326,
          7393,
          4910,
          28752,
          41973,
          6240,
          65515,
          16905,
          35739,
          10412,
          7810,
          31065,
          32743,
          24544,
          26437,
          39294,
          21075,
          8266,
          null,
          null,
          null,
          24738,
          33048,
          null,
          30991,
          12063,
          12794,
          null,
          null,
          17129,
          28243,
          18406,
          7943,
          4560,
          17742,
          25287,
          4928,
          null,
          28687,
          16035,
          25141,
          11607,
          17278,
          23637,
          15821,
          13886,
          7509,
          16187,
          16011,
          3061,
          null,
          8309,
          5316,
          3447,
          12756,
          12209,
          null,
          11606,
          9348,
          null,
          3352,
          19321,
          2724,
          null,
          15922,
          null,
          12143,
          null,
          null,
          4212,
          3356,
          null,
          11096,
          12306,
          1425,
          null,
          3879,
          11956,
          15565,
          2056,
          9898,
          3870,
          1756,
          11014,
          1180,
          3077,
          3748,
          3724,
          1794,
          10152,
          9178,
          5922,
          1746,
          null,
          6899,
          932,
          1807,
          2152,
          4436,
          7907,
          1565,
          2338,
          2865,
          5725,
          1453,
          2688,
          1735,
          16518,
          1163,
          1656,
          1161,
          null,
          2003,
          2285,
          null,
          1678,
          775,
          660
         ]
        }
       ],
       "layout": {
        "template": {
         "data": {
          "bar": [
           {
            "error_x": {
             "color": "#2a3f5f"
            },
            "error_y": {
             "color": "#2a3f5f"
            },
            "marker": {
             "line": {
              "color": "#E5ECF6",
              "width": 0.5
             }
            },
            "type": "bar"
           }
          ],
          "barpolar": [
           {
            "marker": {
             "line": {
              "color": "#E5ECF6",
              "width": 0.5
             }
            },
            "type": "barpolar"
           }
          ],
          "carpet": [
           {
            "aaxis": {
             "endlinecolor": "#2a3f5f",
             "gridcolor": "white",
             "linecolor": "white",
             "minorgridcolor": "white",
             "startlinecolor": "#2a3f5f"
            },
            "baxis": {
             "endlinecolor": "#2a3f5f",
             "gridcolor": "white",
             "linecolor": "white",
             "minorgridcolor": "white",
             "startlinecolor": "#2a3f5f"
            },
            "type": "carpet"
           }
          ],
          "choropleth": [
           {
            "colorbar": {
             "outlinewidth": 0,
             "ticks": ""
            },
            "type": "choropleth"
           }
          ],
          "contour": [
           {
            "colorbar": {
             "outlinewidth": 0,
             "ticks": ""
            },
            "colorscale": [
             [
              0,
              "#0d0887"
             ],
             [
              0.1111111111111111,
              "#46039f"
             ],
             [
              0.2222222222222222,
              "#7201a8"
             ],
             [
              0.3333333333333333,
              "#9c179e"
             ],
             [
              0.4444444444444444,
              "#bd3786"
             ],
             [
              0.5555555555555556,
              "#d8576b"
             ],
             [
              0.6666666666666666,
              "#ed7953"
             ],
             [
              0.7777777777777778,
              "#fb9f3a"
             ],
             [
              0.8888888888888888,
              "#fdca26"
             ],
             [
              1,
              "#f0f921"
             ]
            ],
            "type": "contour"
           }
          ],
          "contourcarpet": [
           {
            "colorbar": {
             "outlinewidth": 0,
             "ticks": ""
            },
            "type": "contourcarpet"
           }
          ],
          "heatmap": [
           {
            "colorbar": {
             "outlinewidth": 0,
             "ticks": ""
            },
            "colorscale": [
             [
              0,
              "#0d0887"
             ],
             [
              0.1111111111111111,
              "#46039f"
             ],
             [
              0.2222222222222222,
              "#7201a8"
             ],
             [
              0.3333333333333333,
              "#9c179e"
             ],
             [
              0.4444444444444444,
              "#bd3786"
             ],
             [
              0.5555555555555556,
              "#d8576b"
             ],
             [
              0.6666666666666666,
              "#ed7953"
             ],
             [
              0.7777777777777778,
              "#fb9f3a"
             ],
             [
              0.8888888888888888,
              "#fdca26"
             ],
             [
              1,
              "#f0f921"
             ]
            ],
            "type": "heatmap"
           }
          ],
          "heatmapgl": [
           {
            "colorbar": {
             "outlinewidth": 0,
             "ticks": ""
            },
            "colorscale": [
             [
              0,
              "#0d0887"
             ],
             [
              0.1111111111111111,
              "#46039f"
             ],
             [
              0.2222222222222222,
              "#7201a8"
             ],
             [
              0.3333333333333333,
              "#9c179e"
             ],
             [
              0.4444444444444444,
              "#bd3786"
             ],
             [
              0.5555555555555556,
              "#d8576b"
             ],
             [
              0.6666666666666666,
              "#ed7953"
             ],
             [
              0.7777777777777778,
              "#fb9f3a"
             ],
             [
              0.8888888888888888,
              "#fdca26"
             ],
             [
              1,
              "#f0f921"
             ]
            ],
            "type": "heatmapgl"
           }
          ],
          "histogram": [
           {
            "marker": {
             "colorbar": {
              "outlinewidth": 0,
              "ticks": ""
             }
            },
            "type": "histogram"
           }
          ],
          "histogram2d": [
           {
            "colorbar": {
             "outlinewidth": 0,
             "ticks": ""
            },
            "colorscale": [
             [
              0,
              "#0d0887"
             ],
             [
              0.1111111111111111,
              "#46039f"
             ],
             [
              0.2222222222222222,
              "#7201a8"
             ],
             [
              0.3333333333333333,
              "#9c179e"
             ],
             [
              0.4444444444444444,
              "#bd3786"
             ],
             [
              0.5555555555555556,
              "#d8576b"
             ],
             [
              0.6666666666666666,
              "#ed7953"
             ],
             [
              0.7777777777777778,
              "#fb9f3a"
             ],
             [
              0.8888888888888888,
              "#fdca26"
             ],
             [
              1,
              "#f0f921"
             ]
            ],
            "type": "histogram2d"
           }
          ],
          "histogram2dcontour": [
           {
            "colorbar": {
             "outlinewidth": 0,
             "ticks": ""
            },
            "colorscale": [
             [
              0,
              "#0d0887"
             ],
             [
              0.1111111111111111,
              "#46039f"
             ],
             [
              0.2222222222222222,
              "#7201a8"
             ],
             [
              0.3333333333333333,
              "#9c179e"
             ],
             [
              0.4444444444444444,
              "#bd3786"
             ],
             [
              0.5555555555555556,
              "#d8576b"
             ],
             [
              0.6666666666666666,
              "#ed7953"
             ],
             [
              0.7777777777777778,
              "#fb9f3a"
             ],
             [
              0.8888888888888888,
              "#fdca26"
             ],
             [
              1,
              "#f0f921"
             ]
            ],
            "type": "histogram2dcontour"
           }
          ],
          "mesh3d": [
           {
            "colorbar": {
             "outlinewidth": 0,
             "ticks": ""
            },
            "type": "mesh3d"
           }
          ],
          "parcoords": [
           {
            "line": {
             "colorbar": {
              "outlinewidth": 0,
              "ticks": ""
             }
            },
            "type": "parcoords"
           }
          ],
          "pie": [
           {
            "automargin": true,
            "type": "pie"
           }
          ],
          "scatter": [
           {
            "marker": {
             "colorbar": {
              "outlinewidth": 0,
              "ticks": ""
             }
            },
            "type": "scatter"
           }
          ],
          "scatter3d": [
           {
            "line": {
             "colorbar": {
              "outlinewidth": 0,
              "ticks": ""
             }
            },
            "marker": {
             "colorbar": {
              "outlinewidth": 0,
              "ticks": ""
             }
            },
            "type": "scatter3d"
           }
          ],
          "scattercarpet": [
           {
            "marker": {
             "colorbar": {
              "outlinewidth": 0,
              "ticks": ""
             }
            },
            "type": "scattercarpet"
           }
          ],
          "scattergeo": [
           {
            "marker": {
             "colorbar": {
              "outlinewidth": 0,
              "ticks": ""
             }
            },
            "type": "scattergeo"
           }
          ],
          "scattergl": [
           {
            "marker": {
             "colorbar": {
              "outlinewidth": 0,
              "ticks": ""
             }
            },
            "type": "scattergl"
           }
          ],
          "scattermapbox": [
           {
            "marker": {
             "colorbar": {
              "outlinewidth": 0,
              "ticks": ""
             }
            },
            "type": "scattermapbox"
           }
          ],
          "scatterpolar": [
           {
            "marker": {
             "colorbar": {
              "outlinewidth": 0,
              "ticks": ""
             }
            },
            "type": "scatterpolar"
           }
          ],
          "scatterpolargl": [
           {
            "marker": {
             "colorbar": {
              "outlinewidth": 0,
              "ticks": ""
             }
            },
            "type": "scatterpolargl"
           }
          ],
          "scatterternary": [
           {
            "marker": {
             "colorbar": {
              "outlinewidth": 0,
              "ticks": ""
             }
            },
            "type": "scatterternary"
           }
          ],
          "surface": [
           {
            "colorbar": {
             "outlinewidth": 0,
             "ticks": ""
            },
            "colorscale": [
             [
              0,
              "#0d0887"
             ],
             [
              0.1111111111111111,
              "#46039f"
             ],
             [
              0.2222222222222222,
              "#7201a8"
             ],
             [
              0.3333333333333333,
              "#9c179e"
             ],
             [
              0.4444444444444444,
              "#bd3786"
             ],
             [
              0.5555555555555556,
              "#d8576b"
             ],
             [
              0.6666666666666666,
              "#ed7953"
             ],
             [
              0.7777777777777778,
              "#fb9f3a"
             ],
             [
              0.8888888888888888,
              "#fdca26"
             ],
             [
              1,
              "#f0f921"
             ]
            ],
            "type": "surface"
           }
          ],
          "table": [
           {
            "cells": {
             "fill": {
              "color": "#EBF0F8"
             },
             "line": {
              "color": "white"
             }
            },
            "header": {
             "fill": {
              "color": "#C8D4E3"
             },
             "line": {
              "color": "white"
             }
            },
            "type": "table"
           }
          ]
         },
         "layout": {
          "annotationdefaults": {
           "arrowcolor": "#2a3f5f",
           "arrowhead": 0,
           "arrowwidth": 1
          },
          "autotypenumbers": "strict",
          "coloraxis": {
           "colorbar": {
            "outlinewidth": 0,
            "ticks": ""
           }
          },
          "colorscale": {
           "diverging": [
            [
             0,
             "#8e0152"
            ],
            [
             0.1,
             "#c51b7d"
            ],
            [
             0.2,
             "#de77ae"
            ],
            [
             0.3,
             "#f1b6da"
            ],
            [
             0.4,
             "#fde0ef"
            ],
            [
             0.5,
             "#f7f7f7"
            ],
            [
             0.6,
             "#e6f5d0"
            ],
            [
             0.7,
             "#b8e186"
            ],
            [
             0.8,
             "#7fbc41"
            ],
            [
             0.9,
             "#4d9221"
            ],
            [
             1,
             "#276419"
            ]
           ],
           "sequential": [
            [
             0,
             "#0d0887"
            ],
            [
             0.1111111111111111,
             "#46039f"
            ],
            [
             0.2222222222222222,
             "#7201a8"
            ],
            [
             0.3333333333333333,
             "#9c179e"
            ],
            [
             0.4444444444444444,
             "#bd3786"
            ],
            [
             0.5555555555555556,
             "#d8576b"
            ],
            [
             0.6666666666666666,
             "#ed7953"
            ],
            [
             0.7777777777777778,
             "#fb9f3a"
            ],
            [
             0.8888888888888888,
             "#fdca26"
            ],
            [
             1,
             "#f0f921"
            ]
           ],
           "sequentialminus": [
            [
             0,
             "#0d0887"
            ],
            [
             0.1111111111111111,
             "#46039f"
            ],
            [
             0.2222222222222222,
             "#7201a8"
            ],
            [
             0.3333333333333333,
             "#9c179e"
            ],
            [
             0.4444444444444444,
             "#bd3786"
            ],
            [
             0.5555555555555556,
             "#d8576b"
            ],
            [
             0.6666666666666666,
             "#ed7953"
            ],
            [
             0.7777777777777778,
             "#fb9f3a"
            ],
            [
             0.8888888888888888,
             "#fdca26"
            ],
            [
             1,
             "#f0f921"
            ]
           ]
          },
          "colorway": [
           "#636efa",
           "#EF553B",
           "#00cc96",
           "#ab63fa",
           "#FFA15A",
           "#19d3f3",
           "#FF6692",
           "#B6E880",
           "#FF97FF",
           "#FECB52"
          ],
          "font": {
           "color": "#2a3f5f"
          },
          "geo": {
           "bgcolor": "white",
           "lakecolor": "white",
           "landcolor": "#E5ECF6",
           "showlakes": true,
           "showland": true,
           "subunitcolor": "white"
          },
          "hoverlabel": {
           "align": "left"
          },
          "hovermode": "closest",
          "mapbox": {
           "style": "light"
          },
          "paper_bgcolor": "white",
          "plot_bgcolor": "#E5ECF6",
          "polar": {
           "angularaxis": {
            "gridcolor": "white",
            "linecolor": "white",
            "ticks": ""
           },
           "bgcolor": "#E5ECF6",
           "radialaxis": {
            "gridcolor": "white",
            "linecolor": "white",
            "ticks": ""
           }
          },
          "scene": {
           "xaxis": {
            "backgroundcolor": "#E5ECF6",
            "gridcolor": "white",
            "gridwidth": 2,
            "linecolor": "white",
            "showbackground": true,
            "ticks": "",
            "zerolinecolor": "white"
           },
           "yaxis": {
            "backgroundcolor": "#E5ECF6",
            "gridcolor": "white",
            "gridwidth": 2,
            "linecolor": "white",
            "showbackground": true,
            "ticks": "",
            "zerolinecolor": "white"
           },
           "zaxis": {
            "backgroundcolor": "#E5ECF6",
            "gridcolor": "white",
            "gridwidth": 2,
            "linecolor": "white",
            "showbackground": true,
            "ticks": "",
            "zerolinecolor": "white"
           }
          },
          "shapedefaults": {
           "line": {
            "color": "#2a3f5f"
           }
          },
          "ternary": {
           "aaxis": {
            "gridcolor": "white",
            "linecolor": "white",
            "ticks": ""
           },
           "baxis": {
            "gridcolor": "white",
            "linecolor": "white",
            "ticks": ""
           },
           "bgcolor": "#E5ECF6",
           "caxis": {
            "gridcolor": "white",
            "linecolor": "white",
            "ticks": ""
           }
          },
          "title": {
           "x": 0.05
          },
          "xaxis": {
           "automargin": true,
           "gridcolor": "white",
           "linecolor": "white",
           "ticks": "",
           "title": {
            "standoff": 15
           },
           "zerolinecolor": "white",
           "zerolinewidth": 2
          },
          "yaxis": {
           "automargin": true,
           "gridcolor": "white",
           "linecolor": "white",
           "ticks": "",
           "title": {
            "standoff": 15
           },
           "zerolinecolor": "white",
           "zerolinewidth": 2
          }
         }
        }
       }
      },
      "text/html": [
       "<div>                            <div id=\"1c6de074-da5f-4a58-afba-3c8188907d0a\" class=\"plotly-graph-div\" style=\"height:525px; width:100%;\"></div>            <script type=\"text/javascript\">                require([\"plotly\"], function(Plotly) {                    window.PLOTLYENV=window.PLOTLYENV || {};                                    if (document.getElementById(\"1c6de074-da5f-4a58-afba-3c8188907d0a\")) {                    Plotly.newPlot(                        \"1c6de074-da5f-4a58-afba-3c8188907d0a\",                        [{\"marker\": {\"color\": [7.632, 7.594, 7.555, 7.495, 7.487, 7.441, 7.328, 7.324, 7.314, 7.272, 7.191, 7.139, 7.072, 6.977, 6.965, 6.927, 6.911, 6.886, 6.814, 6.774, 6.711, 6.627, 6.489, 6.488, 6.476, 6.441, 6.431, 6.419, 6.388, 6.382, 6.379, 6.374, 6.371, 6.343, 6.322, 6.311, 6.261, 6.192, 6.173, 6.167, 6.141, 6.123, 6.105, 6.096, 6.083, 6.072, 6.011, 5.973, 5.956, 5.952, 5.948, 5.945, 5.933, 5.915, 5.891, 5.891, 5.875, 5.835, 5.811, 5.791, 5.762, 5.752, 5.739, 5.681, 5.663, 5.662, 5.641, 5.636, 5.621, 5.566, 5.524, 5.504, 5.483, 5.483, 5.472, 5.431, 5.411, 5.398, 5.358, 5.358, 5.347, 5.321, 5.302, 5.295, 5.254, 5.246, 5.201, 5.199, 5.185, 5.161, 5.155, 5.131, 5.129, 5.125, 5.103, 5.093, 5.082, 4.982, 4.975, 4.933, 4.881, 4.806, 4.758, 4.743, 4.724, 4.707, 4.671, 4.657, 4.631, 4.623, 4.592, 4.586, 4.571, 4.559, 4.511, 4.471, 4.456, 4.447, 4.441, 4.433, 4.424, 4.419, 4.417, 4.411, 4.377, 4.356, 4.351, 4.341, 4.321, 4.308, 4.301, 4.245, 4.191, 4.166, 4.161, 4.141, 4.139, 4.103, 3.999, 3.964, 3.808, 3.795, 3.774, 3.692, 3.632, 3.591, 3.587, 3.582, 3.495, 3.462, 3.408, 3.355, 3.303, 3.254, 3.083, 2.905], \"line\": {\"width\": 1}, \"showscale\": true, \"size\": 10}, \"mode\": \"markers\", \"text\": [\"Finland\", \"Norway\", \"Denmark\", \"Iceland\", \"Switzerland\", \"Netherlands\", \"Canada\", \"New Zealand\", \"Sweden\", \"Australia\", \"United Kingdom\", \"Austria\", \"Costa Rica\", \"Ireland\", \"Germany\", \"Belgium\", \"Luxembourg\", \"United States\", \"Israel\", \"United Arab Emirates\", \"Czech Republic\", \"Malta\", \"France\", \"Mexico\", \"Chile\", \"Taiwan\", \"Panama\", \"Brazil\", \"Argentina\", \"Guatemala\", \"Uruguay\", \"Qatar\", \"Saudi Arabia\", \"Singapore\", \"Malaysia\", \"Spain\", \"Colombia\", \"Trinidad & Tobago\", \"Slovakia\", \"El Salvador\", \"Nicaragua\", \"Poland\", \"Bahrain\", \"Uzbekistan\", \"Kuwait\", \"Thailand\", \"Italy\", \"Ecuador\", \"Belize\", \"Lithuania\", \"Slovenia\", \"Romania\", \"Latvia\", \"Japan\", \"Mauritius\", \"Jamaica\", \"South Korea\", \"Northern Cyprus\", \"Russia\", \"Kazakhstan\", \"Cyprus\", \"Bolivia\", \"Estonia\", \"Paraguay\", \"Peru\", \"Kosovo\", \"Moldova\", \"Turkmenistan\", \"Hungary\", \"Libya\", \"Philippines\", \"Honduras\", \"Belarus\", \"Turkey\", \"Pakistan\", \"Hong Kong\", \"Portugal\", \"Serbia\", \"Greece\", \"Lebanon\", \"Montenegro\", \"Croatia\", \"Dominican Republic\", \"Algeria\", \"Morocco\", \"China\", \"Azerbaijan\", \"Tajikistan\", \"Macedonia\", \"Jordan\", \"Nigeria\", \"Kyrgyzstan\", \"Bosnia and Herzegovina\", \"Mongolia\", \"Vietnam\", \"Indonesia\", \"Bhutan\", \"Somalia\", \"Cameroon\", \"Bulgaria\", \"Nepal\", \"Venezuela\", \"Gabon\", \"Palestinian Territories\", \"South Africa\", \"Iran\", \"Ivory Coast\", \"Ghana\", \"Senegal\", \"Laos\", \"Tunisia\", \"Albania\", \"Sierra Leone\", \"Congo (Brazzaville)\", \"Bangladesh\", \"Sri Lanka\", \"Iraq\", \"Mali\", \"Namibia\", \"Cambodia\", \"Burkina Faso\", \"Egypt\", \"Mozambique\", \"Kenya\", \"Zambia\", \"Mauritania\", \"Ethiopia\", \"Georgia\", \"Armenia\", \"Myanmar\", \"Chad\", \"Congo (Kinshasa)\", \"India\", \"Niger\", \"Uganda\", \"Benin\", \"Sudan\", \"Ukraine\", \"Togo\", \"Guinea\", \"Lesotho\", \"Angola\", \"Madagascar\", \"Zimbabwe\", \"Afghanistan\", \"Botswana\", \"Malawi\", \"Haiti\", \"Liberia\", \"Syria\", \"Rwanda\", \"Yemen\", \"Tanzania\", \"South Sudan\", \"Central African Republic\", \"Burundi\"], \"type\": \"scatter\", \"x\": [7.632, 7.594, 7.555, 7.495, 7.487, 7.441, 7.328, 7.324, 7.314, 7.272, 7.191, 7.139, 7.072, 6.977, 6.965, 6.927, 6.911, 6.886, 6.814, 6.774, 6.711, 6.627, 6.489, 6.488, 6.476, 6.441, 6.431, 6.419, 6.388, 6.382, 6.379, 6.374, 6.371, 6.343, 6.322, 6.311, 6.261, 6.192, 6.173, 6.167, 6.141, 6.123, 6.105, 6.096, 6.083, 6.072, 6.011, 5.973, 5.956, 5.952, 5.948, 5.945, 5.933, 5.915, 5.891, 5.891, 5.875, 5.835, 5.811, 5.791, 5.762, 5.752, 5.739, 5.681, 5.663, 5.662, 5.641, 5.636, 5.621, 5.566, 5.524, 5.504, 5.483, 5.483, 5.472, 5.431, 5.411, 5.398, 5.358, 5.358, 5.347, 5.321, 5.302, 5.295, 5.254, 5.246, 5.201, 5.199, 5.185, 5.161, 5.155, 5.131, 5.129, 5.125, 5.103, 5.093, 5.082, 4.982, 4.975, 4.933, 4.881, 4.806, 4.758, 4.743, 4.724, 4.707, 4.671, 4.657, 4.631, 4.623, 4.592, 4.586, 4.571, 4.559, 4.511, 4.471, 4.456, 4.447, 4.441, 4.433, 4.424, 4.419, 4.417, 4.411, 4.377, 4.356, 4.351, 4.341, 4.321, 4.308, 4.301, 4.245, 4.191, 4.166, 4.161, 4.141, 4.139, 4.103, 3.999, 3.964, 3.808, 3.795, 3.774, 3.692, 3.632, 3.591, 3.587, 3.582, 3.495, 3.462, 3.408, 3.355, 3.303, 3.254, 3.083, 2.905], \"y\": [41899.0, 65441.0, 47673.0, 48606.0, 59019.0, 49804.0, 44051.0, 36355.0, 47194.0, 45439.0, 40158.0, 46473.0, 15685.0, 70361.0, 45959.0, 43218.0, 93734.0, 55681.0, 33661.0, 66616.0, null, 38147.0, 39556.0, 18102.0, 22874.0, null, 22674.0, 14283.0, 18282.0, 7509.0, 20916.0, 112532.0, 48996.0, 90091.0, 28176.0, 35056.0, 13333.0, null, 31326.0, 7393.0, 4910.0, 28752.0, 41973.0, 6240.0, 65515.0, 16905.0, 35739.0, 10412.0, 7810.0, 31065.0, 32743.0, 24544.0, 26437.0, 39294.0, 21075.0, 8266.0, null, null, null, 24738.0, 33048.0, null, 30991.0, 12063.0, 12794.0, null, null, 17129.0, 28243.0, 18406.0, 7943.0, 4560.0, 17742.0, 25287.0, 4928.0, null, 28687.0, 16035.0, 25141.0, 11607.0, 17278.0, 23637.0, 15821.0, 13886.0, 7509.0, 16187.0, 16011.0, 3061.0, null, 8309.0, 5316.0, 3447.0, 12756.0, 12209.0, null, 11606.0, 9348.0, null, 3352.0, 19321.0, 2724.0, null, 15922.0, null, 12143.0, null, null, 4212.0, 3356.0, null, 11096.0, 12306.0, 1425.0, null, 3879.0, 11956.0, 15565.0, 2056.0, 9898.0, 3870.0, 1756.0, 11014.0, 1180.0, 3077.0, 3748.0, 3724.0, 1794.0, 10152.0, 9178.0, 5922.0, 1746.0, null, 6899.0, 932.0, 1807.0, 2152.0, 4436.0, 7907.0, 1565.0, 2338.0, 2865.0, 5725.0, 1453.0, 2688.0, 1735.0, 16518.0, 1163.0, 1656.0, 1161.0, null, 2003.0, 2285.0, null, 1678.0, 775.0, 660.0]}],                        {\"template\": {\"data\": {\"bar\": [{\"error_x\": {\"color\": \"#2a3f5f\"}, \"error_y\": {\"color\": \"#2a3f5f\"}, \"marker\": {\"line\": {\"color\": \"#E5ECF6\", \"width\": 0.5}}, \"type\": \"bar\"}], \"barpolar\": [{\"marker\": {\"line\": {\"color\": \"#E5ECF6\", \"width\": 0.5}}, \"type\": \"barpolar\"}], \"carpet\": [{\"aaxis\": {\"endlinecolor\": \"#2a3f5f\", \"gridcolor\": \"white\", \"linecolor\": \"white\", \"minorgridcolor\": \"white\", \"startlinecolor\": \"#2a3f5f\"}, \"baxis\": {\"endlinecolor\": \"#2a3f5f\", \"gridcolor\": \"white\", \"linecolor\": \"white\", \"minorgridcolor\": \"white\", \"startlinecolor\": \"#2a3f5f\"}, \"type\": \"carpet\"}], \"choropleth\": [{\"colorbar\": {\"outlinewidth\": 0, \"ticks\": \"\"}, \"type\": \"choropleth\"}], \"contour\": [{\"colorbar\": {\"outlinewidth\": 0, \"ticks\": \"\"}, \"colorscale\": [[0.0, \"#0d0887\"], [0.1111111111111111, \"#46039f\"], [0.2222222222222222, \"#7201a8\"], [0.3333333333333333, \"#9c179e\"], [0.4444444444444444, \"#bd3786\"], [0.5555555555555556, \"#d8576b\"], [0.6666666666666666, \"#ed7953\"], [0.7777777777777778, \"#fb9f3a\"], [0.8888888888888888, \"#fdca26\"], [1.0, \"#f0f921\"]], \"type\": \"contour\"}], \"contourcarpet\": [{\"colorbar\": {\"outlinewidth\": 0, \"ticks\": \"\"}, \"type\": \"contourcarpet\"}], \"heatmap\": [{\"colorbar\": {\"outlinewidth\": 0, \"ticks\": \"\"}, \"colorscale\": [[0.0, \"#0d0887\"], [0.1111111111111111, \"#46039f\"], [0.2222222222222222, \"#7201a8\"], [0.3333333333333333, \"#9c179e\"], [0.4444444444444444, \"#bd3786\"], [0.5555555555555556, \"#d8576b\"], [0.6666666666666666, \"#ed7953\"], [0.7777777777777778, \"#fb9f3a\"], [0.8888888888888888, \"#fdca26\"], [1.0, \"#f0f921\"]], \"type\": \"heatmap\"}], \"heatmapgl\": [{\"colorbar\": {\"outlinewidth\": 0, \"ticks\": \"\"}, \"colorscale\": [[0.0, \"#0d0887\"], [0.1111111111111111, \"#46039f\"], [0.2222222222222222, \"#7201a8\"], [0.3333333333333333, \"#9c179e\"], [0.4444444444444444, \"#bd3786\"], [0.5555555555555556, \"#d8576b\"], [0.6666666666666666, \"#ed7953\"], [0.7777777777777778, \"#fb9f3a\"], [0.8888888888888888, \"#fdca26\"], [1.0, \"#f0f921\"]], \"type\": \"heatmapgl\"}], \"histogram\": [{\"marker\": {\"colorbar\": {\"outlinewidth\": 0, \"ticks\": \"\"}}, \"type\": \"histogram\"}], \"histogram2d\": [{\"colorbar\": {\"outlinewidth\": 0, \"ticks\": \"\"}, \"colorscale\": [[0.0, \"#0d0887\"], [0.1111111111111111, \"#46039f\"], [0.2222222222222222, \"#7201a8\"], [0.3333333333333333, \"#9c179e\"], [0.4444444444444444, \"#bd3786\"], [0.5555555555555556, \"#d8576b\"], [0.6666666666666666, \"#ed7953\"], [0.7777777777777778, \"#fb9f3a\"], [0.8888888888888888, \"#fdca26\"], [1.0, \"#f0f921\"]], \"type\": \"histogram2d\"}], \"histogram2dcontour\": [{\"colorbar\": {\"outlinewidth\": 0, \"ticks\": \"\"}, \"colorscale\": [[0.0, \"#0d0887\"], [0.1111111111111111, \"#46039f\"], [0.2222222222222222, \"#7201a8\"], [0.3333333333333333, \"#9c179e\"], [0.4444444444444444, \"#bd3786\"], [0.5555555555555556, \"#d8576b\"], [0.6666666666666666, \"#ed7953\"], [0.7777777777777778, \"#fb9f3a\"], [0.8888888888888888, \"#fdca26\"], [1.0, \"#f0f921\"]], \"type\": \"histogram2dcontour\"}], \"mesh3d\": [{\"colorbar\": {\"outlinewidth\": 0, \"ticks\": \"\"}, \"type\": \"mesh3d\"}], \"parcoords\": [{\"line\": {\"colorbar\": {\"outlinewidth\": 0, \"ticks\": \"\"}}, \"type\": \"parcoords\"}], \"pie\": [{\"automargin\": true, \"type\": \"pie\"}], \"scatter\": [{\"marker\": {\"colorbar\": {\"outlinewidth\": 0, \"ticks\": \"\"}}, \"type\": \"scatter\"}], \"scatter3d\": [{\"line\": {\"colorbar\": {\"outlinewidth\": 0, \"ticks\": \"\"}}, \"marker\": {\"colorbar\": {\"outlinewidth\": 0, \"ticks\": \"\"}}, \"type\": \"scatter3d\"}], \"scattercarpet\": [{\"marker\": {\"colorbar\": {\"outlinewidth\": 0, \"ticks\": \"\"}}, \"type\": \"scattercarpet\"}], \"scattergeo\": [{\"marker\": {\"colorbar\": {\"outlinewidth\": 0, \"ticks\": \"\"}}, \"type\": \"scattergeo\"}], \"scattergl\": [{\"marker\": {\"colorbar\": {\"outlinewidth\": 0, \"ticks\": \"\"}}, \"type\": \"scattergl\"}], \"scattermapbox\": [{\"marker\": {\"colorbar\": {\"outlinewidth\": 0, \"ticks\": \"\"}}, \"type\": \"scattermapbox\"}], \"scatterpolar\": [{\"marker\": {\"colorbar\": {\"outlinewidth\": 0, \"ticks\": \"\"}}, \"type\": \"scatterpolar\"}], \"scatterpolargl\": [{\"marker\": {\"colorbar\": {\"outlinewidth\": 0, \"ticks\": \"\"}}, \"type\": \"scatterpolargl\"}], \"scatterternary\": [{\"marker\": {\"colorbar\": {\"outlinewidth\": 0, \"ticks\": \"\"}}, \"type\": \"scatterternary\"}], \"surface\": [{\"colorbar\": {\"outlinewidth\": 0, \"ticks\": \"\"}, \"colorscale\": [[0.0, \"#0d0887\"], [0.1111111111111111, \"#46039f\"], [0.2222222222222222, \"#7201a8\"], [0.3333333333333333, \"#9c179e\"], [0.4444444444444444, \"#bd3786\"], [0.5555555555555556, \"#d8576b\"], [0.6666666666666666, \"#ed7953\"], [0.7777777777777778, \"#fb9f3a\"], [0.8888888888888888, \"#fdca26\"], [1.0, \"#f0f921\"]], \"type\": \"surface\"}], \"table\": [{\"cells\": {\"fill\": {\"color\": \"#EBF0F8\"}, \"line\": {\"color\": \"white\"}}, \"header\": {\"fill\": {\"color\": \"#C8D4E3\"}, \"line\": {\"color\": \"white\"}}, \"type\": \"table\"}]}, \"layout\": {\"annotationdefaults\": {\"arrowcolor\": \"#2a3f5f\", \"arrowhead\": 0, \"arrowwidth\": 1}, \"autotypenumbers\": \"strict\", \"coloraxis\": {\"colorbar\": {\"outlinewidth\": 0, \"ticks\": \"\"}}, \"colorscale\": {\"diverging\": [[0, \"#8e0152\"], [0.1, \"#c51b7d\"], [0.2, \"#de77ae\"], [0.3, \"#f1b6da\"], [0.4, \"#fde0ef\"], [0.5, \"#f7f7f7\"], [0.6, \"#e6f5d0\"], [0.7, \"#b8e186\"], [0.8, \"#7fbc41\"], [0.9, \"#4d9221\"], [1, \"#276419\"]], \"sequential\": [[0.0, \"#0d0887\"], [0.1111111111111111, \"#46039f\"], [0.2222222222222222, \"#7201a8\"], [0.3333333333333333, \"#9c179e\"], [0.4444444444444444, \"#bd3786\"], [0.5555555555555556, \"#d8576b\"], [0.6666666666666666, \"#ed7953\"], [0.7777777777777778, \"#fb9f3a\"], [0.8888888888888888, \"#fdca26\"], [1.0, \"#f0f921\"]], \"sequentialminus\": [[0.0, \"#0d0887\"], [0.1111111111111111, \"#46039f\"], [0.2222222222222222, \"#7201a8\"], [0.3333333333333333, \"#9c179e\"], [0.4444444444444444, \"#bd3786\"], [0.5555555555555556, \"#d8576b\"], [0.6666666666666666, \"#ed7953\"], [0.7777777777777778, \"#fb9f3a\"], [0.8888888888888888, \"#fdca26\"], [1.0, \"#f0f921\"]]}, \"colorway\": [\"#636efa\", \"#EF553B\", \"#00cc96\", \"#ab63fa\", \"#FFA15A\", \"#19d3f3\", \"#FF6692\", \"#B6E880\", \"#FF97FF\", \"#FECB52\"], \"font\": {\"color\": \"#2a3f5f\"}, \"geo\": {\"bgcolor\": \"white\", \"lakecolor\": \"white\", \"landcolor\": \"#E5ECF6\", \"showlakes\": true, \"showland\": true, \"subunitcolor\": \"white\"}, \"hoverlabel\": {\"align\": \"left\"}, \"hovermode\": \"closest\", \"mapbox\": {\"style\": \"light\"}, \"paper_bgcolor\": \"white\", \"plot_bgcolor\": \"#E5ECF6\", \"polar\": {\"angularaxis\": {\"gridcolor\": \"white\", \"linecolor\": \"white\", \"ticks\": \"\"}, \"bgcolor\": \"#E5ECF6\", \"radialaxis\": {\"gridcolor\": \"white\", \"linecolor\": \"white\", \"ticks\": \"\"}}, \"scene\": {\"xaxis\": {\"backgroundcolor\": \"#E5ECF6\", \"gridcolor\": \"white\", \"gridwidth\": 2, \"linecolor\": \"white\", \"showbackground\": true, \"ticks\": \"\", \"zerolinecolor\": \"white\"}, \"yaxis\": {\"backgroundcolor\": \"#E5ECF6\", \"gridcolor\": \"white\", \"gridwidth\": 2, \"linecolor\": \"white\", \"showbackground\": true, \"ticks\": \"\", \"zerolinecolor\": \"white\"}, \"zaxis\": {\"backgroundcolor\": \"#E5ECF6\", \"gridcolor\": \"white\", \"gridwidth\": 2, \"linecolor\": \"white\", \"showbackground\": true, \"ticks\": \"\", \"zerolinecolor\": \"white\"}}, \"shapedefaults\": {\"line\": {\"color\": \"#2a3f5f\"}}, \"ternary\": {\"aaxis\": {\"gridcolor\": \"white\", \"linecolor\": \"white\", \"ticks\": \"\"}, \"baxis\": {\"gridcolor\": \"white\", \"linecolor\": \"white\", \"ticks\": \"\"}, \"bgcolor\": \"#E5ECF6\", \"caxis\": {\"gridcolor\": \"white\", \"linecolor\": \"white\", \"ticks\": \"\"}}, \"title\": {\"x\": 0.05}, \"xaxis\": {\"automargin\": true, \"gridcolor\": \"white\", \"linecolor\": \"white\", \"ticks\": \"\", \"title\": {\"standoff\": 15}, \"zerolinecolor\": \"white\", \"zerolinewidth\": 2}, \"yaxis\": {\"automargin\": true, \"gridcolor\": \"white\", \"linecolor\": \"white\", \"ticks\": \"\", \"title\": {\"standoff\": 15}, \"zerolinecolor\": \"white\", \"zerolinewidth\": 2}}}},                        {\"responsive\": true}                    ).then(function(){\n",
       "                            \n",
       "var gd = document.getElementById('1c6de074-da5f-4a58-afba-3c8188907d0a');\n",
       "var x = new MutationObserver(function (mutations, observer) {{\n",
       "        var display = window.getComputedStyle(gd).display;\n",
       "        if (!display || display === 'none') {{\n",
       "            console.log([gd, 'removed!']);\n",
       "            Plotly.purge(gd);\n",
       "            observer.disconnect();\n",
       "        }}\n",
       "}});\n",
       "\n",
       "// Listen for the removal of the full notebook cells\n",
       "var notebookContainer = gd.closest('#notebook-container');\n",
       "if (notebookContainer) {{\n",
       "    x.observe(notebookContainer, {childList: true});\n",
       "}}\n",
       "\n",
       "// Listen for the clearing of the current output cell\n",
       "var outputEl = gd.closest('.output');\n",
       "if (outputEl) {{\n",
       "    x.observe(outputEl, {childList: true});\n",
       "}}\n",
       "\n",
       "                        })                };                });            </script>        </div>"
      ]
     },
     "metadata": {},
     "output_type": "display_data"
    }
   ],
   "source": [
    "\n",
    "fig2 = go.Figure()\n",
    "\n",
    "fig2.add_trace(go.Scatter(\n",
    "x=data1[\"Happiness Score\"], y=data1[\"GDP_per_capita\"],\n",
    "mode=\"markers\", marker_color=data1[\"Happiness Score\"], text=data1[\"Country\"], \n",
    "marker=dict(showscale = True)))\n",
    "\n",
    "# we also update the marker line \n",
    "fig2.update_traces(marker_line_width=1, marker_size=10)\n",
    "fig2\n",
    "\n",
    "\n",
    "#DOn't confuse the data by representing the same data twice "
   ]
  },
  {
   "cell_type": "code",
   "execution_count": 26,
   "metadata": {
    "ExecuteTime": {
     "end_time": "2021-02-17T09:41:22.000505Z",
     "start_time": "2021-02-17T09:41:21.890323Z"
    }
   },
   "outputs": [
    {
     "data": {
      "application/vnd.plotly.v1+json": {
       "config": {
        "plotlyServerURL": "https://plot.ly"
       },
       "data": [
        {
         "customdata": [
          [
           "Finland"
          ],
          [
           "Norway"
          ],
          [
           "Denmark"
          ],
          [
           "Iceland"
          ],
          [
           "Switzerland"
          ],
          [
           "Netherlands"
          ],
          [
           "Sweden"
          ],
          [
           "United Kingdom"
          ],
          [
           "Austria"
          ],
          [
           "Ireland"
          ],
          [
           "Germany"
          ],
          [
           "Belgium"
          ],
          [
           "Luxembourg"
          ],
          [
           "Czech Republic"
          ],
          [
           "Malta"
          ],
          [
           "France"
          ],
          [
           "Spain"
          ],
          [
           "Slovakia"
          ],
          [
           "Poland"
          ],
          [
           "Italy"
          ],
          [
           "Lithuania"
          ],
          [
           "Slovenia"
          ],
          [
           "Romania"
          ],
          [
           "Latvia"
          ],
          [
           "Northern Cyprus"
          ],
          [
           "Russia"
          ],
          [
           "Estonia"
          ],
          [
           "Kosovo"
          ],
          [
           "Moldova"
          ],
          [
           "Hungary"
          ],
          [
           "Belarus"
          ],
          [
           "Portugal"
          ],
          [
           "Serbia"
          ],
          [
           "Greece"
          ],
          [
           "Montenegro"
          ],
          [
           "Croatia"
          ],
          [
           "Macedonia"
          ],
          [
           "Bosnia and Herzegovina"
          ],
          [
           "Bulgaria"
          ],
          [
           "Albania"
          ],
          [
           "Ukraine"
          ]
         ],
         "hovertemplate": "continent=Europe<br>Happiness Score=%{x}<br>GDP_per_capita=%{y}<br>Country=%{customdata[0]}<extra></extra>",
         "legendgroup": "Europe",
         "marker": {
          "color": "#636efa",
          "symbol": "circle"
         },
         "mode": "markers",
         "name": "Europe",
         "orientation": "v",
         "showlegend": true,
         "type": "scatter",
         "x": [
          7.632,
          7.594,
          7.555,
          7.495,
          7.487,
          7.441,
          7.314,
          7.191,
          7.139,
          6.977,
          6.965,
          6.927,
          6.911,
          6.711,
          6.627,
          6.489,
          6.311,
          6.173,
          6.123,
          6.011,
          5.952,
          5.948,
          5.945,
          5.933,
          5.835,
          5.811,
          5.739,
          5.662,
          5.641,
          5.621,
          5.483,
          5.411,
          5.398,
          5.358,
          5.347,
          5.321,
          5.185,
          5.129,
          4.933,
          4.586,
          4.103
         ],
         "xaxis": "x",
         "y": [
          41899,
          65441,
          47673,
          48606,
          59019,
          49804,
          47194,
          40158,
          46473,
          70361,
          45959,
          43218,
          93734,
          null,
          38147,
          39556,
          35056,
          31326,
          28752,
          35739,
          31065,
          32743,
          24544,
          26437,
          null,
          null,
          30991,
          null,
          null,
          28243,
          17742,
          28687,
          16035,
          25141,
          17278,
          23637,
          null,
          12756,
          19321,
          12306,
          7907
         ],
         "yaxis": "y"
        },
        {
         "customdata": [
          [
           "Canada"
          ],
          [
           "Costa Rica"
          ],
          [
           "United States"
          ],
          [
           "Mexico"
          ],
          [
           "Chile"
          ],
          [
           "Panama"
          ],
          [
           "Brazil"
          ],
          [
           "Argentina"
          ],
          [
           "Guatemala"
          ],
          [
           "Uruguay"
          ],
          [
           "Colombia"
          ],
          [
           "El Salvador"
          ],
          [
           "Nicaragua"
          ],
          [
           "Ecuador"
          ],
          [
           "Belize"
          ],
          [
           "Jamaica"
          ],
          [
           "Bolivia"
          ],
          [
           "Paraguay"
          ],
          [
           "Peru"
          ],
          [
           "Honduras"
          ],
          [
           "Dominican Republic"
          ],
          [
           "Haiti"
          ]
         ],
         "hovertemplate": "continent=Americas<br>Happiness Score=%{x}<br>GDP_per_capita=%{y}<br>Country=%{customdata[0]}<extra></extra>",
         "legendgroup": "Americas",
         "marker": {
          "color": "#EF553B",
          "symbol": "circle"
         },
         "mode": "markers",
         "name": "Americas",
         "orientation": "v",
         "showlegend": true,
         "type": "scatter",
         "x": [
          7.328,
          7.072,
          6.886,
          6.488,
          6.476,
          6.431,
          6.419,
          6.388,
          6.382,
          6.379,
          6.261,
          6.167,
          6.141,
          5.973,
          5.956,
          5.891,
          5.752,
          5.681,
          5.663,
          5.504,
          5.302,
          3.582
         ],
         "xaxis": "x",
         "y": [
          44051,
          15685,
          55681,
          18102,
          22874,
          22674,
          14283,
          18282,
          7509,
          20916,
          13333,
          7393,
          4910,
          10412,
          7810,
          8266,
          null,
          12063,
          12794,
          4560,
          15821,
          1656
         ],
         "yaxis": "y"
        },
        {
         "customdata": [
          [
           "New Zealand"
          ],
          [
           "Australia"
          ]
         ],
         "hovertemplate": "continent=Oceania<br>Happiness Score=%{x}<br>GDP_per_capita=%{y}<br>Country=%{customdata[0]}<extra></extra>",
         "legendgroup": "Oceania",
         "marker": {
          "color": "#00cc96",
          "symbol": "circle"
         },
         "mode": "markers",
         "name": "Oceania",
         "orientation": "v",
         "showlegend": true,
         "type": "scatter",
         "x": [
          7.324,
          7.272
         ],
         "xaxis": "x",
         "y": [
          36355,
          45439
         ],
         "yaxis": "y"
        },
        {
         "customdata": [
          [
           "Israel"
          ],
          [
           "United Arab Emirates"
          ],
          [
           "Taiwan"
          ],
          [
           "Qatar"
          ],
          [
           "Saudi Arabia"
          ],
          [
           "Singapore"
          ],
          [
           "Malaysia"
          ],
          [
           "Bahrain"
          ],
          [
           "Uzbekistan"
          ],
          [
           "Kuwait"
          ],
          [
           "Thailand"
          ],
          [
           "Japan"
          ],
          [
           "South Korea"
          ],
          [
           "Kazakhstan"
          ],
          [
           "Cyprus"
          ],
          [
           "Turkmenistan"
          ],
          [
           "Philippines"
          ],
          [
           "Turkey"
          ],
          [
           "Pakistan"
          ],
          [
           "Hong Kong"
          ],
          [
           "Lebanon"
          ],
          [
           "China"
          ],
          [
           "Azerbaijan"
          ],
          [
           "Tajikistan"
          ],
          [
           "Jordan"
          ],
          [
           "Kyrgyzstan"
          ],
          [
           "Mongolia"
          ],
          [
           "Vietnam"
          ],
          [
           "Indonesia"
          ],
          [
           "Bhutan"
          ],
          [
           "Nepal"
          ],
          [
           "Venezuela"
          ],
          [
           "Laos"
          ],
          [
           "Bangladesh"
          ],
          [
           "Sri Lanka"
          ],
          [
           "Iraq"
          ],
          [
           "Cambodia"
          ],
          [
           "Georgia"
          ],
          [
           "Armenia"
          ],
          [
           "Myanmar"
          ],
          [
           "India"
          ],
          [
           "Afghanistan"
          ],
          [
           "Yemen"
          ]
         ],
         "hovertemplate": "continent=Asia<br>Happiness Score=%{x}<br>GDP_per_capita=%{y}<br>Country=%{customdata[0]}<extra></extra>",
         "legendgroup": "Asia",
         "marker": {
          "color": "#ab63fa",
          "symbol": "circle"
         },
         "mode": "markers",
         "name": "Asia",
         "orientation": "v",
         "showlegend": true,
         "type": "scatter",
         "x": [
          6.814,
          6.774,
          6.441,
          6.374,
          6.371,
          6.343,
          6.322,
          6.105,
          6.096,
          6.083,
          6.072,
          5.915,
          5.875,
          5.791,
          5.762,
          5.636,
          5.524,
          5.483,
          5.472,
          5.431,
          5.358,
          5.246,
          5.201,
          5.199,
          5.161,
          5.131,
          5.125,
          5.103,
          5.093,
          5.082,
          4.881,
          4.806,
          4.623,
          4.511,
          4.471,
          4.456,
          4.433,
          4.341,
          4.321,
          4.308,
          4.191,
          3.632,
          3.355
         ],
         "xaxis": "x",
         "y": [
          33661,
          66616,
          null,
          112532,
          48996,
          90091,
          28176,
          41973,
          6240,
          65515,
          16905,
          39294,
          null,
          24738,
          33048,
          17129,
          7943,
          25287,
          4928,
          null,
          11607,
          16187,
          16011,
          3061,
          8309,
          3447,
          12209,
          null,
          11606,
          9348,
          2724,
          null,
          null,
          3879,
          11956,
          15565,
          3870,
          10152,
          9178,
          5922,
          6899,
          1735,
          2285
         ],
         "yaxis": "y"
        },
        {
         "customdata": [
          [
           "Trinidad & Tobago"
          ],
          [
           "Mauritius"
          ],
          [
           "Libya"
          ],
          [
           "Algeria"
          ],
          [
           "Morocco"
          ],
          [
           "Nigeria"
          ],
          [
           "Somalia"
          ],
          [
           "Cameroon"
          ],
          [
           "Gabon"
          ],
          [
           "Palestinian Territories"
          ],
          [
           "South Africa"
          ],
          [
           "Iran"
          ],
          [
           "Ivory Coast"
          ],
          [
           "Ghana"
          ],
          [
           "Senegal"
          ],
          [
           "Tunisia"
          ],
          [
           "Sierra Leone"
          ],
          [
           "Congo (Brazzaville)"
          ],
          [
           "Mali"
          ],
          [
           "Namibia"
          ],
          [
           "Burkina Faso"
          ],
          [
           "Egypt"
          ],
          [
           "Mozambique"
          ],
          [
           "Kenya"
          ],
          [
           "Zambia"
          ],
          [
           "Mauritania"
          ],
          [
           "Ethiopia"
          ],
          [
           "Chad"
          ],
          [
           "Congo (Kinshasa)"
          ],
          [
           "Niger"
          ],
          [
           "Uganda"
          ],
          [
           "Benin"
          ],
          [
           "Sudan"
          ],
          [
           "Togo"
          ],
          [
           "Guinea"
          ],
          [
           "Lesotho"
          ],
          [
           "Angola"
          ],
          [
           "Madagascar"
          ],
          [
           "Zimbabwe"
          ],
          [
           "Botswana"
          ],
          [
           "Malawi"
          ],
          [
           "Liberia"
          ],
          [
           "Syria"
          ],
          [
           "Rwanda"
          ],
          [
           "Tanzania"
          ],
          [
           "South Sudan"
          ],
          [
           "Central African Republic"
          ],
          [
           "Burundi"
          ]
         ],
         "hovertemplate": "continent=Africa<br>Happiness Score=%{x}<br>GDP_per_capita=%{y}<br>Country=%{customdata[0]}<extra></extra>",
         "legendgroup": "Africa",
         "marker": {
          "color": "#FFA15A",
          "symbol": "circle"
         },
         "mode": "markers",
         "name": "Africa",
         "orientation": "v",
         "showlegend": true,
         "type": "scatter",
         "x": [
          6.192,
          5.891,
          5.566,
          5.295,
          5.254,
          5.155,
          4.982,
          4.975,
          4.758,
          4.743,
          4.724,
          4.707,
          4.671,
          4.657,
          4.631,
          4.592,
          4.571,
          4.559,
          4.447,
          4.441,
          4.424,
          4.419,
          4.417,
          4.411,
          4.377,
          4.356,
          4.351,
          4.301,
          4.245,
          4.166,
          4.161,
          4.141,
          4.139,
          3.999,
          3.964,
          3.808,
          3.795,
          3.774,
          3.692,
          3.591,
          3.587,
          3.495,
          3.462,
          3.408,
          3.303,
          3.254,
          3.083,
          2.905
         ],
         "xaxis": "x",
         "y": [
          null,
          21075,
          18406,
          13886,
          7509,
          5316,
          null,
          3352,
          15922,
          null,
          12143,
          null,
          null,
          4212,
          3356,
          11096,
          1425,
          null,
          2056,
          9898,
          1756,
          11014,
          1180,
          3077,
          3748,
          3724,
          1794,
          1746,
          null,
          932,
          1807,
          2152,
          4436,
          1565,
          2338,
          2865,
          5725,
          1453,
          2688,
          16518,
          1163,
          1161,
          null,
          2003,
          null,
          1678,
          775,
          660
         ],
         "yaxis": "y"
        }
       ],
       "layout": {
        "legend": {
         "title": {
          "text": "continent"
         },
         "tracegroupgap": 0
        },
        "margin": {
         "t": 60
        },
        "template": {
         "data": {
          "bar": [
           {
            "error_x": {
             "color": "#2a3f5f"
            },
            "error_y": {
             "color": "#2a3f5f"
            },
            "marker": {
             "line": {
              "color": "#E5ECF6",
              "width": 0.5
             }
            },
            "type": "bar"
           }
          ],
          "barpolar": [
           {
            "marker": {
             "line": {
              "color": "#E5ECF6",
              "width": 0.5
             }
            },
            "type": "barpolar"
           }
          ],
          "carpet": [
           {
            "aaxis": {
             "endlinecolor": "#2a3f5f",
             "gridcolor": "white",
             "linecolor": "white",
             "minorgridcolor": "white",
             "startlinecolor": "#2a3f5f"
            },
            "baxis": {
             "endlinecolor": "#2a3f5f",
             "gridcolor": "white",
             "linecolor": "white",
             "minorgridcolor": "white",
             "startlinecolor": "#2a3f5f"
            },
            "type": "carpet"
           }
          ],
          "choropleth": [
           {
            "colorbar": {
             "outlinewidth": 0,
             "ticks": ""
            },
            "type": "choropleth"
           }
          ],
          "contour": [
           {
            "colorbar": {
             "outlinewidth": 0,
             "ticks": ""
            },
            "colorscale": [
             [
              0,
              "#0d0887"
             ],
             [
              0.1111111111111111,
              "#46039f"
             ],
             [
              0.2222222222222222,
              "#7201a8"
             ],
             [
              0.3333333333333333,
              "#9c179e"
             ],
             [
              0.4444444444444444,
              "#bd3786"
             ],
             [
              0.5555555555555556,
              "#d8576b"
             ],
             [
              0.6666666666666666,
              "#ed7953"
             ],
             [
              0.7777777777777778,
              "#fb9f3a"
             ],
             [
              0.8888888888888888,
              "#fdca26"
             ],
             [
              1,
              "#f0f921"
             ]
            ],
            "type": "contour"
           }
          ],
          "contourcarpet": [
           {
            "colorbar": {
             "outlinewidth": 0,
             "ticks": ""
            },
            "type": "contourcarpet"
           }
          ],
          "heatmap": [
           {
            "colorbar": {
             "outlinewidth": 0,
             "ticks": ""
            },
            "colorscale": [
             [
              0,
              "#0d0887"
             ],
             [
              0.1111111111111111,
              "#46039f"
             ],
             [
              0.2222222222222222,
              "#7201a8"
             ],
             [
              0.3333333333333333,
              "#9c179e"
             ],
             [
              0.4444444444444444,
              "#bd3786"
             ],
             [
              0.5555555555555556,
              "#d8576b"
             ],
             [
              0.6666666666666666,
              "#ed7953"
             ],
             [
              0.7777777777777778,
              "#fb9f3a"
             ],
             [
              0.8888888888888888,
              "#fdca26"
             ],
             [
              1,
              "#f0f921"
             ]
            ],
            "type": "heatmap"
           }
          ],
          "heatmapgl": [
           {
            "colorbar": {
             "outlinewidth": 0,
             "ticks": ""
            },
            "colorscale": [
             [
              0,
              "#0d0887"
             ],
             [
              0.1111111111111111,
              "#46039f"
             ],
             [
              0.2222222222222222,
              "#7201a8"
             ],
             [
              0.3333333333333333,
              "#9c179e"
             ],
             [
              0.4444444444444444,
              "#bd3786"
             ],
             [
              0.5555555555555556,
              "#d8576b"
             ],
             [
              0.6666666666666666,
              "#ed7953"
             ],
             [
              0.7777777777777778,
              "#fb9f3a"
             ],
             [
              0.8888888888888888,
              "#fdca26"
             ],
             [
              1,
              "#f0f921"
             ]
            ],
            "type": "heatmapgl"
           }
          ],
          "histogram": [
           {
            "marker": {
             "colorbar": {
              "outlinewidth": 0,
              "ticks": ""
             }
            },
            "type": "histogram"
           }
          ],
          "histogram2d": [
           {
            "colorbar": {
             "outlinewidth": 0,
             "ticks": ""
            },
            "colorscale": [
             [
              0,
              "#0d0887"
             ],
             [
              0.1111111111111111,
              "#46039f"
             ],
             [
              0.2222222222222222,
              "#7201a8"
             ],
             [
              0.3333333333333333,
              "#9c179e"
             ],
             [
              0.4444444444444444,
              "#bd3786"
             ],
             [
              0.5555555555555556,
              "#d8576b"
             ],
             [
              0.6666666666666666,
              "#ed7953"
             ],
             [
              0.7777777777777778,
              "#fb9f3a"
             ],
             [
              0.8888888888888888,
              "#fdca26"
             ],
             [
              1,
              "#f0f921"
             ]
            ],
            "type": "histogram2d"
           }
          ],
          "histogram2dcontour": [
           {
            "colorbar": {
             "outlinewidth": 0,
             "ticks": ""
            },
            "colorscale": [
             [
              0,
              "#0d0887"
             ],
             [
              0.1111111111111111,
              "#46039f"
             ],
             [
              0.2222222222222222,
              "#7201a8"
             ],
             [
              0.3333333333333333,
              "#9c179e"
             ],
             [
              0.4444444444444444,
              "#bd3786"
             ],
             [
              0.5555555555555556,
              "#d8576b"
             ],
             [
              0.6666666666666666,
              "#ed7953"
             ],
             [
              0.7777777777777778,
              "#fb9f3a"
             ],
             [
              0.8888888888888888,
              "#fdca26"
             ],
             [
              1,
              "#f0f921"
             ]
            ],
            "type": "histogram2dcontour"
           }
          ],
          "mesh3d": [
           {
            "colorbar": {
             "outlinewidth": 0,
             "ticks": ""
            },
            "type": "mesh3d"
           }
          ],
          "parcoords": [
           {
            "line": {
             "colorbar": {
              "outlinewidth": 0,
              "ticks": ""
             }
            },
            "type": "parcoords"
           }
          ],
          "pie": [
           {
            "automargin": true,
            "type": "pie"
           }
          ],
          "scatter": [
           {
            "marker": {
             "colorbar": {
              "outlinewidth": 0,
              "ticks": ""
             }
            },
            "type": "scatter"
           }
          ],
          "scatter3d": [
           {
            "line": {
             "colorbar": {
              "outlinewidth": 0,
              "ticks": ""
             }
            },
            "marker": {
             "colorbar": {
              "outlinewidth": 0,
              "ticks": ""
             }
            },
            "type": "scatter3d"
           }
          ],
          "scattercarpet": [
           {
            "marker": {
             "colorbar": {
              "outlinewidth": 0,
              "ticks": ""
             }
            },
            "type": "scattercarpet"
           }
          ],
          "scattergeo": [
           {
            "marker": {
             "colorbar": {
              "outlinewidth": 0,
              "ticks": ""
             }
            },
            "type": "scattergeo"
           }
          ],
          "scattergl": [
           {
            "marker": {
             "colorbar": {
              "outlinewidth": 0,
              "ticks": ""
             }
            },
            "type": "scattergl"
           }
          ],
          "scattermapbox": [
           {
            "marker": {
             "colorbar": {
              "outlinewidth": 0,
              "ticks": ""
             }
            },
            "type": "scattermapbox"
           }
          ],
          "scatterpolar": [
           {
            "marker": {
             "colorbar": {
              "outlinewidth": 0,
              "ticks": ""
             }
            },
            "type": "scatterpolar"
           }
          ],
          "scatterpolargl": [
           {
            "marker": {
             "colorbar": {
              "outlinewidth": 0,
              "ticks": ""
             }
            },
            "type": "scatterpolargl"
           }
          ],
          "scatterternary": [
           {
            "marker": {
             "colorbar": {
              "outlinewidth": 0,
              "ticks": ""
             }
            },
            "type": "scatterternary"
           }
          ],
          "surface": [
           {
            "colorbar": {
             "outlinewidth": 0,
             "ticks": ""
            },
            "colorscale": [
             [
              0,
              "#0d0887"
             ],
             [
              0.1111111111111111,
              "#46039f"
             ],
             [
              0.2222222222222222,
              "#7201a8"
             ],
             [
              0.3333333333333333,
              "#9c179e"
             ],
             [
              0.4444444444444444,
              "#bd3786"
             ],
             [
              0.5555555555555556,
              "#d8576b"
             ],
             [
              0.6666666666666666,
              "#ed7953"
             ],
             [
              0.7777777777777778,
              "#fb9f3a"
             ],
             [
              0.8888888888888888,
              "#fdca26"
             ],
             [
              1,
              "#f0f921"
             ]
            ],
            "type": "surface"
           }
          ],
          "table": [
           {
            "cells": {
             "fill": {
              "color": "#EBF0F8"
             },
             "line": {
              "color": "white"
             }
            },
            "header": {
             "fill": {
              "color": "#C8D4E3"
             },
             "line": {
              "color": "white"
             }
            },
            "type": "table"
           }
          ]
         },
         "layout": {
          "annotationdefaults": {
           "arrowcolor": "#2a3f5f",
           "arrowhead": 0,
           "arrowwidth": 1
          },
          "autotypenumbers": "strict",
          "coloraxis": {
           "colorbar": {
            "outlinewidth": 0,
            "ticks": ""
           }
          },
          "colorscale": {
           "diverging": [
            [
             0,
             "#8e0152"
            ],
            [
             0.1,
             "#c51b7d"
            ],
            [
             0.2,
             "#de77ae"
            ],
            [
             0.3,
             "#f1b6da"
            ],
            [
             0.4,
             "#fde0ef"
            ],
            [
             0.5,
             "#f7f7f7"
            ],
            [
             0.6,
             "#e6f5d0"
            ],
            [
             0.7,
             "#b8e186"
            ],
            [
             0.8,
             "#7fbc41"
            ],
            [
             0.9,
             "#4d9221"
            ],
            [
             1,
             "#276419"
            ]
           ],
           "sequential": [
            [
             0,
             "#0d0887"
            ],
            [
             0.1111111111111111,
             "#46039f"
            ],
            [
             0.2222222222222222,
             "#7201a8"
            ],
            [
             0.3333333333333333,
             "#9c179e"
            ],
            [
             0.4444444444444444,
             "#bd3786"
            ],
            [
             0.5555555555555556,
             "#d8576b"
            ],
            [
             0.6666666666666666,
             "#ed7953"
            ],
            [
             0.7777777777777778,
             "#fb9f3a"
            ],
            [
             0.8888888888888888,
             "#fdca26"
            ],
            [
             1,
             "#f0f921"
            ]
           ],
           "sequentialminus": [
            [
             0,
             "#0d0887"
            ],
            [
             0.1111111111111111,
             "#46039f"
            ],
            [
             0.2222222222222222,
             "#7201a8"
            ],
            [
             0.3333333333333333,
             "#9c179e"
            ],
            [
             0.4444444444444444,
             "#bd3786"
            ],
            [
             0.5555555555555556,
             "#d8576b"
            ],
            [
             0.6666666666666666,
             "#ed7953"
            ],
            [
             0.7777777777777778,
             "#fb9f3a"
            ],
            [
             0.8888888888888888,
             "#fdca26"
            ],
            [
             1,
             "#f0f921"
            ]
           ]
          },
          "colorway": [
           "#636efa",
           "#EF553B",
           "#00cc96",
           "#ab63fa",
           "#FFA15A",
           "#19d3f3",
           "#FF6692",
           "#B6E880",
           "#FF97FF",
           "#FECB52"
          ],
          "font": {
           "color": "#2a3f5f"
          },
          "geo": {
           "bgcolor": "white",
           "lakecolor": "white",
           "landcolor": "#E5ECF6",
           "showlakes": true,
           "showland": true,
           "subunitcolor": "white"
          },
          "hoverlabel": {
           "align": "left"
          },
          "hovermode": "closest",
          "mapbox": {
           "style": "light"
          },
          "paper_bgcolor": "white",
          "plot_bgcolor": "#E5ECF6",
          "polar": {
           "angularaxis": {
            "gridcolor": "white",
            "linecolor": "white",
            "ticks": ""
           },
           "bgcolor": "#E5ECF6",
           "radialaxis": {
            "gridcolor": "white",
            "linecolor": "white",
            "ticks": ""
           }
          },
          "scene": {
           "xaxis": {
            "backgroundcolor": "#E5ECF6",
            "gridcolor": "white",
            "gridwidth": 2,
            "linecolor": "white",
            "showbackground": true,
            "ticks": "",
            "zerolinecolor": "white"
           },
           "yaxis": {
            "backgroundcolor": "#E5ECF6",
            "gridcolor": "white",
            "gridwidth": 2,
            "linecolor": "white",
            "showbackground": true,
            "ticks": "",
            "zerolinecolor": "white"
           },
           "zaxis": {
            "backgroundcolor": "#E5ECF6",
            "gridcolor": "white",
            "gridwidth": 2,
            "linecolor": "white",
            "showbackground": true,
            "ticks": "",
            "zerolinecolor": "white"
           }
          },
          "shapedefaults": {
           "line": {
            "color": "#2a3f5f"
           }
          },
          "ternary": {
           "aaxis": {
            "gridcolor": "white",
            "linecolor": "white",
            "ticks": ""
           },
           "baxis": {
            "gridcolor": "white",
            "linecolor": "white",
            "ticks": ""
           },
           "bgcolor": "#E5ECF6",
           "caxis": {
            "gridcolor": "white",
            "linecolor": "white",
            "ticks": ""
           }
          },
          "title": {
           "x": 0.05
          },
          "xaxis": {
           "automargin": true,
           "gridcolor": "white",
           "linecolor": "white",
           "ticks": "",
           "title": {
            "standoff": 15
           },
           "zerolinecolor": "white",
           "zerolinewidth": 2
          },
          "yaxis": {
           "automargin": true,
           "gridcolor": "white",
           "linecolor": "white",
           "ticks": "",
           "title": {
            "standoff": 15
           },
           "zerolinecolor": "white",
           "zerolinewidth": 2
          }
         }
        },
        "xaxis": {
         "anchor": "y",
         "domain": [
          0,
          1
         ],
         "title": {
          "text": "Happiness Score"
         }
        },
        "yaxis": {
         "anchor": "x",
         "domain": [
          0,
          1
         ],
         "title": {
          "text": "GDP_per_capita"
         }
        }
       }
      },
      "text/html": [
       "<div>                            <div id=\"c8c821e6-0b66-4a94-8ddf-71cb34f9c27b\" class=\"plotly-graph-div\" style=\"height:525px; width:100%;\"></div>            <script type=\"text/javascript\">                require([\"plotly\"], function(Plotly) {                    window.PLOTLYENV=window.PLOTLYENV || {};                                    if (document.getElementById(\"c8c821e6-0b66-4a94-8ddf-71cb34f9c27b\")) {                    Plotly.newPlot(                        \"c8c821e6-0b66-4a94-8ddf-71cb34f9c27b\",                        [{\"customdata\": [[\"Finland\"], [\"Norway\"], [\"Denmark\"], [\"Iceland\"], [\"Switzerland\"], [\"Netherlands\"], [\"Sweden\"], [\"United Kingdom\"], [\"Austria\"], [\"Ireland\"], [\"Germany\"], [\"Belgium\"], [\"Luxembourg\"], [\"Czech Republic\"], [\"Malta\"], [\"France\"], [\"Spain\"], [\"Slovakia\"], [\"Poland\"], [\"Italy\"], [\"Lithuania\"], [\"Slovenia\"], [\"Romania\"], [\"Latvia\"], [\"Northern Cyprus\"], [\"Russia\"], [\"Estonia\"], [\"Kosovo\"], [\"Moldova\"], [\"Hungary\"], [\"Belarus\"], [\"Portugal\"], [\"Serbia\"], [\"Greece\"], [\"Montenegro\"], [\"Croatia\"], [\"Macedonia\"], [\"Bosnia and Herzegovina\"], [\"Bulgaria\"], [\"Albania\"], [\"Ukraine\"]], \"hovertemplate\": \"continent=Europe<br>Happiness Score=%{x}<br>GDP_per_capita=%{y}<br>Country=%{customdata[0]}<extra></extra>\", \"legendgroup\": \"Europe\", \"marker\": {\"color\": \"#636efa\", \"symbol\": \"circle\"}, \"mode\": \"markers\", \"name\": \"Europe\", \"orientation\": \"v\", \"showlegend\": true, \"type\": \"scatter\", \"x\": [7.632, 7.594, 7.555, 7.495, 7.487, 7.441, 7.314, 7.191, 7.139, 6.977, 6.965, 6.927, 6.911, 6.711, 6.627, 6.489, 6.311, 6.173, 6.123, 6.011, 5.952, 5.948, 5.945, 5.933, 5.835, 5.811, 5.739, 5.662, 5.641, 5.621, 5.483, 5.411, 5.398, 5.358, 5.347, 5.321, 5.185, 5.129, 4.933, 4.586, 4.103], \"xaxis\": \"x\", \"y\": [41899.0, 65441.0, 47673.0, 48606.0, 59019.0, 49804.0, 47194.0, 40158.0, 46473.0, 70361.0, 45959.0, 43218.0, 93734.0, null, 38147.0, 39556.0, 35056.0, 31326.0, 28752.0, 35739.0, 31065.0, 32743.0, 24544.0, 26437.0, null, null, 30991.0, null, null, 28243.0, 17742.0, 28687.0, 16035.0, 25141.0, 17278.0, 23637.0, null, 12756.0, 19321.0, 12306.0, 7907.0], \"yaxis\": \"y\"}, {\"customdata\": [[\"Canada\"], [\"Costa Rica\"], [\"United States\"], [\"Mexico\"], [\"Chile\"], [\"Panama\"], [\"Brazil\"], [\"Argentina\"], [\"Guatemala\"], [\"Uruguay\"], [\"Colombia\"], [\"El Salvador\"], [\"Nicaragua\"], [\"Ecuador\"], [\"Belize\"], [\"Jamaica\"], [\"Bolivia\"], [\"Paraguay\"], [\"Peru\"], [\"Honduras\"], [\"Dominican Republic\"], [\"Haiti\"]], \"hovertemplate\": \"continent=Americas<br>Happiness Score=%{x}<br>GDP_per_capita=%{y}<br>Country=%{customdata[0]}<extra></extra>\", \"legendgroup\": \"Americas\", \"marker\": {\"color\": \"#EF553B\", \"symbol\": \"circle\"}, \"mode\": \"markers\", \"name\": \"Americas\", \"orientation\": \"v\", \"showlegend\": true, \"type\": \"scatter\", \"x\": [7.328, 7.072, 6.886, 6.488, 6.476, 6.431, 6.419, 6.388, 6.382, 6.379, 6.261, 6.167, 6.141, 5.973, 5.956, 5.891, 5.752, 5.681, 5.663, 5.504, 5.302, 3.582], \"xaxis\": \"x\", \"y\": [44051.0, 15685.0, 55681.0, 18102.0, 22874.0, 22674.0, 14283.0, 18282.0, 7509.0, 20916.0, 13333.0, 7393.0, 4910.0, 10412.0, 7810.0, 8266.0, null, 12063.0, 12794.0, 4560.0, 15821.0, 1656.0], \"yaxis\": \"y\"}, {\"customdata\": [[\"New Zealand\"], [\"Australia\"]], \"hovertemplate\": \"continent=Oceania<br>Happiness Score=%{x}<br>GDP_per_capita=%{y}<br>Country=%{customdata[0]}<extra></extra>\", \"legendgroup\": \"Oceania\", \"marker\": {\"color\": \"#00cc96\", \"symbol\": \"circle\"}, \"mode\": \"markers\", \"name\": \"Oceania\", \"orientation\": \"v\", \"showlegend\": true, \"type\": \"scatter\", \"x\": [7.324, 7.272], \"xaxis\": \"x\", \"y\": [36355.0, 45439.0], \"yaxis\": \"y\"}, {\"customdata\": [[\"Israel\"], [\"United Arab Emirates\"], [\"Taiwan\"], [\"Qatar\"], [\"Saudi Arabia\"], [\"Singapore\"], [\"Malaysia\"], [\"Bahrain\"], [\"Uzbekistan\"], [\"Kuwait\"], [\"Thailand\"], [\"Japan\"], [\"South Korea\"], [\"Kazakhstan\"], [\"Cyprus\"], [\"Turkmenistan\"], [\"Philippines\"], [\"Turkey\"], [\"Pakistan\"], [\"Hong Kong\"], [\"Lebanon\"], [\"China\"], [\"Azerbaijan\"], [\"Tajikistan\"], [\"Jordan\"], [\"Kyrgyzstan\"], [\"Mongolia\"], [\"Vietnam\"], [\"Indonesia\"], [\"Bhutan\"], [\"Nepal\"], [\"Venezuela\"], [\"Laos\"], [\"Bangladesh\"], [\"Sri Lanka\"], [\"Iraq\"], [\"Cambodia\"], [\"Georgia\"], [\"Armenia\"], [\"Myanmar\"], [\"India\"], [\"Afghanistan\"], [\"Yemen\"]], \"hovertemplate\": \"continent=Asia<br>Happiness Score=%{x}<br>GDP_per_capita=%{y}<br>Country=%{customdata[0]}<extra></extra>\", \"legendgroup\": \"Asia\", \"marker\": {\"color\": \"#ab63fa\", \"symbol\": \"circle\"}, \"mode\": \"markers\", \"name\": \"Asia\", \"orientation\": \"v\", \"showlegend\": true, \"type\": \"scatter\", \"x\": [6.814, 6.774, 6.441, 6.374, 6.371, 6.343, 6.322, 6.105, 6.096, 6.083, 6.072, 5.915, 5.875, 5.791, 5.762, 5.636, 5.524, 5.483, 5.472, 5.431, 5.358, 5.246, 5.201, 5.199, 5.161, 5.131, 5.125, 5.103, 5.093, 5.082, 4.881, 4.806, 4.623, 4.511, 4.471, 4.456, 4.433, 4.341, 4.321, 4.308, 4.191, 3.632, 3.355], \"xaxis\": \"x\", \"y\": [33661.0, 66616.0, null, 112532.0, 48996.0, 90091.0, 28176.0, 41973.0, 6240.0, 65515.0, 16905.0, 39294.0, null, 24738.0, 33048.0, 17129.0, 7943.0, 25287.0, 4928.0, null, 11607.0, 16187.0, 16011.0, 3061.0, 8309.0, 3447.0, 12209.0, null, 11606.0, 9348.0, 2724.0, null, null, 3879.0, 11956.0, 15565.0, 3870.0, 10152.0, 9178.0, 5922.0, 6899.0, 1735.0, 2285.0], \"yaxis\": \"y\"}, {\"customdata\": [[\"Trinidad & Tobago\"], [\"Mauritius\"], [\"Libya\"], [\"Algeria\"], [\"Morocco\"], [\"Nigeria\"], [\"Somalia\"], [\"Cameroon\"], [\"Gabon\"], [\"Palestinian Territories\"], [\"South Africa\"], [\"Iran\"], [\"Ivory Coast\"], [\"Ghana\"], [\"Senegal\"], [\"Tunisia\"], [\"Sierra Leone\"], [\"Congo (Brazzaville)\"], [\"Mali\"], [\"Namibia\"], [\"Burkina Faso\"], [\"Egypt\"], [\"Mozambique\"], [\"Kenya\"], [\"Zambia\"], [\"Mauritania\"], [\"Ethiopia\"], [\"Chad\"], [\"Congo (Kinshasa)\"], [\"Niger\"], [\"Uganda\"], [\"Benin\"], [\"Sudan\"], [\"Togo\"], [\"Guinea\"], [\"Lesotho\"], [\"Angola\"], [\"Madagascar\"], [\"Zimbabwe\"], [\"Botswana\"], [\"Malawi\"], [\"Liberia\"], [\"Syria\"], [\"Rwanda\"], [\"Tanzania\"], [\"South Sudan\"], [\"Central African Republic\"], [\"Burundi\"]], \"hovertemplate\": \"continent=Africa<br>Happiness Score=%{x}<br>GDP_per_capita=%{y}<br>Country=%{customdata[0]}<extra></extra>\", \"legendgroup\": \"Africa\", \"marker\": {\"color\": \"#FFA15A\", \"symbol\": \"circle\"}, \"mode\": \"markers\", \"name\": \"Africa\", \"orientation\": \"v\", \"showlegend\": true, \"type\": \"scatter\", \"x\": [6.192, 5.891, 5.566, 5.295, 5.254, 5.155, 4.982, 4.975, 4.758, 4.743, 4.724, 4.707, 4.671, 4.657, 4.631, 4.592, 4.571, 4.559, 4.447, 4.441, 4.424, 4.419, 4.417, 4.411, 4.377, 4.356, 4.351, 4.301, 4.245, 4.166, 4.161, 4.141, 4.139, 3.999, 3.964, 3.808, 3.795, 3.774, 3.692, 3.591, 3.587, 3.495, 3.462, 3.408, 3.303, 3.254, 3.083, 2.905], \"xaxis\": \"x\", \"y\": [null, 21075.0, 18406.0, 13886.0, 7509.0, 5316.0, null, 3352.0, 15922.0, null, 12143.0, null, null, 4212.0, 3356.0, 11096.0, 1425.0, null, 2056.0, 9898.0, 1756.0, 11014.0, 1180.0, 3077.0, 3748.0, 3724.0, 1794.0, 1746.0, null, 932.0, 1807.0, 2152.0, 4436.0, 1565.0, 2338.0, 2865.0, 5725.0, 1453.0, 2688.0, 16518.0, 1163.0, 1161.0, null, 2003.0, null, 1678.0, 775.0, 660.0], \"yaxis\": \"y\"}],                        {\"legend\": {\"title\": {\"text\": \"continent\"}, \"tracegroupgap\": 0}, \"margin\": {\"t\": 60}, \"template\": {\"data\": {\"bar\": [{\"error_x\": {\"color\": \"#2a3f5f\"}, \"error_y\": {\"color\": \"#2a3f5f\"}, \"marker\": {\"line\": {\"color\": \"#E5ECF6\", \"width\": 0.5}}, \"type\": \"bar\"}], \"barpolar\": [{\"marker\": {\"line\": {\"color\": \"#E5ECF6\", \"width\": 0.5}}, \"type\": \"barpolar\"}], \"carpet\": [{\"aaxis\": {\"endlinecolor\": \"#2a3f5f\", \"gridcolor\": \"white\", \"linecolor\": \"white\", \"minorgridcolor\": \"white\", \"startlinecolor\": \"#2a3f5f\"}, \"baxis\": {\"endlinecolor\": \"#2a3f5f\", \"gridcolor\": \"white\", \"linecolor\": \"white\", \"minorgridcolor\": \"white\", \"startlinecolor\": \"#2a3f5f\"}, \"type\": \"carpet\"}], \"choropleth\": [{\"colorbar\": {\"outlinewidth\": 0, \"ticks\": \"\"}, \"type\": \"choropleth\"}], \"contour\": [{\"colorbar\": {\"outlinewidth\": 0, \"ticks\": \"\"}, \"colorscale\": [[0.0, \"#0d0887\"], [0.1111111111111111, \"#46039f\"], [0.2222222222222222, \"#7201a8\"], [0.3333333333333333, \"#9c179e\"], [0.4444444444444444, \"#bd3786\"], [0.5555555555555556, \"#d8576b\"], [0.6666666666666666, \"#ed7953\"], [0.7777777777777778, \"#fb9f3a\"], [0.8888888888888888, \"#fdca26\"], [1.0, \"#f0f921\"]], \"type\": \"contour\"}], \"contourcarpet\": [{\"colorbar\": {\"outlinewidth\": 0, \"ticks\": \"\"}, \"type\": \"contourcarpet\"}], \"heatmap\": [{\"colorbar\": {\"outlinewidth\": 0, \"ticks\": \"\"}, \"colorscale\": [[0.0, \"#0d0887\"], [0.1111111111111111, \"#46039f\"], [0.2222222222222222, \"#7201a8\"], [0.3333333333333333, \"#9c179e\"], [0.4444444444444444, \"#bd3786\"], [0.5555555555555556, \"#d8576b\"], [0.6666666666666666, \"#ed7953\"], [0.7777777777777778, \"#fb9f3a\"], [0.8888888888888888, \"#fdca26\"], [1.0, \"#f0f921\"]], \"type\": \"heatmap\"}], \"heatmapgl\": [{\"colorbar\": {\"outlinewidth\": 0, \"ticks\": \"\"}, \"colorscale\": [[0.0, \"#0d0887\"], [0.1111111111111111, \"#46039f\"], [0.2222222222222222, \"#7201a8\"], [0.3333333333333333, \"#9c179e\"], [0.4444444444444444, \"#bd3786\"], [0.5555555555555556, \"#d8576b\"], [0.6666666666666666, \"#ed7953\"], [0.7777777777777778, \"#fb9f3a\"], [0.8888888888888888, \"#fdca26\"], [1.0, \"#f0f921\"]], \"type\": \"heatmapgl\"}], \"histogram\": [{\"marker\": {\"colorbar\": {\"outlinewidth\": 0, \"ticks\": \"\"}}, \"type\": \"histogram\"}], \"histogram2d\": [{\"colorbar\": {\"outlinewidth\": 0, \"ticks\": \"\"}, \"colorscale\": [[0.0, \"#0d0887\"], [0.1111111111111111, \"#46039f\"], [0.2222222222222222, \"#7201a8\"], [0.3333333333333333, \"#9c179e\"], [0.4444444444444444, \"#bd3786\"], [0.5555555555555556, \"#d8576b\"], [0.6666666666666666, \"#ed7953\"], [0.7777777777777778, \"#fb9f3a\"], [0.8888888888888888, \"#fdca26\"], [1.0, \"#f0f921\"]], \"type\": \"histogram2d\"}], \"histogram2dcontour\": [{\"colorbar\": {\"outlinewidth\": 0, \"ticks\": \"\"}, \"colorscale\": [[0.0, \"#0d0887\"], [0.1111111111111111, \"#46039f\"], [0.2222222222222222, \"#7201a8\"], [0.3333333333333333, \"#9c179e\"], [0.4444444444444444, \"#bd3786\"], [0.5555555555555556, \"#d8576b\"], [0.6666666666666666, \"#ed7953\"], [0.7777777777777778, \"#fb9f3a\"], [0.8888888888888888, \"#fdca26\"], [1.0, \"#f0f921\"]], \"type\": \"histogram2dcontour\"}], \"mesh3d\": [{\"colorbar\": {\"outlinewidth\": 0, \"ticks\": \"\"}, \"type\": \"mesh3d\"}], \"parcoords\": [{\"line\": {\"colorbar\": {\"outlinewidth\": 0, \"ticks\": \"\"}}, \"type\": \"parcoords\"}], \"pie\": [{\"automargin\": true, \"type\": \"pie\"}], \"scatter\": [{\"marker\": {\"colorbar\": {\"outlinewidth\": 0, \"ticks\": \"\"}}, \"type\": \"scatter\"}], \"scatter3d\": [{\"line\": {\"colorbar\": {\"outlinewidth\": 0, \"ticks\": \"\"}}, \"marker\": {\"colorbar\": {\"outlinewidth\": 0, \"ticks\": \"\"}}, \"type\": \"scatter3d\"}], \"scattercarpet\": [{\"marker\": {\"colorbar\": {\"outlinewidth\": 0, \"ticks\": \"\"}}, \"type\": \"scattercarpet\"}], \"scattergeo\": [{\"marker\": {\"colorbar\": {\"outlinewidth\": 0, \"ticks\": \"\"}}, \"type\": \"scattergeo\"}], \"scattergl\": [{\"marker\": {\"colorbar\": {\"outlinewidth\": 0, \"ticks\": \"\"}}, \"type\": \"scattergl\"}], \"scattermapbox\": [{\"marker\": {\"colorbar\": {\"outlinewidth\": 0, \"ticks\": \"\"}}, \"type\": \"scattermapbox\"}], \"scatterpolar\": [{\"marker\": {\"colorbar\": {\"outlinewidth\": 0, \"ticks\": \"\"}}, \"type\": \"scatterpolar\"}], \"scatterpolargl\": [{\"marker\": {\"colorbar\": {\"outlinewidth\": 0, \"ticks\": \"\"}}, \"type\": \"scatterpolargl\"}], \"scatterternary\": [{\"marker\": {\"colorbar\": {\"outlinewidth\": 0, \"ticks\": \"\"}}, \"type\": \"scatterternary\"}], \"surface\": [{\"colorbar\": {\"outlinewidth\": 0, \"ticks\": \"\"}, \"colorscale\": [[0.0, \"#0d0887\"], [0.1111111111111111, \"#46039f\"], [0.2222222222222222, \"#7201a8\"], [0.3333333333333333, \"#9c179e\"], [0.4444444444444444, \"#bd3786\"], [0.5555555555555556, \"#d8576b\"], [0.6666666666666666, \"#ed7953\"], [0.7777777777777778, \"#fb9f3a\"], [0.8888888888888888, \"#fdca26\"], [1.0, \"#f0f921\"]], \"type\": \"surface\"}], \"table\": [{\"cells\": {\"fill\": {\"color\": \"#EBF0F8\"}, \"line\": {\"color\": \"white\"}}, \"header\": {\"fill\": {\"color\": \"#C8D4E3\"}, \"line\": {\"color\": \"white\"}}, \"type\": \"table\"}]}, \"layout\": {\"annotationdefaults\": {\"arrowcolor\": \"#2a3f5f\", \"arrowhead\": 0, \"arrowwidth\": 1}, \"autotypenumbers\": \"strict\", \"coloraxis\": {\"colorbar\": {\"outlinewidth\": 0, \"ticks\": \"\"}}, \"colorscale\": {\"diverging\": [[0, \"#8e0152\"], [0.1, \"#c51b7d\"], [0.2, \"#de77ae\"], [0.3, \"#f1b6da\"], [0.4, \"#fde0ef\"], [0.5, \"#f7f7f7\"], [0.6, \"#e6f5d0\"], [0.7, \"#b8e186\"], [0.8, \"#7fbc41\"], [0.9, \"#4d9221\"], [1, \"#276419\"]], \"sequential\": [[0.0, \"#0d0887\"], [0.1111111111111111, \"#46039f\"], [0.2222222222222222, \"#7201a8\"], [0.3333333333333333, \"#9c179e\"], [0.4444444444444444, \"#bd3786\"], [0.5555555555555556, \"#d8576b\"], [0.6666666666666666, \"#ed7953\"], [0.7777777777777778, \"#fb9f3a\"], [0.8888888888888888, \"#fdca26\"], [1.0, \"#f0f921\"]], \"sequentialminus\": [[0.0, \"#0d0887\"], [0.1111111111111111, \"#46039f\"], [0.2222222222222222, \"#7201a8\"], [0.3333333333333333, \"#9c179e\"], [0.4444444444444444, \"#bd3786\"], [0.5555555555555556, \"#d8576b\"], [0.6666666666666666, \"#ed7953\"], [0.7777777777777778, \"#fb9f3a\"], [0.8888888888888888, \"#fdca26\"], [1.0, \"#f0f921\"]]}, \"colorway\": [\"#636efa\", \"#EF553B\", \"#00cc96\", \"#ab63fa\", \"#FFA15A\", \"#19d3f3\", \"#FF6692\", \"#B6E880\", \"#FF97FF\", \"#FECB52\"], \"font\": {\"color\": \"#2a3f5f\"}, \"geo\": {\"bgcolor\": \"white\", \"lakecolor\": \"white\", \"landcolor\": \"#E5ECF6\", \"showlakes\": true, \"showland\": true, \"subunitcolor\": \"white\"}, \"hoverlabel\": {\"align\": \"left\"}, \"hovermode\": \"closest\", \"mapbox\": {\"style\": \"light\"}, \"paper_bgcolor\": \"white\", \"plot_bgcolor\": \"#E5ECF6\", \"polar\": {\"angularaxis\": {\"gridcolor\": \"white\", \"linecolor\": \"white\", \"ticks\": \"\"}, \"bgcolor\": \"#E5ECF6\", \"radialaxis\": {\"gridcolor\": \"white\", \"linecolor\": \"white\", \"ticks\": \"\"}}, \"scene\": {\"xaxis\": {\"backgroundcolor\": \"#E5ECF6\", \"gridcolor\": \"white\", \"gridwidth\": 2, \"linecolor\": \"white\", \"showbackground\": true, \"ticks\": \"\", \"zerolinecolor\": \"white\"}, \"yaxis\": {\"backgroundcolor\": \"#E5ECF6\", \"gridcolor\": \"white\", \"gridwidth\": 2, \"linecolor\": \"white\", \"showbackground\": true, \"ticks\": \"\", \"zerolinecolor\": \"white\"}, \"zaxis\": {\"backgroundcolor\": \"#E5ECF6\", \"gridcolor\": \"white\", \"gridwidth\": 2, \"linecolor\": \"white\", \"showbackground\": true, \"ticks\": \"\", \"zerolinecolor\": \"white\"}}, \"shapedefaults\": {\"line\": {\"color\": \"#2a3f5f\"}}, \"ternary\": {\"aaxis\": {\"gridcolor\": \"white\", \"linecolor\": \"white\", \"ticks\": \"\"}, \"baxis\": {\"gridcolor\": \"white\", \"linecolor\": \"white\", \"ticks\": \"\"}, \"bgcolor\": \"#E5ECF6\", \"caxis\": {\"gridcolor\": \"white\", \"linecolor\": \"white\", \"ticks\": \"\"}}, \"title\": {\"x\": 0.05}, \"xaxis\": {\"automargin\": true, \"gridcolor\": \"white\", \"linecolor\": \"white\", \"ticks\": \"\", \"title\": {\"standoff\": 15}, \"zerolinecolor\": \"white\", \"zerolinewidth\": 2}, \"yaxis\": {\"automargin\": true, \"gridcolor\": \"white\", \"linecolor\": \"white\", \"ticks\": \"\", \"title\": {\"standoff\": 15}, \"zerolinecolor\": \"white\", \"zerolinewidth\": 2}}}, \"xaxis\": {\"anchor\": \"y\", \"domain\": [0.0, 1.0], \"title\": {\"text\": \"Happiness Score\"}}, \"yaxis\": {\"anchor\": \"x\", \"domain\": [0.0, 1.0], \"title\": {\"text\": \"GDP_per_capita\"}}},                        {\"responsive\": true}                    ).then(function(){\n",
       "                            \n",
       "var gd = document.getElementById('c8c821e6-0b66-4a94-8ddf-71cb34f9c27b');\n",
       "var x = new MutationObserver(function (mutations, observer) {{\n",
       "        var display = window.getComputedStyle(gd).display;\n",
       "        if (!display || display === 'none') {{\n",
       "            console.log([gd, 'removed!']);\n",
       "            Plotly.purge(gd);\n",
       "            observer.disconnect();\n",
       "        }}\n",
       "}});\n",
       "\n",
       "// Listen for the removal of the full notebook cells\n",
       "var notebookContainer = gd.closest('#notebook-container');\n",
       "if (notebookContainer) {{\n",
       "    x.observe(notebookContainer, {childList: true});\n",
       "}}\n",
       "\n",
       "// Listen for the clearing of the current output cell\n",
       "var outputEl = gd.closest('.output');\n",
       "if (outputEl) {{\n",
       "    x.observe(outputEl, {childList: true});\n",
       "}}\n",
       "\n",
       "                        })                };                });            </script>        </div>"
      ]
     },
     "metadata": {},
     "output_type": "display_data"
    }
   ],
   "source": [
    "import plotly.express as px\n",
    "import pandas as pd\n",
    "\n",
    "\n",
    "fig = px.scatter(data1, x = data1[\"Happiness Score\"], y=data1[\"GDP_per_capita\"], color=data1[\"continent\"],\n",
    "                 hover_data=[\"Country\"])\n",
    "\n",
    "\n",
    "fig\n"
   ]
  },
  {
   "cell_type": "code",
   "execution_count": 34,
   "metadata": {
    "ExecuteTime": {
     "end_time": "2021-02-17T09:57:52.200832Z",
     "start_time": "2021-02-17T09:57:52.164942Z"
    }
   },
   "outputs": [
    {
     "data": {
      "application/vnd.plotly.v1+json": {
       "config": {
        "plotlyServerURL": "https://plot.ly"
       },
       "data": [
        {
         "base": [
          [
           1,
           "Finland",
           7.632,
           1.305,
           1.592,
           0.874,
           0.681,
           0.202,
           0.393,
           51.11,
           41899,
           "Europe",
           "Northern Europe"
          ],
          [
           2,
           "Norway",
           7.594,
           1.456,
           1.582,
           0.861,
           0.686,
           0.286,
           0.34,
           38.4,
           65441,
           "Europe",
           "Northern Europe"
          ],
          [
           3,
           "Denmark",
           7.555,
           1.351,
           1.59,
           0.868,
           0.683,
           0.284,
           0.408,
           55.858,
           47673,
           "Europe",
           "Northern Europe"
          ],
          [
           4,
           "Iceland",
           7.495,
           1.343,
           1.644,
           0.914,
           0.677,
           0.353,
           0.138,
           46.24,
           48606,
           "Europe",
           "Northern Europe"
          ],
          [
           5,
           "Switzerland",
           7.487,
           1.42,
           1.549,
           0.927,
           0.66,
           0.256,
           0.357,
           41.67,
           59019,
           "Europe",
           "Western Europe"
          ],
          [
           6,
           "Netherlands",
           7.441,
           1.361,
           1.488,
           0.878,
           0.638,
           0.333,
           0.295,
           51.95,
           49804,
           "Europe",
           "Western Europe"
          ],
          [
           7,
           "Canada",
           7.328,
           1.33,
           1.532,
           0.896,
           0.653,
           0.321,
           0.291,
           53.529,
           44051,
           "Americas",
           "Northern America"
          ],
          [
           8,
           "New Zealand",
           7.324,
           1.268,
           1.601,
           0.876,
           0.669,
           0.365,
           0.389,
           33,
           36355,
           "Oceania",
           "Australia and New Zealand"
          ],
          [
           9,
           "Sweden",
           7.314,
           1.355,
           1.501,
           0.913,
           0.659,
           0.285,
           0.383,
           57.12,
           47194,
           "Europe",
           "Northern Europe"
          ],
          [
           10,
           "Australia",
           7.272,
           1.34,
           1.573,
           0.91,
           0.647,
           0.361,
           0.302,
           47,
           45439,
           "Oceania",
           "Australia and New Zealand"
          ],
          [
           11,
           "United Kingdom",
           7.191,
           1.244,
           1.433,
           0.888,
           0.464,
           0.262,
           0.082,
           45,
           40158,
           "Europe",
           null
          ],
          [
           12,
           "Austria",
           7.139,
           1.341,
           1.504,
           0.891,
           0.617,
           0.242,
           0.224,
           55,
           46473,
           "Europe",
           "Western Europe"
          ],
          [
           13,
           "Costa Rica",
           7.072,
           1.01,
           1.459,
           0.817,
           0.632,
           0.143,
           0.101,
           null,
           15685,
           "Americas",
           "Central America"
          ],
          [
           14,
           "Ireland",
           6.977,
           1.448,
           1.583,
           0.876,
           0.614,
           0.307,
           0.306,
           48,
           70361,
           "Europe",
           "Northern Europe"
          ],
          [
           15,
           "Germany",
           6.965,
           1.34,
           1.474,
           0.861,
           0.586,
           0.273,
           0.28,
           47.475,
           45959,
           "Europe",
           "Western Europe"
          ],
          [
           16,
           "Belgium",
           6.927,
           1.324,
           1.483,
           0.894,
           0.583,
           0.188,
           0.24,
           52.934,
           43218,
           "Europe",
           "Western Europe"
          ],
          [
           17,
           "Luxembourg",
           6.911,
           1.576,
           1.52,
           0.896,
           0.632,
           0.196,
           0.321,
           45.78,
           93734,
           "Europe",
           "Western Europe"
          ],
          [
           18,
           "United States",
           6.886,
           1.398,
           1.471,
           0.819,
           0.547,
           0.291,
           0.133,
           43.65,
           55681,
           "Americas",
           null
          ],
          [
           19,
           "Israel",
           6.814,
           1.301,
           1.559,
           0.883,
           0.533,
           0.354,
           0.272,
           50,
           33661,
           "Asia",
           "Western Asia"
          ],
          [
           20,
           "United Arab Emirates",
           6.774,
           2.096,
           0.776,
           0.67,
           0.284,
           0.186,
           null,
           null,
           66616,
           "Asia",
           "Western Asia"
          ],
          [
           21,
           "Czech Republic",
           6.711,
           1.233,
           1.489,
           0.854,
           0.543,
           0.064,
           0.034,
           15,
           null,
           "Europe",
           "Eastern Europe"
          ],
          [
           22,
           "Malta",
           6.627,
           1.27,
           1.525,
           0.884,
           0.645,
           0.376,
           0.142,
           null,
           38147,
           "Europe",
           "Southern Europe"
          ],
          [
           23,
           "France",
           6.489,
           1.293,
           1.466,
           0.908,
           0.52,
           0.098,
           0.176,
           55.368,
           39556,
           "Europe",
           "Western Europe"
          ],
          [
           24,
           "Mexico",
           6.488,
           1.038,
           1.252,
           0.761,
           0.479,
           0.069,
           0.095,
           35,
           18102,
           "Americas",
           "Central America"
          ],
          [
           25,
           "Chile",
           6.476,
           1.131,
           1.331,
           0.808,
           0.431,
           0.197,
           0.061,
           35,
           22874,
           "Americas",
           "South America"
          ]
         ],
         "marker": {
          "color": "crimson"
         },
         "name": "Maximun Personal Income Tax",
         "type": "bar",
         "x": [
          "Finland",
          "Norway",
          "Denmark",
          "Iceland",
          "Switzerland",
          "Netherlands",
          "Canada",
          "New Zealand",
          "Sweden",
          "Australia",
          "United Kingdom",
          "Austria",
          "Costa Rica",
          "Ireland",
          "Germany",
          "Belgium",
          "Luxembourg",
          "United States",
          "Israel",
          "United Arab Emirates",
          "Czech Republic",
          "Malta",
          "France",
          "Mexico",
          "Chile"
         ],
         "y": [
          51.11,
          38.4,
          55.858,
          46.24,
          41.67,
          51.95,
          53.529,
          33,
          57.12,
          47,
          45,
          55,
          null,
          48,
          47.475,
          52.934,
          45.78,
          43.65,
          50,
          null,
          15,
          null,
          55.368,
          35,
          35
         ]
        },
        {
         "base": [
          [
           1,
           "Finland",
           7.632,
           1.305,
           1.592,
           0.874,
           0.681,
           0.202,
           0.393,
           51.11,
           41899,
           "Europe",
           "Northern Europe"
          ],
          [
           2,
           "Norway",
           7.594,
           1.456,
           1.582,
           0.861,
           0.686,
           0.286,
           0.34,
           38.4,
           65441,
           "Europe",
           "Northern Europe"
          ],
          [
           3,
           "Denmark",
           7.555,
           1.351,
           1.59,
           0.868,
           0.683,
           0.284,
           0.408,
           55.858,
           47673,
           "Europe",
           "Northern Europe"
          ],
          [
           4,
           "Iceland",
           7.495,
           1.343,
           1.644,
           0.914,
           0.677,
           0.353,
           0.138,
           46.24,
           48606,
           "Europe",
           "Northern Europe"
          ],
          [
           5,
           "Switzerland",
           7.487,
           1.42,
           1.549,
           0.927,
           0.66,
           0.256,
           0.357,
           41.67,
           59019,
           "Europe",
           "Western Europe"
          ],
          [
           6,
           "Netherlands",
           7.441,
           1.361,
           1.488,
           0.878,
           0.638,
           0.333,
           0.295,
           51.95,
           49804,
           "Europe",
           "Western Europe"
          ],
          [
           7,
           "Canada",
           7.328,
           1.33,
           1.532,
           0.896,
           0.653,
           0.321,
           0.291,
           53.529,
           44051,
           "Americas",
           "Northern America"
          ],
          [
           8,
           "New Zealand",
           7.324,
           1.268,
           1.601,
           0.876,
           0.669,
           0.365,
           0.389,
           33,
           36355,
           "Oceania",
           "Australia and New Zealand"
          ],
          [
           9,
           "Sweden",
           7.314,
           1.355,
           1.501,
           0.913,
           0.659,
           0.285,
           0.383,
           57.12,
           47194,
           "Europe",
           "Northern Europe"
          ],
          [
           10,
           "Australia",
           7.272,
           1.34,
           1.573,
           0.91,
           0.647,
           0.361,
           0.302,
           47,
           45439,
           "Oceania",
           "Australia and New Zealand"
          ],
          [
           11,
           "United Kingdom",
           7.191,
           1.244,
           1.433,
           0.888,
           0.464,
           0.262,
           0.082,
           45,
           40158,
           "Europe",
           null
          ],
          [
           12,
           "Austria",
           7.139,
           1.341,
           1.504,
           0.891,
           0.617,
           0.242,
           0.224,
           55,
           46473,
           "Europe",
           "Western Europe"
          ],
          [
           13,
           "Costa Rica",
           7.072,
           1.01,
           1.459,
           0.817,
           0.632,
           0.143,
           0.101,
           null,
           15685,
           "Americas",
           "Central America"
          ],
          [
           14,
           "Ireland",
           6.977,
           1.448,
           1.583,
           0.876,
           0.614,
           0.307,
           0.306,
           48,
           70361,
           "Europe",
           "Northern Europe"
          ],
          [
           15,
           "Germany",
           6.965,
           1.34,
           1.474,
           0.861,
           0.586,
           0.273,
           0.28,
           47.475,
           45959,
           "Europe",
           "Western Europe"
          ],
          [
           16,
           "Belgium",
           6.927,
           1.324,
           1.483,
           0.894,
           0.583,
           0.188,
           0.24,
           52.934,
           43218,
           "Europe",
           "Western Europe"
          ],
          [
           17,
           "Luxembourg",
           6.911,
           1.576,
           1.52,
           0.896,
           0.632,
           0.196,
           0.321,
           45.78,
           93734,
           "Europe",
           "Western Europe"
          ],
          [
           18,
           "United States",
           6.886,
           1.398,
           1.471,
           0.819,
           0.547,
           0.291,
           0.133,
           43.65,
           55681,
           "Americas",
           null
          ],
          [
           19,
           "Israel",
           6.814,
           1.301,
           1.559,
           0.883,
           0.533,
           0.354,
           0.272,
           50,
           33661,
           "Asia",
           "Western Asia"
          ],
          [
           20,
           "United Arab Emirates",
           6.774,
           2.096,
           0.776,
           0.67,
           0.284,
           0.186,
           null,
           null,
           66616,
           "Asia",
           "Western Asia"
          ],
          [
           21,
           "Czech Republic",
           6.711,
           1.233,
           1.489,
           0.854,
           0.543,
           0.064,
           0.034,
           15,
           null,
           "Europe",
           "Eastern Europe"
          ],
          [
           22,
           "Malta",
           6.627,
           1.27,
           1.525,
           0.884,
           0.645,
           0.376,
           0.142,
           null,
           38147,
           "Europe",
           "Southern Europe"
          ],
          [
           23,
           "France",
           6.489,
           1.293,
           1.466,
           0.908,
           0.52,
           0.098,
           0.176,
           55.368,
           39556,
           "Europe",
           "Western Europe"
          ],
          [
           24,
           "Mexico",
           6.488,
           1.038,
           1.252,
           0.761,
           0.479,
           0.069,
           0.095,
           35,
           18102,
           "Americas",
           "Central America"
          ],
          [
           25,
           "Chile",
           6.476,
           1.131,
           1.331,
           0.808,
           0.431,
           0.197,
           0.061,
           35,
           22874,
           "Americas",
           "South America"
          ]
         ],
         "marker": {
          "color": "lightslategrey"
         },
         "name": "Happiness Index as a percentage ",
         "type": "bar",
         "x": [
          "Finland",
          "Norway",
          "Denmark",
          "Iceland",
          "Switzerland",
          "Netherlands",
          "Canada",
          "New Zealand",
          "Sweden",
          "Australia",
          "United Kingdom",
          "Austria",
          "Costa Rica",
          "Ireland",
          "Germany",
          "Belgium",
          "Luxembourg",
          "United States",
          "Israel",
          "United Arab Emirates",
          "Czech Republic",
          "Malta",
          "France",
          "Mexico",
          "Chile"
         ],
         "y": [
          76.32,
          75.94,
          75.55,
          74.95,
          74.87,
          74.41,
          73.28,
          73.24,
          73.14,
          72.72,
          71.91,
          71.39,
          70.72,
          69.77000000000001,
          69.65,
          69.27,
          69.11,
          68.86,
          68.14,
          67.74,
          67.11,
          66.27,
          64.89,
          64.88000000000001,
          64.76
         ]
        }
       ],
       "layout": {
        "template": {
         "data": {
          "bar": [
           {
            "error_x": {
             "color": "#2a3f5f"
            },
            "error_y": {
             "color": "#2a3f5f"
            },
            "marker": {
             "line": {
              "color": "#E5ECF6",
              "width": 0.5
             }
            },
            "type": "bar"
           }
          ],
          "barpolar": [
           {
            "marker": {
             "line": {
              "color": "#E5ECF6",
              "width": 0.5
             }
            },
            "type": "barpolar"
           }
          ],
          "carpet": [
           {
            "aaxis": {
             "endlinecolor": "#2a3f5f",
             "gridcolor": "white",
             "linecolor": "white",
             "minorgridcolor": "white",
             "startlinecolor": "#2a3f5f"
            },
            "baxis": {
             "endlinecolor": "#2a3f5f",
             "gridcolor": "white",
             "linecolor": "white",
             "minorgridcolor": "white",
             "startlinecolor": "#2a3f5f"
            },
            "type": "carpet"
           }
          ],
          "choropleth": [
           {
            "colorbar": {
             "outlinewidth": 0,
             "ticks": ""
            },
            "type": "choropleth"
           }
          ],
          "contour": [
           {
            "colorbar": {
             "outlinewidth": 0,
             "ticks": ""
            },
            "colorscale": [
             [
              0,
              "#0d0887"
             ],
             [
              0.1111111111111111,
              "#46039f"
             ],
             [
              0.2222222222222222,
              "#7201a8"
             ],
             [
              0.3333333333333333,
              "#9c179e"
             ],
             [
              0.4444444444444444,
              "#bd3786"
             ],
             [
              0.5555555555555556,
              "#d8576b"
             ],
             [
              0.6666666666666666,
              "#ed7953"
             ],
             [
              0.7777777777777778,
              "#fb9f3a"
             ],
             [
              0.8888888888888888,
              "#fdca26"
             ],
             [
              1,
              "#f0f921"
             ]
            ],
            "type": "contour"
           }
          ],
          "contourcarpet": [
           {
            "colorbar": {
             "outlinewidth": 0,
             "ticks": ""
            },
            "type": "contourcarpet"
           }
          ],
          "heatmap": [
           {
            "colorbar": {
             "outlinewidth": 0,
             "ticks": ""
            },
            "colorscale": [
             [
              0,
              "#0d0887"
             ],
             [
              0.1111111111111111,
              "#46039f"
             ],
             [
              0.2222222222222222,
              "#7201a8"
             ],
             [
              0.3333333333333333,
              "#9c179e"
             ],
             [
              0.4444444444444444,
              "#bd3786"
             ],
             [
              0.5555555555555556,
              "#d8576b"
             ],
             [
              0.6666666666666666,
              "#ed7953"
             ],
             [
              0.7777777777777778,
              "#fb9f3a"
             ],
             [
              0.8888888888888888,
              "#fdca26"
             ],
             [
              1,
              "#f0f921"
             ]
            ],
            "type": "heatmap"
           }
          ],
          "heatmapgl": [
           {
            "colorbar": {
             "outlinewidth": 0,
             "ticks": ""
            },
            "colorscale": [
             [
              0,
              "#0d0887"
             ],
             [
              0.1111111111111111,
              "#46039f"
             ],
             [
              0.2222222222222222,
              "#7201a8"
             ],
             [
              0.3333333333333333,
              "#9c179e"
             ],
             [
              0.4444444444444444,
              "#bd3786"
             ],
             [
              0.5555555555555556,
              "#d8576b"
             ],
             [
              0.6666666666666666,
              "#ed7953"
             ],
             [
              0.7777777777777778,
              "#fb9f3a"
             ],
             [
              0.8888888888888888,
              "#fdca26"
             ],
             [
              1,
              "#f0f921"
             ]
            ],
            "type": "heatmapgl"
           }
          ],
          "histogram": [
           {
            "marker": {
             "colorbar": {
              "outlinewidth": 0,
              "ticks": ""
             }
            },
            "type": "histogram"
           }
          ],
          "histogram2d": [
           {
            "colorbar": {
             "outlinewidth": 0,
             "ticks": ""
            },
            "colorscale": [
             [
              0,
              "#0d0887"
             ],
             [
              0.1111111111111111,
              "#46039f"
             ],
             [
              0.2222222222222222,
              "#7201a8"
             ],
             [
              0.3333333333333333,
              "#9c179e"
             ],
             [
              0.4444444444444444,
              "#bd3786"
             ],
             [
              0.5555555555555556,
              "#d8576b"
             ],
             [
              0.6666666666666666,
              "#ed7953"
             ],
             [
              0.7777777777777778,
              "#fb9f3a"
             ],
             [
              0.8888888888888888,
              "#fdca26"
             ],
             [
              1,
              "#f0f921"
             ]
            ],
            "type": "histogram2d"
           }
          ],
          "histogram2dcontour": [
           {
            "colorbar": {
             "outlinewidth": 0,
             "ticks": ""
            },
            "colorscale": [
             [
              0,
              "#0d0887"
             ],
             [
              0.1111111111111111,
              "#46039f"
             ],
             [
              0.2222222222222222,
              "#7201a8"
             ],
             [
              0.3333333333333333,
              "#9c179e"
             ],
             [
              0.4444444444444444,
              "#bd3786"
             ],
             [
              0.5555555555555556,
              "#d8576b"
             ],
             [
              0.6666666666666666,
              "#ed7953"
             ],
             [
              0.7777777777777778,
              "#fb9f3a"
             ],
             [
              0.8888888888888888,
              "#fdca26"
             ],
             [
              1,
              "#f0f921"
             ]
            ],
            "type": "histogram2dcontour"
           }
          ],
          "mesh3d": [
           {
            "colorbar": {
             "outlinewidth": 0,
             "ticks": ""
            },
            "type": "mesh3d"
           }
          ],
          "parcoords": [
           {
            "line": {
             "colorbar": {
              "outlinewidth": 0,
              "ticks": ""
             }
            },
            "type": "parcoords"
           }
          ],
          "pie": [
           {
            "automargin": true,
            "type": "pie"
           }
          ],
          "scatter": [
           {
            "marker": {
             "colorbar": {
              "outlinewidth": 0,
              "ticks": ""
             }
            },
            "type": "scatter"
           }
          ],
          "scatter3d": [
           {
            "line": {
             "colorbar": {
              "outlinewidth": 0,
              "ticks": ""
             }
            },
            "marker": {
             "colorbar": {
              "outlinewidth": 0,
              "ticks": ""
             }
            },
            "type": "scatter3d"
           }
          ],
          "scattercarpet": [
           {
            "marker": {
             "colorbar": {
              "outlinewidth": 0,
              "ticks": ""
             }
            },
            "type": "scattercarpet"
           }
          ],
          "scattergeo": [
           {
            "marker": {
             "colorbar": {
              "outlinewidth": 0,
              "ticks": ""
             }
            },
            "type": "scattergeo"
           }
          ],
          "scattergl": [
           {
            "marker": {
             "colorbar": {
              "outlinewidth": 0,
              "ticks": ""
             }
            },
            "type": "scattergl"
           }
          ],
          "scattermapbox": [
           {
            "marker": {
             "colorbar": {
              "outlinewidth": 0,
              "ticks": ""
             }
            },
            "type": "scattermapbox"
           }
          ],
          "scatterpolar": [
           {
            "marker": {
             "colorbar": {
              "outlinewidth": 0,
              "ticks": ""
             }
            },
            "type": "scatterpolar"
           }
          ],
          "scatterpolargl": [
           {
            "marker": {
             "colorbar": {
              "outlinewidth": 0,
              "ticks": ""
             }
            },
            "type": "scatterpolargl"
           }
          ],
          "scatterternary": [
           {
            "marker": {
             "colorbar": {
              "outlinewidth": 0,
              "ticks": ""
             }
            },
            "type": "scatterternary"
           }
          ],
          "surface": [
           {
            "colorbar": {
             "outlinewidth": 0,
             "ticks": ""
            },
            "colorscale": [
             [
              0,
              "#0d0887"
             ],
             [
              0.1111111111111111,
              "#46039f"
             ],
             [
              0.2222222222222222,
              "#7201a8"
             ],
             [
              0.3333333333333333,
              "#9c179e"
             ],
             [
              0.4444444444444444,
              "#bd3786"
             ],
             [
              0.5555555555555556,
              "#d8576b"
             ],
             [
              0.6666666666666666,
              "#ed7953"
             ],
             [
              0.7777777777777778,
              "#fb9f3a"
             ],
             [
              0.8888888888888888,
              "#fdca26"
             ],
             [
              1,
              "#f0f921"
             ]
            ],
            "type": "surface"
           }
          ],
          "table": [
           {
            "cells": {
             "fill": {
              "color": "#EBF0F8"
             },
             "line": {
              "color": "white"
             }
            },
            "header": {
             "fill": {
              "color": "#C8D4E3"
             },
             "line": {
              "color": "white"
             }
            },
            "type": "table"
           }
          ]
         },
         "layout": {
          "annotationdefaults": {
           "arrowcolor": "#2a3f5f",
           "arrowhead": 0,
           "arrowwidth": 1
          },
          "autotypenumbers": "strict",
          "coloraxis": {
           "colorbar": {
            "outlinewidth": 0,
            "ticks": ""
           }
          },
          "colorscale": {
           "diverging": [
            [
             0,
             "#8e0152"
            ],
            [
             0.1,
             "#c51b7d"
            ],
            [
             0.2,
             "#de77ae"
            ],
            [
             0.3,
             "#f1b6da"
            ],
            [
             0.4,
             "#fde0ef"
            ],
            [
             0.5,
             "#f7f7f7"
            ],
            [
             0.6,
             "#e6f5d0"
            ],
            [
             0.7,
             "#b8e186"
            ],
            [
             0.8,
             "#7fbc41"
            ],
            [
             0.9,
             "#4d9221"
            ],
            [
             1,
             "#276419"
            ]
           ],
           "sequential": [
            [
             0,
             "#0d0887"
            ],
            [
             0.1111111111111111,
             "#46039f"
            ],
            [
             0.2222222222222222,
             "#7201a8"
            ],
            [
             0.3333333333333333,
             "#9c179e"
            ],
            [
             0.4444444444444444,
             "#bd3786"
            ],
            [
             0.5555555555555556,
             "#d8576b"
            ],
            [
             0.6666666666666666,
             "#ed7953"
            ],
            [
             0.7777777777777778,
             "#fb9f3a"
            ],
            [
             0.8888888888888888,
             "#fdca26"
            ],
            [
             1,
             "#f0f921"
            ]
           ],
           "sequentialminus": [
            [
             0,
             "#0d0887"
            ],
            [
             0.1111111111111111,
             "#46039f"
            ],
            [
             0.2222222222222222,
             "#7201a8"
            ],
            [
             0.3333333333333333,
             "#9c179e"
            ],
            [
             0.4444444444444444,
             "#bd3786"
            ],
            [
             0.5555555555555556,
             "#d8576b"
            ],
            [
             0.6666666666666666,
             "#ed7953"
            ],
            [
             0.7777777777777778,
             "#fb9f3a"
            ],
            [
             0.8888888888888888,
             "#fdca26"
            ],
            [
             1,
             "#f0f921"
            ]
           ]
          },
          "colorway": [
           "#636efa",
           "#EF553B",
           "#00cc96",
           "#ab63fa",
           "#FFA15A",
           "#19d3f3",
           "#FF6692",
           "#B6E880",
           "#FF97FF",
           "#FECB52"
          ],
          "font": {
           "color": "#2a3f5f"
          },
          "geo": {
           "bgcolor": "white",
           "lakecolor": "white",
           "landcolor": "#E5ECF6",
           "showlakes": true,
           "showland": true,
           "subunitcolor": "white"
          },
          "hoverlabel": {
           "align": "left"
          },
          "hovermode": "closest",
          "mapbox": {
           "style": "light"
          },
          "paper_bgcolor": "white",
          "plot_bgcolor": "#E5ECF6",
          "polar": {
           "angularaxis": {
            "gridcolor": "white",
            "linecolor": "white",
            "ticks": ""
           },
           "bgcolor": "#E5ECF6",
           "radialaxis": {
            "gridcolor": "white",
            "linecolor": "white",
            "ticks": ""
           }
          },
          "scene": {
           "xaxis": {
            "backgroundcolor": "#E5ECF6",
            "gridcolor": "white",
            "gridwidth": 2,
            "linecolor": "white",
            "showbackground": true,
            "ticks": "",
            "zerolinecolor": "white"
           },
           "yaxis": {
            "backgroundcolor": "#E5ECF6",
            "gridcolor": "white",
            "gridwidth": 2,
            "linecolor": "white",
            "showbackground": true,
            "ticks": "",
            "zerolinecolor": "white"
           },
           "zaxis": {
            "backgroundcolor": "#E5ECF6",
            "gridcolor": "white",
            "gridwidth": 2,
            "linecolor": "white",
            "showbackground": true,
            "ticks": "",
            "zerolinecolor": "white"
           }
          },
          "shapedefaults": {
           "line": {
            "color": "#2a3f5f"
           }
          },
          "ternary": {
           "aaxis": {
            "gridcolor": "white",
            "linecolor": "white",
            "ticks": ""
           },
           "baxis": {
            "gridcolor": "white",
            "linecolor": "white",
            "ticks": ""
           },
           "bgcolor": "#E5ECF6",
           "caxis": {
            "gridcolor": "white",
            "linecolor": "white",
            "ticks": ""
           }
          },
          "title": {
           "x": 0.05
          },
          "xaxis": {
           "automargin": true,
           "gridcolor": "white",
           "linecolor": "white",
           "ticks": "",
           "title": {
            "standoff": 15
           },
           "zerolinecolor": "white",
           "zerolinewidth": 2
          },
          "yaxis": {
           "automargin": true,
           "gridcolor": "white",
           "linecolor": "white",
           "ticks": "",
           "title": {
            "standoff": 15
           },
           "zerolinecolor": "white",
           "zerolinewidth": 2
          }
         }
        },
        "xaxis": {
         "tickangle": -45
        }
       }
      },
      "text/html": [
       "<div>                            <div id=\"1e901b8a-1453-4b2e-8631-62a9ad351c89\" class=\"plotly-graph-div\" style=\"height:525px; width:100%;\"></div>            <script type=\"text/javascript\">                require([\"plotly\"], function(Plotly) {                    window.PLOTLYENV=window.PLOTLYENV || {};                                    if (document.getElementById(\"1e901b8a-1453-4b2e-8631-62a9ad351c89\")) {                    Plotly.newPlot(                        \"1e901b8a-1453-4b2e-8631-62a9ad351c89\",                        [{\"base\": [[1, \"Finland\", 7.632, 1.305, 1.592, 0.874, 0.681, 0.202, 0.393, 51.11, 41899.0, \"Europe\", \"Northern Europe\"], [2, \"Norway\", 7.594, 1.456, 1.582, 0.861, 0.686, 0.286, 0.34, 38.4, 65441.0, \"Europe\", \"Northern Europe\"], [3, \"Denmark\", 7.555, 1.351, 1.59, 0.868, 0.683, 0.284, 0.408, 55.858, 47673.0, \"Europe\", \"Northern Europe\"], [4, \"Iceland\", 7.495, 1.343, 1.644, 0.914, 0.677, 0.353, 0.138, 46.24, 48606.0, \"Europe\", \"Northern Europe\"], [5, \"Switzerland\", 7.487, 1.42, 1.549, 0.927, 0.66, 0.256, 0.357, 41.67, 59019.0, \"Europe\", \"Western Europe\"], [6, \"Netherlands\", 7.441, 1.361, 1.488, 0.878, 0.638, 0.333, 0.295, 51.95, 49804.0, \"Europe\", \"Western Europe\"], [7, \"Canada\", 7.328, 1.33, 1.532, 0.896, 0.653, 0.321, 0.291, 53.529, 44051.0, \"Americas\", \"Northern America\"], [8, \"New Zealand\", 7.324, 1.268, 1.601, 0.876, 0.669, 0.365, 0.389, 33.0, 36355.0, \"Oceania\", \"Australia and New Zealand\"], [9, \"Sweden\", 7.314, 1.355, 1.501, 0.913, 0.659, 0.285, 0.383, 57.12, 47194.0, \"Europe\", \"Northern Europe\"], [10, \"Australia\", 7.272, 1.34, 1.573, 0.91, 0.647, 0.361, 0.302, 47.0, 45439.0, \"Oceania\", \"Australia and New Zealand\"], [11, \"United Kingdom\", 7.191, 1.244, 1.433, 0.888, 0.464, 0.262, 0.082, 45.0, 40158.0, \"Europe\", null], [12, \"Austria\", 7.139, 1.341, 1.504, 0.891, 0.617, 0.242, 0.224, 55.0, 46473.0, \"Europe\", \"Western Europe\"], [13, \"Costa Rica\", 7.072, 1.01, 1.459, 0.817, 0.632, 0.143, 0.101, null, 15685.0, \"Americas\", \"Central America\"], [14, \"Ireland\", 6.977, 1.448, 1.583, 0.876, 0.614, 0.307, 0.306, 48.0, 70361.0, \"Europe\", \"Northern Europe\"], [15, \"Germany\", 6.965, 1.34, 1.474, 0.861, 0.586, 0.273, 0.28, 47.475, 45959.0, \"Europe\", \"Western Europe\"], [16, \"Belgium\", 6.927, 1.324, 1.483, 0.894, 0.583, 0.188, 0.24, 52.934, 43218.0, \"Europe\", \"Western Europe\"], [17, \"Luxembourg\", 6.911, 1.576, 1.52, 0.896, 0.632, 0.196, 0.321, 45.78, 93734.0, \"Europe\", \"Western Europe\"], [18, \"United States\", 6.886, 1.398, 1.471, 0.819, 0.547, 0.291, 0.133, 43.65, 55681.0, \"Americas\", null], [19, \"Israel\", 6.814, 1.301, 1.559, 0.883, 0.533, 0.354, 0.272, 50.0, 33661.0, \"Asia\", \"Western Asia\"], [20, \"United Arab Emirates\", 6.774, 2.096, 0.776, 0.67, 0.284, 0.186, null, null, 66616.0, \"Asia\", \"Western Asia\"], [21, \"Czech Republic\", 6.711, 1.233, 1.489, 0.854, 0.543, 0.064, 0.034, 15.0, null, \"Europe\", \"Eastern Europe\"], [22, \"Malta\", 6.627, 1.27, 1.525, 0.884, 0.645, 0.376, 0.142, null, 38147.0, \"Europe\", \"Southern Europe\"], [23, \"France\", 6.489, 1.293, 1.466, 0.908, 0.52, 0.098, 0.176, 55.368, 39556.0, \"Europe\", \"Western Europe\"], [24, \"Mexico\", 6.488, 1.038, 1.252, 0.761, 0.479, 0.069, 0.095, 35.0, 18102.0, \"Americas\", \"Central America\"], [25, \"Chile\", 6.476, 1.131, 1.331, 0.808, 0.431, 0.197, 0.061, 35.0, 22874.0, \"Americas\", \"South America\"]], \"marker\": {\"color\": \"crimson\"}, \"name\": \"Maximun Personal Income Tax\", \"type\": \"bar\", \"x\": [\"Finland\", \"Norway\", \"Denmark\", \"Iceland\", \"Switzerland\", \"Netherlands\", \"Canada\", \"New Zealand\", \"Sweden\", \"Australia\", \"United Kingdom\", \"Austria\", \"Costa Rica\", \"Ireland\", \"Germany\", \"Belgium\", \"Luxembourg\", \"United States\", \"Israel\", \"United Arab Emirates\", \"Czech Republic\", \"Malta\", \"France\", \"Mexico\", \"Chile\"], \"y\": [51.11, 38.4, 55.858, 46.24, 41.67, 51.95, 53.529, 33.0, 57.12, 47.0, 45.0, 55.0, null, 48.0, 47.475, 52.934, 45.78, 43.65, 50.0, null, 15.0, null, 55.368, 35.0, 35.0]}, {\"base\": [[1, \"Finland\", 7.632, 1.305, 1.592, 0.874, 0.681, 0.202, 0.393, 51.11, 41899.0, \"Europe\", \"Northern Europe\"], [2, \"Norway\", 7.594, 1.456, 1.582, 0.861, 0.686, 0.286, 0.34, 38.4, 65441.0, \"Europe\", \"Northern Europe\"], [3, \"Denmark\", 7.555, 1.351, 1.59, 0.868, 0.683, 0.284, 0.408, 55.858, 47673.0, \"Europe\", \"Northern Europe\"], [4, \"Iceland\", 7.495, 1.343, 1.644, 0.914, 0.677, 0.353, 0.138, 46.24, 48606.0, \"Europe\", \"Northern Europe\"], [5, \"Switzerland\", 7.487, 1.42, 1.549, 0.927, 0.66, 0.256, 0.357, 41.67, 59019.0, \"Europe\", \"Western Europe\"], [6, \"Netherlands\", 7.441, 1.361, 1.488, 0.878, 0.638, 0.333, 0.295, 51.95, 49804.0, \"Europe\", \"Western Europe\"], [7, \"Canada\", 7.328, 1.33, 1.532, 0.896, 0.653, 0.321, 0.291, 53.529, 44051.0, \"Americas\", \"Northern America\"], [8, \"New Zealand\", 7.324, 1.268, 1.601, 0.876, 0.669, 0.365, 0.389, 33.0, 36355.0, \"Oceania\", \"Australia and New Zealand\"], [9, \"Sweden\", 7.314, 1.355, 1.501, 0.913, 0.659, 0.285, 0.383, 57.12, 47194.0, \"Europe\", \"Northern Europe\"], [10, \"Australia\", 7.272, 1.34, 1.573, 0.91, 0.647, 0.361, 0.302, 47.0, 45439.0, \"Oceania\", \"Australia and New Zealand\"], [11, \"United Kingdom\", 7.191, 1.244, 1.433, 0.888, 0.464, 0.262, 0.082, 45.0, 40158.0, \"Europe\", null], [12, \"Austria\", 7.139, 1.341, 1.504, 0.891, 0.617, 0.242, 0.224, 55.0, 46473.0, \"Europe\", \"Western Europe\"], [13, \"Costa Rica\", 7.072, 1.01, 1.459, 0.817, 0.632, 0.143, 0.101, null, 15685.0, \"Americas\", \"Central America\"], [14, \"Ireland\", 6.977, 1.448, 1.583, 0.876, 0.614, 0.307, 0.306, 48.0, 70361.0, \"Europe\", \"Northern Europe\"], [15, \"Germany\", 6.965, 1.34, 1.474, 0.861, 0.586, 0.273, 0.28, 47.475, 45959.0, \"Europe\", \"Western Europe\"], [16, \"Belgium\", 6.927, 1.324, 1.483, 0.894, 0.583, 0.188, 0.24, 52.934, 43218.0, \"Europe\", \"Western Europe\"], [17, \"Luxembourg\", 6.911, 1.576, 1.52, 0.896, 0.632, 0.196, 0.321, 45.78, 93734.0, \"Europe\", \"Western Europe\"], [18, \"United States\", 6.886, 1.398, 1.471, 0.819, 0.547, 0.291, 0.133, 43.65, 55681.0, \"Americas\", null], [19, \"Israel\", 6.814, 1.301, 1.559, 0.883, 0.533, 0.354, 0.272, 50.0, 33661.0, \"Asia\", \"Western Asia\"], [20, \"United Arab Emirates\", 6.774, 2.096, 0.776, 0.67, 0.284, 0.186, null, null, 66616.0, \"Asia\", \"Western Asia\"], [21, \"Czech Republic\", 6.711, 1.233, 1.489, 0.854, 0.543, 0.064, 0.034, 15.0, null, \"Europe\", \"Eastern Europe\"], [22, \"Malta\", 6.627, 1.27, 1.525, 0.884, 0.645, 0.376, 0.142, null, 38147.0, \"Europe\", \"Southern Europe\"], [23, \"France\", 6.489, 1.293, 1.466, 0.908, 0.52, 0.098, 0.176, 55.368, 39556.0, \"Europe\", \"Western Europe\"], [24, \"Mexico\", 6.488, 1.038, 1.252, 0.761, 0.479, 0.069, 0.095, 35.0, 18102.0, \"Americas\", \"Central America\"], [25, \"Chile\", 6.476, 1.131, 1.331, 0.808, 0.431, 0.197, 0.061, 35.0, 22874.0, \"Americas\", \"South America\"]], \"marker\": {\"color\": \"lightslategrey\"}, \"name\": \"Happiness Index as a percentage \", \"type\": \"bar\", \"x\": [\"Finland\", \"Norway\", \"Denmark\", \"Iceland\", \"Switzerland\", \"Netherlands\", \"Canada\", \"New Zealand\", \"Sweden\", \"Australia\", \"United Kingdom\", \"Austria\", \"Costa Rica\", \"Ireland\", \"Germany\", \"Belgium\", \"Luxembourg\", \"United States\", \"Israel\", \"United Arab Emirates\", \"Czech Republic\", \"Malta\", \"France\", \"Mexico\", \"Chile\"], \"y\": [76.32, 75.94, 75.55, 74.95, 74.87, 74.41, 73.28, 73.24, 73.14, 72.72, 71.91, 71.39, 70.72, 69.77000000000001, 69.65, 69.27, 69.11, 68.86, 68.14, 67.74, 67.11, 66.27, 64.89, 64.88000000000001, 64.76]}],                        {\"template\": {\"data\": {\"bar\": [{\"error_x\": {\"color\": \"#2a3f5f\"}, \"error_y\": {\"color\": \"#2a3f5f\"}, \"marker\": {\"line\": {\"color\": \"#E5ECF6\", \"width\": 0.5}}, \"type\": \"bar\"}], \"barpolar\": [{\"marker\": {\"line\": {\"color\": \"#E5ECF6\", \"width\": 0.5}}, \"type\": \"barpolar\"}], \"carpet\": [{\"aaxis\": {\"endlinecolor\": \"#2a3f5f\", \"gridcolor\": \"white\", \"linecolor\": \"white\", \"minorgridcolor\": \"white\", \"startlinecolor\": \"#2a3f5f\"}, \"baxis\": {\"endlinecolor\": \"#2a3f5f\", \"gridcolor\": \"white\", \"linecolor\": \"white\", \"minorgridcolor\": \"white\", \"startlinecolor\": \"#2a3f5f\"}, \"type\": \"carpet\"}], \"choropleth\": [{\"colorbar\": {\"outlinewidth\": 0, \"ticks\": \"\"}, \"type\": \"choropleth\"}], \"contour\": [{\"colorbar\": {\"outlinewidth\": 0, \"ticks\": \"\"}, \"colorscale\": [[0.0, \"#0d0887\"], [0.1111111111111111, \"#46039f\"], [0.2222222222222222, \"#7201a8\"], [0.3333333333333333, \"#9c179e\"], [0.4444444444444444, \"#bd3786\"], [0.5555555555555556, \"#d8576b\"], [0.6666666666666666, \"#ed7953\"], [0.7777777777777778, \"#fb9f3a\"], [0.8888888888888888, \"#fdca26\"], [1.0, \"#f0f921\"]], \"type\": \"contour\"}], \"contourcarpet\": [{\"colorbar\": {\"outlinewidth\": 0, \"ticks\": \"\"}, \"type\": \"contourcarpet\"}], \"heatmap\": [{\"colorbar\": {\"outlinewidth\": 0, \"ticks\": \"\"}, \"colorscale\": [[0.0, \"#0d0887\"], [0.1111111111111111, \"#46039f\"], [0.2222222222222222, \"#7201a8\"], [0.3333333333333333, \"#9c179e\"], [0.4444444444444444, \"#bd3786\"], [0.5555555555555556, \"#d8576b\"], [0.6666666666666666, \"#ed7953\"], [0.7777777777777778, \"#fb9f3a\"], [0.8888888888888888, \"#fdca26\"], [1.0, \"#f0f921\"]], \"type\": \"heatmap\"}], \"heatmapgl\": [{\"colorbar\": {\"outlinewidth\": 0, \"ticks\": \"\"}, \"colorscale\": [[0.0, \"#0d0887\"], [0.1111111111111111, \"#46039f\"], [0.2222222222222222, \"#7201a8\"], [0.3333333333333333, \"#9c179e\"], [0.4444444444444444, \"#bd3786\"], [0.5555555555555556, \"#d8576b\"], [0.6666666666666666, \"#ed7953\"], [0.7777777777777778, \"#fb9f3a\"], [0.8888888888888888, \"#fdca26\"], [1.0, \"#f0f921\"]], \"type\": \"heatmapgl\"}], \"histogram\": [{\"marker\": {\"colorbar\": {\"outlinewidth\": 0, \"ticks\": \"\"}}, \"type\": \"histogram\"}], \"histogram2d\": [{\"colorbar\": {\"outlinewidth\": 0, \"ticks\": \"\"}, \"colorscale\": [[0.0, \"#0d0887\"], [0.1111111111111111, \"#46039f\"], [0.2222222222222222, \"#7201a8\"], [0.3333333333333333, \"#9c179e\"], [0.4444444444444444, \"#bd3786\"], [0.5555555555555556, \"#d8576b\"], [0.6666666666666666, \"#ed7953\"], [0.7777777777777778, \"#fb9f3a\"], [0.8888888888888888, \"#fdca26\"], [1.0, \"#f0f921\"]], \"type\": \"histogram2d\"}], \"histogram2dcontour\": [{\"colorbar\": {\"outlinewidth\": 0, \"ticks\": \"\"}, \"colorscale\": [[0.0, \"#0d0887\"], [0.1111111111111111, \"#46039f\"], [0.2222222222222222, \"#7201a8\"], [0.3333333333333333, \"#9c179e\"], [0.4444444444444444, \"#bd3786\"], [0.5555555555555556, \"#d8576b\"], [0.6666666666666666, \"#ed7953\"], [0.7777777777777778, \"#fb9f3a\"], [0.8888888888888888, \"#fdca26\"], [1.0, \"#f0f921\"]], \"type\": \"histogram2dcontour\"}], \"mesh3d\": [{\"colorbar\": {\"outlinewidth\": 0, \"ticks\": \"\"}, \"type\": \"mesh3d\"}], \"parcoords\": [{\"line\": {\"colorbar\": {\"outlinewidth\": 0, \"ticks\": \"\"}}, \"type\": \"parcoords\"}], \"pie\": [{\"automargin\": true, \"type\": \"pie\"}], \"scatter\": [{\"marker\": {\"colorbar\": {\"outlinewidth\": 0, \"ticks\": \"\"}}, \"type\": \"scatter\"}], \"scatter3d\": [{\"line\": {\"colorbar\": {\"outlinewidth\": 0, \"ticks\": \"\"}}, \"marker\": {\"colorbar\": {\"outlinewidth\": 0, \"ticks\": \"\"}}, \"type\": \"scatter3d\"}], \"scattercarpet\": [{\"marker\": {\"colorbar\": {\"outlinewidth\": 0, \"ticks\": \"\"}}, \"type\": \"scattercarpet\"}], \"scattergeo\": [{\"marker\": {\"colorbar\": {\"outlinewidth\": 0, \"ticks\": \"\"}}, \"type\": \"scattergeo\"}], \"scattergl\": [{\"marker\": {\"colorbar\": {\"outlinewidth\": 0, \"ticks\": \"\"}}, \"type\": \"scattergl\"}], \"scattermapbox\": [{\"marker\": {\"colorbar\": {\"outlinewidth\": 0, \"ticks\": \"\"}}, \"type\": \"scattermapbox\"}], \"scatterpolar\": [{\"marker\": {\"colorbar\": {\"outlinewidth\": 0, \"ticks\": \"\"}}, \"type\": \"scatterpolar\"}], \"scatterpolargl\": [{\"marker\": {\"colorbar\": {\"outlinewidth\": 0, \"ticks\": \"\"}}, \"type\": \"scatterpolargl\"}], \"scatterternary\": [{\"marker\": {\"colorbar\": {\"outlinewidth\": 0, \"ticks\": \"\"}}, \"type\": \"scatterternary\"}], \"surface\": [{\"colorbar\": {\"outlinewidth\": 0, \"ticks\": \"\"}, \"colorscale\": [[0.0, \"#0d0887\"], [0.1111111111111111, \"#46039f\"], [0.2222222222222222, \"#7201a8\"], [0.3333333333333333, \"#9c179e\"], [0.4444444444444444, \"#bd3786\"], [0.5555555555555556, \"#d8576b\"], [0.6666666666666666, \"#ed7953\"], [0.7777777777777778, \"#fb9f3a\"], [0.8888888888888888, \"#fdca26\"], [1.0, \"#f0f921\"]], \"type\": \"surface\"}], \"table\": [{\"cells\": {\"fill\": {\"color\": \"#EBF0F8\"}, \"line\": {\"color\": \"white\"}}, \"header\": {\"fill\": {\"color\": \"#C8D4E3\"}, \"line\": {\"color\": \"white\"}}, \"type\": \"table\"}]}, \"layout\": {\"annotationdefaults\": {\"arrowcolor\": \"#2a3f5f\", \"arrowhead\": 0, \"arrowwidth\": 1}, \"autotypenumbers\": \"strict\", \"coloraxis\": {\"colorbar\": {\"outlinewidth\": 0, \"ticks\": \"\"}}, \"colorscale\": {\"diverging\": [[0, \"#8e0152\"], [0.1, \"#c51b7d\"], [0.2, \"#de77ae\"], [0.3, \"#f1b6da\"], [0.4, \"#fde0ef\"], [0.5, \"#f7f7f7\"], [0.6, \"#e6f5d0\"], [0.7, \"#b8e186\"], [0.8, \"#7fbc41\"], [0.9, \"#4d9221\"], [1, \"#276419\"]], \"sequential\": [[0.0, \"#0d0887\"], [0.1111111111111111, \"#46039f\"], [0.2222222222222222, \"#7201a8\"], [0.3333333333333333, \"#9c179e\"], [0.4444444444444444, \"#bd3786\"], [0.5555555555555556, \"#d8576b\"], [0.6666666666666666, \"#ed7953\"], [0.7777777777777778, \"#fb9f3a\"], [0.8888888888888888, \"#fdca26\"], [1.0, \"#f0f921\"]], \"sequentialminus\": [[0.0, \"#0d0887\"], [0.1111111111111111, \"#46039f\"], [0.2222222222222222, \"#7201a8\"], [0.3333333333333333, \"#9c179e\"], [0.4444444444444444, \"#bd3786\"], [0.5555555555555556, \"#d8576b\"], [0.6666666666666666, \"#ed7953\"], [0.7777777777777778, \"#fb9f3a\"], [0.8888888888888888, \"#fdca26\"], [1.0, \"#f0f921\"]]}, \"colorway\": [\"#636efa\", \"#EF553B\", \"#00cc96\", \"#ab63fa\", \"#FFA15A\", \"#19d3f3\", \"#FF6692\", \"#B6E880\", \"#FF97FF\", \"#FECB52\"], \"font\": {\"color\": \"#2a3f5f\"}, \"geo\": {\"bgcolor\": \"white\", \"lakecolor\": \"white\", \"landcolor\": \"#E5ECF6\", \"showlakes\": true, \"showland\": true, \"subunitcolor\": \"white\"}, \"hoverlabel\": {\"align\": \"left\"}, \"hovermode\": \"closest\", \"mapbox\": {\"style\": \"light\"}, \"paper_bgcolor\": \"white\", \"plot_bgcolor\": \"#E5ECF6\", \"polar\": {\"angularaxis\": {\"gridcolor\": \"white\", \"linecolor\": \"white\", \"ticks\": \"\"}, \"bgcolor\": \"#E5ECF6\", \"radialaxis\": {\"gridcolor\": \"white\", \"linecolor\": \"white\", \"ticks\": \"\"}}, \"scene\": {\"xaxis\": {\"backgroundcolor\": \"#E5ECF6\", \"gridcolor\": \"white\", \"gridwidth\": 2, \"linecolor\": \"white\", \"showbackground\": true, \"ticks\": \"\", \"zerolinecolor\": \"white\"}, \"yaxis\": {\"backgroundcolor\": \"#E5ECF6\", \"gridcolor\": \"white\", \"gridwidth\": 2, \"linecolor\": \"white\", \"showbackground\": true, \"ticks\": \"\", \"zerolinecolor\": \"white\"}, \"zaxis\": {\"backgroundcolor\": \"#E5ECF6\", \"gridcolor\": \"white\", \"gridwidth\": 2, \"linecolor\": \"white\", \"showbackground\": true, \"ticks\": \"\", \"zerolinecolor\": \"white\"}}, \"shapedefaults\": {\"line\": {\"color\": \"#2a3f5f\"}}, \"ternary\": {\"aaxis\": {\"gridcolor\": \"white\", \"linecolor\": \"white\", \"ticks\": \"\"}, \"baxis\": {\"gridcolor\": \"white\", \"linecolor\": \"white\", \"ticks\": \"\"}, \"bgcolor\": \"#E5ECF6\", \"caxis\": {\"gridcolor\": \"white\", \"linecolor\": \"white\", \"ticks\": \"\"}}, \"title\": {\"x\": 0.05}, \"xaxis\": {\"automargin\": true, \"gridcolor\": \"white\", \"linecolor\": \"white\", \"ticks\": \"\", \"title\": {\"standoff\": 15}, \"zerolinecolor\": \"white\", \"zerolinewidth\": 2}, \"yaxis\": {\"automargin\": true, \"gridcolor\": \"white\", \"linecolor\": \"white\", \"ticks\": \"\", \"title\": {\"standoff\": 15}, \"zerolinecolor\": \"white\", \"zerolinewidth\": 2}}}, \"xaxis\": {\"tickangle\": -45}},                        {\"responsive\": true}                    ).then(function(){\n",
       "                            \n",
       "var gd = document.getElementById('1e901b8a-1453-4b2e-8631-62a9ad351c89');\n",
       "var x = new MutationObserver(function (mutations, observer) {{\n",
       "        var display = window.getComputedStyle(gd).display;\n",
       "        if (!display || display === 'none') {{\n",
       "            console.log([gd, 'removed!']);\n",
       "            Plotly.purge(gd);\n",
       "            observer.disconnect();\n",
       "        }}\n",
       "}});\n",
       "\n",
       "// Listen for the removal of the full notebook cells\n",
       "var notebookContainer = gd.closest('#notebook-container');\n",
       "if (notebookContainer) {{\n",
       "    x.observe(notebookContainer, {childList: true});\n",
       "}}\n",
       "\n",
       "// Listen for the clearing of the current output cell\n",
       "var outputEl = gd.closest('.output');\n",
       "if (outputEl) {{\n",
       "    x.observe(outputEl, {childList: true});\n",
       "}}\n",
       "\n",
       "                        })                };                });            </script>        </div>"
      ]
     },
     "metadata": {},
     "output_type": "display_data"
    }
   ],
   "source": [
    "# Happiness vs taxes \n",
    "fig = go.Figure()\n",
    "\n",
    "fig.add_trace(go.Bar(x=data1.head(25)[\"Country\"], y=data1.head(25)[\"Maximun Personal Income Tax\"],\n",
    "                base=data1.head(25),\n",
    "                marker_color='crimson',\n",
    "                name='Maximun Personal Income Tax'))\n",
    "fig.add_trace(go.Bar(x=data1.head(25)[\"Country\"], y=(data1.head(25)[\"Happiness Score\"]*10),\n",
    "                base=data1.head(25),\n",
    "                marker_color='lightslategrey',\n",
    "                name='Happiness Index as a percentage '\n",
    "                ))\n",
    "\n",
    "fig.update_layout(xaxis_tickangle=-45)\n",
    "fig.show()\n",
    "\n",
    "#make a ratio and have only one bar \n",
    "\n"
   ]
  },
  {
   "cell_type": "code",
   "execution_count": null,
   "metadata": {},
   "outputs": [],
   "source": []
  },
  {
   "cell_type": "code",
   "execution_count": 35,
   "metadata": {
    "ExecuteTime": {
     "end_time": "2021-02-17T09:58:25.544149Z",
     "start_time": "2021-02-17T09:58:25.380378Z"
    }
   },
   "outputs": [
    {
     "data": {
      "application/vnd.plotly.v1+json": {
       "config": {
        "plotlyServerURL": "https://plot.ly"
       },
       "data": [
        {
         "customdata": [
          [
           "Finland"
          ],
          [
           "Norway"
          ],
          [
           "Denmark"
          ],
          [
           "Iceland"
          ],
          [
           "Switzerland"
          ],
          [
           "Netherlands"
          ],
          [
           "Sweden"
          ],
          [
           "United Kingdom"
          ],
          [
           "Austria"
          ],
          [
           "Ireland"
          ],
          [
           "Germany"
          ],
          [
           "Belgium"
          ],
          [
           "Luxembourg"
          ],
          [
           "Czech Republic"
          ],
          [
           "Malta"
          ],
          [
           "France"
          ],
          [
           "Spain"
          ],
          [
           "Slovakia"
          ],
          [
           "Poland"
          ],
          [
           "Italy"
          ],
          [
           "Lithuania"
          ],
          [
           "Slovenia"
          ],
          [
           "Romania"
          ],
          [
           "Latvia"
          ],
          [
           "Northern Cyprus"
          ],
          [
           "Russia"
          ],
          [
           "Estonia"
          ],
          [
           "Kosovo"
          ],
          [
           "Moldova"
          ],
          [
           "Hungary"
          ],
          [
           "Belarus"
          ],
          [
           "Portugal"
          ],
          [
           "Serbia"
          ],
          [
           "Greece"
          ],
          [
           "Montenegro"
          ],
          [
           "Croatia"
          ],
          [
           "Macedonia"
          ],
          [
           "Bosnia and Herzegovina"
          ],
          [
           "Bulgaria"
          ],
          [
           "Albania"
          ],
          [
           "Ukraine"
          ]
         ],
         "hovertemplate": "continent=Europe<br>Happiness Score=%{x}<br>Maximun Personal Income Tax=%{y}<br>Country=%{customdata[0]}<extra></extra>",
         "legendgroup": "Europe",
         "marker": {
          "color": "#636efa",
          "symbol": "circle"
         },
         "mode": "markers",
         "name": "Europe",
         "orientation": "v",
         "showlegend": true,
         "type": "scatter",
         "x": [
          7.632,
          7.594,
          7.555,
          7.495,
          7.487,
          7.441,
          7.314,
          7.191,
          7.139,
          6.977,
          6.965,
          6.927,
          6.911,
          6.711,
          6.627,
          6.489,
          6.311,
          6.173,
          6.123,
          6.011,
          5.952,
          5.948,
          5.945,
          5.933,
          5.835,
          5.811,
          5.739,
          5.662,
          5.641,
          5.621,
          5.483,
          5.411,
          5.398,
          5.358,
          5.347,
          5.321,
          5.185,
          5.129,
          4.933,
          4.586,
          4.103
         ],
         "xaxis": "x",
         "y": [
          51.11,
          38.4,
          55.858,
          46.24,
          41.67,
          51.95,
          57.12,
          45,
          55,
          48,
          47.475,
          52.934,
          45.78,
          15,
          null,
          55.368,
          43.5,
          null,
          32,
          47.23,
          15,
          50,
          null,
          31.4,
          null,
          null,
          20,
          null,
          null,
          15,
          null,
          53,
          null,
          55,
          null,
          null,
          null,
          null,
          null,
          null,
          null
         ],
         "yaxis": "y"
        },
        {
         "customdata": [
          [
           "Canada"
          ],
          [
           "Costa Rica"
          ],
          [
           "United States"
          ],
          [
           "Mexico"
          ],
          [
           "Chile"
          ],
          [
           "Panama"
          ],
          [
           "Brazil"
          ],
          [
           "Argentina"
          ],
          [
           "Guatemala"
          ],
          [
           "Uruguay"
          ],
          [
           "Colombia"
          ],
          [
           "El Salvador"
          ],
          [
           "Nicaragua"
          ],
          [
           "Ecuador"
          ],
          [
           "Belize"
          ],
          [
           "Jamaica"
          ],
          [
           "Bolivia"
          ],
          [
           "Paraguay"
          ],
          [
           "Peru"
          ],
          [
           "Honduras"
          ],
          [
           "Dominican Republic"
          ],
          [
           "Haiti"
          ]
         ],
         "hovertemplate": "continent=Americas<br>Happiness Score=%{x}<br>Maximun Personal Income Tax=%{y}<br>Country=%{customdata[0]}<extra></extra>",
         "legendgroup": "Americas",
         "marker": {
          "color": "#EF553B",
          "symbol": "circle"
         },
         "mode": "markers",
         "name": "Americas",
         "orientation": "v",
         "showlegend": true,
         "type": "scatter",
         "x": [
          7.328,
          7.072,
          6.886,
          6.488,
          6.476,
          6.431,
          6.419,
          6.388,
          6.382,
          6.379,
          6.261,
          6.167,
          6.141,
          5.973,
          5.956,
          5.891,
          5.752,
          5.681,
          5.663,
          5.504,
          5.302,
          3.582
         ],
         "xaxis": "x",
         "y": [
          53.529,
          null,
          43.65,
          35,
          35,
          null,
          null,
          null,
          null,
          null,
          null,
          null,
          null,
          null,
          null,
          null,
          null,
          null,
          null,
          null,
          null,
          null
         ],
         "yaxis": "y"
        },
        {
         "customdata": [
          [
           "New Zealand"
          ],
          [
           "Australia"
          ]
         ],
         "hovertemplate": "continent=Oceania<br>Happiness Score=%{x}<br>Maximun Personal Income Tax=%{y}<br>Country=%{customdata[0]}<extra></extra>",
         "legendgroup": "Oceania",
         "marker": {
          "color": "#00cc96",
          "symbol": "circle"
         },
         "mode": "markers",
         "name": "Oceania",
         "orientation": "v",
         "showlegend": true,
         "type": "scatter",
         "x": [
          7.324,
          7.272
         ],
         "xaxis": "x",
         "y": [
          33,
          47
         ],
         "yaxis": "y"
        },
        {
         "customdata": [
          [
           "Israel"
          ],
          [
           "United Arab Emirates"
          ],
          [
           "Taiwan"
          ],
          [
           "Qatar"
          ],
          [
           "Saudi Arabia"
          ],
          [
           "Singapore"
          ],
          [
           "Malaysia"
          ],
          [
           "Bahrain"
          ],
          [
           "Uzbekistan"
          ],
          [
           "Kuwait"
          ],
          [
           "Thailand"
          ],
          [
           "Japan"
          ],
          [
           "South Korea"
          ],
          [
           "Kazakhstan"
          ],
          [
           "Cyprus"
          ],
          [
           "Turkmenistan"
          ],
          [
           "Philippines"
          ],
          [
           "Turkey"
          ],
          [
           "Pakistan"
          ],
          [
           "Hong Kong"
          ],
          [
           "Lebanon"
          ],
          [
           "China"
          ],
          [
           "Azerbaijan"
          ],
          [
           "Tajikistan"
          ],
          [
           "Jordan"
          ],
          [
           "Kyrgyzstan"
          ],
          [
           "Mongolia"
          ],
          [
           "Vietnam"
          ],
          [
           "Indonesia"
          ],
          [
           "Bhutan"
          ],
          [
           "Nepal"
          ],
          [
           "Venezuela"
          ],
          [
           "Laos"
          ],
          [
           "Bangladesh"
          ],
          [
           "Sri Lanka"
          ],
          [
           "Iraq"
          ],
          [
           "Cambodia"
          ],
          [
           "Georgia"
          ],
          [
           "Armenia"
          ],
          [
           "Myanmar"
          ],
          [
           "India"
          ],
          [
           "Afghanistan"
          ],
          [
           "Yemen"
          ]
         ],
         "hovertemplate": "continent=Asia<br>Happiness Score=%{x}<br>Maximun Personal Income Tax=%{y}<br>Country=%{customdata[0]}<extra></extra>",
         "legendgroup": "Asia",
         "marker": {
          "color": "#ab63fa",
          "symbol": "circle"
         },
         "mode": "markers",
         "name": "Asia",
         "orientation": "v",
         "showlegend": true,
         "type": "scatter",
         "x": [
          6.814,
          6.774,
          6.441,
          6.374,
          6.371,
          6.343,
          6.322,
          6.105,
          6.096,
          6.083,
          6.072,
          5.915,
          5.875,
          5.791,
          5.762,
          5.636,
          5.524,
          5.483,
          5.472,
          5.431,
          5.358,
          5.246,
          5.201,
          5.199,
          5.161,
          5.131,
          5.125,
          5.103,
          5.093,
          5.082,
          4.881,
          4.806,
          4.623,
          4.511,
          4.471,
          4.456,
          4.433,
          4.341,
          4.321,
          4.308,
          4.191,
          3.632,
          3.355
         ],
         "xaxis": "x",
         "y": [
          50,
          null,
          null,
          null,
          null,
          null,
          null,
          null,
          null,
          null,
          null,
          55.945,
          null,
          null,
          null,
          null,
          null,
          35.76,
          null,
          null,
          null,
          null,
          null,
          null,
          null,
          null,
          null,
          null,
          null,
          null,
          null,
          null,
          null,
          null,
          null,
          null,
          null,
          null,
          null,
          null,
          null,
          null,
          null
         ],
         "yaxis": "y"
        },
        {
         "customdata": [
          [
           "Trinidad & Tobago"
          ],
          [
           "Mauritius"
          ],
          [
           "Libya"
          ],
          [
           "Algeria"
          ],
          [
           "Morocco"
          ],
          [
           "Nigeria"
          ],
          [
           "Somalia"
          ],
          [
           "Cameroon"
          ],
          [
           "Gabon"
          ],
          [
           "Palestinian Territories"
          ],
          [
           "South Africa"
          ],
          [
           "Iran"
          ],
          [
           "Ivory Coast"
          ],
          [
           "Ghana"
          ],
          [
           "Senegal"
          ],
          [
           "Tunisia"
          ],
          [
           "Sierra Leone"
          ],
          [
           "Congo (Brazzaville)"
          ],
          [
           "Mali"
          ],
          [
           "Namibia"
          ],
          [
           "Burkina Faso"
          ],
          [
           "Egypt"
          ],
          [
           "Mozambique"
          ],
          [
           "Kenya"
          ],
          [
           "Zambia"
          ],
          [
           "Mauritania"
          ],
          [
           "Ethiopia"
          ],
          [
           "Chad"
          ],
          [
           "Congo (Kinshasa)"
          ],
          [
           "Niger"
          ],
          [
           "Uganda"
          ],
          [
           "Benin"
          ],
          [
           "Sudan"
          ],
          [
           "Togo"
          ],
          [
           "Guinea"
          ],
          [
           "Lesotho"
          ],
          [
           "Angola"
          ],
          [
           "Madagascar"
          ],
          [
           "Zimbabwe"
          ],
          [
           "Botswana"
          ],
          [
           "Malawi"
          ],
          [
           "Liberia"
          ],
          [
           "Syria"
          ],
          [
           "Rwanda"
          ],
          [
           "Tanzania"
          ],
          [
           "South Sudan"
          ],
          [
           "Central African Republic"
          ],
          [
           "Burundi"
          ]
         ],
         "hovertemplate": "continent=Africa<br>Happiness Score=%{x}<br>Maximun Personal Income Tax=%{y}<br>Country=%{customdata[0]}<extra></extra>",
         "legendgroup": "Africa",
         "marker": {
          "color": "#FFA15A",
          "symbol": "circle"
         },
         "mode": "markers",
         "name": "Africa",
         "orientation": "v",
         "showlegend": true,
         "type": "scatter",
         "x": [
          6.192,
          5.891,
          5.566,
          5.295,
          5.254,
          5.155,
          4.982,
          4.975,
          4.758,
          4.743,
          4.724,
          4.707,
          4.671,
          4.657,
          4.631,
          4.592,
          4.571,
          4.559,
          4.447,
          4.441,
          4.424,
          4.419,
          4.417,
          4.411,
          4.377,
          4.356,
          4.351,
          4.301,
          4.245,
          4.166,
          4.161,
          4.141,
          4.139,
          3.999,
          3.964,
          3.808,
          3.795,
          3.774,
          3.692,
          3.591,
          3.587,
          3.495,
          3.462,
          3.408,
          3.303,
          3.254,
          3.083,
          2.905
         ],
         "xaxis": "x",
         "y": [
          null,
          null,
          null,
          null,
          null,
          null,
          null,
          null,
          null,
          null,
          null,
          null,
          null,
          null,
          null,
          null,
          null,
          null,
          null,
          null,
          null,
          null,
          null,
          null,
          null,
          null,
          null,
          null,
          null,
          null,
          null,
          null,
          null,
          null,
          null,
          null,
          null,
          null,
          null,
          null,
          null,
          null,
          null,
          null,
          null,
          null,
          null,
          null
         ],
         "yaxis": "y"
        }
       ],
       "layout": {
        "legend": {
         "title": {
          "text": "continent"
         },
         "tracegroupgap": 0
        },
        "margin": {
         "t": 60
        },
        "template": {
         "data": {
          "bar": [
           {
            "error_x": {
             "color": "#2a3f5f"
            },
            "error_y": {
             "color": "#2a3f5f"
            },
            "marker": {
             "line": {
              "color": "#E5ECF6",
              "width": 0.5
             }
            },
            "type": "bar"
           }
          ],
          "barpolar": [
           {
            "marker": {
             "line": {
              "color": "#E5ECF6",
              "width": 0.5
             }
            },
            "type": "barpolar"
           }
          ],
          "carpet": [
           {
            "aaxis": {
             "endlinecolor": "#2a3f5f",
             "gridcolor": "white",
             "linecolor": "white",
             "minorgridcolor": "white",
             "startlinecolor": "#2a3f5f"
            },
            "baxis": {
             "endlinecolor": "#2a3f5f",
             "gridcolor": "white",
             "linecolor": "white",
             "minorgridcolor": "white",
             "startlinecolor": "#2a3f5f"
            },
            "type": "carpet"
           }
          ],
          "choropleth": [
           {
            "colorbar": {
             "outlinewidth": 0,
             "ticks": ""
            },
            "type": "choropleth"
           }
          ],
          "contour": [
           {
            "colorbar": {
             "outlinewidth": 0,
             "ticks": ""
            },
            "colorscale": [
             [
              0,
              "#0d0887"
             ],
             [
              0.1111111111111111,
              "#46039f"
             ],
             [
              0.2222222222222222,
              "#7201a8"
             ],
             [
              0.3333333333333333,
              "#9c179e"
             ],
             [
              0.4444444444444444,
              "#bd3786"
             ],
             [
              0.5555555555555556,
              "#d8576b"
             ],
             [
              0.6666666666666666,
              "#ed7953"
             ],
             [
              0.7777777777777778,
              "#fb9f3a"
             ],
             [
              0.8888888888888888,
              "#fdca26"
             ],
             [
              1,
              "#f0f921"
             ]
            ],
            "type": "contour"
           }
          ],
          "contourcarpet": [
           {
            "colorbar": {
             "outlinewidth": 0,
             "ticks": ""
            },
            "type": "contourcarpet"
           }
          ],
          "heatmap": [
           {
            "colorbar": {
             "outlinewidth": 0,
             "ticks": ""
            },
            "colorscale": [
             [
              0,
              "#0d0887"
             ],
             [
              0.1111111111111111,
              "#46039f"
             ],
             [
              0.2222222222222222,
              "#7201a8"
             ],
             [
              0.3333333333333333,
              "#9c179e"
             ],
             [
              0.4444444444444444,
              "#bd3786"
             ],
             [
              0.5555555555555556,
              "#d8576b"
             ],
             [
              0.6666666666666666,
              "#ed7953"
             ],
             [
              0.7777777777777778,
              "#fb9f3a"
             ],
             [
              0.8888888888888888,
              "#fdca26"
             ],
             [
              1,
              "#f0f921"
             ]
            ],
            "type": "heatmap"
           }
          ],
          "heatmapgl": [
           {
            "colorbar": {
             "outlinewidth": 0,
             "ticks": ""
            },
            "colorscale": [
             [
              0,
              "#0d0887"
             ],
             [
              0.1111111111111111,
              "#46039f"
             ],
             [
              0.2222222222222222,
              "#7201a8"
             ],
             [
              0.3333333333333333,
              "#9c179e"
             ],
             [
              0.4444444444444444,
              "#bd3786"
             ],
             [
              0.5555555555555556,
              "#d8576b"
             ],
             [
              0.6666666666666666,
              "#ed7953"
             ],
             [
              0.7777777777777778,
              "#fb9f3a"
             ],
             [
              0.8888888888888888,
              "#fdca26"
             ],
             [
              1,
              "#f0f921"
             ]
            ],
            "type": "heatmapgl"
           }
          ],
          "histogram": [
           {
            "marker": {
             "colorbar": {
              "outlinewidth": 0,
              "ticks": ""
             }
            },
            "type": "histogram"
           }
          ],
          "histogram2d": [
           {
            "colorbar": {
             "outlinewidth": 0,
             "ticks": ""
            },
            "colorscale": [
             [
              0,
              "#0d0887"
             ],
             [
              0.1111111111111111,
              "#46039f"
             ],
             [
              0.2222222222222222,
              "#7201a8"
             ],
             [
              0.3333333333333333,
              "#9c179e"
             ],
             [
              0.4444444444444444,
              "#bd3786"
             ],
             [
              0.5555555555555556,
              "#d8576b"
             ],
             [
              0.6666666666666666,
              "#ed7953"
             ],
             [
              0.7777777777777778,
              "#fb9f3a"
             ],
             [
              0.8888888888888888,
              "#fdca26"
             ],
             [
              1,
              "#f0f921"
             ]
            ],
            "type": "histogram2d"
           }
          ],
          "histogram2dcontour": [
           {
            "colorbar": {
             "outlinewidth": 0,
             "ticks": ""
            },
            "colorscale": [
             [
              0,
              "#0d0887"
             ],
             [
              0.1111111111111111,
              "#46039f"
             ],
             [
              0.2222222222222222,
              "#7201a8"
             ],
             [
              0.3333333333333333,
              "#9c179e"
             ],
             [
              0.4444444444444444,
              "#bd3786"
             ],
             [
              0.5555555555555556,
              "#d8576b"
             ],
             [
              0.6666666666666666,
              "#ed7953"
             ],
             [
              0.7777777777777778,
              "#fb9f3a"
             ],
             [
              0.8888888888888888,
              "#fdca26"
             ],
             [
              1,
              "#f0f921"
             ]
            ],
            "type": "histogram2dcontour"
           }
          ],
          "mesh3d": [
           {
            "colorbar": {
             "outlinewidth": 0,
             "ticks": ""
            },
            "type": "mesh3d"
           }
          ],
          "parcoords": [
           {
            "line": {
             "colorbar": {
              "outlinewidth": 0,
              "ticks": ""
             }
            },
            "type": "parcoords"
           }
          ],
          "pie": [
           {
            "automargin": true,
            "type": "pie"
           }
          ],
          "scatter": [
           {
            "marker": {
             "colorbar": {
              "outlinewidth": 0,
              "ticks": ""
             }
            },
            "type": "scatter"
           }
          ],
          "scatter3d": [
           {
            "line": {
             "colorbar": {
              "outlinewidth": 0,
              "ticks": ""
             }
            },
            "marker": {
             "colorbar": {
              "outlinewidth": 0,
              "ticks": ""
             }
            },
            "type": "scatter3d"
           }
          ],
          "scattercarpet": [
           {
            "marker": {
             "colorbar": {
              "outlinewidth": 0,
              "ticks": ""
             }
            },
            "type": "scattercarpet"
           }
          ],
          "scattergeo": [
           {
            "marker": {
             "colorbar": {
              "outlinewidth": 0,
              "ticks": ""
             }
            },
            "type": "scattergeo"
           }
          ],
          "scattergl": [
           {
            "marker": {
             "colorbar": {
              "outlinewidth": 0,
              "ticks": ""
             }
            },
            "type": "scattergl"
           }
          ],
          "scattermapbox": [
           {
            "marker": {
             "colorbar": {
              "outlinewidth": 0,
              "ticks": ""
             }
            },
            "type": "scattermapbox"
           }
          ],
          "scatterpolar": [
           {
            "marker": {
             "colorbar": {
              "outlinewidth": 0,
              "ticks": ""
             }
            },
            "type": "scatterpolar"
           }
          ],
          "scatterpolargl": [
           {
            "marker": {
             "colorbar": {
              "outlinewidth": 0,
              "ticks": ""
             }
            },
            "type": "scatterpolargl"
           }
          ],
          "scatterternary": [
           {
            "marker": {
             "colorbar": {
              "outlinewidth": 0,
              "ticks": ""
             }
            },
            "type": "scatterternary"
           }
          ],
          "surface": [
           {
            "colorbar": {
             "outlinewidth": 0,
             "ticks": ""
            },
            "colorscale": [
             [
              0,
              "#0d0887"
             ],
             [
              0.1111111111111111,
              "#46039f"
             ],
             [
              0.2222222222222222,
              "#7201a8"
             ],
             [
              0.3333333333333333,
              "#9c179e"
             ],
             [
              0.4444444444444444,
              "#bd3786"
             ],
             [
              0.5555555555555556,
              "#d8576b"
             ],
             [
              0.6666666666666666,
              "#ed7953"
             ],
             [
              0.7777777777777778,
              "#fb9f3a"
             ],
             [
              0.8888888888888888,
              "#fdca26"
             ],
             [
              1,
              "#f0f921"
             ]
            ],
            "type": "surface"
           }
          ],
          "table": [
           {
            "cells": {
             "fill": {
              "color": "#EBF0F8"
             },
             "line": {
              "color": "white"
             }
            },
            "header": {
             "fill": {
              "color": "#C8D4E3"
             },
             "line": {
              "color": "white"
             }
            },
            "type": "table"
           }
          ]
         },
         "layout": {
          "annotationdefaults": {
           "arrowcolor": "#2a3f5f",
           "arrowhead": 0,
           "arrowwidth": 1
          },
          "autotypenumbers": "strict",
          "coloraxis": {
           "colorbar": {
            "outlinewidth": 0,
            "ticks": ""
           }
          },
          "colorscale": {
           "diverging": [
            [
             0,
             "#8e0152"
            ],
            [
             0.1,
             "#c51b7d"
            ],
            [
             0.2,
             "#de77ae"
            ],
            [
             0.3,
             "#f1b6da"
            ],
            [
             0.4,
             "#fde0ef"
            ],
            [
             0.5,
             "#f7f7f7"
            ],
            [
             0.6,
             "#e6f5d0"
            ],
            [
             0.7,
             "#b8e186"
            ],
            [
             0.8,
             "#7fbc41"
            ],
            [
             0.9,
             "#4d9221"
            ],
            [
             1,
             "#276419"
            ]
           ],
           "sequential": [
            [
             0,
             "#0d0887"
            ],
            [
             0.1111111111111111,
             "#46039f"
            ],
            [
             0.2222222222222222,
             "#7201a8"
            ],
            [
             0.3333333333333333,
             "#9c179e"
            ],
            [
             0.4444444444444444,
             "#bd3786"
            ],
            [
             0.5555555555555556,
             "#d8576b"
            ],
            [
             0.6666666666666666,
             "#ed7953"
            ],
            [
             0.7777777777777778,
             "#fb9f3a"
            ],
            [
             0.8888888888888888,
             "#fdca26"
            ],
            [
             1,
             "#f0f921"
            ]
           ],
           "sequentialminus": [
            [
             0,
             "#0d0887"
            ],
            [
             0.1111111111111111,
             "#46039f"
            ],
            [
             0.2222222222222222,
             "#7201a8"
            ],
            [
             0.3333333333333333,
             "#9c179e"
            ],
            [
             0.4444444444444444,
             "#bd3786"
            ],
            [
             0.5555555555555556,
             "#d8576b"
            ],
            [
             0.6666666666666666,
             "#ed7953"
            ],
            [
             0.7777777777777778,
             "#fb9f3a"
            ],
            [
             0.8888888888888888,
             "#fdca26"
            ],
            [
             1,
             "#f0f921"
            ]
           ]
          },
          "colorway": [
           "#636efa",
           "#EF553B",
           "#00cc96",
           "#ab63fa",
           "#FFA15A",
           "#19d3f3",
           "#FF6692",
           "#B6E880",
           "#FF97FF",
           "#FECB52"
          ],
          "font": {
           "color": "#2a3f5f"
          },
          "geo": {
           "bgcolor": "white",
           "lakecolor": "white",
           "landcolor": "#E5ECF6",
           "showlakes": true,
           "showland": true,
           "subunitcolor": "white"
          },
          "hoverlabel": {
           "align": "left"
          },
          "hovermode": "closest",
          "mapbox": {
           "style": "light"
          },
          "paper_bgcolor": "white",
          "plot_bgcolor": "#E5ECF6",
          "polar": {
           "angularaxis": {
            "gridcolor": "white",
            "linecolor": "white",
            "ticks": ""
           },
           "bgcolor": "#E5ECF6",
           "radialaxis": {
            "gridcolor": "white",
            "linecolor": "white",
            "ticks": ""
           }
          },
          "scene": {
           "xaxis": {
            "backgroundcolor": "#E5ECF6",
            "gridcolor": "white",
            "gridwidth": 2,
            "linecolor": "white",
            "showbackground": true,
            "ticks": "",
            "zerolinecolor": "white"
           },
           "yaxis": {
            "backgroundcolor": "#E5ECF6",
            "gridcolor": "white",
            "gridwidth": 2,
            "linecolor": "white",
            "showbackground": true,
            "ticks": "",
            "zerolinecolor": "white"
           },
           "zaxis": {
            "backgroundcolor": "#E5ECF6",
            "gridcolor": "white",
            "gridwidth": 2,
            "linecolor": "white",
            "showbackground": true,
            "ticks": "",
            "zerolinecolor": "white"
           }
          },
          "shapedefaults": {
           "line": {
            "color": "#2a3f5f"
           }
          },
          "ternary": {
           "aaxis": {
            "gridcolor": "white",
            "linecolor": "white",
            "ticks": ""
           },
           "baxis": {
            "gridcolor": "white",
            "linecolor": "white",
            "ticks": ""
           },
           "bgcolor": "#E5ECF6",
           "caxis": {
            "gridcolor": "white",
            "linecolor": "white",
            "ticks": ""
           }
          },
          "title": {
           "x": 0.05
          },
          "xaxis": {
           "automargin": true,
           "gridcolor": "white",
           "linecolor": "white",
           "ticks": "",
           "title": {
            "standoff": 15
           },
           "zerolinecolor": "white",
           "zerolinewidth": 2
          },
          "yaxis": {
           "automargin": true,
           "gridcolor": "white",
           "linecolor": "white",
           "ticks": "",
           "title": {
            "standoff": 15
           },
           "zerolinecolor": "white",
           "zerolinewidth": 2
          }
         }
        },
        "xaxis": {
         "anchor": "y",
         "domain": [
          0,
          1
         ],
         "title": {
          "text": "Happiness Score"
         }
        },
        "yaxis": {
         "anchor": "x",
         "domain": [
          0,
          1
         ],
         "title": {
          "text": "Maximun Personal Income Tax"
         }
        }
       }
      },
      "text/html": [
       "<div>                            <div id=\"b2b8ef97-04fc-41e9-9d6b-1a0bd29ed2f0\" class=\"plotly-graph-div\" style=\"height:525px; width:100%;\"></div>            <script type=\"text/javascript\">                require([\"plotly\"], function(Plotly) {                    window.PLOTLYENV=window.PLOTLYENV || {};                                    if (document.getElementById(\"b2b8ef97-04fc-41e9-9d6b-1a0bd29ed2f0\")) {                    Plotly.newPlot(                        \"b2b8ef97-04fc-41e9-9d6b-1a0bd29ed2f0\",                        [{\"customdata\": [[\"Finland\"], [\"Norway\"], [\"Denmark\"], [\"Iceland\"], [\"Switzerland\"], [\"Netherlands\"], [\"Sweden\"], [\"United Kingdom\"], [\"Austria\"], [\"Ireland\"], [\"Germany\"], [\"Belgium\"], [\"Luxembourg\"], [\"Czech Republic\"], [\"Malta\"], [\"France\"], [\"Spain\"], [\"Slovakia\"], [\"Poland\"], [\"Italy\"], [\"Lithuania\"], [\"Slovenia\"], [\"Romania\"], [\"Latvia\"], [\"Northern Cyprus\"], [\"Russia\"], [\"Estonia\"], [\"Kosovo\"], [\"Moldova\"], [\"Hungary\"], [\"Belarus\"], [\"Portugal\"], [\"Serbia\"], [\"Greece\"], [\"Montenegro\"], [\"Croatia\"], [\"Macedonia\"], [\"Bosnia and Herzegovina\"], [\"Bulgaria\"], [\"Albania\"], [\"Ukraine\"]], \"hovertemplate\": \"continent=Europe<br>Happiness Score=%{x}<br>Maximun Personal Income Tax=%{y}<br>Country=%{customdata[0]}<extra></extra>\", \"legendgroup\": \"Europe\", \"marker\": {\"color\": \"#636efa\", \"symbol\": \"circle\"}, \"mode\": \"markers\", \"name\": \"Europe\", \"orientation\": \"v\", \"showlegend\": true, \"type\": \"scatter\", \"x\": [7.632, 7.594, 7.555, 7.495, 7.487, 7.441, 7.314, 7.191, 7.139, 6.977, 6.965, 6.927, 6.911, 6.711, 6.627, 6.489, 6.311, 6.173, 6.123, 6.011, 5.952, 5.948, 5.945, 5.933, 5.835, 5.811, 5.739, 5.662, 5.641, 5.621, 5.483, 5.411, 5.398, 5.358, 5.347, 5.321, 5.185, 5.129, 4.933, 4.586, 4.103], \"xaxis\": \"x\", \"y\": [51.11, 38.4, 55.858, 46.24, 41.67, 51.95, 57.12, 45.0, 55.0, 48.0, 47.475, 52.934, 45.78, 15.0, null, 55.368, 43.5, null, 32.0, 47.23, 15.0, 50.0, null, 31.4, null, null, 20.0, null, null, 15.0, null, 53.0, null, 55.0, null, null, null, null, null, null, null], \"yaxis\": \"y\"}, {\"customdata\": [[\"Canada\"], [\"Costa Rica\"], [\"United States\"], [\"Mexico\"], [\"Chile\"], [\"Panama\"], [\"Brazil\"], [\"Argentina\"], [\"Guatemala\"], [\"Uruguay\"], [\"Colombia\"], [\"El Salvador\"], [\"Nicaragua\"], [\"Ecuador\"], [\"Belize\"], [\"Jamaica\"], [\"Bolivia\"], [\"Paraguay\"], [\"Peru\"], [\"Honduras\"], [\"Dominican Republic\"], [\"Haiti\"]], \"hovertemplate\": \"continent=Americas<br>Happiness Score=%{x}<br>Maximun Personal Income Tax=%{y}<br>Country=%{customdata[0]}<extra></extra>\", \"legendgroup\": \"Americas\", \"marker\": {\"color\": \"#EF553B\", \"symbol\": \"circle\"}, \"mode\": \"markers\", \"name\": \"Americas\", \"orientation\": \"v\", \"showlegend\": true, \"type\": \"scatter\", \"x\": [7.328, 7.072, 6.886, 6.488, 6.476, 6.431, 6.419, 6.388, 6.382, 6.379, 6.261, 6.167, 6.141, 5.973, 5.956, 5.891, 5.752, 5.681, 5.663, 5.504, 5.302, 3.582], \"xaxis\": \"x\", \"y\": [53.529, null, 43.65, 35.0, 35.0, null, null, null, null, null, null, null, null, null, null, null, null, null, null, null, null, null], \"yaxis\": \"y\"}, {\"customdata\": [[\"New Zealand\"], [\"Australia\"]], \"hovertemplate\": \"continent=Oceania<br>Happiness Score=%{x}<br>Maximun Personal Income Tax=%{y}<br>Country=%{customdata[0]}<extra></extra>\", \"legendgroup\": \"Oceania\", \"marker\": {\"color\": \"#00cc96\", \"symbol\": \"circle\"}, \"mode\": \"markers\", \"name\": \"Oceania\", \"orientation\": \"v\", \"showlegend\": true, \"type\": \"scatter\", \"x\": [7.324, 7.272], \"xaxis\": \"x\", \"y\": [33.0, 47.0], \"yaxis\": \"y\"}, {\"customdata\": [[\"Israel\"], [\"United Arab Emirates\"], [\"Taiwan\"], [\"Qatar\"], [\"Saudi Arabia\"], [\"Singapore\"], [\"Malaysia\"], [\"Bahrain\"], [\"Uzbekistan\"], [\"Kuwait\"], [\"Thailand\"], [\"Japan\"], [\"South Korea\"], [\"Kazakhstan\"], [\"Cyprus\"], [\"Turkmenistan\"], [\"Philippines\"], [\"Turkey\"], [\"Pakistan\"], [\"Hong Kong\"], [\"Lebanon\"], [\"China\"], [\"Azerbaijan\"], [\"Tajikistan\"], [\"Jordan\"], [\"Kyrgyzstan\"], [\"Mongolia\"], [\"Vietnam\"], [\"Indonesia\"], [\"Bhutan\"], [\"Nepal\"], [\"Venezuela\"], [\"Laos\"], [\"Bangladesh\"], [\"Sri Lanka\"], [\"Iraq\"], [\"Cambodia\"], [\"Georgia\"], [\"Armenia\"], [\"Myanmar\"], [\"India\"], [\"Afghanistan\"], [\"Yemen\"]], \"hovertemplate\": \"continent=Asia<br>Happiness Score=%{x}<br>Maximun Personal Income Tax=%{y}<br>Country=%{customdata[0]}<extra></extra>\", \"legendgroup\": \"Asia\", \"marker\": {\"color\": \"#ab63fa\", \"symbol\": \"circle\"}, \"mode\": \"markers\", \"name\": \"Asia\", \"orientation\": \"v\", \"showlegend\": true, \"type\": \"scatter\", \"x\": [6.814, 6.774, 6.441, 6.374, 6.371, 6.343, 6.322, 6.105, 6.096, 6.083, 6.072, 5.915, 5.875, 5.791, 5.762, 5.636, 5.524, 5.483, 5.472, 5.431, 5.358, 5.246, 5.201, 5.199, 5.161, 5.131, 5.125, 5.103, 5.093, 5.082, 4.881, 4.806, 4.623, 4.511, 4.471, 4.456, 4.433, 4.341, 4.321, 4.308, 4.191, 3.632, 3.355], \"xaxis\": \"x\", \"y\": [50.0, null, null, null, null, null, null, null, null, null, null, 55.945, null, null, null, null, null, 35.76, null, null, null, null, null, null, null, null, null, null, null, null, null, null, null, null, null, null, null, null, null, null, null, null, null], \"yaxis\": \"y\"}, {\"customdata\": [[\"Trinidad & Tobago\"], [\"Mauritius\"], [\"Libya\"], [\"Algeria\"], [\"Morocco\"], [\"Nigeria\"], [\"Somalia\"], [\"Cameroon\"], [\"Gabon\"], [\"Palestinian Territories\"], [\"South Africa\"], [\"Iran\"], [\"Ivory Coast\"], [\"Ghana\"], [\"Senegal\"], [\"Tunisia\"], [\"Sierra Leone\"], [\"Congo (Brazzaville)\"], [\"Mali\"], [\"Namibia\"], [\"Burkina Faso\"], [\"Egypt\"], [\"Mozambique\"], [\"Kenya\"], [\"Zambia\"], [\"Mauritania\"], [\"Ethiopia\"], [\"Chad\"], [\"Congo (Kinshasa)\"], [\"Niger\"], [\"Uganda\"], [\"Benin\"], [\"Sudan\"], [\"Togo\"], [\"Guinea\"], [\"Lesotho\"], [\"Angola\"], [\"Madagascar\"], [\"Zimbabwe\"], [\"Botswana\"], [\"Malawi\"], [\"Liberia\"], [\"Syria\"], [\"Rwanda\"], [\"Tanzania\"], [\"South Sudan\"], [\"Central African Republic\"], [\"Burundi\"]], \"hovertemplate\": \"continent=Africa<br>Happiness Score=%{x}<br>Maximun Personal Income Tax=%{y}<br>Country=%{customdata[0]}<extra></extra>\", \"legendgroup\": \"Africa\", \"marker\": {\"color\": \"#FFA15A\", \"symbol\": \"circle\"}, \"mode\": \"markers\", \"name\": \"Africa\", \"orientation\": \"v\", \"showlegend\": true, \"type\": \"scatter\", \"x\": [6.192, 5.891, 5.566, 5.295, 5.254, 5.155, 4.982, 4.975, 4.758, 4.743, 4.724, 4.707, 4.671, 4.657, 4.631, 4.592, 4.571, 4.559, 4.447, 4.441, 4.424, 4.419, 4.417, 4.411, 4.377, 4.356, 4.351, 4.301, 4.245, 4.166, 4.161, 4.141, 4.139, 3.999, 3.964, 3.808, 3.795, 3.774, 3.692, 3.591, 3.587, 3.495, 3.462, 3.408, 3.303, 3.254, 3.083, 2.905], \"xaxis\": \"x\", \"y\": [null, null, null, null, null, null, null, null, null, null, null, null, null, null, null, null, null, null, null, null, null, null, null, null, null, null, null, null, null, null, null, null, null, null, null, null, null, null, null, null, null, null, null, null, null, null, null, null], \"yaxis\": \"y\"}],                        {\"legend\": {\"title\": {\"text\": \"continent\"}, \"tracegroupgap\": 0}, \"margin\": {\"t\": 60}, \"template\": {\"data\": {\"bar\": [{\"error_x\": {\"color\": \"#2a3f5f\"}, \"error_y\": {\"color\": \"#2a3f5f\"}, \"marker\": {\"line\": {\"color\": \"#E5ECF6\", \"width\": 0.5}}, \"type\": \"bar\"}], \"barpolar\": [{\"marker\": {\"line\": {\"color\": \"#E5ECF6\", \"width\": 0.5}}, \"type\": \"barpolar\"}], \"carpet\": [{\"aaxis\": {\"endlinecolor\": \"#2a3f5f\", \"gridcolor\": \"white\", \"linecolor\": \"white\", \"minorgridcolor\": \"white\", \"startlinecolor\": \"#2a3f5f\"}, \"baxis\": {\"endlinecolor\": \"#2a3f5f\", \"gridcolor\": \"white\", \"linecolor\": \"white\", \"minorgridcolor\": \"white\", \"startlinecolor\": \"#2a3f5f\"}, \"type\": \"carpet\"}], \"choropleth\": [{\"colorbar\": {\"outlinewidth\": 0, \"ticks\": \"\"}, \"type\": \"choropleth\"}], \"contour\": [{\"colorbar\": {\"outlinewidth\": 0, \"ticks\": \"\"}, \"colorscale\": [[0.0, \"#0d0887\"], [0.1111111111111111, \"#46039f\"], [0.2222222222222222, \"#7201a8\"], [0.3333333333333333, \"#9c179e\"], [0.4444444444444444, \"#bd3786\"], [0.5555555555555556, \"#d8576b\"], [0.6666666666666666, \"#ed7953\"], [0.7777777777777778, \"#fb9f3a\"], [0.8888888888888888, \"#fdca26\"], [1.0, \"#f0f921\"]], \"type\": \"contour\"}], \"contourcarpet\": [{\"colorbar\": {\"outlinewidth\": 0, \"ticks\": \"\"}, \"type\": \"contourcarpet\"}], \"heatmap\": [{\"colorbar\": {\"outlinewidth\": 0, \"ticks\": \"\"}, \"colorscale\": [[0.0, \"#0d0887\"], [0.1111111111111111, \"#46039f\"], [0.2222222222222222, \"#7201a8\"], [0.3333333333333333, \"#9c179e\"], [0.4444444444444444, \"#bd3786\"], [0.5555555555555556, \"#d8576b\"], [0.6666666666666666, \"#ed7953\"], [0.7777777777777778, \"#fb9f3a\"], [0.8888888888888888, \"#fdca26\"], [1.0, \"#f0f921\"]], \"type\": \"heatmap\"}], \"heatmapgl\": [{\"colorbar\": {\"outlinewidth\": 0, \"ticks\": \"\"}, \"colorscale\": [[0.0, \"#0d0887\"], [0.1111111111111111, \"#46039f\"], [0.2222222222222222, \"#7201a8\"], [0.3333333333333333, \"#9c179e\"], [0.4444444444444444, \"#bd3786\"], [0.5555555555555556, \"#d8576b\"], [0.6666666666666666, \"#ed7953\"], [0.7777777777777778, \"#fb9f3a\"], [0.8888888888888888, \"#fdca26\"], [1.0, \"#f0f921\"]], \"type\": \"heatmapgl\"}], \"histogram\": [{\"marker\": {\"colorbar\": {\"outlinewidth\": 0, \"ticks\": \"\"}}, \"type\": \"histogram\"}], \"histogram2d\": [{\"colorbar\": {\"outlinewidth\": 0, \"ticks\": \"\"}, \"colorscale\": [[0.0, \"#0d0887\"], [0.1111111111111111, \"#46039f\"], [0.2222222222222222, \"#7201a8\"], [0.3333333333333333, \"#9c179e\"], [0.4444444444444444, \"#bd3786\"], [0.5555555555555556, \"#d8576b\"], [0.6666666666666666, \"#ed7953\"], [0.7777777777777778, \"#fb9f3a\"], [0.8888888888888888, \"#fdca26\"], [1.0, \"#f0f921\"]], \"type\": \"histogram2d\"}], \"histogram2dcontour\": [{\"colorbar\": {\"outlinewidth\": 0, \"ticks\": \"\"}, \"colorscale\": [[0.0, \"#0d0887\"], [0.1111111111111111, \"#46039f\"], [0.2222222222222222, \"#7201a8\"], [0.3333333333333333, \"#9c179e\"], [0.4444444444444444, \"#bd3786\"], [0.5555555555555556, \"#d8576b\"], [0.6666666666666666, \"#ed7953\"], [0.7777777777777778, \"#fb9f3a\"], [0.8888888888888888, \"#fdca26\"], [1.0, \"#f0f921\"]], \"type\": \"histogram2dcontour\"}], \"mesh3d\": [{\"colorbar\": {\"outlinewidth\": 0, \"ticks\": \"\"}, \"type\": \"mesh3d\"}], \"parcoords\": [{\"line\": {\"colorbar\": {\"outlinewidth\": 0, \"ticks\": \"\"}}, \"type\": \"parcoords\"}], \"pie\": [{\"automargin\": true, \"type\": \"pie\"}], \"scatter\": [{\"marker\": {\"colorbar\": {\"outlinewidth\": 0, \"ticks\": \"\"}}, \"type\": \"scatter\"}], \"scatter3d\": [{\"line\": {\"colorbar\": {\"outlinewidth\": 0, \"ticks\": \"\"}}, \"marker\": {\"colorbar\": {\"outlinewidth\": 0, \"ticks\": \"\"}}, \"type\": \"scatter3d\"}], \"scattercarpet\": [{\"marker\": {\"colorbar\": {\"outlinewidth\": 0, \"ticks\": \"\"}}, \"type\": \"scattercarpet\"}], \"scattergeo\": [{\"marker\": {\"colorbar\": {\"outlinewidth\": 0, \"ticks\": \"\"}}, \"type\": \"scattergeo\"}], \"scattergl\": [{\"marker\": {\"colorbar\": {\"outlinewidth\": 0, \"ticks\": \"\"}}, \"type\": \"scattergl\"}], \"scattermapbox\": [{\"marker\": {\"colorbar\": {\"outlinewidth\": 0, \"ticks\": \"\"}}, \"type\": \"scattermapbox\"}], \"scatterpolar\": [{\"marker\": {\"colorbar\": {\"outlinewidth\": 0, \"ticks\": \"\"}}, \"type\": \"scatterpolar\"}], \"scatterpolargl\": [{\"marker\": {\"colorbar\": {\"outlinewidth\": 0, \"ticks\": \"\"}}, \"type\": \"scatterpolargl\"}], \"scatterternary\": [{\"marker\": {\"colorbar\": {\"outlinewidth\": 0, \"ticks\": \"\"}}, \"type\": \"scatterternary\"}], \"surface\": [{\"colorbar\": {\"outlinewidth\": 0, \"ticks\": \"\"}, \"colorscale\": [[0.0, \"#0d0887\"], [0.1111111111111111, \"#46039f\"], [0.2222222222222222, \"#7201a8\"], [0.3333333333333333, \"#9c179e\"], [0.4444444444444444, \"#bd3786\"], [0.5555555555555556, \"#d8576b\"], [0.6666666666666666, \"#ed7953\"], [0.7777777777777778, \"#fb9f3a\"], [0.8888888888888888, \"#fdca26\"], [1.0, \"#f0f921\"]], \"type\": \"surface\"}], \"table\": [{\"cells\": {\"fill\": {\"color\": \"#EBF0F8\"}, \"line\": {\"color\": \"white\"}}, \"header\": {\"fill\": {\"color\": \"#C8D4E3\"}, \"line\": {\"color\": \"white\"}}, \"type\": \"table\"}]}, \"layout\": {\"annotationdefaults\": {\"arrowcolor\": \"#2a3f5f\", \"arrowhead\": 0, \"arrowwidth\": 1}, \"autotypenumbers\": \"strict\", \"coloraxis\": {\"colorbar\": {\"outlinewidth\": 0, \"ticks\": \"\"}}, \"colorscale\": {\"diverging\": [[0, \"#8e0152\"], [0.1, \"#c51b7d\"], [0.2, \"#de77ae\"], [0.3, \"#f1b6da\"], [0.4, \"#fde0ef\"], [0.5, \"#f7f7f7\"], [0.6, \"#e6f5d0\"], [0.7, \"#b8e186\"], [0.8, \"#7fbc41\"], [0.9, \"#4d9221\"], [1, \"#276419\"]], \"sequential\": [[0.0, \"#0d0887\"], [0.1111111111111111, \"#46039f\"], [0.2222222222222222, \"#7201a8\"], [0.3333333333333333, \"#9c179e\"], [0.4444444444444444, \"#bd3786\"], [0.5555555555555556, \"#d8576b\"], [0.6666666666666666, \"#ed7953\"], [0.7777777777777778, \"#fb9f3a\"], [0.8888888888888888, \"#fdca26\"], [1.0, \"#f0f921\"]], \"sequentialminus\": [[0.0, \"#0d0887\"], [0.1111111111111111, \"#46039f\"], [0.2222222222222222, \"#7201a8\"], [0.3333333333333333, \"#9c179e\"], [0.4444444444444444, \"#bd3786\"], [0.5555555555555556, \"#d8576b\"], [0.6666666666666666, \"#ed7953\"], [0.7777777777777778, \"#fb9f3a\"], [0.8888888888888888, \"#fdca26\"], [1.0, \"#f0f921\"]]}, \"colorway\": [\"#636efa\", \"#EF553B\", \"#00cc96\", \"#ab63fa\", \"#FFA15A\", \"#19d3f3\", \"#FF6692\", \"#B6E880\", \"#FF97FF\", \"#FECB52\"], \"font\": {\"color\": \"#2a3f5f\"}, \"geo\": {\"bgcolor\": \"white\", \"lakecolor\": \"white\", \"landcolor\": \"#E5ECF6\", \"showlakes\": true, \"showland\": true, \"subunitcolor\": \"white\"}, \"hoverlabel\": {\"align\": \"left\"}, \"hovermode\": \"closest\", \"mapbox\": {\"style\": \"light\"}, \"paper_bgcolor\": \"white\", \"plot_bgcolor\": \"#E5ECF6\", \"polar\": {\"angularaxis\": {\"gridcolor\": \"white\", \"linecolor\": \"white\", \"ticks\": \"\"}, \"bgcolor\": \"#E5ECF6\", \"radialaxis\": {\"gridcolor\": \"white\", \"linecolor\": \"white\", \"ticks\": \"\"}}, \"scene\": {\"xaxis\": {\"backgroundcolor\": \"#E5ECF6\", \"gridcolor\": \"white\", \"gridwidth\": 2, \"linecolor\": \"white\", \"showbackground\": true, \"ticks\": \"\", \"zerolinecolor\": \"white\"}, \"yaxis\": {\"backgroundcolor\": \"#E5ECF6\", \"gridcolor\": \"white\", \"gridwidth\": 2, \"linecolor\": \"white\", \"showbackground\": true, \"ticks\": \"\", \"zerolinecolor\": \"white\"}, \"zaxis\": {\"backgroundcolor\": \"#E5ECF6\", \"gridcolor\": \"white\", \"gridwidth\": 2, \"linecolor\": \"white\", \"showbackground\": true, \"ticks\": \"\", \"zerolinecolor\": \"white\"}}, \"shapedefaults\": {\"line\": {\"color\": \"#2a3f5f\"}}, \"ternary\": {\"aaxis\": {\"gridcolor\": \"white\", \"linecolor\": \"white\", \"ticks\": \"\"}, \"baxis\": {\"gridcolor\": \"white\", \"linecolor\": \"white\", \"ticks\": \"\"}, \"bgcolor\": \"#E5ECF6\", \"caxis\": {\"gridcolor\": \"white\", \"linecolor\": \"white\", \"ticks\": \"\"}}, \"title\": {\"x\": 0.05}, \"xaxis\": {\"automargin\": true, \"gridcolor\": \"white\", \"linecolor\": \"white\", \"ticks\": \"\", \"title\": {\"standoff\": 15}, \"zerolinecolor\": \"white\", \"zerolinewidth\": 2}, \"yaxis\": {\"automargin\": true, \"gridcolor\": \"white\", \"linecolor\": \"white\", \"ticks\": \"\", \"title\": {\"standoff\": 15}, \"zerolinecolor\": \"white\", \"zerolinewidth\": 2}}}, \"xaxis\": {\"anchor\": \"y\", \"domain\": [0.0, 1.0], \"title\": {\"text\": \"Happiness Score\"}}, \"yaxis\": {\"anchor\": \"x\", \"domain\": [0.0, 1.0], \"title\": {\"text\": \"Maximun Personal Income Tax\"}}},                        {\"responsive\": true}                    ).then(function(){\n",
       "                            \n",
       "var gd = document.getElementById('b2b8ef97-04fc-41e9-9d6b-1a0bd29ed2f0');\n",
       "var x = new MutationObserver(function (mutations, observer) {{\n",
       "        var display = window.getComputedStyle(gd).display;\n",
       "        if (!display || display === 'none') {{\n",
       "            console.log([gd, 'removed!']);\n",
       "            Plotly.purge(gd);\n",
       "            observer.disconnect();\n",
       "        }}\n",
       "}});\n",
       "\n",
       "// Listen for the removal of the full notebook cells\n",
       "var notebookContainer = gd.closest('#notebook-container');\n",
       "if (notebookContainer) {{\n",
       "    x.observe(notebookContainer, {childList: true});\n",
       "}}\n",
       "\n",
       "// Listen for the clearing of the current output cell\n",
       "var outputEl = gd.closest('.output');\n",
       "if (outputEl) {{\n",
       "    x.observe(outputEl, {childList: true});\n",
       "}}\n",
       "\n",
       "                        })                };                });            </script>        </div>"
      ]
     },
     "metadata": {},
     "output_type": "display_data"
    }
   ],
   "source": [
    "import plotly.express as px\n",
    "import pandas as pd\n",
    "\n",
    "\n",
    "fig = px.scatter(data1, x = data1[\"Happiness Score\"], y=data1[\"Maximun Personal Income Tax\"], \n",
    "                 color=data1[\"continent\"],\n",
    "                 hover_data=[\"Country\"])\n",
    "\n",
    "\n",
    "fig\n"
   ]
  },
  {
   "cell_type": "code",
   "execution_count": 28,
   "metadata": {
    "ExecuteTime": {
     "end_time": "2021-02-17T09:54:56.939674Z",
     "start_time": "2021-02-17T09:54:56.915312Z"
    }
   },
   "outputs": [
    {
     "data": {
      "application/vnd.plotly.v1+json": {
       "config": {
        "plotlyServerURL": "https://plot.ly"
       },
       "data": [
        {
         "marker": {
          "color": [
           7.632,
           7.594,
           7.555,
           7.495,
           7.487,
           7.441,
           7.328,
           7.324,
           7.314,
           7.272,
           7.191,
           7.139,
           7.072,
           6.977,
           6.965,
           6.927,
           6.911,
           6.886,
           6.814,
           6.774,
           6.711,
           6.627,
           6.489,
           6.488,
           6.476,
           6.441,
           6.431,
           6.419,
           6.388,
           6.382,
           6.379,
           6.374,
           6.371,
           6.343,
           6.322,
           6.311,
           6.261,
           6.192,
           6.173,
           6.167,
           6.141,
           6.123,
           6.105,
           6.096,
           6.083,
           6.072,
           6.011,
           5.973,
           5.956,
           5.952,
           5.948,
           5.945,
           5.933,
           5.915,
           5.891,
           5.891,
           5.875,
           5.835,
           5.811,
           5.791,
           5.762,
           5.752,
           5.739,
           5.681,
           5.663,
           5.662,
           5.641,
           5.636,
           5.621,
           5.566,
           5.524,
           5.504,
           5.483,
           5.483,
           5.472,
           5.431,
           5.411,
           5.398,
           5.358,
           5.358,
           5.347,
           5.321,
           5.302,
           5.295,
           5.254,
           5.246,
           5.201,
           5.199,
           5.185,
           5.161,
           5.155,
           5.131,
           5.129,
           5.125,
           5.103,
           5.093,
           5.082,
           4.982,
           4.975,
           4.933,
           4.881,
           4.806,
           4.758,
           4.743,
           4.724,
           4.707,
           4.671,
           4.657,
           4.631,
           4.623,
           4.592,
           4.586,
           4.571,
           4.559,
           4.511,
           4.471,
           4.456,
           4.447,
           4.441,
           4.433,
           4.424,
           4.419,
           4.417,
           4.411,
           4.377,
           4.356,
           4.351,
           4.341,
           4.321,
           4.308,
           4.301,
           4.245,
           4.191,
           4.166,
           4.161,
           4.141,
           4.139,
           4.103,
           3.999,
           3.964,
           3.808,
           3.795,
           3.774,
           3.692,
           3.632,
           3.591,
           3.587,
           3.582,
           3.495,
           3.462,
           3.408,
           3.355,
           3.303,
           3.254,
           3.083,
           2.905
          ],
          "line": {
           "width": 1
          },
          "showscale": true,
          "size": 10
         },
         "mode": "markers",
         "text": [
          "Finland",
          "Norway",
          "Denmark",
          "Iceland",
          "Switzerland",
          "Netherlands",
          "Canada",
          "New Zealand",
          "Sweden",
          "Australia",
          "United Kingdom",
          "Austria",
          "Costa Rica",
          "Ireland",
          "Germany",
          "Belgium",
          "Luxembourg",
          "United States",
          "Israel",
          "United Arab Emirates",
          "Czech Republic",
          "Malta",
          "France",
          "Mexico",
          "Chile",
          "Taiwan",
          "Panama",
          "Brazil",
          "Argentina",
          "Guatemala",
          "Uruguay",
          "Qatar",
          "Saudi Arabia",
          "Singapore",
          "Malaysia",
          "Spain",
          "Colombia",
          "Trinidad & Tobago",
          "Slovakia",
          "El Salvador",
          "Nicaragua",
          "Poland",
          "Bahrain",
          "Uzbekistan",
          "Kuwait",
          "Thailand",
          "Italy",
          "Ecuador",
          "Belize",
          "Lithuania",
          "Slovenia",
          "Romania",
          "Latvia",
          "Japan",
          "Mauritius",
          "Jamaica",
          "South Korea",
          "Northern Cyprus",
          "Russia",
          "Kazakhstan",
          "Cyprus",
          "Bolivia",
          "Estonia",
          "Paraguay",
          "Peru",
          "Kosovo",
          "Moldova",
          "Turkmenistan",
          "Hungary",
          "Libya",
          "Philippines",
          "Honduras",
          "Belarus",
          "Turkey",
          "Pakistan",
          "Hong Kong",
          "Portugal",
          "Serbia",
          "Greece",
          "Lebanon",
          "Montenegro",
          "Croatia",
          "Dominican Republic",
          "Algeria",
          "Morocco",
          "China",
          "Azerbaijan",
          "Tajikistan",
          "Macedonia",
          "Jordan",
          "Nigeria",
          "Kyrgyzstan",
          "Bosnia and Herzegovina",
          "Mongolia",
          "Vietnam",
          "Indonesia",
          "Bhutan",
          "Somalia",
          "Cameroon",
          "Bulgaria",
          "Nepal",
          "Venezuela",
          "Gabon",
          "Palestinian Territories",
          "South Africa",
          "Iran",
          "Ivory Coast",
          "Ghana",
          "Senegal",
          "Laos",
          "Tunisia",
          "Albania",
          "Sierra Leone",
          "Congo (Brazzaville)",
          "Bangladesh",
          "Sri Lanka",
          "Iraq",
          "Mali",
          "Namibia",
          "Cambodia",
          "Burkina Faso",
          "Egypt",
          "Mozambique",
          "Kenya",
          "Zambia",
          "Mauritania",
          "Ethiopia",
          "Georgia",
          "Armenia",
          "Myanmar",
          "Chad",
          "Congo (Kinshasa)",
          "India",
          "Niger",
          "Uganda",
          "Benin",
          "Sudan",
          "Ukraine",
          "Togo",
          "Guinea",
          "Lesotho",
          "Angola",
          "Madagascar",
          "Zimbabwe",
          "Afghanistan",
          "Botswana",
          "Malawi",
          "Haiti",
          "Liberia",
          "Syria",
          "Rwanda",
          "Yemen",
          "Tanzania",
          "South Sudan",
          "Central African Republic",
          "Burundi"
         ],
         "type": "scatter",
         "x": [
          7.632,
          7.594,
          7.555,
          7.495,
          7.487,
          7.441,
          7.328,
          7.324,
          7.314,
          7.272,
          7.191,
          7.139,
          7.072,
          6.977,
          6.965,
          6.927,
          6.911,
          6.886,
          6.814,
          6.774,
          6.711,
          6.627,
          6.489,
          6.488,
          6.476,
          6.441,
          6.431,
          6.419,
          6.388,
          6.382,
          6.379,
          6.374,
          6.371,
          6.343,
          6.322,
          6.311,
          6.261,
          6.192,
          6.173,
          6.167,
          6.141,
          6.123,
          6.105,
          6.096,
          6.083,
          6.072,
          6.011,
          5.973,
          5.956,
          5.952,
          5.948,
          5.945,
          5.933,
          5.915,
          5.891,
          5.891,
          5.875,
          5.835,
          5.811,
          5.791,
          5.762,
          5.752,
          5.739,
          5.681,
          5.663,
          5.662,
          5.641,
          5.636,
          5.621,
          5.566,
          5.524,
          5.504,
          5.483,
          5.483,
          5.472,
          5.431,
          5.411,
          5.398,
          5.358,
          5.358,
          5.347,
          5.321,
          5.302,
          5.295,
          5.254,
          5.246,
          5.201,
          5.199,
          5.185,
          5.161,
          5.155,
          5.131,
          5.129,
          5.125,
          5.103,
          5.093,
          5.082,
          4.982,
          4.975,
          4.933,
          4.881,
          4.806,
          4.758,
          4.743,
          4.724,
          4.707,
          4.671,
          4.657,
          4.631,
          4.623,
          4.592,
          4.586,
          4.571,
          4.559,
          4.511,
          4.471,
          4.456,
          4.447,
          4.441,
          4.433,
          4.424,
          4.419,
          4.417,
          4.411,
          4.377,
          4.356,
          4.351,
          4.341,
          4.321,
          4.308,
          4.301,
          4.245,
          4.191,
          4.166,
          4.161,
          4.141,
          4.139,
          4.103,
          3.999,
          3.964,
          3.808,
          3.795,
          3.774,
          3.692,
          3.632,
          3.591,
          3.587,
          3.582,
          3.495,
          3.462,
          3.408,
          3.355,
          3.303,
          3.254,
          3.083,
          2.905
         ],
         "y": [
          1.592,
          1.582,
          1.59,
          1.644,
          1.549,
          1.488,
          1.532,
          1.601,
          1.501,
          1.573,
          1.433,
          1.504,
          1.459,
          1.583,
          1.474,
          1.483,
          1.52,
          1.471,
          1.559,
          0.776,
          1.489,
          1.525,
          1.466,
          1.252,
          1.331,
          1.436,
          1.438,
          1.474,
          1.468,
          1.268,
          1.459,
          1.303,
          1.331,
          1.451,
          1.258,
          1.538,
          1.439,
          1.492,
          1.537,
          1.231,
          1.319,
          1.448,
          1.366,
          1.584,
          1.301,
          1.417,
          1.501,
          1.33,
          1.101,
          1.527,
          1.506,
          1.219,
          1.454,
          1.462,
          1.387,
          1.493,
          1.204,
          1.211,
          1.479,
          1.516,
          1.191,
          1.223,
          1.532,
          1.522,
          1.249,
          1.23,
          1.301,
          1.533,
          1.401,
          1.35,
          1.312,
          1.205,
          1.498,
          1.38,
          0.81,
          1.29,
          1.429,
          1.369,
          1.202,
          1.179,
          1.279,
          1.161,
          1.441,
          1.154,
          0.797,
          1.142,
          1.161,
          1.166,
          1.239,
          1.265,
          1.172,
          1.416,
          1.078,
          1.517,
          1.365,
          1.215,
          1.335,
          0.712,
          0.891,
          1.515,
          1.228,
          1.469,
          1.164,
          1.217,
          1.41,
          0.771,
          0.872,
          0.896,
          1.117,
          1.034,
          0.906,
          0.817,
          0.813,
          0.811,
          0.85,
          1.314,
          0.971,
          1.233,
          1.281,
          1.088,
          1.097,
          1.025,
          0.902,
          1.048,
          1.047,
          1.245,
          0.95,
          0.592,
          0.99,
          1.174,
          0.907,
          1.136,
          0.747,
          0.867,
          1.09,
          0.372,
          1.24,
          1.413,
          0.474,
          0.792,
          1.215,
          1.125,
          0.908,
          1.094,
          0.537,
          1.174,
          0.541,
          0.714,
          0.858,
          0.382,
          0.896,
          1.073,
          0.991,
          0.608,
          0,
          0.627
         ]
        }
       ],
       "layout": {
        "template": {
         "data": {
          "bar": [
           {
            "error_x": {
             "color": "#2a3f5f"
            },
            "error_y": {
             "color": "#2a3f5f"
            },
            "marker": {
             "line": {
              "color": "#E5ECF6",
              "width": 0.5
             }
            },
            "type": "bar"
           }
          ],
          "barpolar": [
           {
            "marker": {
             "line": {
              "color": "#E5ECF6",
              "width": 0.5
             }
            },
            "type": "barpolar"
           }
          ],
          "carpet": [
           {
            "aaxis": {
             "endlinecolor": "#2a3f5f",
             "gridcolor": "white",
             "linecolor": "white",
             "minorgridcolor": "white",
             "startlinecolor": "#2a3f5f"
            },
            "baxis": {
             "endlinecolor": "#2a3f5f",
             "gridcolor": "white",
             "linecolor": "white",
             "minorgridcolor": "white",
             "startlinecolor": "#2a3f5f"
            },
            "type": "carpet"
           }
          ],
          "choropleth": [
           {
            "colorbar": {
             "outlinewidth": 0,
             "ticks": ""
            },
            "type": "choropleth"
           }
          ],
          "contour": [
           {
            "colorbar": {
             "outlinewidth": 0,
             "ticks": ""
            },
            "colorscale": [
             [
              0,
              "#0d0887"
             ],
             [
              0.1111111111111111,
              "#46039f"
             ],
             [
              0.2222222222222222,
              "#7201a8"
             ],
             [
              0.3333333333333333,
              "#9c179e"
             ],
             [
              0.4444444444444444,
              "#bd3786"
             ],
             [
              0.5555555555555556,
              "#d8576b"
             ],
             [
              0.6666666666666666,
              "#ed7953"
             ],
             [
              0.7777777777777778,
              "#fb9f3a"
             ],
             [
              0.8888888888888888,
              "#fdca26"
             ],
             [
              1,
              "#f0f921"
             ]
            ],
            "type": "contour"
           }
          ],
          "contourcarpet": [
           {
            "colorbar": {
             "outlinewidth": 0,
             "ticks": ""
            },
            "type": "contourcarpet"
           }
          ],
          "heatmap": [
           {
            "colorbar": {
             "outlinewidth": 0,
             "ticks": ""
            },
            "colorscale": [
             [
              0,
              "#0d0887"
             ],
             [
              0.1111111111111111,
              "#46039f"
             ],
             [
              0.2222222222222222,
              "#7201a8"
             ],
             [
              0.3333333333333333,
              "#9c179e"
             ],
             [
              0.4444444444444444,
              "#bd3786"
             ],
             [
              0.5555555555555556,
              "#d8576b"
             ],
             [
              0.6666666666666666,
              "#ed7953"
             ],
             [
              0.7777777777777778,
              "#fb9f3a"
             ],
             [
              0.8888888888888888,
              "#fdca26"
             ],
             [
              1,
              "#f0f921"
             ]
            ],
            "type": "heatmap"
           }
          ],
          "heatmapgl": [
           {
            "colorbar": {
             "outlinewidth": 0,
             "ticks": ""
            },
            "colorscale": [
             [
              0,
              "#0d0887"
             ],
             [
              0.1111111111111111,
              "#46039f"
             ],
             [
              0.2222222222222222,
              "#7201a8"
             ],
             [
              0.3333333333333333,
              "#9c179e"
             ],
             [
              0.4444444444444444,
              "#bd3786"
             ],
             [
              0.5555555555555556,
              "#d8576b"
             ],
             [
              0.6666666666666666,
              "#ed7953"
             ],
             [
              0.7777777777777778,
              "#fb9f3a"
             ],
             [
              0.8888888888888888,
              "#fdca26"
             ],
             [
              1,
              "#f0f921"
             ]
            ],
            "type": "heatmapgl"
           }
          ],
          "histogram": [
           {
            "marker": {
             "colorbar": {
              "outlinewidth": 0,
              "ticks": ""
             }
            },
            "type": "histogram"
           }
          ],
          "histogram2d": [
           {
            "colorbar": {
             "outlinewidth": 0,
             "ticks": ""
            },
            "colorscale": [
             [
              0,
              "#0d0887"
             ],
             [
              0.1111111111111111,
              "#46039f"
             ],
             [
              0.2222222222222222,
              "#7201a8"
             ],
             [
              0.3333333333333333,
              "#9c179e"
             ],
             [
              0.4444444444444444,
              "#bd3786"
             ],
             [
              0.5555555555555556,
              "#d8576b"
             ],
             [
              0.6666666666666666,
              "#ed7953"
             ],
             [
              0.7777777777777778,
              "#fb9f3a"
             ],
             [
              0.8888888888888888,
              "#fdca26"
             ],
             [
              1,
              "#f0f921"
             ]
            ],
            "type": "histogram2d"
           }
          ],
          "histogram2dcontour": [
           {
            "colorbar": {
             "outlinewidth": 0,
             "ticks": ""
            },
            "colorscale": [
             [
              0,
              "#0d0887"
             ],
             [
              0.1111111111111111,
              "#46039f"
             ],
             [
              0.2222222222222222,
              "#7201a8"
             ],
             [
              0.3333333333333333,
              "#9c179e"
             ],
             [
              0.4444444444444444,
              "#bd3786"
             ],
             [
              0.5555555555555556,
              "#d8576b"
             ],
             [
              0.6666666666666666,
              "#ed7953"
             ],
             [
              0.7777777777777778,
              "#fb9f3a"
             ],
             [
              0.8888888888888888,
              "#fdca26"
             ],
             [
              1,
              "#f0f921"
             ]
            ],
            "type": "histogram2dcontour"
           }
          ],
          "mesh3d": [
           {
            "colorbar": {
             "outlinewidth": 0,
             "ticks": ""
            },
            "type": "mesh3d"
           }
          ],
          "parcoords": [
           {
            "line": {
             "colorbar": {
              "outlinewidth": 0,
              "ticks": ""
             }
            },
            "type": "parcoords"
           }
          ],
          "pie": [
           {
            "automargin": true,
            "type": "pie"
           }
          ],
          "scatter": [
           {
            "marker": {
             "colorbar": {
              "outlinewidth": 0,
              "ticks": ""
             }
            },
            "type": "scatter"
           }
          ],
          "scatter3d": [
           {
            "line": {
             "colorbar": {
              "outlinewidth": 0,
              "ticks": ""
             }
            },
            "marker": {
             "colorbar": {
              "outlinewidth": 0,
              "ticks": ""
             }
            },
            "type": "scatter3d"
           }
          ],
          "scattercarpet": [
           {
            "marker": {
             "colorbar": {
              "outlinewidth": 0,
              "ticks": ""
             }
            },
            "type": "scattercarpet"
           }
          ],
          "scattergeo": [
           {
            "marker": {
             "colorbar": {
              "outlinewidth": 0,
              "ticks": ""
             }
            },
            "type": "scattergeo"
           }
          ],
          "scattergl": [
           {
            "marker": {
             "colorbar": {
              "outlinewidth": 0,
              "ticks": ""
             }
            },
            "type": "scattergl"
           }
          ],
          "scattermapbox": [
           {
            "marker": {
             "colorbar": {
              "outlinewidth": 0,
              "ticks": ""
             }
            },
            "type": "scattermapbox"
           }
          ],
          "scatterpolar": [
           {
            "marker": {
             "colorbar": {
              "outlinewidth": 0,
              "ticks": ""
             }
            },
            "type": "scatterpolar"
           }
          ],
          "scatterpolargl": [
           {
            "marker": {
             "colorbar": {
              "outlinewidth": 0,
              "ticks": ""
             }
            },
            "type": "scatterpolargl"
           }
          ],
          "scatterternary": [
           {
            "marker": {
             "colorbar": {
              "outlinewidth": 0,
              "ticks": ""
             }
            },
            "type": "scatterternary"
           }
          ],
          "surface": [
           {
            "colorbar": {
             "outlinewidth": 0,
             "ticks": ""
            },
            "colorscale": [
             [
              0,
              "#0d0887"
             ],
             [
              0.1111111111111111,
              "#46039f"
             ],
             [
              0.2222222222222222,
              "#7201a8"
             ],
             [
              0.3333333333333333,
              "#9c179e"
             ],
             [
              0.4444444444444444,
              "#bd3786"
             ],
             [
              0.5555555555555556,
              "#d8576b"
             ],
             [
              0.6666666666666666,
              "#ed7953"
             ],
             [
              0.7777777777777778,
              "#fb9f3a"
             ],
             [
              0.8888888888888888,
              "#fdca26"
             ],
             [
              1,
              "#f0f921"
             ]
            ],
            "type": "surface"
           }
          ],
          "table": [
           {
            "cells": {
             "fill": {
              "color": "#EBF0F8"
             },
             "line": {
              "color": "white"
             }
            },
            "header": {
             "fill": {
              "color": "#C8D4E3"
             },
             "line": {
              "color": "white"
             }
            },
            "type": "table"
           }
          ]
         },
         "layout": {
          "annotationdefaults": {
           "arrowcolor": "#2a3f5f",
           "arrowhead": 0,
           "arrowwidth": 1
          },
          "autotypenumbers": "strict",
          "coloraxis": {
           "colorbar": {
            "outlinewidth": 0,
            "ticks": ""
           }
          },
          "colorscale": {
           "diverging": [
            [
             0,
             "#8e0152"
            ],
            [
             0.1,
             "#c51b7d"
            ],
            [
             0.2,
             "#de77ae"
            ],
            [
             0.3,
             "#f1b6da"
            ],
            [
             0.4,
             "#fde0ef"
            ],
            [
             0.5,
             "#f7f7f7"
            ],
            [
             0.6,
             "#e6f5d0"
            ],
            [
             0.7,
             "#b8e186"
            ],
            [
             0.8,
             "#7fbc41"
            ],
            [
             0.9,
             "#4d9221"
            ],
            [
             1,
             "#276419"
            ]
           ],
           "sequential": [
            [
             0,
             "#0d0887"
            ],
            [
             0.1111111111111111,
             "#46039f"
            ],
            [
             0.2222222222222222,
             "#7201a8"
            ],
            [
             0.3333333333333333,
             "#9c179e"
            ],
            [
             0.4444444444444444,
             "#bd3786"
            ],
            [
             0.5555555555555556,
             "#d8576b"
            ],
            [
             0.6666666666666666,
             "#ed7953"
            ],
            [
             0.7777777777777778,
             "#fb9f3a"
            ],
            [
             0.8888888888888888,
             "#fdca26"
            ],
            [
             1,
             "#f0f921"
            ]
           ],
           "sequentialminus": [
            [
             0,
             "#0d0887"
            ],
            [
             0.1111111111111111,
             "#46039f"
            ],
            [
             0.2222222222222222,
             "#7201a8"
            ],
            [
             0.3333333333333333,
             "#9c179e"
            ],
            [
             0.4444444444444444,
             "#bd3786"
            ],
            [
             0.5555555555555556,
             "#d8576b"
            ],
            [
             0.6666666666666666,
             "#ed7953"
            ],
            [
             0.7777777777777778,
             "#fb9f3a"
            ],
            [
             0.8888888888888888,
             "#fdca26"
            ],
            [
             1,
             "#f0f921"
            ]
           ]
          },
          "colorway": [
           "#636efa",
           "#EF553B",
           "#00cc96",
           "#ab63fa",
           "#FFA15A",
           "#19d3f3",
           "#FF6692",
           "#B6E880",
           "#FF97FF",
           "#FECB52"
          ],
          "font": {
           "color": "#2a3f5f"
          },
          "geo": {
           "bgcolor": "white",
           "lakecolor": "white",
           "landcolor": "#E5ECF6",
           "showlakes": true,
           "showland": true,
           "subunitcolor": "white"
          },
          "hoverlabel": {
           "align": "left"
          },
          "hovermode": "closest",
          "mapbox": {
           "style": "light"
          },
          "paper_bgcolor": "white",
          "plot_bgcolor": "#E5ECF6",
          "polar": {
           "angularaxis": {
            "gridcolor": "white",
            "linecolor": "white",
            "ticks": ""
           },
           "bgcolor": "#E5ECF6",
           "radialaxis": {
            "gridcolor": "white",
            "linecolor": "white",
            "ticks": ""
           }
          },
          "scene": {
           "xaxis": {
            "backgroundcolor": "#E5ECF6",
            "gridcolor": "white",
            "gridwidth": 2,
            "linecolor": "white",
            "showbackground": true,
            "ticks": "",
            "zerolinecolor": "white"
           },
           "yaxis": {
            "backgroundcolor": "#E5ECF6",
            "gridcolor": "white",
            "gridwidth": 2,
            "linecolor": "white",
            "showbackground": true,
            "ticks": "",
            "zerolinecolor": "white"
           },
           "zaxis": {
            "backgroundcolor": "#E5ECF6",
            "gridcolor": "white",
            "gridwidth": 2,
            "linecolor": "white",
            "showbackground": true,
            "ticks": "",
            "zerolinecolor": "white"
           }
          },
          "shapedefaults": {
           "line": {
            "color": "#2a3f5f"
           }
          },
          "ternary": {
           "aaxis": {
            "gridcolor": "white",
            "linecolor": "white",
            "ticks": ""
           },
           "baxis": {
            "gridcolor": "white",
            "linecolor": "white",
            "ticks": ""
           },
           "bgcolor": "#E5ECF6",
           "caxis": {
            "gridcolor": "white",
            "linecolor": "white",
            "ticks": ""
           }
          },
          "title": {
           "x": 0.05
          },
          "xaxis": {
           "automargin": true,
           "gridcolor": "white",
           "linecolor": "white",
           "ticks": "",
           "title": {
            "standoff": 15
           },
           "zerolinecolor": "white",
           "zerolinewidth": 2
          },
          "yaxis": {
           "automargin": true,
           "gridcolor": "white",
           "linecolor": "white",
           "ticks": "",
           "title": {
            "standoff": 15
           },
           "zerolinecolor": "white",
           "zerolinewidth": 2
          }
         }
        }
       }
      },
      "text/html": [
       "<div>                            <div id=\"486e4533-42b0-467a-b0fc-7ad85c54bee2\" class=\"plotly-graph-div\" style=\"height:525px; width:100%;\"></div>            <script type=\"text/javascript\">                require([\"plotly\"], function(Plotly) {                    window.PLOTLYENV=window.PLOTLYENV || {};                                    if (document.getElementById(\"486e4533-42b0-467a-b0fc-7ad85c54bee2\")) {                    Plotly.newPlot(                        \"486e4533-42b0-467a-b0fc-7ad85c54bee2\",                        [{\"marker\": {\"color\": [7.632, 7.594, 7.555, 7.495, 7.487, 7.441, 7.328, 7.324, 7.314, 7.272, 7.191, 7.139, 7.072, 6.977, 6.965, 6.927, 6.911, 6.886, 6.814, 6.774, 6.711, 6.627, 6.489, 6.488, 6.476, 6.441, 6.431, 6.419, 6.388, 6.382, 6.379, 6.374, 6.371, 6.343, 6.322, 6.311, 6.261, 6.192, 6.173, 6.167, 6.141, 6.123, 6.105, 6.096, 6.083, 6.072, 6.011, 5.973, 5.956, 5.952, 5.948, 5.945, 5.933, 5.915, 5.891, 5.891, 5.875, 5.835, 5.811, 5.791, 5.762, 5.752, 5.739, 5.681, 5.663, 5.662, 5.641, 5.636, 5.621, 5.566, 5.524, 5.504, 5.483, 5.483, 5.472, 5.431, 5.411, 5.398, 5.358, 5.358, 5.347, 5.321, 5.302, 5.295, 5.254, 5.246, 5.201, 5.199, 5.185, 5.161, 5.155, 5.131, 5.129, 5.125, 5.103, 5.093, 5.082, 4.982, 4.975, 4.933, 4.881, 4.806, 4.758, 4.743, 4.724, 4.707, 4.671, 4.657, 4.631, 4.623, 4.592, 4.586, 4.571, 4.559, 4.511, 4.471, 4.456, 4.447, 4.441, 4.433, 4.424, 4.419, 4.417, 4.411, 4.377, 4.356, 4.351, 4.341, 4.321, 4.308, 4.301, 4.245, 4.191, 4.166, 4.161, 4.141, 4.139, 4.103, 3.999, 3.964, 3.808, 3.795, 3.774, 3.692, 3.632, 3.591, 3.587, 3.582, 3.495, 3.462, 3.408, 3.355, 3.303, 3.254, 3.083, 2.905], \"line\": {\"width\": 1}, \"showscale\": true, \"size\": 10}, \"mode\": \"markers\", \"text\": [\"Finland\", \"Norway\", \"Denmark\", \"Iceland\", \"Switzerland\", \"Netherlands\", \"Canada\", \"New Zealand\", \"Sweden\", \"Australia\", \"United Kingdom\", \"Austria\", \"Costa Rica\", \"Ireland\", \"Germany\", \"Belgium\", \"Luxembourg\", \"United States\", \"Israel\", \"United Arab Emirates\", \"Czech Republic\", \"Malta\", \"France\", \"Mexico\", \"Chile\", \"Taiwan\", \"Panama\", \"Brazil\", \"Argentina\", \"Guatemala\", \"Uruguay\", \"Qatar\", \"Saudi Arabia\", \"Singapore\", \"Malaysia\", \"Spain\", \"Colombia\", \"Trinidad & Tobago\", \"Slovakia\", \"El Salvador\", \"Nicaragua\", \"Poland\", \"Bahrain\", \"Uzbekistan\", \"Kuwait\", \"Thailand\", \"Italy\", \"Ecuador\", \"Belize\", \"Lithuania\", \"Slovenia\", \"Romania\", \"Latvia\", \"Japan\", \"Mauritius\", \"Jamaica\", \"South Korea\", \"Northern Cyprus\", \"Russia\", \"Kazakhstan\", \"Cyprus\", \"Bolivia\", \"Estonia\", \"Paraguay\", \"Peru\", \"Kosovo\", \"Moldova\", \"Turkmenistan\", \"Hungary\", \"Libya\", \"Philippines\", \"Honduras\", \"Belarus\", \"Turkey\", \"Pakistan\", \"Hong Kong\", \"Portugal\", \"Serbia\", \"Greece\", \"Lebanon\", \"Montenegro\", \"Croatia\", \"Dominican Republic\", \"Algeria\", \"Morocco\", \"China\", \"Azerbaijan\", \"Tajikistan\", \"Macedonia\", \"Jordan\", \"Nigeria\", \"Kyrgyzstan\", \"Bosnia and Herzegovina\", \"Mongolia\", \"Vietnam\", \"Indonesia\", \"Bhutan\", \"Somalia\", \"Cameroon\", \"Bulgaria\", \"Nepal\", \"Venezuela\", \"Gabon\", \"Palestinian Territories\", \"South Africa\", \"Iran\", \"Ivory Coast\", \"Ghana\", \"Senegal\", \"Laos\", \"Tunisia\", \"Albania\", \"Sierra Leone\", \"Congo (Brazzaville)\", \"Bangladesh\", \"Sri Lanka\", \"Iraq\", \"Mali\", \"Namibia\", \"Cambodia\", \"Burkina Faso\", \"Egypt\", \"Mozambique\", \"Kenya\", \"Zambia\", \"Mauritania\", \"Ethiopia\", \"Georgia\", \"Armenia\", \"Myanmar\", \"Chad\", \"Congo (Kinshasa)\", \"India\", \"Niger\", \"Uganda\", \"Benin\", \"Sudan\", \"Ukraine\", \"Togo\", \"Guinea\", \"Lesotho\", \"Angola\", \"Madagascar\", \"Zimbabwe\", \"Afghanistan\", \"Botswana\", \"Malawi\", \"Haiti\", \"Liberia\", \"Syria\", \"Rwanda\", \"Yemen\", \"Tanzania\", \"South Sudan\", \"Central African Republic\", \"Burundi\"], \"type\": \"scatter\", \"x\": [7.632, 7.594, 7.555, 7.495, 7.487, 7.441, 7.328, 7.324, 7.314, 7.272, 7.191, 7.139, 7.072, 6.977, 6.965, 6.927, 6.911, 6.886, 6.814, 6.774, 6.711, 6.627, 6.489, 6.488, 6.476, 6.441, 6.431, 6.419, 6.388, 6.382, 6.379, 6.374, 6.371, 6.343, 6.322, 6.311, 6.261, 6.192, 6.173, 6.167, 6.141, 6.123, 6.105, 6.096, 6.083, 6.072, 6.011, 5.973, 5.956, 5.952, 5.948, 5.945, 5.933, 5.915, 5.891, 5.891, 5.875, 5.835, 5.811, 5.791, 5.762, 5.752, 5.739, 5.681, 5.663, 5.662, 5.641, 5.636, 5.621, 5.566, 5.524, 5.504, 5.483, 5.483, 5.472, 5.431, 5.411, 5.398, 5.358, 5.358, 5.347, 5.321, 5.302, 5.295, 5.254, 5.246, 5.201, 5.199, 5.185, 5.161, 5.155, 5.131, 5.129, 5.125, 5.103, 5.093, 5.082, 4.982, 4.975, 4.933, 4.881, 4.806, 4.758, 4.743, 4.724, 4.707, 4.671, 4.657, 4.631, 4.623, 4.592, 4.586, 4.571, 4.559, 4.511, 4.471, 4.456, 4.447, 4.441, 4.433, 4.424, 4.419, 4.417, 4.411, 4.377, 4.356, 4.351, 4.341, 4.321, 4.308, 4.301, 4.245, 4.191, 4.166, 4.161, 4.141, 4.139, 4.103, 3.999, 3.964, 3.808, 3.795, 3.774, 3.692, 3.632, 3.591, 3.587, 3.582, 3.495, 3.462, 3.408, 3.355, 3.303, 3.254, 3.083, 2.905], \"y\": [1.592, 1.582, 1.59, 1.644, 1.549, 1.488, 1.532, 1.601, 1.501, 1.573, 1.433, 1.504, 1.459, 1.583, 1.474, 1.483, 1.52, 1.471, 1.559, 0.776, 1.489, 1.525, 1.466, 1.252, 1.331, 1.436, 1.438, 1.474, 1.468, 1.268, 1.459, 1.303, 1.331, 1.451, 1.258, 1.538, 1.439, 1.492, 1.537, 1.231, 1.319, 1.448, 1.366, 1.584, 1.301, 1.417, 1.501, 1.33, 1.101, 1.527, 1.506, 1.219, 1.454, 1.462, 1.387, 1.493, 1.204, 1.211, 1.479, 1.516, 1.191, 1.223, 1.532, 1.522, 1.249, 1.23, 1.301, 1.533, 1.401, 1.35, 1.312, 1.205, 1.498, 1.38, 0.81, 1.29, 1.429, 1.369, 1.202, 1.179, 1.279, 1.161, 1.441, 1.154, 0.797, 1.142, 1.161, 1.166, 1.239, 1.265, 1.172, 1.416, 1.078, 1.517, 1.365, 1.215, 1.335, 0.712, 0.891, 1.515, 1.228, 1.469, 1.164, 1.217, 1.41, 0.771, 0.872, 0.896, 1.117, 1.034, 0.906, 0.817, 0.813, 0.811, 0.85, 1.314, 0.971, 1.233, 1.281, 1.088, 1.097, 1.025, 0.902, 1.048, 1.047, 1.245, 0.95, 0.592, 0.99, 1.174, 0.907, 1.136, 0.747, 0.867, 1.09, 0.372, 1.24, 1.413, 0.474, 0.792, 1.215, 1.125, 0.908, 1.094, 0.537, 1.174, 0.541, 0.714, 0.858, 0.382, 0.896, 1.073, 0.991, 0.608, 0.0, 0.627]}],                        {\"template\": {\"data\": {\"bar\": [{\"error_x\": {\"color\": \"#2a3f5f\"}, \"error_y\": {\"color\": \"#2a3f5f\"}, \"marker\": {\"line\": {\"color\": \"#E5ECF6\", \"width\": 0.5}}, \"type\": \"bar\"}], \"barpolar\": [{\"marker\": {\"line\": {\"color\": \"#E5ECF6\", \"width\": 0.5}}, \"type\": \"barpolar\"}], \"carpet\": [{\"aaxis\": {\"endlinecolor\": \"#2a3f5f\", \"gridcolor\": \"white\", \"linecolor\": \"white\", \"minorgridcolor\": \"white\", \"startlinecolor\": \"#2a3f5f\"}, \"baxis\": {\"endlinecolor\": \"#2a3f5f\", \"gridcolor\": \"white\", \"linecolor\": \"white\", \"minorgridcolor\": \"white\", \"startlinecolor\": \"#2a3f5f\"}, \"type\": \"carpet\"}], \"choropleth\": [{\"colorbar\": {\"outlinewidth\": 0, \"ticks\": \"\"}, \"type\": \"choropleth\"}], \"contour\": [{\"colorbar\": {\"outlinewidth\": 0, \"ticks\": \"\"}, \"colorscale\": [[0.0, \"#0d0887\"], [0.1111111111111111, \"#46039f\"], [0.2222222222222222, \"#7201a8\"], [0.3333333333333333, \"#9c179e\"], [0.4444444444444444, \"#bd3786\"], [0.5555555555555556, \"#d8576b\"], [0.6666666666666666, \"#ed7953\"], [0.7777777777777778, \"#fb9f3a\"], [0.8888888888888888, \"#fdca26\"], [1.0, \"#f0f921\"]], \"type\": \"contour\"}], \"contourcarpet\": [{\"colorbar\": {\"outlinewidth\": 0, \"ticks\": \"\"}, \"type\": \"contourcarpet\"}], \"heatmap\": [{\"colorbar\": {\"outlinewidth\": 0, \"ticks\": \"\"}, \"colorscale\": [[0.0, \"#0d0887\"], [0.1111111111111111, \"#46039f\"], [0.2222222222222222, \"#7201a8\"], [0.3333333333333333, \"#9c179e\"], [0.4444444444444444, \"#bd3786\"], [0.5555555555555556, \"#d8576b\"], [0.6666666666666666, \"#ed7953\"], [0.7777777777777778, \"#fb9f3a\"], [0.8888888888888888, \"#fdca26\"], [1.0, \"#f0f921\"]], \"type\": \"heatmap\"}], \"heatmapgl\": [{\"colorbar\": {\"outlinewidth\": 0, \"ticks\": \"\"}, \"colorscale\": [[0.0, \"#0d0887\"], [0.1111111111111111, \"#46039f\"], [0.2222222222222222, \"#7201a8\"], [0.3333333333333333, \"#9c179e\"], [0.4444444444444444, \"#bd3786\"], [0.5555555555555556, \"#d8576b\"], [0.6666666666666666, \"#ed7953\"], [0.7777777777777778, \"#fb9f3a\"], [0.8888888888888888, \"#fdca26\"], [1.0, \"#f0f921\"]], \"type\": \"heatmapgl\"}], \"histogram\": [{\"marker\": {\"colorbar\": {\"outlinewidth\": 0, \"ticks\": \"\"}}, \"type\": \"histogram\"}], \"histogram2d\": [{\"colorbar\": {\"outlinewidth\": 0, \"ticks\": \"\"}, \"colorscale\": [[0.0, \"#0d0887\"], [0.1111111111111111, \"#46039f\"], [0.2222222222222222, \"#7201a8\"], [0.3333333333333333, \"#9c179e\"], [0.4444444444444444, \"#bd3786\"], [0.5555555555555556, \"#d8576b\"], [0.6666666666666666, \"#ed7953\"], [0.7777777777777778, \"#fb9f3a\"], [0.8888888888888888, \"#fdca26\"], [1.0, \"#f0f921\"]], \"type\": \"histogram2d\"}], \"histogram2dcontour\": [{\"colorbar\": {\"outlinewidth\": 0, \"ticks\": \"\"}, \"colorscale\": [[0.0, \"#0d0887\"], [0.1111111111111111, \"#46039f\"], [0.2222222222222222, \"#7201a8\"], [0.3333333333333333, \"#9c179e\"], [0.4444444444444444, \"#bd3786\"], [0.5555555555555556, \"#d8576b\"], [0.6666666666666666, \"#ed7953\"], [0.7777777777777778, \"#fb9f3a\"], [0.8888888888888888, \"#fdca26\"], [1.0, \"#f0f921\"]], \"type\": \"histogram2dcontour\"}], \"mesh3d\": [{\"colorbar\": {\"outlinewidth\": 0, \"ticks\": \"\"}, \"type\": \"mesh3d\"}], \"parcoords\": [{\"line\": {\"colorbar\": {\"outlinewidth\": 0, \"ticks\": \"\"}}, \"type\": \"parcoords\"}], \"pie\": [{\"automargin\": true, \"type\": \"pie\"}], \"scatter\": [{\"marker\": {\"colorbar\": {\"outlinewidth\": 0, \"ticks\": \"\"}}, \"type\": \"scatter\"}], \"scatter3d\": [{\"line\": {\"colorbar\": {\"outlinewidth\": 0, \"ticks\": \"\"}}, \"marker\": {\"colorbar\": {\"outlinewidth\": 0, \"ticks\": \"\"}}, \"type\": \"scatter3d\"}], \"scattercarpet\": [{\"marker\": {\"colorbar\": {\"outlinewidth\": 0, \"ticks\": \"\"}}, \"type\": \"scattercarpet\"}], \"scattergeo\": [{\"marker\": {\"colorbar\": {\"outlinewidth\": 0, \"ticks\": \"\"}}, \"type\": \"scattergeo\"}], \"scattergl\": [{\"marker\": {\"colorbar\": {\"outlinewidth\": 0, \"ticks\": \"\"}}, \"type\": \"scattergl\"}], \"scattermapbox\": [{\"marker\": {\"colorbar\": {\"outlinewidth\": 0, \"ticks\": \"\"}}, \"type\": \"scattermapbox\"}], \"scatterpolar\": [{\"marker\": {\"colorbar\": {\"outlinewidth\": 0, \"ticks\": \"\"}}, \"type\": \"scatterpolar\"}], \"scatterpolargl\": [{\"marker\": {\"colorbar\": {\"outlinewidth\": 0, \"ticks\": \"\"}}, \"type\": \"scatterpolargl\"}], \"scatterternary\": [{\"marker\": {\"colorbar\": {\"outlinewidth\": 0, \"ticks\": \"\"}}, \"type\": \"scatterternary\"}], \"surface\": [{\"colorbar\": {\"outlinewidth\": 0, \"ticks\": \"\"}, \"colorscale\": [[0.0, \"#0d0887\"], [0.1111111111111111, \"#46039f\"], [0.2222222222222222, \"#7201a8\"], [0.3333333333333333, \"#9c179e\"], [0.4444444444444444, \"#bd3786\"], [0.5555555555555556, \"#d8576b\"], [0.6666666666666666, \"#ed7953\"], [0.7777777777777778, \"#fb9f3a\"], [0.8888888888888888, \"#fdca26\"], [1.0, \"#f0f921\"]], \"type\": \"surface\"}], \"table\": [{\"cells\": {\"fill\": {\"color\": \"#EBF0F8\"}, \"line\": {\"color\": \"white\"}}, \"header\": {\"fill\": {\"color\": \"#C8D4E3\"}, \"line\": {\"color\": \"white\"}}, \"type\": \"table\"}]}, \"layout\": {\"annotationdefaults\": {\"arrowcolor\": \"#2a3f5f\", \"arrowhead\": 0, \"arrowwidth\": 1}, \"autotypenumbers\": \"strict\", \"coloraxis\": {\"colorbar\": {\"outlinewidth\": 0, \"ticks\": \"\"}}, \"colorscale\": {\"diverging\": [[0, \"#8e0152\"], [0.1, \"#c51b7d\"], [0.2, \"#de77ae\"], [0.3, \"#f1b6da\"], [0.4, \"#fde0ef\"], [0.5, \"#f7f7f7\"], [0.6, \"#e6f5d0\"], [0.7, \"#b8e186\"], [0.8, \"#7fbc41\"], [0.9, \"#4d9221\"], [1, \"#276419\"]], \"sequential\": [[0.0, \"#0d0887\"], [0.1111111111111111, \"#46039f\"], [0.2222222222222222, \"#7201a8\"], [0.3333333333333333, \"#9c179e\"], [0.4444444444444444, \"#bd3786\"], [0.5555555555555556, \"#d8576b\"], [0.6666666666666666, \"#ed7953\"], [0.7777777777777778, \"#fb9f3a\"], [0.8888888888888888, \"#fdca26\"], [1.0, \"#f0f921\"]], \"sequentialminus\": [[0.0, \"#0d0887\"], [0.1111111111111111, \"#46039f\"], [0.2222222222222222, \"#7201a8\"], [0.3333333333333333, \"#9c179e\"], [0.4444444444444444, \"#bd3786\"], [0.5555555555555556, \"#d8576b\"], [0.6666666666666666, \"#ed7953\"], [0.7777777777777778, \"#fb9f3a\"], [0.8888888888888888, \"#fdca26\"], [1.0, \"#f0f921\"]]}, \"colorway\": [\"#636efa\", \"#EF553B\", \"#00cc96\", \"#ab63fa\", \"#FFA15A\", \"#19d3f3\", \"#FF6692\", \"#B6E880\", \"#FF97FF\", \"#FECB52\"], \"font\": {\"color\": \"#2a3f5f\"}, \"geo\": {\"bgcolor\": \"white\", \"lakecolor\": \"white\", \"landcolor\": \"#E5ECF6\", \"showlakes\": true, \"showland\": true, \"subunitcolor\": \"white\"}, \"hoverlabel\": {\"align\": \"left\"}, \"hovermode\": \"closest\", \"mapbox\": {\"style\": \"light\"}, \"paper_bgcolor\": \"white\", \"plot_bgcolor\": \"#E5ECF6\", \"polar\": {\"angularaxis\": {\"gridcolor\": \"white\", \"linecolor\": \"white\", \"ticks\": \"\"}, \"bgcolor\": \"#E5ECF6\", \"radialaxis\": {\"gridcolor\": \"white\", \"linecolor\": \"white\", \"ticks\": \"\"}}, \"scene\": {\"xaxis\": {\"backgroundcolor\": \"#E5ECF6\", \"gridcolor\": \"white\", \"gridwidth\": 2, \"linecolor\": \"white\", \"showbackground\": true, \"ticks\": \"\", \"zerolinecolor\": \"white\"}, \"yaxis\": {\"backgroundcolor\": \"#E5ECF6\", \"gridcolor\": \"white\", \"gridwidth\": 2, \"linecolor\": \"white\", \"showbackground\": true, \"ticks\": \"\", \"zerolinecolor\": \"white\"}, \"zaxis\": {\"backgroundcolor\": \"#E5ECF6\", \"gridcolor\": \"white\", \"gridwidth\": 2, \"linecolor\": \"white\", \"showbackground\": true, \"ticks\": \"\", \"zerolinecolor\": \"white\"}}, \"shapedefaults\": {\"line\": {\"color\": \"#2a3f5f\"}}, \"ternary\": {\"aaxis\": {\"gridcolor\": \"white\", \"linecolor\": \"white\", \"ticks\": \"\"}, \"baxis\": {\"gridcolor\": \"white\", \"linecolor\": \"white\", \"ticks\": \"\"}, \"bgcolor\": \"#E5ECF6\", \"caxis\": {\"gridcolor\": \"white\", \"linecolor\": \"white\", \"ticks\": \"\"}}, \"title\": {\"x\": 0.05}, \"xaxis\": {\"automargin\": true, \"gridcolor\": \"white\", \"linecolor\": \"white\", \"ticks\": \"\", \"title\": {\"standoff\": 15}, \"zerolinecolor\": \"white\", \"zerolinewidth\": 2}, \"yaxis\": {\"automargin\": true, \"gridcolor\": \"white\", \"linecolor\": \"white\", \"ticks\": \"\", \"title\": {\"standoff\": 15}, \"zerolinecolor\": \"white\", \"zerolinewidth\": 2}}}},                        {\"responsive\": true}                    ).then(function(){\n",
       "                            \n",
       "var gd = document.getElementById('486e4533-42b0-467a-b0fc-7ad85c54bee2');\n",
       "var x = new MutationObserver(function (mutations, observer) {{\n",
       "        var display = window.getComputedStyle(gd).display;\n",
       "        if (!display || display === 'none') {{\n",
       "            console.log([gd, 'removed!']);\n",
       "            Plotly.purge(gd);\n",
       "            observer.disconnect();\n",
       "        }}\n",
       "}});\n",
       "\n",
       "// Listen for the removal of the full notebook cells\n",
       "var notebookContainer = gd.closest('#notebook-container');\n",
       "if (notebookContainer) {{\n",
       "    x.observe(notebookContainer, {childList: true});\n",
       "}}\n",
       "\n",
       "// Listen for the clearing of the current output cell\n",
       "var outputEl = gd.closest('.output');\n",
       "if (outputEl) {{\n",
       "    x.observe(outputEl, {childList: true});\n",
       "}}\n",
       "\n",
       "                        })                };                });            </script>        </div>"
      ]
     },
     "metadata": {},
     "output_type": "display_data"
    }
   ],
   "source": [
    "\n",
    "#attempt at big interactive graph max allocated time 3 hours \n",
    "\n",
    "fig3 = go.Figure()\n",
    "\n",
    "fig3.add_trace(go.Scatter(\n",
    "x=data1[\"Happiness Score\"], y=data1[\"Social support\"],\n",
    "mode=\"markers\", marker_color=data1[\"Happiness Score\"], text=data1[\"Country\"], \n",
    "marker=dict(showscale = True)))\n",
    "\n",
    "# we also update the marker line \n",
    "fig3.update_traces(marker_line_width=1, marker_size=10)\n",
    "fig3"
   ]
  },
  {
   "cell_type": "code",
   "execution_count": 104,
   "metadata": {
    "ExecuteTime": {
     "end_time": "2021-02-16T16:22:11.595839Z",
     "start_time": "2021-02-16T16:22:11.589139Z"
    }
   },
   "outputs": [
    {
     "data": {
      "text/plain": [
       "dtype('float64')"
      ]
     },
     "execution_count": 104,
     "metadata": {},
     "output_type": "execute_result"
    }
   ],
   "source": [
    "data[\"Social support\"].dtypes"
   ]
  },
  {
   "cell_type": "code",
   "execution_count": 36,
   "metadata": {
    "ExecuteTime": {
     "end_time": "2021-02-17T10:26:28.427997Z",
     "start_time": "2021-02-17T10:26:27.377735Z"
    }
   },
   "outputs": [
    {
     "ename": "NameError",
     "evalue": "name 'data' is not defined",
     "output_type": "error",
     "traceback": [
      "\u001b[0;31m---------------------------------------------------------------------------\u001b[0m",
      "\u001b[0;31mNameError\u001b[0m                                 Traceback (most recent call last)",
      "\u001b[0;32m<ipython-input-36-8b8e646207cd>\u001b[0m in \u001b[0;36m<module>\u001b[0;34m\u001b[0m\n\u001b[1;32m      5\u001b[0m \u001b[0;32mimport\u001b[0m \u001b[0mplotly\u001b[0m\u001b[0;34m.\u001b[0m\u001b[0mexpress\u001b[0m \u001b[0;32mas\u001b[0m \u001b[0mpx\u001b[0m\u001b[0;34m\u001b[0m\u001b[0;34m\u001b[0m\u001b[0m\n\u001b[1;32m      6\u001b[0m \u001b[0;34m\u001b[0m\u001b[0m\n\u001b[0;32m----> 7\u001b[0;31m \u001b[0mdf\u001b[0m \u001b[0;34m=\u001b[0m \u001b[0mdata\u001b[0m\u001b[0;34m\u001b[0m\u001b[0;34m\u001b[0m\u001b[0m\n\u001b[0m\u001b[1;32m      8\u001b[0m \u001b[0;34m\u001b[0m\u001b[0m\n\u001b[1;32m      9\u001b[0m \u001b[0;34m\u001b[0m\u001b[0m\n",
      "\u001b[0;31mNameError\u001b[0m: name 'data' is not defined"
     ]
    }
   ],
   "source": [
    "import dash\n",
    "import dash_core_components as dcc\n",
    "import dash_html_components as html\n",
    "from dash.dependencies import Input, Output\n",
    "import plotly.express as px\n",
    "\n",
    "df = data\n",
    "\n",
    "\n",
    "app = JupyterDash(__name__)\n",
    "\n",
    "app.layout = html.Div([\n",
    "    dcc.RadioItems(\n",
    "        id=\"radio\",\n",
    "        options=[\n",
    "            {\"label\": \"Social support\", \"value\": \"Social support\"},\n",
    "            {\"label\": \"Healthy life expectancy\", \"value\": \"Healthy life expectancy\"},\n",
    "            {\"label\": \"Freedom to make life choices\", \"value\": \"Freedom to make life choices\"},\n",
    "            {\"label\": \"Generosity\", \"value\": \"Generosity\"},\n",
    "            {\"label\": \"Perceptions of corruption\", \"value\": \"Perceptions of corruption\"}\n",
    "        ],\n",
    "        value = \"Social support\"\n",
    "    ),\n",
    "    dcc.Graph(id=\"scatter\"),\n",
    "])\n",
    "\n",
    "@app.callback(\n",
    "    Output(\"scatter\", \"figure\"), \n",
    "    [Input(\"radio\", \"value\")])\n",
    "def scatter(x):\n",
    "    fig3 = go.Figure()\n",
    "\n",
    "    fig3.add_trace(go.Scatter(\n",
    "    x=data[\"Happiness Score\"], y=data[x],\n",
    "    mode=\"markers\", marker_color=data[\"Happiness Score\"],\n",
    "        text=data[\"Country\"],\n",
    "    marker=dict(showscale = True)))\n",
    "\n",
    "        # we also update the marker line \n",
    "    fig3.update_traces(marker_line_width=1, marker_size=10)\n",
    "    \n",
    "    \n",
    "    \n",
    "    return fig3\n",
    "\n",
    "app.run_server(mode='inline')"
   ]
  },
  {
   "cell_type": "code",
   "execution_count": 55,
   "metadata": {
    "ExecuteTime": {
     "end_time": "2021-02-17T10:54:29.872686Z",
     "start_time": "2021-02-17T10:54:24.523713Z"
    },
    "scrolled": false
   },
   "outputs": [
    {
     "data": {
      "text/html": [
       "\n",
       "        <iframe\n",
       "            width=\"100%\"\n",
       "            height=\"650\"\n",
       "            src=\"http://127.0.0.1:8050/\"\n",
       "            frameborder=\"0\"\n",
       "            allowfullscreen\n",
       "        ></iframe>\n",
       "        "
      ],
      "text/plain": [
       "<IPython.lib.display.IFrame at 0x14985ddc0>"
      ]
     },
     "metadata": {},
     "output_type": "display_data"
    },
    {
     "data": {
      "text/html": [
       "\n",
       "        <iframe\n",
       "            width=\"100%\"\n",
       "            height=\"525px\"\n",
       "            src=\"https://plotly.com/~StereoAlex/1.embed\"\n",
       "            frameborder=\"0\"\n",
       "            allowfullscreen\n",
       "        ></iframe>\n",
       "        "
      ],
      "text/plain": [
       "<IPython.lib.display.IFrame at 0x14983c970>"
      ]
     },
     "execution_count": 55,
     "metadata": {},
     "output_type": "execute_result"
    }
   ],
   "source": [
    "import dash\n",
    "import dash_core_components as dcc\n",
    "import dash_html_components as html\n",
    "from dash.dependencies import Input, Output\n",
    "import plotly.express as px\n",
    "import plotly.express as px\n",
    "from jupyter_dash import JupyterDash\n",
    "import dash_core_components as dcc\n",
    "import dash_html_components as html\n",
    "from dash.dependencies import Input, Output\n",
    "df = data1\n",
    "import chart_studio.plotly as py\n",
    "import plotly.io as pio\n",
    "\n",
    "\n",
    "\n",
    "app = JupyterDash(__name__)\n",
    "\n",
    "app.layout = html.Div([\n",
    "    dcc.RadioItems(\n",
    "        id=\"radio\",\n",
    "        options=[\n",
    "            {\"label\": \"Social support\", \"value\": \"Social support\"},\n",
    "            {\"label\": \"Healthy life expectancy\", \"value\": \"Healthy life expectancy\"},\n",
    "            {\"label\": \"Freedom to make life choices\", \"value\": \"Freedom to make life choices\"},\n",
    "            {\"label\": \"Generosity\", \"value\": \"Generosity\"},\n",
    "            {\"label\": \"Perceptions of corruption\", \"value\": \"Perceptions of corruption\"}\n",
    "        ],\n",
    "        value = \"Social support\"\n",
    "    ),\n",
    "    dcc.Graph(id=\"scatter\"),\n",
    "])\n",
    "\n",
    "@app.callback(\n",
    "    Output(\"scatter\", \"figure\"), \n",
    "    [Input(\"radio\", \"value\")])\n",
    "def scatter(x):\n",
    "    fig3 = px.scatter(data1, x = data1[\"Happiness Score\"], y=x, color=data1[\"continent\"],\n",
    "                 hover_data=[\"Country\"])\n",
    "\n",
    "        # we also update the marker line \n",
    "    \n",
    "    \n",
    "    \n",
    "    return fig3\n",
    "\n",
    "app.run_server(mode='inline')\n",
    "\n",
    "py.iplot(fig3, filename = 'basic-line', auto_open=True)"
   ]
  },
  {
   "cell_type": "code",
   "execution_count": 40,
   "metadata": {
    "ExecuteTime": {
     "end_time": "2021-02-17T10:32:02.532872Z",
     "start_time": "2021-02-17T10:32:02.527148Z"
    }
   },
   "outputs": [],
   "source": [
    "import chart_studio\n",
    "chart_studio.tools.set_credentials_file(username='StereoAlex', api_key=\"......\")"
   ]
  },
  {
   "cell_type": "code",
   "execution_count": 59,
   "metadata": {
    "ExecuteTime": {
     "end_time": "2021-02-17T11:14:33.922153Z",
     "start_time": "2021-02-17T11:14:30.515758Z"
    }
   },
   "outputs": [
    {
     "data": {
      "text/html": [
       "\n",
       "        <iframe\n",
       "            width=\"100%\"\n",
       "            height=\"525px\"\n",
       "            src=\"https://plotly.com/~StereoAlex/10.embed\"\n",
       "            frameborder=\"0\"\n",
       "            allowfullscreen\n",
       "        ></iframe>\n",
       "        "
      ],
      "text/plain": [
       "<IPython.lib.display.IFrame at 0x149784a00>"
      ]
     },
     "execution_count": 59,
     "metadata": {},
     "output_type": "execute_result"
    }
   ],
   "source": [
    "fig3 = px.scatter(data1, x = data1[\"Happiness Score\"], y=data1[\"Social support\"], color=data1[\"continent\"],\n",
    "        hover_data=[\"Country\"])\n",
    "\n",
    "\n",
    "py.iplot(fig3, filename = 'basic2', auto_open=True)"
   ]
  },
  {
   "cell_type": "code",
   "execution_count": null,
   "metadata": {},
   "outputs": [],
   "source": []
  }
 ],
 "metadata": {
  "kernelspec": {
   "display_name": "Ironhack",
   "language": "python",
   "name": "ironhack"
  },
  "language_info": {
   "codemirror_mode": {
    "name": "ipython",
    "version": 3
   },
   "file_extension": ".py",
   "mimetype": "text/x-python",
   "name": "python",
   "nbconvert_exporter": "python",
   "pygments_lexer": "ipython3",
   "version": "3.9.1"
  }
 },
 "nbformat": 4,
 "nbformat_minor": 4
}
