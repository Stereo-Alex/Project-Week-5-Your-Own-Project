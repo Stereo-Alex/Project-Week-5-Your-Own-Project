{
 "cells": [
  {
   "cell_type": "code",
   "execution_count": 3,
   "metadata": {
    "ExecuteTime": {
     "end_time": "2021-02-17T13:57:12.560169Z",
     "start_time": "2021-02-17T13:57:12.549082Z"
    }
   },
   "outputs": [],
   "source": [
    "data1 = pd.read_csv(\"Data_project/data11.csv\", sep=';' )"
   ]
  },
  {
   "cell_type": "code",
   "execution_count": 4,
   "metadata": {
    "ExecuteTime": {
     "end_time": "2021-02-17T13:57:13.545476Z",
     "start_time": "2021-02-17T13:57:13.539613Z"
    }
   },
   "outputs": [],
   "source": [
    "data1 = data1.drop(\"Unnamed: 0\",axis=1)"
   ]
  },
  {
   "cell_type": "code",
   "execution_count": 2,
   "metadata": {
    "ExecuteTime": {
     "end_time": "2021-02-17T13:57:12.544100Z",
     "start_time": "2021-02-17T13:57:09.370711Z"
    }
   },
   "outputs": [
    {
     "data": {
      "text/html": [
       "        <script type=\"text/javascript\">\n",
       "        window.PlotlyConfig = {MathJaxConfig: 'local'};\n",
       "        if (window.MathJax) {MathJax.Hub.Config({SVG: {font: \"STIX-Web\"}});}\n",
       "        if (typeof require !== 'undefined') {\n",
       "        require.undef(\"plotly\");\n",
       "        requirejs.config({\n",
       "            paths: {\n",
       "                'plotly': ['https://cdn.plot.ly/plotly-latest.min']\n",
       "            }\n",
       "        });\n",
       "        require(['plotly'], function(Plotly) {\n",
       "            window._Plotly = Plotly;\n",
       "        });\n",
       "        }\n",
       "        </script>\n",
       "        "
      ]
     },
     "metadata": {},
     "output_type": "display_data"
    },
    {
     "data": {
      "text/html": [
       "        <script type=\"text/javascript\">\n",
       "        window.PlotlyConfig = {MathJaxConfig: 'local'};\n",
       "        if (window.MathJax) {MathJax.Hub.Config({SVG: {font: \"STIX-Web\"}});}\n",
       "        if (typeof require !== 'undefined') {\n",
       "        require.undef(\"plotly\");\n",
       "        requirejs.config({\n",
       "            paths: {\n",
       "                'plotly': ['https://cdn.plot.ly/plotly-latest.min']\n",
       "            }\n",
       "        });\n",
       "        require(['plotly'], function(Plotly) {\n",
       "            window._Plotly = Plotly;\n",
       "        });\n",
       "        }\n",
       "        </script>\n",
       "        "
      ]
     },
     "metadata": {},
     "output_type": "display_data"
    }
   ],
   "source": [
    "import pandas as pd\n",
    "import numpy as np\n",
    "import chart_studio.plotly as py\n",
    "import seaborn as sns\n",
    "import plotly.express as px\n",
    "import cufflinks as cf\n",
    "import plotly.graph_objects as go\n",
    "\n",
    "%matplotlib inline\n",
    "\n",
    "from plotly.offline import download_plotlyjs, init_notebook_mode, plot, iplot\n",
    "\n",
    "init_notebook_mode(connected=True)\n",
    "cf.go_offline()\n"
   ]
  },
  {
   "cell_type": "code",
   "execution_count": 11,
   "metadata": {
    "ExecuteTime": {
     "end_time": "2021-02-17T14:19:00.808875Z",
     "start_time": "2021-02-17T14:19:00.704672Z"
    }
   },
   "outputs": [
    {
     "data": {
      "application/vnd.plotly.v1+json": {
       "config": {
        "plotlyServerURL": "https://plotly.com"
       },
       "data": [
        {
         "customdata": [
          [
           "Finland"
          ],
          [
           "Norway"
          ],
          [
           "Denmark"
          ],
          [
           "Iceland"
          ],
          [
           "Switzerland"
          ],
          [
           "Netherlands"
          ],
          [
           "Sweden"
          ],
          [
           "United Kingdom"
          ],
          [
           "Austria"
          ],
          [
           "Ireland"
          ],
          [
           "Germany"
          ],
          [
           "Belgium"
          ],
          [
           "Luxembourg"
          ],
          [
           "Czech Republic"
          ],
          [
           "Malta"
          ],
          [
           "France"
          ],
          [
           "Spain"
          ],
          [
           "Slovakia"
          ],
          [
           "Poland"
          ],
          [
           "Italy"
          ],
          [
           "Lithuania"
          ],
          [
           "Slovenia"
          ],
          [
           "Romania"
          ],
          [
           "Latvia"
          ],
          [
           "Northern Cyprus"
          ],
          [
           "Russia"
          ],
          [
           "Estonia"
          ],
          [
           "Kosovo"
          ],
          [
           "Moldova"
          ],
          [
           "Hungary"
          ],
          [
           "Belarus"
          ],
          [
           "Portugal"
          ],
          [
           "Serbia"
          ],
          [
           "Greece"
          ],
          [
           "Montenegro"
          ],
          [
           "Croatia"
          ],
          [
           "Macedonia"
          ],
          [
           "Bosnia and Herzegovina"
          ],
          [
           "Bulgaria"
          ],
          [
           "Albania"
          ],
          [
           "Ukraine"
          ]
         ],
         "hovertemplate": "continent=Europe<br>Happiness Score=%{x}<br>Social support=%{y}<br>Country=%{customdata[0]}<extra></extra>",
         "legendgroup": "Europe",
         "marker": {
          "color": "#636efa",
          "symbol": "circle"
         },
         "mode": "markers",
         "name": "Europe",
         "orientation": "v",
         "showlegend": true,
         "type": "scatter",
         "x": [
          7.632,
          7.594,
          7.555,
          7.495,
          7.487,
          7.441,
          7.314,
          7.191,
          7.139,
          6.977,
          6.965,
          6.927,
          6.911,
          6.711,
          6.627,
          6.489,
          6.311,
          6.173,
          6.123,
          6.011,
          5.952,
          5.948,
          5.945,
          5.933,
          5.835,
          5.811,
          5.739,
          5.662,
          5.641,
          5.621,
          5.483,
          5.411,
          5.398,
          5.358,
          5.347,
          5.321,
          5.185,
          5.129,
          4.933,
          4.586,
          4.103
         ],
         "xaxis": "x",
         "y": [
          1.592,
          1.582,
          1.59,
          1.644,
          1.549,
          1.488,
          1.501,
          1.433,
          1.504,
          1.583,
          1.474,
          1.483,
          1.52,
          1.489,
          1.525,
          1.466,
          1.538,
          1.537,
          1.448,
          1.501,
          1.527,
          1.506,
          1.219,
          1.454,
          1.211,
          1.479,
          1.532,
          1.23,
          1.301,
          1.401,
          1.498,
          1.429,
          1.369,
          1.202,
          1.279,
          1.161,
          1.239,
          1.078,
          1.515,
          0.817,
          1.413
         ],
         "yaxis": "y"
        },
        {
         "customdata": [
          [
           "Canada"
          ],
          [
           "Costa Rica"
          ],
          [
           "United States"
          ],
          [
           "Mexico"
          ],
          [
           "Chile"
          ],
          [
           "Panama"
          ],
          [
           "Brazil"
          ],
          [
           "Argentina"
          ],
          [
           "Guatemala"
          ],
          [
           "Uruguay"
          ],
          [
           "Colombia"
          ],
          [
           "El Salvador"
          ],
          [
           "Nicaragua"
          ],
          [
           "Ecuador"
          ],
          [
           "Belize"
          ],
          [
           "Jamaica"
          ],
          [
           "Bolivia"
          ],
          [
           "Paraguay"
          ],
          [
           "Peru"
          ],
          [
           "Honduras"
          ],
          [
           "Dominican Republic"
          ],
          [
           "Haiti"
          ]
         ],
         "hovertemplate": "continent=Americas<br>Happiness Score=%{x}<br>Social support=%{y}<br>Country=%{customdata[0]}<extra></extra>",
         "legendgroup": "Americas",
         "marker": {
          "color": "#EF553B",
          "symbol": "circle"
         },
         "mode": "markers",
         "name": "Americas",
         "orientation": "v",
         "showlegend": true,
         "type": "scatter",
         "x": [
          7.328,
          7.072,
          6.886,
          6.488,
          6.476,
          6.431,
          6.419,
          6.388,
          6.382,
          6.379,
          6.261,
          6.167,
          6.141,
          5.973,
          5.956,
          5.891,
          5.752,
          5.681,
          5.663,
          5.504,
          5.302,
          3.582
         ],
         "xaxis": "x",
         "y": [
          1.532,
          1.459,
          1.471,
          1.252,
          1.331,
          1.438,
          1.474,
          1.468,
          1.268,
          1.459,
          1.439,
          1.231,
          1.319,
          1.33,
          1.101,
          1.493,
          1.223,
          1.522,
          1.249,
          1.205,
          1.441,
          0.714
         ],
         "yaxis": "y"
        },
        {
         "customdata": [
          [
           "New Zealand"
          ],
          [
           "Australia"
          ]
         ],
         "hovertemplate": "continent=Oceania<br>Happiness Score=%{x}<br>Social support=%{y}<br>Country=%{customdata[0]}<extra></extra>",
         "legendgroup": "Oceania",
         "marker": {
          "color": "#00cc96",
          "symbol": "circle"
         },
         "mode": "markers",
         "name": "Oceania",
         "orientation": "v",
         "showlegend": true,
         "type": "scatter",
         "x": [
          7.324,
          7.272
         ],
         "xaxis": "x",
         "y": [
          1.601,
          1.573
         ],
         "yaxis": "y"
        },
        {
         "customdata": [
          [
           "Israel"
          ],
          [
           "United Arab Emirates"
          ],
          [
           "Taiwan"
          ],
          [
           "Qatar"
          ],
          [
           "Saudi Arabia"
          ],
          [
           "Singapore"
          ],
          [
           "Malaysia"
          ],
          [
           "Bahrain"
          ],
          [
           "Uzbekistan"
          ],
          [
           "Kuwait"
          ],
          [
           "Thailand"
          ],
          [
           "Japan"
          ],
          [
           "South Korea"
          ],
          [
           "Kazakhstan"
          ],
          [
           "Cyprus"
          ],
          [
           "Turkmenistan"
          ],
          [
           "Philippines"
          ],
          [
           "Turkey"
          ],
          [
           "Pakistan"
          ],
          [
           "Hong Kong"
          ],
          [
           "Lebanon"
          ],
          [
           "China"
          ],
          [
           "Azerbaijan"
          ],
          [
           "Tajikistan"
          ],
          [
           "Jordan"
          ],
          [
           "Kyrgyzstan"
          ],
          [
           "Mongolia"
          ],
          [
           "Vietnam"
          ],
          [
           "Indonesia"
          ],
          [
           "Bhutan"
          ],
          [
           "Nepal"
          ],
          [
           "Venezuela"
          ],
          [
           "Laos"
          ],
          [
           "Bangladesh"
          ],
          [
           "Sri Lanka"
          ],
          [
           "Iraq"
          ],
          [
           "Cambodia"
          ],
          [
           "Georgia"
          ],
          [
           "Armenia"
          ],
          [
           "Myanmar"
          ],
          [
           "India"
          ],
          [
           "Afghanistan"
          ],
          [
           "Yemen"
          ]
         ],
         "hovertemplate": "continent=Asia<br>Happiness Score=%{x}<br>Social support=%{y}<br>Country=%{customdata[0]}<extra></extra>",
         "legendgroup": "Asia",
         "marker": {
          "color": "#ab63fa",
          "symbol": "circle"
         },
         "mode": "markers",
         "name": "Asia",
         "orientation": "v",
         "showlegend": true,
         "type": "scatter",
         "x": [
          6.814,
          6.774,
          6.441,
          6.374,
          6.371,
          6.343,
          6.322,
          6.105,
          6.096,
          6.083,
          6.072,
          5.915,
          5.875,
          5.791,
          5.762,
          5.636,
          5.524,
          5.483,
          5.472,
          5.431,
          5.358,
          5.246,
          5.201,
          5.199,
          5.161,
          5.131,
          5.125,
          5.103,
          5.093,
          5.082,
          4.881,
          4.806,
          4.623,
          4.511,
          4.471,
          4.456,
          4.433,
          4.341,
          4.321,
          4.308,
          4.191,
          3.632,
          3.355
         ],
         "xaxis": "x",
         "y": [
          1.559,
          0.776,
          1.436,
          1.303,
          1.331,
          1.451,
          1.258,
          1.366,
          1.584,
          1.301,
          1.417,
          1.462,
          1.204,
          1.516,
          1.191,
          1.533,
          1.312,
          1.38,
          0.81,
          1.29,
          1.179,
          1.142,
          1.161,
          1.166,
          1.265,
          1.416,
          1.517,
          1.365,
          1.215,
          1.335,
          1.228,
          1.469,
          1.034,
          0.85,
          1.314,
          0.971,
          1.088,
          0.592,
          0.99,
          1.174,
          0.747,
          0.537,
          1.073
         ],
         "yaxis": "y"
        },
        {
         "customdata": [
          [
           "Trinidad & Tobago"
          ],
          [
           "Mauritius"
          ],
          [
           "Libya"
          ],
          [
           "Algeria"
          ],
          [
           "Morocco"
          ],
          [
           "Nigeria"
          ],
          [
           "Somalia"
          ],
          [
           "Cameroon"
          ],
          [
           "Gabon"
          ],
          [
           "Palestinian Territories"
          ],
          [
           "South Africa"
          ],
          [
           "Iran"
          ],
          [
           "Ivory Coast"
          ],
          [
           "Ghana"
          ],
          [
           "Senegal"
          ],
          [
           "Tunisia"
          ],
          [
           "Sierra Leone"
          ],
          [
           "Congo (Brazzaville)"
          ],
          [
           "Mali"
          ],
          [
           "Namibia"
          ],
          [
           "Burkina Faso"
          ],
          [
           "Egypt"
          ],
          [
           "Mozambique"
          ],
          [
           "Kenya"
          ],
          [
           "Zambia"
          ],
          [
           "Mauritania"
          ],
          [
           "Ethiopia"
          ],
          [
           "Chad"
          ],
          [
           "Congo (Kinshasa)"
          ],
          [
           "Niger"
          ],
          [
           "Uganda"
          ],
          [
           "Benin"
          ],
          [
           "Sudan"
          ],
          [
           "Togo"
          ],
          [
           "Guinea"
          ],
          [
           "Lesotho"
          ],
          [
           "Angola"
          ],
          [
           "Madagascar"
          ],
          [
           "Zimbabwe"
          ],
          [
           "Botswana"
          ],
          [
           "Malawi"
          ],
          [
           "Liberia"
          ],
          [
           "Syria"
          ],
          [
           "Rwanda"
          ],
          [
           "Tanzania"
          ],
          [
           "South Sudan"
          ],
          [
           "Central African Republic"
          ],
          [
           "Burundi"
          ]
         ],
         "hovertemplate": "continent=Africa<br>Happiness Score=%{x}<br>Social support=%{y}<br>Country=%{customdata[0]}<extra></extra>",
         "legendgroup": "Africa",
         "marker": {
          "color": "#FFA15A",
          "symbol": "circle"
         },
         "mode": "markers",
         "name": "Africa",
         "orientation": "v",
         "showlegend": true,
         "type": "scatter",
         "x": [
          6.192,
          5.891,
          5.566,
          5.295,
          5.254,
          5.155,
          4.982,
          4.975,
          4.758,
          4.743,
          4.724,
          4.707,
          4.671,
          4.657,
          4.631,
          4.592,
          4.571,
          4.559,
          4.447,
          4.441,
          4.424,
          4.419,
          4.417,
          4.411,
          4.377,
          4.356,
          4.351,
          4.301,
          4.245,
          4.166,
          4.161,
          4.141,
          4.139,
          3.999,
          3.964,
          3.808,
          3.795,
          3.774,
          3.692,
          3.591,
          3.587,
          3.495,
          3.462,
          3.408,
          3.303,
          3.254,
          3.083,
          2.905
         ],
         "xaxis": "x",
         "y": [
          1.492,
          1.387,
          1.35,
          1.154,
          0.797,
          1.172,
          0.712,
          0.891,
          1.164,
          1.217,
          1.41,
          0.771,
          0.872,
          0.896,
          1.117,
          0.906,
          0.813,
          0.811,
          1.233,
          1.281,
          1.097,
          1.025,
          0.902,
          1.048,
          1.047,
          1.245,
          0.95,
          0.907,
          1.136,
          0.867,
          1.09,
          0.372,
          1.24,
          0.474,
          0.792,
          1.215,
          1.125,
          0.908,
          1.094,
          1.174,
          0.541,
          0.858,
          0.382,
          0.896,
          0.991,
          0.608,
          0,
          0.627
         ],
         "yaxis": "y"
        }
       ],
       "layout": {
        "legend": {
         "title": {
          "text": "continent"
         },
         "tracegroupgap": 0
        },
        "margin": {
         "t": 60
        },
        "template": {
         "data": {
          "bar": [
           {
            "error_x": {
             "color": "#2a3f5f"
            },
            "error_y": {
             "color": "#2a3f5f"
            },
            "marker": {
             "line": {
              "color": "#E5ECF6",
              "width": 0.5
             }
            },
            "type": "bar"
           }
          ],
          "barpolar": [
           {
            "marker": {
             "line": {
              "color": "#E5ECF6",
              "width": 0.5
             }
            },
            "type": "barpolar"
           }
          ],
          "carpet": [
           {
            "aaxis": {
             "endlinecolor": "#2a3f5f",
             "gridcolor": "white",
             "linecolor": "white",
             "minorgridcolor": "white",
             "startlinecolor": "#2a3f5f"
            },
            "baxis": {
             "endlinecolor": "#2a3f5f",
             "gridcolor": "white",
             "linecolor": "white",
             "minorgridcolor": "white",
             "startlinecolor": "#2a3f5f"
            },
            "type": "carpet"
           }
          ],
          "choropleth": [
           {
            "colorbar": {
             "outlinewidth": 0,
             "ticks": ""
            },
            "type": "choropleth"
           }
          ],
          "contour": [
           {
            "colorbar": {
             "outlinewidth": 0,
             "ticks": ""
            },
            "colorscale": [
             [
              0,
              "#0d0887"
             ],
             [
              0.1111111111111111,
              "#46039f"
             ],
             [
              0.2222222222222222,
              "#7201a8"
             ],
             [
              0.3333333333333333,
              "#9c179e"
             ],
             [
              0.4444444444444444,
              "#bd3786"
             ],
             [
              0.5555555555555556,
              "#d8576b"
             ],
             [
              0.6666666666666666,
              "#ed7953"
             ],
             [
              0.7777777777777778,
              "#fb9f3a"
             ],
             [
              0.8888888888888888,
              "#fdca26"
             ],
             [
              1,
              "#f0f921"
             ]
            ],
            "type": "contour"
           }
          ],
          "contourcarpet": [
           {
            "colorbar": {
             "outlinewidth": 0,
             "ticks": ""
            },
            "type": "contourcarpet"
           }
          ],
          "heatmap": [
           {
            "colorbar": {
             "outlinewidth": 0,
             "ticks": ""
            },
            "colorscale": [
             [
              0,
              "#0d0887"
             ],
             [
              0.1111111111111111,
              "#46039f"
             ],
             [
              0.2222222222222222,
              "#7201a8"
             ],
             [
              0.3333333333333333,
              "#9c179e"
             ],
             [
              0.4444444444444444,
              "#bd3786"
             ],
             [
              0.5555555555555556,
              "#d8576b"
             ],
             [
              0.6666666666666666,
              "#ed7953"
             ],
             [
              0.7777777777777778,
              "#fb9f3a"
             ],
             [
              0.8888888888888888,
              "#fdca26"
             ],
             [
              1,
              "#f0f921"
             ]
            ],
            "type": "heatmap"
           }
          ],
          "heatmapgl": [
           {
            "colorbar": {
             "outlinewidth": 0,
             "ticks": ""
            },
            "colorscale": [
             [
              0,
              "#0d0887"
             ],
             [
              0.1111111111111111,
              "#46039f"
             ],
             [
              0.2222222222222222,
              "#7201a8"
             ],
             [
              0.3333333333333333,
              "#9c179e"
             ],
             [
              0.4444444444444444,
              "#bd3786"
             ],
             [
              0.5555555555555556,
              "#d8576b"
             ],
             [
              0.6666666666666666,
              "#ed7953"
             ],
             [
              0.7777777777777778,
              "#fb9f3a"
             ],
             [
              0.8888888888888888,
              "#fdca26"
             ],
             [
              1,
              "#f0f921"
             ]
            ],
            "type": "heatmapgl"
           }
          ],
          "histogram": [
           {
            "marker": {
             "colorbar": {
              "outlinewidth": 0,
              "ticks": ""
             }
            },
            "type": "histogram"
           }
          ],
          "histogram2d": [
           {
            "colorbar": {
             "outlinewidth": 0,
             "ticks": ""
            },
            "colorscale": [
             [
              0,
              "#0d0887"
             ],
             [
              0.1111111111111111,
              "#46039f"
             ],
             [
              0.2222222222222222,
              "#7201a8"
             ],
             [
              0.3333333333333333,
              "#9c179e"
             ],
             [
              0.4444444444444444,
              "#bd3786"
             ],
             [
              0.5555555555555556,
              "#d8576b"
             ],
             [
              0.6666666666666666,
              "#ed7953"
             ],
             [
              0.7777777777777778,
              "#fb9f3a"
             ],
             [
              0.8888888888888888,
              "#fdca26"
             ],
             [
              1,
              "#f0f921"
             ]
            ],
            "type": "histogram2d"
           }
          ],
          "histogram2dcontour": [
           {
            "colorbar": {
             "outlinewidth": 0,
             "ticks": ""
            },
            "colorscale": [
             [
              0,
              "#0d0887"
             ],
             [
              0.1111111111111111,
              "#46039f"
             ],
             [
              0.2222222222222222,
              "#7201a8"
             ],
             [
              0.3333333333333333,
              "#9c179e"
             ],
             [
              0.4444444444444444,
              "#bd3786"
             ],
             [
              0.5555555555555556,
              "#d8576b"
             ],
             [
              0.6666666666666666,
              "#ed7953"
             ],
             [
              0.7777777777777778,
              "#fb9f3a"
             ],
             [
              0.8888888888888888,
              "#fdca26"
             ],
             [
              1,
              "#f0f921"
             ]
            ],
            "type": "histogram2dcontour"
           }
          ],
          "mesh3d": [
           {
            "colorbar": {
             "outlinewidth": 0,
             "ticks": ""
            },
            "type": "mesh3d"
           }
          ],
          "parcoords": [
           {
            "line": {
             "colorbar": {
              "outlinewidth": 0,
              "ticks": ""
             }
            },
            "type": "parcoords"
           }
          ],
          "pie": [
           {
            "automargin": true,
            "type": "pie"
           }
          ],
          "scatter": [
           {
            "marker": {
             "colorbar": {
              "outlinewidth": 0,
              "ticks": ""
             }
            },
            "type": "scatter"
           }
          ],
          "scatter3d": [
           {
            "line": {
             "colorbar": {
              "outlinewidth": 0,
              "ticks": ""
             }
            },
            "marker": {
             "colorbar": {
              "outlinewidth": 0,
              "ticks": ""
             }
            },
            "type": "scatter3d"
           }
          ],
          "scattercarpet": [
           {
            "marker": {
             "colorbar": {
              "outlinewidth": 0,
              "ticks": ""
             }
            },
            "type": "scattercarpet"
           }
          ],
          "scattergeo": [
           {
            "marker": {
             "colorbar": {
              "outlinewidth": 0,
              "ticks": ""
             }
            },
            "type": "scattergeo"
           }
          ],
          "scattergl": [
           {
            "marker": {
             "colorbar": {
              "outlinewidth": 0,
              "ticks": ""
             }
            },
            "type": "scattergl"
           }
          ],
          "scattermapbox": [
           {
            "marker": {
             "colorbar": {
              "outlinewidth": 0,
              "ticks": ""
             }
            },
            "type": "scattermapbox"
           }
          ],
          "scatterpolar": [
           {
            "marker": {
             "colorbar": {
              "outlinewidth": 0,
              "ticks": ""
             }
            },
            "type": "scatterpolar"
           }
          ],
          "scatterpolargl": [
           {
            "marker": {
             "colorbar": {
              "outlinewidth": 0,
              "ticks": ""
             }
            },
            "type": "scatterpolargl"
           }
          ],
          "scatterternary": [
           {
            "marker": {
             "colorbar": {
              "outlinewidth": 0,
              "ticks": ""
             }
            },
            "type": "scatterternary"
           }
          ],
          "surface": [
           {
            "colorbar": {
             "outlinewidth": 0,
             "ticks": ""
            },
            "colorscale": [
             [
              0,
              "#0d0887"
             ],
             [
              0.1111111111111111,
              "#46039f"
             ],
             [
              0.2222222222222222,
              "#7201a8"
             ],
             [
              0.3333333333333333,
              "#9c179e"
             ],
             [
              0.4444444444444444,
              "#bd3786"
             ],
             [
              0.5555555555555556,
              "#d8576b"
             ],
             [
              0.6666666666666666,
              "#ed7953"
             ],
             [
              0.7777777777777778,
              "#fb9f3a"
             ],
             [
              0.8888888888888888,
              "#fdca26"
             ],
             [
              1,
              "#f0f921"
             ]
            ],
            "type": "surface"
           }
          ],
          "table": [
           {
            "cells": {
             "fill": {
              "color": "#EBF0F8"
             },
             "line": {
              "color": "white"
             }
            },
            "header": {
             "fill": {
              "color": "#C8D4E3"
             },
             "line": {
              "color": "white"
             }
            },
            "type": "table"
           }
          ]
         },
         "layout": {
          "annotationdefaults": {
           "arrowcolor": "#2a3f5f",
           "arrowhead": 0,
           "arrowwidth": 1
          },
          "autotypenumbers": "strict",
          "coloraxis": {
           "colorbar": {
            "outlinewidth": 0,
            "ticks": ""
           }
          },
          "colorscale": {
           "diverging": [
            [
             0,
             "#8e0152"
            ],
            [
             0.1,
             "#c51b7d"
            ],
            [
             0.2,
             "#de77ae"
            ],
            [
             0.3,
             "#f1b6da"
            ],
            [
             0.4,
             "#fde0ef"
            ],
            [
             0.5,
             "#f7f7f7"
            ],
            [
             0.6,
             "#e6f5d0"
            ],
            [
             0.7,
             "#b8e186"
            ],
            [
             0.8,
             "#7fbc41"
            ],
            [
             0.9,
             "#4d9221"
            ],
            [
             1,
             "#276419"
            ]
           ],
           "sequential": [
            [
             0,
             "#0d0887"
            ],
            [
             0.1111111111111111,
             "#46039f"
            ],
            [
             0.2222222222222222,
             "#7201a8"
            ],
            [
             0.3333333333333333,
             "#9c179e"
            ],
            [
             0.4444444444444444,
             "#bd3786"
            ],
            [
             0.5555555555555556,
             "#d8576b"
            ],
            [
             0.6666666666666666,
             "#ed7953"
            ],
            [
             0.7777777777777778,
             "#fb9f3a"
            ],
            [
             0.8888888888888888,
             "#fdca26"
            ],
            [
             1,
             "#f0f921"
            ]
           ],
           "sequentialminus": [
            [
             0,
             "#0d0887"
            ],
            [
             0.1111111111111111,
             "#46039f"
            ],
            [
             0.2222222222222222,
             "#7201a8"
            ],
            [
             0.3333333333333333,
             "#9c179e"
            ],
            [
             0.4444444444444444,
             "#bd3786"
            ],
            [
             0.5555555555555556,
             "#d8576b"
            ],
            [
             0.6666666666666666,
             "#ed7953"
            ],
            [
             0.7777777777777778,
             "#fb9f3a"
            ],
            [
             0.8888888888888888,
             "#fdca26"
            ],
            [
             1,
             "#f0f921"
            ]
           ]
          },
          "colorway": [
           "#636efa",
           "#EF553B",
           "#00cc96",
           "#ab63fa",
           "#FFA15A",
           "#19d3f3",
           "#FF6692",
           "#B6E880",
           "#FF97FF",
           "#FECB52"
          ],
          "font": {
           "color": "#2a3f5f"
          },
          "geo": {
           "bgcolor": "white",
           "lakecolor": "white",
           "landcolor": "#E5ECF6",
           "showlakes": true,
           "showland": true,
           "subunitcolor": "white"
          },
          "hoverlabel": {
           "align": "left"
          },
          "hovermode": "closest",
          "mapbox": {
           "style": "light"
          },
          "paper_bgcolor": "white",
          "plot_bgcolor": "#E5ECF6",
          "polar": {
           "angularaxis": {
            "gridcolor": "white",
            "linecolor": "white",
            "ticks": ""
           },
           "bgcolor": "#E5ECF6",
           "radialaxis": {
            "gridcolor": "white",
            "linecolor": "white",
            "ticks": ""
           }
          },
          "scene": {
           "xaxis": {
            "backgroundcolor": "#E5ECF6",
            "gridcolor": "white",
            "gridwidth": 2,
            "linecolor": "white",
            "showbackground": true,
            "ticks": "",
            "zerolinecolor": "white"
           },
           "yaxis": {
            "backgroundcolor": "#E5ECF6",
            "gridcolor": "white",
            "gridwidth": 2,
            "linecolor": "white",
            "showbackground": true,
            "ticks": "",
            "zerolinecolor": "white"
           },
           "zaxis": {
            "backgroundcolor": "#E5ECF6",
            "gridcolor": "white",
            "gridwidth": 2,
            "linecolor": "white",
            "showbackground": true,
            "ticks": "",
            "zerolinecolor": "white"
           }
          },
          "shapedefaults": {
           "line": {
            "color": "#2a3f5f"
           }
          },
          "ternary": {
           "aaxis": {
            "gridcolor": "white",
            "linecolor": "white",
            "ticks": ""
           },
           "baxis": {
            "gridcolor": "white",
            "linecolor": "white",
            "ticks": ""
           },
           "bgcolor": "#E5ECF6",
           "caxis": {
            "gridcolor": "white",
            "linecolor": "white",
            "ticks": ""
           }
          },
          "title": {
           "x": 0.05
          },
          "xaxis": {
           "automargin": true,
           "gridcolor": "white",
           "linecolor": "white",
           "ticks": "",
           "title": {
            "standoff": 15
           },
           "zerolinecolor": "white",
           "zerolinewidth": 2
          },
          "yaxis": {
           "automargin": true,
           "gridcolor": "white",
           "linecolor": "white",
           "ticks": "",
           "title": {
            "standoff": 15
           },
           "zerolinecolor": "white",
           "zerolinewidth": 2
          }
         }
        },
        "xaxis": {
         "anchor": "y",
         "domain": [
          0,
          1
         ],
         "title": {
          "text": "Happiness Score"
         }
        },
        "yaxis": {
         "anchor": "x",
         "domain": [
          0,
          1
         ],
         "title": {
          "text": "Social support"
         }
        }
       }
      },
      "text/html": [
       "<div>                            <div id=\"51e96d34-0522-4dca-816e-90bf9af351ff\" class=\"plotly-graph-div\" style=\"height:525px; width:100%;\"></div>            <script type=\"text/javascript\">                require([\"plotly\"], function(Plotly) {                    window.PLOTLYENV=window.PLOTLYENV || {};                                    if (document.getElementById(\"51e96d34-0522-4dca-816e-90bf9af351ff\")) {                    Plotly.newPlot(                        \"51e96d34-0522-4dca-816e-90bf9af351ff\",                        [{\"customdata\": [[\"Finland\"], [\"Norway\"], [\"Denmark\"], [\"Iceland\"], [\"Switzerland\"], [\"Netherlands\"], [\"Sweden\"], [\"United Kingdom\"], [\"Austria\"], [\"Ireland\"], [\"Germany\"], [\"Belgium\"], [\"Luxembourg\"], [\"Czech Republic\"], [\"Malta\"], [\"France\"], [\"Spain\"], [\"Slovakia\"], [\"Poland\"], [\"Italy\"], [\"Lithuania\"], [\"Slovenia\"], [\"Romania\"], [\"Latvia\"], [\"Northern Cyprus\"], [\"Russia\"], [\"Estonia\"], [\"Kosovo\"], [\"Moldova\"], [\"Hungary\"], [\"Belarus\"], [\"Portugal\"], [\"Serbia\"], [\"Greece\"], [\"Montenegro\"], [\"Croatia\"], [\"Macedonia\"], [\"Bosnia and Herzegovina\"], [\"Bulgaria\"], [\"Albania\"], [\"Ukraine\"]], \"hovertemplate\": \"continent=Europe<br>Happiness Score=%{x}<br>Social support=%{y}<br>Country=%{customdata[0]}<extra></extra>\", \"legendgroup\": \"Europe\", \"marker\": {\"color\": \"#636efa\", \"symbol\": \"circle\"}, \"mode\": \"markers\", \"name\": \"Europe\", \"orientation\": \"v\", \"showlegend\": true, \"type\": \"scatter\", \"x\": [7.632, 7.594, 7.555, 7.495, 7.487, 7.441, 7.314, 7.191, 7.139, 6.977, 6.965, 6.927, 6.911, 6.711, 6.627, 6.489, 6.311, 6.173, 6.123, 6.011, 5.952, 5.948, 5.945, 5.933, 5.835, 5.811, 5.739, 5.662, 5.641, 5.621, 5.483, 5.411, 5.398, 5.358, 5.347, 5.321, 5.185, 5.129, 4.933, 4.586, 4.103], \"xaxis\": \"x\", \"y\": [1.592, 1.582, 1.59, 1.644, 1.549, 1.488, 1.501, 1.433, 1.504, 1.583, 1.474, 1.483, 1.52, 1.489, 1.525, 1.466, 1.538, 1.537, 1.448, 1.501, 1.527, 1.506, 1.219, 1.454, 1.211, 1.479, 1.532, 1.23, 1.301, 1.401, 1.498, 1.429, 1.369, 1.202, 1.279, 1.161, 1.239, 1.078, 1.515, 0.817, 1.413], \"yaxis\": \"y\"}, {\"customdata\": [[\"Canada\"], [\"Costa Rica\"], [\"United States\"], [\"Mexico\"], [\"Chile\"], [\"Panama\"], [\"Brazil\"], [\"Argentina\"], [\"Guatemala\"], [\"Uruguay\"], [\"Colombia\"], [\"El Salvador\"], [\"Nicaragua\"], [\"Ecuador\"], [\"Belize\"], [\"Jamaica\"], [\"Bolivia\"], [\"Paraguay\"], [\"Peru\"], [\"Honduras\"], [\"Dominican Republic\"], [\"Haiti\"]], \"hovertemplate\": \"continent=Americas<br>Happiness Score=%{x}<br>Social support=%{y}<br>Country=%{customdata[0]}<extra></extra>\", \"legendgroup\": \"Americas\", \"marker\": {\"color\": \"#EF553B\", \"symbol\": \"circle\"}, \"mode\": \"markers\", \"name\": \"Americas\", \"orientation\": \"v\", \"showlegend\": true, \"type\": \"scatter\", \"x\": [7.328, 7.072, 6.886, 6.488, 6.476, 6.431, 6.419, 6.388, 6.382, 6.379, 6.261, 6.167, 6.141, 5.973, 5.956, 5.891, 5.752, 5.681, 5.663, 5.504, 5.302, 3.582], \"xaxis\": \"x\", \"y\": [1.532, 1.459, 1.471, 1.252, 1.331, 1.438, 1.474, 1.468, 1.268, 1.459, 1.439, 1.231, 1.319, 1.33, 1.101, 1.493, 1.223, 1.522, 1.249, 1.205, 1.441, 0.714], \"yaxis\": \"y\"}, {\"customdata\": [[\"New Zealand\"], [\"Australia\"]], \"hovertemplate\": \"continent=Oceania<br>Happiness Score=%{x}<br>Social support=%{y}<br>Country=%{customdata[0]}<extra></extra>\", \"legendgroup\": \"Oceania\", \"marker\": {\"color\": \"#00cc96\", \"symbol\": \"circle\"}, \"mode\": \"markers\", \"name\": \"Oceania\", \"orientation\": \"v\", \"showlegend\": true, \"type\": \"scatter\", \"x\": [7.324, 7.272], \"xaxis\": \"x\", \"y\": [1.601, 1.573], \"yaxis\": \"y\"}, {\"customdata\": [[\"Israel\"], [\"United Arab Emirates\"], [\"Taiwan\"], [\"Qatar\"], [\"Saudi Arabia\"], [\"Singapore\"], [\"Malaysia\"], [\"Bahrain\"], [\"Uzbekistan\"], [\"Kuwait\"], [\"Thailand\"], [\"Japan\"], [\"South Korea\"], [\"Kazakhstan\"], [\"Cyprus\"], [\"Turkmenistan\"], [\"Philippines\"], [\"Turkey\"], [\"Pakistan\"], [\"Hong Kong\"], [\"Lebanon\"], [\"China\"], [\"Azerbaijan\"], [\"Tajikistan\"], [\"Jordan\"], [\"Kyrgyzstan\"], [\"Mongolia\"], [\"Vietnam\"], [\"Indonesia\"], [\"Bhutan\"], [\"Nepal\"], [\"Venezuela\"], [\"Laos\"], [\"Bangladesh\"], [\"Sri Lanka\"], [\"Iraq\"], [\"Cambodia\"], [\"Georgia\"], [\"Armenia\"], [\"Myanmar\"], [\"India\"], [\"Afghanistan\"], [\"Yemen\"]], \"hovertemplate\": \"continent=Asia<br>Happiness Score=%{x}<br>Social support=%{y}<br>Country=%{customdata[0]}<extra></extra>\", \"legendgroup\": \"Asia\", \"marker\": {\"color\": \"#ab63fa\", \"symbol\": \"circle\"}, \"mode\": \"markers\", \"name\": \"Asia\", \"orientation\": \"v\", \"showlegend\": true, \"type\": \"scatter\", \"x\": [6.814, 6.774, 6.441, 6.374, 6.371, 6.343, 6.322, 6.105, 6.096, 6.083, 6.072, 5.915, 5.875, 5.791, 5.762, 5.636, 5.524, 5.483, 5.472, 5.431, 5.358, 5.246, 5.201, 5.199, 5.161, 5.131, 5.125, 5.103, 5.093, 5.082, 4.881, 4.806, 4.623, 4.511, 4.471, 4.456, 4.433, 4.341, 4.321, 4.308, 4.191, 3.632, 3.355], \"xaxis\": \"x\", \"y\": [1.559, 0.776, 1.436, 1.303, 1.331, 1.451, 1.258, 1.366, 1.584, 1.301, 1.417, 1.462, 1.204, 1.516, 1.191, 1.533, 1.312, 1.38, 0.81, 1.29, 1.179, 1.142, 1.161, 1.166, 1.265, 1.416, 1.517, 1.365, 1.215, 1.335, 1.228, 1.469, 1.034, 0.85, 1.314, 0.971, 1.088, 0.592, 0.99, 1.174, 0.747, 0.537, 1.073], \"yaxis\": \"y\"}, {\"customdata\": [[\"Trinidad & Tobago\"], [\"Mauritius\"], [\"Libya\"], [\"Algeria\"], [\"Morocco\"], [\"Nigeria\"], [\"Somalia\"], [\"Cameroon\"], [\"Gabon\"], [\"Palestinian Territories\"], [\"South Africa\"], [\"Iran\"], [\"Ivory Coast\"], [\"Ghana\"], [\"Senegal\"], [\"Tunisia\"], [\"Sierra Leone\"], [\"Congo (Brazzaville)\"], [\"Mali\"], [\"Namibia\"], [\"Burkina Faso\"], [\"Egypt\"], [\"Mozambique\"], [\"Kenya\"], [\"Zambia\"], [\"Mauritania\"], [\"Ethiopia\"], [\"Chad\"], [\"Congo (Kinshasa)\"], [\"Niger\"], [\"Uganda\"], [\"Benin\"], [\"Sudan\"], [\"Togo\"], [\"Guinea\"], [\"Lesotho\"], [\"Angola\"], [\"Madagascar\"], [\"Zimbabwe\"], [\"Botswana\"], [\"Malawi\"], [\"Liberia\"], [\"Syria\"], [\"Rwanda\"], [\"Tanzania\"], [\"South Sudan\"], [\"Central African Republic\"], [\"Burundi\"]], \"hovertemplate\": \"continent=Africa<br>Happiness Score=%{x}<br>Social support=%{y}<br>Country=%{customdata[0]}<extra></extra>\", \"legendgroup\": \"Africa\", \"marker\": {\"color\": \"#FFA15A\", \"symbol\": \"circle\"}, \"mode\": \"markers\", \"name\": \"Africa\", \"orientation\": \"v\", \"showlegend\": true, \"type\": \"scatter\", \"x\": [6.192, 5.891, 5.566, 5.295, 5.254, 5.155, 4.982, 4.975, 4.758, 4.743, 4.724, 4.707, 4.671, 4.657, 4.631, 4.592, 4.571, 4.559, 4.447, 4.441, 4.424, 4.419, 4.417, 4.411, 4.377, 4.356, 4.351, 4.301, 4.245, 4.166, 4.161, 4.141, 4.139, 3.999, 3.964, 3.808, 3.795, 3.774, 3.692, 3.591, 3.587, 3.495, 3.462, 3.408, 3.303, 3.254, 3.083, 2.905], \"xaxis\": \"x\", \"y\": [1.492, 1.387, 1.35, 1.154, 0.797, 1.172, 0.712, 0.891, 1.164, 1.217, 1.41, 0.771, 0.872, 0.896, 1.117, 0.906, 0.813, 0.811, 1.233, 1.281, 1.097, 1.025, 0.902, 1.048, 1.047, 1.245, 0.95, 0.907, 1.136, 0.867, 1.09, 0.372, 1.24, 0.474, 0.792, 1.215, 1.125, 0.908, 1.094, 1.174, 0.541, 0.858, 0.382, 0.896, 0.991, 0.608, 0.0, 0.627], \"yaxis\": \"y\"}],                        {\"legend\": {\"title\": {\"text\": \"continent\"}, \"tracegroupgap\": 0}, \"margin\": {\"t\": 60}, \"template\": {\"data\": {\"bar\": [{\"error_x\": {\"color\": \"#2a3f5f\"}, \"error_y\": {\"color\": \"#2a3f5f\"}, \"marker\": {\"line\": {\"color\": \"#E5ECF6\", \"width\": 0.5}}, \"type\": \"bar\"}], \"barpolar\": [{\"marker\": {\"line\": {\"color\": \"#E5ECF6\", \"width\": 0.5}}, \"type\": \"barpolar\"}], \"carpet\": [{\"aaxis\": {\"endlinecolor\": \"#2a3f5f\", \"gridcolor\": \"white\", \"linecolor\": \"white\", \"minorgridcolor\": \"white\", \"startlinecolor\": \"#2a3f5f\"}, \"baxis\": {\"endlinecolor\": \"#2a3f5f\", \"gridcolor\": \"white\", \"linecolor\": \"white\", \"minorgridcolor\": \"white\", \"startlinecolor\": \"#2a3f5f\"}, \"type\": \"carpet\"}], \"choropleth\": [{\"colorbar\": {\"outlinewidth\": 0, \"ticks\": \"\"}, \"type\": \"choropleth\"}], \"contour\": [{\"colorbar\": {\"outlinewidth\": 0, \"ticks\": \"\"}, \"colorscale\": [[0.0, \"#0d0887\"], [0.1111111111111111, \"#46039f\"], [0.2222222222222222, \"#7201a8\"], [0.3333333333333333, \"#9c179e\"], [0.4444444444444444, \"#bd3786\"], [0.5555555555555556, \"#d8576b\"], [0.6666666666666666, \"#ed7953\"], [0.7777777777777778, \"#fb9f3a\"], [0.8888888888888888, \"#fdca26\"], [1.0, \"#f0f921\"]], \"type\": \"contour\"}], \"contourcarpet\": [{\"colorbar\": {\"outlinewidth\": 0, \"ticks\": \"\"}, \"type\": \"contourcarpet\"}], \"heatmap\": [{\"colorbar\": {\"outlinewidth\": 0, \"ticks\": \"\"}, \"colorscale\": [[0.0, \"#0d0887\"], [0.1111111111111111, \"#46039f\"], [0.2222222222222222, \"#7201a8\"], [0.3333333333333333, \"#9c179e\"], [0.4444444444444444, \"#bd3786\"], [0.5555555555555556, \"#d8576b\"], [0.6666666666666666, \"#ed7953\"], [0.7777777777777778, \"#fb9f3a\"], [0.8888888888888888, \"#fdca26\"], [1.0, \"#f0f921\"]], \"type\": \"heatmap\"}], \"heatmapgl\": [{\"colorbar\": {\"outlinewidth\": 0, \"ticks\": \"\"}, \"colorscale\": [[0.0, \"#0d0887\"], [0.1111111111111111, \"#46039f\"], [0.2222222222222222, \"#7201a8\"], [0.3333333333333333, \"#9c179e\"], [0.4444444444444444, \"#bd3786\"], [0.5555555555555556, \"#d8576b\"], [0.6666666666666666, \"#ed7953\"], [0.7777777777777778, \"#fb9f3a\"], [0.8888888888888888, \"#fdca26\"], [1.0, \"#f0f921\"]], \"type\": \"heatmapgl\"}], \"histogram\": [{\"marker\": {\"colorbar\": {\"outlinewidth\": 0, \"ticks\": \"\"}}, \"type\": \"histogram\"}], \"histogram2d\": [{\"colorbar\": {\"outlinewidth\": 0, \"ticks\": \"\"}, \"colorscale\": [[0.0, \"#0d0887\"], [0.1111111111111111, \"#46039f\"], [0.2222222222222222, \"#7201a8\"], [0.3333333333333333, \"#9c179e\"], [0.4444444444444444, \"#bd3786\"], [0.5555555555555556, \"#d8576b\"], [0.6666666666666666, \"#ed7953\"], [0.7777777777777778, \"#fb9f3a\"], [0.8888888888888888, \"#fdca26\"], [1.0, \"#f0f921\"]], \"type\": \"histogram2d\"}], \"histogram2dcontour\": [{\"colorbar\": {\"outlinewidth\": 0, \"ticks\": \"\"}, \"colorscale\": [[0.0, \"#0d0887\"], [0.1111111111111111, \"#46039f\"], [0.2222222222222222, \"#7201a8\"], [0.3333333333333333, \"#9c179e\"], [0.4444444444444444, \"#bd3786\"], [0.5555555555555556, \"#d8576b\"], [0.6666666666666666, \"#ed7953\"], [0.7777777777777778, \"#fb9f3a\"], [0.8888888888888888, \"#fdca26\"], [1.0, \"#f0f921\"]], \"type\": \"histogram2dcontour\"}], \"mesh3d\": [{\"colorbar\": {\"outlinewidth\": 0, \"ticks\": \"\"}, \"type\": \"mesh3d\"}], \"parcoords\": [{\"line\": {\"colorbar\": {\"outlinewidth\": 0, \"ticks\": \"\"}}, \"type\": \"parcoords\"}], \"pie\": [{\"automargin\": true, \"type\": \"pie\"}], \"scatter\": [{\"marker\": {\"colorbar\": {\"outlinewidth\": 0, \"ticks\": \"\"}}, \"type\": \"scatter\"}], \"scatter3d\": [{\"line\": {\"colorbar\": {\"outlinewidth\": 0, \"ticks\": \"\"}}, \"marker\": {\"colorbar\": {\"outlinewidth\": 0, \"ticks\": \"\"}}, \"type\": \"scatter3d\"}], \"scattercarpet\": [{\"marker\": {\"colorbar\": {\"outlinewidth\": 0, \"ticks\": \"\"}}, \"type\": \"scattercarpet\"}], \"scattergeo\": [{\"marker\": {\"colorbar\": {\"outlinewidth\": 0, \"ticks\": \"\"}}, \"type\": \"scattergeo\"}], \"scattergl\": [{\"marker\": {\"colorbar\": {\"outlinewidth\": 0, \"ticks\": \"\"}}, \"type\": \"scattergl\"}], \"scattermapbox\": [{\"marker\": {\"colorbar\": {\"outlinewidth\": 0, \"ticks\": \"\"}}, \"type\": \"scattermapbox\"}], \"scatterpolar\": [{\"marker\": {\"colorbar\": {\"outlinewidth\": 0, \"ticks\": \"\"}}, \"type\": \"scatterpolar\"}], \"scatterpolargl\": [{\"marker\": {\"colorbar\": {\"outlinewidth\": 0, \"ticks\": \"\"}}, \"type\": \"scatterpolargl\"}], \"scatterternary\": [{\"marker\": {\"colorbar\": {\"outlinewidth\": 0, \"ticks\": \"\"}}, \"type\": \"scatterternary\"}], \"surface\": [{\"colorbar\": {\"outlinewidth\": 0, \"ticks\": \"\"}, \"colorscale\": [[0.0, \"#0d0887\"], [0.1111111111111111, \"#46039f\"], [0.2222222222222222, \"#7201a8\"], [0.3333333333333333, \"#9c179e\"], [0.4444444444444444, \"#bd3786\"], [0.5555555555555556, \"#d8576b\"], [0.6666666666666666, \"#ed7953\"], [0.7777777777777778, \"#fb9f3a\"], [0.8888888888888888, \"#fdca26\"], [1.0, \"#f0f921\"]], \"type\": \"surface\"}], \"table\": [{\"cells\": {\"fill\": {\"color\": \"#EBF0F8\"}, \"line\": {\"color\": \"white\"}}, \"header\": {\"fill\": {\"color\": \"#C8D4E3\"}, \"line\": {\"color\": \"white\"}}, \"type\": \"table\"}]}, \"layout\": {\"annotationdefaults\": {\"arrowcolor\": \"#2a3f5f\", \"arrowhead\": 0, \"arrowwidth\": 1}, \"autotypenumbers\": \"strict\", \"coloraxis\": {\"colorbar\": {\"outlinewidth\": 0, \"ticks\": \"\"}}, \"colorscale\": {\"diverging\": [[0, \"#8e0152\"], [0.1, \"#c51b7d\"], [0.2, \"#de77ae\"], [0.3, \"#f1b6da\"], [0.4, \"#fde0ef\"], [0.5, \"#f7f7f7\"], [0.6, \"#e6f5d0\"], [0.7, \"#b8e186\"], [0.8, \"#7fbc41\"], [0.9, \"#4d9221\"], [1, \"#276419\"]], \"sequential\": [[0.0, \"#0d0887\"], [0.1111111111111111, \"#46039f\"], [0.2222222222222222, \"#7201a8\"], [0.3333333333333333, \"#9c179e\"], [0.4444444444444444, \"#bd3786\"], [0.5555555555555556, \"#d8576b\"], [0.6666666666666666, \"#ed7953\"], [0.7777777777777778, \"#fb9f3a\"], [0.8888888888888888, \"#fdca26\"], [1.0, \"#f0f921\"]], \"sequentialminus\": [[0.0, \"#0d0887\"], [0.1111111111111111, \"#46039f\"], [0.2222222222222222, \"#7201a8\"], [0.3333333333333333, \"#9c179e\"], [0.4444444444444444, \"#bd3786\"], [0.5555555555555556, \"#d8576b\"], [0.6666666666666666, \"#ed7953\"], [0.7777777777777778, \"#fb9f3a\"], [0.8888888888888888, \"#fdca26\"], [1.0, \"#f0f921\"]]}, \"colorway\": [\"#636efa\", \"#EF553B\", \"#00cc96\", \"#ab63fa\", \"#FFA15A\", \"#19d3f3\", \"#FF6692\", \"#B6E880\", \"#FF97FF\", \"#FECB52\"], \"font\": {\"color\": \"#2a3f5f\"}, \"geo\": {\"bgcolor\": \"white\", \"lakecolor\": \"white\", \"landcolor\": \"#E5ECF6\", \"showlakes\": true, \"showland\": true, \"subunitcolor\": \"white\"}, \"hoverlabel\": {\"align\": \"left\"}, \"hovermode\": \"closest\", \"mapbox\": {\"style\": \"light\"}, \"paper_bgcolor\": \"white\", \"plot_bgcolor\": \"#E5ECF6\", \"polar\": {\"angularaxis\": {\"gridcolor\": \"white\", \"linecolor\": \"white\", \"ticks\": \"\"}, \"bgcolor\": \"#E5ECF6\", \"radialaxis\": {\"gridcolor\": \"white\", \"linecolor\": \"white\", \"ticks\": \"\"}}, \"scene\": {\"xaxis\": {\"backgroundcolor\": \"#E5ECF6\", \"gridcolor\": \"white\", \"gridwidth\": 2, \"linecolor\": \"white\", \"showbackground\": true, \"ticks\": \"\", \"zerolinecolor\": \"white\"}, \"yaxis\": {\"backgroundcolor\": \"#E5ECF6\", \"gridcolor\": \"white\", \"gridwidth\": 2, \"linecolor\": \"white\", \"showbackground\": true, \"ticks\": \"\", \"zerolinecolor\": \"white\"}, \"zaxis\": {\"backgroundcolor\": \"#E5ECF6\", \"gridcolor\": \"white\", \"gridwidth\": 2, \"linecolor\": \"white\", \"showbackground\": true, \"ticks\": \"\", \"zerolinecolor\": \"white\"}}, \"shapedefaults\": {\"line\": {\"color\": \"#2a3f5f\"}}, \"ternary\": {\"aaxis\": {\"gridcolor\": \"white\", \"linecolor\": \"white\", \"ticks\": \"\"}, \"baxis\": {\"gridcolor\": \"white\", \"linecolor\": \"white\", \"ticks\": \"\"}, \"bgcolor\": \"#E5ECF6\", \"caxis\": {\"gridcolor\": \"white\", \"linecolor\": \"white\", \"ticks\": \"\"}}, \"title\": {\"x\": 0.05}, \"xaxis\": {\"automargin\": true, \"gridcolor\": \"white\", \"linecolor\": \"white\", \"ticks\": \"\", \"title\": {\"standoff\": 15}, \"zerolinecolor\": \"white\", \"zerolinewidth\": 2}, \"yaxis\": {\"automargin\": true, \"gridcolor\": \"white\", \"linecolor\": \"white\", \"ticks\": \"\", \"title\": {\"standoff\": 15}, \"zerolinecolor\": \"white\", \"zerolinewidth\": 2}}}, \"xaxis\": {\"anchor\": \"y\", \"domain\": [0.0, 1.0], \"title\": {\"text\": \"Happiness Score\"}}, \"yaxis\": {\"anchor\": \"x\", \"domain\": [0.0, 1.0], \"title\": {\"text\": \"Social support\"}}},                        {\"responsive\": true}                    ).then(function(){\n",
       "                            \n",
       "var gd = document.getElementById('51e96d34-0522-4dca-816e-90bf9af351ff');\n",
       "var x = new MutationObserver(function (mutations, observer) {{\n",
       "        var display = window.getComputedStyle(gd).display;\n",
       "        if (!display || display === 'none') {{\n",
       "            console.log([gd, 'removed!']);\n",
       "            Plotly.purge(gd);\n",
       "            observer.disconnect();\n",
       "        }}\n",
       "}});\n",
       "\n",
       "// Listen for the removal of the full notebook cells\n",
       "var notebookContainer = gd.closest('#notebook-container');\n",
       "if (notebookContainer) {{\n",
       "    x.observe(notebookContainer, {childList: true});\n",
       "}}\n",
       "\n",
       "// Listen for the clearing of the current output cell\n",
       "var outputEl = gd.closest('.output');\n",
       "if (outputEl) {{\n",
       "    x.observe(outputEl, {childList: true});\n",
       "}}\n",
       "\n",
       "                        })                };                });            </script>        </div>"
      ]
     },
     "metadata": {},
     "output_type": "display_data"
    }
   ],
   "source": [
    "fig3 = px.scatter(data1, x = data1[\"Happiness Score\"], y=data1[\"Social support\"], color=data1[\"continent\"],\n",
    "        hover_data=[\"Country\"])\n",
    "\n",
    "\n",
    "fig3 "
   ]
  },
  {
   "cell_type": "code",
   "execution_count": 12,
   "metadata": {
    "ExecuteTime": {
     "end_time": "2021-02-17T14:19:26.427242Z",
     "start_time": "2021-02-17T14:19:26.334488Z"
    }
   },
   "outputs": [
    {
     "data": {
      "application/vnd.plotly.v1+json": {
       "config": {
        "plotlyServerURL": "https://plotly.com"
       },
       "data": [
        {
         "customdata": [
          [
           "Finland"
          ],
          [
           "Norway"
          ],
          [
           "Denmark"
          ],
          [
           "Iceland"
          ],
          [
           "Switzerland"
          ],
          [
           "Netherlands"
          ],
          [
           "Sweden"
          ],
          [
           "United Kingdom"
          ],
          [
           "Austria"
          ],
          [
           "Ireland"
          ],
          [
           "Germany"
          ],
          [
           "Belgium"
          ],
          [
           "Luxembourg"
          ],
          [
           "Czech Republic"
          ],
          [
           "Malta"
          ],
          [
           "France"
          ],
          [
           "Spain"
          ],
          [
           "Slovakia"
          ],
          [
           "Poland"
          ],
          [
           "Italy"
          ],
          [
           "Lithuania"
          ],
          [
           "Slovenia"
          ],
          [
           "Romania"
          ],
          [
           "Latvia"
          ],
          [
           "Northern Cyprus"
          ],
          [
           "Russia"
          ],
          [
           "Estonia"
          ],
          [
           "Kosovo"
          ],
          [
           "Moldova"
          ],
          [
           "Hungary"
          ],
          [
           "Belarus"
          ],
          [
           "Portugal"
          ],
          [
           "Serbia"
          ],
          [
           "Greece"
          ],
          [
           "Montenegro"
          ],
          [
           "Croatia"
          ],
          [
           "Macedonia"
          ],
          [
           "Bosnia and Herzegovina"
          ],
          [
           "Bulgaria"
          ],
          [
           "Albania"
          ],
          [
           "Ukraine"
          ]
         ],
         "hovertemplate": "continent=Europe<br>Happiness Score=%{x}<br>Healthy life expectancy=%{y}<br>Country=%{customdata[0]}<extra></extra>",
         "legendgroup": "Europe",
         "marker": {
          "color": "#636efa",
          "symbol": "circle"
         },
         "mode": "markers",
         "name": "Europe",
         "orientation": "v",
         "showlegend": true,
         "type": "scatter",
         "x": [
          7.632,
          7.594,
          7.555,
          7.495,
          7.487,
          7.441,
          7.314,
          7.191,
          7.139,
          6.977,
          6.965,
          6.927,
          6.911,
          6.711,
          6.627,
          6.489,
          6.311,
          6.173,
          6.123,
          6.011,
          5.952,
          5.948,
          5.945,
          5.933,
          5.835,
          5.811,
          5.739,
          5.662,
          5.641,
          5.621,
          5.483,
          5.411,
          5.398,
          5.358,
          5.347,
          5.321,
          5.185,
          5.129,
          4.933,
          4.586,
          4.103
         ],
         "xaxis": "x",
         "y": [
          0.874,
          0.861,
          0.868,
          0.914,
          0.927,
          0.878,
          0.913,
          0.888,
          0.891,
          0.876,
          0.861,
          0.894,
          0.896,
          0.854,
          0.884,
          0.908,
          0.965,
          0.776,
          0.781,
          0.946,
          0.716,
          0.856,
          0.726,
          0.671,
          0.909,
          0.599,
          0.737,
          0.578,
          0.62,
          0.732,
          0.7,
          0.884,
          0.685,
          0.879,
          0.729,
          0.737,
          0.691,
          0.758,
          0.712,
          0.79,
          0.609
         ],
         "yaxis": "y"
        },
        {
         "customdata": [
          [
           "Canada"
          ],
          [
           "Costa Rica"
          ],
          [
           "United States"
          ],
          [
           "Mexico"
          ],
          [
           "Chile"
          ],
          [
           "Panama"
          ],
          [
           "Brazil"
          ],
          [
           "Argentina"
          ],
          [
           "Guatemala"
          ],
          [
           "Uruguay"
          ],
          [
           "Colombia"
          ],
          [
           "El Salvador"
          ],
          [
           "Nicaragua"
          ],
          [
           "Ecuador"
          ],
          [
           "Belize"
          ],
          [
           "Jamaica"
          ],
          [
           "Bolivia"
          ],
          [
           "Paraguay"
          ],
          [
           "Peru"
          ],
          [
           "Honduras"
          ],
          [
           "Dominican Republic"
          ],
          [
           "Haiti"
          ]
         ],
         "hovertemplate": "continent=Americas<br>Happiness Score=%{x}<br>Healthy life expectancy=%{y}<br>Country=%{customdata[0]}<extra></extra>",
         "legendgroup": "Americas",
         "marker": {
          "color": "#EF553B",
          "symbol": "circle"
         },
         "mode": "markers",
         "name": "Americas",
         "orientation": "v",
         "showlegend": true,
         "type": "scatter",
         "x": [
          7.328,
          7.072,
          6.886,
          6.488,
          6.476,
          6.431,
          6.419,
          6.388,
          6.382,
          6.379,
          6.261,
          6.167,
          6.141,
          5.973,
          5.956,
          5.891,
          5.752,
          5.681,
          5.663,
          5.504,
          5.302,
          3.582
         ],
         "xaxis": "x",
         "y": [
          0.896,
          0.817,
          0.819,
          0.761,
          0.808,
          0.759,
          0.675,
          0.744,
          0.608,
          0.771,
          0.635,
          0.639,
          0.7,
          0.736,
          0.474,
          0.693,
          0.508,
          0.615,
          0.674,
          0.622,
          0.614,
          0.289
         ],
         "yaxis": "y"
        },
        {
         "customdata": [
          [
           "New Zealand"
          ],
          [
           "Australia"
          ]
         ],
         "hovertemplate": "continent=Oceania<br>Happiness Score=%{x}<br>Healthy life expectancy=%{y}<br>Country=%{customdata[0]}<extra></extra>",
         "legendgroup": "Oceania",
         "marker": {
          "color": "#00cc96",
          "symbol": "circle"
         },
         "mode": "markers",
         "name": "Oceania",
         "orientation": "v",
         "showlegend": true,
         "type": "scatter",
         "x": [
          7.324,
          7.272
         ],
         "xaxis": "x",
         "y": [
          0.876,
          0.91
         ],
         "yaxis": "y"
        },
        {
         "customdata": [
          [
           "Israel"
          ],
          [
           "United Arab Emirates"
          ],
          [
           "Taiwan"
          ],
          [
           "Qatar"
          ],
          [
           "Saudi Arabia"
          ],
          [
           "Singapore"
          ],
          [
           "Malaysia"
          ],
          [
           "Bahrain"
          ],
          [
           "Uzbekistan"
          ],
          [
           "Kuwait"
          ],
          [
           "Thailand"
          ],
          [
           "Japan"
          ],
          [
           "South Korea"
          ],
          [
           "Kazakhstan"
          ],
          [
           "Cyprus"
          ],
          [
           "Turkmenistan"
          ],
          [
           "Philippines"
          ],
          [
           "Turkey"
          ],
          [
           "Pakistan"
          ],
          [
           "Hong Kong"
          ],
          [
           "Lebanon"
          ],
          [
           "China"
          ],
          [
           "Azerbaijan"
          ],
          [
           "Tajikistan"
          ],
          [
           "Jordan"
          ],
          [
           "Kyrgyzstan"
          ],
          [
           "Mongolia"
          ],
          [
           "Vietnam"
          ],
          [
           "Indonesia"
          ],
          [
           "Bhutan"
          ],
          [
           "Nepal"
          ],
          [
           "Venezuela"
          ],
          [
           "Laos"
          ],
          [
           "Bangladesh"
          ],
          [
           "Sri Lanka"
          ],
          [
           "Iraq"
          ],
          [
           "Cambodia"
          ],
          [
           "Georgia"
          ],
          [
           "Armenia"
          ],
          [
           "Myanmar"
          ],
          [
           "India"
          ],
          [
           "Afghanistan"
          ],
          [
           "Yemen"
          ]
         ],
         "hovertemplate": "continent=Asia<br>Happiness Score=%{x}<br>Healthy life expectancy=%{y}<br>Country=%{customdata[0]}<extra></extra>",
         "legendgroup": "Asia",
         "marker": {
          "color": "#ab63fa",
          "symbol": "circle"
         },
         "mode": "markers",
         "name": "Asia",
         "orientation": "v",
         "showlegend": true,
         "type": "scatter",
         "x": [
          6.814,
          6.774,
          6.441,
          6.374,
          6.371,
          6.343,
          6.322,
          6.105,
          6.096,
          6.083,
          6.072,
          5.915,
          5.875,
          5.791,
          5.762,
          5.636,
          5.524,
          5.483,
          5.472,
          5.431,
          5.358,
          5.246,
          5.201,
          5.199,
          5.161,
          5.131,
          5.125,
          5.103,
          5.093,
          5.082,
          4.881,
          4.806,
          4.623,
          4.511,
          4.471,
          4.456,
          4.433,
          4.341,
          4.321,
          4.308,
          4.191,
          3.632,
          3.355
         ],
         "xaxis": "x",
         "y": [
          0.883,
          0.67,
          0.857,
          0.748,
          0.633,
          1.008,
          0.669,
          0.698,
          0.605,
          0.675,
          0.707,
          0.988,
          0.955,
          0.631,
          0.909,
          0.517,
          0.513,
          0.686,
          0.424,
          1.03,
          0.785,
          0.799,
          0.603,
          0.598,
          0.645,
          0.594,
          0.575,
          0.702,
          0.522,
          0.527,
          0.539,
          0.657,
          0.441,
          0.579,
          0.672,
          0.536,
          0.457,
          0.643,
          0.666,
          0.429,
          0.485,
          0.255,
          0.343
         ],
         "yaxis": "y"
        },
        {
         "customdata": [
          [
           "Trinidad & Tobago"
          ],
          [
           "Mauritius"
          ],
          [
           "Libya"
          ],
          [
           "Algeria"
          ],
          [
           "Morocco"
          ],
          [
           "Nigeria"
          ],
          [
           "Somalia"
          ],
          [
           "Cameroon"
          ],
          [
           "Gabon"
          ],
          [
           "Palestinian Territories"
          ],
          [
           "South Africa"
          ],
          [
           "Iran"
          ],
          [
           "Ivory Coast"
          ],
          [
           "Ghana"
          ],
          [
           "Senegal"
          ],
          [
           "Tunisia"
          ],
          [
           "Sierra Leone"
          ],
          [
           "Congo (Brazzaville)"
          ],
          [
           "Mali"
          ],
          [
           "Namibia"
          ],
          [
           "Burkina Faso"
          ],
          [
           "Egypt"
          ],
          [
           "Mozambique"
          ],
          [
           "Kenya"
          ],
          [
           "Zambia"
          ],
          [
           "Mauritania"
          ],
          [
           "Ethiopia"
          ],
          [
           "Chad"
          ],
          [
           "Congo (Kinshasa)"
          ],
          [
           "Niger"
          ],
          [
           "Uganda"
          ],
          [
           "Benin"
          ],
          [
           "Sudan"
          ],
          [
           "Togo"
          ],
          [
           "Guinea"
          ],
          [
           "Lesotho"
          ],
          [
           "Angola"
          ],
          [
           "Madagascar"
          ],
          [
           "Zimbabwe"
          ],
          [
           "Botswana"
          ],
          [
           "Malawi"
          ],
          [
           "Liberia"
          ],
          [
           "Syria"
          ],
          [
           "Rwanda"
          ],
          [
           "Tanzania"
          ],
          [
           "South Sudan"
          ],
          [
           "Central African Republic"
          ],
          [
           "Burundi"
          ]
         ],
         "hovertemplate": "continent=Africa<br>Happiness Score=%{x}<br>Healthy life expectancy=%{y}<br>Country=%{customdata[0]}<extra></extra>",
         "legendgroup": "Africa",
         "marker": {
          "color": "#FFA15A",
          "symbol": "circle"
         },
         "mode": "markers",
         "name": "Africa",
         "orientation": "v",
         "showlegend": true,
         "type": "scatter",
         "x": [
          6.192,
          5.891,
          5.566,
          5.295,
          5.254,
          5.155,
          4.982,
          4.975,
          4.758,
          4.743,
          4.724,
          4.707,
          4.671,
          4.657,
          4.631,
          4.592,
          4.571,
          4.559,
          4.447,
          4.441,
          4.424,
          4.419,
          4.417,
          4.411,
          4.377,
          4.356,
          4.351,
          4.301,
          4.245,
          4.166,
          4.161,
          4.141,
          4.139,
          3.999,
          3.964,
          3.808,
          3.795,
          3.774,
          3.692,
          3.591,
          3.587,
          3.495,
          3.462,
          3.408,
          3.303,
          3.254,
          3.083,
          2.905
         ],
         "xaxis": "x",
         "y": [
          0.564,
          0.684,
          0.553,
          0.687,
          0.669,
          0.048,
          0.115,
          0.182,
          0.404,
          0.602,
          0.33,
          0.691,
          0.08,
          0.337,
          0.433,
          0.69,
          0,
          0.343,
          0.152,
          0.365,
          0.254,
          0.553,
          0.173,
          0.454,
          0.295,
          0.292,
          0.391,
          0.053,
          0.204,
          0.221,
          0.237,
          0.24,
          0.312,
          0.253,
          0.211,
          0.079,
          0.269,
          0.402,
          0.248,
          0.417,
          0.306,
          0.267,
          0.539,
          0.4,
          0.381,
          0.177,
          0.01,
          0.145
         ],
         "yaxis": "y"
        }
       ],
       "layout": {
        "legend": {
         "title": {
          "text": "continent"
         },
         "tracegroupgap": 0
        },
        "margin": {
         "t": 60
        },
        "template": {
         "data": {
          "bar": [
           {
            "error_x": {
             "color": "#2a3f5f"
            },
            "error_y": {
             "color": "#2a3f5f"
            },
            "marker": {
             "line": {
              "color": "#E5ECF6",
              "width": 0.5
             }
            },
            "type": "bar"
           }
          ],
          "barpolar": [
           {
            "marker": {
             "line": {
              "color": "#E5ECF6",
              "width": 0.5
             }
            },
            "type": "barpolar"
           }
          ],
          "carpet": [
           {
            "aaxis": {
             "endlinecolor": "#2a3f5f",
             "gridcolor": "white",
             "linecolor": "white",
             "minorgridcolor": "white",
             "startlinecolor": "#2a3f5f"
            },
            "baxis": {
             "endlinecolor": "#2a3f5f",
             "gridcolor": "white",
             "linecolor": "white",
             "minorgridcolor": "white",
             "startlinecolor": "#2a3f5f"
            },
            "type": "carpet"
           }
          ],
          "choropleth": [
           {
            "colorbar": {
             "outlinewidth": 0,
             "ticks": ""
            },
            "type": "choropleth"
           }
          ],
          "contour": [
           {
            "colorbar": {
             "outlinewidth": 0,
             "ticks": ""
            },
            "colorscale": [
             [
              0,
              "#0d0887"
             ],
             [
              0.1111111111111111,
              "#46039f"
             ],
             [
              0.2222222222222222,
              "#7201a8"
             ],
             [
              0.3333333333333333,
              "#9c179e"
             ],
             [
              0.4444444444444444,
              "#bd3786"
             ],
             [
              0.5555555555555556,
              "#d8576b"
             ],
             [
              0.6666666666666666,
              "#ed7953"
             ],
             [
              0.7777777777777778,
              "#fb9f3a"
             ],
             [
              0.8888888888888888,
              "#fdca26"
             ],
             [
              1,
              "#f0f921"
             ]
            ],
            "type": "contour"
           }
          ],
          "contourcarpet": [
           {
            "colorbar": {
             "outlinewidth": 0,
             "ticks": ""
            },
            "type": "contourcarpet"
           }
          ],
          "heatmap": [
           {
            "colorbar": {
             "outlinewidth": 0,
             "ticks": ""
            },
            "colorscale": [
             [
              0,
              "#0d0887"
             ],
             [
              0.1111111111111111,
              "#46039f"
             ],
             [
              0.2222222222222222,
              "#7201a8"
             ],
             [
              0.3333333333333333,
              "#9c179e"
             ],
             [
              0.4444444444444444,
              "#bd3786"
             ],
             [
              0.5555555555555556,
              "#d8576b"
             ],
             [
              0.6666666666666666,
              "#ed7953"
             ],
             [
              0.7777777777777778,
              "#fb9f3a"
             ],
             [
              0.8888888888888888,
              "#fdca26"
             ],
             [
              1,
              "#f0f921"
             ]
            ],
            "type": "heatmap"
           }
          ],
          "heatmapgl": [
           {
            "colorbar": {
             "outlinewidth": 0,
             "ticks": ""
            },
            "colorscale": [
             [
              0,
              "#0d0887"
             ],
             [
              0.1111111111111111,
              "#46039f"
             ],
             [
              0.2222222222222222,
              "#7201a8"
             ],
             [
              0.3333333333333333,
              "#9c179e"
             ],
             [
              0.4444444444444444,
              "#bd3786"
             ],
             [
              0.5555555555555556,
              "#d8576b"
             ],
             [
              0.6666666666666666,
              "#ed7953"
             ],
             [
              0.7777777777777778,
              "#fb9f3a"
             ],
             [
              0.8888888888888888,
              "#fdca26"
             ],
             [
              1,
              "#f0f921"
             ]
            ],
            "type": "heatmapgl"
           }
          ],
          "histogram": [
           {
            "marker": {
             "colorbar": {
              "outlinewidth": 0,
              "ticks": ""
             }
            },
            "type": "histogram"
           }
          ],
          "histogram2d": [
           {
            "colorbar": {
             "outlinewidth": 0,
             "ticks": ""
            },
            "colorscale": [
             [
              0,
              "#0d0887"
             ],
             [
              0.1111111111111111,
              "#46039f"
             ],
             [
              0.2222222222222222,
              "#7201a8"
             ],
             [
              0.3333333333333333,
              "#9c179e"
             ],
             [
              0.4444444444444444,
              "#bd3786"
             ],
             [
              0.5555555555555556,
              "#d8576b"
             ],
             [
              0.6666666666666666,
              "#ed7953"
             ],
             [
              0.7777777777777778,
              "#fb9f3a"
             ],
             [
              0.8888888888888888,
              "#fdca26"
             ],
             [
              1,
              "#f0f921"
             ]
            ],
            "type": "histogram2d"
           }
          ],
          "histogram2dcontour": [
           {
            "colorbar": {
             "outlinewidth": 0,
             "ticks": ""
            },
            "colorscale": [
             [
              0,
              "#0d0887"
             ],
             [
              0.1111111111111111,
              "#46039f"
             ],
             [
              0.2222222222222222,
              "#7201a8"
             ],
             [
              0.3333333333333333,
              "#9c179e"
             ],
             [
              0.4444444444444444,
              "#bd3786"
             ],
             [
              0.5555555555555556,
              "#d8576b"
             ],
             [
              0.6666666666666666,
              "#ed7953"
             ],
             [
              0.7777777777777778,
              "#fb9f3a"
             ],
             [
              0.8888888888888888,
              "#fdca26"
             ],
             [
              1,
              "#f0f921"
             ]
            ],
            "type": "histogram2dcontour"
           }
          ],
          "mesh3d": [
           {
            "colorbar": {
             "outlinewidth": 0,
             "ticks": ""
            },
            "type": "mesh3d"
           }
          ],
          "parcoords": [
           {
            "line": {
             "colorbar": {
              "outlinewidth": 0,
              "ticks": ""
             }
            },
            "type": "parcoords"
           }
          ],
          "pie": [
           {
            "automargin": true,
            "type": "pie"
           }
          ],
          "scatter": [
           {
            "marker": {
             "colorbar": {
              "outlinewidth": 0,
              "ticks": ""
             }
            },
            "type": "scatter"
           }
          ],
          "scatter3d": [
           {
            "line": {
             "colorbar": {
              "outlinewidth": 0,
              "ticks": ""
             }
            },
            "marker": {
             "colorbar": {
              "outlinewidth": 0,
              "ticks": ""
             }
            },
            "type": "scatter3d"
           }
          ],
          "scattercarpet": [
           {
            "marker": {
             "colorbar": {
              "outlinewidth": 0,
              "ticks": ""
             }
            },
            "type": "scattercarpet"
           }
          ],
          "scattergeo": [
           {
            "marker": {
             "colorbar": {
              "outlinewidth": 0,
              "ticks": ""
             }
            },
            "type": "scattergeo"
           }
          ],
          "scattergl": [
           {
            "marker": {
             "colorbar": {
              "outlinewidth": 0,
              "ticks": ""
             }
            },
            "type": "scattergl"
           }
          ],
          "scattermapbox": [
           {
            "marker": {
             "colorbar": {
              "outlinewidth": 0,
              "ticks": ""
             }
            },
            "type": "scattermapbox"
           }
          ],
          "scatterpolar": [
           {
            "marker": {
             "colorbar": {
              "outlinewidth": 0,
              "ticks": ""
             }
            },
            "type": "scatterpolar"
           }
          ],
          "scatterpolargl": [
           {
            "marker": {
             "colorbar": {
              "outlinewidth": 0,
              "ticks": ""
             }
            },
            "type": "scatterpolargl"
           }
          ],
          "scatterternary": [
           {
            "marker": {
             "colorbar": {
              "outlinewidth": 0,
              "ticks": ""
             }
            },
            "type": "scatterternary"
           }
          ],
          "surface": [
           {
            "colorbar": {
             "outlinewidth": 0,
             "ticks": ""
            },
            "colorscale": [
             [
              0,
              "#0d0887"
             ],
             [
              0.1111111111111111,
              "#46039f"
             ],
             [
              0.2222222222222222,
              "#7201a8"
             ],
             [
              0.3333333333333333,
              "#9c179e"
             ],
             [
              0.4444444444444444,
              "#bd3786"
             ],
             [
              0.5555555555555556,
              "#d8576b"
             ],
             [
              0.6666666666666666,
              "#ed7953"
             ],
             [
              0.7777777777777778,
              "#fb9f3a"
             ],
             [
              0.8888888888888888,
              "#fdca26"
             ],
             [
              1,
              "#f0f921"
             ]
            ],
            "type": "surface"
           }
          ],
          "table": [
           {
            "cells": {
             "fill": {
              "color": "#EBF0F8"
             },
             "line": {
              "color": "white"
             }
            },
            "header": {
             "fill": {
              "color": "#C8D4E3"
             },
             "line": {
              "color": "white"
             }
            },
            "type": "table"
           }
          ]
         },
         "layout": {
          "annotationdefaults": {
           "arrowcolor": "#2a3f5f",
           "arrowhead": 0,
           "arrowwidth": 1
          },
          "autotypenumbers": "strict",
          "coloraxis": {
           "colorbar": {
            "outlinewidth": 0,
            "ticks": ""
           }
          },
          "colorscale": {
           "diverging": [
            [
             0,
             "#8e0152"
            ],
            [
             0.1,
             "#c51b7d"
            ],
            [
             0.2,
             "#de77ae"
            ],
            [
             0.3,
             "#f1b6da"
            ],
            [
             0.4,
             "#fde0ef"
            ],
            [
             0.5,
             "#f7f7f7"
            ],
            [
             0.6,
             "#e6f5d0"
            ],
            [
             0.7,
             "#b8e186"
            ],
            [
             0.8,
             "#7fbc41"
            ],
            [
             0.9,
             "#4d9221"
            ],
            [
             1,
             "#276419"
            ]
           ],
           "sequential": [
            [
             0,
             "#0d0887"
            ],
            [
             0.1111111111111111,
             "#46039f"
            ],
            [
             0.2222222222222222,
             "#7201a8"
            ],
            [
             0.3333333333333333,
             "#9c179e"
            ],
            [
             0.4444444444444444,
             "#bd3786"
            ],
            [
             0.5555555555555556,
             "#d8576b"
            ],
            [
             0.6666666666666666,
             "#ed7953"
            ],
            [
             0.7777777777777778,
             "#fb9f3a"
            ],
            [
             0.8888888888888888,
             "#fdca26"
            ],
            [
             1,
             "#f0f921"
            ]
           ],
           "sequentialminus": [
            [
             0,
             "#0d0887"
            ],
            [
             0.1111111111111111,
             "#46039f"
            ],
            [
             0.2222222222222222,
             "#7201a8"
            ],
            [
             0.3333333333333333,
             "#9c179e"
            ],
            [
             0.4444444444444444,
             "#bd3786"
            ],
            [
             0.5555555555555556,
             "#d8576b"
            ],
            [
             0.6666666666666666,
             "#ed7953"
            ],
            [
             0.7777777777777778,
             "#fb9f3a"
            ],
            [
             0.8888888888888888,
             "#fdca26"
            ],
            [
             1,
             "#f0f921"
            ]
           ]
          },
          "colorway": [
           "#636efa",
           "#EF553B",
           "#00cc96",
           "#ab63fa",
           "#FFA15A",
           "#19d3f3",
           "#FF6692",
           "#B6E880",
           "#FF97FF",
           "#FECB52"
          ],
          "font": {
           "color": "#2a3f5f"
          },
          "geo": {
           "bgcolor": "white",
           "lakecolor": "white",
           "landcolor": "#E5ECF6",
           "showlakes": true,
           "showland": true,
           "subunitcolor": "white"
          },
          "hoverlabel": {
           "align": "left"
          },
          "hovermode": "closest",
          "mapbox": {
           "style": "light"
          },
          "paper_bgcolor": "white",
          "plot_bgcolor": "#E5ECF6",
          "polar": {
           "angularaxis": {
            "gridcolor": "white",
            "linecolor": "white",
            "ticks": ""
           },
           "bgcolor": "#E5ECF6",
           "radialaxis": {
            "gridcolor": "white",
            "linecolor": "white",
            "ticks": ""
           }
          },
          "scene": {
           "xaxis": {
            "backgroundcolor": "#E5ECF6",
            "gridcolor": "white",
            "gridwidth": 2,
            "linecolor": "white",
            "showbackground": true,
            "ticks": "",
            "zerolinecolor": "white"
           },
           "yaxis": {
            "backgroundcolor": "#E5ECF6",
            "gridcolor": "white",
            "gridwidth": 2,
            "linecolor": "white",
            "showbackground": true,
            "ticks": "",
            "zerolinecolor": "white"
           },
           "zaxis": {
            "backgroundcolor": "#E5ECF6",
            "gridcolor": "white",
            "gridwidth": 2,
            "linecolor": "white",
            "showbackground": true,
            "ticks": "",
            "zerolinecolor": "white"
           }
          },
          "shapedefaults": {
           "line": {
            "color": "#2a3f5f"
           }
          },
          "ternary": {
           "aaxis": {
            "gridcolor": "white",
            "linecolor": "white",
            "ticks": ""
           },
           "baxis": {
            "gridcolor": "white",
            "linecolor": "white",
            "ticks": ""
           },
           "bgcolor": "#E5ECF6",
           "caxis": {
            "gridcolor": "white",
            "linecolor": "white",
            "ticks": ""
           }
          },
          "title": {
           "x": 0.05
          },
          "xaxis": {
           "automargin": true,
           "gridcolor": "white",
           "linecolor": "white",
           "ticks": "",
           "title": {
            "standoff": 15
           },
           "zerolinecolor": "white",
           "zerolinewidth": 2
          },
          "yaxis": {
           "automargin": true,
           "gridcolor": "white",
           "linecolor": "white",
           "ticks": "",
           "title": {
            "standoff": 15
           },
           "zerolinecolor": "white",
           "zerolinewidth": 2
          }
         }
        },
        "xaxis": {
         "anchor": "y",
         "domain": [
          0,
          1
         ],
         "title": {
          "text": "Happiness Score"
         }
        },
        "yaxis": {
         "anchor": "x",
         "domain": [
          0,
          1
         ],
         "title": {
          "text": "Healthy life expectancy"
         }
        }
       }
      },
      "text/html": [
       "<div>                            <div id=\"84363522-10d6-44c0-9b85-becf11f3ab1c\" class=\"plotly-graph-div\" style=\"height:525px; width:100%;\"></div>            <script type=\"text/javascript\">                require([\"plotly\"], function(Plotly) {                    window.PLOTLYENV=window.PLOTLYENV || {};                                    if (document.getElementById(\"84363522-10d6-44c0-9b85-becf11f3ab1c\")) {                    Plotly.newPlot(                        \"84363522-10d6-44c0-9b85-becf11f3ab1c\",                        [{\"customdata\": [[\"Finland\"], [\"Norway\"], [\"Denmark\"], [\"Iceland\"], [\"Switzerland\"], [\"Netherlands\"], [\"Sweden\"], [\"United Kingdom\"], [\"Austria\"], [\"Ireland\"], [\"Germany\"], [\"Belgium\"], [\"Luxembourg\"], [\"Czech Republic\"], [\"Malta\"], [\"France\"], [\"Spain\"], [\"Slovakia\"], [\"Poland\"], [\"Italy\"], [\"Lithuania\"], [\"Slovenia\"], [\"Romania\"], [\"Latvia\"], [\"Northern Cyprus\"], [\"Russia\"], [\"Estonia\"], [\"Kosovo\"], [\"Moldova\"], [\"Hungary\"], [\"Belarus\"], [\"Portugal\"], [\"Serbia\"], [\"Greece\"], [\"Montenegro\"], [\"Croatia\"], [\"Macedonia\"], [\"Bosnia and Herzegovina\"], [\"Bulgaria\"], [\"Albania\"], [\"Ukraine\"]], \"hovertemplate\": \"continent=Europe<br>Happiness Score=%{x}<br>Healthy life expectancy=%{y}<br>Country=%{customdata[0]}<extra></extra>\", \"legendgroup\": \"Europe\", \"marker\": {\"color\": \"#636efa\", \"symbol\": \"circle\"}, \"mode\": \"markers\", \"name\": \"Europe\", \"orientation\": \"v\", \"showlegend\": true, \"type\": \"scatter\", \"x\": [7.632, 7.594, 7.555, 7.495, 7.487, 7.441, 7.314, 7.191, 7.139, 6.977, 6.965, 6.927, 6.911, 6.711, 6.627, 6.489, 6.311, 6.173, 6.123, 6.011, 5.952, 5.948, 5.945, 5.933, 5.835, 5.811, 5.739, 5.662, 5.641, 5.621, 5.483, 5.411, 5.398, 5.358, 5.347, 5.321, 5.185, 5.129, 4.933, 4.586, 4.103], \"xaxis\": \"x\", \"y\": [0.874, 0.861, 0.868, 0.914, 0.927, 0.878, 0.913, 0.888, 0.891, 0.876, 0.861, 0.894, 0.896, 0.854, 0.884, 0.908, 0.965, 0.776, 0.781, 0.946, 0.716, 0.856, 0.726, 0.671, 0.909, 0.599, 0.737, 0.578, 0.62, 0.732, 0.7, 0.884, 0.685, 0.879, 0.729, 0.737, 0.691, 0.758, 0.712, 0.79, 0.609], \"yaxis\": \"y\"}, {\"customdata\": [[\"Canada\"], [\"Costa Rica\"], [\"United States\"], [\"Mexico\"], [\"Chile\"], [\"Panama\"], [\"Brazil\"], [\"Argentina\"], [\"Guatemala\"], [\"Uruguay\"], [\"Colombia\"], [\"El Salvador\"], [\"Nicaragua\"], [\"Ecuador\"], [\"Belize\"], [\"Jamaica\"], [\"Bolivia\"], [\"Paraguay\"], [\"Peru\"], [\"Honduras\"], [\"Dominican Republic\"], [\"Haiti\"]], \"hovertemplate\": \"continent=Americas<br>Happiness Score=%{x}<br>Healthy life expectancy=%{y}<br>Country=%{customdata[0]}<extra></extra>\", \"legendgroup\": \"Americas\", \"marker\": {\"color\": \"#EF553B\", \"symbol\": \"circle\"}, \"mode\": \"markers\", \"name\": \"Americas\", \"orientation\": \"v\", \"showlegend\": true, \"type\": \"scatter\", \"x\": [7.328, 7.072, 6.886, 6.488, 6.476, 6.431, 6.419, 6.388, 6.382, 6.379, 6.261, 6.167, 6.141, 5.973, 5.956, 5.891, 5.752, 5.681, 5.663, 5.504, 5.302, 3.582], \"xaxis\": \"x\", \"y\": [0.896, 0.817, 0.819, 0.761, 0.808, 0.759, 0.675, 0.744, 0.608, 0.771, 0.635, 0.639, 0.7, 0.736, 0.474, 0.693, 0.508, 0.615, 0.674, 0.622, 0.614, 0.289], \"yaxis\": \"y\"}, {\"customdata\": [[\"New Zealand\"], [\"Australia\"]], \"hovertemplate\": \"continent=Oceania<br>Happiness Score=%{x}<br>Healthy life expectancy=%{y}<br>Country=%{customdata[0]}<extra></extra>\", \"legendgroup\": \"Oceania\", \"marker\": {\"color\": \"#00cc96\", \"symbol\": \"circle\"}, \"mode\": \"markers\", \"name\": \"Oceania\", \"orientation\": \"v\", \"showlegend\": true, \"type\": \"scatter\", \"x\": [7.324, 7.272], \"xaxis\": \"x\", \"y\": [0.876, 0.91], \"yaxis\": \"y\"}, {\"customdata\": [[\"Israel\"], [\"United Arab Emirates\"], [\"Taiwan\"], [\"Qatar\"], [\"Saudi Arabia\"], [\"Singapore\"], [\"Malaysia\"], [\"Bahrain\"], [\"Uzbekistan\"], [\"Kuwait\"], [\"Thailand\"], [\"Japan\"], [\"South Korea\"], [\"Kazakhstan\"], [\"Cyprus\"], [\"Turkmenistan\"], [\"Philippines\"], [\"Turkey\"], [\"Pakistan\"], [\"Hong Kong\"], [\"Lebanon\"], [\"China\"], [\"Azerbaijan\"], [\"Tajikistan\"], [\"Jordan\"], [\"Kyrgyzstan\"], [\"Mongolia\"], [\"Vietnam\"], [\"Indonesia\"], [\"Bhutan\"], [\"Nepal\"], [\"Venezuela\"], [\"Laos\"], [\"Bangladesh\"], [\"Sri Lanka\"], [\"Iraq\"], [\"Cambodia\"], [\"Georgia\"], [\"Armenia\"], [\"Myanmar\"], [\"India\"], [\"Afghanistan\"], [\"Yemen\"]], \"hovertemplate\": \"continent=Asia<br>Happiness Score=%{x}<br>Healthy life expectancy=%{y}<br>Country=%{customdata[0]}<extra></extra>\", \"legendgroup\": \"Asia\", \"marker\": {\"color\": \"#ab63fa\", \"symbol\": \"circle\"}, \"mode\": \"markers\", \"name\": \"Asia\", \"orientation\": \"v\", \"showlegend\": true, \"type\": \"scatter\", \"x\": [6.814, 6.774, 6.441, 6.374, 6.371, 6.343, 6.322, 6.105, 6.096, 6.083, 6.072, 5.915, 5.875, 5.791, 5.762, 5.636, 5.524, 5.483, 5.472, 5.431, 5.358, 5.246, 5.201, 5.199, 5.161, 5.131, 5.125, 5.103, 5.093, 5.082, 4.881, 4.806, 4.623, 4.511, 4.471, 4.456, 4.433, 4.341, 4.321, 4.308, 4.191, 3.632, 3.355], \"xaxis\": \"x\", \"y\": [0.883, 0.67, 0.857, 0.748, 0.633, 1.008, 0.669, 0.698, 0.605, 0.675, 0.707, 0.988, 0.955, 0.631, 0.909, 0.517, 0.513, 0.686, 0.424, 1.03, 0.785, 0.799, 0.603, 0.598, 0.645, 0.594, 0.575, 0.702, 0.522, 0.527, 0.539, 0.657, 0.441, 0.579, 0.672, 0.536, 0.457, 0.643, 0.666, 0.429, 0.485, 0.255, 0.343], \"yaxis\": \"y\"}, {\"customdata\": [[\"Trinidad & Tobago\"], [\"Mauritius\"], [\"Libya\"], [\"Algeria\"], [\"Morocco\"], [\"Nigeria\"], [\"Somalia\"], [\"Cameroon\"], [\"Gabon\"], [\"Palestinian Territories\"], [\"South Africa\"], [\"Iran\"], [\"Ivory Coast\"], [\"Ghana\"], [\"Senegal\"], [\"Tunisia\"], [\"Sierra Leone\"], [\"Congo (Brazzaville)\"], [\"Mali\"], [\"Namibia\"], [\"Burkina Faso\"], [\"Egypt\"], [\"Mozambique\"], [\"Kenya\"], [\"Zambia\"], [\"Mauritania\"], [\"Ethiopia\"], [\"Chad\"], [\"Congo (Kinshasa)\"], [\"Niger\"], [\"Uganda\"], [\"Benin\"], [\"Sudan\"], [\"Togo\"], [\"Guinea\"], [\"Lesotho\"], [\"Angola\"], [\"Madagascar\"], [\"Zimbabwe\"], [\"Botswana\"], [\"Malawi\"], [\"Liberia\"], [\"Syria\"], [\"Rwanda\"], [\"Tanzania\"], [\"South Sudan\"], [\"Central African Republic\"], [\"Burundi\"]], \"hovertemplate\": \"continent=Africa<br>Happiness Score=%{x}<br>Healthy life expectancy=%{y}<br>Country=%{customdata[0]}<extra></extra>\", \"legendgroup\": \"Africa\", \"marker\": {\"color\": \"#FFA15A\", \"symbol\": \"circle\"}, \"mode\": \"markers\", \"name\": \"Africa\", \"orientation\": \"v\", \"showlegend\": true, \"type\": \"scatter\", \"x\": [6.192, 5.891, 5.566, 5.295, 5.254, 5.155, 4.982, 4.975, 4.758, 4.743, 4.724, 4.707, 4.671, 4.657, 4.631, 4.592, 4.571, 4.559, 4.447, 4.441, 4.424, 4.419, 4.417, 4.411, 4.377, 4.356, 4.351, 4.301, 4.245, 4.166, 4.161, 4.141, 4.139, 3.999, 3.964, 3.808, 3.795, 3.774, 3.692, 3.591, 3.587, 3.495, 3.462, 3.408, 3.303, 3.254, 3.083, 2.905], \"xaxis\": \"x\", \"y\": [0.564, 0.684, 0.553, 0.687, 0.669, 0.048, 0.115, 0.182, 0.404, 0.602, 0.33, 0.691, 0.08, 0.337, 0.433, 0.69, 0.0, 0.343, 0.152, 0.365, 0.254, 0.553, 0.173, 0.454, 0.295, 0.292, 0.391, 0.053, 0.204, 0.221, 0.237, 0.24, 0.312, 0.253, 0.211, 0.079, 0.269, 0.402, 0.248, 0.417, 0.306, 0.267, 0.539, 0.4, 0.381, 0.177, 0.01, 0.145], \"yaxis\": \"y\"}],                        {\"legend\": {\"title\": {\"text\": \"continent\"}, \"tracegroupgap\": 0}, \"margin\": {\"t\": 60}, \"template\": {\"data\": {\"bar\": [{\"error_x\": {\"color\": \"#2a3f5f\"}, \"error_y\": {\"color\": \"#2a3f5f\"}, \"marker\": {\"line\": {\"color\": \"#E5ECF6\", \"width\": 0.5}}, \"type\": \"bar\"}], \"barpolar\": [{\"marker\": {\"line\": {\"color\": \"#E5ECF6\", \"width\": 0.5}}, \"type\": \"barpolar\"}], \"carpet\": [{\"aaxis\": {\"endlinecolor\": \"#2a3f5f\", \"gridcolor\": \"white\", \"linecolor\": \"white\", \"minorgridcolor\": \"white\", \"startlinecolor\": \"#2a3f5f\"}, \"baxis\": {\"endlinecolor\": \"#2a3f5f\", \"gridcolor\": \"white\", \"linecolor\": \"white\", \"minorgridcolor\": \"white\", \"startlinecolor\": \"#2a3f5f\"}, \"type\": \"carpet\"}], \"choropleth\": [{\"colorbar\": {\"outlinewidth\": 0, \"ticks\": \"\"}, \"type\": \"choropleth\"}], \"contour\": [{\"colorbar\": {\"outlinewidth\": 0, \"ticks\": \"\"}, \"colorscale\": [[0.0, \"#0d0887\"], [0.1111111111111111, \"#46039f\"], [0.2222222222222222, \"#7201a8\"], [0.3333333333333333, \"#9c179e\"], [0.4444444444444444, \"#bd3786\"], [0.5555555555555556, \"#d8576b\"], [0.6666666666666666, \"#ed7953\"], [0.7777777777777778, \"#fb9f3a\"], [0.8888888888888888, \"#fdca26\"], [1.0, \"#f0f921\"]], \"type\": \"contour\"}], \"contourcarpet\": [{\"colorbar\": {\"outlinewidth\": 0, \"ticks\": \"\"}, \"type\": \"contourcarpet\"}], \"heatmap\": [{\"colorbar\": {\"outlinewidth\": 0, \"ticks\": \"\"}, \"colorscale\": [[0.0, \"#0d0887\"], [0.1111111111111111, \"#46039f\"], [0.2222222222222222, \"#7201a8\"], [0.3333333333333333, \"#9c179e\"], [0.4444444444444444, \"#bd3786\"], [0.5555555555555556, \"#d8576b\"], [0.6666666666666666, \"#ed7953\"], [0.7777777777777778, \"#fb9f3a\"], [0.8888888888888888, \"#fdca26\"], [1.0, \"#f0f921\"]], \"type\": \"heatmap\"}], \"heatmapgl\": [{\"colorbar\": {\"outlinewidth\": 0, \"ticks\": \"\"}, \"colorscale\": [[0.0, \"#0d0887\"], [0.1111111111111111, \"#46039f\"], [0.2222222222222222, \"#7201a8\"], [0.3333333333333333, \"#9c179e\"], [0.4444444444444444, \"#bd3786\"], [0.5555555555555556, \"#d8576b\"], [0.6666666666666666, \"#ed7953\"], [0.7777777777777778, \"#fb9f3a\"], [0.8888888888888888, \"#fdca26\"], [1.0, \"#f0f921\"]], \"type\": \"heatmapgl\"}], \"histogram\": [{\"marker\": {\"colorbar\": {\"outlinewidth\": 0, \"ticks\": \"\"}}, \"type\": \"histogram\"}], \"histogram2d\": [{\"colorbar\": {\"outlinewidth\": 0, \"ticks\": \"\"}, \"colorscale\": [[0.0, \"#0d0887\"], [0.1111111111111111, \"#46039f\"], [0.2222222222222222, \"#7201a8\"], [0.3333333333333333, \"#9c179e\"], [0.4444444444444444, \"#bd3786\"], [0.5555555555555556, \"#d8576b\"], [0.6666666666666666, \"#ed7953\"], [0.7777777777777778, \"#fb9f3a\"], [0.8888888888888888, \"#fdca26\"], [1.0, \"#f0f921\"]], \"type\": \"histogram2d\"}], \"histogram2dcontour\": [{\"colorbar\": {\"outlinewidth\": 0, \"ticks\": \"\"}, \"colorscale\": [[0.0, \"#0d0887\"], [0.1111111111111111, \"#46039f\"], [0.2222222222222222, \"#7201a8\"], [0.3333333333333333, \"#9c179e\"], [0.4444444444444444, \"#bd3786\"], [0.5555555555555556, \"#d8576b\"], [0.6666666666666666, \"#ed7953\"], [0.7777777777777778, \"#fb9f3a\"], [0.8888888888888888, \"#fdca26\"], [1.0, \"#f0f921\"]], \"type\": \"histogram2dcontour\"}], \"mesh3d\": [{\"colorbar\": {\"outlinewidth\": 0, \"ticks\": \"\"}, \"type\": \"mesh3d\"}], \"parcoords\": [{\"line\": {\"colorbar\": {\"outlinewidth\": 0, \"ticks\": \"\"}}, \"type\": \"parcoords\"}], \"pie\": [{\"automargin\": true, \"type\": \"pie\"}], \"scatter\": [{\"marker\": {\"colorbar\": {\"outlinewidth\": 0, \"ticks\": \"\"}}, \"type\": \"scatter\"}], \"scatter3d\": [{\"line\": {\"colorbar\": {\"outlinewidth\": 0, \"ticks\": \"\"}}, \"marker\": {\"colorbar\": {\"outlinewidth\": 0, \"ticks\": \"\"}}, \"type\": \"scatter3d\"}], \"scattercarpet\": [{\"marker\": {\"colorbar\": {\"outlinewidth\": 0, \"ticks\": \"\"}}, \"type\": \"scattercarpet\"}], \"scattergeo\": [{\"marker\": {\"colorbar\": {\"outlinewidth\": 0, \"ticks\": \"\"}}, \"type\": \"scattergeo\"}], \"scattergl\": [{\"marker\": {\"colorbar\": {\"outlinewidth\": 0, \"ticks\": \"\"}}, \"type\": \"scattergl\"}], \"scattermapbox\": [{\"marker\": {\"colorbar\": {\"outlinewidth\": 0, \"ticks\": \"\"}}, \"type\": \"scattermapbox\"}], \"scatterpolar\": [{\"marker\": {\"colorbar\": {\"outlinewidth\": 0, \"ticks\": \"\"}}, \"type\": \"scatterpolar\"}], \"scatterpolargl\": [{\"marker\": {\"colorbar\": {\"outlinewidth\": 0, \"ticks\": \"\"}}, \"type\": \"scatterpolargl\"}], \"scatterternary\": [{\"marker\": {\"colorbar\": {\"outlinewidth\": 0, \"ticks\": \"\"}}, \"type\": \"scatterternary\"}], \"surface\": [{\"colorbar\": {\"outlinewidth\": 0, \"ticks\": \"\"}, \"colorscale\": [[0.0, \"#0d0887\"], [0.1111111111111111, \"#46039f\"], [0.2222222222222222, \"#7201a8\"], [0.3333333333333333, \"#9c179e\"], [0.4444444444444444, \"#bd3786\"], [0.5555555555555556, \"#d8576b\"], [0.6666666666666666, \"#ed7953\"], [0.7777777777777778, \"#fb9f3a\"], [0.8888888888888888, \"#fdca26\"], [1.0, \"#f0f921\"]], \"type\": \"surface\"}], \"table\": [{\"cells\": {\"fill\": {\"color\": \"#EBF0F8\"}, \"line\": {\"color\": \"white\"}}, \"header\": {\"fill\": {\"color\": \"#C8D4E3\"}, \"line\": {\"color\": \"white\"}}, \"type\": \"table\"}]}, \"layout\": {\"annotationdefaults\": {\"arrowcolor\": \"#2a3f5f\", \"arrowhead\": 0, \"arrowwidth\": 1}, \"autotypenumbers\": \"strict\", \"coloraxis\": {\"colorbar\": {\"outlinewidth\": 0, \"ticks\": \"\"}}, \"colorscale\": {\"diverging\": [[0, \"#8e0152\"], [0.1, \"#c51b7d\"], [0.2, \"#de77ae\"], [0.3, \"#f1b6da\"], [0.4, \"#fde0ef\"], [0.5, \"#f7f7f7\"], [0.6, \"#e6f5d0\"], [0.7, \"#b8e186\"], [0.8, \"#7fbc41\"], [0.9, \"#4d9221\"], [1, \"#276419\"]], \"sequential\": [[0.0, \"#0d0887\"], [0.1111111111111111, \"#46039f\"], [0.2222222222222222, \"#7201a8\"], [0.3333333333333333, \"#9c179e\"], [0.4444444444444444, \"#bd3786\"], [0.5555555555555556, \"#d8576b\"], [0.6666666666666666, \"#ed7953\"], [0.7777777777777778, \"#fb9f3a\"], [0.8888888888888888, \"#fdca26\"], [1.0, \"#f0f921\"]], \"sequentialminus\": [[0.0, \"#0d0887\"], [0.1111111111111111, \"#46039f\"], [0.2222222222222222, \"#7201a8\"], [0.3333333333333333, \"#9c179e\"], [0.4444444444444444, \"#bd3786\"], [0.5555555555555556, \"#d8576b\"], [0.6666666666666666, \"#ed7953\"], [0.7777777777777778, \"#fb9f3a\"], [0.8888888888888888, \"#fdca26\"], [1.0, \"#f0f921\"]]}, \"colorway\": [\"#636efa\", \"#EF553B\", \"#00cc96\", \"#ab63fa\", \"#FFA15A\", \"#19d3f3\", \"#FF6692\", \"#B6E880\", \"#FF97FF\", \"#FECB52\"], \"font\": {\"color\": \"#2a3f5f\"}, \"geo\": {\"bgcolor\": \"white\", \"lakecolor\": \"white\", \"landcolor\": \"#E5ECF6\", \"showlakes\": true, \"showland\": true, \"subunitcolor\": \"white\"}, \"hoverlabel\": {\"align\": \"left\"}, \"hovermode\": \"closest\", \"mapbox\": {\"style\": \"light\"}, \"paper_bgcolor\": \"white\", \"plot_bgcolor\": \"#E5ECF6\", \"polar\": {\"angularaxis\": {\"gridcolor\": \"white\", \"linecolor\": \"white\", \"ticks\": \"\"}, \"bgcolor\": \"#E5ECF6\", \"radialaxis\": {\"gridcolor\": \"white\", \"linecolor\": \"white\", \"ticks\": \"\"}}, \"scene\": {\"xaxis\": {\"backgroundcolor\": \"#E5ECF6\", \"gridcolor\": \"white\", \"gridwidth\": 2, \"linecolor\": \"white\", \"showbackground\": true, \"ticks\": \"\", \"zerolinecolor\": \"white\"}, \"yaxis\": {\"backgroundcolor\": \"#E5ECF6\", \"gridcolor\": \"white\", \"gridwidth\": 2, \"linecolor\": \"white\", \"showbackground\": true, \"ticks\": \"\", \"zerolinecolor\": \"white\"}, \"zaxis\": {\"backgroundcolor\": \"#E5ECF6\", \"gridcolor\": \"white\", \"gridwidth\": 2, \"linecolor\": \"white\", \"showbackground\": true, \"ticks\": \"\", \"zerolinecolor\": \"white\"}}, \"shapedefaults\": {\"line\": {\"color\": \"#2a3f5f\"}}, \"ternary\": {\"aaxis\": {\"gridcolor\": \"white\", \"linecolor\": \"white\", \"ticks\": \"\"}, \"baxis\": {\"gridcolor\": \"white\", \"linecolor\": \"white\", \"ticks\": \"\"}, \"bgcolor\": \"#E5ECF6\", \"caxis\": {\"gridcolor\": \"white\", \"linecolor\": \"white\", \"ticks\": \"\"}}, \"title\": {\"x\": 0.05}, \"xaxis\": {\"automargin\": true, \"gridcolor\": \"white\", \"linecolor\": \"white\", \"ticks\": \"\", \"title\": {\"standoff\": 15}, \"zerolinecolor\": \"white\", \"zerolinewidth\": 2}, \"yaxis\": {\"automargin\": true, \"gridcolor\": \"white\", \"linecolor\": \"white\", \"ticks\": \"\", \"title\": {\"standoff\": 15}, \"zerolinecolor\": \"white\", \"zerolinewidth\": 2}}}, \"xaxis\": {\"anchor\": \"y\", \"domain\": [0.0, 1.0], \"title\": {\"text\": \"Happiness Score\"}}, \"yaxis\": {\"anchor\": \"x\", \"domain\": [0.0, 1.0], \"title\": {\"text\": \"Healthy life expectancy\"}}},                        {\"responsive\": true}                    ).then(function(){\n",
       "                            \n",
       "var gd = document.getElementById('84363522-10d6-44c0-9b85-becf11f3ab1c');\n",
       "var x = new MutationObserver(function (mutations, observer) {{\n",
       "        var display = window.getComputedStyle(gd).display;\n",
       "        if (!display || display === 'none') {{\n",
       "            console.log([gd, 'removed!']);\n",
       "            Plotly.purge(gd);\n",
       "            observer.disconnect();\n",
       "        }}\n",
       "}});\n",
       "\n",
       "// Listen for the removal of the full notebook cells\n",
       "var notebookContainer = gd.closest('#notebook-container');\n",
       "if (notebookContainer) {{\n",
       "    x.observe(notebookContainer, {childList: true});\n",
       "}}\n",
       "\n",
       "// Listen for the clearing of the current output cell\n",
       "var outputEl = gd.closest('.output');\n",
       "if (outputEl) {{\n",
       "    x.observe(outputEl, {childList: true});\n",
       "}}\n",
       "\n",
       "                        })                };                });            </script>        </div>"
      ]
     },
     "metadata": {},
     "output_type": "display_data"
    }
   ],
   "source": [
    "fig3 = px.scatter(data1, x = data1[\"Happiness Score\"], y=data1[\"Healthy life expectancy\"], color=data1[\"continent\"],\n",
    "        hover_data=[\"Country\"])\n",
    "\n",
    "\n",
    "fig3 "
   ]
  },
  {
   "cell_type": "code",
   "execution_count": 14,
   "metadata": {
    "ExecuteTime": {
     "end_time": "2021-02-17T14:19:53.072982Z",
     "start_time": "2021-02-17T14:19:52.984987Z"
    }
   },
   "outputs": [
    {
     "data": {
      "application/vnd.plotly.v1+json": {
       "config": {
        "plotlyServerURL": "https://plotly.com"
       },
       "data": [
        {
         "customdata": [
          [
           "Finland"
          ],
          [
           "Norway"
          ],
          [
           "Denmark"
          ],
          [
           "Iceland"
          ],
          [
           "Switzerland"
          ],
          [
           "Netherlands"
          ],
          [
           "Sweden"
          ],
          [
           "United Kingdom"
          ],
          [
           "Austria"
          ],
          [
           "Ireland"
          ],
          [
           "Germany"
          ],
          [
           "Belgium"
          ],
          [
           "Luxembourg"
          ],
          [
           "Czech Republic"
          ],
          [
           "Malta"
          ],
          [
           "France"
          ],
          [
           "Spain"
          ],
          [
           "Slovakia"
          ],
          [
           "Poland"
          ],
          [
           "Italy"
          ],
          [
           "Lithuania"
          ],
          [
           "Slovenia"
          ],
          [
           "Romania"
          ],
          [
           "Latvia"
          ],
          [
           "Northern Cyprus"
          ],
          [
           "Russia"
          ],
          [
           "Estonia"
          ],
          [
           "Kosovo"
          ],
          [
           "Moldova"
          ],
          [
           "Hungary"
          ],
          [
           "Belarus"
          ],
          [
           "Portugal"
          ],
          [
           "Serbia"
          ],
          [
           "Greece"
          ],
          [
           "Montenegro"
          ],
          [
           "Croatia"
          ],
          [
           "Macedonia"
          ],
          [
           "Bosnia and Herzegovina"
          ],
          [
           "Bulgaria"
          ],
          [
           "Albania"
          ],
          [
           "Ukraine"
          ]
         ],
         "hovertemplate": "continent=Europe<br>Happiness Score=%{x}<br>Freedom to make life choices=%{y}<br>Country=%{customdata[0]}<extra></extra>",
         "legendgroup": "Europe",
         "marker": {
          "color": "#636efa",
          "symbol": "circle"
         },
         "mode": "markers",
         "name": "Europe",
         "orientation": "v",
         "showlegend": true,
         "type": "scatter",
         "x": [
          7.632,
          7.594,
          7.555,
          7.495,
          7.487,
          7.441,
          7.314,
          7.191,
          7.139,
          6.977,
          6.965,
          6.927,
          6.911,
          6.711,
          6.627,
          6.489,
          6.311,
          6.173,
          6.123,
          6.011,
          5.952,
          5.948,
          5.945,
          5.933,
          5.835,
          5.811,
          5.739,
          5.662,
          5.641,
          5.621,
          5.483,
          5.411,
          5.398,
          5.358,
          5.347,
          5.321,
          5.185,
          5.129,
          4.933,
          4.586,
          4.103
         ],
         "xaxis": "x",
         "y": [
          0.681,
          0.686,
          0.683,
          0.677,
          0.66,
          0.638,
          0.659,
          0.464,
          0.617,
          0.614,
          0.586,
          0.583,
          0.632,
          0.543,
          0.645,
          0.52,
          0.449,
          0.354,
          0.546,
          0.281,
          0.35,
          0.633,
          0.528,
          0.363,
          0.495,
          0.399,
          0.553,
          0.448,
          0.232,
          0.259,
          0.307,
          0.562,
          0.288,
          0.131,
          0.259,
          0.38,
          0.394,
          0.28,
          0.359,
          0.419,
          0.163
         ],
         "yaxis": "y"
        },
        {
         "customdata": [
          [
           "Canada"
          ],
          [
           "Costa Rica"
          ],
          [
           "United States"
          ],
          [
           "Mexico"
          ],
          [
           "Chile"
          ],
          [
           "Panama"
          ],
          [
           "Brazil"
          ],
          [
           "Argentina"
          ],
          [
           "Guatemala"
          ],
          [
           "Uruguay"
          ],
          [
           "Colombia"
          ],
          [
           "El Salvador"
          ],
          [
           "Nicaragua"
          ],
          [
           "Ecuador"
          ],
          [
           "Belize"
          ],
          [
           "Jamaica"
          ],
          [
           "Bolivia"
          ],
          [
           "Paraguay"
          ],
          [
           "Peru"
          ],
          [
           "Honduras"
          ],
          [
           "Dominican Republic"
          ],
          [
           "Haiti"
          ]
         ],
         "hovertemplate": "continent=Americas<br>Happiness Score=%{x}<br>Freedom to make life choices=%{y}<br>Country=%{customdata[0]}<extra></extra>",
         "legendgroup": "Americas",
         "marker": {
          "color": "#EF553B",
          "symbol": "circle"
         },
         "mode": "markers",
         "name": "Americas",
         "orientation": "v",
         "showlegend": true,
         "type": "scatter",
         "x": [
          7.328,
          7.072,
          6.886,
          6.488,
          6.476,
          6.431,
          6.419,
          6.388,
          6.382,
          6.379,
          6.261,
          6.167,
          6.141,
          5.973,
          5.956,
          5.891,
          5.752,
          5.681,
          5.663,
          5.504,
          5.302,
          3.582
         ],
         "xaxis": "x",
         "y": [
          0.653,
          0.632,
          0.547,
          0.479,
          0.431,
          0.597,
          0.493,
          0.57,
          0.604,
          0.625,
          0.531,
          0.461,
          0.527,
          0.556,
          0.593,
          0.575,
          0.606,
          0.541,
          0.53,
          0.459,
          0.578,
          0.025
         ],
         "yaxis": "y"
        },
        {
         "customdata": [
          [
           "New Zealand"
          ],
          [
           "Australia"
          ]
         ],
         "hovertemplate": "continent=Oceania<br>Happiness Score=%{x}<br>Freedom to make life choices=%{y}<br>Country=%{customdata[0]}<extra></extra>",
         "legendgroup": "Oceania",
         "marker": {
          "color": "#00cc96",
          "symbol": "circle"
         },
         "mode": "markers",
         "name": "Oceania",
         "orientation": "v",
         "showlegend": true,
         "type": "scatter",
         "x": [
          7.324,
          7.272
         ],
         "xaxis": "x",
         "y": [
          0.669,
          0.647
         ],
         "yaxis": "y"
        },
        {
         "customdata": [
          [
           "Israel"
          ],
          [
           "United Arab Emirates"
          ],
          [
           "Taiwan"
          ],
          [
           "Qatar"
          ],
          [
           "Saudi Arabia"
          ],
          [
           "Singapore"
          ],
          [
           "Malaysia"
          ],
          [
           "Bahrain"
          ],
          [
           "Uzbekistan"
          ],
          [
           "Kuwait"
          ],
          [
           "Thailand"
          ],
          [
           "Japan"
          ],
          [
           "South Korea"
          ],
          [
           "Kazakhstan"
          ],
          [
           "Cyprus"
          ],
          [
           "Turkmenistan"
          ],
          [
           "Philippines"
          ],
          [
           "Turkey"
          ],
          [
           "Pakistan"
          ],
          [
           "Hong Kong"
          ],
          [
           "Lebanon"
          ],
          [
           "China"
          ],
          [
           "Azerbaijan"
          ],
          [
           "Tajikistan"
          ],
          [
           "Jordan"
          ],
          [
           "Kyrgyzstan"
          ],
          [
           "Mongolia"
          ],
          [
           "Vietnam"
          ],
          [
           "Indonesia"
          ],
          [
           "Bhutan"
          ],
          [
           "Nepal"
          ],
          [
           "Venezuela"
          ],
          [
           "Laos"
          ],
          [
           "Bangladesh"
          ],
          [
           "Sri Lanka"
          ],
          [
           "Iraq"
          ],
          [
           "Cambodia"
          ],
          [
           "Georgia"
          ],
          [
           "Armenia"
          ],
          [
           "Myanmar"
          ],
          [
           "India"
          ],
          [
           "Afghanistan"
          ],
          [
           "Yemen"
          ]
         ],
         "hovertemplate": "continent=Asia<br>Happiness Score=%{x}<br>Freedom to make life choices=%{y}<br>Country=%{customdata[0]}<extra></extra>",
         "legendgroup": "Asia",
         "marker": {
          "color": "#ab63fa",
          "symbol": "circle"
         },
         "mode": "markers",
         "name": "Asia",
         "orientation": "v",
         "showlegend": true,
         "type": "scatter",
         "x": [
          6.814,
          6.774,
          6.441,
          6.374,
          6.371,
          6.343,
          6.322,
          6.105,
          6.096,
          6.083,
          6.072,
          5.915,
          5.875,
          5.791,
          5.762,
          5.636,
          5.524,
          5.483,
          5.472,
          5.431,
          5.358,
          5.246,
          5.201,
          5.199,
          5.161,
          5.131,
          5.125,
          5.103,
          5.093,
          5.082,
          4.881,
          4.806,
          4.623,
          4.511,
          4.471,
          4.456,
          4.433,
          4.341,
          4.321,
          4.308,
          4.191,
          3.632,
          3.355
         ],
         "xaxis": "x",
         "y": [
          0.533,
          0.284,
          0.418,
          0.654,
          0.509,
          0.631,
          0.356,
          0.594,
          0.724,
          0.554,
          0.637,
          0.553,
          0.244,
          0.454,
          0.423,
          0.417,
          0.643,
          0.324,
          0.334,
          0.524,
          0.503,
          0.597,
          0.43,
          0.292,
          0.468,
          0.54,
          0.395,
          0.618,
          0.538,
          0.541,
          0.526,
          0.133,
          0.626,
          0.58,
          0.585,
          0.304,
          0.696,
          0.375,
          0.26,
          0.58,
          0.539,
          0.085,
          0.244
         ],
         "yaxis": "y"
        },
        {
         "customdata": [
          [
           "Trinidad & Tobago"
          ],
          [
           "Mauritius"
          ],
          [
           "Libya"
          ],
          [
           "Algeria"
          ],
          [
           "Morocco"
          ],
          [
           "Nigeria"
          ],
          [
           "Somalia"
          ],
          [
           "Cameroon"
          ],
          [
           "Gabon"
          ],
          [
           "Palestinian Territories"
          ],
          [
           "South Africa"
          ],
          [
           "Iran"
          ],
          [
           "Ivory Coast"
          ],
          [
           "Ghana"
          ],
          [
           "Senegal"
          ],
          [
           "Tunisia"
          ],
          [
           "Sierra Leone"
          ],
          [
           "Congo (Brazzaville)"
          ],
          [
           "Mali"
          ],
          [
           "Namibia"
          ],
          [
           "Burkina Faso"
          ],
          [
           "Egypt"
          ],
          [
           "Mozambique"
          ],
          [
           "Kenya"
          ],
          [
           "Zambia"
          ],
          [
           "Mauritania"
          ],
          [
           "Ethiopia"
          ],
          [
           "Chad"
          ],
          [
           "Congo (Kinshasa)"
          ],
          [
           "Niger"
          ],
          [
           "Uganda"
          ],
          [
           "Benin"
          ],
          [
           "Sudan"
          ],
          [
           "Togo"
          ],
          [
           "Guinea"
          ],
          [
           "Lesotho"
          ],
          [
           "Angola"
          ],
          [
           "Madagascar"
          ],
          [
           "Zimbabwe"
          ],
          [
           "Botswana"
          ],
          [
           "Malawi"
          ],
          [
           "Liberia"
          ],
          [
           "Syria"
          ],
          [
           "Rwanda"
          ],
          [
           "Tanzania"
          ],
          [
           "South Sudan"
          ],
          [
           "Central African Republic"
          ],
          [
           "Burundi"
          ]
         ],
         "hovertemplate": "continent=Africa<br>Happiness Score=%{x}<br>Freedom to make life choices=%{y}<br>Country=%{customdata[0]}<extra></extra>",
         "legendgroup": "Africa",
         "marker": {
          "color": "#FFA15A",
          "symbol": "circle"
         },
         "mode": "markers",
         "name": "Africa",
         "orientation": "v",
         "showlegend": true,
         "type": "scatter",
         "x": [
          6.192,
          5.891,
          5.566,
          5.295,
          5.254,
          5.155,
          4.982,
          4.975,
          4.758,
          4.743,
          4.724,
          4.707,
          4.671,
          4.657,
          4.631,
          4.592,
          4.571,
          4.559,
          4.447,
          4.441,
          4.424,
          4.419,
          4.417,
          4.411,
          4.377,
          4.356,
          4.351,
          4.301,
          4.245,
          4.166,
          4.161,
          4.141,
          4.139,
          3.999,
          3.964,
          3.808,
          3.795,
          3.774,
          3.692,
          3.591,
          3.587,
          3.495,
          3.462,
          3.408,
          3.303,
          3.254,
          3.083,
          2.905
         ],
         "xaxis": "x",
         "y": [
          0.575,
          0.584,
          0.496,
          0.077,
          0.46,
          0.462,
          0.674,
          0.454,
          0.356,
          0.266,
          0.516,
          0.459,
          0.467,
          0.499,
          0.406,
          0.271,
          0.355,
          0.514,
          0.367,
          0.519,
          0.312,
          0.312,
          0.531,
          0.504,
          0.503,
          0.129,
          0.452,
          0.189,
          0.312,
          0.39,
          0.45,
          0.44,
          0.016,
          0.434,
          0.394,
          0.423,
          0,
          0.221,
          0.406,
          0.557,
          0.531,
          0.419,
          0.088,
          0.636,
          0.481,
          0.112,
          0.305,
          0.065
         ],
         "yaxis": "y"
        }
       ],
       "layout": {
        "legend": {
         "title": {
          "text": "continent"
         },
         "tracegroupgap": 0
        },
        "margin": {
         "t": 60
        },
        "template": {
         "data": {
          "bar": [
           {
            "error_x": {
             "color": "#2a3f5f"
            },
            "error_y": {
             "color": "#2a3f5f"
            },
            "marker": {
             "line": {
              "color": "#E5ECF6",
              "width": 0.5
             }
            },
            "type": "bar"
           }
          ],
          "barpolar": [
           {
            "marker": {
             "line": {
              "color": "#E5ECF6",
              "width": 0.5
             }
            },
            "type": "barpolar"
           }
          ],
          "carpet": [
           {
            "aaxis": {
             "endlinecolor": "#2a3f5f",
             "gridcolor": "white",
             "linecolor": "white",
             "minorgridcolor": "white",
             "startlinecolor": "#2a3f5f"
            },
            "baxis": {
             "endlinecolor": "#2a3f5f",
             "gridcolor": "white",
             "linecolor": "white",
             "minorgridcolor": "white",
             "startlinecolor": "#2a3f5f"
            },
            "type": "carpet"
           }
          ],
          "choropleth": [
           {
            "colorbar": {
             "outlinewidth": 0,
             "ticks": ""
            },
            "type": "choropleth"
           }
          ],
          "contour": [
           {
            "colorbar": {
             "outlinewidth": 0,
             "ticks": ""
            },
            "colorscale": [
             [
              0,
              "#0d0887"
             ],
             [
              0.1111111111111111,
              "#46039f"
             ],
             [
              0.2222222222222222,
              "#7201a8"
             ],
             [
              0.3333333333333333,
              "#9c179e"
             ],
             [
              0.4444444444444444,
              "#bd3786"
             ],
             [
              0.5555555555555556,
              "#d8576b"
             ],
             [
              0.6666666666666666,
              "#ed7953"
             ],
             [
              0.7777777777777778,
              "#fb9f3a"
             ],
             [
              0.8888888888888888,
              "#fdca26"
             ],
             [
              1,
              "#f0f921"
             ]
            ],
            "type": "contour"
           }
          ],
          "contourcarpet": [
           {
            "colorbar": {
             "outlinewidth": 0,
             "ticks": ""
            },
            "type": "contourcarpet"
           }
          ],
          "heatmap": [
           {
            "colorbar": {
             "outlinewidth": 0,
             "ticks": ""
            },
            "colorscale": [
             [
              0,
              "#0d0887"
             ],
             [
              0.1111111111111111,
              "#46039f"
             ],
             [
              0.2222222222222222,
              "#7201a8"
             ],
             [
              0.3333333333333333,
              "#9c179e"
             ],
             [
              0.4444444444444444,
              "#bd3786"
             ],
             [
              0.5555555555555556,
              "#d8576b"
             ],
             [
              0.6666666666666666,
              "#ed7953"
             ],
             [
              0.7777777777777778,
              "#fb9f3a"
             ],
             [
              0.8888888888888888,
              "#fdca26"
             ],
             [
              1,
              "#f0f921"
             ]
            ],
            "type": "heatmap"
           }
          ],
          "heatmapgl": [
           {
            "colorbar": {
             "outlinewidth": 0,
             "ticks": ""
            },
            "colorscale": [
             [
              0,
              "#0d0887"
             ],
             [
              0.1111111111111111,
              "#46039f"
             ],
             [
              0.2222222222222222,
              "#7201a8"
             ],
             [
              0.3333333333333333,
              "#9c179e"
             ],
             [
              0.4444444444444444,
              "#bd3786"
             ],
             [
              0.5555555555555556,
              "#d8576b"
             ],
             [
              0.6666666666666666,
              "#ed7953"
             ],
             [
              0.7777777777777778,
              "#fb9f3a"
             ],
             [
              0.8888888888888888,
              "#fdca26"
             ],
             [
              1,
              "#f0f921"
             ]
            ],
            "type": "heatmapgl"
           }
          ],
          "histogram": [
           {
            "marker": {
             "colorbar": {
              "outlinewidth": 0,
              "ticks": ""
             }
            },
            "type": "histogram"
           }
          ],
          "histogram2d": [
           {
            "colorbar": {
             "outlinewidth": 0,
             "ticks": ""
            },
            "colorscale": [
             [
              0,
              "#0d0887"
             ],
             [
              0.1111111111111111,
              "#46039f"
             ],
             [
              0.2222222222222222,
              "#7201a8"
             ],
             [
              0.3333333333333333,
              "#9c179e"
             ],
             [
              0.4444444444444444,
              "#bd3786"
             ],
             [
              0.5555555555555556,
              "#d8576b"
             ],
             [
              0.6666666666666666,
              "#ed7953"
             ],
             [
              0.7777777777777778,
              "#fb9f3a"
             ],
             [
              0.8888888888888888,
              "#fdca26"
             ],
             [
              1,
              "#f0f921"
             ]
            ],
            "type": "histogram2d"
           }
          ],
          "histogram2dcontour": [
           {
            "colorbar": {
             "outlinewidth": 0,
             "ticks": ""
            },
            "colorscale": [
             [
              0,
              "#0d0887"
             ],
             [
              0.1111111111111111,
              "#46039f"
             ],
             [
              0.2222222222222222,
              "#7201a8"
             ],
             [
              0.3333333333333333,
              "#9c179e"
             ],
             [
              0.4444444444444444,
              "#bd3786"
             ],
             [
              0.5555555555555556,
              "#d8576b"
             ],
             [
              0.6666666666666666,
              "#ed7953"
             ],
             [
              0.7777777777777778,
              "#fb9f3a"
             ],
             [
              0.8888888888888888,
              "#fdca26"
             ],
             [
              1,
              "#f0f921"
             ]
            ],
            "type": "histogram2dcontour"
           }
          ],
          "mesh3d": [
           {
            "colorbar": {
             "outlinewidth": 0,
             "ticks": ""
            },
            "type": "mesh3d"
           }
          ],
          "parcoords": [
           {
            "line": {
             "colorbar": {
              "outlinewidth": 0,
              "ticks": ""
             }
            },
            "type": "parcoords"
           }
          ],
          "pie": [
           {
            "automargin": true,
            "type": "pie"
           }
          ],
          "scatter": [
           {
            "marker": {
             "colorbar": {
              "outlinewidth": 0,
              "ticks": ""
             }
            },
            "type": "scatter"
           }
          ],
          "scatter3d": [
           {
            "line": {
             "colorbar": {
              "outlinewidth": 0,
              "ticks": ""
             }
            },
            "marker": {
             "colorbar": {
              "outlinewidth": 0,
              "ticks": ""
             }
            },
            "type": "scatter3d"
           }
          ],
          "scattercarpet": [
           {
            "marker": {
             "colorbar": {
              "outlinewidth": 0,
              "ticks": ""
             }
            },
            "type": "scattercarpet"
           }
          ],
          "scattergeo": [
           {
            "marker": {
             "colorbar": {
              "outlinewidth": 0,
              "ticks": ""
             }
            },
            "type": "scattergeo"
           }
          ],
          "scattergl": [
           {
            "marker": {
             "colorbar": {
              "outlinewidth": 0,
              "ticks": ""
             }
            },
            "type": "scattergl"
           }
          ],
          "scattermapbox": [
           {
            "marker": {
             "colorbar": {
              "outlinewidth": 0,
              "ticks": ""
             }
            },
            "type": "scattermapbox"
           }
          ],
          "scatterpolar": [
           {
            "marker": {
             "colorbar": {
              "outlinewidth": 0,
              "ticks": ""
             }
            },
            "type": "scatterpolar"
           }
          ],
          "scatterpolargl": [
           {
            "marker": {
             "colorbar": {
              "outlinewidth": 0,
              "ticks": ""
             }
            },
            "type": "scatterpolargl"
           }
          ],
          "scatterternary": [
           {
            "marker": {
             "colorbar": {
              "outlinewidth": 0,
              "ticks": ""
             }
            },
            "type": "scatterternary"
           }
          ],
          "surface": [
           {
            "colorbar": {
             "outlinewidth": 0,
             "ticks": ""
            },
            "colorscale": [
             [
              0,
              "#0d0887"
             ],
             [
              0.1111111111111111,
              "#46039f"
             ],
             [
              0.2222222222222222,
              "#7201a8"
             ],
             [
              0.3333333333333333,
              "#9c179e"
             ],
             [
              0.4444444444444444,
              "#bd3786"
             ],
             [
              0.5555555555555556,
              "#d8576b"
             ],
             [
              0.6666666666666666,
              "#ed7953"
             ],
             [
              0.7777777777777778,
              "#fb9f3a"
             ],
             [
              0.8888888888888888,
              "#fdca26"
             ],
             [
              1,
              "#f0f921"
             ]
            ],
            "type": "surface"
           }
          ],
          "table": [
           {
            "cells": {
             "fill": {
              "color": "#EBF0F8"
             },
             "line": {
              "color": "white"
             }
            },
            "header": {
             "fill": {
              "color": "#C8D4E3"
             },
             "line": {
              "color": "white"
             }
            },
            "type": "table"
           }
          ]
         },
         "layout": {
          "annotationdefaults": {
           "arrowcolor": "#2a3f5f",
           "arrowhead": 0,
           "arrowwidth": 1
          },
          "autotypenumbers": "strict",
          "coloraxis": {
           "colorbar": {
            "outlinewidth": 0,
            "ticks": ""
           }
          },
          "colorscale": {
           "diverging": [
            [
             0,
             "#8e0152"
            ],
            [
             0.1,
             "#c51b7d"
            ],
            [
             0.2,
             "#de77ae"
            ],
            [
             0.3,
             "#f1b6da"
            ],
            [
             0.4,
             "#fde0ef"
            ],
            [
             0.5,
             "#f7f7f7"
            ],
            [
             0.6,
             "#e6f5d0"
            ],
            [
             0.7,
             "#b8e186"
            ],
            [
             0.8,
             "#7fbc41"
            ],
            [
             0.9,
             "#4d9221"
            ],
            [
             1,
             "#276419"
            ]
           ],
           "sequential": [
            [
             0,
             "#0d0887"
            ],
            [
             0.1111111111111111,
             "#46039f"
            ],
            [
             0.2222222222222222,
             "#7201a8"
            ],
            [
             0.3333333333333333,
             "#9c179e"
            ],
            [
             0.4444444444444444,
             "#bd3786"
            ],
            [
             0.5555555555555556,
             "#d8576b"
            ],
            [
             0.6666666666666666,
             "#ed7953"
            ],
            [
             0.7777777777777778,
             "#fb9f3a"
            ],
            [
             0.8888888888888888,
             "#fdca26"
            ],
            [
             1,
             "#f0f921"
            ]
           ],
           "sequentialminus": [
            [
             0,
             "#0d0887"
            ],
            [
             0.1111111111111111,
             "#46039f"
            ],
            [
             0.2222222222222222,
             "#7201a8"
            ],
            [
             0.3333333333333333,
             "#9c179e"
            ],
            [
             0.4444444444444444,
             "#bd3786"
            ],
            [
             0.5555555555555556,
             "#d8576b"
            ],
            [
             0.6666666666666666,
             "#ed7953"
            ],
            [
             0.7777777777777778,
             "#fb9f3a"
            ],
            [
             0.8888888888888888,
             "#fdca26"
            ],
            [
             1,
             "#f0f921"
            ]
           ]
          },
          "colorway": [
           "#636efa",
           "#EF553B",
           "#00cc96",
           "#ab63fa",
           "#FFA15A",
           "#19d3f3",
           "#FF6692",
           "#B6E880",
           "#FF97FF",
           "#FECB52"
          ],
          "font": {
           "color": "#2a3f5f"
          },
          "geo": {
           "bgcolor": "white",
           "lakecolor": "white",
           "landcolor": "#E5ECF6",
           "showlakes": true,
           "showland": true,
           "subunitcolor": "white"
          },
          "hoverlabel": {
           "align": "left"
          },
          "hovermode": "closest",
          "mapbox": {
           "style": "light"
          },
          "paper_bgcolor": "white",
          "plot_bgcolor": "#E5ECF6",
          "polar": {
           "angularaxis": {
            "gridcolor": "white",
            "linecolor": "white",
            "ticks": ""
           },
           "bgcolor": "#E5ECF6",
           "radialaxis": {
            "gridcolor": "white",
            "linecolor": "white",
            "ticks": ""
           }
          },
          "scene": {
           "xaxis": {
            "backgroundcolor": "#E5ECF6",
            "gridcolor": "white",
            "gridwidth": 2,
            "linecolor": "white",
            "showbackground": true,
            "ticks": "",
            "zerolinecolor": "white"
           },
           "yaxis": {
            "backgroundcolor": "#E5ECF6",
            "gridcolor": "white",
            "gridwidth": 2,
            "linecolor": "white",
            "showbackground": true,
            "ticks": "",
            "zerolinecolor": "white"
           },
           "zaxis": {
            "backgroundcolor": "#E5ECF6",
            "gridcolor": "white",
            "gridwidth": 2,
            "linecolor": "white",
            "showbackground": true,
            "ticks": "",
            "zerolinecolor": "white"
           }
          },
          "shapedefaults": {
           "line": {
            "color": "#2a3f5f"
           }
          },
          "ternary": {
           "aaxis": {
            "gridcolor": "white",
            "linecolor": "white",
            "ticks": ""
           },
           "baxis": {
            "gridcolor": "white",
            "linecolor": "white",
            "ticks": ""
           },
           "bgcolor": "#E5ECF6",
           "caxis": {
            "gridcolor": "white",
            "linecolor": "white",
            "ticks": ""
           }
          },
          "title": {
           "x": 0.05
          },
          "xaxis": {
           "automargin": true,
           "gridcolor": "white",
           "linecolor": "white",
           "ticks": "",
           "title": {
            "standoff": 15
           },
           "zerolinecolor": "white",
           "zerolinewidth": 2
          },
          "yaxis": {
           "automargin": true,
           "gridcolor": "white",
           "linecolor": "white",
           "ticks": "",
           "title": {
            "standoff": 15
           },
           "zerolinecolor": "white",
           "zerolinewidth": 2
          }
         }
        },
        "xaxis": {
         "anchor": "y",
         "domain": [
          0,
          1
         ],
         "title": {
          "text": "Happiness Score"
         }
        },
        "yaxis": {
         "anchor": "x",
         "domain": [
          0,
          1
         ],
         "title": {
          "text": "Freedom to make life choices"
         }
        }
       }
      },
      "text/html": [
       "<div>                            <div id=\"60064f89-0b0c-4de7-a3ff-3905c854d4cf\" class=\"plotly-graph-div\" style=\"height:525px; width:100%;\"></div>            <script type=\"text/javascript\">                require([\"plotly\"], function(Plotly) {                    window.PLOTLYENV=window.PLOTLYENV || {};                                    if (document.getElementById(\"60064f89-0b0c-4de7-a3ff-3905c854d4cf\")) {                    Plotly.newPlot(                        \"60064f89-0b0c-4de7-a3ff-3905c854d4cf\",                        [{\"customdata\": [[\"Finland\"], [\"Norway\"], [\"Denmark\"], [\"Iceland\"], [\"Switzerland\"], [\"Netherlands\"], [\"Sweden\"], [\"United Kingdom\"], [\"Austria\"], [\"Ireland\"], [\"Germany\"], [\"Belgium\"], [\"Luxembourg\"], [\"Czech Republic\"], [\"Malta\"], [\"France\"], [\"Spain\"], [\"Slovakia\"], [\"Poland\"], [\"Italy\"], [\"Lithuania\"], [\"Slovenia\"], [\"Romania\"], [\"Latvia\"], [\"Northern Cyprus\"], [\"Russia\"], [\"Estonia\"], [\"Kosovo\"], [\"Moldova\"], [\"Hungary\"], [\"Belarus\"], [\"Portugal\"], [\"Serbia\"], [\"Greece\"], [\"Montenegro\"], [\"Croatia\"], [\"Macedonia\"], [\"Bosnia and Herzegovina\"], [\"Bulgaria\"], [\"Albania\"], [\"Ukraine\"]], \"hovertemplate\": \"continent=Europe<br>Happiness Score=%{x}<br>Freedom to make life choices=%{y}<br>Country=%{customdata[0]}<extra></extra>\", \"legendgroup\": \"Europe\", \"marker\": {\"color\": \"#636efa\", \"symbol\": \"circle\"}, \"mode\": \"markers\", \"name\": \"Europe\", \"orientation\": \"v\", \"showlegend\": true, \"type\": \"scatter\", \"x\": [7.632, 7.594, 7.555, 7.495, 7.487, 7.441, 7.314, 7.191, 7.139, 6.977, 6.965, 6.927, 6.911, 6.711, 6.627, 6.489, 6.311, 6.173, 6.123, 6.011, 5.952, 5.948, 5.945, 5.933, 5.835, 5.811, 5.739, 5.662, 5.641, 5.621, 5.483, 5.411, 5.398, 5.358, 5.347, 5.321, 5.185, 5.129, 4.933, 4.586, 4.103], \"xaxis\": \"x\", \"y\": [0.681, 0.686, 0.683, 0.677, 0.66, 0.638, 0.659, 0.464, 0.617, 0.614, 0.586, 0.583, 0.632, 0.543, 0.645, 0.52, 0.449, 0.354, 0.546, 0.281, 0.35, 0.633, 0.528, 0.363, 0.495, 0.399, 0.553, 0.448, 0.232, 0.259, 0.307, 0.562, 0.288, 0.131, 0.259, 0.38, 0.394, 0.28, 0.359, 0.419, 0.163], \"yaxis\": \"y\"}, {\"customdata\": [[\"Canada\"], [\"Costa Rica\"], [\"United States\"], [\"Mexico\"], [\"Chile\"], [\"Panama\"], [\"Brazil\"], [\"Argentina\"], [\"Guatemala\"], [\"Uruguay\"], [\"Colombia\"], [\"El Salvador\"], [\"Nicaragua\"], [\"Ecuador\"], [\"Belize\"], [\"Jamaica\"], [\"Bolivia\"], [\"Paraguay\"], [\"Peru\"], [\"Honduras\"], [\"Dominican Republic\"], [\"Haiti\"]], \"hovertemplate\": \"continent=Americas<br>Happiness Score=%{x}<br>Freedom to make life choices=%{y}<br>Country=%{customdata[0]}<extra></extra>\", \"legendgroup\": \"Americas\", \"marker\": {\"color\": \"#EF553B\", \"symbol\": \"circle\"}, \"mode\": \"markers\", \"name\": \"Americas\", \"orientation\": \"v\", \"showlegend\": true, \"type\": \"scatter\", \"x\": [7.328, 7.072, 6.886, 6.488, 6.476, 6.431, 6.419, 6.388, 6.382, 6.379, 6.261, 6.167, 6.141, 5.973, 5.956, 5.891, 5.752, 5.681, 5.663, 5.504, 5.302, 3.582], \"xaxis\": \"x\", \"y\": [0.653, 0.632, 0.547, 0.479, 0.431, 0.597, 0.493, 0.57, 0.604, 0.625, 0.531, 0.461, 0.527, 0.556, 0.593, 0.575, 0.606, 0.541, 0.53, 0.459, 0.578, 0.025], \"yaxis\": \"y\"}, {\"customdata\": [[\"New Zealand\"], [\"Australia\"]], \"hovertemplate\": \"continent=Oceania<br>Happiness Score=%{x}<br>Freedom to make life choices=%{y}<br>Country=%{customdata[0]}<extra></extra>\", \"legendgroup\": \"Oceania\", \"marker\": {\"color\": \"#00cc96\", \"symbol\": \"circle\"}, \"mode\": \"markers\", \"name\": \"Oceania\", \"orientation\": \"v\", \"showlegend\": true, \"type\": \"scatter\", \"x\": [7.324, 7.272], \"xaxis\": \"x\", \"y\": [0.669, 0.647], \"yaxis\": \"y\"}, {\"customdata\": [[\"Israel\"], [\"United Arab Emirates\"], [\"Taiwan\"], [\"Qatar\"], [\"Saudi Arabia\"], [\"Singapore\"], [\"Malaysia\"], [\"Bahrain\"], [\"Uzbekistan\"], [\"Kuwait\"], [\"Thailand\"], [\"Japan\"], [\"South Korea\"], [\"Kazakhstan\"], [\"Cyprus\"], [\"Turkmenistan\"], [\"Philippines\"], [\"Turkey\"], [\"Pakistan\"], [\"Hong Kong\"], [\"Lebanon\"], [\"China\"], [\"Azerbaijan\"], [\"Tajikistan\"], [\"Jordan\"], [\"Kyrgyzstan\"], [\"Mongolia\"], [\"Vietnam\"], [\"Indonesia\"], [\"Bhutan\"], [\"Nepal\"], [\"Venezuela\"], [\"Laos\"], [\"Bangladesh\"], [\"Sri Lanka\"], [\"Iraq\"], [\"Cambodia\"], [\"Georgia\"], [\"Armenia\"], [\"Myanmar\"], [\"India\"], [\"Afghanistan\"], [\"Yemen\"]], \"hovertemplate\": \"continent=Asia<br>Happiness Score=%{x}<br>Freedom to make life choices=%{y}<br>Country=%{customdata[0]}<extra></extra>\", \"legendgroup\": \"Asia\", \"marker\": {\"color\": \"#ab63fa\", \"symbol\": \"circle\"}, \"mode\": \"markers\", \"name\": \"Asia\", \"orientation\": \"v\", \"showlegend\": true, \"type\": \"scatter\", \"x\": [6.814, 6.774, 6.441, 6.374, 6.371, 6.343, 6.322, 6.105, 6.096, 6.083, 6.072, 5.915, 5.875, 5.791, 5.762, 5.636, 5.524, 5.483, 5.472, 5.431, 5.358, 5.246, 5.201, 5.199, 5.161, 5.131, 5.125, 5.103, 5.093, 5.082, 4.881, 4.806, 4.623, 4.511, 4.471, 4.456, 4.433, 4.341, 4.321, 4.308, 4.191, 3.632, 3.355], \"xaxis\": \"x\", \"y\": [0.533, 0.284, 0.418, 0.654, 0.509, 0.631, 0.356, 0.594, 0.724, 0.554, 0.637, 0.553, 0.244, 0.454, 0.423, 0.417, 0.643, 0.324, 0.334, 0.524, 0.503, 0.597, 0.43, 0.292, 0.468, 0.54, 0.395, 0.618, 0.538, 0.541, 0.526, 0.133, 0.626, 0.58, 0.585, 0.304, 0.696, 0.375, 0.26, 0.58, 0.539, 0.085, 0.244], \"yaxis\": \"y\"}, {\"customdata\": [[\"Trinidad & Tobago\"], [\"Mauritius\"], [\"Libya\"], [\"Algeria\"], [\"Morocco\"], [\"Nigeria\"], [\"Somalia\"], [\"Cameroon\"], [\"Gabon\"], [\"Palestinian Territories\"], [\"South Africa\"], [\"Iran\"], [\"Ivory Coast\"], [\"Ghana\"], [\"Senegal\"], [\"Tunisia\"], [\"Sierra Leone\"], [\"Congo (Brazzaville)\"], [\"Mali\"], [\"Namibia\"], [\"Burkina Faso\"], [\"Egypt\"], [\"Mozambique\"], [\"Kenya\"], [\"Zambia\"], [\"Mauritania\"], [\"Ethiopia\"], [\"Chad\"], [\"Congo (Kinshasa)\"], [\"Niger\"], [\"Uganda\"], [\"Benin\"], [\"Sudan\"], [\"Togo\"], [\"Guinea\"], [\"Lesotho\"], [\"Angola\"], [\"Madagascar\"], [\"Zimbabwe\"], [\"Botswana\"], [\"Malawi\"], [\"Liberia\"], [\"Syria\"], [\"Rwanda\"], [\"Tanzania\"], [\"South Sudan\"], [\"Central African Republic\"], [\"Burundi\"]], \"hovertemplate\": \"continent=Africa<br>Happiness Score=%{x}<br>Freedom to make life choices=%{y}<br>Country=%{customdata[0]}<extra></extra>\", \"legendgroup\": \"Africa\", \"marker\": {\"color\": \"#FFA15A\", \"symbol\": \"circle\"}, \"mode\": \"markers\", \"name\": \"Africa\", \"orientation\": \"v\", \"showlegend\": true, \"type\": \"scatter\", \"x\": [6.192, 5.891, 5.566, 5.295, 5.254, 5.155, 4.982, 4.975, 4.758, 4.743, 4.724, 4.707, 4.671, 4.657, 4.631, 4.592, 4.571, 4.559, 4.447, 4.441, 4.424, 4.419, 4.417, 4.411, 4.377, 4.356, 4.351, 4.301, 4.245, 4.166, 4.161, 4.141, 4.139, 3.999, 3.964, 3.808, 3.795, 3.774, 3.692, 3.591, 3.587, 3.495, 3.462, 3.408, 3.303, 3.254, 3.083, 2.905], \"xaxis\": \"x\", \"y\": [0.575, 0.584, 0.496, 0.077, 0.46, 0.462, 0.674, 0.454, 0.356, 0.266, 0.516, 0.459, 0.467, 0.499, 0.406, 0.271, 0.355, 0.514, 0.367, 0.519, 0.312, 0.312, 0.531, 0.504, 0.503, 0.129, 0.452, 0.189, 0.312, 0.39, 0.45, 0.44, 0.016, 0.434, 0.394, 0.423, 0.0, 0.221, 0.406, 0.557, 0.531, 0.419, 0.088, 0.636, 0.481, 0.112, 0.305, 0.065], \"yaxis\": \"y\"}],                        {\"legend\": {\"title\": {\"text\": \"continent\"}, \"tracegroupgap\": 0}, \"margin\": {\"t\": 60}, \"template\": {\"data\": {\"bar\": [{\"error_x\": {\"color\": \"#2a3f5f\"}, \"error_y\": {\"color\": \"#2a3f5f\"}, \"marker\": {\"line\": {\"color\": \"#E5ECF6\", \"width\": 0.5}}, \"type\": \"bar\"}], \"barpolar\": [{\"marker\": {\"line\": {\"color\": \"#E5ECF6\", \"width\": 0.5}}, \"type\": \"barpolar\"}], \"carpet\": [{\"aaxis\": {\"endlinecolor\": \"#2a3f5f\", \"gridcolor\": \"white\", \"linecolor\": \"white\", \"minorgridcolor\": \"white\", \"startlinecolor\": \"#2a3f5f\"}, \"baxis\": {\"endlinecolor\": \"#2a3f5f\", \"gridcolor\": \"white\", \"linecolor\": \"white\", \"minorgridcolor\": \"white\", \"startlinecolor\": \"#2a3f5f\"}, \"type\": \"carpet\"}], \"choropleth\": [{\"colorbar\": {\"outlinewidth\": 0, \"ticks\": \"\"}, \"type\": \"choropleth\"}], \"contour\": [{\"colorbar\": {\"outlinewidth\": 0, \"ticks\": \"\"}, \"colorscale\": [[0.0, \"#0d0887\"], [0.1111111111111111, \"#46039f\"], [0.2222222222222222, \"#7201a8\"], [0.3333333333333333, \"#9c179e\"], [0.4444444444444444, \"#bd3786\"], [0.5555555555555556, \"#d8576b\"], [0.6666666666666666, \"#ed7953\"], [0.7777777777777778, \"#fb9f3a\"], [0.8888888888888888, \"#fdca26\"], [1.0, \"#f0f921\"]], \"type\": \"contour\"}], \"contourcarpet\": [{\"colorbar\": {\"outlinewidth\": 0, \"ticks\": \"\"}, \"type\": \"contourcarpet\"}], \"heatmap\": [{\"colorbar\": {\"outlinewidth\": 0, \"ticks\": \"\"}, \"colorscale\": [[0.0, \"#0d0887\"], [0.1111111111111111, \"#46039f\"], [0.2222222222222222, \"#7201a8\"], [0.3333333333333333, \"#9c179e\"], [0.4444444444444444, \"#bd3786\"], [0.5555555555555556, \"#d8576b\"], [0.6666666666666666, \"#ed7953\"], [0.7777777777777778, \"#fb9f3a\"], [0.8888888888888888, \"#fdca26\"], [1.0, \"#f0f921\"]], \"type\": \"heatmap\"}], \"heatmapgl\": [{\"colorbar\": {\"outlinewidth\": 0, \"ticks\": \"\"}, \"colorscale\": [[0.0, \"#0d0887\"], [0.1111111111111111, \"#46039f\"], [0.2222222222222222, \"#7201a8\"], [0.3333333333333333, \"#9c179e\"], [0.4444444444444444, \"#bd3786\"], [0.5555555555555556, \"#d8576b\"], [0.6666666666666666, \"#ed7953\"], [0.7777777777777778, \"#fb9f3a\"], [0.8888888888888888, \"#fdca26\"], [1.0, \"#f0f921\"]], \"type\": \"heatmapgl\"}], \"histogram\": [{\"marker\": {\"colorbar\": {\"outlinewidth\": 0, \"ticks\": \"\"}}, \"type\": \"histogram\"}], \"histogram2d\": [{\"colorbar\": {\"outlinewidth\": 0, \"ticks\": \"\"}, \"colorscale\": [[0.0, \"#0d0887\"], [0.1111111111111111, \"#46039f\"], [0.2222222222222222, \"#7201a8\"], [0.3333333333333333, \"#9c179e\"], [0.4444444444444444, \"#bd3786\"], [0.5555555555555556, \"#d8576b\"], [0.6666666666666666, \"#ed7953\"], [0.7777777777777778, \"#fb9f3a\"], [0.8888888888888888, \"#fdca26\"], [1.0, \"#f0f921\"]], \"type\": \"histogram2d\"}], \"histogram2dcontour\": [{\"colorbar\": {\"outlinewidth\": 0, \"ticks\": \"\"}, \"colorscale\": [[0.0, \"#0d0887\"], [0.1111111111111111, \"#46039f\"], [0.2222222222222222, \"#7201a8\"], [0.3333333333333333, \"#9c179e\"], [0.4444444444444444, \"#bd3786\"], [0.5555555555555556, \"#d8576b\"], [0.6666666666666666, \"#ed7953\"], [0.7777777777777778, \"#fb9f3a\"], [0.8888888888888888, \"#fdca26\"], [1.0, \"#f0f921\"]], \"type\": \"histogram2dcontour\"}], \"mesh3d\": [{\"colorbar\": {\"outlinewidth\": 0, \"ticks\": \"\"}, \"type\": \"mesh3d\"}], \"parcoords\": [{\"line\": {\"colorbar\": {\"outlinewidth\": 0, \"ticks\": \"\"}}, \"type\": \"parcoords\"}], \"pie\": [{\"automargin\": true, \"type\": \"pie\"}], \"scatter\": [{\"marker\": {\"colorbar\": {\"outlinewidth\": 0, \"ticks\": \"\"}}, \"type\": \"scatter\"}], \"scatter3d\": [{\"line\": {\"colorbar\": {\"outlinewidth\": 0, \"ticks\": \"\"}}, \"marker\": {\"colorbar\": {\"outlinewidth\": 0, \"ticks\": \"\"}}, \"type\": \"scatter3d\"}], \"scattercarpet\": [{\"marker\": {\"colorbar\": {\"outlinewidth\": 0, \"ticks\": \"\"}}, \"type\": \"scattercarpet\"}], \"scattergeo\": [{\"marker\": {\"colorbar\": {\"outlinewidth\": 0, \"ticks\": \"\"}}, \"type\": \"scattergeo\"}], \"scattergl\": [{\"marker\": {\"colorbar\": {\"outlinewidth\": 0, \"ticks\": \"\"}}, \"type\": \"scattergl\"}], \"scattermapbox\": [{\"marker\": {\"colorbar\": {\"outlinewidth\": 0, \"ticks\": \"\"}}, \"type\": \"scattermapbox\"}], \"scatterpolar\": [{\"marker\": {\"colorbar\": {\"outlinewidth\": 0, \"ticks\": \"\"}}, \"type\": \"scatterpolar\"}], \"scatterpolargl\": [{\"marker\": {\"colorbar\": {\"outlinewidth\": 0, \"ticks\": \"\"}}, \"type\": \"scatterpolargl\"}], \"scatterternary\": [{\"marker\": {\"colorbar\": {\"outlinewidth\": 0, \"ticks\": \"\"}}, \"type\": \"scatterternary\"}], \"surface\": [{\"colorbar\": {\"outlinewidth\": 0, \"ticks\": \"\"}, \"colorscale\": [[0.0, \"#0d0887\"], [0.1111111111111111, \"#46039f\"], [0.2222222222222222, \"#7201a8\"], [0.3333333333333333, \"#9c179e\"], [0.4444444444444444, \"#bd3786\"], [0.5555555555555556, \"#d8576b\"], [0.6666666666666666, \"#ed7953\"], [0.7777777777777778, \"#fb9f3a\"], [0.8888888888888888, \"#fdca26\"], [1.0, \"#f0f921\"]], \"type\": \"surface\"}], \"table\": [{\"cells\": {\"fill\": {\"color\": \"#EBF0F8\"}, \"line\": {\"color\": \"white\"}}, \"header\": {\"fill\": {\"color\": \"#C8D4E3\"}, \"line\": {\"color\": \"white\"}}, \"type\": \"table\"}]}, \"layout\": {\"annotationdefaults\": {\"arrowcolor\": \"#2a3f5f\", \"arrowhead\": 0, \"arrowwidth\": 1}, \"autotypenumbers\": \"strict\", \"coloraxis\": {\"colorbar\": {\"outlinewidth\": 0, \"ticks\": \"\"}}, \"colorscale\": {\"diverging\": [[0, \"#8e0152\"], [0.1, \"#c51b7d\"], [0.2, \"#de77ae\"], [0.3, \"#f1b6da\"], [0.4, \"#fde0ef\"], [0.5, \"#f7f7f7\"], [0.6, \"#e6f5d0\"], [0.7, \"#b8e186\"], [0.8, \"#7fbc41\"], [0.9, \"#4d9221\"], [1, \"#276419\"]], \"sequential\": [[0.0, \"#0d0887\"], [0.1111111111111111, \"#46039f\"], [0.2222222222222222, \"#7201a8\"], [0.3333333333333333, \"#9c179e\"], [0.4444444444444444, \"#bd3786\"], [0.5555555555555556, \"#d8576b\"], [0.6666666666666666, \"#ed7953\"], [0.7777777777777778, \"#fb9f3a\"], [0.8888888888888888, \"#fdca26\"], [1.0, \"#f0f921\"]], \"sequentialminus\": [[0.0, \"#0d0887\"], [0.1111111111111111, \"#46039f\"], [0.2222222222222222, \"#7201a8\"], [0.3333333333333333, \"#9c179e\"], [0.4444444444444444, \"#bd3786\"], [0.5555555555555556, \"#d8576b\"], [0.6666666666666666, \"#ed7953\"], [0.7777777777777778, \"#fb9f3a\"], [0.8888888888888888, \"#fdca26\"], [1.0, \"#f0f921\"]]}, \"colorway\": [\"#636efa\", \"#EF553B\", \"#00cc96\", \"#ab63fa\", \"#FFA15A\", \"#19d3f3\", \"#FF6692\", \"#B6E880\", \"#FF97FF\", \"#FECB52\"], \"font\": {\"color\": \"#2a3f5f\"}, \"geo\": {\"bgcolor\": \"white\", \"lakecolor\": \"white\", \"landcolor\": \"#E5ECF6\", \"showlakes\": true, \"showland\": true, \"subunitcolor\": \"white\"}, \"hoverlabel\": {\"align\": \"left\"}, \"hovermode\": \"closest\", \"mapbox\": {\"style\": \"light\"}, \"paper_bgcolor\": \"white\", \"plot_bgcolor\": \"#E5ECF6\", \"polar\": {\"angularaxis\": {\"gridcolor\": \"white\", \"linecolor\": \"white\", \"ticks\": \"\"}, \"bgcolor\": \"#E5ECF6\", \"radialaxis\": {\"gridcolor\": \"white\", \"linecolor\": \"white\", \"ticks\": \"\"}}, \"scene\": {\"xaxis\": {\"backgroundcolor\": \"#E5ECF6\", \"gridcolor\": \"white\", \"gridwidth\": 2, \"linecolor\": \"white\", \"showbackground\": true, \"ticks\": \"\", \"zerolinecolor\": \"white\"}, \"yaxis\": {\"backgroundcolor\": \"#E5ECF6\", \"gridcolor\": \"white\", \"gridwidth\": 2, \"linecolor\": \"white\", \"showbackground\": true, \"ticks\": \"\", \"zerolinecolor\": \"white\"}, \"zaxis\": {\"backgroundcolor\": \"#E5ECF6\", \"gridcolor\": \"white\", \"gridwidth\": 2, \"linecolor\": \"white\", \"showbackground\": true, \"ticks\": \"\", \"zerolinecolor\": \"white\"}}, \"shapedefaults\": {\"line\": {\"color\": \"#2a3f5f\"}}, \"ternary\": {\"aaxis\": {\"gridcolor\": \"white\", \"linecolor\": \"white\", \"ticks\": \"\"}, \"baxis\": {\"gridcolor\": \"white\", \"linecolor\": \"white\", \"ticks\": \"\"}, \"bgcolor\": \"#E5ECF6\", \"caxis\": {\"gridcolor\": \"white\", \"linecolor\": \"white\", \"ticks\": \"\"}}, \"title\": {\"x\": 0.05}, \"xaxis\": {\"automargin\": true, \"gridcolor\": \"white\", \"linecolor\": \"white\", \"ticks\": \"\", \"title\": {\"standoff\": 15}, \"zerolinecolor\": \"white\", \"zerolinewidth\": 2}, \"yaxis\": {\"automargin\": true, \"gridcolor\": \"white\", \"linecolor\": \"white\", \"ticks\": \"\", \"title\": {\"standoff\": 15}, \"zerolinecolor\": \"white\", \"zerolinewidth\": 2}}}, \"xaxis\": {\"anchor\": \"y\", \"domain\": [0.0, 1.0], \"title\": {\"text\": \"Happiness Score\"}}, \"yaxis\": {\"anchor\": \"x\", \"domain\": [0.0, 1.0], \"title\": {\"text\": \"Freedom to make life choices\"}}},                        {\"responsive\": true}                    ).then(function(){\n",
       "                            \n",
       "var gd = document.getElementById('60064f89-0b0c-4de7-a3ff-3905c854d4cf');\n",
       "var x = new MutationObserver(function (mutations, observer) {{\n",
       "        var display = window.getComputedStyle(gd).display;\n",
       "        if (!display || display === 'none') {{\n",
       "            console.log([gd, 'removed!']);\n",
       "            Plotly.purge(gd);\n",
       "            observer.disconnect();\n",
       "        }}\n",
       "}});\n",
       "\n",
       "// Listen for the removal of the full notebook cells\n",
       "var notebookContainer = gd.closest('#notebook-container');\n",
       "if (notebookContainer) {{\n",
       "    x.observe(notebookContainer, {childList: true});\n",
       "}}\n",
       "\n",
       "// Listen for the clearing of the current output cell\n",
       "var outputEl = gd.closest('.output');\n",
       "if (outputEl) {{\n",
       "    x.observe(outputEl, {childList: true});\n",
       "}}\n",
       "\n",
       "                        })                };                });            </script>        </div>"
      ]
     },
     "metadata": {},
     "output_type": "display_data"
    }
   ],
   "source": [
    "fig3 = px.scatter(data1, x = data1[\"Happiness Score\"], y=data1[\"Freedom to make life choices\"], color=data1[\"continent\"],\n",
    "        hover_data=[\"Country\"])\n",
    "\n",
    "\n",
    "fig3 "
   ]
  },
  {
   "cell_type": "code",
   "execution_count": 15,
   "metadata": {
    "ExecuteTime": {
     "end_time": "2021-02-17T14:20:18.155075Z",
     "start_time": "2021-02-17T14:20:18.069371Z"
    }
   },
   "outputs": [
    {
     "data": {
      "application/vnd.plotly.v1+json": {
       "config": {
        "plotlyServerURL": "https://plotly.com"
       },
       "data": [
        {
         "customdata": [
          [
           "Finland"
          ],
          [
           "Norway"
          ],
          [
           "Denmark"
          ],
          [
           "Iceland"
          ],
          [
           "Switzerland"
          ],
          [
           "Netherlands"
          ],
          [
           "Sweden"
          ],
          [
           "United Kingdom"
          ],
          [
           "Austria"
          ],
          [
           "Ireland"
          ],
          [
           "Germany"
          ],
          [
           "Belgium"
          ],
          [
           "Luxembourg"
          ],
          [
           "Czech Republic"
          ],
          [
           "Malta"
          ],
          [
           "France"
          ],
          [
           "Spain"
          ],
          [
           "Slovakia"
          ],
          [
           "Poland"
          ],
          [
           "Italy"
          ],
          [
           "Lithuania"
          ],
          [
           "Slovenia"
          ],
          [
           "Romania"
          ],
          [
           "Latvia"
          ],
          [
           "Northern Cyprus"
          ],
          [
           "Russia"
          ],
          [
           "Estonia"
          ],
          [
           "Kosovo"
          ],
          [
           "Moldova"
          ],
          [
           "Hungary"
          ],
          [
           "Belarus"
          ],
          [
           "Portugal"
          ],
          [
           "Serbia"
          ],
          [
           "Greece"
          ],
          [
           "Montenegro"
          ],
          [
           "Croatia"
          ],
          [
           "Macedonia"
          ],
          [
           "Bosnia and Herzegovina"
          ],
          [
           "Bulgaria"
          ],
          [
           "Albania"
          ],
          [
           "Ukraine"
          ]
         ],
         "hovertemplate": "continent=Europe<br>Happiness Score=%{x}<br>Generosity=%{y}<br>Country=%{customdata[0]}<extra></extra>",
         "legendgroup": "Europe",
         "marker": {
          "color": "#636efa",
          "symbol": "circle"
         },
         "mode": "markers",
         "name": "Europe",
         "orientation": "v",
         "showlegend": true,
         "type": "scatter",
         "x": [
          7.632,
          7.594,
          7.555,
          7.495,
          7.487,
          7.441,
          7.314,
          7.191,
          7.139,
          6.977,
          6.965,
          6.927,
          6.911,
          6.711,
          6.627,
          6.489,
          6.311,
          6.173,
          6.123,
          6.011,
          5.952,
          5.948,
          5.945,
          5.933,
          5.835,
          5.811,
          5.739,
          5.662,
          5.641,
          5.621,
          5.483,
          5.411,
          5.398,
          5.358,
          5.347,
          5.321,
          5.185,
          5.129,
          4.933,
          4.586,
          4.103
         ],
         "xaxis": "x",
         "y": [
          0.202,
          0.286,
          0.284,
          0.353,
          0.256,
          0.333,
          0.285,
          0.262,
          0.242,
          0.307,
          0.273,
          0.188,
          0.196,
          0.064,
          0.376,
          0.098,
          0.142,
          0.118,
          0.108,
          0.137,
          0.026,
          0.16,
          0.088,
          0.092,
          0.179,
          0.065,
          0.086,
          0.274,
          0.171,
          0.061,
          0.101,
          0.055,
          0.134,
          0,
          0.111,
          0.12,
          0.173,
          0.216,
          0.064,
          0.149,
          0.187
         ],
         "yaxis": "y"
        },
        {
         "customdata": [
          [
           "Canada"
          ],
          [
           "Costa Rica"
          ],
          [
           "United States"
          ],
          [
           "Mexico"
          ],
          [
           "Chile"
          ],
          [
           "Panama"
          ],
          [
           "Brazil"
          ],
          [
           "Argentina"
          ],
          [
           "Guatemala"
          ],
          [
           "Uruguay"
          ],
          [
           "Colombia"
          ],
          [
           "El Salvador"
          ],
          [
           "Nicaragua"
          ],
          [
           "Ecuador"
          ],
          [
           "Belize"
          ],
          [
           "Jamaica"
          ],
          [
           "Bolivia"
          ],
          [
           "Paraguay"
          ],
          [
           "Peru"
          ],
          [
           "Honduras"
          ],
          [
           "Dominican Republic"
          ],
          [
           "Haiti"
          ]
         ],
         "hovertemplate": "continent=Americas<br>Happiness Score=%{x}<br>Generosity=%{y}<br>Country=%{customdata[0]}<extra></extra>",
         "legendgroup": "Americas",
         "marker": {
          "color": "#EF553B",
          "symbol": "circle"
         },
         "mode": "markers",
         "name": "Americas",
         "orientation": "v",
         "showlegend": true,
         "type": "scatter",
         "x": [
          7.328,
          7.072,
          6.886,
          6.488,
          6.476,
          6.431,
          6.419,
          6.388,
          6.382,
          6.379,
          6.261,
          6.167,
          6.141,
          5.973,
          5.956,
          5.891,
          5.752,
          5.681,
          5.663,
          5.504,
          5.302,
          3.582
         ],
         "xaxis": "x",
         "y": [
          0.321,
          0.143,
          0.291,
          0.069,
          0.197,
          0.125,
          0.11,
          0.062,
          0.179,
          0.13,
          0.099,
          0.065,
          0.208,
          0.114,
          0.183,
          0.096,
          0.141,
          0.162,
          0.092,
          0.197,
          0.12,
          0.392
         ],
         "yaxis": "y"
        },
        {
         "customdata": [
          [
           "New Zealand"
          ],
          [
           "Australia"
          ]
         ],
         "hovertemplate": "continent=Oceania<br>Happiness Score=%{x}<br>Generosity=%{y}<br>Country=%{customdata[0]}<extra></extra>",
         "legendgroup": "Oceania",
         "marker": {
          "color": "#00cc96",
          "symbol": "circle"
         },
         "mode": "markers",
         "name": "Oceania",
         "orientation": "v",
         "showlegend": true,
         "type": "scatter",
         "x": [
          7.324,
          7.272
         ],
         "xaxis": "x",
         "y": [
          0.365,
          0.361
         ],
         "yaxis": "y"
        },
        {
         "customdata": [
          [
           "Israel"
          ],
          [
           "United Arab Emirates"
          ],
          [
           "Taiwan"
          ],
          [
           "Qatar"
          ],
          [
           "Saudi Arabia"
          ],
          [
           "Singapore"
          ],
          [
           "Malaysia"
          ],
          [
           "Bahrain"
          ],
          [
           "Uzbekistan"
          ],
          [
           "Kuwait"
          ],
          [
           "Thailand"
          ],
          [
           "Japan"
          ],
          [
           "South Korea"
          ],
          [
           "Kazakhstan"
          ],
          [
           "Cyprus"
          ],
          [
           "Turkmenistan"
          ],
          [
           "Philippines"
          ],
          [
           "Turkey"
          ],
          [
           "Pakistan"
          ],
          [
           "Hong Kong"
          ],
          [
           "Lebanon"
          ],
          [
           "China"
          ],
          [
           "Azerbaijan"
          ],
          [
           "Tajikistan"
          ],
          [
           "Jordan"
          ],
          [
           "Kyrgyzstan"
          ],
          [
           "Mongolia"
          ],
          [
           "Vietnam"
          ],
          [
           "Indonesia"
          ],
          [
           "Bhutan"
          ],
          [
           "Nepal"
          ],
          [
           "Venezuela"
          ],
          [
           "Laos"
          ],
          [
           "Bangladesh"
          ],
          [
           "Sri Lanka"
          ],
          [
           "Iraq"
          ],
          [
           "Cambodia"
          ],
          [
           "Georgia"
          ],
          [
           "Armenia"
          ],
          [
           "Myanmar"
          ],
          [
           "India"
          ],
          [
           "Afghanistan"
          ],
          [
           "Yemen"
          ]
         ],
         "hovertemplate": "continent=Asia<br>Happiness Score=%{x}<br>Generosity=%{y}<br>Country=%{customdata[0]}<extra></extra>",
         "legendgroup": "Asia",
         "marker": {
          "color": "#ab63fa",
          "symbol": "circle"
         },
         "mode": "markers",
         "name": "Asia",
         "orientation": "v",
         "showlegend": true,
         "type": "scatter",
         "x": [
          6.814,
          6.774,
          6.441,
          6.374,
          6.371,
          6.343,
          6.322,
          6.105,
          6.096,
          6.083,
          6.072,
          5.915,
          5.875,
          5.791,
          5.762,
          5.636,
          5.524,
          5.483,
          5.472,
          5.431,
          5.358,
          5.246,
          5.201,
          5.199,
          5.161,
          5.131,
          5.125,
          5.103,
          5.093,
          5.082,
          4.881,
          4.806,
          4.623,
          4.511,
          4.471,
          4.456,
          4.433,
          4.341,
          4.321,
          4.308,
          4.191,
          3.632,
          3.355
         ],
         "xaxis": "x",
         "y": [
          0.354,
          0.186,
          0.151,
          0.256,
          0.098,
          0.261,
          0.311,
          0.243,
          0.328,
          0.167,
          0.364,
          0.079,
          0.175,
          0.148,
          0.202,
          0.199,
          0.12,
          0.106,
          0.216,
          0.246,
          0.214,
          0.029,
          0.031,
          0.187,
          0.13,
          0.281,
          0.253,
          0.177,
          0.484,
          0.364,
          0.302,
          0.056,
          0.23,
          0.153,
          0.307,
          0.148,
          0.256,
          0.038,
          0.077,
          0.598,
          0.172,
          0.191,
          0.083
         ],
         "yaxis": "y"
        },
        {
         "customdata": [
          [
           "Trinidad & Tobago"
          ],
          [
           "Mauritius"
          ],
          [
           "Libya"
          ],
          [
           "Algeria"
          ],
          [
           "Morocco"
          ],
          [
           "Nigeria"
          ],
          [
           "Somalia"
          ],
          [
           "Cameroon"
          ],
          [
           "Gabon"
          ],
          [
           "Palestinian Territories"
          ],
          [
           "South Africa"
          ],
          [
           "Iran"
          ],
          [
           "Ivory Coast"
          ],
          [
           "Ghana"
          ],
          [
           "Senegal"
          ],
          [
           "Tunisia"
          ],
          [
           "Sierra Leone"
          ],
          [
           "Congo (Brazzaville)"
          ],
          [
           "Mali"
          ],
          [
           "Namibia"
          ],
          [
           "Burkina Faso"
          ],
          [
           "Egypt"
          ],
          [
           "Mozambique"
          ],
          [
           "Kenya"
          ],
          [
           "Zambia"
          ],
          [
           "Mauritania"
          ],
          [
           "Ethiopia"
          ],
          [
           "Chad"
          ],
          [
           "Congo (Kinshasa)"
          ],
          [
           "Niger"
          ],
          [
           "Uganda"
          ],
          [
           "Benin"
          ],
          [
           "Sudan"
          ],
          [
           "Togo"
          ],
          [
           "Guinea"
          ],
          [
           "Lesotho"
          ],
          [
           "Angola"
          ],
          [
           "Madagascar"
          ],
          [
           "Zimbabwe"
          ],
          [
           "Botswana"
          ],
          [
           "Malawi"
          ],
          [
           "Liberia"
          ],
          [
           "Syria"
          ],
          [
           "Rwanda"
          ],
          [
           "Tanzania"
          ],
          [
           "South Sudan"
          ],
          [
           "Central African Republic"
          ],
          [
           "Burundi"
          ]
         ],
         "hovertemplate": "continent=Africa<br>Happiness Score=%{x}<br>Generosity=%{y}<br>Country=%{customdata[0]}<extra></extra>",
         "legendgroup": "Africa",
         "marker": {
          "color": "#FFA15A",
          "symbol": "circle"
         },
         "mode": "markers",
         "name": "Africa",
         "orientation": "v",
         "showlegend": true,
         "type": "scatter",
         "x": [
          6.192,
          5.891,
          5.566,
          5.295,
          5.254,
          5.155,
          4.982,
          4.975,
          4.758,
          4.743,
          4.724,
          4.707,
          4.671,
          4.657,
          4.631,
          4.592,
          4.571,
          4.559,
          4.447,
          4.441,
          4.424,
          4.419,
          4.417,
          4.411,
          4.377,
          4.356,
          4.351,
          4.301,
          4.245,
          4.166,
          4.161,
          4.141,
          4.139,
          3.999,
          3.964,
          3.808,
          3.795,
          3.774,
          3.692,
          3.591,
          3.587,
          3.495,
          3.462,
          3.408,
          3.303,
          3.254,
          3.083,
          2.905
         ],
         "xaxis": "x",
         "y": [
          0.171,
          0.245,
          0.116,
          0.055,
          0.026,
          0.201,
          0.238,
          0.183,
          0.032,
          0.086,
          0.103,
          0.282,
          0.146,
          0.212,
          0.138,
          0.04,
          0.238,
          0.091,
          0.139,
          0.051,
          0.175,
          0.092,
          0.206,
          0.352,
          0.221,
          0.134,
          0.22,
          0.181,
          0.197,
          0.175,
          0.259,
          0.163,
          0.134,
          0.158,
          0.185,
          0.116,
          0.079,
          0.155,
          0.132,
          0.042,
          0.21,
          0.206,
          0.376,
          0.2,
          0.27,
          0.224,
          0.218,
          0.149
         ],
         "yaxis": "y"
        }
       ],
       "layout": {
        "legend": {
         "title": {
          "text": "continent"
         },
         "tracegroupgap": 0
        },
        "margin": {
         "t": 60
        },
        "template": {
         "data": {
          "bar": [
           {
            "error_x": {
             "color": "#2a3f5f"
            },
            "error_y": {
             "color": "#2a3f5f"
            },
            "marker": {
             "line": {
              "color": "#E5ECF6",
              "width": 0.5
             }
            },
            "type": "bar"
           }
          ],
          "barpolar": [
           {
            "marker": {
             "line": {
              "color": "#E5ECF6",
              "width": 0.5
             }
            },
            "type": "barpolar"
           }
          ],
          "carpet": [
           {
            "aaxis": {
             "endlinecolor": "#2a3f5f",
             "gridcolor": "white",
             "linecolor": "white",
             "minorgridcolor": "white",
             "startlinecolor": "#2a3f5f"
            },
            "baxis": {
             "endlinecolor": "#2a3f5f",
             "gridcolor": "white",
             "linecolor": "white",
             "minorgridcolor": "white",
             "startlinecolor": "#2a3f5f"
            },
            "type": "carpet"
           }
          ],
          "choropleth": [
           {
            "colorbar": {
             "outlinewidth": 0,
             "ticks": ""
            },
            "type": "choropleth"
           }
          ],
          "contour": [
           {
            "colorbar": {
             "outlinewidth": 0,
             "ticks": ""
            },
            "colorscale": [
             [
              0,
              "#0d0887"
             ],
             [
              0.1111111111111111,
              "#46039f"
             ],
             [
              0.2222222222222222,
              "#7201a8"
             ],
             [
              0.3333333333333333,
              "#9c179e"
             ],
             [
              0.4444444444444444,
              "#bd3786"
             ],
             [
              0.5555555555555556,
              "#d8576b"
             ],
             [
              0.6666666666666666,
              "#ed7953"
             ],
             [
              0.7777777777777778,
              "#fb9f3a"
             ],
             [
              0.8888888888888888,
              "#fdca26"
             ],
             [
              1,
              "#f0f921"
             ]
            ],
            "type": "contour"
           }
          ],
          "contourcarpet": [
           {
            "colorbar": {
             "outlinewidth": 0,
             "ticks": ""
            },
            "type": "contourcarpet"
           }
          ],
          "heatmap": [
           {
            "colorbar": {
             "outlinewidth": 0,
             "ticks": ""
            },
            "colorscale": [
             [
              0,
              "#0d0887"
             ],
             [
              0.1111111111111111,
              "#46039f"
             ],
             [
              0.2222222222222222,
              "#7201a8"
             ],
             [
              0.3333333333333333,
              "#9c179e"
             ],
             [
              0.4444444444444444,
              "#bd3786"
             ],
             [
              0.5555555555555556,
              "#d8576b"
             ],
             [
              0.6666666666666666,
              "#ed7953"
             ],
             [
              0.7777777777777778,
              "#fb9f3a"
             ],
             [
              0.8888888888888888,
              "#fdca26"
             ],
             [
              1,
              "#f0f921"
             ]
            ],
            "type": "heatmap"
           }
          ],
          "heatmapgl": [
           {
            "colorbar": {
             "outlinewidth": 0,
             "ticks": ""
            },
            "colorscale": [
             [
              0,
              "#0d0887"
             ],
             [
              0.1111111111111111,
              "#46039f"
             ],
             [
              0.2222222222222222,
              "#7201a8"
             ],
             [
              0.3333333333333333,
              "#9c179e"
             ],
             [
              0.4444444444444444,
              "#bd3786"
             ],
             [
              0.5555555555555556,
              "#d8576b"
             ],
             [
              0.6666666666666666,
              "#ed7953"
             ],
             [
              0.7777777777777778,
              "#fb9f3a"
             ],
             [
              0.8888888888888888,
              "#fdca26"
             ],
             [
              1,
              "#f0f921"
             ]
            ],
            "type": "heatmapgl"
           }
          ],
          "histogram": [
           {
            "marker": {
             "colorbar": {
              "outlinewidth": 0,
              "ticks": ""
             }
            },
            "type": "histogram"
           }
          ],
          "histogram2d": [
           {
            "colorbar": {
             "outlinewidth": 0,
             "ticks": ""
            },
            "colorscale": [
             [
              0,
              "#0d0887"
             ],
             [
              0.1111111111111111,
              "#46039f"
             ],
             [
              0.2222222222222222,
              "#7201a8"
             ],
             [
              0.3333333333333333,
              "#9c179e"
             ],
             [
              0.4444444444444444,
              "#bd3786"
             ],
             [
              0.5555555555555556,
              "#d8576b"
             ],
             [
              0.6666666666666666,
              "#ed7953"
             ],
             [
              0.7777777777777778,
              "#fb9f3a"
             ],
             [
              0.8888888888888888,
              "#fdca26"
             ],
             [
              1,
              "#f0f921"
             ]
            ],
            "type": "histogram2d"
           }
          ],
          "histogram2dcontour": [
           {
            "colorbar": {
             "outlinewidth": 0,
             "ticks": ""
            },
            "colorscale": [
             [
              0,
              "#0d0887"
             ],
             [
              0.1111111111111111,
              "#46039f"
             ],
             [
              0.2222222222222222,
              "#7201a8"
             ],
             [
              0.3333333333333333,
              "#9c179e"
             ],
             [
              0.4444444444444444,
              "#bd3786"
             ],
             [
              0.5555555555555556,
              "#d8576b"
             ],
             [
              0.6666666666666666,
              "#ed7953"
             ],
             [
              0.7777777777777778,
              "#fb9f3a"
             ],
             [
              0.8888888888888888,
              "#fdca26"
             ],
             [
              1,
              "#f0f921"
             ]
            ],
            "type": "histogram2dcontour"
           }
          ],
          "mesh3d": [
           {
            "colorbar": {
             "outlinewidth": 0,
             "ticks": ""
            },
            "type": "mesh3d"
           }
          ],
          "parcoords": [
           {
            "line": {
             "colorbar": {
              "outlinewidth": 0,
              "ticks": ""
             }
            },
            "type": "parcoords"
           }
          ],
          "pie": [
           {
            "automargin": true,
            "type": "pie"
           }
          ],
          "scatter": [
           {
            "marker": {
             "colorbar": {
              "outlinewidth": 0,
              "ticks": ""
             }
            },
            "type": "scatter"
           }
          ],
          "scatter3d": [
           {
            "line": {
             "colorbar": {
              "outlinewidth": 0,
              "ticks": ""
             }
            },
            "marker": {
             "colorbar": {
              "outlinewidth": 0,
              "ticks": ""
             }
            },
            "type": "scatter3d"
           }
          ],
          "scattercarpet": [
           {
            "marker": {
             "colorbar": {
              "outlinewidth": 0,
              "ticks": ""
             }
            },
            "type": "scattercarpet"
           }
          ],
          "scattergeo": [
           {
            "marker": {
             "colorbar": {
              "outlinewidth": 0,
              "ticks": ""
             }
            },
            "type": "scattergeo"
           }
          ],
          "scattergl": [
           {
            "marker": {
             "colorbar": {
              "outlinewidth": 0,
              "ticks": ""
             }
            },
            "type": "scattergl"
           }
          ],
          "scattermapbox": [
           {
            "marker": {
             "colorbar": {
              "outlinewidth": 0,
              "ticks": ""
             }
            },
            "type": "scattermapbox"
           }
          ],
          "scatterpolar": [
           {
            "marker": {
             "colorbar": {
              "outlinewidth": 0,
              "ticks": ""
             }
            },
            "type": "scatterpolar"
           }
          ],
          "scatterpolargl": [
           {
            "marker": {
             "colorbar": {
              "outlinewidth": 0,
              "ticks": ""
             }
            },
            "type": "scatterpolargl"
           }
          ],
          "scatterternary": [
           {
            "marker": {
             "colorbar": {
              "outlinewidth": 0,
              "ticks": ""
             }
            },
            "type": "scatterternary"
           }
          ],
          "surface": [
           {
            "colorbar": {
             "outlinewidth": 0,
             "ticks": ""
            },
            "colorscale": [
             [
              0,
              "#0d0887"
             ],
             [
              0.1111111111111111,
              "#46039f"
             ],
             [
              0.2222222222222222,
              "#7201a8"
             ],
             [
              0.3333333333333333,
              "#9c179e"
             ],
             [
              0.4444444444444444,
              "#bd3786"
             ],
             [
              0.5555555555555556,
              "#d8576b"
             ],
             [
              0.6666666666666666,
              "#ed7953"
             ],
             [
              0.7777777777777778,
              "#fb9f3a"
             ],
             [
              0.8888888888888888,
              "#fdca26"
             ],
             [
              1,
              "#f0f921"
             ]
            ],
            "type": "surface"
           }
          ],
          "table": [
           {
            "cells": {
             "fill": {
              "color": "#EBF0F8"
             },
             "line": {
              "color": "white"
             }
            },
            "header": {
             "fill": {
              "color": "#C8D4E3"
             },
             "line": {
              "color": "white"
             }
            },
            "type": "table"
           }
          ]
         },
         "layout": {
          "annotationdefaults": {
           "arrowcolor": "#2a3f5f",
           "arrowhead": 0,
           "arrowwidth": 1
          },
          "autotypenumbers": "strict",
          "coloraxis": {
           "colorbar": {
            "outlinewidth": 0,
            "ticks": ""
           }
          },
          "colorscale": {
           "diverging": [
            [
             0,
             "#8e0152"
            ],
            [
             0.1,
             "#c51b7d"
            ],
            [
             0.2,
             "#de77ae"
            ],
            [
             0.3,
             "#f1b6da"
            ],
            [
             0.4,
             "#fde0ef"
            ],
            [
             0.5,
             "#f7f7f7"
            ],
            [
             0.6,
             "#e6f5d0"
            ],
            [
             0.7,
             "#b8e186"
            ],
            [
             0.8,
             "#7fbc41"
            ],
            [
             0.9,
             "#4d9221"
            ],
            [
             1,
             "#276419"
            ]
           ],
           "sequential": [
            [
             0,
             "#0d0887"
            ],
            [
             0.1111111111111111,
             "#46039f"
            ],
            [
             0.2222222222222222,
             "#7201a8"
            ],
            [
             0.3333333333333333,
             "#9c179e"
            ],
            [
             0.4444444444444444,
             "#bd3786"
            ],
            [
             0.5555555555555556,
             "#d8576b"
            ],
            [
             0.6666666666666666,
             "#ed7953"
            ],
            [
             0.7777777777777778,
             "#fb9f3a"
            ],
            [
             0.8888888888888888,
             "#fdca26"
            ],
            [
             1,
             "#f0f921"
            ]
           ],
           "sequentialminus": [
            [
             0,
             "#0d0887"
            ],
            [
             0.1111111111111111,
             "#46039f"
            ],
            [
             0.2222222222222222,
             "#7201a8"
            ],
            [
             0.3333333333333333,
             "#9c179e"
            ],
            [
             0.4444444444444444,
             "#bd3786"
            ],
            [
             0.5555555555555556,
             "#d8576b"
            ],
            [
             0.6666666666666666,
             "#ed7953"
            ],
            [
             0.7777777777777778,
             "#fb9f3a"
            ],
            [
             0.8888888888888888,
             "#fdca26"
            ],
            [
             1,
             "#f0f921"
            ]
           ]
          },
          "colorway": [
           "#636efa",
           "#EF553B",
           "#00cc96",
           "#ab63fa",
           "#FFA15A",
           "#19d3f3",
           "#FF6692",
           "#B6E880",
           "#FF97FF",
           "#FECB52"
          ],
          "font": {
           "color": "#2a3f5f"
          },
          "geo": {
           "bgcolor": "white",
           "lakecolor": "white",
           "landcolor": "#E5ECF6",
           "showlakes": true,
           "showland": true,
           "subunitcolor": "white"
          },
          "hoverlabel": {
           "align": "left"
          },
          "hovermode": "closest",
          "mapbox": {
           "style": "light"
          },
          "paper_bgcolor": "white",
          "plot_bgcolor": "#E5ECF6",
          "polar": {
           "angularaxis": {
            "gridcolor": "white",
            "linecolor": "white",
            "ticks": ""
           },
           "bgcolor": "#E5ECF6",
           "radialaxis": {
            "gridcolor": "white",
            "linecolor": "white",
            "ticks": ""
           }
          },
          "scene": {
           "xaxis": {
            "backgroundcolor": "#E5ECF6",
            "gridcolor": "white",
            "gridwidth": 2,
            "linecolor": "white",
            "showbackground": true,
            "ticks": "",
            "zerolinecolor": "white"
           },
           "yaxis": {
            "backgroundcolor": "#E5ECF6",
            "gridcolor": "white",
            "gridwidth": 2,
            "linecolor": "white",
            "showbackground": true,
            "ticks": "",
            "zerolinecolor": "white"
           },
           "zaxis": {
            "backgroundcolor": "#E5ECF6",
            "gridcolor": "white",
            "gridwidth": 2,
            "linecolor": "white",
            "showbackground": true,
            "ticks": "",
            "zerolinecolor": "white"
           }
          },
          "shapedefaults": {
           "line": {
            "color": "#2a3f5f"
           }
          },
          "ternary": {
           "aaxis": {
            "gridcolor": "white",
            "linecolor": "white",
            "ticks": ""
           },
           "baxis": {
            "gridcolor": "white",
            "linecolor": "white",
            "ticks": ""
           },
           "bgcolor": "#E5ECF6",
           "caxis": {
            "gridcolor": "white",
            "linecolor": "white",
            "ticks": ""
           }
          },
          "title": {
           "x": 0.05
          },
          "xaxis": {
           "automargin": true,
           "gridcolor": "white",
           "linecolor": "white",
           "ticks": "",
           "title": {
            "standoff": 15
           },
           "zerolinecolor": "white",
           "zerolinewidth": 2
          },
          "yaxis": {
           "automargin": true,
           "gridcolor": "white",
           "linecolor": "white",
           "ticks": "",
           "title": {
            "standoff": 15
           },
           "zerolinecolor": "white",
           "zerolinewidth": 2
          }
         }
        },
        "xaxis": {
         "anchor": "y",
         "domain": [
          0,
          1
         ],
         "title": {
          "text": "Happiness Score"
         }
        },
        "yaxis": {
         "anchor": "x",
         "domain": [
          0,
          1
         ],
         "title": {
          "text": "Generosity"
         }
        }
       }
      },
      "text/html": [
       "<div>                            <div id=\"aeee6711-f741-4837-b0ea-963d7d6eaa31\" class=\"plotly-graph-div\" style=\"height:525px; width:100%;\"></div>            <script type=\"text/javascript\">                require([\"plotly\"], function(Plotly) {                    window.PLOTLYENV=window.PLOTLYENV || {};                                    if (document.getElementById(\"aeee6711-f741-4837-b0ea-963d7d6eaa31\")) {                    Plotly.newPlot(                        \"aeee6711-f741-4837-b0ea-963d7d6eaa31\",                        [{\"customdata\": [[\"Finland\"], [\"Norway\"], [\"Denmark\"], [\"Iceland\"], [\"Switzerland\"], [\"Netherlands\"], [\"Sweden\"], [\"United Kingdom\"], [\"Austria\"], [\"Ireland\"], [\"Germany\"], [\"Belgium\"], [\"Luxembourg\"], [\"Czech Republic\"], [\"Malta\"], [\"France\"], [\"Spain\"], [\"Slovakia\"], [\"Poland\"], [\"Italy\"], [\"Lithuania\"], [\"Slovenia\"], [\"Romania\"], [\"Latvia\"], [\"Northern Cyprus\"], [\"Russia\"], [\"Estonia\"], [\"Kosovo\"], [\"Moldova\"], [\"Hungary\"], [\"Belarus\"], [\"Portugal\"], [\"Serbia\"], [\"Greece\"], [\"Montenegro\"], [\"Croatia\"], [\"Macedonia\"], [\"Bosnia and Herzegovina\"], [\"Bulgaria\"], [\"Albania\"], [\"Ukraine\"]], \"hovertemplate\": \"continent=Europe<br>Happiness Score=%{x}<br>Generosity=%{y}<br>Country=%{customdata[0]}<extra></extra>\", \"legendgroup\": \"Europe\", \"marker\": {\"color\": \"#636efa\", \"symbol\": \"circle\"}, \"mode\": \"markers\", \"name\": \"Europe\", \"orientation\": \"v\", \"showlegend\": true, \"type\": \"scatter\", \"x\": [7.632, 7.594, 7.555, 7.495, 7.487, 7.441, 7.314, 7.191, 7.139, 6.977, 6.965, 6.927, 6.911, 6.711, 6.627, 6.489, 6.311, 6.173, 6.123, 6.011, 5.952, 5.948, 5.945, 5.933, 5.835, 5.811, 5.739, 5.662, 5.641, 5.621, 5.483, 5.411, 5.398, 5.358, 5.347, 5.321, 5.185, 5.129, 4.933, 4.586, 4.103], \"xaxis\": \"x\", \"y\": [0.202, 0.286, 0.284, 0.353, 0.256, 0.333, 0.285, 0.262, 0.242, 0.307, 0.273, 0.188, 0.196, 0.064, 0.376, 0.098, 0.142, 0.118, 0.108, 0.137, 0.026, 0.16, 0.088, 0.092, 0.179, 0.065, 0.086, 0.274, 0.171, 0.061, 0.101, 0.055, 0.134, 0.0, 0.111, 0.12, 0.173, 0.216, 0.064, 0.149, 0.187], \"yaxis\": \"y\"}, {\"customdata\": [[\"Canada\"], [\"Costa Rica\"], [\"United States\"], [\"Mexico\"], [\"Chile\"], [\"Panama\"], [\"Brazil\"], [\"Argentina\"], [\"Guatemala\"], [\"Uruguay\"], [\"Colombia\"], [\"El Salvador\"], [\"Nicaragua\"], [\"Ecuador\"], [\"Belize\"], [\"Jamaica\"], [\"Bolivia\"], [\"Paraguay\"], [\"Peru\"], [\"Honduras\"], [\"Dominican Republic\"], [\"Haiti\"]], \"hovertemplate\": \"continent=Americas<br>Happiness Score=%{x}<br>Generosity=%{y}<br>Country=%{customdata[0]}<extra></extra>\", \"legendgroup\": \"Americas\", \"marker\": {\"color\": \"#EF553B\", \"symbol\": \"circle\"}, \"mode\": \"markers\", \"name\": \"Americas\", \"orientation\": \"v\", \"showlegend\": true, \"type\": \"scatter\", \"x\": [7.328, 7.072, 6.886, 6.488, 6.476, 6.431, 6.419, 6.388, 6.382, 6.379, 6.261, 6.167, 6.141, 5.973, 5.956, 5.891, 5.752, 5.681, 5.663, 5.504, 5.302, 3.582], \"xaxis\": \"x\", \"y\": [0.321, 0.143, 0.291, 0.069, 0.197, 0.125, 0.11, 0.062, 0.179, 0.13, 0.099, 0.065, 0.208, 0.114, 0.183, 0.096, 0.141, 0.162, 0.092, 0.197, 0.12, 0.392], \"yaxis\": \"y\"}, {\"customdata\": [[\"New Zealand\"], [\"Australia\"]], \"hovertemplate\": \"continent=Oceania<br>Happiness Score=%{x}<br>Generosity=%{y}<br>Country=%{customdata[0]}<extra></extra>\", \"legendgroup\": \"Oceania\", \"marker\": {\"color\": \"#00cc96\", \"symbol\": \"circle\"}, \"mode\": \"markers\", \"name\": \"Oceania\", \"orientation\": \"v\", \"showlegend\": true, \"type\": \"scatter\", \"x\": [7.324, 7.272], \"xaxis\": \"x\", \"y\": [0.365, 0.361], \"yaxis\": \"y\"}, {\"customdata\": [[\"Israel\"], [\"United Arab Emirates\"], [\"Taiwan\"], [\"Qatar\"], [\"Saudi Arabia\"], [\"Singapore\"], [\"Malaysia\"], [\"Bahrain\"], [\"Uzbekistan\"], [\"Kuwait\"], [\"Thailand\"], [\"Japan\"], [\"South Korea\"], [\"Kazakhstan\"], [\"Cyprus\"], [\"Turkmenistan\"], [\"Philippines\"], [\"Turkey\"], [\"Pakistan\"], [\"Hong Kong\"], [\"Lebanon\"], [\"China\"], [\"Azerbaijan\"], [\"Tajikistan\"], [\"Jordan\"], [\"Kyrgyzstan\"], [\"Mongolia\"], [\"Vietnam\"], [\"Indonesia\"], [\"Bhutan\"], [\"Nepal\"], [\"Venezuela\"], [\"Laos\"], [\"Bangladesh\"], [\"Sri Lanka\"], [\"Iraq\"], [\"Cambodia\"], [\"Georgia\"], [\"Armenia\"], [\"Myanmar\"], [\"India\"], [\"Afghanistan\"], [\"Yemen\"]], \"hovertemplate\": \"continent=Asia<br>Happiness Score=%{x}<br>Generosity=%{y}<br>Country=%{customdata[0]}<extra></extra>\", \"legendgroup\": \"Asia\", \"marker\": {\"color\": \"#ab63fa\", \"symbol\": \"circle\"}, \"mode\": \"markers\", \"name\": \"Asia\", \"orientation\": \"v\", \"showlegend\": true, \"type\": \"scatter\", \"x\": [6.814, 6.774, 6.441, 6.374, 6.371, 6.343, 6.322, 6.105, 6.096, 6.083, 6.072, 5.915, 5.875, 5.791, 5.762, 5.636, 5.524, 5.483, 5.472, 5.431, 5.358, 5.246, 5.201, 5.199, 5.161, 5.131, 5.125, 5.103, 5.093, 5.082, 4.881, 4.806, 4.623, 4.511, 4.471, 4.456, 4.433, 4.341, 4.321, 4.308, 4.191, 3.632, 3.355], \"xaxis\": \"x\", \"y\": [0.354, 0.186, 0.151, 0.256, 0.098, 0.261, 0.311, 0.243, 0.328, 0.167, 0.364, 0.079, 0.175, 0.148, 0.202, 0.199, 0.12, 0.106, 0.216, 0.246, 0.214, 0.029, 0.031, 0.187, 0.13, 0.281, 0.253, 0.177, 0.484, 0.364, 0.302, 0.056, 0.23, 0.153, 0.307, 0.148, 0.256, 0.038, 0.077, 0.598, 0.172, 0.191, 0.083], \"yaxis\": \"y\"}, {\"customdata\": [[\"Trinidad & Tobago\"], [\"Mauritius\"], [\"Libya\"], [\"Algeria\"], [\"Morocco\"], [\"Nigeria\"], [\"Somalia\"], [\"Cameroon\"], [\"Gabon\"], [\"Palestinian Territories\"], [\"South Africa\"], [\"Iran\"], [\"Ivory Coast\"], [\"Ghana\"], [\"Senegal\"], [\"Tunisia\"], [\"Sierra Leone\"], [\"Congo (Brazzaville)\"], [\"Mali\"], [\"Namibia\"], [\"Burkina Faso\"], [\"Egypt\"], [\"Mozambique\"], [\"Kenya\"], [\"Zambia\"], [\"Mauritania\"], [\"Ethiopia\"], [\"Chad\"], [\"Congo (Kinshasa)\"], [\"Niger\"], [\"Uganda\"], [\"Benin\"], [\"Sudan\"], [\"Togo\"], [\"Guinea\"], [\"Lesotho\"], [\"Angola\"], [\"Madagascar\"], [\"Zimbabwe\"], [\"Botswana\"], [\"Malawi\"], [\"Liberia\"], [\"Syria\"], [\"Rwanda\"], [\"Tanzania\"], [\"South Sudan\"], [\"Central African Republic\"], [\"Burundi\"]], \"hovertemplate\": \"continent=Africa<br>Happiness Score=%{x}<br>Generosity=%{y}<br>Country=%{customdata[0]}<extra></extra>\", \"legendgroup\": \"Africa\", \"marker\": {\"color\": \"#FFA15A\", \"symbol\": \"circle\"}, \"mode\": \"markers\", \"name\": \"Africa\", \"orientation\": \"v\", \"showlegend\": true, \"type\": \"scatter\", \"x\": [6.192, 5.891, 5.566, 5.295, 5.254, 5.155, 4.982, 4.975, 4.758, 4.743, 4.724, 4.707, 4.671, 4.657, 4.631, 4.592, 4.571, 4.559, 4.447, 4.441, 4.424, 4.419, 4.417, 4.411, 4.377, 4.356, 4.351, 4.301, 4.245, 4.166, 4.161, 4.141, 4.139, 3.999, 3.964, 3.808, 3.795, 3.774, 3.692, 3.591, 3.587, 3.495, 3.462, 3.408, 3.303, 3.254, 3.083, 2.905], \"xaxis\": \"x\", \"y\": [0.171, 0.245, 0.116, 0.055, 0.026, 0.201, 0.238, 0.183, 0.032, 0.086, 0.103, 0.282, 0.146, 0.212, 0.138, 0.04, 0.238, 0.091, 0.139, 0.051, 0.175, 0.092, 0.206, 0.352, 0.221, 0.134, 0.22, 0.181, 0.197, 0.175, 0.259, 0.163, 0.134, 0.158, 0.185, 0.116, 0.079, 0.155, 0.132, 0.042, 0.21, 0.206, 0.376, 0.2, 0.27, 0.224, 0.218, 0.149], \"yaxis\": \"y\"}],                        {\"legend\": {\"title\": {\"text\": \"continent\"}, \"tracegroupgap\": 0}, \"margin\": {\"t\": 60}, \"template\": {\"data\": {\"bar\": [{\"error_x\": {\"color\": \"#2a3f5f\"}, \"error_y\": {\"color\": \"#2a3f5f\"}, \"marker\": {\"line\": {\"color\": \"#E5ECF6\", \"width\": 0.5}}, \"type\": \"bar\"}], \"barpolar\": [{\"marker\": {\"line\": {\"color\": \"#E5ECF6\", \"width\": 0.5}}, \"type\": \"barpolar\"}], \"carpet\": [{\"aaxis\": {\"endlinecolor\": \"#2a3f5f\", \"gridcolor\": \"white\", \"linecolor\": \"white\", \"minorgridcolor\": \"white\", \"startlinecolor\": \"#2a3f5f\"}, \"baxis\": {\"endlinecolor\": \"#2a3f5f\", \"gridcolor\": \"white\", \"linecolor\": \"white\", \"minorgridcolor\": \"white\", \"startlinecolor\": \"#2a3f5f\"}, \"type\": \"carpet\"}], \"choropleth\": [{\"colorbar\": {\"outlinewidth\": 0, \"ticks\": \"\"}, \"type\": \"choropleth\"}], \"contour\": [{\"colorbar\": {\"outlinewidth\": 0, \"ticks\": \"\"}, \"colorscale\": [[0.0, \"#0d0887\"], [0.1111111111111111, \"#46039f\"], [0.2222222222222222, \"#7201a8\"], [0.3333333333333333, \"#9c179e\"], [0.4444444444444444, \"#bd3786\"], [0.5555555555555556, \"#d8576b\"], [0.6666666666666666, \"#ed7953\"], [0.7777777777777778, \"#fb9f3a\"], [0.8888888888888888, \"#fdca26\"], [1.0, \"#f0f921\"]], \"type\": \"contour\"}], \"contourcarpet\": [{\"colorbar\": {\"outlinewidth\": 0, \"ticks\": \"\"}, \"type\": \"contourcarpet\"}], \"heatmap\": [{\"colorbar\": {\"outlinewidth\": 0, \"ticks\": \"\"}, \"colorscale\": [[0.0, \"#0d0887\"], [0.1111111111111111, \"#46039f\"], [0.2222222222222222, \"#7201a8\"], [0.3333333333333333, \"#9c179e\"], [0.4444444444444444, \"#bd3786\"], [0.5555555555555556, \"#d8576b\"], [0.6666666666666666, \"#ed7953\"], [0.7777777777777778, \"#fb9f3a\"], [0.8888888888888888, \"#fdca26\"], [1.0, \"#f0f921\"]], \"type\": \"heatmap\"}], \"heatmapgl\": [{\"colorbar\": {\"outlinewidth\": 0, \"ticks\": \"\"}, \"colorscale\": [[0.0, \"#0d0887\"], [0.1111111111111111, \"#46039f\"], [0.2222222222222222, \"#7201a8\"], [0.3333333333333333, \"#9c179e\"], [0.4444444444444444, \"#bd3786\"], [0.5555555555555556, \"#d8576b\"], [0.6666666666666666, \"#ed7953\"], [0.7777777777777778, \"#fb9f3a\"], [0.8888888888888888, \"#fdca26\"], [1.0, \"#f0f921\"]], \"type\": \"heatmapgl\"}], \"histogram\": [{\"marker\": {\"colorbar\": {\"outlinewidth\": 0, \"ticks\": \"\"}}, \"type\": \"histogram\"}], \"histogram2d\": [{\"colorbar\": {\"outlinewidth\": 0, \"ticks\": \"\"}, \"colorscale\": [[0.0, \"#0d0887\"], [0.1111111111111111, \"#46039f\"], [0.2222222222222222, \"#7201a8\"], [0.3333333333333333, \"#9c179e\"], [0.4444444444444444, \"#bd3786\"], [0.5555555555555556, \"#d8576b\"], [0.6666666666666666, \"#ed7953\"], [0.7777777777777778, \"#fb9f3a\"], [0.8888888888888888, \"#fdca26\"], [1.0, \"#f0f921\"]], \"type\": \"histogram2d\"}], \"histogram2dcontour\": [{\"colorbar\": {\"outlinewidth\": 0, \"ticks\": \"\"}, \"colorscale\": [[0.0, \"#0d0887\"], [0.1111111111111111, \"#46039f\"], [0.2222222222222222, \"#7201a8\"], [0.3333333333333333, \"#9c179e\"], [0.4444444444444444, \"#bd3786\"], [0.5555555555555556, \"#d8576b\"], [0.6666666666666666, \"#ed7953\"], [0.7777777777777778, \"#fb9f3a\"], [0.8888888888888888, \"#fdca26\"], [1.0, \"#f0f921\"]], \"type\": \"histogram2dcontour\"}], \"mesh3d\": [{\"colorbar\": {\"outlinewidth\": 0, \"ticks\": \"\"}, \"type\": \"mesh3d\"}], \"parcoords\": [{\"line\": {\"colorbar\": {\"outlinewidth\": 0, \"ticks\": \"\"}}, \"type\": \"parcoords\"}], \"pie\": [{\"automargin\": true, \"type\": \"pie\"}], \"scatter\": [{\"marker\": {\"colorbar\": {\"outlinewidth\": 0, \"ticks\": \"\"}}, \"type\": \"scatter\"}], \"scatter3d\": [{\"line\": {\"colorbar\": {\"outlinewidth\": 0, \"ticks\": \"\"}}, \"marker\": {\"colorbar\": {\"outlinewidth\": 0, \"ticks\": \"\"}}, \"type\": \"scatter3d\"}], \"scattercarpet\": [{\"marker\": {\"colorbar\": {\"outlinewidth\": 0, \"ticks\": \"\"}}, \"type\": \"scattercarpet\"}], \"scattergeo\": [{\"marker\": {\"colorbar\": {\"outlinewidth\": 0, \"ticks\": \"\"}}, \"type\": \"scattergeo\"}], \"scattergl\": [{\"marker\": {\"colorbar\": {\"outlinewidth\": 0, \"ticks\": \"\"}}, \"type\": \"scattergl\"}], \"scattermapbox\": [{\"marker\": {\"colorbar\": {\"outlinewidth\": 0, \"ticks\": \"\"}}, \"type\": \"scattermapbox\"}], \"scatterpolar\": [{\"marker\": {\"colorbar\": {\"outlinewidth\": 0, \"ticks\": \"\"}}, \"type\": \"scatterpolar\"}], \"scatterpolargl\": [{\"marker\": {\"colorbar\": {\"outlinewidth\": 0, \"ticks\": \"\"}}, \"type\": \"scatterpolargl\"}], \"scatterternary\": [{\"marker\": {\"colorbar\": {\"outlinewidth\": 0, \"ticks\": \"\"}}, \"type\": \"scatterternary\"}], \"surface\": [{\"colorbar\": {\"outlinewidth\": 0, \"ticks\": \"\"}, \"colorscale\": [[0.0, \"#0d0887\"], [0.1111111111111111, \"#46039f\"], [0.2222222222222222, \"#7201a8\"], [0.3333333333333333, \"#9c179e\"], [0.4444444444444444, \"#bd3786\"], [0.5555555555555556, \"#d8576b\"], [0.6666666666666666, \"#ed7953\"], [0.7777777777777778, \"#fb9f3a\"], [0.8888888888888888, \"#fdca26\"], [1.0, \"#f0f921\"]], \"type\": \"surface\"}], \"table\": [{\"cells\": {\"fill\": {\"color\": \"#EBF0F8\"}, \"line\": {\"color\": \"white\"}}, \"header\": {\"fill\": {\"color\": \"#C8D4E3\"}, \"line\": {\"color\": \"white\"}}, \"type\": \"table\"}]}, \"layout\": {\"annotationdefaults\": {\"arrowcolor\": \"#2a3f5f\", \"arrowhead\": 0, \"arrowwidth\": 1}, \"autotypenumbers\": \"strict\", \"coloraxis\": {\"colorbar\": {\"outlinewidth\": 0, \"ticks\": \"\"}}, \"colorscale\": {\"diverging\": [[0, \"#8e0152\"], [0.1, \"#c51b7d\"], [0.2, \"#de77ae\"], [0.3, \"#f1b6da\"], [0.4, \"#fde0ef\"], [0.5, \"#f7f7f7\"], [0.6, \"#e6f5d0\"], [0.7, \"#b8e186\"], [0.8, \"#7fbc41\"], [0.9, \"#4d9221\"], [1, \"#276419\"]], \"sequential\": [[0.0, \"#0d0887\"], [0.1111111111111111, \"#46039f\"], [0.2222222222222222, \"#7201a8\"], [0.3333333333333333, \"#9c179e\"], [0.4444444444444444, \"#bd3786\"], [0.5555555555555556, \"#d8576b\"], [0.6666666666666666, \"#ed7953\"], [0.7777777777777778, \"#fb9f3a\"], [0.8888888888888888, \"#fdca26\"], [1.0, \"#f0f921\"]], \"sequentialminus\": [[0.0, \"#0d0887\"], [0.1111111111111111, \"#46039f\"], [0.2222222222222222, \"#7201a8\"], [0.3333333333333333, \"#9c179e\"], [0.4444444444444444, \"#bd3786\"], [0.5555555555555556, \"#d8576b\"], [0.6666666666666666, \"#ed7953\"], [0.7777777777777778, \"#fb9f3a\"], [0.8888888888888888, \"#fdca26\"], [1.0, \"#f0f921\"]]}, \"colorway\": [\"#636efa\", \"#EF553B\", \"#00cc96\", \"#ab63fa\", \"#FFA15A\", \"#19d3f3\", \"#FF6692\", \"#B6E880\", \"#FF97FF\", \"#FECB52\"], \"font\": {\"color\": \"#2a3f5f\"}, \"geo\": {\"bgcolor\": \"white\", \"lakecolor\": \"white\", \"landcolor\": \"#E5ECF6\", \"showlakes\": true, \"showland\": true, \"subunitcolor\": \"white\"}, \"hoverlabel\": {\"align\": \"left\"}, \"hovermode\": \"closest\", \"mapbox\": {\"style\": \"light\"}, \"paper_bgcolor\": \"white\", \"plot_bgcolor\": \"#E5ECF6\", \"polar\": {\"angularaxis\": {\"gridcolor\": \"white\", \"linecolor\": \"white\", \"ticks\": \"\"}, \"bgcolor\": \"#E5ECF6\", \"radialaxis\": {\"gridcolor\": \"white\", \"linecolor\": \"white\", \"ticks\": \"\"}}, \"scene\": {\"xaxis\": {\"backgroundcolor\": \"#E5ECF6\", \"gridcolor\": \"white\", \"gridwidth\": 2, \"linecolor\": \"white\", \"showbackground\": true, \"ticks\": \"\", \"zerolinecolor\": \"white\"}, \"yaxis\": {\"backgroundcolor\": \"#E5ECF6\", \"gridcolor\": \"white\", \"gridwidth\": 2, \"linecolor\": \"white\", \"showbackground\": true, \"ticks\": \"\", \"zerolinecolor\": \"white\"}, \"zaxis\": {\"backgroundcolor\": \"#E5ECF6\", \"gridcolor\": \"white\", \"gridwidth\": 2, \"linecolor\": \"white\", \"showbackground\": true, \"ticks\": \"\", \"zerolinecolor\": \"white\"}}, \"shapedefaults\": {\"line\": {\"color\": \"#2a3f5f\"}}, \"ternary\": {\"aaxis\": {\"gridcolor\": \"white\", \"linecolor\": \"white\", \"ticks\": \"\"}, \"baxis\": {\"gridcolor\": \"white\", \"linecolor\": \"white\", \"ticks\": \"\"}, \"bgcolor\": \"#E5ECF6\", \"caxis\": {\"gridcolor\": \"white\", \"linecolor\": \"white\", \"ticks\": \"\"}}, \"title\": {\"x\": 0.05}, \"xaxis\": {\"automargin\": true, \"gridcolor\": \"white\", \"linecolor\": \"white\", \"ticks\": \"\", \"title\": {\"standoff\": 15}, \"zerolinecolor\": \"white\", \"zerolinewidth\": 2}, \"yaxis\": {\"automargin\": true, \"gridcolor\": \"white\", \"linecolor\": \"white\", \"ticks\": \"\", \"title\": {\"standoff\": 15}, \"zerolinecolor\": \"white\", \"zerolinewidth\": 2}}}, \"xaxis\": {\"anchor\": \"y\", \"domain\": [0.0, 1.0], \"title\": {\"text\": \"Happiness Score\"}}, \"yaxis\": {\"anchor\": \"x\", \"domain\": [0.0, 1.0], \"title\": {\"text\": \"Generosity\"}}},                        {\"responsive\": true}                    ).then(function(){\n",
       "                            \n",
       "var gd = document.getElementById('aeee6711-f741-4837-b0ea-963d7d6eaa31');\n",
       "var x = new MutationObserver(function (mutations, observer) {{\n",
       "        var display = window.getComputedStyle(gd).display;\n",
       "        if (!display || display === 'none') {{\n",
       "            console.log([gd, 'removed!']);\n",
       "            Plotly.purge(gd);\n",
       "            observer.disconnect();\n",
       "        }}\n",
       "}});\n",
       "\n",
       "// Listen for the removal of the full notebook cells\n",
       "var notebookContainer = gd.closest('#notebook-container');\n",
       "if (notebookContainer) {{\n",
       "    x.observe(notebookContainer, {childList: true});\n",
       "}}\n",
       "\n",
       "// Listen for the clearing of the current output cell\n",
       "var outputEl = gd.closest('.output');\n",
       "if (outputEl) {{\n",
       "    x.observe(outputEl, {childList: true});\n",
       "}}\n",
       "\n",
       "                        })                };                });            </script>        </div>"
      ]
     },
     "metadata": {},
     "output_type": "display_data"
    }
   ],
   "source": [
    "fig3 = px.scatter(data1, x = data1[\"Happiness Score\"], y=data1[\"Generosity\"], color=data1[\"continent\"],\n",
    "        hover_data=[\"Country\"])\n",
    "\n",
    "\n",
    "fig3"
   ]
  },
  {
   "cell_type": "code",
   "execution_count": 16,
   "metadata": {
    "ExecuteTime": {
     "end_time": "2021-02-17T14:20:36.970994Z",
     "start_time": "2021-02-17T14:20:36.884104Z"
    }
   },
   "outputs": [
    {
     "data": {
      "application/vnd.plotly.v1+json": {
       "config": {
        "plotlyServerURL": "https://plotly.com"
       },
       "data": [
        {
         "customdata": [
          [
           "Finland"
          ],
          [
           "Norway"
          ],
          [
           "Denmark"
          ],
          [
           "Iceland"
          ],
          [
           "Switzerland"
          ],
          [
           "Netherlands"
          ],
          [
           "Sweden"
          ],
          [
           "United Kingdom"
          ],
          [
           "Austria"
          ],
          [
           "Ireland"
          ],
          [
           "Germany"
          ],
          [
           "Belgium"
          ],
          [
           "Luxembourg"
          ],
          [
           "Czech Republic"
          ],
          [
           "Malta"
          ],
          [
           "France"
          ],
          [
           "Spain"
          ],
          [
           "Slovakia"
          ],
          [
           "Poland"
          ],
          [
           "Italy"
          ],
          [
           "Lithuania"
          ],
          [
           "Slovenia"
          ],
          [
           "Romania"
          ],
          [
           "Latvia"
          ],
          [
           "Northern Cyprus"
          ],
          [
           "Russia"
          ],
          [
           "Estonia"
          ],
          [
           "Kosovo"
          ],
          [
           "Moldova"
          ],
          [
           "Hungary"
          ],
          [
           "Belarus"
          ],
          [
           "Portugal"
          ],
          [
           "Serbia"
          ],
          [
           "Greece"
          ],
          [
           "Montenegro"
          ],
          [
           "Croatia"
          ],
          [
           "Macedonia"
          ],
          [
           "Bosnia and Herzegovina"
          ],
          [
           "Bulgaria"
          ],
          [
           "Albania"
          ],
          [
           "Ukraine"
          ]
         ],
         "hovertemplate": "continent=Europe<br>Happiness Score=%{x}<br>Perceptions of corruption=%{y}<br>Country=%{customdata[0]}<extra></extra>",
         "legendgroup": "Europe",
         "marker": {
          "color": "#636efa",
          "symbol": "circle"
         },
         "mode": "markers",
         "name": "Europe",
         "orientation": "v",
         "showlegend": true,
         "type": "scatter",
         "x": [
          7.632,
          7.594,
          7.555,
          7.495,
          7.487,
          7.441,
          7.314,
          7.191,
          7.139,
          6.977,
          6.965,
          6.927,
          6.911,
          6.711,
          6.627,
          6.489,
          6.311,
          6.173,
          6.123,
          6.011,
          5.952,
          5.948,
          5.945,
          5.933,
          5.835,
          5.811,
          5.739,
          5.662,
          5.641,
          5.621,
          5.483,
          5.411,
          5.398,
          5.358,
          5.347,
          5.321,
          5.185,
          5.129,
          4.933,
          4.586,
          4.103
         ],
         "xaxis": "x",
         "y": [
          0.393,
          0.34,
          0.408,
          0.138,
          0.357,
          0.295,
          0.383,
          0.082,
          0.224,
          0.306,
          0.28,
          0.24,
          0.321,
          0.034,
          0.142,
          0.176,
          0.074,
          0.014,
          0.064,
          0.028,
          0.006,
          0.051,
          0.001,
          0.066,
          0.154,
          0.025,
          0.174,
          0.023,
          0,
          0.022,
          0.154,
          0.017,
          0.043,
          0.044,
          0.081,
          0.039,
          0.052,
          0,
          0.009,
          0.032,
          0.011
         ],
         "yaxis": "y"
        },
        {
         "customdata": [
          [
           "Canada"
          ],
          [
           "Costa Rica"
          ],
          [
           "United States"
          ],
          [
           "Mexico"
          ],
          [
           "Chile"
          ],
          [
           "Panama"
          ],
          [
           "Brazil"
          ],
          [
           "Argentina"
          ],
          [
           "Guatemala"
          ],
          [
           "Uruguay"
          ],
          [
           "Colombia"
          ],
          [
           "El Salvador"
          ],
          [
           "Nicaragua"
          ],
          [
           "Ecuador"
          ],
          [
           "Belize"
          ],
          [
           "Jamaica"
          ],
          [
           "Bolivia"
          ],
          [
           "Paraguay"
          ],
          [
           "Peru"
          ],
          [
           "Honduras"
          ],
          [
           "Dominican Republic"
          ],
          [
           "Haiti"
          ]
         ],
         "hovertemplate": "continent=Americas<br>Happiness Score=%{x}<br>Perceptions of corruption=%{y}<br>Country=%{customdata[0]}<extra></extra>",
         "legendgroup": "Americas",
         "marker": {
          "color": "#EF553B",
          "symbol": "circle"
         },
         "mode": "markers",
         "name": "Americas",
         "orientation": "v",
         "showlegend": true,
         "type": "scatter",
         "x": [
          7.328,
          7.072,
          6.886,
          6.488,
          6.476,
          6.431,
          6.419,
          6.388,
          6.382,
          6.379,
          6.261,
          6.167,
          6.141,
          5.973,
          5.956,
          5.891,
          5.752,
          5.681,
          5.663,
          5.504,
          5.302,
          3.582
         ],
         "xaxis": "x",
         "y": [
          0.291,
          0.101,
          0.133,
          0.095,
          0.061,
          0.063,
          0.088,
          0.054,
          0.071,
          0.155,
          0.039,
          0.082,
          0.128,
          0.12,
          0.089,
          0.031,
          0.054,
          0.074,
          0.034,
          0.074,
          0.106,
          0.104
         ],
         "yaxis": "y"
        },
        {
         "customdata": [
          [
           "New Zealand"
          ],
          [
           "Australia"
          ]
         ],
         "hovertemplate": "continent=Oceania<br>Happiness Score=%{x}<br>Perceptions of corruption=%{y}<br>Country=%{customdata[0]}<extra></extra>",
         "legendgroup": "Oceania",
         "marker": {
          "color": "#00cc96",
          "symbol": "circle"
         },
         "mode": "markers",
         "name": "Oceania",
         "orientation": "v",
         "showlegend": true,
         "type": "scatter",
         "x": [
          7.324,
          7.272
         ],
         "xaxis": "x",
         "y": [
          0.389,
          0.302
         ],
         "yaxis": "y"
        },
        {
         "customdata": [
          [
           "Israel"
          ],
          [
           "United Arab Emirates"
          ],
          [
           "Taiwan"
          ],
          [
           "Qatar"
          ],
          [
           "Saudi Arabia"
          ],
          [
           "Singapore"
          ],
          [
           "Malaysia"
          ],
          [
           "Bahrain"
          ],
          [
           "Uzbekistan"
          ],
          [
           "Kuwait"
          ],
          [
           "Thailand"
          ],
          [
           "Japan"
          ],
          [
           "South Korea"
          ],
          [
           "Kazakhstan"
          ],
          [
           "Cyprus"
          ],
          [
           "Turkmenistan"
          ],
          [
           "Philippines"
          ],
          [
           "Turkey"
          ],
          [
           "Pakistan"
          ],
          [
           "Hong Kong"
          ],
          [
           "Lebanon"
          ],
          [
           "China"
          ],
          [
           "Azerbaijan"
          ],
          [
           "Tajikistan"
          ],
          [
           "Jordan"
          ],
          [
           "Kyrgyzstan"
          ],
          [
           "Mongolia"
          ],
          [
           "Vietnam"
          ],
          [
           "Indonesia"
          ],
          [
           "Bhutan"
          ],
          [
           "Nepal"
          ],
          [
           "Venezuela"
          ],
          [
           "Laos"
          ],
          [
           "Bangladesh"
          ],
          [
           "Sri Lanka"
          ],
          [
           "Iraq"
          ],
          [
           "Cambodia"
          ],
          [
           "Georgia"
          ],
          [
           "Armenia"
          ],
          [
           "Myanmar"
          ],
          [
           "India"
          ],
          [
           "Afghanistan"
          ],
          [
           "Yemen"
          ]
         ],
         "hovertemplate": "continent=Asia<br>Happiness Score=%{x}<br>Perceptions of corruption=%{y}<br>Country=%{customdata[0]}<extra></extra>",
         "legendgroup": "Asia",
         "marker": {
          "color": "#ab63fa",
          "symbol": "circle"
         },
         "mode": "markers",
         "name": "Asia",
         "orientation": "v",
         "showlegend": true,
         "type": "scatter",
         "x": [
          6.814,
          6.774,
          6.441,
          6.374,
          6.371,
          6.343,
          6.322,
          6.105,
          6.096,
          6.083,
          6.072,
          5.915,
          5.875,
          5.791,
          5.762,
          5.636,
          5.524,
          5.483,
          5.472,
          5.431,
          5.358,
          5.246,
          5.201,
          5.199,
          5.161,
          5.131,
          5.125,
          5.103,
          5.093,
          5.082,
          4.881,
          4.806,
          4.623,
          4.511,
          4.471,
          4.456,
          4.433,
          4.341,
          4.321,
          4.308,
          4.191,
          3.632,
          3.355
         ],
         "xaxis": "x",
         "y": [
          0.272,
          null,
          0.078,
          0.171,
          0.127,
          0.457,
          0.059,
          0.123,
          0.259,
          0.106,
          0.029,
          0.15,
          0.051,
          0.121,
          0.035,
          0.037,
          0.105,
          0.109,
          0.113,
          0.291,
          0.136,
          0.103,
          0.176,
          0.034,
          0.134,
          0.035,
          0.032,
          0.079,
          0.018,
          0.171,
          0.078,
          0.052,
          0.174,
          0.144,
          0.05,
          0.095,
          0.065,
          0.215,
          0.028,
          0.178,
          0.093,
          0.036,
          0.064
         ],
         "yaxis": "y"
        },
        {
         "customdata": [
          [
           "Trinidad & Tobago"
          ],
          [
           "Mauritius"
          ],
          [
           "Libya"
          ],
          [
           "Algeria"
          ],
          [
           "Morocco"
          ],
          [
           "Nigeria"
          ],
          [
           "Somalia"
          ],
          [
           "Cameroon"
          ],
          [
           "Gabon"
          ],
          [
           "Palestinian Territories"
          ],
          [
           "South Africa"
          ],
          [
           "Iran"
          ],
          [
           "Ivory Coast"
          ],
          [
           "Ghana"
          ],
          [
           "Senegal"
          ],
          [
           "Tunisia"
          ],
          [
           "Sierra Leone"
          ],
          [
           "Congo (Brazzaville)"
          ],
          [
           "Mali"
          ],
          [
           "Namibia"
          ],
          [
           "Burkina Faso"
          ],
          [
           "Egypt"
          ],
          [
           "Mozambique"
          ],
          [
           "Kenya"
          ],
          [
           "Zambia"
          ],
          [
           "Mauritania"
          ],
          [
           "Ethiopia"
          ],
          [
           "Chad"
          ],
          [
           "Congo (Kinshasa)"
          ],
          [
           "Niger"
          ],
          [
           "Uganda"
          ],
          [
           "Benin"
          ],
          [
           "Sudan"
          ],
          [
           "Togo"
          ],
          [
           "Guinea"
          ],
          [
           "Lesotho"
          ],
          [
           "Angola"
          ],
          [
           "Madagascar"
          ],
          [
           "Zimbabwe"
          ],
          [
           "Botswana"
          ],
          [
           "Malawi"
          ],
          [
           "Liberia"
          ],
          [
           "Syria"
          ],
          [
           "Rwanda"
          ],
          [
           "Tanzania"
          ],
          [
           "South Sudan"
          ],
          [
           "Central African Republic"
          ],
          [
           "Burundi"
          ]
         ],
         "hovertemplate": "continent=Africa<br>Happiness Score=%{x}<br>Perceptions of corruption=%{y}<br>Country=%{customdata[0]}<extra></extra>",
         "legendgroup": "Africa",
         "marker": {
          "color": "#FFA15A",
          "symbol": "circle"
         },
         "mode": "markers",
         "name": "Africa",
         "orientation": "v",
         "showlegend": true,
         "type": "scatter",
         "x": [
          6.192,
          5.891,
          5.566,
          5.295,
          5.254,
          5.155,
          4.982,
          4.975,
          4.758,
          4.743,
          4.724,
          4.707,
          4.671,
          4.657,
          4.631,
          4.592,
          4.571,
          4.559,
          4.447,
          4.441,
          4.424,
          4.419,
          4.417,
          4.411,
          4.377,
          4.356,
          4.351,
          4.301,
          4.245,
          4.166,
          4.161,
          4.141,
          4.139,
          3.999,
          3.964,
          3.808,
          3.795,
          3.774,
          3.692,
          3.591,
          3.587,
          3.495,
          3.462,
          3.408,
          3.303,
          3.254,
          3.083,
          2.905
         ],
         "xaxis": "x",
         "y": [
          0.019,
          0.05,
          0.148,
          0.135,
          0.074,
          0.032,
          0.282,
          0.043,
          0.052,
          0.076,
          0.056,
          0.129,
          0.103,
          0.029,
          0.082,
          0.063,
          0.053,
          0.077,
          0.056,
          0.064,
          0.128,
          0.107,
          0.158,
          0.055,
          0.082,
          0.093,
          0.146,
          0.06,
          0.052,
          0.099,
          0.061,
          0.067,
          0.082,
          0.101,
          0.094,
          0.112,
          0.061,
          0.049,
          0.099,
          0.092,
          0.08,
          0.03,
          0.144,
          0.444,
          0.097,
          0.106,
          0.038,
          0.076
         ],
         "yaxis": "y"
        }
       ],
       "layout": {
        "legend": {
         "title": {
          "text": "continent"
         },
         "tracegroupgap": 0
        },
        "margin": {
         "t": 60
        },
        "template": {
         "data": {
          "bar": [
           {
            "error_x": {
             "color": "#2a3f5f"
            },
            "error_y": {
             "color": "#2a3f5f"
            },
            "marker": {
             "line": {
              "color": "#E5ECF6",
              "width": 0.5
             }
            },
            "type": "bar"
           }
          ],
          "barpolar": [
           {
            "marker": {
             "line": {
              "color": "#E5ECF6",
              "width": 0.5
             }
            },
            "type": "barpolar"
           }
          ],
          "carpet": [
           {
            "aaxis": {
             "endlinecolor": "#2a3f5f",
             "gridcolor": "white",
             "linecolor": "white",
             "minorgridcolor": "white",
             "startlinecolor": "#2a3f5f"
            },
            "baxis": {
             "endlinecolor": "#2a3f5f",
             "gridcolor": "white",
             "linecolor": "white",
             "minorgridcolor": "white",
             "startlinecolor": "#2a3f5f"
            },
            "type": "carpet"
           }
          ],
          "choropleth": [
           {
            "colorbar": {
             "outlinewidth": 0,
             "ticks": ""
            },
            "type": "choropleth"
           }
          ],
          "contour": [
           {
            "colorbar": {
             "outlinewidth": 0,
             "ticks": ""
            },
            "colorscale": [
             [
              0,
              "#0d0887"
             ],
             [
              0.1111111111111111,
              "#46039f"
             ],
             [
              0.2222222222222222,
              "#7201a8"
             ],
             [
              0.3333333333333333,
              "#9c179e"
             ],
             [
              0.4444444444444444,
              "#bd3786"
             ],
             [
              0.5555555555555556,
              "#d8576b"
             ],
             [
              0.6666666666666666,
              "#ed7953"
             ],
             [
              0.7777777777777778,
              "#fb9f3a"
             ],
             [
              0.8888888888888888,
              "#fdca26"
             ],
             [
              1,
              "#f0f921"
             ]
            ],
            "type": "contour"
           }
          ],
          "contourcarpet": [
           {
            "colorbar": {
             "outlinewidth": 0,
             "ticks": ""
            },
            "type": "contourcarpet"
           }
          ],
          "heatmap": [
           {
            "colorbar": {
             "outlinewidth": 0,
             "ticks": ""
            },
            "colorscale": [
             [
              0,
              "#0d0887"
             ],
             [
              0.1111111111111111,
              "#46039f"
             ],
             [
              0.2222222222222222,
              "#7201a8"
             ],
             [
              0.3333333333333333,
              "#9c179e"
             ],
             [
              0.4444444444444444,
              "#bd3786"
             ],
             [
              0.5555555555555556,
              "#d8576b"
             ],
             [
              0.6666666666666666,
              "#ed7953"
             ],
             [
              0.7777777777777778,
              "#fb9f3a"
             ],
             [
              0.8888888888888888,
              "#fdca26"
             ],
             [
              1,
              "#f0f921"
             ]
            ],
            "type": "heatmap"
           }
          ],
          "heatmapgl": [
           {
            "colorbar": {
             "outlinewidth": 0,
             "ticks": ""
            },
            "colorscale": [
             [
              0,
              "#0d0887"
             ],
             [
              0.1111111111111111,
              "#46039f"
             ],
             [
              0.2222222222222222,
              "#7201a8"
             ],
             [
              0.3333333333333333,
              "#9c179e"
             ],
             [
              0.4444444444444444,
              "#bd3786"
             ],
             [
              0.5555555555555556,
              "#d8576b"
             ],
             [
              0.6666666666666666,
              "#ed7953"
             ],
             [
              0.7777777777777778,
              "#fb9f3a"
             ],
             [
              0.8888888888888888,
              "#fdca26"
             ],
             [
              1,
              "#f0f921"
             ]
            ],
            "type": "heatmapgl"
           }
          ],
          "histogram": [
           {
            "marker": {
             "colorbar": {
              "outlinewidth": 0,
              "ticks": ""
             }
            },
            "type": "histogram"
           }
          ],
          "histogram2d": [
           {
            "colorbar": {
             "outlinewidth": 0,
             "ticks": ""
            },
            "colorscale": [
             [
              0,
              "#0d0887"
             ],
             [
              0.1111111111111111,
              "#46039f"
             ],
             [
              0.2222222222222222,
              "#7201a8"
             ],
             [
              0.3333333333333333,
              "#9c179e"
             ],
             [
              0.4444444444444444,
              "#bd3786"
             ],
             [
              0.5555555555555556,
              "#d8576b"
             ],
             [
              0.6666666666666666,
              "#ed7953"
             ],
             [
              0.7777777777777778,
              "#fb9f3a"
             ],
             [
              0.8888888888888888,
              "#fdca26"
             ],
             [
              1,
              "#f0f921"
             ]
            ],
            "type": "histogram2d"
           }
          ],
          "histogram2dcontour": [
           {
            "colorbar": {
             "outlinewidth": 0,
             "ticks": ""
            },
            "colorscale": [
             [
              0,
              "#0d0887"
             ],
             [
              0.1111111111111111,
              "#46039f"
             ],
             [
              0.2222222222222222,
              "#7201a8"
             ],
             [
              0.3333333333333333,
              "#9c179e"
             ],
             [
              0.4444444444444444,
              "#bd3786"
             ],
             [
              0.5555555555555556,
              "#d8576b"
             ],
             [
              0.6666666666666666,
              "#ed7953"
             ],
             [
              0.7777777777777778,
              "#fb9f3a"
             ],
             [
              0.8888888888888888,
              "#fdca26"
             ],
             [
              1,
              "#f0f921"
             ]
            ],
            "type": "histogram2dcontour"
           }
          ],
          "mesh3d": [
           {
            "colorbar": {
             "outlinewidth": 0,
             "ticks": ""
            },
            "type": "mesh3d"
           }
          ],
          "parcoords": [
           {
            "line": {
             "colorbar": {
              "outlinewidth": 0,
              "ticks": ""
             }
            },
            "type": "parcoords"
           }
          ],
          "pie": [
           {
            "automargin": true,
            "type": "pie"
           }
          ],
          "scatter": [
           {
            "marker": {
             "colorbar": {
              "outlinewidth": 0,
              "ticks": ""
             }
            },
            "type": "scatter"
           }
          ],
          "scatter3d": [
           {
            "line": {
             "colorbar": {
              "outlinewidth": 0,
              "ticks": ""
             }
            },
            "marker": {
             "colorbar": {
              "outlinewidth": 0,
              "ticks": ""
             }
            },
            "type": "scatter3d"
           }
          ],
          "scattercarpet": [
           {
            "marker": {
             "colorbar": {
              "outlinewidth": 0,
              "ticks": ""
             }
            },
            "type": "scattercarpet"
           }
          ],
          "scattergeo": [
           {
            "marker": {
             "colorbar": {
              "outlinewidth": 0,
              "ticks": ""
             }
            },
            "type": "scattergeo"
           }
          ],
          "scattergl": [
           {
            "marker": {
             "colorbar": {
              "outlinewidth": 0,
              "ticks": ""
             }
            },
            "type": "scattergl"
           }
          ],
          "scattermapbox": [
           {
            "marker": {
             "colorbar": {
              "outlinewidth": 0,
              "ticks": ""
             }
            },
            "type": "scattermapbox"
           }
          ],
          "scatterpolar": [
           {
            "marker": {
             "colorbar": {
              "outlinewidth": 0,
              "ticks": ""
             }
            },
            "type": "scatterpolar"
           }
          ],
          "scatterpolargl": [
           {
            "marker": {
             "colorbar": {
              "outlinewidth": 0,
              "ticks": ""
             }
            },
            "type": "scatterpolargl"
           }
          ],
          "scatterternary": [
           {
            "marker": {
             "colorbar": {
              "outlinewidth": 0,
              "ticks": ""
             }
            },
            "type": "scatterternary"
           }
          ],
          "surface": [
           {
            "colorbar": {
             "outlinewidth": 0,
             "ticks": ""
            },
            "colorscale": [
             [
              0,
              "#0d0887"
             ],
             [
              0.1111111111111111,
              "#46039f"
             ],
             [
              0.2222222222222222,
              "#7201a8"
             ],
             [
              0.3333333333333333,
              "#9c179e"
             ],
             [
              0.4444444444444444,
              "#bd3786"
             ],
             [
              0.5555555555555556,
              "#d8576b"
             ],
             [
              0.6666666666666666,
              "#ed7953"
             ],
             [
              0.7777777777777778,
              "#fb9f3a"
             ],
             [
              0.8888888888888888,
              "#fdca26"
             ],
             [
              1,
              "#f0f921"
             ]
            ],
            "type": "surface"
           }
          ],
          "table": [
           {
            "cells": {
             "fill": {
              "color": "#EBF0F8"
             },
             "line": {
              "color": "white"
             }
            },
            "header": {
             "fill": {
              "color": "#C8D4E3"
             },
             "line": {
              "color": "white"
             }
            },
            "type": "table"
           }
          ]
         },
         "layout": {
          "annotationdefaults": {
           "arrowcolor": "#2a3f5f",
           "arrowhead": 0,
           "arrowwidth": 1
          },
          "autotypenumbers": "strict",
          "coloraxis": {
           "colorbar": {
            "outlinewidth": 0,
            "ticks": ""
           }
          },
          "colorscale": {
           "diverging": [
            [
             0,
             "#8e0152"
            ],
            [
             0.1,
             "#c51b7d"
            ],
            [
             0.2,
             "#de77ae"
            ],
            [
             0.3,
             "#f1b6da"
            ],
            [
             0.4,
             "#fde0ef"
            ],
            [
             0.5,
             "#f7f7f7"
            ],
            [
             0.6,
             "#e6f5d0"
            ],
            [
             0.7,
             "#b8e186"
            ],
            [
             0.8,
             "#7fbc41"
            ],
            [
             0.9,
             "#4d9221"
            ],
            [
             1,
             "#276419"
            ]
           ],
           "sequential": [
            [
             0,
             "#0d0887"
            ],
            [
             0.1111111111111111,
             "#46039f"
            ],
            [
             0.2222222222222222,
             "#7201a8"
            ],
            [
             0.3333333333333333,
             "#9c179e"
            ],
            [
             0.4444444444444444,
             "#bd3786"
            ],
            [
             0.5555555555555556,
             "#d8576b"
            ],
            [
             0.6666666666666666,
             "#ed7953"
            ],
            [
             0.7777777777777778,
             "#fb9f3a"
            ],
            [
             0.8888888888888888,
             "#fdca26"
            ],
            [
             1,
             "#f0f921"
            ]
           ],
           "sequentialminus": [
            [
             0,
             "#0d0887"
            ],
            [
             0.1111111111111111,
             "#46039f"
            ],
            [
             0.2222222222222222,
             "#7201a8"
            ],
            [
             0.3333333333333333,
             "#9c179e"
            ],
            [
             0.4444444444444444,
             "#bd3786"
            ],
            [
             0.5555555555555556,
             "#d8576b"
            ],
            [
             0.6666666666666666,
             "#ed7953"
            ],
            [
             0.7777777777777778,
             "#fb9f3a"
            ],
            [
             0.8888888888888888,
             "#fdca26"
            ],
            [
             1,
             "#f0f921"
            ]
           ]
          },
          "colorway": [
           "#636efa",
           "#EF553B",
           "#00cc96",
           "#ab63fa",
           "#FFA15A",
           "#19d3f3",
           "#FF6692",
           "#B6E880",
           "#FF97FF",
           "#FECB52"
          ],
          "font": {
           "color": "#2a3f5f"
          },
          "geo": {
           "bgcolor": "white",
           "lakecolor": "white",
           "landcolor": "#E5ECF6",
           "showlakes": true,
           "showland": true,
           "subunitcolor": "white"
          },
          "hoverlabel": {
           "align": "left"
          },
          "hovermode": "closest",
          "mapbox": {
           "style": "light"
          },
          "paper_bgcolor": "white",
          "plot_bgcolor": "#E5ECF6",
          "polar": {
           "angularaxis": {
            "gridcolor": "white",
            "linecolor": "white",
            "ticks": ""
           },
           "bgcolor": "#E5ECF6",
           "radialaxis": {
            "gridcolor": "white",
            "linecolor": "white",
            "ticks": ""
           }
          },
          "scene": {
           "xaxis": {
            "backgroundcolor": "#E5ECF6",
            "gridcolor": "white",
            "gridwidth": 2,
            "linecolor": "white",
            "showbackground": true,
            "ticks": "",
            "zerolinecolor": "white"
           },
           "yaxis": {
            "backgroundcolor": "#E5ECF6",
            "gridcolor": "white",
            "gridwidth": 2,
            "linecolor": "white",
            "showbackground": true,
            "ticks": "",
            "zerolinecolor": "white"
           },
           "zaxis": {
            "backgroundcolor": "#E5ECF6",
            "gridcolor": "white",
            "gridwidth": 2,
            "linecolor": "white",
            "showbackground": true,
            "ticks": "",
            "zerolinecolor": "white"
           }
          },
          "shapedefaults": {
           "line": {
            "color": "#2a3f5f"
           }
          },
          "ternary": {
           "aaxis": {
            "gridcolor": "white",
            "linecolor": "white",
            "ticks": ""
           },
           "baxis": {
            "gridcolor": "white",
            "linecolor": "white",
            "ticks": ""
           },
           "bgcolor": "#E5ECF6",
           "caxis": {
            "gridcolor": "white",
            "linecolor": "white",
            "ticks": ""
           }
          },
          "title": {
           "x": 0.05
          },
          "xaxis": {
           "automargin": true,
           "gridcolor": "white",
           "linecolor": "white",
           "ticks": "",
           "title": {
            "standoff": 15
           },
           "zerolinecolor": "white",
           "zerolinewidth": 2
          },
          "yaxis": {
           "automargin": true,
           "gridcolor": "white",
           "linecolor": "white",
           "ticks": "",
           "title": {
            "standoff": 15
           },
           "zerolinecolor": "white",
           "zerolinewidth": 2
          }
         }
        },
        "xaxis": {
         "anchor": "y",
         "domain": [
          0,
          1
         ],
         "title": {
          "text": "Happiness Score"
         }
        },
        "yaxis": {
         "anchor": "x",
         "domain": [
          0,
          1
         ],
         "title": {
          "text": "Perceptions of corruption"
         }
        }
       }
      },
      "text/html": [
       "<div>                            <div id=\"266984c7-3b99-44f4-b951-e9fca45d4ca3\" class=\"plotly-graph-div\" style=\"height:525px; width:100%;\"></div>            <script type=\"text/javascript\">                require([\"plotly\"], function(Plotly) {                    window.PLOTLYENV=window.PLOTLYENV || {};                                    if (document.getElementById(\"266984c7-3b99-44f4-b951-e9fca45d4ca3\")) {                    Plotly.newPlot(                        \"266984c7-3b99-44f4-b951-e9fca45d4ca3\",                        [{\"customdata\": [[\"Finland\"], [\"Norway\"], [\"Denmark\"], [\"Iceland\"], [\"Switzerland\"], [\"Netherlands\"], [\"Sweden\"], [\"United Kingdom\"], [\"Austria\"], [\"Ireland\"], [\"Germany\"], [\"Belgium\"], [\"Luxembourg\"], [\"Czech Republic\"], [\"Malta\"], [\"France\"], [\"Spain\"], [\"Slovakia\"], [\"Poland\"], [\"Italy\"], [\"Lithuania\"], [\"Slovenia\"], [\"Romania\"], [\"Latvia\"], [\"Northern Cyprus\"], [\"Russia\"], [\"Estonia\"], [\"Kosovo\"], [\"Moldova\"], [\"Hungary\"], [\"Belarus\"], [\"Portugal\"], [\"Serbia\"], [\"Greece\"], [\"Montenegro\"], [\"Croatia\"], [\"Macedonia\"], [\"Bosnia and Herzegovina\"], [\"Bulgaria\"], [\"Albania\"], [\"Ukraine\"]], \"hovertemplate\": \"continent=Europe<br>Happiness Score=%{x}<br>Perceptions of corruption=%{y}<br>Country=%{customdata[0]}<extra></extra>\", \"legendgroup\": \"Europe\", \"marker\": {\"color\": \"#636efa\", \"symbol\": \"circle\"}, \"mode\": \"markers\", \"name\": \"Europe\", \"orientation\": \"v\", \"showlegend\": true, \"type\": \"scatter\", \"x\": [7.632, 7.594, 7.555, 7.495, 7.487, 7.441, 7.314, 7.191, 7.139, 6.977, 6.965, 6.927, 6.911, 6.711, 6.627, 6.489, 6.311, 6.173, 6.123, 6.011, 5.952, 5.948, 5.945, 5.933, 5.835, 5.811, 5.739, 5.662, 5.641, 5.621, 5.483, 5.411, 5.398, 5.358, 5.347, 5.321, 5.185, 5.129, 4.933, 4.586, 4.103], \"xaxis\": \"x\", \"y\": [0.393, 0.34, 0.408, 0.138, 0.357, 0.295, 0.383, 0.082, 0.224, 0.306, 0.28, 0.24, 0.321, 0.034, 0.142, 0.176, 0.074, 0.014, 0.064, 0.028, 0.006, 0.051, 0.001, 0.066, 0.154, 0.025, 0.174, 0.023, 0.0, 0.022, 0.154, 0.017, 0.043, 0.044, 0.081, 0.039, 0.052, 0.0, 0.009, 0.032, 0.011], \"yaxis\": \"y\"}, {\"customdata\": [[\"Canada\"], [\"Costa Rica\"], [\"United States\"], [\"Mexico\"], [\"Chile\"], [\"Panama\"], [\"Brazil\"], [\"Argentina\"], [\"Guatemala\"], [\"Uruguay\"], [\"Colombia\"], [\"El Salvador\"], [\"Nicaragua\"], [\"Ecuador\"], [\"Belize\"], [\"Jamaica\"], [\"Bolivia\"], [\"Paraguay\"], [\"Peru\"], [\"Honduras\"], [\"Dominican Republic\"], [\"Haiti\"]], \"hovertemplate\": \"continent=Americas<br>Happiness Score=%{x}<br>Perceptions of corruption=%{y}<br>Country=%{customdata[0]}<extra></extra>\", \"legendgroup\": \"Americas\", \"marker\": {\"color\": \"#EF553B\", \"symbol\": \"circle\"}, \"mode\": \"markers\", \"name\": \"Americas\", \"orientation\": \"v\", \"showlegend\": true, \"type\": \"scatter\", \"x\": [7.328, 7.072, 6.886, 6.488, 6.476, 6.431, 6.419, 6.388, 6.382, 6.379, 6.261, 6.167, 6.141, 5.973, 5.956, 5.891, 5.752, 5.681, 5.663, 5.504, 5.302, 3.582], \"xaxis\": \"x\", \"y\": [0.291, 0.101, 0.133, 0.095, 0.061, 0.063, 0.088, 0.054, 0.071, 0.155, 0.039, 0.082, 0.128, 0.12, 0.089, 0.031, 0.054, 0.074, 0.034, 0.074, 0.106, 0.104], \"yaxis\": \"y\"}, {\"customdata\": [[\"New Zealand\"], [\"Australia\"]], \"hovertemplate\": \"continent=Oceania<br>Happiness Score=%{x}<br>Perceptions of corruption=%{y}<br>Country=%{customdata[0]}<extra></extra>\", \"legendgroup\": \"Oceania\", \"marker\": {\"color\": \"#00cc96\", \"symbol\": \"circle\"}, \"mode\": \"markers\", \"name\": \"Oceania\", \"orientation\": \"v\", \"showlegend\": true, \"type\": \"scatter\", \"x\": [7.324, 7.272], \"xaxis\": \"x\", \"y\": [0.389, 0.302], \"yaxis\": \"y\"}, {\"customdata\": [[\"Israel\"], [\"United Arab Emirates\"], [\"Taiwan\"], [\"Qatar\"], [\"Saudi Arabia\"], [\"Singapore\"], [\"Malaysia\"], [\"Bahrain\"], [\"Uzbekistan\"], [\"Kuwait\"], [\"Thailand\"], [\"Japan\"], [\"South Korea\"], [\"Kazakhstan\"], [\"Cyprus\"], [\"Turkmenistan\"], [\"Philippines\"], [\"Turkey\"], [\"Pakistan\"], [\"Hong Kong\"], [\"Lebanon\"], [\"China\"], [\"Azerbaijan\"], [\"Tajikistan\"], [\"Jordan\"], [\"Kyrgyzstan\"], [\"Mongolia\"], [\"Vietnam\"], [\"Indonesia\"], [\"Bhutan\"], [\"Nepal\"], [\"Venezuela\"], [\"Laos\"], [\"Bangladesh\"], [\"Sri Lanka\"], [\"Iraq\"], [\"Cambodia\"], [\"Georgia\"], [\"Armenia\"], [\"Myanmar\"], [\"India\"], [\"Afghanistan\"], [\"Yemen\"]], \"hovertemplate\": \"continent=Asia<br>Happiness Score=%{x}<br>Perceptions of corruption=%{y}<br>Country=%{customdata[0]}<extra></extra>\", \"legendgroup\": \"Asia\", \"marker\": {\"color\": \"#ab63fa\", \"symbol\": \"circle\"}, \"mode\": \"markers\", \"name\": \"Asia\", \"orientation\": \"v\", \"showlegend\": true, \"type\": \"scatter\", \"x\": [6.814, 6.774, 6.441, 6.374, 6.371, 6.343, 6.322, 6.105, 6.096, 6.083, 6.072, 5.915, 5.875, 5.791, 5.762, 5.636, 5.524, 5.483, 5.472, 5.431, 5.358, 5.246, 5.201, 5.199, 5.161, 5.131, 5.125, 5.103, 5.093, 5.082, 4.881, 4.806, 4.623, 4.511, 4.471, 4.456, 4.433, 4.341, 4.321, 4.308, 4.191, 3.632, 3.355], \"xaxis\": \"x\", \"y\": [0.272, null, 0.078, 0.171, 0.127, 0.457, 0.059, 0.123, 0.259, 0.106, 0.029, 0.15, 0.051, 0.121, 0.035, 0.037, 0.105, 0.109, 0.113, 0.291, 0.136, 0.103, 0.176, 0.034, 0.134, 0.035, 0.032, 0.079, 0.018, 0.171, 0.078, 0.052, 0.174, 0.144, 0.05, 0.095, 0.065, 0.215, 0.028, 0.178, 0.093, 0.036, 0.064], \"yaxis\": \"y\"}, {\"customdata\": [[\"Trinidad & Tobago\"], [\"Mauritius\"], [\"Libya\"], [\"Algeria\"], [\"Morocco\"], [\"Nigeria\"], [\"Somalia\"], [\"Cameroon\"], [\"Gabon\"], [\"Palestinian Territories\"], [\"South Africa\"], [\"Iran\"], [\"Ivory Coast\"], [\"Ghana\"], [\"Senegal\"], [\"Tunisia\"], [\"Sierra Leone\"], [\"Congo (Brazzaville)\"], [\"Mali\"], [\"Namibia\"], [\"Burkina Faso\"], [\"Egypt\"], [\"Mozambique\"], [\"Kenya\"], [\"Zambia\"], [\"Mauritania\"], [\"Ethiopia\"], [\"Chad\"], [\"Congo (Kinshasa)\"], [\"Niger\"], [\"Uganda\"], [\"Benin\"], [\"Sudan\"], [\"Togo\"], [\"Guinea\"], [\"Lesotho\"], [\"Angola\"], [\"Madagascar\"], [\"Zimbabwe\"], [\"Botswana\"], [\"Malawi\"], [\"Liberia\"], [\"Syria\"], [\"Rwanda\"], [\"Tanzania\"], [\"South Sudan\"], [\"Central African Republic\"], [\"Burundi\"]], \"hovertemplate\": \"continent=Africa<br>Happiness Score=%{x}<br>Perceptions of corruption=%{y}<br>Country=%{customdata[0]}<extra></extra>\", \"legendgroup\": \"Africa\", \"marker\": {\"color\": \"#FFA15A\", \"symbol\": \"circle\"}, \"mode\": \"markers\", \"name\": \"Africa\", \"orientation\": \"v\", \"showlegend\": true, \"type\": \"scatter\", \"x\": [6.192, 5.891, 5.566, 5.295, 5.254, 5.155, 4.982, 4.975, 4.758, 4.743, 4.724, 4.707, 4.671, 4.657, 4.631, 4.592, 4.571, 4.559, 4.447, 4.441, 4.424, 4.419, 4.417, 4.411, 4.377, 4.356, 4.351, 4.301, 4.245, 4.166, 4.161, 4.141, 4.139, 3.999, 3.964, 3.808, 3.795, 3.774, 3.692, 3.591, 3.587, 3.495, 3.462, 3.408, 3.303, 3.254, 3.083, 2.905], \"xaxis\": \"x\", \"y\": [0.019, 0.05, 0.148, 0.135, 0.074, 0.032, 0.282, 0.043, 0.052, 0.076, 0.056, 0.129, 0.103, 0.029, 0.082, 0.063, 0.053, 0.077, 0.056, 0.064, 0.128, 0.107, 0.158, 0.055, 0.082, 0.093, 0.146, 0.06, 0.052, 0.099, 0.061, 0.067, 0.082, 0.101, 0.094, 0.112, 0.061, 0.049, 0.099, 0.092, 0.08, 0.03, 0.144, 0.444, 0.097, 0.106, 0.038, 0.076], \"yaxis\": \"y\"}],                        {\"legend\": {\"title\": {\"text\": \"continent\"}, \"tracegroupgap\": 0}, \"margin\": {\"t\": 60}, \"template\": {\"data\": {\"bar\": [{\"error_x\": {\"color\": \"#2a3f5f\"}, \"error_y\": {\"color\": \"#2a3f5f\"}, \"marker\": {\"line\": {\"color\": \"#E5ECF6\", \"width\": 0.5}}, \"type\": \"bar\"}], \"barpolar\": [{\"marker\": {\"line\": {\"color\": \"#E5ECF6\", \"width\": 0.5}}, \"type\": \"barpolar\"}], \"carpet\": [{\"aaxis\": {\"endlinecolor\": \"#2a3f5f\", \"gridcolor\": \"white\", \"linecolor\": \"white\", \"minorgridcolor\": \"white\", \"startlinecolor\": \"#2a3f5f\"}, \"baxis\": {\"endlinecolor\": \"#2a3f5f\", \"gridcolor\": \"white\", \"linecolor\": \"white\", \"minorgridcolor\": \"white\", \"startlinecolor\": \"#2a3f5f\"}, \"type\": \"carpet\"}], \"choropleth\": [{\"colorbar\": {\"outlinewidth\": 0, \"ticks\": \"\"}, \"type\": \"choropleth\"}], \"contour\": [{\"colorbar\": {\"outlinewidth\": 0, \"ticks\": \"\"}, \"colorscale\": [[0.0, \"#0d0887\"], [0.1111111111111111, \"#46039f\"], [0.2222222222222222, \"#7201a8\"], [0.3333333333333333, \"#9c179e\"], [0.4444444444444444, \"#bd3786\"], [0.5555555555555556, \"#d8576b\"], [0.6666666666666666, \"#ed7953\"], [0.7777777777777778, \"#fb9f3a\"], [0.8888888888888888, \"#fdca26\"], [1.0, \"#f0f921\"]], \"type\": \"contour\"}], \"contourcarpet\": [{\"colorbar\": {\"outlinewidth\": 0, \"ticks\": \"\"}, \"type\": \"contourcarpet\"}], \"heatmap\": [{\"colorbar\": {\"outlinewidth\": 0, \"ticks\": \"\"}, \"colorscale\": [[0.0, \"#0d0887\"], [0.1111111111111111, \"#46039f\"], [0.2222222222222222, \"#7201a8\"], [0.3333333333333333, \"#9c179e\"], [0.4444444444444444, \"#bd3786\"], [0.5555555555555556, \"#d8576b\"], [0.6666666666666666, \"#ed7953\"], [0.7777777777777778, \"#fb9f3a\"], [0.8888888888888888, \"#fdca26\"], [1.0, \"#f0f921\"]], \"type\": \"heatmap\"}], \"heatmapgl\": [{\"colorbar\": {\"outlinewidth\": 0, \"ticks\": \"\"}, \"colorscale\": [[0.0, \"#0d0887\"], [0.1111111111111111, \"#46039f\"], [0.2222222222222222, \"#7201a8\"], [0.3333333333333333, \"#9c179e\"], [0.4444444444444444, \"#bd3786\"], [0.5555555555555556, \"#d8576b\"], [0.6666666666666666, \"#ed7953\"], [0.7777777777777778, \"#fb9f3a\"], [0.8888888888888888, \"#fdca26\"], [1.0, \"#f0f921\"]], \"type\": \"heatmapgl\"}], \"histogram\": [{\"marker\": {\"colorbar\": {\"outlinewidth\": 0, \"ticks\": \"\"}}, \"type\": \"histogram\"}], \"histogram2d\": [{\"colorbar\": {\"outlinewidth\": 0, \"ticks\": \"\"}, \"colorscale\": [[0.0, \"#0d0887\"], [0.1111111111111111, \"#46039f\"], [0.2222222222222222, \"#7201a8\"], [0.3333333333333333, \"#9c179e\"], [0.4444444444444444, \"#bd3786\"], [0.5555555555555556, \"#d8576b\"], [0.6666666666666666, \"#ed7953\"], [0.7777777777777778, \"#fb9f3a\"], [0.8888888888888888, \"#fdca26\"], [1.0, \"#f0f921\"]], \"type\": \"histogram2d\"}], \"histogram2dcontour\": [{\"colorbar\": {\"outlinewidth\": 0, \"ticks\": \"\"}, \"colorscale\": [[0.0, \"#0d0887\"], [0.1111111111111111, \"#46039f\"], [0.2222222222222222, \"#7201a8\"], [0.3333333333333333, \"#9c179e\"], [0.4444444444444444, \"#bd3786\"], [0.5555555555555556, \"#d8576b\"], [0.6666666666666666, \"#ed7953\"], [0.7777777777777778, \"#fb9f3a\"], [0.8888888888888888, \"#fdca26\"], [1.0, \"#f0f921\"]], \"type\": \"histogram2dcontour\"}], \"mesh3d\": [{\"colorbar\": {\"outlinewidth\": 0, \"ticks\": \"\"}, \"type\": \"mesh3d\"}], \"parcoords\": [{\"line\": {\"colorbar\": {\"outlinewidth\": 0, \"ticks\": \"\"}}, \"type\": \"parcoords\"}], \"pie\": [{\"automargin\": true, \"type\": \"pie\"}], \"scatter\": [{\"marker\": {\"colorbar\": {\"outlinewidth\": 0, \"ticks\": \"\"}}, \"type\": \"scatter\"}], \"scatter3d\": [{\"line\": {\"colorbar\": {\"outlinewidth\": 0, \"ticks\": \"\"}}, \"marker\": {\"colorbar\": {\"outlinewidth\": 0, \"ticks\": \"\"}}, \"type\": \"scatter3d\"}], \"scattercarpet\": [{\"marker\": {\"colorbar\": {\"outlinewidth\": 0, \"ticks\": \"\"}}, \"type\": \"scattercarpet\"}], \"scattergeo\": [{\"marker\": {\"colorbar\": {\"outlinewidth\": 0, \"ticks\": \"\"}}, \"type\": \"scattergeo\"}], \"scattergl\": [{\"marker\": {\"colorbar\": {\"outlinewidth\": 0, \"ticks\": \"\"}}, \"type\": \"scattergl\"}], \"scattermapbox\": [{\"marker\": {\"colorbar\": {\"outlinewidth\": 0, \"ticks\": \"\"}}, \"type\": \"scattermapbox\"}], \"scatterpolar\": [{\"marker\": {\"colorbar\": {\"outlinewidth\": 0, \"ticks\": \"\"}}, \"type\": \"scatterpolar\"}], \"scatterpolargl\": [{\"marker\": {\"colorbar\": {\"outlinewidth\": 0, \"ticks\": \"\"}}, \"type\": \"scatterpolargl\"}], \"scatterternary\": [{\"marker\": {\"colorbar\": {\"outlinewidth\": 0, \"ticks\": \"\"}}, \"type\": \"scatterternary\"}], \"surface\": [{\"colorbar\": {\"outlinewidth\": 0, \"ticks\": \"\"}, \"colorscale\": [[0.0, \"#0d0887\"], [0.1111111111111111, \"#46039f\"], [0.2222222222222222, \"#7201a8\"], [0.3333333333333333, \"#9c179e\"], [0.4444444444444444, \"#bd3786\"], [0.5555555555555556, \"#d8576b\"], [0.6666666666666666, \"#ed7953\"], [0.7777777777777778, \"#fb9f3a\"], [0.8888888888888888, \"#fdca26\"], [1.0, \"#f0f921\"]], \"type\": \"surface\"}], \"table\": [{\"cells\": {\"fill\": {\"color\": \"#EBF0F8\"}, \"line\": {\"color\": \"white\"}}, \"header\": {\"fill\": {\"color\": \"#C8D4E3\"}, \"line\": {\"color\": \"white\"}}, \"type\": \"table\"}]}, \"layout\": {\"annotationdefaults\": {\"arrowcolor\": \"#2a3f5f\", \"arrowhead\": 0, \"arrowwidth\": 1}, \"autotypenumbers\": \"strict\", \"coloraxis\": {\"colorbar\": {\"outlinewidth\": 0, \"ticks\": \"\"}}, \"colorscale\": {\"diverging\": [[0, \"#8e0152\"], [0.1, \"#c51b7d\"], [0.2, \"#de77ae\"], [0.3, \"#f1b6da\"], [0.4, \"#fde0ef\"], [0.5, \"#f7f7f7\"], [0.6, \"#e6f5d0\"], [0.7, \"#b8e186\"], [0.8, \"#7fbc41\"], [0.9, \"#4d9221\"], [1, \"#276419\"]], \"sequential\": [[0.0, \"#0d0887\"], [0.1111111111111111, \"#46039f\"], [0.2222222222222222, \"#7201a8\"], [0.3333333333333333, \"#9c179e\"], [0.4444444444444444, \"#bd3786\"], [0.5555555555555556, \"#d8576b\"], [0.6666666666666666, \"#ed7953\"], [0.7777777777777778, \"#fb9f3a\"], [0.8888888888888888, \"#fdca26\"], [1.0, \"#f0f921\"]], \"sequentialminus\": [[0.0, \"#0d0887\"], [0.1111111111111111, \"#46039f\"], [0.2222222222222222, \"#7201a8\"], [0.3333333333333333, \"#9c179e\"], [0.4444444444444444, \"#bd3786\"], [0.5555555555555556, \"#d8576b\"], [0.6666666666666666, \"#ed7953\"], [0.7777777777777778, \"#fb9f3a\"], [0.8888888888888888, \"#fdca26\"], [1.0, \"#f0f921\"]]}, \"colorway\": [\"#636efa\", \"#EF553B\", \"#00cc96\", \"#ab63fa\", \"#FFA15A\", \"#19d3f3\", \"#FF6692\", \"#B6E880\", \"#FF97FF\", \"#FECB52\"], \"font\": {\"color\": \"#2a3f5f\"}, \"geo\": {\"bgcolor\": \"white\", \"lakecolor\": \"white\", \"landcolor\": \"#E5ECF6\", \"showlakes\": true, \"showland\": true, \"subunitcolor\": \"white\"}, \"hoverlabel\": {\"align\": \"left\"}, \"hovermode\": \"closest\", \"mapbox\": {\"style\": \"light\"}, \"paper_bgcolor\": \"white\", \"plot_bgcolor\": \"#E5ECF6\", \"polar\": {\"angularaxis\": {\"gridcolor\": \"white\", \"linecolor\": \"white\", \"ticks\": \"\"}, \"bgcolor\": \"#E5ECF6\", \"radialaxis\": {\"gridcolor\": \"white\", \"linecolor\": \"white\", \"ticks\": \"\"}}, \"scene\": {\"xaxis\": {\"backgroundcolor\": \"#E5ECF6\", \"gridcolor\": \"white\", \"gridwidth\": 2, \"linecolor\": \"white\", \"showbackground\": true, \"ticks\": \"\", \"zerolinecolor\": \"white\"}, \"yaxis\": {\"backgroundcolor\": \"#E5ECF6\", \"gridcolor\": \"white\", \"gridwidth\": 2, \"linecolor\": \"white\", \"showbackground\": true, \"ticks\": \"\", \"zerolinecolor\": \"white\"}, \"zaxis\": {\"backgroundcolor\": \"#E5ECF6\", \"gridcolor\": \"white\", \"gridwidth\": 2, \"linecolor\": \"white\", \"showbackground\": true, \"ticks\": \"\", \"zerolinecolor\": \"white\"}}, \"shapedefaults\": {\"line\": {\"color\": \"#2a3f5f\"}}, \"ternary\": {\"aaxis\": {\"gridcolor\": \"white\", \"linecolor\": \"white\", \"ticks\": \"\"}, \"baxis\": {\"gridcolor\": \"white\", \"linecolor\": \"white\", \"ticks\": \"\"}, \"bgcolor\": \"#E5ECF6\", \"caxis\": {\"gridcolor\": \"white\", \"linecolor\": \"white\", \"ticks\": \"\"}}, \"title\": {\"x\": 0.05}, \"xaxis\": {\"automargin\": true, \"gridcolor\": \"white\", \"linecolor\": \"white\", \"ticks\": \"\", \"title\": {\"standoff\": 15}, \"zerolinecolor\": \"white\", \"zerolinewidth\": 2}, \"yaxis\": {\"automargin\": true, \"gridcolor\": \"white\", \"linecolor\": \"white\", \"ticks\": \"\", \"title\": {\"standoff\": 15}, \"zerolinecolor\": \"white\", \"zerolinewidth\": 2}}}, \"xaxis\": {\"anchor\": \"y\", \"domain\": [0.0, 1.0], \"title\": {\"text\": \"Happiness Score\"}}, \"yaxis\": {\"anchor\": \"x\", \"domain\": [0.0, 1.0], \"title\": {\"text\": \"Perceptions of corruption\"}}},                        {\"responsive\": true}                    ).then(function(){\n",
       "                            \n",
       "var gd = document.getElementById('266984c7-3b99-44f4-b951-e9fca45d4ca3');\n",
       "var x = new MutationObserver(function (mutations, observer) {{\n",
       "        var display = window.getComputedStyle(gd).display;\n",
       "        if (!display || display === 'none') {{\n",
       "            console.log([gd, 'removed!']);\n",
       "            Plotly.purge(gd);\n",
       "            observer.disconnect();\n",
       "        }}\n",
       "}});\n",
       "\n",
       "// Listen for the removal of the full notebook cells\n",
       "var notebookContainer = gd.closest('#notebook-container');\n",
       "if (notebookContainer) {{\n",
       "    x.observe(notebookContainer, {childList: true});\n",
       "}}\n",
       "\n",
       "// Listen for the clearing of the current output cell\n",
       "var outputEl = gd.closest('.output');\n",
       "if (outputEl) {{\n",
       "    x.observe(outputEl, {childList: true});\n",
       "}}\n",
       "\n",
       "                        })                };                });            </script>        </div>"
      ]
     },
     "metadata": {},
     "output_type": "display_data"
    },
    {
     "name": "stderr",
     "output_type": "stream",
     "text": [
      "127.0.0.1 - - [17/Feb/2021 15:35:13] code 400, message Bad request version ('\\x9a\\x9a\\x13\\x01\\x13\\x02\\x13\\x03À+À/À,À0Ì©Ì¨À\\x13À\\x14\\x00\\x9c\\x00\\x9d\\x00/\\x005\\x01\\x00\\x01\\x93jj\\x00\\x00\\x00\\x17\\x00\\x00ÿ\\x01\\x00\\x01\\x00\\x00')\n",
      "127.0.0.1 - - [17/Feb/2021 15:35:13] code 400, message Bad request version ('§Z¡\\x00\"jj\\x13\\x01\\x13\\x02\\x13\\x03À+À/À,À0Ì©Ì¨À\\x13À\\x14\\x00\\x9c\\x00\\x9d\\x00/\\x005\\x00')\n"
     ]
    }
   ],
   "source": [
    "\n",
    "fig3 = px.scatter(data1, x = data1[\"Happiness Score\"], y=data1[\"Perceptions of corruption\"], color=data1[\"continent\"],\n",
    "        hover_data=[\"Country\"])\n",
    "\n",
    "\n",
    "fig3"
   ]
  },
  {
   "cell_type": "code",
   "execution_count": null,
   "metadata": {},
   "outputs": [],
   "source": []
  }
 ],
 "metadata": {
  "kernelspec": {
   "display_name": "Ironhack",
   "language": "python",
   "name": "ironhack"
  },
  "language_info": {
   "codemirror_mode": {
    "name": "ipython",
    "version": 3
   },
   "file_extension": ".py",
   "mimetype": "text/x-python",
   "name": "python",
   "nbconvert_exporter": "python",
   "pygments_lexer": "ipython3",
   "version": "3.9.1"
  }
 },
 "nbformat": 4,
 "nbformat_minor": 4
}
