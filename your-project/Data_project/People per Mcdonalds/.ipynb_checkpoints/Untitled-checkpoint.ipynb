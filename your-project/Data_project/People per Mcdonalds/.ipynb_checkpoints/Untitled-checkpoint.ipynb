{
 "cells": [
  {
   "cell_type": "code",
   "execution_count": 1,
   "metadata": {
    "ExecuteTime": {
     "end_time": "2021-02-15T10:38:41.862611Z",
     "start_time": "2021-02-15T10:38:41.371591Z"
    }
   },
   "outputs": [
    {
     "data": {
      "text/plain": [
       "200"
      ]
     },
     "execution_count": 1,
     "metadata": {},
     "output_type": "execute_result"
    }
   ],
   "source": [
    "import requests\n",
    "from bs4 import BeautifulSoup \n",
    "\n",
    "url = \"https://en.wikipedia.org/wiki/List_of_countries_with_McDonald%27s_restaurants\"\n",
    "\n",
    "response = requests.get(url)\n",
    "\n",
    "response.status_code "
   ]
  },
  {
   "cell_type": "code",
   "execution_count": 2,
   "metadata": {
    "ExecuteTime": {
     "end_time": "2021-02-15T10:38:43.029209Z",
     "start_time": "2021-02-15T10:38:42.759462Z"
    }
   },
   "outputs": [],
   "source": [
    "soup = BeautifulSoup(response.content, \"html.parser\")"
   ]
  },
  {
   "cell_type": "code",
   "execution_count": null,
   "metadata": {},
   "outputs": [],
   "source": []
  },
  {
   "cell_type": "code",
   "execution_count": 3,
   "metadata": {
    "ExecuteTime": {
     "end_time": "2021-02-15T10:38:45.296029Z",
     "start_time": "2021-02-15T10:38:45.252490Z"
    }
   },
   "outputs": [
    {
     "data": {
      "text/plain": [
       "[<a href=\"/w/index.php?title=List_of_countries_with_McDonald%27s_restaurants&amp;action=edit&amp;section=1\" title=\"Edit section: Countries and territories with a McDonald's outlet\">edit</a>,\n",
       " <a href=\"/wiki/United_States\" title=\"United States\">United States</a>,\n",
       " <a href=\"/wiki/Canada\" title=\"Canada\">Canada</a>,\n",
       " <a href=\"/wiki/Puerto_Rico\" title=\"Puerto Rico\">Puerto Rico</a>,\n",
       " <a href=\"/wiki/United_States\" title=\"United States\">United States</a>,\n",
       " <a href=\"/wiki/United_States\" title=\"United States\">United States</a>,\n",
       " <a href=\"/wiki/United_States\" title=\"United States\">United States</a>,\n",
       " <a href=\"/wiki/West_Germany\" title=\"West Germany\">West Germany</a>,\n",
       " <a href=\"/wiki/East_Germany\" title=\"East Germany\">East Germany</a>,\n",
       " <a href=\"/wiki/West_Germany\" title=\"West Germany\">West Germany</a>,\n",
       " <a href=\"/wiki/East_Germany\" title=\"East Germany\">East Germany</a>,\n",
       " <a href=\"/wiki/Netherlands\" title=\"Netherlands\">Netherlands</a>,\n",
       " <a href=\"/wiki/British_Hong_Kong\" title=\"British Hong Kong\">British Hong Kong</a>,\n",
       " <a href=\"/wiki/Netherlands_Antilles\" title=\"Netherlands Antilles\">Netherlands Antilles</a>,\n",
       " <a href=\"/wiki/Portugal\" title=\"Portugal\"><img alt=\"Portugal\" class=\"thumbborder\" data-file-height=\"400\" data-file-width=\"600\" decoding=\"async\" height=\"11\" src=\"//upload.wikimedia.org/wikipedia/commons/thumb/5/5c/Flag_of_Portugal.svg/16px-Flag_of_Portugal.svg.png\" srcset=\"//upload.wikimedia.org/wikipedia/commons/thumb/5/5c/Flag_of_Portugal.svg/24px-Flag_of_Portugal.svg.png 1.5x, //upload.wikimedia.org/wikipedia/commons/thumb/5/5c/Flag_of_Portugal.svg/32px-Flag_of_Portugal.svg.png 2x\" width=\"16\"/></a>,\n",
       " <a href=\"/wiki/Portuguese_Macau\" title=\"Portuguese Macau\">Portuguese Macau</a>,\n",
       " <a href=\"/wiki/Socialist_Federal_Republic_of_Yugoslavia\" title=\"Socialist Federal Republic of Yugoslavia\">Yugoslavia</a>,\n",
       " <a href=\"/wiki/Hungarian_People%27s_Republic\" title=\"Hungarian People's Republic\">HPR</a>,\n",
       " <a href=\"/wiki/Soviet_Union\" title=\"Soviet Union\">Soviet Union</a>,\n",
       " <a href=\"/wiki/Czechoslovakia\" title=\"Czechoslovakia\">Czechoslovakia</a>,\n",
       " <a href=\"/wiki/United_States\" title=\"United States\">United States</a>,\n",
       " <a href=\"/wiki/France\" title=\"France\">France</a>,\n",
       " <a href=\"/wiki/Netherlands\" title=\"Netherlands\">Netherlands</a>,\n",
       " <a href=\"/wiki/France\" title=\"France\">France</a>,\n",
       " <a href=\"/wiki/United_Kingdom\" title=\"United Kingdom\"><img alt=\"United Kingdom\" class=\"thumbborder\" data-file-height=\"600\" data-file-width=\"1200\" decoding=\"async\" height=\"12\" src=\"//upload.wikimedia.org/wikipedia/en/thumb/a/ae/Flag_of_the_United_Kingdom.svg/23px-Flag_of_the_United_Kingdom.svg.png\" srcset=\"//upload.wikimedia.org/wikipedia/en/thumb/a/ae/Flag_of_the_United_Kingdom.svg/35px-Flag_of_the_United_Kingdom.svg.png 1.5x, //upload.wikimedia.org/wikipedia/en/thumb/a/ae/Flag_of_the_United_Kingdom.svg/46px-Flag_of_the_United_Kingdom.svg.png 2x\" width=\"23\"/></a>,\n",
       " <a class=\"mw-redirect\" href=\"/wiki/Crown_dependency\" title=\"Crown dependency\">Crown dependency</a>,\n",
       " <a href=\"/wiki/France\" title=\"France\">France</a>,\n",
       " <a href=\"/wiki/United_Kingdom\" title=\"United Kingdom\"><img alt=\"United Kingdom\" class=\"thumbborder\" data-file-height=\"600\" data-file-width=\"1200\" decoding=\"async\" height=\"12\" src=\"//upload.wikimedia.org/wikipedia/en/thumb/a/ae/Flag_of_the_United_Kingdom.svg/23px-Flag_of_the_United_Kingdom.svg.png\" srcset=\"//upload.wikimedia.org/wikipedia/en/thumb/a/ae/Flag_of_the_United_Kingdom.svg/35px-Flag_of_the_United_Kingdom.svg.png 1.5x, //upload.wikimedia.org/wikipedia/en/thumb/a/ae/Flag_of_the_United_Kingdom.svg/46px-Flag_of_the_United_Kingdom.svg.png 2x\" width=\"23\"/></a>,\n",
       " <a class=\"mw-redirect\" href=\"/wiki/Crown_dependency\" title=\"Crown dependency\">Crown dependency</a>,\n",
       " <a href=\"/wiki/United_Kingdom\" title=\"United Kingdom\">United Kingdom</a>,\n",
       " <a href=\"/wiki/France\" title=\"France\">France</a>,\n",
       " <a href=\"/wiki/United_States\" title=\"United States\">United States</a>,\n",
       " <a href=\"/w/index.php?title=List_of_countries_with_McDonald%27s_restaurants&amp;action=edit&amp;section=2\" title=\"Edit section: Former locations\">edit</a>,\n",
       " <a href=\"/wiki/United_Kingdom\" title=\"United Kingdom\">United Kingdom</a>,\n",
       " <a href=\"/wiki/Serbia_and_Montenegro\" title=\"Serbia and Montenegro\">Serbia and Montenegro</a>,\n",
       " <a href=\"/w/index.php?title=List_of_countries_with_McDonald%27s_restaurants&amp;action=edit&amp;section=3\" title=\"Edit section: See also\">edit</a>,\n",
       " <a href=\"/wiki/Portal:Companies\" title=\"Portal:Companies\">Companies portal</a>,\n",
       " <a class=\"image\" href=\"/wiki/File:Foodlogo2.svg\"><img alt=\"icon\" class=\"noviewer\" data-file-height=\"106\" data-file-width=\"146\" decoding=\"async\" height=\"23\" src=\"//upload.wikimedia.org/wikipedia/commons/thumb/d/d6/Foodlogo2.svg/32px-Foodlogo2.svg.png\" srcset=\"//upload.wikimedia.org/wikipedia/commons/thumb/d/d6/Foodlogo2.svg/48px-Foodlogo2.svg.png 1.5x, //upload.wikimedia.org/wikipedia/commons/thumb/d/d6/Foodlogo2.svg/64px-Foodlogo2.svg.png 2x\" width=\"32\"/></a>,\n",
       " <a href=\"/wiki/Portal:Food\" title=\"Portal:Food\">Food portal</a>,\n",
       " <a href=\"/w/index.php?title=List_of_countries_with_McDonald%27s_restaurants&amp;action=edit&amp;section=4\" title=\"Edit section: References\">edit</a>,\n",
       " <a href=\"/wiki/List_of_the_largest_fast_food_restaurant_chains\" title=\"List of the largest fast food restaurant chains\">List of the largest fast food restaurant chains</a>,\n",
       " <a href=\"/wiki/Category:CS1_maint:_archived_copy_as_title\" title=\"Category:CS1 maint: archived copy as title\">link</a>,\n",
       " <a href=\"/wiki/Category:CS1_maint:_bot:_original_URL_status_unknown\" title=\"Category:CS1 maint: bot: original URL status unknown\">link</a>,\n",
       " <a class=\"external text\" href=\"http://www.mcdonalds.ca/en/aboutus/faq.aspx\" rel=\"nofollow\">McDonald's :: About Us :: FAQ</a>,\n",
       " <a class=\"external text\" href=\"https://web.archive.org/web/20080911035414/http://www.mcdonalds.ca/en/aboutus/faq.aspx\" rel=\"nofollow\">Archived</a>,\n",
       " <a href=\"/wiki/Wayback_Machine\" title=\"Wayback Machine\">Wayback Machine</a>,\n",
       " <a href=\"#cite_ref-uk.askmen.com_6-0\"><sup><i><b>a</b></i></sup></a>,\n",
       " <a href=\"#cite_ref-uk.askmen.com_6-1\"><sup><i><b>b</b></i></sup></a>,\n",
       " <a href=\"#cite_ref-auto1_7-0\"><sup><i><b>a</b></i></sup></a>,\n",
       " <a href=\"#cite_ref-auto1_7-1\"><sup><i><b>b</b></i></sup></a>,\n",
       " <a href=\"#cite_ref-auto1_7-2\"><sup><i><b>c</b></i></sup></a>,\n",
       " <a href=\"#cite_ref-auto1_7-3\"><sup><i><b>d</b></i></sup></a>,\n",
       " <a href=\"#cite_ref-auto1_7-4\"><sup><i><b>e</b></i></sup></a>,\n",
       " <a class=\"external text\" href=\"http://vogtland-anzeiger.de/Vogtland_Anzeiger/cms-nachrichten/plauen/neu-bundesverband-feiert-mit-voigts.html\" rel=\"nofollow\">\"Erstes McDonald's in Ostdeutschland feiert Jubiläum\"</a>,\n",
       " <a class=\"external text\" href=\"https://web.archive.org/web/20180104013850/http://vogtland-anzeiger.de/Vogtland_Anzeiger/cms-nachrichten/plauen/neu-bundesverband-feiert-mit-voigts.html\" rel=\"nofollow\">Archived</a>,\n",
       " <a href=\"/wiki/Wayback_Machine\" title=\"Wayback Machine\">Wayback Machine</a>,\n",
       " <a href=\"#cite_ref-auto_16-0\"><sup><i><b>a</b></i></sup></a>,\n",
       " <a href=\"#cite_ref-auto_16-1\"><sup><i><b>b</b></i></sup></a>,\n",
       " <a href=\"#cite_ref-auto_16-2\"><sup><i><b>c</b></i></sup></a>,\n",
       " <a href=\"#cite_ref-auto_16-3\"><sup><i><b>d</b></i></sup></a>,\n",
       " <a href=\"#cite_ref-auto_16-4\"><sup><i><b>e</b></i></sup></a>,\n",
       " <a href=\"#cite_ref-auto_16-5\"><sup><i><b>f</b></i></sup></a>,\n",
       " <a href=\"#cite_ref-auto_16-6\"><sup><i><b>g</b></i></sup></a>,\n",
       " <a href=\"#cite_ref-auto_16-7\"><sup><i><b>h</b></i></sup></a>,\n",
       " <a href=\"#cite_ref-auto_16-8\"><sup><i><b>i</b></i></sup></a>,\n",
       " <a href=\"#cite_ref-auto3_25-0\"><sup><i><b>a</b></i></sup></a>,\n",
       " <a href=\"#cite_ref-auto3_25-1\"><sup><i><b>b</b></i></sup></a>,\n",
       " <a href=\"#cite_ref-auto3_25-2\"><sup><i><b>c</b></i></sup></a>,\n",
       " <a href=\"#cite_ref-auto3_25-3\"><sup><i><b>d</b></i></sup></a>,\n",
       " <a class=\"external text\" href=\"http://www.kisalfold.hu/gyori_hirek/gyorben_nyilik_a_mcdonald8217s_100_magyar_etterme/2112154/\" rel=\"nofollow\">Győrben nyílik a McDonald's 100. magyar étterme</a>,\n",
       " <a class=\"external text\" href=\"https://web.archive.org/web/20110719014908/http://www.kisalfold.hu/gyori_hirek/gyorben_nyilik_a_mcdonald8217s_100_magyar_etterme/2112154/\" rel=\"nofollow\">Archived</a>,\n",
       " <a href=\"/wiki/Wayback_Machine\" title=\"Wayback Machine\">Wayback Machine</a>,\n",
       " <a class=\"external free\" href=\"https://money.kompas.com/read/2020/05/10/190400126/setelah-30-tahun-malam-ini-mcdonald-s-sarinah-resmi-tutup-pintu-untuk?page=all\" rel=\"nofollow\">https://money.kompas.com/read/2020/05/10/190400126/setelah-30-tahun-malam-ini-mcdonald-s-sarinah-resmi-tutup-pintu-untuk?page=all</a>,\n",
       " <a href=\"/wiki/Category:CS1_maint:_archived_copy_as_title\" title=\"Category:CS1 maint: archived copy as title\">link</a>,\n",
       " <a class=\"external text\" href=\"https://translate.google.com/translate?js=n&amp;prev=_t&amp;hl=hr&amp;ie=UTF-8&amp;layout=2&amp;eotf=1&amp;sl=hr&amp;tl=en&amp;u=http%3A%2F%2Fwww.sarajevo-x.com%2Fbiznis%2Fnews%2Fclanak%2F110719094%23\" rel=\"nofollow\">machine translation</a>,\n",
       " <a class=\"external text\" href=\"https://web.archive.org/web/20150403213409/http://translate.google.com/translate?js=n&amp;prev=_t&amp;hl=hr&amp;ie=UTF-8&amp;layout=2&amp;eotf=1&amp;sl=hr&amp;tl=en&amp;u=http%3A%2F%2Fwww.sarajevo-x.com%2Fbiznis%2Fnews%2Fclanak%2F110719094%23\" rel=\"nofollow\">Archived</a>,\n",
       " <a href=\"/wiki/Wayback_Machine\" title=\"Wayback Machine\">Wayback Machine</a>,\n",
       " <a class=\"external free\" href=\"https://www.rd.com/list/countries-banned-mcdonalds/\" rel=\"nofollow\">https://www.rd.com/list/countries-banned-mcdonalds/</a>,\n",
       " <a href=\"/wiki/Category:CS1_maint:_archived_copy_as_title\" title=\"Category:CS1 maint: archived copy as title\">link</a>,\n",
       " <a href=\"/w/index.php?title=List_of_countries_with_McDonald%27s_restaurants&amp;action=edit&amp;section=5\" title=\"Edit section: External links\">edit</a>,\n",
       " <a class=\"wbc-editpage\" href=\"https://www.wikidata.org/wiki/Special:EntityPage/Q6614053#sitelinks-wikipedia\" title=\"Edit interlanguage links\">Edit links</a>]"
      ]
     },
     "execution_count": 3,
     "metadata": {},
     "output_type": "execute_result"
    }
   ],
   "source": [
    "a = soup.select(\"span > a\")\n",
    "#mw-content-text > div.mw-parser-output > table:nth-child(7) > tbody > tr:nth-child(18) > td:nth-child(2) > a\n",
    "a"
   ]
  },
  {
   "cell_type": "code",
   "execution_count": 11,
   "metadata": {
    "ExecuteTime": {
     "end_time": "2021-02-15T10:39:42.141608Z",
     "start_time": "2021-02-15T10:39:42.101063Z"
    }
   },
   "outputs": [
    {
     "data": {
      "text/plain": [
       "'United States'"
      ]
     },
     "execution_count": 11,
     "metadata": {},
     "output_type": "execute_result"
    }
   ],
   "source": [
    "country_sort = soup.select(\"span.flagicon + a\")\n",
    "\n",
    "\n",
    "\n",
    "country_sort[0][\"title\"]\n",
    "\n"
   ]
  },
  {
   "cell_type": "code",
   "execution_count": null,
   "metadata": {
    "ExecuteTime": {
     "end_time": "2021-02-15T10:39:14.079313Z",
     "start_time": "2021-02-15T10:39:14.066915Z"
    }
   },
   "outputs": [],
   "source": []
  },
  {
   "cell_type": "code",
   "execution_count": 12,
   "metadata": {
    "ExecuteTime": {
     "end_time": "2021-02-15T10:39:54.914713Z",
     "start_time": "2021-02-15T10:39:54.911697Z"
    }
   },
   "outputs": [],
   "source": [
    "names = []\n",
    "for name in country_sort:\n",
    "    names.append(name.get_text(\"span.flagicon + a\"))\n"
   ]
  },
  {
   "cell_type": "code",
   "execution_count": 34,
   "metadata": {
    "ExecuteTime": {
     "end_time": "2021-02-15T10:46:42.778116Z",
     "start_time": "2021-02-15T10:46:42.707546Z"
    }
   },
   "outputs": [
    {
     "data": {
      "text/plain": [
       "[<td class=\"navbox-list navbox-odd\" style=\"text-align:left;border-left-width:2px;border-left-style:solid;width:100%;padding:0px\"><div style=\"padding:0em 0.25em\">\n",
       " <ul><li><a href=\"/wiki/Big_Mac\" title=\"Big Mac\">Big Mac</a></li>\n",
       " <li><a href=\"/wiki/Big_N%27_Tasty\" title=\"Big N' Tasty\">Big N' Tasty</a></li>\n",
       " <li><a href=\"/wiki/McDonald%27s_Deluxe_line\" title=\"McDonald's Deluxe line\">Deluxe line</a></li>\n",
       " <li><a href=\"/wiki/Kiwiburger\" title=\"Kiwiburger\">Kiwiburger</a></li>\n",
       " <li><a href=\"/wiki/Quarter_Pounder\" title=\"Quarter Pounder\">Quarter Pounder (McRoyal)</a></li>\n",
       " <li><a href=\"/wiki/McDouble\" title=\"McDouble\">McDouble</a></li></ul>\n",
       " </div></td>,\n",
       " <td class=\"navbox-list navbox-even\" style=\"text-align:left;border-left-width:2px;border-left-style:solid;width:100%;padding:0px\"><div style=\"padding:0em 0.25em\">\n",
       " <ul><li><a href=\"/wiki/Chicken_McNuggets\" title=\"Chicken McNuggets\">Chicken McNuggets</a></li>\n",
       " <li><a href=\"/wiki/Buttermilk_Crispy_Tenders\" title=\"Buttermilk Crispy Tenders\">Buttermilk Crispy Tenders</a></li>\n",
       " <li><a href=\"/wiki/McChicken\" title=\"McChicken\">McChicken</a></li>\n",
       " <li><a href=\"/wiki/Snack_Wrap\" title=\"Snack Wrap\">Snack Wrap</a></li></ul>\n",
       " </div></td>,\n",
       " <td class=\"navbox-list navbox-odd\" style=\"text-align:left;border-left-width:2px;border-left-style:solid;width:100%;padding:0px\"><div style=\"padding:0em 0.25em\">\n",
       " <ul><li><a href=\"/wiki/List_of_McDonald%27s_products#Deli_Choices\" title=\"List of McDonald's products\">Deli Choices</a></li>\n",
       " <li><a href=\"/wiki/Filet-O-Fish\" title=\"Filet-O-Fish\">Filet-O-Fish</a></li>\n",
       " <li><a href=\"/wiki/Georgie_Pie\" title=\"Georgie Pie\">Georgie Pie</a></li>\n",
       " <li><a href=\"/wiki/Happy_Meal\" title=\"Happy Meal\">Happy Meal</a></li>\n",
       " <li><a href=\"/wiki/McArabia\" title=\"McArabia\">McArabia</a></li>\n",
       " <li><a href=\"/wiki/McFlurry\" title=\"McFlurry\">McFlurry</a></li>\n",
       " <li><a href=\"/wiki/McGriddles\" title=\"McGriddles\">McGriddles</a></li>\n",
       " <li><a href=\"/wiki/McMuffin\" title=\"McMuffin\">McMuffin</a></li>\n",
       " <li><a class=\"mw-redirect\" href=\"/wiki/McPlant\" title=\"McPlant\">McPlant</a></li>\n",
       " <li><a href=\"/wiki/McRib\" title=\"McRib\">McRib</a></li>\n",
       " <li><a href=\"/wiki/McVeggie\" title=\"McVeggie\">McVeggie</a></li>\n",
       " <li><a href=\"/wiki/McDonald%27s_Premium_line\" title=\"McDonald's Premium line\">Premium line</a></li>\n",
       " <li><a href=\"/wiki/Shamrock_Shake\" title=\"Shamrock Shake\">Shamrock Shake</a></li></ul>\n",
       " </div></td>,\n",
       " <td class=\"navbox-list navbox-even\" style=\"text-align:left;border-left-width:2px;border-left-style:solid;width:100%;padding:0px\"><div style=\"padding:0em 0.25em\">\n",
       " <ul><li><a href=\"/wiki/Arch_Deluxe\" title=\"Arch Deluxe\">Arch Deluxe</a></li>\n",
       " <li><a class=\"mw-redirect\" href=\"/wiki/McDonald%27s_Fruit_and_Walnut_Salad\" title=\"McDonald's Fruit and Walnut Salad\">Fruit and Walnut Salad</a></li>\n",
       " <li><a href=\"/wiki/McAfrika\" title=\"McAfrika\">McAfrika</a></li>\n",
       " <li><a class=\"mw-redirect\" href=\"/wiki/McLean_Deluxe\" title=\"McLean Deluxe\">McLean Deluxe</a></li></ul>\n",
       " </div></td>,\n",
       " <td class=\"navbox-list navbox-odd\" style=\"text-align:left;border-left-width:2px;border-left-style:solid;width:100%;padding:0px\"><div style=\"padding:0em 0.25em\">\n",
       " <ul><li><a href=\"/wiki/Changeables\" title=\"Changeables\">Changeables</a></li>\n",
       " <li><i><a href=\"/wiki/Global_Gladiators\" title=\"Global Gladiators\">Global Gladiators</a></i></li>\n",
       " <li><a href=\"/wiki/Golden_Arches\" title=\"Golden Arches\">Golden Arches</a></li>\n",
       " <li><a href=\"/wiki/Mac_Tonight\" title=\"Mac Tonight\">Mac Tonight</a></li>\n",
       " <li><a href=\"/wiki/McDonaldland\" title=\"McDonaldland\">McDonaldland</a></li>\n",
       " <li><a href=\"/wiki/McDonald%27s_Monopoly\" title=\"McDonald's Monopoly\">McDonald's Monopoly</a></li>\n",
       " <li><i><a href=\"/wiki/McDonald%27s_Treasure_Land_Adventure\" title=\"McDonald's Treasure Land Adventure\">McDonald's Treasure Land Adventure</a></i></li>\n",
       " <li><i><a href=\"/wiki/M.C._Kids\" title=\"M.C. Kids\">M.C. Kids</a></i></li>\n",
       " <li><a href=\"/wiki/McKids\" title=\"McKids\">McKids</a></li>\n",
       " <li><a href=\"/wiki/Ronald_McDonald\" title=\"Ronald McDonald\">Ronald McDonald</a></li>\n",
       " <li><a href=\"/wiki/Teenie_Beanies\" title=\"Teenie Beanies\">Teenie Beanies</a></li>\n",
       " <li><i><a href=\"/wiki/The_Wacky_Adventures_of_Ronald_McDonald\" title=\"The Wacky Adventures of Ronald McDonald\">The Wacky Adventures of Ronald McDonald</a></i></li></ul>\n",
       " </div></td>,\n",
       " <td class=\"navbox-list navbox-even\" style=\"text-align:left;border-left-width:2px;border-left-style:solid;width:100%;padding:0px\"><div style=\"padding:0em 0.25em\">\n",
       " <ul><li><a href=\"/wiki/Bubba_Wallace\" title=\"Bubba Wallace\">Bubba Wallace</a> (<a href=\"/wiki/NASCAR\" title=\"NASCAR\">NASCAR</a>)</li>\n",
       " <li><a href=\"/wiki/Graham_Rahal\" title=\"Graham Rahal\">Graham Rahal</a> (<a href=\"/wiki/IndyCar_Series\" title=\"IndyCar Series\">IndyCar Series</a>)</li>\n",
       " <li><a href=\"/wiki/McDonald%27s_All-American_Game\" title=\"McDonald's All-American Game\">McDonald's All-American Game</a></li>\n",
       " <li><a href=\"/wiki/McDonald%27s_Championship\" title=\"McDonald's Championship\">McDonald's Championship</a></li>\n",
       " <li><a href=\"/wiki/McDonald%27s_Championship_(golf)\" title=\"McDonald's Championship (golf)\">McDonald's Championship (golf)</a></li>\n",
       " <li><a href=\"/wiki/McDonald%27s_Cycle_Center\" title=\"McDonald's Cycle Center\">McDonald's Cycle Center</a></li>\n",
       " <li><a href=\"/wiki/McDonald%27s_Gospelfest\" title=\"McDonald's Gospelfest\">McDonald's Gospelfest</a></li>\n",
       " <li><a href=\"/wiki/Uytengsu_Aquatics_Center\" title=\"Uytengsu Aquatics Center\">McDonald's Olympic Swim Stadium</a></li></ul>\n",
       " </div></td>,\n",
       " <td class=\"navbox-list navbox-odd\" style=\"text-align:left;border-left-width:2px;border-left-style:solid;width:100%;padding:0px\"><div style=\"padding:0em 0.25em\">\n",
       " <ul><li><a href=\"/wiki/Burger_wars\" title=\"Burger wars\">Burger wars</a></li>\n",
       " <li><i><a href=\"/wiki/Dreaming_in_Mono\" title=\"Dreaming in Mono\">Dreaming in Mono</a></i></li>\n",
       " <li><i><a href=\"/wiki/Donald_Land\" title=\"Donald Land\">Donald Land</a></i></li>\n",
       " <li><a href=\"/wiki/Fast_food_advertising\" title=\"Fast food advertising\">Fast food advertising</a></li>\n",
       " <li><i><a href=\"/wiki/Mac_and_Me\" title=\"Mac and Me\">Mac and Me</a></i> (1988 film)</li>\n",
       " <li><a href=\"/wiki/McDonald%27s_sign_(Pine_Bluff,_Arkansas)\" title=\"McDonald's sign (Pine Bluff, Arkansas)\">McDonald's sign (Pine Bluff, Arkansas)</a></li>\n",
       " <li><a href=\"/wiki/Supersize\" title=\"Supersize\">Supersize</a></li></ul>\n",
       " </div></td>,\n",
       " <td class=\"navbox-list navbox-even\" style=\"text-align:left;border-left-width:2px;border-left-style:solid;width:100%;padding:0px\"><div style=\"padding:0em 0.25em\">\n",
       " <ul><li><a href=\"/wiki/List_of_restaurants_in_Albuquerque,_New_Mexico\" title=\"List of restaurants in Albuquerque, New Mexico\">Albuquerque, New Mexico</a></li>\n",
       " <li><a href=\"/wiki/List_of_restaurants_in_Atlanta\" title=\"List of restaurants in Atlanta\">Atlanta</a></li>\n",
       " <li><a href=\"/wiki/List_of_restaurants_in_Baltimore\" title=\"List of restaurants in Baltimore\">Baltimore</a></li>\n",
       " <li><a href=\"/wiki/List_of_restaurants_in_Boston\" title=\"List of restaurants in Boston\">Boston</a></li>\n",
       " <li><a href=\"/wiki/List_of_restaurants_in_Cambridge,_Massachusetts\" title=\"List of restaurants in Cambridge, Massachusetts\">Cambridge, Massachusetts</a></li>\n",
       " <li><a href=\"/wiki/List_of_restaurants_in_Cincinnati\" title=\"List of restaurants in Cincinnati\">Cincinnati</a></li>\n",
       " <li><a href=\"/wiki/List_of_restaurants_in_Houston\" title=\"List of restaurants in Houston\">Houston</a></li>\n",
       " <li><a href=\"/wiki/List_of_restaurants_in_the_Las_Vegas_Valley\" title=\"List of restaurants in the Las Vegas Valley\">Las Vegas Valley</a></li>\n",
       " <li><a href=\"/wiki/List_of_restaurants_in_New_York_City\" title=\"List of restaurants in New York City\">New York City</a></li>\n",
       " <li><a href=\"/wiki/List_of_restaurants_in_Portland,_Oregon\" title=\"List of restaurants in Portland, Oregon\">Portland, Oregon</a></li>\n",
       " <li><a href=\"/wiki/List_of_restaurants_in_Seattle\" title=\"List of restaurants in Seattle\">Seattle</a></li></ul>\n",
       " </div></td>,\n",
       " <td class=\"navbox-list navbox-even\" style=\"text-align:left;border-left-width:2px;border-left-style:solid;width:100%;padding:0px\"><div style=\"padding:0em 0.25em\">\n",
       " <ul><li><a href=\"/wiki/List_of_Michelin_3-star_restaurants\" title=\"List of Michelin 3-star restaurants\">3-star restaurants</a>\n",
       " <ul><li><a href=\"/wiki/List_of_restaurants_in_Tokyo#Michelin_3-starred_restaurants\" title=\"List of restaurants in Tokyo\">Tokyo</a></li>\n",
       " <li><a href=\"/wiki/List_of_Michelin_3-star_restaurants_in_the_United_Kingdom\" title=\"List of Michelin 3-star restaurants in the United Kingdom\">United Kingdom</a></li></ul></li>\n",
       " <li>By Location\n",
       " <ul><li><a href=\"/wiki/List_of_Michelin_starred_restaurants_in_Beijing\" title=\"List of Michelin starred restaurants in Beijing\">Beijing</a></li>\n",
       " <li><a href=\"/wiki/List_of_Michelin_starred_restaurants_in_Chicago\" title=\"List of Michelin starred restaurants in Chicago\">Chicago</a></li>\n",
       " <li><a href=\"/wiki/List_of_Michelin_starred_restaurants_in_Guangzhou\" title=\"List of Michelin starred restaurants in Guangzhou\">Guangzhou</a></li>\n",
       " <li><a href=\"/wiki/List_of_Michelin_starred_restaurants_in_Hong_Kong_and_Macau\" title=\"List of Michelin starred restaurants in Hong Kong and Macau\"> Hong Kong and Macau</a></li>\n",
       " <li><a href=\"/wiki/List_of_Michelin_starred_restaurants_in_Ireland\" title=\"List of Michelin starred restaurants in Ireland\">Ireland</a></li>\n",
       " <li><a class=\"mw-redirect\" href=\"/wiki/List_of_Michelin_starred_restaurants_in_Los_Angeles\" title=\"List of Michelin starred restaurants in Los Angeles\">Los Angeles</a></li>\n",
       " <li><a href=\"/wiki/List_of_Michelin_starred_restaurants_in_the_Netherlands\" title=\"List of Michelin starred restaurants in the Netherlands\">Netherlands</a></li>\n",
       " <li><a href=\"/wiki/List_of_Michelin_starred_restaurants_in_New_York_City\" title=\"List of Michelin starred restaurants in New York City\">New York City</a></li>\n",
       " <li><a href=\"/wiki/List_of_Michelin_starred_restaurants_in_Portugal\" title=\"List of Michelin starred restaurants in Portugal\">Portugal</a></li>\n",
       " <li><a class=\"mw-redirect\" href=\"/wiki/List_of_Michelin_starred_restaurants_in_the_San_Francisco_Bay_Area\" title=\"List of Michelin starred restaurants in the San Francisco Bay Area\">San Francisco</a></li>\n",
       " <li><a href=\"/wiki/List_of_Michelin_starred_restaurants_in_Scotland\" title=\"List of Michelin starred restaurants in Scotland\">Scotland</a></li>\n",
       " <li><a href=\"/wiki/List_of_Michelin_starred_restaurants_in_Shanghai\" title=\"List of Michelin starred restaurants in Shanghai\">Shanghai</a></li>\n",
       " <li><a href=\"/wiki/List_of_Michelin_starred_restaurants_in_Singapore\" title=\"List of Michelin starred restaurants in Singapore\">Singapore</a></li>\n",
       " <li><a href=\"/wiki/List_of_Michelin_starred_restaurants_in_Taipei\" title=\"List of Michelin starred restaurants in Taipei\">Taipei</a></li>\n",
       " <li><a href=\"/wiki/List_of_Michelin_starred_restaurants_in_Washington,_D.C.\" title=\"List of Michelin starred restaurants in Washington, D.C.\">Washington, D.C.</a></li></ul></li></ul>\n",
       " </div></td>]"
      ]
     },
     "execution_count": 34,
     "metadata": {},
     "output_type": "execute_result"
    }
   ],
   "source": [
    "number = soup.select(\"tbody tr td td\")\n",
    "#mw-content-text > div.mw-parser-output > table:nth-child(7) > tbody > tr:nth-child(1) > td:nth-child(5)\n",
    "#cite_ref-auto1_7-1\n",
    "\n",
    "number"
   ]
  },
  {
   "cell_type": "code",
   "execution_count": null,
   "metadata": {},
   "outputs": [],
   "source": []
  }
 ],
 "metadata": {
  "kernelspec": {
   "display_name": "Ironhack",
   "language": "python",
   "name": "ironhack"
  },
  "language_info": {
   "codemirror_mode": {
    "name": "ipython",
    "version": 3
   },
   "file_extension": ".py",
   "mimetype": "text/x-python",
   "name": "python",
   "nbconvert_exporter": "python",
   "pygments_lexer": "ipython3",
   "version": "3.9.1"
  }
 },
 "nbformat": 4,
 "nbformat_minor": 4
}
